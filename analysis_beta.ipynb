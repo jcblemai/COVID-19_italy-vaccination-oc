{
 "cells": [
  {
   "cell_type": "code",
   "execution_count": 5,
   "metadata": {
    "execution": {
     "iopub.execute_input": "2021-01-31T10:09:12.543484Z",
     "iopub.status.busy": "2021-01-31T10:09:12.543257Z",
     "iopub.status.idle": "2021-01-31T10:09:12.716026Z",
     "shell.execute_reply": "2021-01-31T10:09:12.715417Z",
     "shell.execute_reply.started": "2021-01-31T10:09:12.543458Z"
    }
   },
   "outputs": [
    {
     "name": "stdout",
     "output_type": "stream",
     "text": [
      "Loaded Italy Setup with 107 nodes.\n"
     ]
    }
   ],
   "source": [
    "import copy\n",
    "import matplotlib as mpl\n",
    "import matplotlib.pyplot as plt\n",
    "import numpy as np\n",
    "import pandas as pd\n",
    "import networkx\n",
    "from ItalySetup import ItalySetup\n",
    "from covidOCP import COVIDVaccinationOCP, COVIDParametersOCP\n",
    "from main import pick_scenario, build_scenario\n",
    "import seaborn as sns\n",
    "import datetime\n",
    "import pickle, scipy\n",
    "import tqdm\n",
    "\n",
    "nx = 9\n",
    "states_names = ['S', 'E', 'P', 'I', 'A', 'Q', 'H', 'R', 'V']\n",
    "when = 'future'\n",
    "n_int_steps = 6\n",
    "ocp = None\n",
    "\n",
    "baseline = None\n",
    "\n",
    "n_int_steps = 6\n",
    "nnodes = 107  # nodes\n",
    "ndays = 90\n",
    "\n",
    "setup = ItalySetup(nnodes, ndays, when)\n",
    "M = setup.nnodes\n",
    "N = setup.ndays - 1\n",
    "\n",
    "outdir = 'model_output/'\n",
    "prefix = 'beta-analysis'\n"
   ]
  },
  {
   "cell_type": "markdown",
   "metadata": {},
   "source": [
    "## Help build the scenarios by iterating over posterior realization and beta modifiers (and also compare with matlab)"
   ]
  },
  {
   "cell_type": "code",
   "execution_count": 177,
   "metadata": {
    "execution": {
     "iopub.execute_input": "2021-01-30T15:10:37.710108Z",
     "iopub.status.busy": "2021-01-30T15:10:37.709883Z",
     "iopub.status.idle": "2021-01-30T15:11:22.742063Z",
     "shell.execute_reply": "2021-01-30T15:11:22.741282Z",
     "shell.execute_reply.started": "2021-01-30T15:10:37.710082Z"
    }
   },
   "outputs": [
    {
     "name": "stderr",
     "output_type": "stream",
     "text": [
      "  1%|▏         | 2/139 [00:00<00:07, 19.12it/s]"
     ]
    },
    {
     "name": "stdout",
     "output_type": "stream",
     "text": [
      "nnz before: 4088, after: 528\n",
      "===> Integrating for model_output/beta-analysis-int-107_140-nc\n"
     ]
    },
    {
     "name": "stderr",
     "output_type": "stream",
     "text": [
      "100%|██████████| 139/139 [00:06<00:00, 20.45it/s]\n",
      "  2%|▏         | 3/139 [00:00<00:06, 19.58it/s]"
     ]
    },
    {
     "name": "stdout",
     "output_type": "stream",
     "text": [
      "nnz before: 4088, after: 528\n",
      "===> Integrating for model_output/beta-analysis-int-107_140-nc\n"
     ]
    },
    {
     "name": "stderr",
     "output_type": "stream",
     "text": [
      "100%|██████████| 139/139 [00:06<00:00, 20.21it/s]\n"
     ]
    }
   ],
   "source": [
    "\n",
    "courses = {}\n",
    "course = scipy.interpolate.interp1d([0, 50, 100, 1000], [1.2,.55, 1.05, 1], kind='linear')\n",
    "courses['U'] = course(np.arange(0, setup.ndays))\n",
    "#course = scipy.interpolate.interp1d([0, 50, 100, 1000],[1, 1, 1, 1], kind='linear')# [.85, .85, .75, .85], kind='linear')  #([.75, .85, .75, .75])\n",
    "#courses['C'] = course(np.arange(0, setup.ndays))\n",
    "course = scipy.interpolate.interp1d([0, 50, 100, 1000], [.65, .8, .35, .75], kind='linear')\n",
    "courses['L'] = course(np.arange(0, setup.ndays))\n",
    "\n",
    "cbs = ['U',  'L']\n",
    "postdraws = [65]\n",
    "all_res = {}\n",
    "for cb in cbs:\n",
    "    for postdraw in postdraws:\n",
    "        real_course = np.ones((setup.nnodes, setup.ndays)) * courses[cb]\n",
    "        p = COVIDParametersOCP.OCParameters(setup=setup, M=M, when=when, posterior_draw = postdraw)\n",
    "        p.apply_epicourse(setup, real_course)\n",
    "#    plt.figure()\n",
    "#    plt.plot(real_course[0,:])\n",
    "\n",
    "        control_initial = np.zeros((M, N))\n",
    "\n",
    "        results, state_initial, yell, mob = COVIDVaccinationOCP.integrate(N,\n",
    "                                                                      setup=setup,\n",
    "                                                                      parameters=p,\n",
    "                                                                      controls=control_initial,\n",
    "                                                                      save_to=f'{outdir}{prefix}-int-{nnodes}_{ndays}-nc',\n",
    "                                                                      method='rk4',\n",
    "                                                                      n_rk4_steps=n_int_steps)\n",
    "        all_res[f'{postdraw}{cb}'] = results[results['comp']=='I'].pivot(values = 'value', columns = 'place', index = 'date')\n",
    "     "
   ]
  },
  {
   "cell_type": "code",
   "execution_count": null,
   "metadata": {},
   "outputs": [],
   "source": [
    "fig, ax = plt.subplots(1,1, figsize = (10,5), sharex=True, facecolor = 'white')#, sharey=True)\n",
    "import seaborn as sns\n",
    "\n",
    "for cb in ['U','L']:#cbs):\n",
    "    for postdraw in postdraws:\n",
    "        ax.plot(all_res[f'{postdraw}{cb}'].sum(axis=1), linestyle='-', lw = 2, label = f'{postdraw}{cb}',c = colors[postdraw])\n",
    "\n",
    "    ax.set_ylim(0);\n",
    "fig.autofmt_xdate()\n",
    "fig.tight_layout()\n",
    "fig.legend()"
   ]
  },
  {
   "cell_type": "code",
   "execution_count": 145,
   "metadata": {
    "execution": {
     "iopub.execute_input": "2021-01-30T11:36:48.858161Z",
     "iopub.status.busy": "2021-01-30T11:36:48.857926Z",
     "iopub.status.idle": "2021-01-30T11:36:48.862352Z",
     "shell.execute_reply": "2021-01-30T11:36:48.861702Z",
     "shell.execute_reply.started": "2021-01-30T11:36:48.858134Z"
    }
   },
   "outputs": [
    {
     "data": {
      "text/plain": [
       "[34, 96]"
      ]
     },
     "execution_count": 145,
     "metadata": {},
     "output_type": "execute_result"
    }
   ],
   "source": [
    "colors = {34:'r', 92:'b', 96:'g', 65:'orange'}"
   ]
  },
  {
   "cell_type": "code",
   "execution_count": 155,
   "metadata": {
    "execution": {
     "iopub.execute_input": "2021-01-30T12:49:59.606512Z",
     "iopub.status.busy": "2021-01-30T12:49:59.606309Z",
     "iopub.status.idle": "2021-01-30T12:49:59.610289Z",
     "shell.execute_reply": "2021-01-30T12:49:59.609478Z",
     "shell.execute_reply.started": "2021-01-30T12:49:59.606474Z"
    }
   },
   "outputs": [],
   "source": [
    "fig, axes = plt.subplots(1,2, figsize = (15,20), sharey=True, facecolor = 'white')#, sharey=True)\n",
    "import seaborn as sns\n",
    "\n",
    "for i, cb in enumerate(['U','C','L']):#cbs):\n",
    "    for j, postdraw in enumerate(postdraws):\n",
    "        axes.flat[i].scatter(\n",
    "                   all_res[f'{postdraw}{cb}'].iloc[-1] - all_res[f'{postdraw}{cb}'].iloc[0], \n",
    "            all_res[f'{postdraw}{cb}'].columns,\n",
    "                marker = 'o',\n",
    "                label = f'{postdraw}{cb}',\n",
    "               #c = colors[postdraw],\n",
    "                   #alpha = .5\n",
    "                  )\n",
    "        axes.flat[i].set_xlim(-1500,1500)\n",
    "        axes.flat[i].legend()\n",
    "        axes.flat[i].grid(True)\n",
    "\n",
    "#plt.xticks( rotation='vertical')\n",
    "#ax.set_yscale('log')\n",
    "#fig.autofmt_xdate()\n",
    "fig.legend();\n",
    "\n"
   ]
  },
  {
   "cell_type": "code",
   "execution_count": null,
   "metadata": {},
   "outputs": [],
   "source": [
    "fig, axes = plt.subplots(11,10, figsize = (20,25), sharex=True, facecolor = 'white')#, sharey=True)\n",
    "import seaborn as sns\n",
    "for k, nname in enumerate(setup.ind2name):\n",
    "    for cb in ['U','C','L']:#cbs):\n",
    "        for postdraw in postdraws:\n",
    "            axes.flat[k].plot(all_res[f'{postdraw}{cb}'][nname]/setup.pop_node[k], linestyle='-', lw = 2, c = colors[postdraw])\n",
    "    #axes.flat[k].plot(p.matlab_model_days, p.matlab_initial[k,:,3], linestyle='-', lw = 1, color='k')\n",
    "\n",
    "    axes.flat[k].set_title(nname);\n",
    "    axes.flat[k].set_ylim(0);\n",
    "fig.autofmt_xdate()\n",
    "fig.tight_layout()"
   ]
  },
  {
   "cell_type": "code",
   "execution_count": null,
   "metadata": {},
   "outputs": [],
   "source": []
  },
  {
   "cell_type": "code",
   "execution_count": null,
   "metadata": {},
   "outputs": [],
   "source": []
  },
  {
   "cell_type": "code",
   "execution_count": null,
   "metadata": {},
   "outputs": [],
   "source": []
  },
  {
   "cell_type": "code",
   "execution_count": null,
   "metadata": {},
   "outputs": [],
   "source": []
  },
  {
   "cell_type": "code",
   "execution_count": null,
   "metadata": {},
   "outputs": [],
   "source": []
  },
  {
   "cell_type": "code",
   "execution_count": null,
   "metadata": {},
   "outputs": [],
   "source": []
  },
  {
   "cell_type": "code",
   "execution_count": 9,
   "metadata": {
    "execution": {
     "iopub.execute_input": "2021-01-30T15:35:53.976319Z",
     "iopub.status.busy": "2021-01-30T15:35:53.976092Z",
     "iopub.status.idle": "2021-01-30T15:35:53.981227Z",
     "shell.execute_reply": "2021-01-30T15:35:53.980641Z",
     "shell.execute_reply.started": "2021-01-30T15:35:53.976292Z"
    }
   },
   "outputs": [
    {
     "data": {
      "text/plain": [
       "{'name': 'L-r15-t125000-id1',\n",
       " 'newdoseperweek': 125000,\n",
       " 'rate_fomula': '(0.008283696183248878*pop_nd)',\n",
       " 'beta_mult': array([[0.65 , 0.653, 0.656, ..., 0.467, 0.458, 0.449],\n",
       "        [0.65 , 0.653, 0.656, ..., 0.467, 0.458, 0.449],\n",
       "        [0.65 , 0.653, 0.656, ..., 0.467, 0.458, 0.449],\n",
       "        ...,\n",
       "        [0.65 , 0.653, 0.656, ..., 0.467, 0.458, 0.449],\n",
       "        [0.65 , 0.653, 0.656, ..., 0.467, 0.458, 0.449],\n",
       "        [0.65 , 0.653, 0.656, ..., 0.467, 0.458, 0.449]])}"
      ]
     },
     "execution_count": 9,
     "metadata": {},
     "output_type": "execute_result"
    }
   ],
   "source": [
    "pick_scenario(setup=setup, scn_id=1)"
   ]
  },
  {
   "cell_type": "markdown",
   "metadata": {
    "execution": {
     "iopub.execute_input": "2020-12-22T18:45:38.739032Z",
     "iopub.status.busy": "2020-12-22T18:45:38.738799Z",
     "iopub.status.idle": "2020-12-22T18:45:38.741574Z",
     "shell.execute_reply": "2020-12-22T18:45:38.740900Z",
     "shell.execute_reply.started": "2020-12-22T18:45:38.739004Z"
    }
   },
   "source": [
    "# Compare scenarios in a paper figure"
   ]
  },
  {
   "cell_type": "code",
   "execution_count": 12,
   "metadata": {
    "execution": {
     "iopub.execute_input": "2021-01-31T08:53:16.617923Z",
     "iopub.status.busy": "2021-01-31T08:53:16.617698Z",
     "iopub.status.idle": "2021-01-31T09:06:24.310292Z",
     "shell.execute_reply": "2021-01-31T09:06:24.309307Z",
     "shell.execute_reply.started": "2021-01-31T08:53:16.617897Z"
    },
    "scrolled": true
   },
   "outputs": [
    {
     "name": "stderr",
     "output_type": "stream",
     "text": [
      "  1%|          | 1/100 [00:07<12:10,  7.38s/it]"
     ]
    },
    {
     "name": "stdout",
     "output_type": "stream",
     "text": [
      "nnz before: 4088, after: 528\n"
     ]
    },
    {
     "name": "stderr",
     "output_type": "stream",
     "text": [
      "  2%|▏         | 2/100 [00:14<12:08,  7.43s/it]"
     ]
    },
    {
     "name": "stdout",
     "output_type": "stream",
     "text": [
      "nnz before: 4088, after: 528\n"
     ]
    },
    {
     "name": "stderr",
     "output_type": "stream",
     "text": [
      "  3%|▎         | 3/100 [00:22<11:58,  7.41s/it]"
     ]
    },
    {
     "name": "stdout",
     "output_type": "stream",
     "text": [
      "nnz before: 4088, after: 528\n"
     ]
    },
    {
     "name": "stderr",
     "output_type": "stream",
     "text": [
      "  4%|▍         | 4/100 [00:29<11:58,  7.48s/it]"
     ]
    },
    {
     "name": "stdout",
     "output_type": "stream",
     "text": [
      "nnz before: 4088, after: 528\n"
     ]
    },
    {
     "name": "stderr",
     "output_type": "stream",
     "text": [
      "  5%|▌         | 5/100 [00:37<11:58,  7.56s/it]"
     ]
    },
    {
     "name": "stdout",
     "output_type": "stream",
     "text": [
      "nnz before: 4088, after: 528\n"
     ]
    },
    {
     "name": "stderr",
     "output_type": "stream",
     "text": [
      "  6%|▌         | 6/100 [00:45<11:55,  7.61s/it]"
     ]
    },
    {
     "name": "stdout",
     "output_type": "stream",
     "text": [
      "nnz before: 4088, after: 528\n"
     ]
    },
    {
     "name": "stderr",
     "output_type": "stream",
     "text": [
      "  7%|▋         | 7/100 [00:52<11:46,  7.59s/it]"
     ]
    },
    {
     "name": "stdout",
     "output_type": "stream",
     "text": [
      "nnz before: 4088, after: 528\n"
     ]
    },
    {
     "name": "stderr",
     "output_type": "stream",
     "text": [
      "  8%|▊         | 8/100 [01:00<11:40,  7.61s/it]"
     ]
    },
    {
     "name": "stdout",
     "output_type": "stream",
     "text": [
      "nnz before: 4088, after: 528\n"
     ]
    },
    {
     "name": "stderr",
     "output_type": "stream",
     "text": [
      "  9%|▉         | 9/100 [01:08<11:44,  7.75s/it]"
     ]
    },
    {
     "name": "stdout",
     "output_type": "stream",
     "text": [
      "nnz before: 4088, after: 528\n"
     ]
    },
    {
     "name": "stderr",
     "output_type": "stream",
     "text": [
      " 10%|█         | 10/100 [01:16<11:36,  7.74s/it]"
     ]
    },
    {
     "name": "stdout",
     "output_type": "stream",
     "text": [
      "nnz before: 4088, after: 528\n"
     ]
    },
    {
     "name": "stderr",
     "output_type": "stream",
     "text": [
      " 11%|█         | 11/100 [01:24<11:28,  7.74s/it]"
     ]
    },
    {
     "name": "stdout",
     "output_type": "stream",
     "text": [
      "nnz before: 4088, after: 528\n"
     ]
    },
    {
     "name": "stderr",
     "output_type": "stream",
     "text": [
      " 12%|█▏        | 12/100 [01:32<11:25,  7.79s/it]"
     ]
    },
    {
     "name": "stdout",
     "output_type": "stream",
     "text": [
      "nnz before: 4088, after: 528\n"
     ]
    },
    {
     "name": "stderr",
     "output_type": "stream",
     "text": [
      " 13%|█▎        | 13/100 [01:39<11:16,  7.77s/it]"
     ]
    },
    {
     "name": "stdout",
     "output_type": "stream",
     "text": [
      "nnz before: 4088, after: 528\n"
     ]
    },
    {
     "name": "stderr",
     "output_type": "stream",
     "text": [
      " 14%|█▍        | 14/100 [01:47<10:58,  7.66s/it]"
     ]
    },
    {
     "name": "stdout",
     "output_type": "stream",
     "text": [
      "nnz before: 4088, after: 528\n"
     ]
    },
    {
     "name": "stderr",
     "output_type": "stream",
     "text": [
      " 15%|█▌        | 15/100 [01:54<10:42,  7.56s/it]"
     ]
    },
    {
     "name": "stdout",
     "output_type": "stream",
     "text": [
      "nnz before: 4088, after: 528\n"
     ]
    },
    {
     "name": "stderr",
     "output_type": "stream",
     "text": [
      " 16%|█▌        | 16/100 [02:02<10:34,  7.56s/it]"
     ]
    },
    {
     "name": "stdout",
     "output_type": "stream",
     "text": [
      "nnz before: 4088, after: 528\n"
     ]
    },
    {
     "name": "stderr",
     "output_type": "stream",
     "text": [
      " 17%|█▋        | 17/100 [02:09<10:32,  7.63s/it]"
     ]
    },
    {
     "name": "stdout",
     "output_type": "stream",
     "text": [
      "nnz before: 4088, after: 528\n"
     ]
    },
    {
     "name": "stderr",
     "output_type": "stream",
     "text": [
      " 18%|█▊        | 18/100 [02:17<10:20,  7.57s/it]"
     ]
    },
    {
     "name": "stdout",
     "output_type": "stream",
     "text": [
      "nnz before: 4088, after: 528\n"
     ]
    },
    {
     "name": "stderr",
     "output_type": "stream",
     "text": [
      " 19%|█▉        | 19/100 [02:25<10:17,  7.62s/it]"
     ]
    },
    {
     "name": "stdout",
     "output_type": "stream",
     "text": [
      "nnz before: 4088, after: 528\n"
     ]
    },
    {
     "name": "stderr",
     "output_type": "stream",
     "text": [
      " 20%|██        | 20/100 [02:32<10:13,  7.67s/it]"
     ]
    },
    {
     "name": "stdout",
     "output_type": "stream",
     "text": [
      "nnz before: 4088, after: 528\n"
     ]
    },
    {
     "name": "stderr",
     "output_type": "stream",
     "text": [
      " 21%|██        | 21/100 [02:40<10:08,  7.71s/it]"
     ]
    },
    {
     "name": "stdout",
     "output_type": "stream",
     "text": [
      "nnz before: 4088, after: 528\n"
     ]
    },
    {
     "name": "stderr",
     "output_type": "stream",
     "text": [
      " 22%|██▏       | 22/100 [02:48<10:03,  7.74s/it]"
     ]
    },
    {
     "name": "stdout",
     "output_type": "stream",
     "text": [
      "nnz before: 4088, after: 528\n"
     ]
    },
    {
     "name": "stderr",
     "output_type": "stream",
     "text": [
      " 23%|██▎       | 23/100 [02:56<09:55,  7.74s/it]"
     ]
    },
    {
     "name": "stdout",
     "output_type": "stream",
     "text": [
      "nnz before: 4088, after: 528\n"
     ]
    },
    {
     "name": "stderr",
     "output_type": "stream",
     "text": [
      " 24%|██▍       | 24/100 [03:03<09:47,  7.72s/it]"
     ]
    },
    {
     "name": "stdout",
     "output_type": "stream",
     "text": [
      "nnz before: 4088, after: 528\n"
     ]
    },
    {
     "name": "stderr",
     "output_type": "stream",
     "text": [
      " 25%|██▌       | 25/100 [03:11<09:40,  7.75s/it]"
     ]
    },
    {
     "name": "stdout",
     "output_type": "stream",
     "text": [
      "nnz before: 4088, after: 528\n"
     ]
    },
    {
     "name": "stderr",
     "output_type": "stream",
     "text": [
      " 26%|██▌       | 26/100 [03:19<09:32,  7.74s/it]"
     ]
    },
    {
     "name": "stdout",
     "output_type": "stream",
     "text": [
      "nnz before: 4088, after: 528\n"
     ]
    },
    {
     "name": "stderr",
     "output_type": "stream",
     "text": [
      " 27%|██▋       | 27/100 [03:27<09:28,  7.78s/it]"
     ]
    },
    {
     "name": "stdout",
     "output_type": "stream",
     "text": [
      "nnz before: 4088, after: 528\n"
     ]
    },
    {
     "name": "stderr",
     "output_type": "stream",
     "text": [
      " 28%|██▊       | 28/100 [03:35<09:25,  7.85s/it]"
     ]
    },
    {
     "name": "stdout",
     "output_type": "stream",
     "text": [
      "nnz before: 4088, after: 528\n"
     ]
    },
    {
     "name": "stderr",
     "output_type": "stream",
     "text": [
      " 29%|██▉       | 29/100 [03:43<09:15,  7.83s/it]"
     ]
    },
    {
     "name": "stdout",
     "output_type": "stream",
     "text": [
      "nnz before: 4088, after: 528\n"
     ]
    },
    {
     "name": "stderr",
     "output_type": "stream",
     "text": [
      " 30%|███       | 30/100 [03:50<09:07,  7.82s/it]"
     ]
    },
    {
     "name": "stdout",
     "output_type": "stream",
     "text": [
      "nnz before: 4088, after: 528\n"
     ]
    },
    {
     "name": "stderr",
     "output_type": "stream",
     "text": [
      " 31%|███       | 31/100 [03:58<09:02,  7.86s/it]"
     ]
    },
    {
     "name": "stdout",
     "output_type": "stream",
     "text": [
      "nnz before: 4088, after: 528\n"
     ]
    },
    {
     "name": "stderr",
     "output_type": "stream",
     "text": [
      " 32%|███▏      | 32/100 [04:06<08:58,  7.92s/it]"
     ]
    },
    {
     "name": "stdout",
     "output_type": "stream",
     "text": [
      "nnz before: 4088, after: 528\n"
     ]
    },
    {
     "name": "stderr",
     "output_type": "stream",
     "text": [
      " 33%|███▎      | 33/100 [04:14<08:51,  7.93s/it]"
     ]
    },
    {
     "name": "stdout",
     "output_type": "stream",
     "text": [
      "nnz before: 4088, after: 528\n"
     ]
    },
    {
     "name": "stderr",
     "output_type": "stream",
     "text": [
      " 34%|███▍      | 34/100 [04:22<08:43,  7.93s/it]"
     ]
    },
    {
     "name": "stdout",
     "output_type": "stream",
     "text": [
      "nnz before: 4088, after: 528\n"
     ]
    },
    {
     "name": "stderr",
     "output_type": "stream",
     "text": [
      " 35%|███▌      | 35/100 [04:30<08:34,  7.92s/it]"
     ]
    },
    {
     "name": "stdout",
     "output_type": "stream",
     "text": [
      "nnz before: 4088, after: 528\n"
     ]
    },
    {
     "name": "stderr",
     "output_type": "stream",
     "text": [
      " 36%|███▌      | 36/100 [04:38<08:32,  8.00s/it]"
     ]
    },
    {
     "name": "stdout",
     "output_type": "stream",
     "text": [
      "nnz before: 4088, after: 528\n"
     ]
    },
    {
     "name": "stderr",
     "output_type": "stream",
     "text": [
      " 37%|███▋      | 37/100 [04:47<08:27,  8.06s/it]"
     ]
    },
    {
     "name": "stdout",
     "output_type": "stream",
     "text": [
      "nnz before: 4088, after: 528\n"
     ]
    },
    {
     "name": "stderr",
     "output_type": "stream",
     "text": [
      " 38%|███▊      | 38/100 [04:55<08:21,  8.08s/it]"
     ]
    },
    {
     "name": "stdout",
     "output_type": "stream",
     "text": [
      "nnz before: 4088, after: 528\n"
     ]
    },
    {
     "name": "stderr",
     "output_type": "stream",
     "text": [
      " 39%|███▉      | 39/100 [05:03<08:15,  8.12s/it]"
     ]
    },
    {
     "name": "stdout",
     "output_type": "stream",
     "text": [
      "nnz before: 4088, after: 528\n"
     ]
    },
    {
     "name": "stderr",
     "output_type": "stream",
     "text": [
      " 40%|████      | 40/100 [05:11<08:11,  8.19s/it]"
     ]
    },
    {
     "name": "stdout",
     "output_type": "stream",
     "text": [
      "nnz before: 4088, after: 528\n"
     ]
    },
    {
     "name": "stderr",
     "output_type": "stream",
     "text": [
      " 41%|████      | 41/100 [05:20<08:06,  8.25s/it]"
     ]
    },
    {
     "name": "stdout",
     "output_type": "stream",
     "text": [
      "nnz before: 4088, after: 528\n"
     ]
    },
    {
     "name": "stderr",
     "output_type": "stream",
     "text": [
      " 42%|████▏     | 42/100 [05:28<08:00,  8.28s/it]"
     ]
    },
    {
     "name": "stdout",
     "output_type": "stream",
     "text": [
      "nnz before: 4088, after: 528\n"
     ]
    },
    {
     "name": "stderr",
     "output_type": "stream",
     "text": [
      " 43%|████▎     | 43/100 [05:36<07:54,  8.33s/it]"
     ]
    },
    {
     "name": "stdout",
     "output_type": "stream",
     "text": [
      "nnz before: 4088, after: 528\n"
     ]
    },
    {
     "name": "stderr",
     "output_type": "stream",
     "text": [
      " 44%|████▍     | 44/100 [05:45<07:44,  8.29s/it]"
     ]
    },
    {
     "name": "stdout",
     "output_type": "stream",
     "text": [
      "nnz before: 4088, after: 528\n"
     ]
    },
    {
     "name": "stderr",
     "output_type": "stream",
     "text": [
      " 45%|████▌     | 45/100 [05:53<07:29,  8.18s/it]"
     ]
    },
    {
     "name": "stdout",
     "output_type": "stream",
     "text": [
      "nnz before: 4088, after: 528\n"
     ]
    },
    {
     "name": "stderr",
     "output_type": "stream",
     "text": [
      " 46%|████▌     | 46/100 [06:00<07:15,  8.06s/it]"
     ]
    },
    {
     "name": "stdout",
     "output_type": "stream",
     "text": [
      "nnz before: 4088, after: 528\n"
     ]
    },
    {
     "name": "stderr",
     "output_type": "stream",
     "text": [
      " 47%|████▋     | 47/100 [06:08<06:59,  7.92s/it]"
     ]
    },
    {
     "name": "stdout",
     "output_type": "stream",
     "text": [
      "nnz before: 4088, after: 528\n"
     ]
    },
    {
     "name": "stderr",
     "output_type": "stream",
     "text": [
      " 48%|████▊     | 48/100 [06:15<06:45,  7.80s/it]"
     ]
    },
    {
     "name": "stdout",
     "output_type": "stream",
     "text": [
      "nnz before: 4088, after: 528\n"
     ]
    },
    {
     "name": "stderr",
     "output_type": "stream",
     "text": [
      " 49%|████▉     | 49/100 [06:23<06:37,  7.80s/it]"
     ]
    },
    {
     "name": "stdout",
     "output_type": "stream",
     "text": [
      "nnz before: 4088, after: 528\n"
     ]
    },
    {
     "name": "stderr",
     "output_type": "stream",
     "text": [
      " 50%|█████     | 50/100 [06:31<06:30,  7.80s/it]"
     ]
    },
    {
     "name": "stdout",
     "output_type": "stream",
     "text": [
      "nnz before: 4088, after: 528\n"
     ]
    },
    {
     "name": "stderr",
     "output_type": "stream",
     "text": [
      " 51%|█████     | 51/100 [06:39<06:23,  7.82s/it]"
     ]
    },
    {
     "name": "stdout",
     "output_type": "stream",
     "text": [
      "nnz before: 4088, after: 528\n"
     ]
    },
    {
     "name": "stderr",
     "output_type": "stream",
     "text": [
      " 52%|█████▏    | 52/100 [06:47<06:13,  7.78s/it]"
     ]
    },
    {
     "name": "stdout",
     "output_type": "stream",
     "text": [
      "nnz before: 4088, after: 528\n"
     ]
    },
    {
     "name": "stderr",
     "output_type": "stream",
     "text": [
      " 53%|█████▎    | 53/100 [06:54<06:06,  7.79s/it]"
     ]
    },
    {
     "name": "stdout",
     "output_type": "stream",
     "text": [
      "nnz before: 4088, after: 528\n"
     ]
    },
    {
     "name": "stderr",
     "output_type": "stream",
     "text": [
      " 54%|█████▍    | 54/100 [07:03<06:02,  7.89s/it]"
     ]
    },
    {
     "name": "stdout",
     "output_type": "stream",
     "text": [
      "nnz before: 4088, after: 528\n"
     ]
    },
    {
     "name": "stderr",
     "output_type": "stream",
     "text": [
      " 55%|█████▌    | 55/100 [07:11<06:03,  8.09s/it]"
     ]
    },
    {
     "name": "stdout",
     "output_type": "stream",
     "text": [
      "nnz before: 4088, after: 528\n"
     ]
    },
    {
     "name": "stderr",
     "output_type": "stream",
     "text": [
      " 56%|█████▌    | 56/100 [07:20<06:01,  8.21s/it]"
     ]
    },
    {
     "name": "stdout",
     "output_type": "stream",
     "text": [
      "nnz before: 4088, after: 528\n"
     ]
    },
    {
     "name": "stderr",
     "output_type": "stream",
     "text": [
      " 57%|█████▋    | 57/100 [07:28<05:52,  8.19s/it]"
     ]
    },
    {
     "name": "stdout",
     "output_type": "stream",
     "text": [
      "nnz before: 4088, after: 528\n"
     ]
    },
    {
     "name": "stderr",
     "output_type": "stream",
     "text": [
      " 58%|█████▊    | 58/100 [07:35<05:38,  8.06s/it]"
     ]
    },
    {
     "name": "stdout",
     "output_type": "stream",
     "text": [
      "nnz before: 4088, after: 528\n"
     ]
    },
    {
     "name": "stderr",
     "output_type": "stream",
     "text": [
      " 59%|█████▉    | 59/100 [07:43<05:29,  8.03s/it]"
     ]
    },
    {
     "name": "stdout",
     "output_type": "stream",
     "text": [
      "nnz before: 4088, after: 528\n"
     ]
    },
    {
     "name": "stderr",
     "output_type": "stream",
     "text": [
      " 60%|██████    | 60/100 [07:51<05:17,  7.94s/it]"
     ]
    },
    {
     "name": "stdout",
     "output_type": "stream",
     "text": [
      "nnz before: 4088, after: 528\n"
     ]
    },
    {
     "name": "stderr",
     "output_type": "stream",
     "text": [
      " 61%|██████    | 61/100 [07:59<05:07,  7.89s/it]"
     ]
    },
    {
     "name": "stdout",
     "output_type": "stream",
     "text": [
      "nnz before: 4088, after: 528\n"
     ]
    },
    {
     "name": "stderr",
     "output_type": "stream",
     "text": [
      " 62%|██████▏   | 62/100 [08:07<04:58,  7.84s/it]"
     ]
    },
    {
     "name": "stdout",
     "output_type": "stream",
     "text": [
      "nnz before: 4088, after: 528\n"
     ]
    },
    {
     "name": "stderr",
     "output_type": "stream",
     "text": [
      " 63%|██████▎   | 63/100 [08:15<04:52,  7.90s/it]"
     ]
    },
    {
     "name": "stdout",
     "output_type": "stream",
     "text": [
      "nnz before: 4088, after: 528\n"
     ]
    },
    {
     "name": "stderr",
     "output_type": "stream",
     "text": [
      " 64%|██████▍   | 64/100 [08:23<04:46,  7.95s/it]"
     ]
    },
    {
     "name": "stdout",
     "output_type": "stream",
     "text": [
      "nnz before: 4088, after: 528\n"
     ]
    },
    {
     "name": "stderr",
     "output_type": "stream",
     "text": [
      " 65%|██████▌   | 65/100 [08:31<04:40,  8.02s/it]"
     ]
    },
    {
     "name": "stdout",
     "output_type": "stream",
     "text": [
      "nnz before: 4088, after: 528\n"
     ]
    },
    {
     "name": "stderr",
     "output_type": "stream",
     "text": [
      " 66%|██████▌   | 66/100 [08:39<04:35,  8.11s/it]"
     ]
    },
    {
     "name": "stdout",
     "output_type": "stream",
     "text": [
      "nnz before: 4088, after: 528\n"
     ]
    },
    {
     "name": "stderr",
     "output_type": "stream",
     "text": [
      " 67%|██████▋   | 67/100 [08:48<04:31,  8.24s/it]"
     ]
    },
    {
     "name": "stdout",
     "output_type": "stream",
     "text": [
      "nnz before: 4088, after: 528\n"
     ]
    },
    {
     "name": "stderr",
     "output_type": "stream",
     "text": [
      " 68%|██████▊   | 68/100 [08:57<04:32,  8.50s/it]"
     ]
    },
    {
     "name": "stdout",
     "output_type": "stream",
     "text": [
      "nnz before: 4088, after: 528\n"
     ]
    },
    {
     "name": "stderr",
     "output_type": "stream",
     "text": [
      " 69%|██████▉   | 69/100 [09:06<04:27,  8.62s/it]"
     ]
    },
    {
     "name": "stdout",
     "output_type": "stream",
     "text": [
      "nnz before: 4088, after: 528\n"
     ]
    },
    {
     "name": "stderr",
     "output_type": "stream",
     "text": [
      " 70%|███████   | 70/100 [09:14<04:14,  8.48s/it]"
     ]
    },
    {
     "name": "stdout",
     "output_type": "stream",
     "text": [
      "nnz before: 4088, after: 528\n"
     ]
    },
    {
     "name": "stderr",
     "output_type": "stream",
     "text": [
      " 71%|███████   | 71/100 [09:22<03:58,  8.24s/it]"
     ]
    },
    {
     "name": "stdout",
     "output_type": "stream",
     "text": [
      "nnz before: 4088, after: 528\n"
     ]
    },
    {
     "name": "stderr",
     "output_type": "stream",
     "text": [
      " 72%|███████▏  | 72/100 [09:29<03:45,  8.04s/it]"
     ]
    },
    {
     "name": "stdout",
     "output_type": "stream",
     "text": [
      "nnz before: 4088, after: 528\n"
     ]
    },
    {
     "name": "stderr",
     "output_type": "stream",
     "text": [
      " 73%|███████▎  | 73/100 [09:37<03:34,  7.94s/it]"
     ]
    },
    {
     "name": "stdout",
     "output_type": "stream",
     "text": [
      "nnz before: 4088, after: 528\n"
     ]
    },
    {
     "name": "stderr",
     "output_type": "stream",
     "text": [
      " 74%|███████▍  | 74/100 [09:45<03:23,  7.84s/it]"
     ]
    },
    {
     "name": "stdout",
     "output_type": "stream",
     "text": [
      "nnz before: 4088, after: 528\n"
     ]
    },
    {
     "name": "stderr",
     "output_type": "stream",
     "text": [
      " 75%|███████▌  | 75/100 [09:52<03:14,  7.77s/it]"
     ]
    },
    {
     "name": "stdout",
     "output_type": "stream",
     "text": [
      "nnz before: 4088, after: 528\n"
     ]
    },
    {
     "name": "stderr",
     "output_type": "stream",
     "text": [
      " 76%|███████▌  | 76/100 [10:00<03:06,  7.76s/it]"
     ]
    },
    {
     "name": "stdout",
     "output_type": "stream",
     "text": [
      "nnz before: 4088, after: 528\n"
     ]
    },
    {
     "name": "stderr",
     "output_type": "stream",
     "text": [
      " 77%|███████▋  | 77/100 [10:08<02:59,  7.81s/it]"
     ]
    },
    {
     "name": "stdout",
     "output_type": "stream",
     "text": [
      "nnz before: 4088, after: 528\n"
     ]
    },
    {
     "name": "stderr",
     "output_type": "stream",
     "text": [
      " 78%|███████▊  | 78/100 [10:16<02:51,  7.78s/it]"
     ]
    },
    {
     "name": "stdout",
     "output_type": "stream",
     "text": [
      "nnz before: 4088, after: 528\n"
     ]
    },
    {
     "name": "stderr",
     "output_type": "stream",
     "text": [
      " 79%|███████▉  | 79/100 [10:23<02:42,  7.74s/it]"
     ]
    },
    {
     "name": "stdout",
     "output_type": "stream",
     "text": [
      "nnz before: 4088, after: 528\n"
     ]
    },
    {
     "name": "stderr",
     "output_type": "stream",
     "text": [
      " 80%|████████  | 80/100 [10:31<02:34,  7.74s/it]"
     ]
    },
    {
     "name": "stdout",
     "output_type": "stream",
     "text": [
      "nnz before: 4088, after: 528\n"
     ]
    },
    {
     "name": "stderr",
     "output_type": "stream",
     "text": [
      " 81%|████████  | 81/100 [10:39<02:27,  7.77s/it]"
     ]
    },
    {
     "name": "stdout",
     "output_type": "stream",
     "text": [
      "nnz before: 4088, after: 528\n"
     ]
    },
    {
     "name": "stderr",
     "output_type": "stream",
     "text": [
      " 82%|████████▏ | 82/100 [10:46<02:19,  7.76s/it]"
     ]
    },
    {
     "name": "stdout",
     "output_type": "stream",
     "text": [
      "nnz before: 4088, after: 528\n"
     ]
    },
    {
     "name": "stderr",
     "output_type": "stream",
     "text": [
      " 83%|████████▎ | 83/100 [10:54<02:11,  7.71s/it]"
     ]
    },
    {
     "name": "stdout",
     "output_type": "stream",
     "text": [
      "nnz before: 4088, after: 528\n"
     ]
    },
    {
     "name": "stderr",
     "output_type": "stream",
     "text": [
      " 84%|████████▍ | 84/100 [11:02<02:03,  7.72s/it]"
     ]
    },
    {
     "name": "stdout",
     "output_type": "stream",
     "text": [
      "nnz before: 4088, after: 528\n"
     ]
    },
    {
     "name": "stderr",
     "output_type": "stream",
     "text": [
      " 85%|████████▌ | 85/100 [11:10<01:57,  7.84s/it]"
     ]
    },
    {
     "name": "stdout",
     "output_type": "stream",
     "text": [
      "nnz before: 4088, after: 528\n"
     ]
    },
    {
     "name": "stderr",
     "output_type": "stream",
     "text": [
      " 86%|████████▌ | 86/100 [11:18<01:49,  7.82s/it]"
     ]
    },
    {
     "name": "stdout",
     "output_type": "stream",
     "text": [
      "nnz before: 4088, after: 528\n"
     ]
    },
    {
     "name": "stderr",
     "output_type": "stream",
     "text": [
      " 87%|████████▋ | 87/100 [11:26<01:41,  7.82s/it]"
     ]
    },
    {
     "name": "stdout",
     "output_type": "stream",
     "text": [
      "nnz before: 4088, after: 528\n"
     ]
    },
    {
     "name": "stderr",
     "output_type": "stream",
     "text": [
      " 88%|████████▊ | 88/100 [11:33<01:33,  7.81s/it]"
     ]
    },
    {
     "name": "stdout",
     "output_type": "stream",
     "text": [
      "nnz before: 4088, after: 528\n"
     ]
    },
    {
     "name": "stderr",
     "output_type": "stream",
     "text": [
      " 89%|████████▉ | 89/100 [11:41<01:25,  7.76s/it]"
     ]
    },
    {
     "name": "stdout",
     "output_type": "stream",
     "text": [
      "nnz before: 4088, after: 528\n"
     ]
    },
    {
     "name": "stderr",
     "output_type": "stream",
     "text": [
      " 90%|█████████ | 90/100 [11:49<01:17,  7.71s/it]"
     ]
    },
    {
     "name": "stdout",
     "output_type": "stream",
     "text": [
      "nnz before: 4088, after: 528\n"
     ]
    },
    {
     "name": "stderr",
     "output_type": "stream",
     "text": [
      " 91%|█████████ | 91/100 [11:56<01:09,  7.72s/it]"
     ]
    },
    {
     "name": "stdout",
     "output_type": "stream",
     "text": [
      "nnz before: 4088, after: 528\n"
     ]
    },
    {
     "name": "stderr",
     "output_type": "stream",
     "text": [
      " 92%|█████████▏| 92/100 [12:04<01:01,  7.75s/it]"
     ]
    },
    {
     "name": "stdout",
     "output_type": "stream",
     "text": [
      "nnz before: 4088, after: 528\n"
     ]
    },
    {
     "name": "stderr",
     "output_type": "stream",
     "text": [
      " 93%|█████████▎| 93/100 [12:12<00:54,  7.84s/it]"
     ]
    },
    {
     "name": "stdout",
     "output_type": "stream",
     "text": [
      "nnz before: 4088, after: 528\n"
     ]
    },
    {
     "name": "stderr",
     "output_type": "stream",
     "text": [
      " 94%|█████████▍| 94/100 [12:20<00:47,  7.90s/it]"
     ]
    },
    {
     "name": "stdout",
     "output_type": "stream",
     "text": [
      "nnz before: 4088, after: 528\n"
     ]
    },
    {
     "name": "stderr",
     "output_type": "stream",
     "text": [
      " 95%|█████████▌| 95/100 [12:28<00:39,  7.88s/it]"
     ]
    },
    {
     "name": "stdout",
     "output_type": "stream",
     "text": [
      "nnz before: 4088, after: 528\n"
     ]
    },
    {
     "name": "stderr",
     "output_type": "stream",
     "text": [
      " 96%|█████████▌| 96/100 [12:36<00:31,  7.85s/it]"
     ]
    },
    {
     "name": "stdout",
     "output_type": "stream",
     "text": [
      "nnz before: 4088, after: 528\n"
     ]
    },
    {
     "name": "stderr",
     "output_type": "stream",
     "text": [
      " 97%|█████████▋| 97/100 [12:44<00:23,  7.87s/it]"
     ]
    },
    {
     "name": "stdout",
     "output_type": "stream",
     "text": [
      "nnz before: 4088, after: 528\n"
     ]
    },
    {
     "name": "stderr",
     "output_type": "stream",
     "text": [
      " 98%|█████████▊| 98/100 [12:52<00:15,  7.85s/it]"
     ]
    },
    {
     "name": "stdout",
     "output_type": "stream",
     "text": [
      "nnz before: 4088, after: 528\n"
     ]
    },
    {
     "name": "stderr",
     "output_type": "stream",
     "text": [
      " 99%|█████████▉| 99/100 [12:59<00:07,  7.83s/it]"
     ]
    },
    {
     "name": "stdout",
     "output_type": "stream",
     "text": [
      "nnz before: 4088, after: 528\n"
     ]
    },
    {
     "name": "stderr",
     "output_type": "stream",
     "text": [
      "100%|██████████| 100/100 [13:07<00:00,  7.88s/it]"
     ]
    },
    {
     "name": "stdout",
     "output_type": "stream",
     "text": [
      "nnz before: 4088, after: 528\n"
     ]
    },
    {
     "name": "stderr",
     "output_type": "stream",
     "text": [
      "\n"
     ]
    }
   ],
   "source": [
    "for dr in tqdm.tqdm(range(100)):\n",
    "    p = COVIDParametersOCP.OCParameters(setup=setup, M=M, when=when, posterior_draw=dr+1)\n",
    "    with open(f'model_output/beta-posteriors/beta{dr+1}.pkl', 'wb') as out:\n",
    "        pickle.dump(p, out, pickle.HIGHEST_PROTOCOL)"
   ]
  },
  {
   "cell_type": "code",
   "execution_count": 6,
   "metadata": {
    "execution": {
     "iopub.execute_input": "2021-01-31T10:09:16.524303Z",
     "iopub.status.busy": "2021-01-31T10:09:16.524075Z",
     "iopub.status.idle": "2021-01-31T10:27:11.244574Z",
     "shell.execute_reply": "2021-01-31T10:27:11.243667Z",
     "shell.execute_reply.started": "2021-01-31T10:09:16.524278Z"
    },
    "scrolled": true
   },
   "outputs": [
    {
     "name": "stdout",
     "output_type": "stream",
     "text": [
      "===> Integrating for model_output/beta-posteriors/bet_sim1_U-r15-t125000-id0===> Integrating for model_output/beta-posteriors/bet_sim5_U-r15-t125000-id0===> Integrating for model_output/beta-posteriors/bet_sim3_U-r15-t125000-id0===> Integrating for model_output/beta-posteriors/bet_sim7_U-r15-t125000-id0===> Integrating for model_output/beta-posteriors/bet_sim9_U-r15-t125000-id0===> Integrating for model_output/beta-posteriors/bet_sim11_U-r15-t125000-id0===> Integrating for model_output/beta-posteriors/bet_sim13_U-r15-t125000-id0===> Integrating for model_output/beta-posteriors/bet_sim19_U-r15-t125000-id0===> Integrating for model_output/beta-posteriors/bet_sim21_U-r15-t125000-id0\n",
      "===> Integrating for model_output/beta-posteriors/bet_sim15_U-r15-t125000-id0\n",
      "\n",
      "===> Integrating for model_output/beta-posteriors/bet_sim23_U-r15-t125000-id0\n",
      "===> Integrating for model_output/beta-posteriors/bet_sim17_U-r15-t125000-id0===> Integrating for model_output/beta-posteriors/bet_sim27_U-r15-t125000-id0\n",
      "===> Integrating for model_output/beta-posteriors/bet_sim25_U-r15-t125000-id0\n",
      "\n",
      "===> Integrating for model_output/beta-posteriors/bet_sim29_U-r15-t125000-id0\n",
      "\n",
      "\n",
      "\n",
      "===> Integrating for model_output/beta-posteriors/bet_sim31_U-r15-t125000-id0\n",
      "\n",
      "\n"
     ]
    },
    {
     "name": "stderr",
     "output_type": "stream",
     "text": [
      "  0%|          | 0/89 [00:00<?, ?it/s]"
     ]
    },
    {
     "name": "stdout",
     "output_type": "stream",
     "text": [
      "\n"
     ]
    },
    {
     "name": "stderr",
     "output_type": "stream",
     "text": [
      "  0%|          | 0/89 [00:00<?, ?it/s]"
     ]
    },
    {
     "name": "stdout",
     "output_type": "stream",
     "text": [
      "\n"
     ]
    },
    {
     "name": "stderr",
     "output_type": "stream",
     "text": [
      "  1%|          | 1/89 [00:00<00:10,  8.15it/s]"
     ]
    },
    {
     "name": "stdout",
     "output_type": "stream",
     "text": [
      "0 U-r15-t125000-id0\n"
     ]
    },
    {
     "name": "stderr",
     "output_type": "stream",
     "text": [
      "100%|██████████| 89/89 [00:10<00:00,  8.57it/s]\n",
      "100%|██████████| 89/89 [00:10<00:00,  8.56it/s]\n",
      "\n",
      "100%|██████████| 89/89 [00:10<00:00,  7.28it/s]\n",
      "100%|██████████| 89/89 [00:10<00:00,  8.55it/s]\n",
      "100%|██████████| 89/89 [00:10<00:00,  7.33it/s]\n",
      "\n",
      "100%|██████████| 89/89 [00:10<00:00,  8.54it/s]\n",
      "100%|██████████| 89/89 [00:10<00:00,  7.28it/s]\n",
      "100%|██████████| 89/89 [00:10<00:00,  8.53it/s]\n",
      "100%|██████████| 89/89 [00:10<00:00,  7.25it/s]\n",
      "100%|██████████| 89/89 [00:10<00:00,  8.49it/s]\n",
      "100%|██████████| 89/89 [00:10<00:00,  8.49it/s]\n",
      "100%|██████████| 89/89 [00:10<00:00,  8.47it/s]\n",
      "100%|██████████| 89/89 [00:10<00:00,  8.47it/s]\n",
      "100%|██████████| 89/89 [00:10<00:00,  8.35it/s]\n"
     ]
    },
    {
     "name": "stdout",
     "output_type": "stream",
     "text": [
      "===> Integrating for model_output/beta-posteriors/bet_sim12_U-r15-t125000-id0\n"
     ]
    },
    {
     "name": "stderr",
     "output_type": "stream",
     "text": [
      "  0%|          | 0/89 [00:00<?, ?it/s]"
     ]
    },
    {
     "name": "stdout",
     "output_type": "stream",
     "text": [
      "===> Integrating for model_output/beta-posteriors/bet_sim2_U-r15-t125000-id0\n"
     ]
    },
    {
     "name": "stderr",
     "output_type": "stream",
     "text": [
      "  0%|          | 0/89 [00:00<?, ?it/s]"
     ]
    },
    {
     "name": "stdout",
     "output_type": "stream",
     "text": [
      "===> Integrating for model_output/beta-posteriors/bet_sim4_U-r15-t125000-id0===> Integrating for model_output/beta-posteriors/bet_sim26_U-r15-t125000-id0\n",
      "\n"
     ]
    },
    {
     "name": "stderr",
     "output_type": "stream",
     "text": [
      "  0%|          | 0/89 [00:00<?, ?it/s]"
     ]
    },
    {
     "name": "stdout",
     "output_type": "stream",
     "text": [
      "===> Integrating for model_output/beta-posteriors/bet_sim14_U-r15-t125000-id0\n"
     ]
    },
    {
     "name": "stderr",
     "output_type": "stream",
     "text": [
      "  0%|          | 0/89 [00:00<?, ?it/s]"
     ]
    },
    {
     "name": "stdout",
     "output_type": "stream",
     "text": [
      "===> Integrating for model_output/beta-posteriors/bet_sim20_U-r15-t125000-id0\n"
     ]
    },
    {
     "name": "stderr",
     "output_type": "stream",
     "text": [
      "  1%|          | 1/89 [00:00<00:12,  7.00it/s]"
     ]
    },
    {
     "name": "stdout",
     "output_type": "stream",
     "text": [
      "===> Integrating for model_output/beta-posteriors/bet_sim16_U-r15-t125000-id0\n"
     ]
    },
    {
     "name": "stderr",
     "output_type": "stream",
     "text": [
      "  0%|          | 0/89 [00:00<?, ?it/s]"
     ]
    },
    {
     "name": "stdout",
     "output_type": "stream",
     "text": [
      "===> Integrating for model_output/beta-posteriors/bet_sim28_U-r15-t125000-id0"
     ]
    },
    {
     "name": "stderr",
     "output_type": "stream",
     "text": [
      "  1%|          | 1/89 [00:00<00:13,  6.72it/s]"
     ]
    },
    {
     "name": "stdout",
     "output_type": "stream",
     "text": [
      "\n"
     ]
    },
    {
     "name": "stderr",
     "output_type": "stream",
     "text": [
      "  1%|          | 1/89 [00:00<00:13,  6.33it/s]"
     ]
    },
    {
     "name": "stdout",
     "output_type": "stream",
     "text": [
      "===> Integrating for model_output/beta-posteriors/bet_sim8_U-r15-t125000-id0\n"
     ]
    },
    {
     "name": "stderr",
     "output_type": "stream",
     "text": [
      "  0%|          | 0/89 [00:00<?, ?it/s]"
     ]
    },
    {
     "name": "stdout",
     "output_type": "stream",
     "text": [
      "===> Integrating for model_output/beta-posteriors/bet_sim10_U-r15-t125000-id0\n"
     ]
    },
    {
     "name": "stderr",
     "output_type": "stream",
     "text": [
      "  0%|          | 0/89 [00:00<?, ?it/s]"
     ]
    },
    {
     "name": "stdout",
     "output_type": "stream",
     "text": [
      "===> Integrating for model_output/beta-posteriors/bet_sim30_U-r15-t125000-id0\n",
      "===> Integrating for model_output/beta-posteriors/bet_sim24_U-r15-t125000-id0"
     ]
    },
    {
     "name": "stderr",
     "output_type": "stream",
     "text": [
      "  0%|          | 0/89 [00:00<?, ?it/s]"
     ]
    },
    {
     "name": "stdout",
     "output_type": "stream",
     "text": [
      "\n"
     ]
    },
    {
     "name": "stderr",
     "output_type": "stream",
     "text": [
      "  1%|          | 1/89 [00:00<00:13,  6.69it/s]"
     ]
    },
    {
     "name": "stdout",
     "output_type": "stream",
     "text": [
      "===> Integrating for model_output/beta-posteriors/bet_sim32_U-r15-t125000-id0\n"
     ]
    },
    {
     "name": "stderr",
     "output_type": "stream",
     "text": [
      "  0%|          | 0/89 [00:00<?, ?it/s]"
     ]
    },
    {
     "name": "stdout",
     "output_type": "stream",
     "text": [
      "===> Integrating for model_output/beta-posteriors/bet_sim6_U-r15-t125000-id0\n"
     ]
    },
    {
     "name": "stderr",
     "output_type": "stream",
     "text": [
      "  0%|          | 0/89 [00:00<?, ?it/s]"
     ]
    },
    {
     "name": "stdout",
     "output_type": "stream",
     "text": [
      "===> Integrating for model_output/beta-posteriors/bet_sim22_U-r15-t125000-id0\n"
     ]
    },
    {
     "name": "stderr",
     "output_type": "stream",
     "text": [
      "  0%|          | 0/89 [00:00<?, ?it/s].27it/s]"
     ]
    },
    {
     "name": "stdout",
     "output_type": "stream",
     "text": [
      "===> Integrating for model_output/beta-posteriors/bet_sim18_U-r15-t125000-id0\n"
     ]
    },
    {
     "name": "stderr",
     "output_type": "stream",
     "text": [
      "100%|██████████| 89/89 [00:17<00:00,  5.13it/s]\n",
      "100%|██████████| 89/89 [00:17<00:00,  5.16it/s]\n",
      "100%|██████████| 89/89 [00:17<00:00,  5.12it/s]\n",
      "100%|██████████| 89/89 [00:17<00:00,  5.12it/s]\n",
      "\n",
      "100%|██████████| 89/89 [00:17<00:00,  5.17it/s]\n",
      "100%|██████████| 89/89 [00:17<00:00,  5.14it/s]\n",
      "\n",
      "100%|██████████| 89/89 [00:17<00:00,  4.95it/s]\n",
      "100%|██████████| 89/89 [00:17<00:00,  5.15it/s]\n",
      "100%|██████████| 89/89 [00:17<00:00,  5.17it/s]\n",
      "100%|██████████| 89/89 [00:17<00:00,  5.14it/s]\n",
      "100%|██████████| 89/89 [00:17<00:00,  5.10it/s]\n",
      "100%|██████████| 89/89 [00:17<00:00,  5.13it/s]\n",
      "100%|██████████| 89/89 [00:17<00:00,  5.12it/s]\n",
      "100%|██████████| 89/89 [00:17<00:00,  5.07it/s]\n"
     ]
    },
    {
     "name": "stdout",
     "output_type": "stream",
     "text": [
      "===> Integrating for model_output/beta-posteriors/bet_sim33_U-r15-t125000-id0\n"
     ]
    },
    {
     "name": "stderr",
     "output_type": "stream",
     "text": [
      "  0%|          | 0/89 [00:00<?, ?it/s]"
     ]
    },
    {
     "name": "stdout",
     "output_type": "stream",
     "text": [
      "===> Integrating for model_output/beta-posteriors/bet_sim35_U-r15-t125000-id0\n"
     ]
    },
    {
     "name": "stderr",
     "output_type": "stream",
     "text": [
      "  1%|          | 1/89 [00:00<00:11,  7.34it/s]"
     ]
    },
    {
     "name": "stdout",
     "output_type": "stream",
     "text": [
      "===> Integrating for model_output/beta-posteriors/bet_sim37_U-r15-t125000-id0\n"
     ]
    },
    {
     "name": "stderr",
     "output_type": "stream",
     "text": [
      "  0%|          | 0/89 [00:00<?, ?it/s]"
     ]
    },
    {
     "name": "stdout",
     "output_type": "stream",
     "text": [
      "===> Integrating for model_output/beta-posteriors/bet_sim39_U-r15-t125000-id0\n"
     ]
    },
    {
     "name": "stderr",
     "output_type": "stream",
     "text": [
      "  1%|          | 1/89 [00:00<00:09,  8.93it/s]"
     ]
    },
    {
     "name": "stdout",
     "output_type": "stream",
     "text": [
      "===> Integrating for model_output/beta-posteriors/bet_sim41_U-r15-t125000-id0\n"
     ]
    },
    {
     "name": "stderr",
     "output_type": "stream",
     "text": [
      "  0%|          | 0/89 [00:00<?, ?it/s]"
     ]
    },
    {
     "name": "stdout",
     "output_type": "stream",
     "text": [
      "===> Integrating for model_output/beta-posteriors/bet_sim43_U-r15-t125000-id0\n"
     ]
    },
    {
     "name": "stderr",
     "output_type": "stream",
     "text": [
      "  1%|          | 1/89 [00:00<00:08,  9.93it/s]"
     ]
    },
    {
     "name": "stdout",
     "output_type": "stream",
     "text": [
      "===> Integrating for model_output/beta-posteriors/bet_sim45_U-r15-t125000-id0\n"
     ]
    },
    {
     "name": "stderr",
     "output_type": "stream",
     "text": [
      "  2%|▏         | 2/89 [00:00<00:08,  9.69it/s]"
     ]
    },
    {
     "name": "stdout",
     "output_type": "stream",
     "text": [
      "===> Integrating for model_output/beta-posteriors/bet_sim47_U-r15-t125000-id0\n"
     ]
    },
    {
     "name": "stderr",
     "output_type": "stream",
     "text": [
      "  3%|▎         | 3/89 [00:00<00:09,  9.33it/s]"
     ]
    },
    {
     "name": "stdout",
     "output_type": "stream",
     "text": [
      "===> Integrating for model_output/beta-posteriors/bet_sim49_U-r15-t125000-id0\n"
     ]
    },
    {
     "name": "stderr",
     "output_type": "stream",
     "text": [
      "  4%|▍         | 4/89 [00:00<00:09,  8.70it/s]"
     ]
    },
    {
     "name": "stdout",
     "output_type": "stream",
     "text": [
      "===> Integrating for model_output/beta-posteriors/bet_sim51_U-r15-t125000-id0\n"
     ]
    },
    {
     "name": "stderr",
     "output_type": "stream",
     "text": [
      "  2%|▏         | 2/89 [00:00<00:09,  9.46it/s]"
     ]
    },
    {
     "name": "stdout",
     "output_type": "stream",
     "text": [
      "===> Integrating for model_output/beta-posteriors/bet_sim53_U-r15-t125000-id0\n"
     ]
    },
    {
     "name": "stderr",
     "output_type": "stream",
     "text": [
      "  1%|          | 1/89 [00:00<00:11,  7.83it/s]"
     ]
    },
    {
     "name": "stdout",
     "output_type": "stream",
     "text": [
      "===> Integrating for model_output/beta-posteriors/bet_sim55_U-r15-t125000-id0"
     ]
    },
    {
     "name": "stderr",
     "output_type": "stream",
     "text": [
      "  6%|▌         | 5/89 [00:00<00:09,  8.77it/s]"
     ]
    },
    {
     "name": "stdout",
     "output_type": "stream",
     "text": [
      "\n"
     ]
    },
    {
     "name": "stderr",
     "output_type": "stream",
     "text": [
      "  3%|▎         | 3/89 [00:00<00:10,  8.49it/s]"
     ]
    },
    {
     "name": "stdout",
     "output_type": "stream",
     "text": [
      "===> Integrating for model_output/beta-posteriors/bet_sim57_U-r15-t125000-id0"
     ]
    },
    {
     "name": "stderr",
     "output_type": "stream",
     "text": [
      "  2%|▏         | 2/89 [00:00<00:11,  7.81it/s]"
     ]
    },
    {
     "name": "stdout",
     "output_type": "stream",
     "text": [
      "\n"
     ]
    },
    {
     "name": "stderr",
     "output_type": "stream",
     "text": [
      "  7%|▋         | 6/89 [00:00<00:10,  7.80it/s]"
     ]
    },
    {
     "name": "stdout",
     "output_type": "stream",
     "text": [
      "===> Integrating for model_output/beta-posteriors/bet_sim59_U-r15-t125000-id0\n"
     ]
    },
    {
     "name": "stderr",
     "output_type": "stream",
     "text": [
      "  6%|▌         | 5/89 [00:00<00:10,  8.02it/s]"
     ]
    },
    {
     "name": "stdout",
     "output_type": "stream",
     "text": [
      "===> Integrating for model_output/beta-posteriors/bet_sim61_U-r15-t125000-id0\n"
     ]
    },
    {
     "name": "stderr",
     "output_type": "stream",
     "text": [
      "  8%|▊         | 7/89 [00:00<00:11,  7.20it/s]"
     ]
    },
    {
     "name": "stdout",
     "output_type": "stream",
     "text": [
      "===> Integrating for model_output/beta-posteriors/bet_sim63_U-r15-t125000-id0\n"
     ]
    },
    {
     "name": "stderr",
     "output_type": "stream",
     "text": [
      "100%|██████████| 89/89 [00:16<00:00,  5.49it/s]\n",
      "100%|██████████| 89/89 [00:16<00:00,  5.47it/s]\n",
      "100%|██████████| 89/89 [00:16<00:00,  5.48it/s]\n",
      "100%|██████████| 89/89 [00:16<00:00,  5.48it/s]\n",
      " 94%|█████████▍| 84/89 [00:15<00:00,  6.03it/s]\n",
      "100%|██████████| 89/89 [00:16<00:00,  5.47it/s]\n",
      " 94%|█████████▍| 84/89 [00:15<00:00,  6.05it/s]\n",
      "100%|██████████| 89/89 [00:16<00:00,  5.42it/s]\n",
      "100%|██████████| 89/89 [00:16<00:00,  5.43it/s]\n",
      "100%|██████████| 89/89 [00:16<00:00,  5.39it/s]\n",
      "100%|██████████| 89/89 [00:16<00:00,  5.45it/s]\n",
      "100%|██████████| 89/89 [00:16<00:00,  5.41it/s]\n",
      "\n",
      "100%|██████████| 89/89 [00:16<00:00,  5.42it/s]\n",
      "100%|██████████| 89/89 [00:16<00:00,  5.39it/s]\n",
      "100%|██████████| 89/89 [00:16<00:00,  5.36it/s]\n"
     ]
    },
    {
     "name": "stdout",
     "output_type": "stream",
     "text": [
      "===> Integrating for model_output/beta-posteriors/bet_sim34_U-r15-t125000-id0\n"
     ]
    },
    {
     "name": "stderr",
     "output_type": "stream",
     "text": [
      "  0%|          | 0/89 [00:00<?, ?it/s]"
     ]
    },
    {
     "name": "stdout",
     "output_type": "stream",
     "text": [
      "===> Integrating for model_output/beta-posteriors/bet_sim36_U-r15-t125000-id0\n"
     ]
    },
    {
     "name": "stderr",
     "output_type": "stream",
     "text": [
      "  1%|          | 1/89 [00:00<00:14,  6.03it/s]"
     ]
    },
    {
     "name": "stdout",
     "output_type": "stream",
     "text": [
      "===> Integrating for model_output/beta-posteriors/bet_sim38_U-r15-t125000-id0\n"
     ]
    },
    {
     "name": "stderr",
     "output_type": "stream",
     "text": [
      "  1%|          | 1/89 [00:00<00:14,  6.13it/s]"
     ]
    },
    {
     "name": "stdout",
     "output_type": "stream",
     "text": [
      "===> Integrating for model_output/beta-posteriors/bet_sim40_U-r15-t125000-id0\n"
     ]
    },
    {
     "name": "stderr",
     "output_type": "stream",
     "text": [
      "  4%|▍         | 4/89 [00:00<00:13,  6.15it/s]"
     ]
    },
    {
     "name": "stdout",
     "output_type": "stream",
     "text": [
      "===> Integrating for model_output/beta-posteriors/bet_sim46_U-r15-t125000-id0\n"
     ]
    },
    {
     "name": "stderr",
     "output_type": "stream",
     "text": [
      "  2%|▏         | 2/89 [00:00<00:13,  6.53it/s]"
     ]
    },
    {
     "name": "stdout",
     "output_type": "stream",
     "text": [
      "===> Integrating for model_output/beta-posteriors/bet_sim42_U-r15-t125000-id0\n"
     ]
    },
    {
     "name": "stderr",
     "output_type": "stream",
     "text": [
      "  4%|▍         | 4/89 [00:00<00:14,  5.95it/s]"
     ]
    },
    {
     "name": "stdout",
     "output_type": "stream",
     "text": [
      "===> Integrating for model_output/beta-posteriors/bet_sim44_U-r15-t125000-id0\n"
     ]
    },
    {
     "name": "stderr",
     "output_type": "stream",
     "text": [
      "  1%|          | 1/89 [00:00<00:14,  6.17it/s]"
     ]
    },
    {
     "name": "stdout",
     "output_type": "stream",
     "text": [
      "===> Integrating for model_output/beta-posteriors/bet_sim48_U-r15-t125000-id0\n"
     ]
    },
    {
     "name": "stderr",
     "output_type": "stream",
     "text": [
      "  1%|          | 1/89 [00:00<00:14,  6.05it/s]"
     ]
    },
    {
     "name": "stdout",
     "output_type": "stream",
     "text": [
      "===> Integrating for model_output/beta-posteriors/bet_sim52_U-r15-t125000-id0\n"
     ]
    },
    {
     "name": "stderr",
     "output_type": "stream",
     "text": [
      "  2%|▏         | 2/89 [00:00<00:15,  5.76it/s]"
     ]
    },
    {
     "name": "stdout",
     "output_type": "stream",
     "text": [
      "===> Integrating for model_output/beta-posteriors/bet_sim50_U-r15-t125000-id0"
     ]
    },
    {
     "name": "stderr",
     "output_type": "stream",
     "text": [
      "  6%|▌         | 5/89 [00:00<00:13,  6.01it/s]"
     ]
    },
    {
     "name": "stdout",
     "output_type": "stream",
     "text": [
      "\n"
     ]
    },
    {
     "name": "stderr",
     "output_type": "stream",
     "text": [
      "  1%|          | 1/89 [00:00<00:13,  6.73it/s]"
     ]
    },
    {
     "name": "stdout",
     "output_type": "stream",
     "text": [
      "===> Integrating for model_output/beta-posteriors/bet_sim56_U-r15-t125000-id0\n"
     ]
    },
    {
     "name": "stderr",
     "output_type": "stream",
     "text": [
      "  8%|▊         | 7/89 [00:01<00:13,  5.97it/s]"
     ]
    },
    {
     "name": "stdout",
     "output_type": "stream",
     "text": [
      "===> Integrating for model_output/beta-posteriors/bet_sim58_U-r15-t125000-id0"
     ]
    },
    {
     "name": "stderr",
     "output_type": "stream",
     "text": [
      "  1%|          | 1/89 [00:00<00:13,  6.46it/s]"
     ]
    },
    {
     "name": "stdout",
     "output_type": "stream",
     "text": [
      "\n"
     ]
    },
    {
     "name": "stderr",
     "output_type": "stream",
     "text": [
      "  2%|▏         | 2/89 [00:00<00:13,  6.51it/s]"
     ]
    },
    {
     "name": "stdout",
     "output_type": "stream",
     "text": [
      "===> Integrating for model_output/beta-posteriors/bet_sim54_U-r15-t125000-id0\n"
     ]
    },
    {
     "name": "stderr",
     "output_type": "stream",
     "text": [
      "  9%|▉         | 8/89 [00:01<00:13,  5.93it/s]"
     ]
    },
    {
     "name": "stdout",
     "output_type": "stream",
     "text": [
      "===> Integrating for model_output/beta-posteriors/bet_sim60_U-r15-t125000-id0\n"
     ]
    },
    {
     "name": "stderr",
     "output_type": "stream",
     "text": [
      "  1%|          | 1/89 [00:00<00:14,  6.19it/s]"
     ]
    },
    {
     "name": "stdout",
     "output_type": "stream",
     "text": [
      "===> Integrating for model_output/beta-posteriors/bet_sim64_U-r15-t125000-id0\n"
     ]
    },
    {
     "name": "stderr",
     "output_type": "stream",
     "text": [
      "  3%|▎         | 3/89 [00:00<00:15,  5.62it/s]]"
     ]
    },
    {
     "name": "stdout",
     "output_type": "stream",
     "text": [
      "===> Integrating for model_output/beta-posteriors/bet_sim62_U-r15-t125000-id0"
     ]
    },
    {
     "name": "stderr",
     "output_type": "stream",
     "text": [
      "  4%|▍         | 4/89 [00:00<00:14,  5.93it/s]"
     ]
    },
    {
     "name": "stdout",
     "output_type": "stream",
     "text": [
      "\n"
     ]
    },
    {
     "name": "stderr",
     "output_type": "stream",
     "text": [
      "100%|██████████| 89/89 [00:15<00:00,  5.75it/s]\n",
      "100%|██████████| 89/89 [00:15<00:00,  5.76it/s]\n",
      "100%|██████████| 89/89 [00:15<00:00,  5.76it/s]\n",
      "100%|██████████| 89/89 [00:15<00:00,  5.71it/s]\n",
      "100%|██████████| 89/89 [00:15<00:00,  5.79it/s]\n",
      "100%|██████████| 89/89 [00:15<00:00,  5.72it/s]\n",
      "100%|██████████| 89/89 [00:15<00:00,  5.75it/s]\n",
      "\n",
      "100%|██████████| 89/89 [00:15<00:00,  5.78it/s]\n",
      " 99%|█████████▉| 88/89 [00:15<00:00,  5.97it/s]\n",
      "100%|██████████| 89/89 [00:15<00:00,  5.71it/s]\n",
      "\n",
      "100%|██████████| 89/89 [00:15<00:00,  5.76it/s]\n",
      "100%|██████████| 89/89 [00:15<00:00,  5.72it/s]\n",
      "100%|██████████| 89/89 [00:15<00:00,  5.70it/s]\n",
      "100%|██████████| 89/89 [00:15<00:00,  5.76it/s]\n"
     ]
    },
    {
     "name": "stdout",
     "output_type": "stream",
     "text": [
      "===> Integrating for model_output/beta-posteriors/bet_sim65_U-r15-t125000-id0\n"
     ]
    },
    {
     "name": "stderr",
     "output_type": "stream",
     "text": [
      "  0%|          | 0/89 [00:00<?, ?it/s]"
     ]
    },
    {
     "name": "stdout",
     "output_type": "stream",
     "text": [
      "===> Integrating for model_output/beta-posteriors/bet_sim67_U-r15-t125000-id0"
     ]
    },
    {
     "name": "stderr",
     "output_type": "stream",
     "text": [
      "  0%|          | 0/89 [00:00<?, ?it/s].82it/s]"
     ]
    },
    {
     "name": "stdout",
     "output_type": "stream",
     "text": [
      "\n"
     ]
    },
    {
     "name": "stderr",
     "output_type": "stream",
     "text": [
      "  2%|▏         | 2/89 [00:00<00:13,  6.58it/s]"
     ]
    },
    {
     "name": "stdout",
     "output_type": "stream",
     "text": [
      "===> Integrating for model_output/beta-posteriors/bet_sim69_U-r15-t125000-id0\n"
     ]
    },
    {
     "name": "stderr",
     "output_type": "stream",
     "text": [
      "  0%|          | 0/89 [00:00<?, ?it/s].36it/s]"
     ]
    },
    {
     "name": "stdout",
     "output_type": "stream",
     "text": [
      "===> Integrating for model_output/beta-posteriors/bet_sim71_U-r15-t125000-id0\n"
     ]
    },
    {
     "name": "stderr",
     "output_type": "stream",
     "text": [
      "  4%|▍         | 4/89 [00:00<00:13,  6.13it/s]"
     ]
    },
    {
     "name": "stdout",
     "output_type": "stream",
     "text": [
      "===> Integrating for model_output/beta-posteriors/bet_sim73_U-r15-t125000-id0\n"
     ]
    },
    {
     "name": "stderr",
     "output_type": "stream",
     "text": [
      "  1%|          | 1/89 [00:00<00:12,  6.90it/s]"
     ]
    },
    {
     "name": "stdout",
     "output_type": "stream",
     "text": [
      "===> Integrating for model_output/beta-posteriors/bet_sim75_U-r15-t125000-id0\n"
     ]
    },
    {
     "name": "stderr",
     "output_type": "stream",
     "text": [
      "  7%|▋         | 6/89 [00:00<00:13,  6.19it/s]"
     ]
    },
    {
     "name": "stdout",
     "output_type": "stream",
     "text": [
      "===> Integrating for model_output/beta-posteriors/bet_sim77_U-r15-t125000-id0\n"
     ]
    },
    {
     "name": "stderr",
     "output_type": "stream",
     "text": [
      "  1%|          | 1/89 [00:00<00:13,  6.45it/s]"
     ]
    },
    {
     "name": "stdout",
     "output_type": "stream",
     "text": [
      "===> Integrating for model_output/beta-posteriors/bet_sim79_U-r15-t125000-id0\n"
     ]
    },
    {
     "name": "stderr",
     "output_type": "stream",
     "text": [
      "  2%|▏         | 2/89 [00:00<00:14,  6.20it/s]"
     ]
    },
    {
     "name": "stdout",
     "output_type": "stream",
     "text": [
      "===> Integrating for model_output/beta-posteriors/bet_sim81_U-r15-t125000-id0\n"
     ]
    },
    {
     "name": "stderr",
     "output_type": "stream",
     "text": [
      "  9%|▉         | 8/89 [00:01<00:13,  5.86it/s]"
     ]
    },
    {
     "name": "stdout",
     "output_type": "stream",
     "text": [
      "===> Integrating for model_output/beta-posteriors/bet_sim83_U-r15-t125000-id0\n"
     ]
    },
    {
     "name": "stderr",
     "output_type": "stream",
     "text": [
      "  4%|▍         | 4/89 [00:00<00:14,  6.04it/s]"
     ]
    },
    {
     "name": "stdout",
     "output_type": "stream",
     "text": [
      "===> Integrating for model_output/beta-posteriors/bet_sim85_U-r15-t125000-id0\n"
     ]
    },
    {
     "name": "stderr",
     "output_type": "stream",
     "text": [
      "  1%|          | 1/89 [00:00<00:13,  6.47it/s]]"
     ]
    },
    {
     "name": "stdout",
     "output_type": "stream",
     "text": [
      "===> Integrating for model_output/beta-posteriors/bet_sim87_U-r15-t125000-id0\n"
     ]
    },
    {
     "name": "stderr",
     "output_type": "stream",
     "text": [
      "  4%|▍         | 4/89 [00:00<00:13,  6.15it/s]"
     ]
    },
    {
     "name": "stdout",
     "output_type": "stream",
     "text": [
      "===> Integrating for model_output/beta-posteriors/bet_sim89_U-r15-t125000-id0"
     ]
    },
    {
     "name": "stderr",
     "output_type": "stream",
     "text": [
      "  1%|          | 1/89 [00:00<00:13,  6.70it/s]"
     ]
    },
    {
     "name": "stdout",
     "output_type": "stream",
     "text": [
      "\n"
     ]
    },
    {
     "name": "stderr",
     "output_type": "stream",
     "text": [
      " 10%|█         | 9/89 [00:01<00:13,  5.79it/s]]"
     ]
    },
    {
     "name": "stdout",
     "output_type": "stream",
     "text": [
      "===> Integrating for model_output/beta-posteriors/bet_sim91_U-r15-t125000-id0\n"
     ]
    },
    {
     "name": "stderr",
     "output_type": "stream",
     "text": [
      "  4%|▍         | 4/89 [00:00<00:14,  5.94it/s]]"
     ]
    },
    {
     "name": "stdout",
     "output_type": "stream",
     "text": [
      "===> Integrating for model_output/beta-posteriors/bet_sim93_U-r15-t125000-id0\n"
     ]
    },
    {
     "name": "stderr",
     "output_type": "stream",
     "text": [
      "  7%|▋         | 6/89 [00:01<00:14,  5.65it/s]"
     ]
    },
    {
     "name": "stdout",
     "output_type": "stream",
     "text": [
      "===> Integrating for model_output/beta-posteriors/bet_sim95_U-r15-t125000-id0\n"
     ]
    },
    {
     "name": "stderr",
     "output_type": "stream",
     "text": [
      " 92%|█████████▏| 82/89 [00:15<00:01,  5.22it/s]\n",
      " 91%|█████████ | 81/89 [00:15<00:01,  5.20it/s]\n",
      "100%|██████████| 89/89 [00:16<00:00,  5.37it/s]\n",
      "100%|██████████| 89/89 [00:16<00:00,  5.30it/s]\n",
      "100%|██████████| 89/89 [00:16<00:00,  5.37it/s]\n",
      " 97%|█████████▋| 86/89 [00:16<00:00,  5.39it/s]\n",
      "100%|██████████| 89/89 [00:16<00:00,  5.39it/s]\n",
      "100%|██████████| 89/89 [00:16<00:00,  5.32it/s]\n",
      "100%|██████████| 89/89 [00:16<00:00,  5.37it/s]\n",
      "100%|██████████| 89/89 [00:16<00:00,  5.40it/s]\n",
      "100%|██████████| 89/89 [00:16<00:00,  5.32it/s]\n",
      "100%|██████████| 89/89 [00:16<00:00,  5.34it/s]\n",
      "100%|██████████| 89/89 [00:16<00:00,  5.33it/s]\n",
      "100%|██████████| 89/89 [00:16<00:00,  5.29it/s]\n",
      "100%|██████████| 89/89 [00:16<00:00,  5.27it/s]\n",
      "100%|██████████| 89/89 [00:16<00:00,  5.26it/s]\n"
     ]
    },
    {
     "name": "stdout",
     "output_type": "stream",
     "text": [
      "===> Integrating for model_output/beta-posteriors/bet_sim66_U-r15-t125000-id0\n"
     ]
    },
    {
     "name": "stderr",
     "output_type": "stream",
     "text": [
      "  3%|▎         | 3/89 [00:00<00:14,  5.95it/s]"
     ]
    },
    {
     "name": "stdout",
     "output_type": "stream",
     "text": [
      "===> Integrating for model_output/beta-posteriors/bet_sim68_U-r15-t125000-id0\n"
     ]
    },
    {
     "name": "stderr",
     "output_type": "stream",
     "text": [
      "  0%|          | 0/89 [00:00<?, ?it/s]"
     ]
    },
    {
     "name": "stdout",
     "output_type": "stream",
     "text": [
      "===> Integrating for model_output/beta-posteriors/bet_sim70_U-r15-t125000-id0\n"
     ]
    },
    {
     "name": "stderr",
     "output_type": "stream",
     "text": [
      "  6%|▌         | 5/89 [00:00<00:13,  6.05it/s]"
     ]
    },
    {
     "name": "stdout",
     "output_type": "stream",
     "text": [
      "===> Integrating for model_output/beta-posteriors/bet_sim72_U-r15-t125000-id0\n"
     ]
    },
    {
     "name": "stderr",
     "output_type": "stream",
     "text": [
      "  7%|▋         | 6/89 [00:01<00:13,  5.97it/s]"
     ]
    },
    {
     "name": "stdout",
     "output_type": "stream",
     "text": [
      "===> Integrating for model_output/beta-posteriors/bet_sim74_U-r15-t125000-id0\n"
     ]
    },
    {
     "name": "stderr",
     "output_type": "stream",
     "text": [
      "  7%|▋         | 6/89 [00:01<00:13,  5.95it/s]"
     ]
    },
    {
     "name": "stdout",
     "output_type": "stream",
     "text": [
      "===> Integrating for model_output/beta-posteriors/bet_sim76_U-r15-t125000-id0\n"
     ]
    },
    {
     "name": "stderr",
     "output_type": "stream",
     "text": [
      "  1%|          | 1/89 [00:00<00:14,  6.16it/s]"
     ]
    },
    {
     "name": "stdout",
     "output_type": "stream",
     "text": [
      "===> Integrating for model_output/beta-posteriors/bet_sim80_U-r15-t125000-id0\n"
     ]
    },
    {
     "name": "stderr",
     "output_type": "stream",
     "text": [
      "  9%|▉         | 8/89 [00:01<00:13,  5.82it/s]]"
     ]
    },
    {
     "name": "stdout",
     "output_type": "stream",
     "text": [
      "===> Integrating for model_output/beta-posteriors/bet_sim82_U-r15-t125000-id0\n"
     ]
    },
    {
     "name": "stderr",
     "output_type": "stream",
     "text": [
      "  3%|▎         | 3/89 [00:00<00:15,  5.64it/s]]"
     ]
    },
    {
     "name": "stdout",
     "output_type": "stream",
     "text": [
      "===> Integrating for model_output/beta-posteriors/bet_sim78_U-r15-t125000-id0\n"
     ]
    },
    {
     "name": "stderr",
     "output_type": "stream",
     "text": [
      "  3%|▎         | 3/89 [00:00<00:15,  5.49it/s]"
     ]
    },
    {
     "name": "stdout",
     "output_type": "stream",
     "text": [
      "===> Integrating for model_output/beta-posteriors/bet_sim86_U-r15-t125000-id0\n"
     ]
    },
    {
     "name": "stderr",
     "output_type": "stream",
     "text": [
      "  4%|▍         | 4/89 [00:00<00:15,  5.33it/s]"
     ]
    },
    {
     "name": "stdout",
     "output_type": "stream",
     "text": [
      "===> Integrating for model_output/beta-posteriors/bet_sim88_U-r15-t125000-id0"
     ]
    },
    {
     "name": "stderr",
     "output_type": "stream",
     "text": [
      "  3%|▎         | 3/89 [00:00<00:16,  5.33it/s]"
     ]
    },
    {
     "name": "stdout",
     "output_type": "stream",
     "text": [
      "\n"
     ]
    },
    {
     "name": "stderr",
     "output_type": "stream",
     "text": [
      "  4%|▍         | 4/89 [00:00<00:16,  5.28it/s]]"
     ]
    },
    {
     "name": "stdout",
     "output_type": "stream",
     "text": [
      "===> Integrating for model_output/beta-posteriors/bet_sim84_U-r15-t125000-id0\n"
     ]
    },
    {
     "name": "stderr",
     "output_type": "stream",
     "text": [
      "  2%|▏         | 2/89 [00:00<00:17,  5.10it/s]]"
     ]
    },
    {
     "name": "stdout",
     "output_type": "stream",
     "text": [
      "===> Integrating for model_output/beta-posteriors/bet_sim90_U-r15-t125000-id0\n"
     ]
    },
    {
     "name": "stderr",
     "output_type": "stream",
     "text": [
      " 17%|█▋        | 15/89 [00:02<00:14,  5.26it/s]"
     ]
    },
    {
     "name": "stdout",
     "output_type": "stream",
     "text": [
      "===> Integrating for model_output/beta-posteriors/bet_sim92_U-r15-t125000-id0"
     ]
    },
    {
     "name": "stderr",
     "output_type": "stream",
     "text": [
      " 13%|█▎        | 12/89 [00:02<00:14,  5.26it/s]"
     ]
    },
    {
     "name": "stdout",
     "output_type": "stream",
     "text": [
      "\n"
     ]
    },
    {
     "name": "stderr",
     "output_type": "stream",
     "text": [
      "  3%|▎         | 3/89 [00:00<00:15,  5.38it/s]]"
     ]
    },
    {
     "name": "stdout",
     "output_type": "stream",
     "text": [
      "===> Integrating for model_output/beta-posteriors/bet_sim94_U-r15-t125000-id0\n"
     ]
    },
    {
     "name": "stderr",
     "output_type": "stream",
     "text": [
      "  8%|▊         | 7/89 [00:01<00:15,  5.27it/s]"
     ]
    },
    {
     "name": "stdout",
     "output_type": "stream",
     "text": [
      "===> Integrating for model_output/beta-posteriors/bet_sim96_U-r15-t125000-id0\n"
     ]
    },
    {
     "name": "stderr",
     "output_type": "stream",
     "text": [
      " 87%|████████▋ | 77/89 [00:14<00:02,  5.13it/s]\n",
      " 84%|████████▍ | 75/89 [00:14<00:02,  5.03it/s]\n",
      "100%|██████████| 89/89 [00:16<00:00,  5.34it/s]\n",
      "100%|██████████| 89/89 [00:16<00:00,  5.35it/s]\n",
      "100%|██████████| 89/89 [00:16<00:00,  5.32it/s]\n",
      "100%|██████████| 89/89 [00:16<00:00,  5.30it/s]\n",
      " 92%|█████████▏| 82/89 [00:15<00:01,  4.93it/s]\n",
      "100%|██████████| 89/89 [00:16<00:00,  5.35it/s]\n",
      "100%|██████████| 89/89 [00:16<00:00,  5.38it/s]\n",
      "100%|██████████| 89/89 [00:16<00:00,  5.27it/s]\n",
      "100%|██████████| 89/89 [00:16<00:00,  5.28it/s]\n",
      "100%|██████████| 89/89 [00:16<00:00,  5.27it/s]\n",
      "100%|██████████| 89/89 [00:16<00:00,  5.30it/s]\n",
      "100%|██████████| 89/89 [00:17<00:00,  4.92it/s]\n",
      "100%|██████████| 89/89 [00:17<00:00,  5.21it/s]\n",
      "100%|██████████| 89/89 [00:16<00:00,  5.26it/s]\n"
     ]
    },
    {
     "name": "stdout",
     "output_type": "stream",
     "text": [
      "===> Integrating for model_output/beta-posteriors/bet_sim97_U-r15-t125000-id0\n"
     ]
    },
    {
     "name": "stderr",
     "output_type": "stream",
     "text": [
      "  4%|▍         | 4/89 [00:00<00:15,  5.39it/s]"
     ]
    },
    {
     "name": "stdout",
     "output_type": "stream",
     "text": [
      "===> Integrating for model_output/beta-posteriors/bet_sim99_U-r15-t125000-id0\n"
     ]
    },
    {
     "name": "stderr",
     "output_type": "stream",
     "text": [
      "100%|██████████| 89/89 [00:08<00:00, 10.52it/s]\n",
      "100%|██████████| 89/89 [00:07<00:00, 11.26it/s]\n"
     ]
    },
    {
     "name": "stdout",
     "output_type": "stream",
     "text": [
      "===> Integrating for model_output/beta-posteriors/bet_sim98_U-r15-t125000-id0\n"
     ]
    },
    {
     "name": "stderr",
     "output_type": "stream",
     "text": [
      "  4%|▍         | 4/89 [00:00<00:04, 18.56it/s]"
     ]
    },
    {
     "name": "stdout",
     "output_type": "stream",
     "text": [
      "===> Integrating for model_output/beta-posteriors/bet_sim100_U-r15-t125000-id0\n"
     ]
    },
    {
     "name": "stderr",
     "output_type": "stream",
     "text": [
      "100%|██████████| 89/89 [00:04<00:00, 18.40it/s]\n",
      "100%|██████████| 89/89 [00:04<00:00, 18.56it/s]\n"
     ]
    },
    {
     "name": "stdout",
     "output_type": "stream",
     "text": [
      "===> Integrating for model_output/beta-posteriors/bet_sim3_L-r15-t125000-id1===> Integrating for model_output/beta-posteriors/bet_sim7_L-r15-t125000-id1===> Integrating for model_output/beta-posteriors/bet_sim1_L-r15-t125000-id1===> Integrating for model_output/beta-posteriors/bet_sim11_L-r15-t125000-id1===> Integrating for model_output/beta-posteriors/bet_sim9_L-r15-t125000-id1===> Integrating for model_output/beta-posteriors/bet_sim5_L-r15-t125000-id1===> Integrating for model_output/beta-posteriors/bet_sim13_L-r15-t125000-id1===> Integrating for model_output/beta-posteriors/bet_sim15_L-r15-t125000-id1\n",
      "===> Integrating for model_output/beta-posteriors/bet_sim19_L-r15-t125000-id1\n",
      "\n",
      "===> Integrating for model_output/beta-posteriors/bet_sim17_L-r15-t125000-id1\n",
      "===> Integrating for model_output/beta-posteriors/bet_sim21_L-r15-t125000-id1\n",
      "\n",
      "\n",
      "===> Integrating for model_output/beta-posteriors/bet_sim23_L-r15-t125000-id1\n",
      "===> Integrating for model_output/beta-posteriors/bet_sim25_L-r15-t125000-id1===> Integrating for model_output/beta-posteriors/bet_sim29_L-r15-t125000-id1===> Integrating for model_output/beta-posteriors/bet_sim27_L-r15-t125000-id1"
     ]
    },
    {
     "name": "stderr",
     "output_type": "stream",
     "text": [
      "  0%|          | 0/89 [00:00<?, ?it/s]"
     ]
    },
    {
     "name": "stdout",
     "output_type": "stream",
     "text": [
      "\n",
      "===> Integrating for model_output/beta-posteriors/bet_sim31_L-r15-t125000-id1"
     ]
    },
    {
     "name": "stderr",
     "output_type": "stream",
     "text": [
      "  0%|          | 0/89 [00:00<?, ?it/s]"
     ]
    },
    {
     "name": "stdout",
     "output_type": "stream",
     "text": [
      "\n"
     ]
    },
    {
     "name": "stderr",
     "output_type": "stream",
     "text": [
      "  0%|          | 0/89 [00:00<?, ?it/s]"
     ]
    },
    {
     "name": "stdout",
     "output_type": "stream",
     "text": [
      "\n"
     ]
    },
    {
     "name": "stderr",
     "output_type": "stream",
     "text": [
      "  0%|          | 0/89 [00:00<?, ?it/s]"
     ]
    },
    {
     "name": "stdout",
     "output_type": "stream",
     "text": [
      "\n"
     ]
    },
    {
     "name": "stderr",
     "output_type": "stream",
     "text": [
      "  0%|          | 0/89 [00:00<?, ?it/s]"
     ]
    },
    {
     "name": "stdout",
     "output_type": "stream",
     "text": [
      "\n"
     ]
    },
    {
     "name": "stderr",
     "output_type": "stream",
     "text": [
      "  0%|          | 0/89 [00:00<?, ?it/s]"
     ]
    },
    {
     "name": "stdout",
     "output_type": "stream",
     "text": [
      "\n",
      "\n",
      "\n"
     ]
    },
    {
     "name": "stderr",
     "output_type": "stream",
     "text": [
      "  1%|          | 1/89 [00:00<00:11,  7.90it/s]"
     ]
    },
    {
     "name": "stdout",
     "output_type": "stream",
     "text": [
      "1 L-r15-t125000-id1\n"
     ]
    },
    {
     "name": "stderr",
     "output_type": "stream",
     "text": [
      " 99%|█████████▉| 88/89 [00:14<00:00,  4.79it/s]\n",
      "100%|██████████| 89/89 [00:14<00:00,  5.99it/s]\n",
      "100%|██████████| 89/89 [00:14<00:00,  5.98it/s]\n",
      "100%|██████████| 89/89 [00:14<00:00,  5.97it/s]\n",
      "100%|██████████| 89/89 [00:14<00:00,  4.73it/s]\n",
      "100%|██████████| 89/89 [00:14<00:00,  5.96it/s]\n",
      "100%|██████████| 89/89 [00:14<00:00,  4.70it/s]\n",
      "100%|██████████| 89/89 [00:14<00:00,  5.95it/s]\n",
      "100%|██████████| 89/89 [00:14<00:00,  5.94it/s]\n",
      " 99%|█████████▉| 88/89 [00:15<00:00,  4.50it/s]\n",
      "100%|██████████| 89/89 [00:15<00:00,  5.90it/s]\n",
      "\n",
      "100%|██████████| 89/89 [00:15<00:00,  5.89it/s]\n",
      "100%|██████████| 89/89 [00:15<00:00,  5.88it/s]\n",
      "100%|██████████| 89/89 [00:15<00:00,  5.84it/s]\n",
      "100%|██████████| 89/89 [00:15<00:00,  5.83it/s]\n"
     ]
    },
    {
     "name": "stdout",
     "output_type": "stream",
     "text": [
      "===> Integrating for model_output/beta-posteriors/bet_sim32_L-r15-t125000-id1\n"
     ]
    },
    {
     "name": "stderr",
     "output_type": "stream",
     "text": [
      "  0%|          | 0/89 [00:00<?, ?it/s]"
     ]
    },
    {
     "name": "stdout",
     "output_type": "stream",
     "text": [
      "===> Integrating for model_output/beta-posteriors/bet_sim22_L-r15-t125000-id1\n"
     ]
    },
    {
     "name": "stderr",
     "output_type": "stream",
     "text": [
      "  0%|          | 0/89 [00:00<?, ?it/s]"
     ]
    },
    {
     "name": "stdout",
     "output_type": "stream",
     "text": [
      "===> Integrating for model_output/beta-posteriors/bet_sim24_L-r15-t125000-id1===> Integrating for model_output/beta-posteriors/bet_sim4_L-r15-t125000-id1\n",
      "\n",
      "===> Integrating for model_output/beta-posteriors/bet_sim12_L-r15-t125000-id1"
     ]
    },
    {
     "name": "stderr",
     "output_type": "stream",
     "text": [
      "  0%|          | 0/89 [00:00<?, ?it/s]"
     ]
    },
    {
     "name": "stdout",
     "output_type": "stream",
     "text": [
      "\n"
     ]
    },
    {
     "name": "stderr",
     "output_type": "stream",
     "text": [
      "  0%|          | 0/89 [00:00<?, ?it/s]"
     ]
    },
    {
     "name": "stdout",
     "output_type": "stream",
     "text": [
      "===> Integrating for model_output/beta-posteriors/bet_sim30_L-r15-t125000-id1"
     ]
    },
    {
     "name": "stderr",
     "output_type": "stream",
     "text": [
      "  0%|          | 0/89 [00:00<?, ?it/s]"
     ]
    },
    {
     "name": "stdout",
     "output_type": "stream",
     "text": [
      "\n"
     ]
    },
    {
     "name": "stderr",
     "output_type": "stream",
     "text": [
      "  0%|          | 0/89 [00:00<?, ?it/s]"
     ]
    },
    {
     "name": "stdout",
     "output_type": "stream",
     "text": [
      "===> Integrating for model_output/beta-posteriors/bet_sim8_L-r15-t125000-id1\n"
     ]
    },
    {
     "name": "stderr",
     "output_type": "stream",
     "text": [
      "  1%|          | 1/89 [00:00<00:14,  5.92it/s]"
     ]
    },
    {
     "name": "stdout",
     "output_type": "stream",
     "text": [
      "===> Integrating for model_output/beta-posteriors/bet_sim6_L-r15-t125000-id1\n"
     ]
    },
    {
     "name": "stderr",
     "output_type": "stream",
     "text": [
      "  0%|          | 0/89 [00:00<?, ?it/s]"
     ]
    },
    {
     "name": "stdout",
     "output_type": "stream",
     "text": [
      "===> Integrating for model_output/beta-posteriors/bet_sim2_L-r15-t125000-id1\n"
     ]
    },
    {
     "name": "stderr",
     "output_type": "stream",
     "text": [
      "  0%|          | 0/89 [00:00<?, ?it/s]"
     ]
    },
    {
     "name": "stdout",
     "output_type": "stream",
     "text": [
      "===> Integrating for model_output/beta-posteriors/bet_sim20_L-r15-t125000-id1\n"
     ]
    },
    {
     "name": "stderr",
     "output_type": "stream",
     "text": [
      "  1%|          | 1/89 [00:00<00:15,  5.71it/s]"
     ]
    },
    {
     "name": "stdout",
     "output_type": "stream",
     "text": [
      "===> Integrating for model_output/beta-posteriors/bet_sim16_L-r15-t125000-id1"
     ]
    },
    {
     "name": "stderr",
     "output_type": "stream",
     "text": [
      "  1%|          | 1/89 [00:00<00:15,  5.71it/s]"
     ]
    },
    {
     "name": "stdout",
     "output_type": "stream",
     "text": [
      "\n"
     ]
    },
    {
     "name": "stderr",
     "output_type": "stream",
     "text": [
      "  1%|          | 1/89 [00:00<00:15,  5.80it/s]"
     ]
    },
    {
     "name": "stdout",
     "output_type": "stream",
     "text": [
      "===> Integrating for model_output/beta-posteriors/bet_sim10_L-r15-t125000-id1\n"
     ]
    },
    {
     "name": "stderr",
     "output_type": "stream",
     "text": [
      "  0%|          | 0/89 [00:00<?, ?it/s]"
     ]
    },
    {
     "name": "stdout",
     "output_type": "stream",
     "text": [
      "===> Integrating for model_output/beta-posteriors/bet_sim14_L-r15-t125000-id1\n"
     ]
    },
    {
     "name": "stderr",
     "output_type": "stream",
     "text": [
      "  1%|          | 1/89 [00:00<00:16,  5.49it/s]"
     ]
    },
    {
     "name": "stdout",
     "output_type": "stream",
     "text": [
      "===> Integrating for model_output/beta-posteriors/bet_sim18_L-r15-t125000-id1"
     ]
    },
    {
     "name": "stderr",
     "output_type": "stream",
     "text": [
      "  0%|          | 0/89 [00:00<?, ?it/s]"
     ]
    },
    {
     "name": "stdout",
     "output_type": "stream",
     "text": [
      "\n"
     ]
    },
    {
     "name": "stderr",
     "output_type": "stream",
     "text": [
      "  1%|          | 1/89 [00:00<00:15,  5.68it/s]"
     ]
    },
    {
     "name": "stdout",
     "output_type": "stream",
     "text": [
      "===> Integrating for model_output/beta-posteriors/bet_sim26_L-r15-t125000-id1\n"
     ]
    },
    {
     "name": "stderr",
     "output_type": "stream",
     "text": [
      "  1%|          | 1/89 [00:00<00:15,  5.51it/s]"
     ]
    },
    {
     "name": "stdout",
     "output_type": "stream",
     "text": [
      "===> Integrating for model_output/beta-posteriors/bet_sim28_L-r15-t125000-id1"
     ]
    },
    {
     "name": "stderr",
     "output_type": "stream",
     "text": [
      "  1%|          | 1/89 [00:00<00:15,  5.61it/s]"
     ]
    },
    {
     "name": "stdout",
     "output_type": "stream",
     "text": [
      "\n"
     ]
    },
    {
     "name": "stderr",
     "output_type": "stream",
     "text": [
      "100%|██████████| 89/89 [00:17<00:00,  5.23it/s]\n",
      "100%|██████████| 89/89 [00:17<00:00,  5.18it/s]\n",
      "100%|██████████| 89/89 [00:17<00:00,  5.20it/s]\n",
      "100%|██████████| 89/89 [00:17<00:00,  5.17it/s]\n",
      "100%|██████████| 89/89 [00:17<00:00,  5.57it/s]\n",
      "100%|██████████| 89/89 [00:17<00:00,  5.19it/s]\n",
      "100%|██████████| 89/89 [00:17<00:00,  5.20it/s]\n",
      "100%|██████████| 89/89 [00:17<00:00,  5.14it/s]\n",
      "100%|██████████| 89/89 [00:17<00:00,  5.18it/s]\n",
      "\n",
      "100%|██████████| 89/89 [00:17<00:00,  5.11it/s]\n",
      "100%|██████████| 89/89 [00:17<00:00,  5.14it/s]\n",
      " 99%|█████████▉| 88/89 [00:17<00:00,  5.35it/s]\n",
      "100%|██████████| 89/89 [00:17<00:00,  5.10it/s]\n",
      "100%|██████████| 89/89 [00:17<00:00,  5.15it/s]\n",
      "100%|██████████| 89/89 [00:17<00:00,  5.11it/s]\n"
     ]
    },
    {
     "name": "stdout",
     "output_type": "stream",
     "text": [
      "===> Integrating for model_output/beta-posteriors/bet_sim33_L-r15-t125000-id1\n"
     ]
    },
    {
     "name": "stderr",
     "output_type": "stream",
     "text": [
      "  0%|          | 0/89 [00:00<?, ?it/s]"
     ]
    },
    {
     "name": "stdout",
     "output_type": "stream",
     "text": [
      "===> Integrating for model_output/beta-posteriors/bet_sim35_L-r15-t125000-id1\n"
     ]
    },
    {
     "name": "stderr",
     "output_type": "stream",
     "text": [
      "  0%|          | 0/89 [00:00<?, ?it/s]"
     ]
    },
    {
     "name": "stdout",
     "output_type": "stream",
     "text": [
      "===> Integrating for model_output/beta-posteriors/bet_sim37_L-r15-t125000-id1"
     ]
    },
    {
     "name": "stderr",
     "output_type": "stream",
     "text": [
      "  0%|          | 0/89 [00:00<?, ?it/s]"
     ]
    },
    {
     "name": "stdout",
     "output_type": "stream",
     "text": [
      "\n"
     ]
    },
    {
     "name": "stderr",
     "output_type": "stream",
     "text": [
      "  1%|          | 1/89 [00:00<00:16,  5.43it/s]"
     ]
    },
    {
     "name": "stdout",
     "output_type": "stream",
     "text": [
      "===> Integrating for model_output/beta-posteriors/bet_sim39_L-r15-t125000-id1\n"
     ]
    },
    {
     "name": "stderr",
     "output_type": "stream",
     "text": [
      "  1%|          | 1/89 [00:00<00:15,  5.67it/s]"
     ]
    },
    {
     "name": "stdout",
     "output_type": "stream",
     "text": [
      "===> Integrating for model_output/beta-posteriors/bet_sim41_L-r15-t125000-id1\n"
     ]
    },
    {
     "name": "stderr",
     "output_type": "stream",
     "text": [
      "  1%|          | 1/89 [00:00<00:16,  5.48it/s]"
     ]
    },
    {
     "name": "stdout",
     "output_type": "stream",
     "text": [
      "===> Integrating for model_output/beta-posteriors/bet_sim43_L-r15-t125000-id1\n"
     ]
    },
    {
     "name": "stderr",
     "output_type": "stream",
     "text": [
      "  1%|          | 1/89 [00:00<00:15,  5.80it/s]"
     ]
    },
    {
     "name": "stdout",
     "output_type": "stream",
     "text": [
      "===> Integrating for model_output/beta-posteriors/bet_sim45_L-r15-t125000-id1\n"
     ]
    },
    {
     "name": "stderr",
     "output_type": "stream",
     "text": [
      "  1%|          | 1/89 [00:00<00:15,  5.70it/s]"
     ]
    },
    {
     "name": "stdout",
     "output_type": "stream",
     "text": [
      "===> Integrating for model_output/beta-posteriors/bet_sim47_L-r15-t125000-id1\n"
     ]
    },
    {
     "name": "stderr",
     "output_type": "stream",
     "text": [
      "  2%|▏         | 2/89 [00:00<00:16,  5.34it/s]"
     ]
    },
    {
     "name": "stdout",
     "output_type": "stream",
     "text": [
      "===> Integrating for model_output/beta-posteriors/bet_sim49_L-r15-t125000-id1\n"
     ]
    },
    {
     "name": "stderr",
     "output_type": "stream",
     "text": [
      "  3%|▎         | 3/89 [00:00<00:16,  5.23it/s]"
     ]
    },
    {
     "name": "stdout",
     "output_type": "stream",
     "text": [
      "===> Integrating for model_output/beta-posteriors/bet_sim51_L-r15-t125000-id1\n"
     ]
    },
    {
     "name": "stderr",
     "output_type": "stream",
     "text": [
      "  2%|▏         | 2/89 [00:00<00:14,  6.01it/s]"
     ]
    },
    {
     "name": "stdout",
     "output_type": "stream",
     "text": [
      "===> Integrating for model_output/beta-posteriors/bet_sim53_L-r15-t125000-id1\n"
     ]
    },
    {
     "name": "stderr",
     "output_type": "stream",
     "text": [
      "  2%|▏         | 2/89 [00:00<00:13,  6.31it/s]"
     ]
    },
    {
     "name": "stdout",
     "output_type": "stream",
     "text": [
      "===> Integrating for model_output/beta-posteriors/bet_sim55_L-r15-t125000-id1"
     ]
    },
    {
     "name": "stderr",
     "output_type": "stream",
     "text": [
      "  4%|▍         | 4/89 [00:00<00:15,  5.42it/s]"
     ]
    },
    {
     "name": "stdout",
     "output_type": "stream",
     "text": [
      "\n"
     ]
    },
    {
     "name": "stderr",
     "output_type": "stream",
     "text": [
      "  3%|▎         | 3/89 [00:00<00:15,  5.64it/s]"
     ]
    },
    {
     "name": "stdout",
     "output_type": "stream",
     "text": [
      "===> Integrating for model_output/beta-posteriors/bet_sim57_L-r15-t125000-id1"
     ]
    },
    {
     "name": "stderr",
     "output_type": "stream",
     "text": [
      "  2%|▏         | 2/89 [00:00<00:15,  5.78it/s]"
     ]
    },
    {
     "name": "stdout",
     "output_type": "stream",
     "text": [
      "\n"
     ]
    },
    {
     "name": "stderr",
     "output_type": "stream",
     "text": [
      "  3%|▎         | 3/89 [00:00<00:13,  6.23it/s]"
     ]
    },
    {
     "name": "stdout",
     "output_type": "stream",
     "text": [
      "===> Integrating for model_output/beta-posteriors/bet_sim59_L-r15-t125000-id1\n"
     ]
    },
    {
     "name": "stderr",
     "output_type": "stream",
     "text": [
      "  6%|▌         | 5/89 [00:00<00:14,  5.67it/s]"
     ]
    },
    {
     "name": "stdout",
     "output_type": "stream",
     "text": [
      "===> Integrating for model_output/beta-posteriors/bet_sim61_L-r15-t125000-id1\n"
     ]
    },
    {
     "name": "stderr",
     "output_type": "stream",
     "text": [
      "  6%|▌         | 5/89 [00:00<00:15,  5.53it/s]"
     ]
    },
    {
     "name": "stdout",
     "output_type": "stream",
     "text": [
      "===> Integrating for model_output/beta-posteriors/bet_sim63_L-r15-t125000-id1\n"
     ]
    },
    {
     "name": "stderr",
     "output_type": "stream",
     "text": [
      "100%|██████████| 89/89 [00:17<00:00,  5.13it/s]\n",
      "100%|██████████| 89/89 [00:17<00:00,  5.15it/s]\n",
      "100%|██████████| 89/89 [00:17<00:00,  5.16it/s]\n",
      "100%|██████████| 89/89 [00:17<00:00,  5.11it/s]\n",
      "100%|██████████| 89/89 [00:17<00:00,  5.14it/s]\n",
      "100%|██████████| 89/89 [00:17<00:00,  5.15it/s]\n",
      "100%|██████████| 89/89 [00:17<00:00,  5.18it/s]\n",
      " 97%|█████████▋| 86/89 [00:16<00:00,  5.21it/s]\n",
      " 98%|█████████▊| 87/89 [00:17<00:00,  5.27it/s]\n",
      "100%|██████████| 89/89 [00:17<00:00,  5.12it/s]\n",
      "100%|██████████| 89/89 [00:17<00:00,  5.09it/s]\n",
      "100%|██████████| 89/89 [00:17<00:00,  5.10it/s]\n",
      "100%|██████████| 89/89 [00:17<00:00,  5.05it/s]\n",
      "100%|██████████| 89/89 [00:17<00:00,  5.09it/s]\n",
      "100%|██████████| 89/89 [00:17<00:00,  5.12it/s]\n",
      "100%|██████████| 89/89 [00:17<00:00,  5.07it/s]\n"
     ]
    },
    {
     "name": "stdout",
     "output_type": "stream",
     "text": [
      "===> Integrating for model_output/beta-posteriors/bet_sim34_L-r15-t125000-id1\n"
     ]
    },
    {
     "name": "stderr",
     "output_type": "stream",
     "text": [
      "  0%|          | 0/89 [00:00<?, ?it/s]"
     ]
    },
    {
     "name": "stdout",
     "output_type": "stream",
     "text": [
      "===> Integrating for model_output/beta-posteriors/bet_sim36_L-r15-t125000-id1\n"
     ]
    },
    {
     "name": "stderr",
     "output_type": "stream",
     "text": [
      "  1%|          | 1/89 [00:00<00:14,  6.10it/s]"
     ]
    },
    {
     "name": "stdout",
     "output_type": "stream",
     "text": [
      "===> Integrating for model_output/beta-posteriors/bet_sim40_L-r15-t125000-id1\n"
     ]
    },
    {
     "name": "stderr",
     "output_type": "stream",
     "text": [
      "  1%|          | 1/89 [00:00<00:15,  5.52it/s]"
     ]
    },
    {
     "name": "stdout",
     "output_type": "stream",
     "text": [
      "===> Integrating for model_output/beta-posteriors/bet_sim38_L-r15-t125000-id1\n"
     ]
    },
    {
     "name": "stderr",
     "output_type": "stream",
     "text": [
      "  2%|▏         | 2/89 [00:00<00:15,  5.68it/s]"
     ]
    },
    {
     "name": "stdout",
     "output_type": "stream",
     "text": [
      "===> Integrating for model_output/beta-posteriors/bet_sim42_L-r15-t125000-id1\n"
     ]
    },
    {
     "name": "stderr",
     "output_type": "stream",
     "text": [
      "  1%|          | 1/89 [00:00<00:16,  5.26it/s]"
     ]
    },
    {
     "name": "stdout",
     "output_type": "stream",
     "text": [
      "===> Integrating for model_output/beta-posteriors/bet_sim50_L-r15-t125000-id1\n"
     ]
    },
    {
     "name": "stderr",
     "output_type": "stream",
     "text": [
      "  2%|▏         | 2/89 [00:00<00:16,  5.35it/s]"
     ]
    },
    {
     "name": "stdout",
     "output_type": "stream",
     "text": [
      "===> Integrating for model_output/beta-posteriors/bet_sim46_L-r15-t125000-id1\n"
     ]
    },
    {
     "name": "stderr",
     "output_type": "stream",
     "text": [
      "  2%|▏         | 2/89 [00:00<00:16,  5.17it/s]"
     ]
    },
    {
     "name": "stdout",
     "output_type": "stream",
     "text": [
      "===> Integrating for model_output/beta-posteriors/bet_sim44_L-r15-t125000-id1\n"
     ]
    },
    {
     "name": "stderr",
     "output_type": "stream",
     "text": [
      "  3%|▎         | 3/89 [00:00<00:16,  5.13it/s]"
     ]
    },
    {
     "name": "stdout",
     "output_type": "stream",
     "text": [
      "===> Integrating for model_output/beta-posteriors/bet_sim48_L-r15-t125000-id1\n"
     ]
    },
    {
     "name": "stderr",
     "output_type": "stream",
     "text": [
      "  3%|▎         | 3/89 [00:00<00:17,  4.99it/s]"
     ]
    },
    {
     "name": "stdout",
     "output_type": "stream",
     "text": [
      "===> Integrating for model_output/beta-posteriors/bet_sim54_L-r15-t125000-id1\n"
     ]
    },
    {
     "name": "stderr",
     "output_type": "stream",
     "text": [
      "  4%|▍         | 4/89 [00:00<00:16,  5.06it/s]"
     ]
    },
    {
     "name": "stdout",
     "output_type": "stream",
     "text": [
      "===> Integrating for model_output/beta-posteriors/bet_sim52_L-r15-t125000-id1\n"
     ]
    },
    {
     "name": "stderr",
     "output_type": "stream",
     "text": [
      "  7%|▋         | 6/89 [00:01<00:16,  5.01it/s]"
     ]
    },
    {
     "name": "stdout",
     "output_type": "stream",
     "text": [
      "===> Integrating for model_output/beta-posteriors/bet_sim56_L-r15-t125000-id1\n"
     ]
    },
    {
     "name": "stderr",
     "output_type": "stream",
     "text": [
      "  4%|▍         | 4/89 [00:00<00:16,  5.04it/s]"
     ]
    },
    {
     "name": "stdout",
     "output_type": "stream",
     "text": [
      "===> Integrating for model_output/beta-posteriors/bet_sim60_L-r15-t125000-id1\n"
     ]
    },
    {
     "name": "stderr",
     "output_type": "stream",
     "text": [
      "  4%|▍         | 4/89 [00:00<00:17,  4.76it/s]"
     ]
    },
    {
     "name": "stdout",
     "output_type": "stream",
     "text": [
      "===> Integrating for model_output/beta-posteriors/bet_sim58_L-r15-t125000-id1\n"
     ]
    },
    {
     "name": "stderr",
     "output_type": "stream",
     "text": [
      "  6%|▌         | 5/89 [00:01<00:17,  4.76it/s]"
     ]
    },
    {
     "name": "stdout",
     "output_type": "stream",
     "text": [
      "===> Integrating for model_output/beta-posteriors/bet_sim64_L-r15-t125000-id1\n"
     ]
    },
    {
     "name": "stderr",
     "output_type": "stream",
     "text": [
      "  2%|▏         | 2/89 [00:00<00:19,  4.56it/s]"
     ]
    },
    {
     "name": "stdout",
     "output_type": "stream",
     "text": [
      "===> Integrating for model_output/beta-posteriors/bet_sim62_L-r15-t125000-id1\n"
     ]
    },
    {
     "name": "stderr",
     "output_type": "stream",
     "text": [
      " 98%|█████████▊| 87/89 [00:16<00:00,  5.49it/s]\n",
      "100%|██████████| 89/89 [00:17<00:00,  5.13it/s]\n",
      "100%|██████████| 89/89 [00:17<00:00,  5.15it/s]\n",
      "100%|██████████| 89/89 [00:17<00:00,  5.15it/s]\n",
      "100%|██████████| 89/89 [00:17<00:00,  5.11it/s]\n",
      " 97%|█████████▋| 86/89 [00:16<00:00,  5.27it/s]\n",
      "100%|██████████| 89/89 [00:17<00:00,  5.14it/s]\n",
      " 96%|█████████▌| 85/89 [00:16<00:00,  5.18it/s]\n",
      "100%|██████████| 89/89 [00:17<00:00,  5.10it/s]\n",
      "100%|██████████| 89/89 [00:17<00:00,  5.13it/s]\n",
      "100%|██████████| 89/89 [00:17<00:00,  5.12it/s]\n",
      "100%|██████████| 89/89 [00:17<00:00,  5.18it/s]\n",
      "100%|██████████| 89/89 [00:17<00:00,  5.07it/s]\n",
      "100%|██████████| 89/89 [00:17<00:00,  4.84it/s]\n",
      "100%|██████████| 89/89 [00:17<00:00,  5.06it/s]\n",
      "100%|██████████| 89/89 [00:17<00:00,  5.16it/s]\n"
     ]
    },
    {
     "name": "stdout",
     "output_type": "stream",
     "text": [
      "===> Integrating for model_output/beta-posteriors/bet_sim65_L-r15-t125000-id1\n"
     ]
    },
    {
     "name": "stderr",
     "output_type": "stream",
     "text": [
      "  0%|          | 0/89 [00:00<?, ?it/s]"
     ]
    },
    {
     "name": "stdout",
     "output_type": "stream",
     "text": [
      "===> Integrating for model_output/beta-posteriors/bet_sim67_L-r15-t125000-id1"
     ]
    },
    {
     "name": "stderr",
     "output_type": "stream",
     "text": [
      "  1%|          | 1/89 [00:00<00:15,  5.53it/s]"
     ]
    },
    {
     "name": "stdout",
     "output_type": "stream",
     "text": [
      "\n"
     ]
    },
    {
     "name": "stderr",
     "output_type": "stream",
     "text": [
      "  0%|          | 0/89 [00:00<?, ?it/s]"
     ]
    },
    {
     "name": "stdout",
     "output_type": "stream",
     "text": [
      "===> Integrating for model_output/beta-posteriors/bet_sim69_L-r15-t125000-id1\n"
     ]
    },
    {
     "name": "stderr",
     "output_type": "stream",
     "text": [
      "  1%|          | 1/89 [00:00<00:16,  5.49it/s]"
     ]
    },
    {
     "name": "stdout",
     "output_type": "stream",
     "text": [
      "===> Integrating for model_output/beta-posteriors/bet_sim71_L-r15-t125000-id1\n"
     ]
    },
    {
     "name": "stderr",
     "output_type": "stream",
     "text": [
      "  2%|▏         | 2/89 [00:00<00:16,  5.33it/s]"
     ]
    },
    {
     "name": "stdout",
     "output_type": "stream",
     "text": [
      "===> Integrating for model_output/beta-posteriors/bet_sim73_L-r15-t125000-id1\n"
     ]
    },
    {
     "name": "stderr",
     "output_type": "stream",
     "text": [
      "  0%|          | 0/89 [00:00<?, ?it/s]"
     ]
    },
    {
     "name": "stdout",
     "output_type": "stream",
     "text": [
      "===> Integrating for model_output/beta-posteriors/bet_sim75_L-r15-t125000-id1\n"
     ]
    },
    {
     "name": "stderr",
     "output_type": "stream",
     "text": [
      "  1%|          | 1/89 [00:00<00:20,  4.37it/s]"
     ]
    },
    {
     "name": "stdout",
     "output_type": "stream",
     "text": [
      "===> Integrating for model_output/beta-posteriors/bet_sim77_L-r15-t125000-id1\n"
     ]
    },
    {
     "name": "stderr",
     "output_type": "stream",
     "text": [
      "  4%|▍         | 4/89 [00:00<00:17,  4.87it/s]"
     ]
    },
    {
     "name": "stdout",
     "output_type": "stream",
     "text": [
      "===> Integrating for model_output/beta-posteriors/bet_sim79_L-r15-t125000-id1\n"
     ]
    },
    {
     "name": "stderr",
     "output_type": "stream",
     "text": [
      "  6%|▌         | 5/89 [00:00<00:16,  5.10it/s]"
     ]
    },
    {
     "name": "stdout",
     "output_type": "stream",
     "text": [
      "===> Integrating for model_output/beta-posteriors/bet_sim81_L-r15-t125000-id1\n"
     ]
    },
    {
     "name": "stderr",
     "output_type": "stream",
     "text": [
      "  3%|▎         | 3/89 [00:00<00:17,  5.05it/s]"
     ]
    },
    {
     "name": "stdout",
     "output_type": "stream",
     "text": [
      "===> Integrating for model_output/beta-posteriors/bet_sim83_L-r15-t125000-id1\n"
     ]
    },
    {
     "name": "stderr",
     "output_type": "stream",
     "text": [
      "  0%|          | 0/89 [00:00<?, ?it/s]"
     ]
    },
    {
     "name": "stdout",
     "output_type": "stream",
     "text": [
      "===> Integrating for model_output/beta-posteriors/bet_sim85_L-r15-t125000-id1\n"
     ]
    },
    {
     "name": "stderr",
     "output_type": "stream",
     "text": [
      "  1%|          | 1/89 [00:00<00:14,  6.21it/s]"
     ]
    },
    {
     "name": "stdout",
     "output_type": "stream",
     "text": [
      "===> Integrating for model_output/beta-posteriors/bet_sim87_L-r15-t125000-id1\n"
     ]
    },
    {
     "name": "stderr",
     "output_type": "stream",
     "text": [
      "  2%|▏         | 2/89 [00:00<00:17,  5.06it/s]"
     ]
    },
    {
     "name": "stdout",
     "output_type": "stream",
     "text": [
      "===> Integrating for model_output/beta-posteriors/bet_sim89_L-r15-t125000-id1\n"
     ]
    },
    {
     "name": "stderr",
     "output_type": "stream",
     "text": [
      "  6%|▌         | 5/89 [00:01<00:17,  4.88it/s]"
     ]
    },
    {
     "name": "stdout",
     "output_type": "stream",
     "text": [
      "===> Integrating for model_output/beta-posteriors/bet_sim91_L-r15-t125000-id1\n"
     ]
    },
    {
     "name": "stderr",
     "output_type": "stream",
     "text": [
      "  1%|          | 1/89 [00:00<00:17,  5.13it/s]"
     ]
    },
    {
     "name": "stdout",
     "output_type": "stream",
     "text": [
      "===> Integrating for model_output/beta-posteriors/bet_sim93_L-r15-t125000-id1\n"
     ]
    },
    {
     "name": "stderr",
     "output_type": "stream",
     "text": [
      "  3%|▎         | 3/89 [00:00<00:17,  4.82it/s]"
     ]
    },
    {
     "name": "stdout",
     "output_type": "stream",
     "text": [
      "===> Integrating for model_output/beta-posteriors/bet_sim95_L-r15-t125000-id1"
     ]
    },
    {
     "name": "stderr",
     "output_type": "stream",
     "text": [
      "  1%|          | 1/89 [00:00<00:14,  6.21it/s]"
     ]
    },
    {
     "name": "stdout",
     "output_type": "stream",
     "text": [
      "\n"
     ]
    },
    {
     "name": "stderr",
     "output_type": "stream",
     "text": [
      "100%|██████████| 89/89 [00:18<00:00,  4.94it/s]\n",
      "100%|██████████| 89/89 [00:17<00:00,  4.98it/s]\n",
      "100%|██████████| 89/89 [00:18<00:00,  4.94it/s]\n",
      "100%|██████████| 89/89 [00:17<00:00,  4.96it/s]\n",
      "100%|██████████| 89/89 [00:18<00:00,  4.94it/s]\n",
      "100%|██████████| 89/89 [00:17<00:00,  4.95it/s]\n",
      " 94%|█████████▍| 84/89 [00:17<00:01,  4.76it/s]\n",
      "100%|██████████| 89/89 [00:18<00:00,  4.87it/s]\n",
      "100%|██████████| 89/89 [00:17<00:00,  4.96it/s]\n",
      "100%|██████████| 89/89 [00:18<00:00,  4.93it/s]\n",
      "100%|██████████| 89/89 [00:17<00:00,  4.96it/s]\n",
      "100%|██████████| 89/89 [00:18<00:00,  4.86it/s]\n",
      "100%|██████████| 89/89 [00:18<00:00,  4.89it/s]\n",
      "100%|██████████| 89/89 [00:18<00:00,  4.89it/s]\n",
      "100%|██████████| 89/89 [00:18<00:00,  4.87it/s]\n",
      "100%|██████████| 89/89 [00:18<00:00,  4.84it/s]\n"
     ]
    },
    {
     "name": "stdout",
     "output_type": "stream",
     "text": [
      "===> Integrating for model_output/beta-posteriors/bet_sim66_L-r15-t125000-id1\n",
      "===> Integrating for model_output/beta-posteriors/bet_sim68_L-r15-t125000-id1"
     ]
    },
    {
     "name": "stderr",
     "output_type": "stream",
     "text": [
      "  0%|          | 0/89 [00:00<?, ?it/s]"
     ]
    },
    {
     "name": "stdout",
     "output_type": "stream",
     "text": [
      "\n"
     ]
    },
    {
     "name": "stderr",
     "output_type": "stream",
     "text": [
      "  2%|▏         | 2/89 [00:00<00:15,  5.72it/s]"
     ]
    },
    {
     "name": "stdout",
     "output_type": "stream",
     "text": [
      "===> Integrating for model_output/beta-posteriors/bet_sim70_L-r15-t125000-id1\n"
     ]
    },
    {
     "name": "stderr",
     "output_type": "stream",
     "text": [
      "  2%|▏         | 2/89 [00:00<00:15,  5.71it/s]"
     ]
    },
    {
     "name": "stdout",
     "output_type": "stream",
     "text": [
      "===> Integrating for model_output/beta-posteriors/bet_sim72_L-r15-t125000-id1\n"
     ]
    },
    {
     "name": "stderr",
     "output_type": "stream",
     "text": [
      "  1%|          | 1/89 [00:00<00:15,  5.57it/s]"
     ]
    },
    {
     "name": "stdout",
     "output_type": "stream",
     "text": [
      "===> Integrating for model_output/beta-posteriors/bet_sim78_L-r15-t125000-id1\n"
     ]
    },
    {
     "name": "stderr",
     "output_type": "stream",
     "text": [
      "  4%|▍         | 4/89 [00:00<00:15,  5.49it/s]"
     ]
    },
    {
     "name": "stdout",
     "output_type": "stream",
     "text": [
      "===> Integrating for model_output/beta-posteriors/bet_sim74_L-r15-t125000-id1\n",
      "===> Integrating for model_output/beta-posteriors/bet_sim80_L-r15-t125000-id1"
     ]
    },
    {
     "name": "stderr",
     "output_type": "stream",
     "text": [
      "  0%|          | 0/89 [00:00<?, ?it/s]"
     ]
    },
    {
     "name": "stdout",
     "output_type": "stream",
     "text": [
      "\n"
     ]
    },
    {
     "name": "stderr",
     "output_type": "stream",
     "text": [
      "  0%|          | 0/89 [00:00<?, ?it/s].53it/s]"
     ]
    },
    {
     "name": "stdout",
     "output_type": "stream",
     "text": [
      "===> Integrating for model_output/beta-posteriors/bet_sim76_L-r15-t125000-id1\n"
     ]
    },
    {
     "name": "stderr",
     "output_type": "stream",
     "text": [
      "  7%|▋         | 6/89 [00:01<00:15,  5.29it/s]"
     ]
    },
    {
     "name": "stdout",
     "output_type": "stream",
     "text": [
      "===> Integrating for model_output/beta-posteriors/bet_sim84_L-r15-t125000-id1"
     ]
    },
    {
     "name": "stderr",
     "output_type": "stream",
     "text": [
      "  2%|▏         | 2/89 [00:00<00:17,  5.10it/s]"
     ]
    },
    {
     "name": "stdout",
     "output_type": "stream",
     "text": [
      "\n"
     ]
    },
    {
     "name": "stderr",
     "output_type": "stream",
     "text": [
      "  2%|▏         | 2/89 [00:00<00:17,  5.00it/s]"
     ]
    },
    {
     "name": "stdout",
     "output_type": "stream",
     "text": [
      "===> Integrating for model_output/beta-posteriors/bet_sim82_L-r15-t125000-id1\n"
     ]
    },
    {
     "name": "stderr",
     "output_type": "stream",
     "text": [
      "  1%|          | 1/89 [00:00<00:19,  4.45it/s]"
     ]
    },
    {
     "name": "stdout",
     "output_type": "stream",
     "text": [
      "===> Integrating for model_output/beta-posteriors/bet_sim86_L-r15-t125000-id1\n"
     ]
    },
    {
     "name": "stderr",
     "output_type": "stream",
     "text": [
      "  7%|▋         | 6/89 [00:01<00:18,  4.49it/s]"
     ]
    },
    {
     "name": "stdout",
     "output_type": "stream",
     "text": [
      "===> Integrating for model_output/beta-posteriors/bet_sim88_L-r15-t125000-id1\n"
     ]
    },
    {
     "name": "stderr",
     "output_type": "stream",
     "text": [
      " 10%|█         | 9/89 [00:01<00:20,  3.95it/s]"
     ]
    },
    {
     "name": "stdout",
     "output_type": "stream",
     "text": [
      "===> Integrating for model_output/beta-posteriors/bet_sim94_L-r15-t125000-id1\n"
     ]
    },
    {
     "name": "stderr",
     "output_type": "stream",
     "text": [
      "  6%|▌         | 5/89 [00:01<00:21,  3.89it/s]"
     ]
    },
    {
     "name": "stdout",
     "output_type": "stream",
     "text": [
      "===> Integrating for model_output/beta-posteriors/bet_sim90_L-r15-t125000-id1"
     ]
    },
    {
     "name": "stderr",
     "output_type": "stream",
     "text": [
      "  3%|▎         | 3/89 [00:00<00:23,  3.71it/s]"
     ]
    },
    {
     "name": "stdout",
     "output_type": "stream",
     "text": [
      "\n"
     ]
    },
    {
     "name": "stderr",
     "output_type": "stream",
     "text": [
      "  3%|▎         | 3/89 [00:00<00:21,  4.00it/s]"
     ]
    },
    {
     "name": "stdout",
     "output_type": "stream",
     "text": [
      "===> Integrating for model_output/beta-posteriors/bet_sim92_L-r15-t125000-id1\n"
     ]
    },
    {
     "name": "stderr",
     "output_type": "stream",
     "text": [
      "  2%|▏         | 2/89 [00:00<00:19,  4.47it/s]]"
     ]
    },
    {
     "name": "stdout",
     "output_type": "stream",
     "text": [
      "===> Integrating for model_output/beta-posteriors/bet_sim96_L-r15-t125000-id1\n"
     ]
    },
    {
     "name": "stderr",
     "output_type": "stream",
     "text": [
      "100%|██████████| 89/89 [00:18<00:00,  4.85it/s]\n",
      "100%|██████████| 89/89 [00:18<00:00,  4.82it/s]\n",
      "100%|██████████| 89/89 [00:18<00:00,  4.84it/s]\n",
      "100%|██████████| 89/89 [00:18<00:00,  4.77it/s]\n",
      " 99%|█████████▉| 88/89 [00:18<00:00,  4.67it/s]\n",
      "100%|██████████| 89/89 [00:18<00:00,  4.82it/s]\n",
      " 93%|█████████▎| 83/89 [00:17<00:01,  4.59it/s]\n",
      "100%|██████████| 89/89 [00:18<00:00,  4.80it/s]\n",
      "100%|██████████| 89/89 [00:18<00:00,  4.79it/s]\n",
      "100%|██████████| 89/89 [00:18<00:00,  4.81it/s]\n",
      "100%|██████████| 89/89 [00:18<00:00,  4.82it/s]\n",
      "100%|██████████| 89/89 [00:19<00:00,  4.66it/s]\n",
      "100%|██████████| 89/89 [00:18<00:00,  4.77it/s]\n",
      "100%|██████████| 89/89 [00:18<00:00,  4.75it/s]\n",
      "100%|██████████| 89/89 [00:18<00:00,  4.78it/s]\n",
      "100%|██████████| 89/89 [00:19<00:00,  4.68it/s]\n"
     ]
    },
    {
     "name": "stdout",
     "output_type": "stream",
     "text": [
      "===> Integrating for model_output/beta-posteriors/bet_sim97_L-r15-t125000-id1\n"
     ]
    },
    {
     "name": "stderr",
     "output_type": "stream",
     "text": [
      "  0%|          | 0/89 [00:00<?, ?it/s]"
     ]
    },
    {
     "name": "stdout",
     "output_type": "stream",
     "text": [
      "===> Integrating for model_output/beta-posteriors/bet_sim99_L-r15-t125000-id1\n"
     ]
    },
    {
     "name": "stderr",
     "output_type": "stream",
     "text": [
      "100%|██████████| 89/89 [00:08<00:00, 10.62it/s]\n",
      "100%|██████████| 89/89 [00:08<00:00, 10.66it/s]\n"
     ]
    },
    {
     "name": "stdout",
     "output_type": "stream",
     "text": [
      "===> Integrating for model_output/beta-posteriors/bet_sim100_L-r15-t125000-id1\n"
     ]
    },
    {
     "name": "stderr",
     "output_type": "stream",
     "text": [
      "  0%|          | 0/89 [00:00<?, ?it/s]"
     ]
    },
    {
     "name": "stdout",
     "output_type": "stream",
     "text": [
      "===> Integrating for model_output/beta-posteriors/bet_sim98_L-r15-t125000-id1\n"
     ]
    },
    {
     "name": "stderr",
     "output_type": "stream",
     "text": [
      "100%|██████████| 89/89 [00:05<00:00, 16.80it/s]\n",
      "100%|██████████| 89/89 [00:05<00:00, 16.84it/s]\n"
     ]
    }
   ],
   "source": [
    "import multiprocessing as mp\n",
    "pool = mp.Pool(mp.cpu_count())\n",
    "import pickle\n",
    "\n",
    "beta_scenarios = ['U', 'L']   # thankfully 0 and 1 are U and L respecetively. But ugly\n",
    "\n",
    "all_sims = {}\n",
    "\n",
    "\n",
    "def runall(dr, scenario_mu, name):\n",
    "    with open(f'model_output/beta-posteriors/beta{dr+1}.pkl', 'rb') as inp:\n",
    "        p = pickle.load(inp)\n",
    "    p.apply_epicourse(setup, scenario_mu)\n",
    "    control_initial = np.zeros((M, N))\n",
    "    results, state_initial, yell, mob = COVIDVaccinationOCP.integrate(N,\n",
    "                                                                      setup=setup,\n",
    "                                                                      parameters=p,\n",
    "                                                                      controls=control_initial,\n",
    "                                                                      save_to=f'model_output/beta-posteriors/bet_sim{dr+1}_{name}',\n",
    "                                                                      method='rk4',\n",
    "                                                                      n_rk4_steps=n_int_steps)\n",
    "    return results\n",
    "\n",
    "for i, beta_scn in enumerate(beta_scenarios):\n",
    "    all_sims[beta_scn]= []\n",
    "\n",
    "    scenario = pick_scenario(setup=setup, scn_id=i)\n",
    "    print(i, scenario['name'])\n",
    "    #for dr in range(100):\n",
    "    #    runall(dr, scenario['beta_mult'], scenario['name'])\n",
    "    \n",
    "    all_sims[beta_scn] = pool.starmap(runall, [(dr, scenario['beta_mult'], scenario['name']) for dr in range(100)])"
   ]
  },
  {
   "cell_type": "code",
   "execution_count": 22,
   "metadata": {
    "execution": {
     "iopub.execute_input": "2021-01-31T10:33:29.230696Z",
     "iopub.status.busy": "2021-01-31T10:33:29.230410Z",
     "iopub.status.idle": "2021-01-31T10:33:31.153337Z",
     "shell.execute_reply": "2021-01-31T10:33:31.152682Z",
     "shell.execute_reply.started": "2021-01-31T10:33:29.230666Z"
    }
   },
   "outputs": [],
   "source": [
    "s = all_sims['U'][0]\n",
    "s = s[s['comp'] == 'yell'].pivot(index='date', columns = 'place', values='value').sum(axis=1)\n",
    "all_compU = pd.DataFrame(index= s.index, columns=np.arange(1,101))\n",
    "all_compL = pd.DataFrame(index= s.index, columns=np.arange(1,101))\n",
    "\n",
    "for dr in range(100):\n",
    "    s = all_sims['U'][dr]\n",
    "    all_compU[dr+1] = s[s['comp'] == 'yell'].pivot(index='date', columns = 'place', values='value').sum(axis=1)\n",
    "    s = all_sims['L'][dr]\n",
    "    all_compL[dr+1] = s[s['comp'] == 'yell'].pivot(index='date', columns = 'place', values='value').sum(axis=1)"
   ]
  },
  {
   "cell_type": "code",
   "execution_count": 66,
   "metadata": {
    "execution": {
     "iopub.execute_input": "2021-01-31T10:51:41.668691Z",
     "iopub.status.busy": "2021-01-31T10:51:41.668462Z",
     "iopub.status.idle": "2021-01-31T10:51:41.991007Z",
     "shell.execute_reply": "2021-01-31T10:51:41.990294Z",
     "shell.execute_reply.started": "2021-01-31T10:51:41.668664Z"
    }
   },
   "outputs": [
    {
     "data": {
      "image/png": "[encoded data removed]",
      "text/plain": [
       "<Figure size 720x504 with 1 Axes>"
      ]
     },
     "metadata": {},
     "output_type": "display_data"
    }
   ],
   "source": [
    "import seaborn as sns\n",
    "fig, ax = plt.subplots(1,1, figsize = (10,7), sharex=True, facecolor = 'white')#, sharey=True)\n",
    "\n",
    "ax.plot(all_compU.index,all_compU[65], \n",
    "        linestyle='',\n",
    "        marker='o', \n",
    "        label = 'Pessimistic',\n",
    "        color = 'orange')\n",
    "ax.plot(all_compL.index,all_compL[65], \n",
    "        linestyle='',\n",
    "        marker='o', \n",
    "        label = 'Optimistic',\n",
    "        color = 'blue')\n",
    "#ax.plot(all_compU.index,\n",
    "#        all_compU.median(axis=1), \n",
    "#        linestyle='-', \n",
    "#        lw = 2,\n",
    "#        color = 'orange'\n",
    "#       )\n",
    "#ax.plot(all_compL.index,\n",
    "#        all_compL.median(axis=1), \n",
    "#        linestyle='-', \n",
    "#        lw = 2,\n",
    "#       color = 'blue')\n",
    "\n",
    "ax.fill_between(all_compU.index,\n",
    "                all_compU.quantile(.025, axis=1),\n",
    "                all_compU.quantile(.975, axis=1),\n",
    "                #linestyle='-', lw = 2,\n",
    "                alpha = .4,\n",
    "                color = 'orange')\n",
    "ax.fill_between(all_compL.index,\n",
    "                all_compL.quantile(.025, axis=1),\n",
    "                all_compL.quantile(.975, axis=1),\n",
    "                #linestyle='-', \n",
    "                #lw = 2,\n",
    "                alpha = .4,\n",
    "                color = 'blue')\n",
    "\n",
    "#ax.set_title(nname)\n",
    "ax.set_xlim(setup.start_date+datetime.timedelta(1), setup.end_date)\n",
    "ax.set_ylabel('Daily Infection Incidence', fontsize=14)\n",
    "ax.legend(fontsize=14)\n",
    "ax.tick_params(axis='both', which='major', labelsize=14)\n",
    "ax.tick_params(axis='both', which='minor', labelsize=14)\n",
    "ax.grid()\n",
    "#fig.autofmt_xdate()\n",
    "fig.savefig('figures/infection_scenarios.pdf')"
   ]
  },
  {
   "cell_type": "code",
   "execution_count": null,
   "metadata": {},
   "outputs": [],
   "source": []
  },
  {
   "cell_type": "code",
   "execution_count": null,
   "metadata": {},
   "outputs": [],
   "source": []
  },
  {
   "cell_type": "code",
   "execution_count": null,
   "metadata": {},
   "outputs": [],
   "source": [
    "fig, axes = plt.subplots(1,1, figsize = (15,7), facecolor = 'white')\n",
    "i = 3\n",
    "st = states_names[i]\n",
    "print(st)\n",
    "\n",
    "for scn in scenarios:\n",
    "    md = mydata[scn]\n",
    "    axes.plot(md[(md['comp'] == st)].groupby('date').sum()['value'], linestyle='-', lw = 2, label = scn)\n",
    "axes.set_title(st)\n",
    "    \n",
    "axes.legend()\n",
    "fig.autofmt_xdate()"
   ]
  },
  {
   "cell_type": "code",
   "execution_count": null,
   "metadata": {},
   "outputs": [],
   "source": [
    "md[(md['comp'] == st)].groupby('date').sum()['value']"
   ]
  },
  {
   "cell_type": "code",
   "execution_count": null,
   "metadata": {},
   "outputs": [],
   "source": []
  },
  {
   "cell_type": "code",
   "execution_count": null,
   "metadata": {},
   "outputs": [],
   "source": [
    "fig, axes = plt.subplots(5,22, figsize = (30,15), sharex=True, facecolor = 'white')#, sharey=True)\n",
    "i = 3\n",
    "st = states_names[i]\n",
    "print(st)\n",
    "for k, nname in enumerate(setup.ind2name):\n",
    "    for scn in scenarios:\n",
    "        md = mydata[scn]\n",
    "        axes.flat[k].plot(md[(md['comp'] == st) & (md['placeID'] == k)]['value'], linestyle='-', lw = 2, label = scn)\n",
    "    axes.flat[k].set_title(nname)\n",
    "    \n",
    "axes.flat[0].legend()\n",
    "fig.autofmt_xdate()"
   ]
  },
  {
   "cell_type": "code",
   "execution_count": null,
   "metadata": {},
   "outputs": [],
   "source": [
    "import scipy\n",
    "course = scipy.interpolate.interp1d([0, 50, 100, 1000], [.75, .85, .45,.45], kind='quadratic')\n",
    "course = course(np.arange(0, setup.ndays))\n",
    "plt.plot(course)"
   ]
  },
  {
   "cell_type": "code",
   "execution_count": null,
   "metadata": {},
   "outputs": [],
   "source": [
    "course = scipy.interpolate.interp1d([0, 50, 100], [.75, .85, .45], kind='quadratic')\n",
    "course = course(np.arange(0, setup.ndays))\n",
    "plt.plot(course)"
   ]
  },
  {
   "cell_type": "code",
   "execution_count": null,
   "metadata": {},
   "outputs": [],
   "source": [
    "course = scipy.interpolate.interp1d([0, 50, 100], [1.3, .7, 2], kind='quadratic')\n",
    "course = course(np.arange(0, setup.ndays))\n",
    "plt.plot(course)"
   ]
  },
  {
   "cell_type": "code",
   "execution_count": null,
   "metadata": {},
   "outputs": [],
   "source": [
    "course = scipy.interpolate.interp1d([0, 50, 100, 100000], [1.3, .7, 2, 2], kind='linear')\n",
    "course = course(np.arange(0,  250))\n",
    "plt.plot(course)"
   ]
  }
 ],
 "metadata": {
  "kernelspec": {
   "display_name": "Python (ocp-covid)",
   "language": "python",
   "name": "ocp-covid"
  },
  "language_info": {
   "codemirror_mode": {
    "name": "ipython",
    "version": 3
   },
   "file_extension": ".py",
   "mimetype": "text/x-python",
   "name": "python",
   "nbconvert_exporter": "python",
   "pygments_lexer": "ipython3",
   "version": "3.7.9"
  }
 },
 "nbformat": 4,
 "nbformat_minor": 4
}
