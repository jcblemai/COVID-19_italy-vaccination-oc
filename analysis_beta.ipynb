{
 "cells": [
  {
   "cell_type": "code",
   "execution_count": 1,
   "metadata": {
    "execution": {
     "iopub.execute_input": "2021-11-17T10:46:02.353088Z",
     "iopub.status.busy": "2021-11-17T10:46:02.351096Z",
     "iopub.status.idle": "2021-11-17T10:46:05.964338Z",
     "shell.execute_reply": "2021-11-17T10:46:05.963598Z",
     "shell.execute_reply.started": "2021-11-17T10:46:02.352188Z"
    },
    "tags": []
   },
   "outputs": [
    {
     "name": "stdout",
     "output_type": "stream",
     "text": [
      "Loaded Italy Provincial Setup with 107 nodes.\n"
     ]
    }
   ],
   "source": [
    "import copy\n",
    "import matplotlib as mpl\n",
    "import matplotlib.pyplot as plt\n",
    "import numpy as np\n",
    "import pandas as pd\n",
    "import networkx\n",
    "from ItalySetup import ItalySetupProvinces\n",
    "from covidOCP import COVIDVaccinationOCP, COVIDParametersOCP\n",
    "from main import pick_scenario, build_scenario\n",
    "import seaborn as sns\n",
    "import datetime\n",
    "import pickle, scipy\n",
    "import tqdm\n",
    "\n",
    "mpl.rc('text', usetex=True)\n",
    "mpl.rc('font', size=8)\n",
    "mpl.rc('legend', fontsize=7)\n",
    "\n",
    "nx = 9\n",
    "states_names = ['S', 'E', 'P', 'I', 'A', 'Q', 'H', 'R', 'V']\n",
    "when = 'future-mobintime'\n",
    "n_int_steps = 6\n",
    "ocp = None\n",
    "\n",
    "baseline = None\n",
    "\n",
    "n_int_steps = 6\n",
    "nnodes = 107  # nodes\n",
    "ndays = 90\n",
    "\n",
    "setup = ItalySetupProvinces(nnodes, ndays, when)\n",
    "M = setup.nnodes\n",
    "N = setup.ndays - 1\n",
    "\n",
    "outdir = 'model_output/'\n",
    "prefix = 'beta-analysis'"
   ]
  },
  {
   "cell_type": "markdown",
   "metadata": {},
   "source": [
    "## Help build the scenarios by iterating over posterior realization and beta modifiers (and also compare with matlab)"
   ]
  },
  {
   "cell_type": "code",
   "execution_count": 4,
   "metadata": {
    "execution": {
     "iopub.execute_input": "2021-11-03T18:30:08.288856Z",
     "iopub.status.busy": "2021-11-03T18:30:08.288642Z",
     "iopub.status.idle": "2021-11-03T18:30:08.292000Z",
     "shell.execute_reply": "2021-11-03T18:30:08.291267Z",
     "shell.execute_reply.started": "2021-11-03T18:30:08.288828Z"
    },
    "tags": []
   },
   "outputs": [],
   "source": [
    "#import scipy.io\n",
    "#scipy.io.savemat('beta_multipliers.mat', courses)"
   ]
  },
  {
   "cell_type": "code",
   "execution_count": 49,
   "metadata": {
    "execution": {
     "iopub.execute_input": "2021-11-17T12:54:44.765850Z",
     "iopub.status.busy": "2021-11-17T12:54:44.765519Z",
     "iopub.status.idle": "2021-11-17T12:55:19.939965Z",
     "shell.execute_reply": "2021-11-17T12:55:19.939284Z",
     "shell.execute_reply.started": "2021-11-17T12:54:44.765801Z"
    },
    "tags": []
   },
   "outputs": [
    {
     "name": "stdout",
     "output_type": "stream",
     "text": [
      "nnz before: 4088, after: 440\n",
      "nnz before: 4088, after: 440\n"
     ]
    }
   ],
   "source": [
    "courses = {}\n",
    "course = scipy.interpolate.interp1d([0, 10, 40, 80, 100, 1000], [1.8*.97, 1.5*.97, .7*.97, 1.2*.97, 1.2*.97, .75*.97], kind='cubic')\n",
    "courses['U'] = course(np.arange(0, setup.ndays))\n",
    "#course = scipy.interpolate.interp1d([0, 50, 100, 1000],[1, 1, 1, 1], kind='linear')# [.85, .85, .75, .85], kind='linear')  #([.75, .85, .75, .75])\n",
    "#courses['C'] = course(np.arange(0, setup.ndays))\n",
    "course = scipy.interpolate.interp1d([0, 10, 40, 80, 100, 1000], [1.8, .9, .8, .68, .75, .75], kind='cubic')\n",
    "courses['L'] = course(np.arange(0, setup.ndays))\n",
    "\n",
    "cbs = ['U',  'L']\n",
    "postdraws = [102]\n",
    "all_res = {}\n",
    "for cb in cbs:\n",
    "    for postdraw in postdraws:\n",
    "        real_course = np.ones((setup.nnodes, setup.ndays)) * courses[cb]\n",
    "        p = COVIDParametersOCP.OCParameters(setup=setup, M=M, when=when, posterior_draw = postdraw)\n",
    "        p.apply_epicourse(setup, real_course)\n",
    "#    plt.figure()\n",
    "#    plt.plot(real_course[0,:])\n",
    "\n",
    "        control_initial = np.zeros((M, N))\n",
    "\n",
    "        #results, state_initial, yell, mob = COVIDVaccinationOCP.integrate(N,\n",
    "        #                                                              setup=setup,\n",
    "        #                                                              parameters=p,\n",
    "        #                                                              controls=control_initial,\n",
    "        #                                                              save_to=f'{outdir}{prefix}-int-{nnodes}_{ndays}-nc',\n",
    "        #                                                              method='rk4',\n",
    "        #                                                              n_rk4_steps=n_int_steps)\n",
    "        results, state_initial, yell = COVIDVaccinationOCP.accurate_integrate(N,\n",
    "                                                                  setup=setup,\n",
    "                                                                  parameters=p,\n",
    "                                                                  controls=control_initial,\n",
    "                                                                  save_to=f'{outdir}{prefix}-int-{nnodes}_{ndays}-nc')\n",
    "        all_res[f'{postdraw}{cb}_I'] = results[results['comp']=='I'].pivot(values = 'value', columns = 'place', index = 'date')\n",
    "        all_res[f'{postdraw}{cb}_yell'] = results[results['comp']=='yell'].pivot(values = 'value', columns = 'place', index = 'date')"
   ]
  },
  {
   "cell_type": "code",
   "execution_count": 50,
   "metadata": {
    "execution": {
     "iopub.execute_input": "2021-11-17T12:55:19.941689Z",
     "iopub.status.busy": "2021-11-17T12:55:19.941451Z",
     "iopub.status.idle": "2021-11-17T12:55:20.162893Z",
     "shell.execute_reply": "2021-11-17T12:55:20.162172Z",
     "shell.execute_reply.started": "2021-11-17T12:55:19.941660Z"
    },
    "tags": []
   },
   "outputs": [
    {
     "data": {
      "text/plain": [
       "<matplotlib.legend.Legend at 0x7fcd18e9ee90>"
      ]
     },
     "execution_count": 50,
     "metadata": {},
     "output_type": "execute_result"
    },
    {
     "data": {
      "image/png": "[encoded data removed]",
      "text/plain": [
       "<Figure size 720x360 with 1 Axes>"
      ]
     },
     "metadata": {},
     "output_type": "display_data"
    }
   ],
   "source": [
    "fig, ax = plt.subplots(1,1, figsize = (10,5), sharex=True, facecolor = 'white')#, sharey=True)\n",
    "import seaborn as sns\n",
    "\n",
    "for cb in ['U','L']:#cbs):\n",
    "    for postdraw in postdraws:\n",
    "        ax.plot(all_res[f'{postdraw}{cb}_yell'].sum(axis=1), linestyle='-', lw = 2, label = f'{postdraw}{cb}')#,c = colors[postdraw])\n",
    "\n",
    "    ax.set_ylim(0);\n",
    "    \n",
    "ax.set_title('daily new exposed')\n",
    "fig.autofmt_xdate()\n",
    "fig.tight_layout()\n",
    "fig.legend()"
   ]
  },
  {
   "cell_type": "code",
   "execution_count": 25,
   "metadata": {
    "execution": {
     "iopub.execute_input": "2021-11-17T11:08:13.976357Z",
     "iopub.status.busy": "2021-11-17T11:08:13.976106Z",
     "iopub.status.idle": "2021-11-17T11:08:14.226321Z",
     "shell.execute_reply": "2021-11-17T11:08:14.225701Z",
     "shell.execute_reply.started": "2021-11-17T11:08:13.976323Z"
    },
    "tags": []
   },
   "outputs": [
    {
     "data": {
      "text/plain": [
       "<matplotlib.legend.Legend at 0x7fcd10ab43d0>"
      ]
     },
     "execution_count": 25,
     "metadata": {},
     "output_type": "execute_result"
    },
    {
     "data": {
      "image/png": "[encoded data removed]",
      "text/plain": [
       "<Figure size 720x360 with 1 Axes>"
      ]
     },
     "metadata": {},
     "output_type": "display_data"
    }
   ],
   "source": [
    "fig, ax = plt.subplots(1,1, figsize = (10,5), sharex=True, facecolor = 'white')#, sharey=True)\n",
    "import seaborn as sns\n",
    "ax.set_title('prevalence in compartment I')\n",
    "\n",
    "for cb in ['U','L']:#cbs):\n",
    "    for postdraw in postdraws:\n",
    "        ax.plot(all_res[f'{postdraw}{cb}_I'].sum(axis=1), linestyle='-', lw = 2, label = f'{postdraw}{cb}')#,c = colors[postdraw])\n",
    "\n",
    "    ax.set_ylim(0);\n",
    "fig.autofmt_xdate()\n",
    "fig.tight_layout()\n",
    "fig.legend()"
   ]
  },
  {
   "cell_type": "code",
   "execution_count": 145,
   "metadata": {
    "execution": {
     "iopub.execute_input": "2021-01-30T11:36:48.858161Z",
     "iopub.status.busy": "2021-01-30T11:36:48.857926Z",
     "iopub.status.idle": "2021-01-30T11:36:48.862352Z",
     "shell.execute_reply": "2021-01-30T11:36:48.861702Z",
     "shell.execute_reply.started": "2021-01-30T11:36:48.858134Z"
    }
   },
   "outputs": [
    {
     "data": {
      "text/plain": [
       "[34, 96]"
      ]
     },
     "execution_count": 145,
     "metadata": {},
     "output_type": "execute_result"
    }
   ],
   "source": [
    "colors = {34:'r', 92:'b', 96:'g', 65:'orange'}"
   ]
  },
  {
   "cell_type": "code",
   "execution_count": 5,
   "metadata": {
    "execution": {
     "iopub.execute_input": "2021-11-17T10:47:20.393085Z",
     "iopub.status.busy": "2021-11-17T10:47:20.392755Z",
     "iopub.status.idle": "2021-11-17T10:47:21.031269Z",
     "shell.execute_reply": "2021-11-17T10:47:21.029181Z",
     "shell.execute_reply.started": "2021-11-17T10:47:20.393054Z"
    },
    "tags": []
   },
   "outputs": [
    {
     "ename": "KeyError",
     "evalue": "'102U'",
     "output_type": "error",
     "traceback": [
      "\u001b[0;31m---------------------------------------------------------------------------\u001b[0m",
      "\u001b[0;31mKeyError\u001b[0m                                  Traceback (most recent call last)",
      "\u001b[0;32m<ipython-input-5-4338702d3e8a>\u001b[0m in \u001b[0;36m<module>\u001b[0;34m()\u001b[0m\n\u001b[1;32m      5\u001b[0m     \u001b[0;32mfor\u001b[0m \u001b[0mj\u001b[0m\u001b[0;34m,\u001b[0m \u001b[0mpostdraw\u001b[0m \u001b[0;32min\u001b[0m \u001b[0menumerate\u001b[0m\u001b[0;34m(\u001b[0m\u001b[0mpostdraws\u001b[0m\u001b[0;34m)\u001b[0m\u001b[0;34m:\u001b[0m\u001b[0;34m\u001b[0m\u001b[0;34m\u001b[0m\u001b[0m\n\u001b[1;32m      6\u001b[0m         axes.flat[i].scatter(\n\u001b[0;32m----> 7\u001b[0;31m                    \u001b[0mall_res\u001b[0m\u001b[0;34m[\u001b[0m\u001b[0;34mf'{postdraw}{cb}'\u001b[0m\u001b[0;34m]\u001b[0m\u001b[0;34m.\u001b[0m\u001b[0miloc\u001b[0m\u001b[0;34m[\u001b[0m\u001b[0;34m-\u001b[0m\u001b[0;36m1\u001b[0m\u001b[0;34m]\u001b[0m \u001b[0;34m-\u001b[0m \u001b[0mall_res\u001b[0m\u001b[0;34m[\u001b[0m\u001b[0;34mf'{postdraw}{cb}'\u001b[0m\u001b[0;34m]\u001b[0m\u001b[0;34m.\u001b[0m\u001b[0miloc\u001b[0m\u001b[0;34m[\u001b[0m\u001b[0;36m0\u001b[0m\u001b[0;34m]\u001b[0m\u001b[0;34m,\u001b[0m\u001b[0;34m\u001b[0m\u001b[0;34m\u001b[0m\u001b[0m\n\u001b[0m\u001b[1;32m      8\u001b[0m             \u001b[0mall_res\u001b[0m\u001b[0;34m[\u001b[0m\u001b[0;34mf'{postdraw}{cb}'\u001b[0m\u001b[0;34m]\u001b[0m\u001b[0;34m.\u001b[0m\u001b[0mcolumns\u001b[0m\u001b[0;34m,\u001b[0m\u001b[0;34m\u001b[0m\u001b[0;34m\u001b[0m\u001b[0m\n\u001b[1;32m      9\u001b[0m                 \u001b[0mmarker\u001b[0m \u001b[0;34m=\u001b[0m \u001b[0;34m'o'\u001b[0m\u001b[0;34m,\u001b[0m\u001b[0;34m\u001b[0m\u001b[0;34m\u001b[0m\u001b[0m\n",
      "\u001b[0;31mKeyError\u001b[0m: '102U'"
     ]
    },
    {
     "data": {
      "image/png": "[encoded data removed]",
      "text/plain": [
       "<Figure size 1080x1440 with 2 Axes>"
      ]
     },
     "metadata": {},
     "output_type": "display_data"
    }
   ],
   "source": [
    "fig, axes = plt.subplots(1,2, figsize = (15,20), sharey=True, facecolor = 'white')#, sharey=True)\n",
    "import seaborn as sns\n",
    "\n",
    "for i, cb in enumerate(cbs):\n",
    "    for j, postdraw in enumerate(postdraws):\n",
    "        axes.flat[i].scatter(\n",
    "                   all_res[f'{postdraw}{cb}'].iloc[-1] - all_res[f'{postdraw}{cb}'].iloc[0], \n",
    "            all_res[f'{postdraw}{cb}'].columns,\n",
    "                marker = 'o',\n",
    "                label = f'{postdraw}{cb}',\n",
    "               #c = colors[postdraw],\n",
    "                   #alpha = .5\n",
    "                  )\n",
    "        axes.flat[i].set_xlim(-1500,1500)\n",
    "        axes.flat[i].legend()\n",
    "        axes.flat[i].grid(True)\n",
    "\n",
    "#plt.xticks( rotation='vertical')\n",
    "#ax.set_yscale('log')\n",
    "#fig.autofmt_xdate()\n",
    "fig.legend();"
   ]
  },
  {
   "cell_type": "code",
   "execution_count": null,
   "metadata": {
    "execution": {
     "iopub.status.busy": "2021-11-17T10:47:21.032106Z",
     "iopub.status.idle": "2021-11-17T10:47:21.032458Z",
     "shell.execute_reply": "2021-11-17T10:47:21.032290Z"
    },
    "tags": []
   },
   "outputs": [],
   "source": [
    "fig, axes = plt.subplots(11,10, figsize = (20,25), sharex=True, facecolor = 'white')#, sharey=True)\n",
    "import seaborn as sns\n",
    "for k, nname in enumerate(setup.ind2name):\n",
    "    for cb in cbs:\n",
    "        for postdraw in postdraws:\n",
    "            axes.flat[k].plot(all_res[f'{postdraw}{cb}'][nname]/setup.pop_node[k], linestyle='-', lw = 2)#, c = colors[postdraw])\n",
    "    #axes.flat[k].plot(p.matlab_model_days, p.matlab_initial[k,:,3], linestyle='-', lw = 1, color='k')\n",
    "\n",
    "    axes.flat[k].set_title(nname);\n",
    "    axes.flat[k].set_ylim(0);\n",
    "fig.autofmt_xdate()\n",
    "fig.tight_layout()"
   ]
  },
  {
   "cell_type": "code",
   "execution_count": 33,
   "metadata": {
    "execution": {
     "iopub.execute_input": "2021-02-14T12:58:23.226438Z",
     "iopub.status.busy": "2021-02-14T12:58:23.226127Z",
     "iopub.status.idle": "2021-02-14T12:58:30.265505Z",
     "shell.execute_reply": "2021-02-14T12:58:30.264688Z",
     "shell.execute_reply.started": "2021-02-14T12:58:23.226403Z"
    }
   },
   "outputs": [
    {
     "name": "stdout",
     "output_type": "stream",
     "text": [
      "nnz before: 4088, after: 528\n"
     ]
    }
   ],
   "source": []
  },
  {
   "cell_type": "code",
   "execution_count": 25,
   "metadata": {
    "execution": {
     "iopub.execute_input": "2021-02-14T14:07:38.027134Z",
     "iopub.status.busy": "2021-02-14T14:07:38.026896Z",
     "iopub.status.idle": "2021-02-14T14:07:47.723537Z",
     "shell.execute_reply": "2021-02-14T14:07:47.722702Z",
     "shell.execute_reply.started": "2021-02-14T14:07:38.027105Z"
    }
   },
   "outputs": [
    {
     "name": "stdout",
     "output_type": "stream",
     "text": [
      "nnz before: 4088, after: 528\n"
     ]
    },
    {
     "data": {
      "image/png": "[encoded data removed]",
      "text/plain": [
       "<Figure size 1800x504 with 1 Axes>"
      ]
     },
     "metadata": {},
     "output_type": "display_data"
    }
   ],
   "source": [
    "\n",
    "fig, axes = plt.subplots(1,1, figsize = (25,7),  facecolor = 'white')#, sharey=True)\n",
    "import seaborn as sns\n",
    "\n",
    "p = COVIDParametersOCP.OCParameters(setup=setup, M=M, when=when, posterior_draw = 102)\n",
    "\n",
    "axes.scatter(setup.ind2name,p.beta_ratio,\n",
    "        marker = 'o',\n",
    "        label = f'Beta from DA',\n",
    "       #c = colors[postdraw],\n",
    "           #alpha = .5\n",
    "          )\n",
    "axes.legend()\n",
    "axes.grid(True)\n",
    "axes.set_title('Value of the initial betaratio from DA for each node')\n",
    "\n",
    "plt.xticks( rotation='vertical')\n",
    "#ax.set_yscale('log')\n",
    "#fig.autofmt_xdate()\n",
    "fig.legend();\n",
    "plt.savefig('figures/beta_from_DA.pdf')"
   ]
  },
  {
   "cell_type": "code",
   "execution_count": null,
   "metadata": {},
   "outputs": [],
   "source": []
  },
  {
   "cell_type": "code",
   "execution_count": null,
   "metadata": {},
   "outputs": [],
   "source": []
  },
  {
   "cell_type": "code",
   "execution_count": null,
   "metadata": {},
   "outputs": [],
   "source": []
  },
  {
   "cell_type": "code",
   "execution_count": null,
   "metadata": {},
   "outputs": [],
   "source": []
  },
  {
   "cell_type": "code",
   "execution_count": 9,
   "metadata": {
    "execution": {
     "iopub.execute_input": "2021-01-30T15:35:53.976319Z",
     "iopub.status.busy": "2021-01-30T15:35:53.976092Z",
     "iopub.status.idle": "2021-01-30T15:35:53.981227Z",
     "shell.execute_reply": "2021-01-30T15:35:53.980641Z",
     "shell.execute_reply.started": "2021-01-30T15:35:53.976292Z"
    }
   },
   "outputs": [
    {
     "data": {
      "text/plain": [
       "{'name': 'L-r15-t125000-id1',\n",
       " 'newdoseperweek': 125000,\n",
       " 'rate_fomula': '(0.008283696183248878*pop_nd)',\n",
       " 'beta_mult': array([[0.65 , 0.653, 0.656, ..., 0.467, 0.458, 0.449],\n",
       "        [0.65 , 0.653, 0.656, ..., 0.467, 0.458, 0.449],\n",
       "        [0.65 , 0.653, 0.656, ..., 0.467, 0.458, 0.449],\n",
       "        ...,\n",
       "        [0.65 , 0.653, 0.656, ..., 0.467, 0.458, 0.449],\n",
       "        [0.65 , 0.653, 0.656, ..., 0.467, 0.458, 0.449],\n",
       "        [0.65 , 0.653, 0.656, ..., 0.467, 0.458, 0.449]])}"
      ]
     },
     "execution_count": 9,
     "metadata": {},
     "output_type": "execute_result"
    }
   ],
   "source": [
    "pick_scenario(setup=setup, scn_id=1)"
   ]
  },
  {
   "cell_type": "markdown",
   "metadata": {
    "execution": {
     "iopub.execute_input": "2020-12-22T18:45:38.739032Z",
     "iopub.status.busy": "2020-12-22T18:45:38.738799Z",
     "iopub.status.idle": "2020-12-22T18:45:38.741574Z",
     "shell.execute_reply": "2020-12-22T18:45:38.740900Z",
     "shell.execute_reply.started": "2020-12-22T18:45:38.739004Z"
    }
   },
   "source": [
    "# Compare scenarios in a paper figure"
   ]
  },
  {
   "cell_type": "code",
   "execution_count": 2,
   "metadata": {
    "execution": {
     "iopub.execute_input": "2021-02-14T13:07:44.349457Z",
     "iopub.status.busy": "2021-02-14T13:07:44.349232Z",
     "iopub.status.idle": "2021-02-14T13:20:06.191886Z",
     "shell.execute_reply": "2021-02-14T13:20:06.191025Z",
     "shell.execute_reply.started": "2021-02-14T13:07:44.349431Z"
    },
    "scrolled": true
   },
   "outputs": [
    {
     "name": "stderr",
     "output_type": "stream",
     "text": [
      "  1%|          | 1/102 [00:08<13:47,  8.19s/it]"
     ]
    },
    {
     "name": "stdout",
     "output_type": "stream",
     "text": [
      "nnz before: 4088, after: 528\n"
     ]
    },
    {
     "name": "stderr",
     "output_type": "stream",
     "text": [
      "  2%|▏         | 2/102 [00:15<13:07,  7.88s/it]"
     ]
    },
    {
     "name": "stdout",
     "output_type": "stream",
     "text": [
      "nnz before: 4088, after: 528\n"
     ]
    },
    {
     "name": "stderr",
     "output_type": "stream",
     "text": [
      "  3%|▎         | 3/102 [00:22<12:33,  7.61s/it]"
     ]
    },
    {
     "name": "stdout",
     "output_type": "stream",
     "text": [
      "nnz before: 4088, after: 528\n"
     ]
    },
    {
     "name": "stderr",
     "output_type": "stream",
     "text": [
      "  4%|▍         | 4/102 [00:29<12:04,  7.39s/it]"
     ]
    },
    {
     "name": "stdout",
     "output_type": "stream",
     "text": [
      "nnz before: 4088, after: 528\n"
     ]
    },
    {
     "name": "stderr",
     "output_type": "stream",
     "text": [
      "  5%|▍         | 5/102 [00:35<11:39,  7.21s/it]"
     ]
    },
    {
     "name": "stdout",
     "output_type": "stream",
     "text": [
      "nnz before: 4088, after: 528\n"
     ]
    },
    {
     "name": "stderr",
     "output_type": "stream",
     "text": [
      "  6%|▌         | 6/102 [00:42<11:16,  7.04s/it]"
     ]
    },
    {
     "name": "stdout",
     "output_type": "stream",
     "text": [
      "nnz before: 4088, after: 528\n"
     ]
    },
    {
     "name": "stderr",
     "output_type": "stream",
     "text": [
      "  7%|▋         | 7/102 [00:49<11:03,  6.99s/it]"
     ]
    },
    {
     "name": "stdout",
     "output_type": "stream",
     "text": [
      "nnz before: 4088, after: 528\n"
     ]
    },
    {
     "name": "stderr",
     "output_type": "stream",
     "text": [
      "  8%|▊         | 8/102 [00:56<11:02,  7.05s/it]"
     ]
    },
    {
     "name": "stdout",
     "output_type": "stream",
     "text": [
      "nnz before: 4088, after: 528\n"
     ]
    },
    {
     "name": "stderr",
     "output_type": "stream",
     "text": [
      "  9%|▉         | 9/102 [01:03<10:53,  7.03s/it]"
     ]
    },
    {
     "name": "stdout",
     "output_type": "stream",
     "text": [
      "nnz before: 4088, after: 528\n"
     ]
    },
    {
     "name": "stderr",
     "output_type": "stream",
     "text": [
      " 10%|▉         | 10/102 [01:10<10:49,  7.06s/it]"
     ]
    },
    {
     "name": "stdout",
     "output_type": "stream",
     "text": [
      "nnz before: 4088, after: 528\n"
     ]
    },
    {
     "name": "stderr",
     "output_type": "stream",
     "text": [
      " 11%|█         | 11/102 [01:17<10:44,  7.09s/it]"
     ]
    },
    {
     "name": "stdout",
     "output_type": "stream",
     "text": [
      "nnz before: 4088, after: 528\n"
     ]
    },
    {
     "name": "stderr",
     "output_type": "stream",
     "text": [
      " 12%|█▏        | 12/102 [01:24<10:33,  7.04s/it]"
     ]
    },
    {
     "name": "stdout",
     "output_type": "stream",
     "text": [
      "nnz before: 4088, after: 528\n"
     ]
    },
    {
     "name": "stderr",
     "output_type": "stream",
     "text": [
      " 13%|█▎        | 13/102 [01:32<10:29,  7.08s/it]"
     ]
    },
    {
     "name": "stdout",
     "output_type": "stream",
     "text": [
      "nnz before: 4088, after: 528\n"
     ]
    },
    {
     "name": "stderr",
     "output_type": "stream",
     "text": [
      " 14%|█▎        | 14/102 [01:39<10:23,  7.09s/it]"
     ]
    },
    {
     "name": "stdout",
     "output_type": "stream",
     "text": [
      "nnz before: 4088, after: 528\n"
     ]
    },
    {
     "name": "stderr",
     "output_type": "stream",
     "text": [
      " 15%|█▍        | 15/102 [01:46<10:17,  7.10s/it]"
     ]
    },
    {
     "name": "stdout",
     "output_type": "stream",
     "text": [
      "nnz before: 4088, after: 528\n"
     ]
    },
    {
     "name": "stderr",
     "output_type": "stream",
     "text": [
      " 16%|█▌        | 16/102 [01:53<10:19,  7.20s/it]"
     ]
    },
    {
     "name": "stdout",
     "output_type": "stream",
     "text": [
      "nnz before: 4088, after: 528\n"
     ]
    },
    {
     "name": "stderr",
     "output_type": "stream",
     "text": [
      " 17%|█▋        | 17/102 [02:01<10:15,  7.24s/it]"
     ]
    },
    {
     "name": "stdout",
     "output_type": "stream",
     "text": [
      "nnz before: 4088, after: 528\n"
     ]
    },
    {
     "name": "stderr",
     "output_type": "stream",
     "text": [
      " 18%|█▊        | 18/102 [02:08<10:05,  7.21s/it]"
     ]
    },
    {
     "name": "stdout",
     "output_type": "stream",
     "text": [
      "nnz before: 4088, after: 528\n"
     ]
    },
    {
     "name": "stderr",
     "output_type": "stream",
     "text": [
      " 19%|█▊        | 19/102 [02:15<10:02,  7.26s/it]"
     ]
    },
    {
     "name": "stdout",
     "output_type": "stream",
     "text": [
      "nnz before: 4088, after: 528\n"
     ]
    },
    {
     "name": "stderr",
     "output_type": "stream",
     "text": [
      " 20%|█▉        | 20/102 [02:22<09:48,  7.18s/it]"
     ]
    },
    {
     "name": "stdout",
     "output_type": "stream",
     "text": [
      "nnz before: 4088, after: 528\n"
     ]
    },
    {
     "name": "stderr",
     "output_type": "stream",
     "text": [
      " 21%|██        | 21/102 [02:29<09:37,  7.12s/it]"
     ]
    },
    {
     "name": "stdout",
     "output_type": "stream",
     "text": [
      "nnz before: 4088, after: 528\n"
     ]
    },
    {
     "name": "stderr",
     "output_type": "stream",
     "text": [
      " 22%|██▏       | 22/102 [02:36<09:36,  7.21s/it]"
     ]
    },
    {
     "name": "stdout",
     "output_type": "stream",
     "text": [
      "nnz before: 4088, after: 528\n"
     ]
    },
    {
     "name": "stderr",
     "output_type": "stream",
     "text": [
      " 23%|██▎       | 23/102 [02:44<09:29,  7.21s/it]"
     ]
    },
    {
     "name": "stdout",
     "output_type": "stream",
     "text": [
      "nnz before: 4088, after: 528\n"
     ]
    },
    {
     "name": "stderr",
     "output_type": "stream",
     "text": [
      " 24%|██▎       | 24/102 [02:51<09:27,  7.27s/it]"
     ]
    },
    {
     "name": "stdout",
     "output_type": "stream",
     "text": [
      "nnz before: 4088, after: 528\n"
     ]
    },
    {
     "name": "stderr",
     "output_type": "stream",
     "text": [
      " 25%|██▍       | 25/102 [02:58<09:22,  7.31s/it]"
     ]
    },
    {
     "name": "stdout",
     "output_type": "stream",
     "text": [
      "nnz before: 4088, after: 528\n"
     ]
    },
    {
     "name": "stderr",
     "output_type": "stream",
     "text": [
      " 25%|██▌       | 26/102 [03:06<09:13,  7.29s/it]"
     ]
    },
    {
     "name": "stdout",
     "output_type": "stream",
     "text": [
      "nnz before: 4088, after: 528\n"
     ]
    },
    {
     "name": "stderr",
     "output_type": "stream",
     "text": [
      " 26%|██▋       | 27/102 [03:13<08:58,  7.17s/it]"
     ]
    },
    {
     "name": "stdout",
     "output_type": "stream",
     "text": [
      "nnz before: 4088, after: 528\n"
     ]
    },
    {
     "name": "stderr",
     "output_type": "stream",
     "text": [
      " 27%|██▋       | 28/102 [03:20<08:52,  7.20s/it]"
     ]
    },
    {
     "name": "stdout",
     "output_type": "stream",
     "text": [
      "nnz before: 4088, after: 528\n"
     ]
    },
    {
     "name": "stderr",
     "output_type": "stream",
     "text": [
      " 28%|██▊       | 29/102 [03:27<08:48,  7.24s/it]"
     ]
    },
    {
     "name": "stdout",
     "output_type": "stream",
     "text": [
      "nnz before: 4088, after: 528\n"
     ]
    },
    {
     "name": "stderr",
     "output_type": "stream",
     "text": [
      " 29%|██▉       | 30/102 [03:34<08:37,  7.19s/it]"
     ]
    },
    {
     "name": "stdout",
     "output_type": "stream",
     "text": [
      "nnz before: 4088, after: 528\n"
     ]
    },
    {
     "name": "stderr",
     "output_type": "stream",
     "text": [
      " 30%|███       | 31/102 [03:41<08:30,  7.19s/it]"
     ]
    },
    {
     "name": "stdout",
     "output_type": "stream",
     "text": [
      "nnz before: 4088, after: 528\n"
     ]
    },
    {
     "name": "stderr",
     "output_type": "stream",
     "text": [
      " 31%|███▏      | 32/102 [03:49<08:20,  7.15s/it]"
     ]
    },
    {
     "name": "stdout",
     "output_type": "stream",
     "text": [
      "nnz before: 4088, after: 528\n"
     ]
    },
    {
     "name": "stderr",
     "output_type": "stream",
     "text": [
      " 32%|███▏      | 33/102 [03:56<08:22,  7.29s/it]"
     ]
    },
    {
     "name": "stdout",
     "output_type": "stream",
     "text": [
      "nnz before: 4088, after: 528\n"
     ]
    },
    {
     "name": "stderr",
     "output_type": "stream",
     "text": [
      " 33%|███▎      | 34/102 [04:04<08:22,  7.39s/it]"
     ]
    },
    {
     "name": "stdout",
     "output_type": "stream",
     "text": [
      "nnz before: 4088, after: 528\n"
     ]
    },
    {
     "name": "stderr",
     "output_type": "stream",
     "text": [
      " 34%|███▍      | 35/102 [04:11<08:10,  7.32s/it]"
     ]
    },
    {
     "name": "stdout",
     "output_type": "stream",
     "text": [
      "nnz before: 4088, after: 528\n"
     ]
    },
    {
     "name": "stderr",
     "output_type": "stream",
     "text": [
      " 35%|███▌      | 36/102 [04:18<07:59,  7.26s/it]"
     ]
    },
    {
     "name": "stdout",
     "output_type": "stream",
     "text": [
      "nnz before: 4088, after: 528\n"
     ]
    },
    {
     "name": "stderr",
     "output_type": "stream",
     "text": [
      " 36%|███▋      | 37/102 [04:25<07:48,  7.20s/it]"
     ]
    },
    {
     "name": "stdout",
     "output_type": "stream",
     "text": [
      "nnz before: 4088, after: 528\n"
     ]
    },
    {
     "name": "stderr",
     "output_type": "stream",
     "text": [
      " 37%|███▋      | 38/102 [04:33<07:54,  7.41s/it]"
     ]
    },
    {
     "name": "stdout",
     "output_type": "stream",
     "text": [
      "nnz before: 4088, after: 528\n"
     ]
    },
    {
     "name": "stderr",
     "output_type": "stream",
     "text": [
      " 38%|███▊      | 39/102 [04:40<07:41,  7.33s/it]"
     ]
    },
    {
     "name": "stdout",
     "output_type": "stream",
     "text": [
      "nnz before: 4088, after: 528\n"
     ]
    },
    {
     "name": "stderr",
     "output_type": "stream",
     "text": [
      " 39%|███▉      | 40/102 [04:47<07:24,  7.17s/it]"
     ]
    },
    {
     "name": "stdout",
     "output_type": "stream",
     "text": [
      "nnz before: 4088, after: 528\n"
     ]
    },
    {
     "name": "stderr",
     "output_type": "stream",
     "text": [
      " 40%|████      | 41/102 [04:54<07:08,  7.02s/it]"
     ]
    },
    {
     "name": "stdout",
     "output_type": "stream",
     "text": [
      "nnz before: 4088, after: 528\n"
     ]
    },
    {
     "name": "stderr",
     "output_type": "stream",
     "text": [
      " 41%|████      | 42/102 [05:01<06:59,  7.00s/it]"
     ]
    },
    {
     "name": "stdout",
     "output_type": "stream",
     "text": [
      "nnz before: 4088, after: 528\n"
     ]
    },
    {
     "name": "stderr",
     "output_type": "stream",
     "text": [
      " 42%|████▏     | 43/102 [05:07<06:49,  6.94s/it]"
     ]
    },
    {
     "name": "stdout",
     "output_type": "stream",
     "text": [
      "nnz before: 4088, after: 528\n"
     ]
    },
    {
     "name": "stderr",
     "output_type": "stream",
     "text": [
      " 43%|████▎     | 44/102 [05:14<06:41,  6.93s/it]"
     ]
    },
    {
     "name": "stdout",
     "output_type": "stream",
     "text": [
      "nnz before: 4088, after: 528\n"
     ]
    },
    {
     "name": "stderr",
     "output_type": "stream",
     "text": [
      " 44%|████▍     | 45/102 [05:22<06:42,  7.06s/it]"
     ]
    },
    {
     "name": "stdout",
     "output_type": "stream",
     "text": [
      "nnz before: 4088, after: 528\n"
     ]
    },
    {
     "name": "stderr",
     "output_type": "stream",
     "text": [
      " 45%|████▌     | 46/102 [05:29<06:39,  7.14s/it]"
     ]
    },
    {
     "name": "stdout",
     "output_type": "stream",
     "text": [
      "nnz before: 4088, after: 528\n"
     ]
    },
    {
     "name": "stderr",
     "output_type": "stream",
     "text": [
      " 46%|████▌     | 47/102 [05:36<06:30,  7.10s/it]"
     ]
    },
    {
     "name": "stdout",
     "output_type": "stream",
     "text": [
      "nnz before: 4088, after: 528\n"
     ]
    },
    {
     "name": "stderr",
     "output_type": "stream",
     "text": [
      " 47%|████▋     | 48/102 [05:43<06:23,  7.09s/it]"
     ]
    },
    {
     "name": "stdout",
     "output_type": "stream",
     "text": [
      "nnz before: 4088, after: 528\n"
     ]
    },
    {
     "name": "stderr",
     "output_type": "stream",
     "text": [
      " 48%|████▊     | 49/102 [05:50<06:15,  7.09s/it]"
     ]
    },
    {
     "name": "stdout",
     "output_type": "stream",
     "text": [
      "nnz before: 4088, after: 528\n"
     ]
    },
    {
     "name": "stderr",
     "output_type": "stream",
     "text": [
      " 49%|████▉     | 50/102 [05:57<06:03,  6.99s/it]"
     ]
    },
    {
     "name": "stdout",
     "output_type": "stream",
     "text": [
      "nnz before: 4088, after: 528\n"
     ]
    },
    {
     "name": "stderr",
     "output_type": "stream",
     "text": [
      " 50%|█████     | 51/102 [06:04<05:56,  6.99s/it]"
     ]
    },
    {
     "name": "stdout",
     "output_type": "stream",
     "text": [
      "nnz before: 4088, after: 528\n"
     ]
    },
    {
     "name": "stderr",
     "output_type": "stream",
     "text": [
      " 51%|█████     | 52/102 [06:11<05:51,  7.02s/it]"
     ]
    },
    {
     "name": "stdout",
     "output_type": "stream",
     "text": [
      "nnz before: 4088, after: 528\n"
     ]
    },
    {
     "name": "stderr",
     "output_type": "stream",
     "text": [
      " 52%|█████▏    | 53/102 [06:18<05:43,  7.01s/it]"
     ]
    },
    {
     "name": "stdout",
     "output_type": "stream",
     "text": [
      "nnz before: 4088, after: 528\n"
     ]
    },
    {
     "name": "stderr",
     "output_type": "stream",
     "text": [
      " 53%|█████▎    | 54/102 [06:26<05:45,  7.20s/it]"
     ]
    },
    {
     "name": "stdout",
     "output_type": "stream",
     "text": [
      "nnz before: 4088, after: 528\n"
     ]
    },
    {
     "name": "stderr",
     "output_type": "stream",
     "text": [
      " 54%|█████▍    | 55/102 [06:33<05:35,  7.14s/it]"
     ]
    },
    {
     "name": "stdout",
     "output_type": "stream",
     "text": [
      "nnz before: 4088, after: 528\n"
     ]
    },
    {
     "name": "stderr",
     "output_type": "stream",
     "text": [
      " 55%|█████▍    | 56/102 [06:40<05:31,  7.20s/it]"
     ]
    },
    {
     "name": "stdout",
     "output_type": "stream",
     "text": [
      "nnz before: 4088, after: 528\n"
     ]
    },
    {
     "name": "stderr",
     "output_type": "stream",
     "text": [
      " 56%|█████▌    | 57/102 [06:47<05:20,  7.13s/it]"
     ]
    },
    {
     "name": "stdout",
     "output_type": "stream",
     "text": [
      "nnz before: 4088, after: 528\n"
     ]
    },
    {
     "name": "stderr",
     "output_type": "stream",
     "text": [
      " 57%|█████▋    | 58/102 [06:54<05:07,  6.99s/it]"
     ]
    },
    {
     "name": "stdout",
     "output_type": "stream",
     "text": [
      "nnz before: 4088, after: 528\n"
     ]
    },
    {
     "name": "stderr",
     "output_type": "stream",
     "text": [
      " 58%|█████▊    | 59/102 [07:01<05:08,  7.18s/it]"
     ]
    },
    {
     "name": "stdout",
     "output_type": "stream",
     "text": [
      "nnz before: 4088, after: 528\n"
     ]
    },
    {
     "name": "stderr",
     "output_type": "stream",
     "text": [
      " 59%|█████▉    | 60/102 [07:08<05:02,  7.21s/it]"
     ]
    },
    {
     "name": "stdout",
     "output_type": "stream",
     "text": [
      "nnz before: 4088, after: 528\n"
     ]
    },
    {
     "name": "stderr",
     "output_type": "stream",
     "text": [
      " 60%|█████▉    | 61/102 [07:16<04:55,  7.20s/it]"
     ]
    },
    {
     "name": "stdout",
     "output_type": "stream",
     "text": [
      "nnz before: 4088, after: 528\n"
     ]
    },
    {
     "name": "stderr",
     "output_type": "stream",
     "text": [
      " 61%|██████    | 62/102 [07:23<04:48,  7.22s/it]"
     ]
    },
    {
     "name": "stdout",
     "output_type": "stream",
     "text": [
      "nnz before: 4088, after: 528\n"
     ]
    },
    {
     "name": "stderr",
     "output_type": "stream",
     "text": [
      " 62%|██████▏   | 63/102 [07:30<04:41,  7.22s/it]"
     ]
    },
    {
     "name": "stdout",
     "output_type": "stream",
     "text": [
      "nnz before: 4088, after: 528\n"
     ]
    },
    {
     "name": "stderr",
     "output_type": "stream",
     "text": [
      " 63%|██████▎   | 64/102 [07:38<04:39,  7.36s/it]"
     ]
    },
    {
     "name": "stdout",
     "output_type": "stream",
     "text": [
      "nnz before: 4088, after: 528\n"
     ]
    },
    {
     "name": "stderr",
     "output_type": "stream",
     "text": [
      " 64%|██████▎   | 65/102 [07:45<04:29,  7.28s/it]"
     ]
    },
    {
     "name": "stdout",
     "output_type": "stream",
     "text": [
      "nnz before: 4088, after: 528\n"
     ]
    },
    {
     "name": "stderr",
     "output_type": "stream",
     "text": [
      " 65%|██████▍   | 66/102 [07:52<04:20,  7.23s/it]"
     ]
    },
    {
     "name": "stdout",
     "output_type": "stream",
     "text": [
      "nnz before: 4088, after: 528\n"
     ]
    },
    {
     "name": "stderr",
     "output_type": "stream",
     "text": [
      " 66%|██████▌   | 67/102 [07:59<04:12,  7.21s/it]"
     ]
    },
    {
     "name": "stdout",
     "output_type": "stream",
     "text": [
      "nnz before: 4088, after: 528\n"
     ]
    },
    {
     "name": "stderr",
     "output_type": "stream",
     "text": [
      " 67%|██████▋   | 68/102 [08:06<04:05,  7.21s/it]"
     ]
    },
    {
     "name": "stdout",
     "output_type": "stream",
     "text": [
      "nnz before: 4088, after: 528\n"
     ]
    },
    {
     "name": "stderr",
     "output_type": "stream",
     "text": [
      " 68%|██████▊   | 69/102 [08:14<03:56,  7.18s/it]"
     ]
    },
    {
     "name": "stdout",
     "output_type": "stream",
     "text": [
      "nnz before: 4088, after: 528\n"
     ]
    },
    {
     "name": "stderr",
     "output_type": "stream",
     "text": [
      " 69%|██████▊   | 70/102 [08:21<03:48,  7.13s/it]"
     ]
    },
    {
     "name": "stdout",
     "output_type": "stream",
     "text": [
      "nnz before: 4088, after: 528\n"
     ]
    },
    {
     "name": "stderr",
     "output_type": "stream",
     "text": [
      " 70%|██████▉   | 71/102 [08:28<03:41,  7.13s/it]"
     ]
    },
    {
     "name": "stdout",
     "output_type": "stream",
     "text": [
      "nnz before: 4088, after: 528\n"
     ]
    },
    {
     "name": "stderr",
     "output_type": "stream",
     "text": [
      " 71%|███████   | 72/102 [08:35<03:35,  7.18s/it]"
     ]
    },
    {
     "name": "stdout",
     "output_type": "stream",
     "text": [
      "nnz before: 4088, after: 528\n"
     ]
    },
    {
     "name": "stderr",
     "output_type": "stream",
     "text": [
      " 72%|███████▏  | 73/102 [08:42<03:27,  7.15s/it]"
     ]
    },
    {
     "name": "stdout",
     "output_type": "stream",
     "text": [
      "nnz before: 4088, after: 528\n"
     ]
    },
    {
     "name": "stderr",
     "output_type": "stream",
     "text": [
      " 73%|███████▎  | 74/102 [08:49<03:18,  7.10s/it]"
     ]
    },
    {
     "name": "stdout",
     "output_type": "stream",
     "text": [
      "nnz before: 4088, after: 528\n"
     ]
    },
    {
     "name": "stderr",
     "output_type": "stream",
     "text": [
      " 74%|███████▎  | 75/102 [08:56<03:13,  7.16s/it]"
     ]
    },
    {
     "name": "stdout",
     "output_type": "stream",
     "text": [
      "nnz before: 4088, after: 528\n"
     ]
    },
    {
     "name": "stderr",
     "output_type": "stream",
     "text": [
      " 75%|███████▍  | 76/102 [09:04<03:09,  7.29s/it]"
     ]
    },
    {
     "name": "stdout",
     "output_type": "stream",
     "text": [
      "nnz before: 4088, after: 528\n"
     ]
    },
    {
     "name": "stderr",
     "output_type": "stream",
     "text": [
      " 75%|███████▌  | 77/102 [09:11<03:01,  7.26s/it]"
     ]
    },
    {
     "name": "stdout",
     "output_type": "stream",
     "text": [
      "nnz before: 4088, after: 528\n"
     ]
    },
    {
     "name": "stderr",
     "output_type": "stream",
     "text": [
      " 76%|███████▋  | 78/102 [09:18<02:52,  7.21s/it]"
     ]
    },
    {
     "name": "stdout",
     "output_type": "stream",
     "text": [
      "nnz before: 4088, after: 528\n"
     ]
    },
    {
     "name": "stderr",
     "output_type": "stream",
     "text": [
      " 77%|███████▋  | 79/102 [09:25<02:45,  7.21s/it]"
     ]
    },
    {
     "name": "stdout",
     "output_type": "stream",
     "text": [
      "nnz before: 4088, after: 528\n"
     ]
    },
    {
     "name": "stderr",
     "output_type": "stream",
     "text": [
      " 78%|███████▊  | 80/102 [09:33<02:38,  7.22s/it]"
     ]
    },
    {
     "name": "stdout",
     "output_type": "stream",
     "text": [
      "nnz before: 4088, after: 528\n"
     ]
    },
    {
     "name": "stderr",
     "output_type": "stream",
     "text": [
      " 79%|███████▉  | 81/102 [09:40<02:31,  7.23s/it]"
     ]
    },
    {
     "name": "stdout",
     "output_type": "stream",
     "text": [
      "nnz before: 4088, after: 528\n"
     ]
    },
    {
     "name": "stderr",
     "output_type": "stream",
     "text": [
      " 80%|████████  | 82/102 [09:47<02:26,  7.33s/it]"
     ]
    },
    {
     "name": "stdout",
     "output_type": "stream",
     "text": [
      "nnz before: 4088, after: 528\n"
     ]
    },
    {
     "name": "stderr",
     "output_type": "stream",
     "text": [
      " 81%|████████▏ | 83/102 [09:55<02:21,  7.42s/it]"
     ]
    },
    {
     "name": "stdout",
     "output_type": "stream",
     "text": [
      "nnz before: 4088, after: 528\n"
     ]
    },
    {
     "name": "stderr",
     "output_type": "stream",
     "text": [
      " 82%|████████▏ | 84/102 [10:03<02:15,  7.52s/it]"
     ]
    },
    {
     "name": "stdout",
     "output_type": "stream",
     "text": [
      "nnz before: 4088, after: 528\n"
     ]
    },
    {
     "name": "stderr",
     "output_type": "stream",
     "text": [
      " 83%|████████▎ | 85/102 [10:10<02:07,  7.51s/it]"
     ]
    },
    {
     "name": "stdout",
     "output_type": "stream",
     "text": [
      "nnz before: 4088, after: 528\n"
     ]
    },
    {
     "name": "stderr",
     "output_type": "stream",
     "text": [
      " 84%|████████▍ | 86/102 [10:18<02:00,  7.51s/it]"
     ]
    },
    {
     "name": "stdout",
     "output_type": "stream",
     "text": [
      "nnz before: 4088, after: 528\n"
     ]
    },
    {
     "name": "stderr",
     "output_type": "stream",
     "text": [
      " 85%|████████▌ | 87/102 [10:25<01:50,  7.35s/it]"
     ]
    },
    {
     "name": "stdout",
     "output_type": "stream",
     "text": [
      "nnz before: 4088, after: 528\n"
     ]
    },
    {
     "name": "stderr",
     "output_type": "stream",
     "text": [
      " 86%|████████▋ | 88/102 [10:32<01:41,  7.24s/it]"
     ]
    },
    {
     "name": "stdout",
     "output_type": "stream",
     "text": [
      "nnz before: 4088, after: 528\n"
     ]
    },
    {
     "name": "stderr",
     "output_type": "stream",
     "text": [
      " 87%|████████▋ | 89/102 [10:39<01:34,  7.24s/it]"
     ]
    },
    {
     "name": "stdout",
     "output_type": "stream",
     "text": [
      "nnz before: 4088, after: 528\n"
     ]
    },
    {
     "name": "stderr",
     "output_type": "stream",
     "text": [
      " 88%|████████▊ | 90/102 [10:46<01:26,  7.21s/it]"
     ]
    },
    {
     "name": "stdout",
     "output_type": "stream",
     "text": [
      "nnz before: 4088, after: 528\n"
     ]
    },
    {
     "name": "stderr",
     "output_type": "stream",
     "text": [
      " 89%|████████▉ | 91/102 [10:54<01:19,  7.24s/it]"
     ]
    },
    {
     "name": "stdout",
     "output_type": "stream",
     "text": [
      "nnz before: 4088, after: 528\n"
     ]
    },
    {
     "name": "stderr",
     "output_type": "stream",
     "text": [
      " 90%|█████████ | 92/102 [11:02<01:14,  7.49s/it]"
     ]
    },
    {
     "name": "stdout",
     "output_type": "stream",
     "text": [
      "nnz before: 4088, after: 528\n"
     ]
    },
    {
     "name": "stderr",
     "output_type": "stream",
     "text": [
      " 91%|█████████ | 93/102 [11:10<01:09,  7.72s/it]"
     ]
    },
    {
     "name": "stdout",
     "output_type": "stream",
     "text": [
      "nnz before: 4088, after: 528\n"
     ]
    },
    {
     "name": "stderr",
     "output_type": "stream",
     "text": [
      " 92%|█████████▏| 94/102 [11:17<01:01,  7.70s/it]"
     ]
    },
    {
     "name": "stdout",
     "output_type": "stream",
     "text": [
      "nnz before: 4088, after: 528\n"
     ]
    },
    {
     "name": "stderr",
     "output_type": "stream",
     "text": [
      " 93%|█████████▎| 95/102 [11:25<00:52,  7.57s/it]"
     ]
    },
    {
     "name": "stdout",
     "output_type": "stream",
     "text": [
      "nnz before: 4088, after: 528\n"
     ]
    },
    {
     "name": "stderr",
     "output_type": "stream",
     "text": [
      " 94%|█████████▍| 96/102 [11:32<00:44,  7.48s/it]"
     ]
    },
    {
     "name": "stdout",
     "output_type": "stream",
     "text": [
      "nnz before: 4088, after: 528\n"
     ]
    },
    {
     "name": "stderr",
     "output_type": "stream",
     "text": [
      " 95%|█████████▌| 97/102 [11:40<00:38,  7.74s/it]"
     ]
    },
    {
     "name": "stdout",
     "output_type": "stream",
     "text": [
      "nnz before: 4088, after: 528\n"
     ]
    },
    {
     "name": "stderr",
     "output_type": "stream",
     "text": [
      " 96%|█████████▌| 98/102 [11:49<00:31,  7.88s/it]"
     ]
    },
    {
     "name": "stdout",
     "output_type": "stream",
     "text": [
      "nnz before: 4088, after: 528\n"
     ]
    },
    {
     "name": "stderr",
     "output_type": "stream",
     "text": [
      " 97%|█████████▋| 99/102 [11:57<00:23,  7.94s/it]"
     ]
    },
    {
     "name": "stdout",
     "output_type": "stream",
     "text": [
      "nnz before: 4088, after: 528\n"
     ]
    },
    {
     "name": "stderr",
     "output_type": "stream",
     "text": [
      " 98%|█████████▊| 100/102 [12:05<00:15,  7.99s/it]"
     ]
    },
    {
     "name": "stdout",
     "output_type": "stream",
     "text": [
      "nnz before: 4088, after: 528\n"
     ]
    },
    {
     "name": "stderr",
     "output_type": "stream",
     "text": [
      " 99%|█████████▉| 101/102 [12:13<00:08,  8.04s/it]"
     ]
    },
    {
     "name": "stdout",
     "output_type": "stream",
     "text": [
      "nnz before: 4088, after: 528\n"
     ]
    },
    {
     "name": "stderr",
     "output_type": "stream",
     "text": [
      "100%|██████████| 102/102 [12:21<00:00,  7.27s/it]"
     ]
    },
    {
     "name": "stdout",
     "output_type": "stream",
     "text": [
      "nnz before: 4088, after: 528\n"
     ]
    },
    {
     "name": "stderr",
     "output_type": "stream",
     "text": [
      "\n"
     ]
    }
   ],
   "source": [
    "for dr in tqdm.tqdm(range(102)):\n",
    "    p = COVIDParametersOCP.OCParameters(setup=setup, M=M, when=when, posterior_draw=dr+1)\n",
    "    with open(f'model_output/beta-posteriors/beta{dr+1}.pkl', 'wb') as out:\n",
    "        pickle.dump(p, out, pickle.HIGHEST_PROTOCOL)"
   ]
  },
  {
   "cell_type": "code",
   "execution_count": 4,
   "metadata": {
    "execution": {
     "iopub.execute_input": "2021-02-14T13:22:07.182700Z",
     "iopub.status.busy": "2021-02-14T13:22:07.182449Z",
     "iopub.status.idle": "2021-02-14T13:22:07.188878Z",
     "shell.execute_reply": "2021-02-14T13:22:07.187982Z",
     "shell.execute_reply.started": "2021-02-14T13:22:07.182672Z"
    }
   },
   "outputs": [],
   "source": [
    "def runall(dr, scenario_mu, name):\n",
    "    with open(f'model_output/beta-posteriors/beta{dr+1}.pkl', 'rb') as inp:\n",
    "        p = pickle.load(inp)\n",
    "    p.apply_epicourse(setup, scenario_mu)\n",
    "    control_initial = np.zeros((M, N))\n",
    "    results, state_initial, yell, mob = COVIDVaccinationOCP.integrate(N,\n",
    "                                                                      setup=setup,\n",
    "                                                                      parameters=p,\n",
    "                                                                      controls=control_initial,\n",
    "                                                                      save_to=f'model_output/beta-posteriors/bet_sim{dr+1}_{name}',\n",
    "                                                                      method='rk4',\n",
    "                                                                      n_rk4_steps=n_int_steps)\n",
    "    return results"
   ]
  },
  {
   "cell_type": "code",
   "execution_count": 5,
   "metadata": {
    "execution": {
     "iopub.execute_input": "2021-02-14T13:22:08.506494Z",
     "iopub.status.busy": "2021-02-14T13:22:08.506299Z",
     "iopub.status.idle": "2021-02-14T13:39:34.913078Z",
     "shell.execute_reply": "2021-02-14T13:39:34.912300Z",
     "shell.execute_reply.started": "2021-02-14T13:22:08.506473Z"
    },
    "scrolled": true
   },
   "outputs": [
    {
     "name": "stdout",
     "output_type": "stream",
     "text": [
      "===> Integrating for model_output/beta-posteriors/bet_sim1_U-r3-t479700-id0===> Integrating for model_output/beta-posteriors/bet_sim3_U-r3-t479700-id0===> Integrating for model_output/beta-posteriors/bet_sim5_U-r3-t479700-id0===> Integrating for model_output/beta-posteriors/bet_sim7_U-r3-t479700-id0===> Integrating for model_output/beta-posteriors/bet_sim9_U-r3-t479700-id0===> Integrating for model_output/beta-posteriors/bet_sim11_U-r3-t479700-id0===> Integrating for model_output/beta-posteriors/bet_sim13_U-r3-t479700-id0\n",
      "\n",
      "===> Integrating for model_output/beta-posteriors/bet_sim17_U-r3-t479700-id0===> Integrating for model_output/beta-posteriors/bet_sim21_U-r3-t479700-id0===> Integrating for model_output/beta-posteriors/bet_sim15_U-r3-t479700-id0===> Integrating for model_output/beta-posteriors/bet_sim19_U-r3-t479700-id0\n",
      "\n",
      "\n",
      "\n",
      "===> Integrating for model_output/beta-posteriors/bet_sim23_U-r3-t479700-id0\n",
      "===> Integrating for model_output/beta-posteriors/bet_sim25_U-r3-t479700-id0===> Integrating for model_output/beta-posteriors/bet_sim27_U-r3-t479700-id0===> Integrating for model_output/beta-posteriors/bet_sim29_U-r3-t479700-id0\n",
      "\n",
      "\n",
      "\n",
      "===> Integrating for model_output/beta-posteriors/bet_sim31_U-r3-t479700-id0\n",
      "\n",
      "\n",
      "\n"
     ]
    },
    {
     "name": "stderr",
     "output_type": "stream",
     "text": [
      "  0%|          | 0/89 [00:00<?, ?it/s]"
     ]
    },
    {
     "name": "stdout",
     "output_type": "stream",
     "text": [
      "\n"
     ]
    },
    {
     "name": "stderr",
     "output_type": "stream",
     "text": [
      "  1%|          | 1/89 [00:00<00:11,  7.75it/s]"
     ]
    },
    {
     "name": "stdout",
     "output_type": "stream",
     "text": [
      "0 U-r3-t479700-id0\n"
     ]
    },
    {
     "name": "stderr",
     "output_type": "stream",
     "text": [
      "100%|██████████| 89/89 [00:13<00:00,  6.53it/s]\n",
      "100%|██████████| 89/89 [00:13<00:00,  6.52it/s]\n",
      "100%|██████████| 89/89 [00:13<00:00,  6.51it/s]\n",
      "\n",
      "100%|██████████| 89/89 [00:13<00:00,  6.50it/s]\n",
      "100%|██████████| 89/89 [00:13<00:00,  6.50it/s]\n",
      "100%|██████████| 89/89 [00:13<00:00,  6.49it/s]\n",
      "\n",
      "100%|██████████| 89/89 [00:13<00:00,  6.48it/s]\n",
      "\n",
      "100%|██████████| 89/89 [00:13<00:00,  6.48it/s]\n",
      "100%|██████████| 89/89 [00:13<00:00,  5.64it/s]\n",
      "100%|██████████| 89/89 [00:13<00:00,  6.47it/s]\n",
      "100%|██████████| 89/89 [00:13<00:00,  6.47it/s]\n",
      "100%|██████████| 89/89 [00:13<00:00,  6.46it/s]\n",
      "100%|██████████| 89/89 [00:13<00:00,  6.44it/s]\n"
     ]
    },
    {
     "name": "stdout",
     "output_type": "stream",
     "text": [
      "===> Integrating for model_output/beta-posteriors/bet_sim14_U-r3-t479700-id0\n"
     ]
    },
    {
     "name": "stderr",
     "output_type": "stream",
     "text": [
      "  1%|          | 1/89 [00:00<00:11,  7.39it/s]"
     ]
    },
    {
     "name": "stdout",
     "output_type": "stream",
     "text": [
      "===> Integrating for model_output/beta-posteriors/bet_sim26_U-r3-t479700-id0\n"
     ]
    },
    {
     "name": "stderr",
     "output_type": "stream",
     "text": [
      "  0%|          | 0/89 [00:00<?, ?it/s]"
     ]
    },
    {
     "name": "stdout",
     "output_type": "stream",
     "text": [
      "===> Integrating for model_output/beta-posteriors/bet_sim22_U-r3-t479700-id0\n"
     ]
    },
    {
     "name": "stderr",
     "output_type": "stream",
     "text": [
      "  0%|          | 0/89 [00:00<?, ?it/s].10it/s]"
     ]
    },
    {
     "name": "stdout",
     "output_type": "stream",
     "text": [
      "===> Integrating for model_output/beta-posteriors/bet_sim4_U-r3-t479700-id0\n"
     ]
    },
    {
     "name": "stderr",
     "output_type": "stream",
     "text": [
      "  0%|          | 0/89 [00:00<?, ?it/s]"
     ]
    },
    {
     "name": "stdout",
     "output_type": "stream",
     "text": [
      "===> Integrating for model_output/beta-posteriors/bet_sim30_U-r3-t479700-id0\n"
     ]
    },
    {
     "name": "stderr",
     "output_type": "stream",
     "text": [
      "  0%|          | 0/89 [00:00<?, ?it/s]"
     ]
    },
    {
     "name": "stdout",
     "output_type": "stream",
     "text": [
      "===> Integrating for model_output/beta-posteriors/bet_sim18_U-r3-t479700-id0\n"
     ]
    },
    {
     "name": "stderr",
     "output_type": "stream",
     "text": [
      "  0%|          | 0/89 [00:00<?, ?it/s]"
     ]
    },
    {
     "name": "stdout",
     "output_type": "stream",
     "text": [
      "===> Integrating for model_output/beta-posteriors/bet_sim16_U-r3-t479700-id0===> Integrating for model_output/beta-posteriors/bet_sim8_U-r3-t479700-id0\n",
      "\n",
      "===> Integrating for model_output/beta-posteriors/bet_sim24_U-r3-t479700-id0"
     ]
    },
    {
     "name": "stderr",
     "output_type": "stream",
     "text": [
      "  0%|          | 0/89 [00:00<?, ?it/s]"
     ]
    },
    {
     "name": "stdout",
     "output_type": "stream",
     "text": [
      "\n",
      "===> Integrating for model_output/beta-posteriors/bet_sim2_U-r3-t479700-id0===> Integrating for model_output/beta-posteriors/bet_sim32_U-r3-t479700-id0\n",
      "\n"
     ]
    },
    {
     "name": "stderr",
     "output_type": "stream",
     "text": [
      "  0%|          | 0/89 [00:00<?, ?it/s]"
     ]
    },
    {
     "name": "stdout",
     "output_type": "stream",
     "text": [
      "===> Integrating for model_output/beta-posteriors/bet_sim10_U-r3-t479700-id0\n",
      "===> Integrating for model_output/beta-posteriors/bet_sim6_U-r3-t479700-id0\n"
     ]
    },
    {
     "name": "stderr",
     "output_type": "stream",
     "text": [
      "  0%|          | 0/89 [00:00<?, ?it/s]"
     ]
    },
    {
     "name": "stdout",
     "output_type": "stream",
     "text": [
      "===> Integrating for model_output/beta-posteriors/bet_sim12_U-r3-t479700-id0\n"
     ]
    },
    {
     "name": "stderr",
     "output_type": "stream",
     "text": [
      "  1%|          | 1/89 [00:00<00:13,  6.37it/s]"
     ]
    },
    {
     "name": "stdout",
     "output_type": "stream",
     "text": [
      "===> Integrating for model_output/beta-posteriors/bet_sim28_U-r3-t479700-id0\n"
     ]
    },
    {
     "name": "stderr",
     "output_type": "stream",
     "text": [
      "  1%|          | 1/89 [00:00<00:14,  6.14it/s]"
     ]
    },
    {
     "name": "stdout",
     "output_type": "stream",
     "text": [
      "===> Integrating for model_output/beta-posteriors/bet_sim20_U-r3-t479700-id0\n"
     ]
    },
    {
     "name": "stderr",
     "output_type": "stream",
     "text": [
      " 98%|█████████▊| 87/89 [00:14<00:00,  5.93it/s]\n",
      "100%|██████████| 89/89 [00:14<00:00,  6.11it/s]\n",
      "100%|██████████| 89/89 [00:14<00:00,  6.06it/s]\n",
      "100%|██████████| 89/89 [00:14<00:00,  5.60it/s]\n",
      "100%|██████████| 89/89 [00:14<00:00,  6.07it/s]\n",
      "\n",
      "100%|██████████| 89/89 [00:14<00:00,  6.08it/s]\n",
      "100%|██████████| 89/89 [00:14<00:00,  6.06it/s]\n",
      "100%|██████████| 89/89 [00:14<00:00,  5.69it/s]\n",
      "100%|██████████| 89/89 [00:14<00:00,  6.06it/s]\n",
      "100%|██████████| 89/89 [00:14<00:00,  6.06it/s]\n",
      "100%|██████████| 89/89 [00:14<00:00,  6.05it/s]\n",
      " 99%|█████████▉| 88/89 [00:14<00:00,  5.56it/s]\n",
      "100%|██████████| 89/89 [00:14<00:00,  6.11it/s]\n",
      "100%|██████████| 89/89 [00:14<00:00,  6.00it/s]\n",
      "100%|██████████| 89/89 [00:14<00:00,  6.03it/s]\n"
     ]
    },
    {
     "name": "stdout",
     "output_type": "stream",
     "text": [
      "===> Integrating for model_output/beta-posteriors/bet_sim33_U-r3-t479700-id0\n"
     ]
    },
    {
     "name": "stderr",
     "output_type": "stream",
     "text": [
      "  1%|          | 1/89 [00:00<00:13,  6.69it/s]"
     ]
    },
    {
     "name": "stdout",
     "output_type": "stream",
     "text": [
      "===> Integrating for model_output/beta-posteriors/bet_sim35_U-r3-t479700-id0\n"
     ]
    },
    {
     "name": "stderr",
     "output_type": "stream",
     "text": [
      "  2%|▏         | 2/89 [00:00<00:12,  6.86it/s]"
     ]
    },
    {
     "name": "stdout",
     "output_type": "stream",
     "text": [
      "===> Integrating for model_output/beta-posteriors/bet_sim37_U-r3-t479700-id0\n"
     ]
    },
    {
     "name": "stderr",
     "output_type": "stream",
     "text": [
      "  0%|          | 0/89 [00:00<?, ?it/s]"
     ]
    },
    {
     "name": "stdout",
     "output_type": "stream",
     "text": [
      "===> Integrating for model_output/beta-posteriors/bet_sim39_U-r3-t479700-id0\n"
     ]
    },
    {
     "name": "stderr",
     "output_type": "stream",
     "text": [
      "  3%|▎         | 3/89 [00:00<00:15,  5.56it/s]"
     ]
    },
    {
     "name": "stdout",
     "output_type": "stream",
     "text": [
      "===> Integrating for model_output/beta-posteriors/bet_sim41_U-r3-t479700-id0\n"
     ]
    },
    {
     "name": "stderr",
     "output_type": "stream",
     "text": [
      "  0%|          | 0/89 [00:00<?, ?it/s]"
     ]
    },
    {
     "name": "stdout",
     "output_type": "stream",
     "text": [
      "===> Integrating for model_output/beta-posteriors/bet_sim43_U-r3-t479700-id0\n"
     ]
    },
    {
     "name": "stderr",
     "output_type": "stream",
     "text": [
      "  6%|▌         | 5/89 [00:00<00:14,  5.95it/s]"
     ]
    },
    {
     "name": "stdout",
     "output_type": "stream",
     "text": [
      "===> Integrating for model_output/beta-posteriors/bet_sim45_U-r3-t479700-id0\n"
     ]
    },
    {
     "name": "stderr",
     "output_type": "stream",
     "text": [
      "  4%|▍         | 4/89 [00:00<00:13,  6.21it/s]"
     ]
    },
    {
     "name": "stdout",
     "output_type": "stream",
     "text": [
      "===> Integrating for model_output/beta-posteriors/bet_sim47_U-r3-t479700-id0\n"
     ]
    },
    {
     "name": "stderr",
     "output_type": "stream",
     "text": [
      "  1%|          | 1/89 [00:00<00:09,  9.52it/s]"
     ]
    },
    {
     "name": "stdout",
     "output_type": "stream",
     "text": [
      "===> Integrating for model_output/beta-posteriors/bet_sim49_U-r3-t479700-id0\n"
     ]
    },
    {
     "name": "stderr",
     "output_type": "stream",
     "text": [
      "  6%|▌         | 5/89 [00:00<00:12,  6.80it/s]"
     ]
    },
    {
     "name": "stdout",
     "output_type": "stream",
     "text": [
      "===> Integrating for model_output/beta-posteriors/bet_sim51_U-r3-t479700-id0\n"
     ]
    },
    {
     "name": "stderr",
     "output_type": "stream",
     "text": [
      "  8%|▊         | 7/89 [00:01<00:12,  6.78it/s]"
     ]
    },
    {
     "name": "stdout",
     "output_type": "stream",
     "text": [
      "===> Integrating for model_output/beta-posteriors/bet_sim53_U-r3-t479700-id0"
     ]
    },
    {
     "name": "stderr",
     "output_type": "stream",
     "text": [
      "  2%|▏         | 2/89 [00:00<00:09,  8.75it/s]"
     ]
    },
    {
     "name": "stdout",
     "output_type": "stream",
     "text": [
      "\n"
     ]
    },
    {
     "name": "stderr",
     "output_type": "stream",
     "text": [
      "  7%|▋         | 6/89 [00:00<00:12,  6.75it/s]"
     ]
    },
    {
     "name": "stdout",
     "output_type": "stream",
     "text": [
      "===> Integrating for model_output/beta-posteriors/bet_sim55_U-r3-t479700-id0\n"
     ]
    },
    {
     "name": "stderr",
     "output_type": "stream",
     "text": [
      "  8%|▊         | 7/89 [00:01<00:12,  6.76it/s]"
     ]
    },
    {
     "name": "stdout",
     "output_type": "stream",
     "text": [
      "===> Integrating for model_output/beta-posteriors/bet_sim57_U-r3-t479700-id0\n"
     ]
    },
    {
     "name": "stderr",
     "output_type": "stream",
     "text": [
      "  3%|▎         | 3/89 [00:00<00:11,  7.46it/s]"
     ]
    },
    {
     "name": "stdout",
     "output_type": "stream",
     "text": [
      "===> Integrating for model_output/beta-posteriors/bet_sim59_U-r3-t479700-id0\n"
     ]
    },
    {
     "name": "stderr",
     "output_type": "stream",
     "text": [
      "  3%|▎         | 3/89 [00:00<00:12,  6.71it/s]"
     ]
    },
    {
     "name": "stdout",
     "output_type": "stream",
     "text": [
      "===> Integrating for model_output/beta-posteriors/bet_sim61_U-r3-t479700-id0\n"
     ]
    },
    {
     "name": "stderr",
     "output_type": "stream",
     "text": [
      "  9%|▉         | 8/89 [00:01<00:12,  6.24it/s]"
     ]
    },
    {
     "name": "stdout",
     "output_type": "stream",
     "text": [
      "===> Integrating for model_output/beta-posteriors/bet_sim63_U-r3-t479700-id0\n"
     ]
    },
    {
     "name": "stderr",
     "output_type": "stream",
     "text": [
      " 92%|█████████▏| 82/89 [00:18<00:01,  5.81it/s]\n",
      "100%|██████████| 89/89 [00:19<00:00,  4.53it/s]\n",
      "100%|██████████| 89/89 [00:19<00:00,  4.49it/s]\n",
      "100%|██████████| 89/89 [00:19<00:00,  4.52it/s]\n",
      "100%|██████████| 89/89 [00:19<00:00,  4.51it/s]\n",
      "100%|██████████| 89/89 [00:19<00:00,  4.52it/s]\n",
      "100%|██████████| 89/89 [00:19<00:00,  4.50it/s]\n",
      "100%|██████████| 89/89 [00:19<00:00,  4.49it/s]\n",
      " 98%|█████████▊| 87/89 [00:19<00:00,  5.53it/s]\n",
      "100%|██████████| 89/89 [00:19<00:00,  4.48it/s]\n",
      "100%|██████████| 89/89 [00:19<00:00,  4.48it/s]\n",
      "100%|██████████| 89/89 [00:19<00:00,  4.48it/s]\n",
      "100%|██████████| 89/89 [00:19<00:00,  4.50it/s]\n",
      "100%|██████████| 89/89 [00:20<00:00,  4.44it/s]\n",
      "100%|██████████| 89/89 [00:19<00:00,  4.46it/s]\n",
      "100%|██████████| 89/89 [00:19<00:00,  4.45it/s]\n"
     ]
    },
    {
     "name": "stdout",
     "output_type": "stream",
     "text": [
      "===> Integrating for model_output/beta-posteriors/bet_sim34_U-r3-t479700-id0\n"
     ]
    },
    {
     "name": "stderr",
     "output_type": "stream",
     "text": [
      "  3%|▎         | 3/89 [00:00<00:12,  6.87it/s]"
     ]
    },
    {
     "name": "stdout",
     "output_type": "stream",
     "text": [
      "===> Integrating for model_output/beta-posteriors/bet_sim36_U-r3-t479700-id0\n"
     ]
    },
    {
     "name": "stderr",
     "output_type": "stream",
     "text": [
      "  3%|▎         | 3/89 [00:00<00:14,  6.13it/s]"
     ]
    },
    {
     "name": "stdout",
     "output_type": "stream",
     "text": [
      "===> Integrating for model_output/beta-posteriors/bet_sim40_U-r3-t479700-id0\n"
     ]
    },
    {
     "name": "stderr",
     "output_type": "stream",
     "text": [
      "  6%|▌         | 5/89 [00:00<00:14,  5.78it/s]"
     ]
    },
    {
     "name": "stdout",
     "output_type": "stream",
     "text": [
      "===> Integrating for model_output/beta-posteriors/bet_sim42_U-r3-t479700-id0\n"
     ]
    },
    {
     "name": "stderr",
     "output_type": "stream",
     "text": [
      "  0%|          | 0/89 [00:00<?, ?it/s]"
     ]
    },
    {
     "name": "stdout",
     "output_type": "stream",
     "text": [
      "===> Integrating for model_output/beta-posteriors/bet_sim38_U-r3-t479700-id0\n"
     ]
    },
    {
     "name": "stderr",
     "output_type": "stream",
     "text": [
      "  0%|          | 0/89 [00:00<?, ?it/s]"
     ]
    },
    {
     "name": "stdout",
     "output_type": "stream",
     "text": [
      "===> Integrating for model_output/beta-posteriors/bet_sim44_U-r3-t479700-id0\n"
     ]
    },
    {
     "name": "stderr",
     "output_type": "stream",
     "text": [
      "  1%|          | 1/89 [00:00<00:15,  5.73it/s]]"
     ]
    },
    {
     "name": "stdout",
     "output_type": "stream",
     "text": [
      "===> Integrating for model_output/beta-posteriors/bet_sim48_U-r3-t479700-id0\n"
     ]
    },
    {
     "name": "stderr",
     "output_type": "stream",
     "text": [
      "  1%|          | 1/89 [00:00<00:14,  5.87it/s]"
     ]
    },
    {
     "name": "stdout",
     "output_type": "stream",
     "text": [
      "===> Integrating for model_output/beta-posteriors/bet_sim52_U-r3-t479700-id0\n"
     ]
    },
    {
     "name": "stderr",
     "output_type": "stream",
     "text": [
      "  1%|          | 1/89 [00:00<00:14,  6.09it/s]]"
     ]
    },
    {
     "name": "stdout",
     "output_type": "stream",
     "text": [
      "===> Integrating for model_output/beta-posteriors/bet_sim50_U-r3-t479700-id0===> Integrating for model_output/beta-posteriors/bet_sim56_U-r3-t479700-id0"
     ]
    },
    {
     "name": "stderr",
     "output_type": "stream",
     "text": [
      "  2%|▏         | 2/89 [00:00<00:14,  5.96it/s]"
     ]
    },
    {
     "name": "stdout",
     "output_type": "stream",
     "text": [
      "\n",
      "\n"
     ]
    },
    {
     "name": "stderr",
     "output_type": "stream",
     "text": [
      "  9%|▉         | 8/89 [00:01<00:13,  5.82it/s]]"
     ]
    },
    {
     "name": "stdout",
     "output_type": "stream",
     "text": [
      "===> Integrating for model_output/beta-posteriors/bet_sim46_U-r3-t479700-id0\n"
     ]
    },
    {
     "name": "stderr",
     "output_type": "stream",
     "text": [
      "  3%|▎         | 3/89 [00:00<00:14,  5.96it/s]"
     ]
    },
    {
     "name": "stdout",
     "output_type": "stream",
     "text": [
      "===> Integrating for model_output/beta-posteriors/bet_sim62_U-r3-t479700-id0"
     ]
    },
    {
     "name": "stderr",
     "output_type": "stream",
     "text": [
      "  1%|          | 1/89 [00:00<00:14,  6.17it/s]"
     ]
    },
    {
     "name": "stdout",
     "output_type": "stream",
     "text": [
      "\n"
     ]
    },
    {
     "name": "stderr",
     "output_type": "stream",
     "text": [
      " 10%|█         | 9/89 [00:01<00:13,  5.83it/s]]"
     ]
    },
    {
     "name": "stdout",
     "output_type": "stream",
     "text": [
      "===> Integrating for model_output/beta-posteriors/bet_sim60_U-r3-t479700-id0\n"
     ]
    },
    {
     "name": "stderr",
     "output_type": "stream",
     "text": [
      "  1%|          | 1/89 [00:00<00:14,  5.92it/s]"
     ]
    },
    {
     "name": "stdout",
     "output_type": "stream",
     "text": [
      "===> Integrating for model_output/beta-posteriors/bet_sim54_U-r3-t479700-id0\n"
     ]
    },
    {
     "name": "stderr",
     "output_type": "stream",
     "text": [
      "  1%|          | 1/89 [00:00<00:13,  6.34it/s]]"
     ]
    },
    {
     "name": "stdout",
     "output_type": "stream",
     "text": [
      "===> Integrating for model_output/beta-posteriors/bet_sim58_U-r3-t479700-id0\n"
     ]
    },
    {
     "name": "stderr",
     "output_type": "stream",
     "text": [
      "  7%|▋         | 6/89 [00:01<00:14,  5.90it/s]]"
     ]
    },
    {
     "name": "stdout",
     "output_type": "stream",
     "text": [
      "===> Integrating for model_output/beta-posteriors/bet_sim64_U-r3-t479700-id0\n"
     ]
    },
    {
     "name": "stderr",
     "output_type": "stream",
     "text": [
      " 85%|████████▌ | 76/89 [00:13<00:02,  5.64it/s]\n",
      "100%|██████████| 89/89 [00:16<00:00,  5.51it/s]\n",
      " 96%|█████████▌| 85/89 [00:15<00:00,  5.74it/s]\n",
      "100%|██████████| 89/89 [00:16<00:00,  5.50it/s]\n",
      "100%|██████████| 89/89 [00:16<00:00,  5.49it/s]\n",
      " 98%|█████████▊| 87/89 [00:15<00:00,  5.95it/s]\n",
      " 94%|█████████▍| 84/89 [00:15<00:00,  5.91it/s]\n",
      " 99%|█████████▉| 88/89 [00:16<00:00,  6.08it/s]\n",
      "100%|██████████| 89/89 [00:16<00:00,  5.98it/s]\n",
      "100%|██████████| 89/89 [00:16<00:00,  5.50it/s]\n",
      "100%|██████████| 89/89 [00:15<00:00,  5.57it/s]\n",
      "100%|██████████| 89/89 [00:16<00:00,  5.50it/s]\n",
      "100%|██████████| 89/89 [00:16<00:00,  5.53it/s]\n",
      "100%|██████████| 89/89 [00:16<00:00,  5.49it/s]\n",
      "100%|██████████| 89/89 [00:16<00:00,  5.54it/s]\n",
      "100%|██████████| 89/89 [00:16<00:00,  5.50it/s]\n"
     ]
    },
    {
     "name": "stdout",
     "output_type": "stream",
     "text": [
      "===> Integrating for model_output/beta-posteriors/bet_sim65_U-r3-t479700-id0\n"
     ]
    },
    {
     "name": "stderr",
     "output_type": "stream",
     "text": [
      "  8%|▊         | 7/89 [00:01<00:13,  5.89it/s]"
     ]
    },
    {
     "name": "stdout",
     "output_type": "stream",
     "text": [
      "===> Integrating for model_output/beta-posteriors/bet_sim67_U-r3-t479700-id0\n"
     ]
    },
    {
     "name": "stderr",
     "output_type": "stream",
     "text": [
      "  7%|▋         | 6/89 [00:00<00:13,  6.11it/s]]"
     ]
    },
    {
     "name": "stdout",
     "output_type": "stream",
     "text": [
      "===> Integrating for model_output/beta-posteriors/bet_sim69_U-r3-t479700-id0\n"
     ]
    },
    {
     "name": "stderr",
     "output_type": "stream",
     "text": [
      "  1%|          | 1/89 [00:00<00:13,  6.63it/s]]"
     ]
    },
    {
     "name": "stdout",
     "output_type": "stream",
     "text": [
      "===> Integrating for model_output/beta-posteriors/bet_sim71_U-r3-t479700-id0\n"
     ]
    },
    {
     "name": "stderr",
     "output_type": "stream",
     "text": [
      " 18%|█▊        | 16/89 [00:02<00:11,  6.20it/s]"
     ]
    },
    {
     "name": "stdout",
     "output_type": "stream",
     "text": [
      "===> Integrating for model_output/beta-posteriors/bet_sim73_U-r3-t479700-id0\n"
     ]
    },
    {
     "name": "stderr",
     "output_type": "stream",
     "text": [
      " 19%|█▉        | 17/89 [00:02<00:11,  6.09it/s]"
     ]
    },
    {
     "name": "stdout",
     "output_type": "stream",
     "text": [
      "===> Integrating for model_output/beta-posteriors/bet_sim75_U-r3-t479700-id0\n"
     ]
    },
    {
     "name": "stderr",
     "output_type": "stream",
     "text": [
      "  3%|▎         | 3/89 [00:00<00:13,  6.41it/s]]"
     ]
    },
    {
     "name": "stdout",
     "output_type": "stream",
     "text": [
      "===> Integrating for model_output/beta-posteriors/bet_sim77_U-r3-t479700-id0\n"
     ]
    },
    {
     "name": "stderr",
     "output_type": "stream",
     "text": [
      " 20%|██        | 18/89 [00:02<00:11,  6.02it/s]"
     ]
    },
    {
     "name": "stdout",
     "output_type": "stream",
     "text": [
      "===> Integrating for model_output/beta-posteriors/bet_sim79_U-r3-t479700-id0\n"
     ]
    },
    {
     "name": "stderr",
     "output_type": "stream",
     "text": [
      "  1%|          | 1/89 [00:00<00:13,  6.75it/s]]"
     ]
    },
    {
     "name": "stdout",
     "output_type": "stream",
     "text": [
      "===> Integrating for model_output/beta-posteriors/bet_sim81_U-r3-t479700-id0\n"
     ]
    },
    {
     "name": "stderr",
     "output_type": "stream",
     "text": [
      "  1%|          | 1/89 [00:00<00:14,  6.22it/s]]"
     ]
    },
    {
     "name": "stdout",
     "output_type": "stream",
     "text": [
      "===> Integrating for model_output/beta-posteriors/bet_sim83_U-r3-t479700-id0\n"
     ]
    },
    {
     "name": "stderr",
     "output_type": "stream",
     "text": [
      "  0%|          | 0/89 [00:00<?, ?it/s]"
     ]
    },
    {
     "name": "stdout",
     "output_type": "stream",
     "text": [
      "===> Integrating for model_output/beta-posteriors/bet_sim85_U-r3-t479700-id0\n"
     ]
    },
    {
     "name": "stderr",
     "output_type": "stream",
     "text": [
      "  2%|▏         | 2/89 [00:00<00:14,  6.17it/s]]"
     ]
    },
    {
     "name": "stdout",
     "output_type": "stream",
     "text": [
      "===> Integrating for model_output/beta-posteriors/bet_sim87_U-r3-t479700-id0\n"
     ]
    },
    {
     "name": "stderr",
     "output_type": "stream",
     "text": [
      "  2%|▏         | 2/89 [00:00<00:14,  5.80it/s]]"
     ]
    },
    {
     "name": "stdout",
     "output_type": "stream",
     "text": [
      "===> Integrating for model_output/beta-posteriors/bet_sim89_U-r3-t479700-id0\n"
     ]
    },
    {
     "name": "stderr",
     "output_type": "stream",
     "text": [
      "  3%|▎         | 3/89 [00:00<00:16,  5.33it/s]"
     ]
    },
    {
     "name": "stdout",
     "output_type": "stream",
     "text": [
      "===> Integrating for model_output/beta-posteriors/bet_sim91_U-r3-t479700-id0\n"
     ]
    },
    {
     "name": "stderr",
     "output_type": "stream",
     "text": [
      "  2%|▏         | 2/89 [00:00<00:15,  5.44it/s]]"
     ]
    },
    {
     "name": "stdout",
     "output_type": "stream",
     "text": [
      "===> Integrating for model_output/beta-posteriors/bet_sim93_U-r3-t479700-id0\n"
     ]
    },
    {
     "name": "stderr",
     "output_type": "stream",
     "text": [
      "  3%|▎         | 3/89 [00:00<00:16,  5.20it/s]]"
     ]
    },
    {
     "name": "stdout",
     "output_type": "stream",
     "text": [
      "===> Integrating for model_output/beta-posteriors/bet_sim95_U-r3-t479700-id0\n"
     ]
    },
    {
     "name": "stderr",
     "output_type": "stream",
     "text": [
      "100%|██████████| 89/89 [00:15<00:00,  5.60it/s]\n",
      " 87%|████████▋ | 77/89 [00:14<00:02,  5.92it/s]\n",
      "100%|██████████| 89/89 [00:15<00:00,  5.59it/s]\n",
      "100%|██████████| 89/89 [00:15<00:00,  5.59it/s]\n",
      " 97%|█████████▋| 86/89 [00:15<00:00,  6.13it/s]\n",
      " 99%|█████████▉| 88/89 [00:15<00:00,  6.24it/s]\n",
      " 97%|█████████▋| 86/89 [00:15<00:00,  5.86it/s]\n",
      "100%|██████████| 89/89 [00:15<00:00,  5.58it/s]\n",
      " 98%|█████████▊| 87/89 [00:15<00:00,  5.89it/s]\n",
      "100%|██████████| 89/89 [00:15<00:00,  5.91it/s]\n",
      "100%|██████████| 89/89 [00:15<00:00,  5.59it/s]\n",
      "100%|██████████| 89/89 [00:15<00:00,  5.61it/s]\n",
      "100%|██████████| 89/89 [00:16<00:00,  5.54it/s]\n",
      "100%|██████████| 89/89 [00:15<00:00,  5.57it/s]\n",
      "100%|██████████| 89/89 [00:15<00:00,  5.57it/s]\n",
      "100%|██████████| 89/89 [00:15<00:00,  5.59it/s]\n"
     ]
    },
    {
     "name": "stdout",
     "output_type": "stream",
     "text": [
      "===> Integrating for model_output/beta-posteriors/bet_sim66_U-r3-t479700-id0\n"
     ]
    },
    {
     "name": "stderr",
     "output_type": "stream",
     "text": [
      " 16%|█▌        | 14/89 [00:02<00:11,  6.68it/s]"
     ]
    },
    {
     "name": "stdout",
     "output_type": "stream",
     "text": [
      "===> Integrating for model_output/beta-posteriors/bet_sim68_U-r3-t479700-id0"
     ]
    },
    {
     "name": "stderr",
     "output_type": "stream",
     "text": [
      " 17%|█▋        | 15/89 [00:02<00:11,  6.53it/s]"
     ]
    },
    {
     "name": "stdout",
     "output_type": "stream",
     "text": [
      "\n"
     ]
    },
    {
     "name": "stderr",
     "output_type": "stream",
     "text": [
      "  9%|▉         | 8/89 [00:01<00:12,  6.52it/s]]"
     ]
    },
    {
     "name": "stdout",
     "output_type": "stream",
     "text": [
      "===> Integrating for model_output/beta-posteriors/bet_sim70_U-r3-t479700-id0\n"
     ]
    },
    {
     "name": "stderr",
     "output_type": "stream",
     "text": [
      "  1%|          | 1/89 [00:00<00:12,  7.25it/s]]"
     ]
    },
    {
     "name": "stdout",
     "output_type": "stream",
     "text": [
      "===> Integrating for model_output/beta-posteriors/bet_sim72_U-r3-t479700-id0\n"
     ]
    },
    {
     "name": "stderr",
     "output_type": "stream",
     "text": [
      "  3%|▎         | 3/89 [00:00<00:14,  5.94it/s]]"
     ]
    },
    {
     "name": "stdout",
     "output_type": "stream",
     "text": [
      "===> Integrating for model_output/beta-posteriors/bet_sim74_U-r3-t479700-id0\n"
     ]
    },
    {
     "name": "stderr",
     "output_type": "stream",
     "text": [
      "  0%|          | 0/89 [00:00<?, ?it/s]"
     ]
    },
    {
     "name": "stdout",
     "output_type": "stream",
     "text": [
      "===> Integrating for model_output/beta-posteriors/bet_sim78_U-r3-t479700-id0\n"
     ]
    },
    {
     "name": "stderr",
     "output_type": "stream",
     "text": [
      "  1%|          | 1/89 [00:00<00:14,  6.01it/s]]"
     ]
    },
    {
     "name": "stdout",
     "output_type": "stream",
     "text": [
      "===> Integrating for model_output/beta-posteriors/bet_sim76_U-r3-t479700-id0\n"
     ]
    },
    {
     "name": "stderr",
     "output_type": "stream",
     "text": [
      "  0%|          | 0/89 [00:00<?, ?it/s]"
     ]
    },
    {
     "name": "stdout",
     "output_type": "stream",
     "text": [
      "===> Integrating for model_output/beta-posteriors/bet_sim80_U-r3-t479700-id0\n"
     ]
    },
    {
     "name": "stderr",
     "output_type": "stream",
     "text": [
      "  1%|          | 1/89 [00:00<00:15,  5.83it/s]]"
     ]
    },
    {
     "name": "stdout",
     "output_type": "stream",
     "text": [
      "===> Integrating for model_output/beta-posteriors/bet_sim84_U-r3-t479700-id0\n"
     ]
    },
    {
     "name": "stderr",
     "output_type": "stream",
     "text": [
      "  1%|          | 1/89 [00:00<00:16,  5.48it/s]]"
     ]
    },
    {
     "name": "stdout",
     "output_type": "stream",
     "text": [
      "===> Integrating for model_output/beta-posteriors/bet_sim82_U-r3-t479700-id0\n"
     ]
    },
    {
     "name": "stderr",
     "output_type": "stream",
     "text": [
      " 35%|███▍      | 31/89 [00:04<00:10,  5.42it/s]"
     ]
    },
    {
     "name": "stdout",
     "output_type": "stream",
     "text": [
      "===> Integrating for model_output/beta-posteriors/bet_sim92_U-r3-t479700-id0\n"
     ]
    },
    {
     "name": "stderr",
     "output_type": "stream",
     "text": [
      " 18%|█▊        | 16/89 [00:02<00:13,  5.46it/s]"
     ]
    },
    {
     "name": "stdout",
     "output_type": "stream",
     "text": [
      "===> Integrating for model_output/beta-posteriors/bet_sim90_U-r3-t479700-id0\n"
     ]
    },
    {
     "name": "stderr",
     "output_type": "stream",
     "text": [
      "  9%|▉         | 8/89 [00:01<00:15,  5.32it/s]"
     ]
    },
    {
     "name": "stdout",
     "output_type": "stream",
     "text": [
      "===> Integrating for model_output/beta-posteriors/bet_sim86_U-r3-t479700-id0\n"
     ]
    },
    {
     "name": "stderr",
     "output_type": "stream",
     "text": [
      "  2%|▏         | 2/89 [00:00<00:16,  5.15it/s]"
     ]
    },
    {
     "name": "stdout",
     "output_type": "stream",
     "text": [
      "===> Integrating for model_output/beta-posteriors/bet_sim88_U-r3-t479700-id0\n"
     ]
    },
    {
     "name": "stderr",
     "output_type": "stream",
     "text": [
      "  6%|▌         | 5/89 [00:00<00:16,  5.07it/s]]"
     ]
    },
    {
     "name": "stdout",
     "output_type": "stream",
     "text": [
      "===> Integrating for model_output/beta-posteriors/bet_sim94_U-r3-t479700-id0\n"
     ]
    },
    {
     "name": "stderr",
     "output_type": "stream",
     "text": [
      " 10%|█         | 9/89 [00:01<00:15,  5.06it/s]]"
     ]
    },
    {
     "name": "stdout",
     "output_type": "stream",
     "text": [
      "===> Integrating for model_output/beta-posteriors/bet_sim96_U-r3-t479700-id0"
     ]
    },
    {
     "name": "stderr",
     "output_type": "stream",
     "text": [
      " 11%|█         | 10/89 [00:01<00:16,  4.86it/s]"
     ]
    },
    {
     "name": "stdout",
     "output_type": "stream",
     "text": [
      "\n"
     ]
    },
    {
     "name": "stderr",
     "output_type": "stream",
     "text": [
      "100%|██████████| 89/89 [00:15<00:00,  5.66it/s]\n",
      "100%|██████████| 89/89 [00:15<00:00,  5.59it/s]\n",
      " 93%|█████████▎| 83/89 [00:15<00:01,  5.54it/s]\n",
      "100%|██████████| 89/89 [00:16<00:00,  5.48it/s]\n",
      "100%|██████████| 89/89 [00:16<00:00,  5.52it/s]\n",
      "100%|██████████| 89/89 [00:16<00:00,  5.45it/s]\n",
      "100%|██████████| 89/89 [00:16<00:00,  5.48it/s]\n",
      "100%|██████████| 89/89 [00:16<00:00,  5.43it/s]\n",
      "100%|██████████| 89/89 [00:16<00:00,  5.46it/s]\n",
      "100%|██████████| 89/89 [00:16<00:00,  5.47it/s]\n",
      "100%|██████████| 89/89 [00:16<00:00,  5.45it/s]\n",
      "100%|██████████| 89/89 [00:16<00:00,  5.45it/s]\n",
      "100%|██████████| 89/89 [00:16<00:00,  5.44it/s]\n",
      "100%|██████████| 89/89 [00:16<00:00,  5.50it/s]\n",
      "100%|██████████| 89/89 [00:16<00:00,  5.40it/s]\n",
      "100%|██████████| 89/89 [00:16<00:00,  5.48it/s]\n"
     ]
    },
    {
     "name": "stdout",
     "output_type": "stream",
     "text": [
      "===> Integrating for model_output/beta-posteriors/bet_sim97_U-r3-t479700-id0\n"
     ]
    },
    {
     "name": "stderr",
     "output_type": "stream",
     "text": [
      " 27%|██▋       | 24/89 [00:03<00:09,  6.58it/s]"
     ]
    },
    {
     "name": "stdout",
     "output_type": "stream",
     "text": [
      "===> Integrating for model_output/beta-posteriors/bet_sim99_U-r3-t479700-id0\n"
     ]
    },
    {
     "name": "stderr",
     "output_type": "stream",
     "text": [
      " 12%|█▏        | 11/89 [00:01<00:10,  7.20it/s]"
     ]
    },
    {
     "name": "stdout",
     "output_type": "stream",
     "text": [
      "===> Integrating for model_output/beta-posteriors/bet_sim101_U-r3-t479700-id0"
     ]
    },
    {
     "name": "stderr",
     "output_type": "stream",
     "text": [
      " 13%|█▎        | 12/89 [00:01<00:10,  7.20it/s]"
     ]
    },
    {
     "name": "stdout",
     "output_type": "stream",
     "text": [
      "\n"
     ]
    },
    {
     "name": "stderr",
     "output_type": "stream",
     "text": [
      "100%|██████████| 89/89 [00:09<00:00,  9.17it/s]\n",
      "100%|██████████| 89/89 [00:07<00:00, 11.50it/s]\n",
      "100%|██████████| 89/89 [00:06<00:00, 12.88it/s]\n"
     ]
    },
    {
     "name": "stdout",
     "output_type": "stream",
     "text": [
      "===> Integrating for model_output/beta-posteriors/bet_sim98_U-r3-t479700-id0\n"
     ]
    },
    {
     "name": "stderr",
     "output_type": "stream",
     "text": [
      " 29%|██▉       | 26/89 [00:01<00:03, 19.04it/s]"
     ]
    },
    {
     "name": "stdout",
     "output_type": "stream",
     "text": [
      "===> Integrating for model_output/beta-posteriors/bet_sim100_U-r3-t479700-id0\n"
     ]
    },
    {
     "name": "stderr",
     "output_type": "stream",
     "text": [
      " 11%|█         | 10/89 [00:00<00:04, 18.98it/s]"
     ]
    },
    {
     "name": "stdout",
     "output_type": "stream",
     "text": [
      "===> Integrating for model_output/beta-posteriors/bet_sim102_U-r3-t479700-id0"
     ]
    },
    {
     "name": "stderr",
     "output_type": "stream",
     "text": [
      " 43%|████▎     | 38/89 [00:01<00:02, 19.16it/s]"
     ]
    },
    {
     "name": "stdout",
     "output_type": "stream",
     "text": [
      "\n"
     ]
    },
    {
     "name": "stderr",
     "output_type": "stream",
     "text": [
      "100%|██████████| 89/89 [00:04<00:00, 19.11it/s]\n",
      "100%|██████████| 89/89 [00:04<00:00, 18.81it/s]\n",
      "100%|██████████| 89/89 [00:04<00:00, 18.53it/s]\n"
     ]
    },
    {
     "name": "stdout",
     "output_type": "stream",
     "text": [
      "===> Integrating for model_output/beta-posteriors/bet_sim1_L-r3-t479700-id1===> Integrating for model_output/beta-posteriors/bet_sim3_L-r3-t479700-id1===> Integrating for model_output/beta-posteriors/bet_sim5_L-r3-t479700-id1===> Integrating for model_output/beta-posteriors/bet_sim7_L-r3-t479700-id1===> Integrating for model_output/beta-posteriors/bet_sim9_L-r3-t479700-id1===> Integrating for model_output/beta-posteriors/bet_sim11_L-r3-t479700-id1\n",
      "===> Integrating for model_output/beta-posteriors/bet_sim13_L-r3-t479700-id1\n",
      "===> Integrating for model_output/beta-posteriors/bet_sim15_L-r3-t479700-id1\n",
      "===> Integrating for model_output/beta-posteriors/bet_sim17_L-r3-t479700-id1\n",
      "===> Integrating for model_output/beta-posteriors/bet_sim19_L-r3-t479700-id1\n",
      "\n",
      "\n",
      "\n"
     ]
    },
    {
     "name": "stderr",
     "output_type": "stream",
     "text": [
      "  0%|          | 0/89 [00:00<?, ?it/s]"
     ]
    },
    {
     "name": "stdout",
     "output_type": "stream",
     "text": [
      "\n",
      "===> Integrating for model_output/beta-posteriors/bet_sim21_L-r3-t479700-id1===> Integrating for model_output/beta-posteriors/bet_sim23_L-r3-t479700-id1\n"
     ]
    },
    {
     "name": "stderr",
     "output_type": "stream",
     "text": [
      "  0%|          | 0/89 [00:00<?, ?it/s]"
     ]
    },
    {
     "name": "stdout",
     "output_type": "stream",
     "text": [
      "===> Integrating for model_output/beta-posteriors/bet_sim27_L-r3-t479700-id1"
     ]
    },
    {
     "name": "stderr",
     "output_type": "stream",
     "text": [
      "  0%|          | 0/89 [00:00<?, ?it/s]"
     ]
    },
    {
     "name": "stdout",
     "output_type": "stream",
     "text": [
      "===> Integrating for model_output/beta-posteriors/bet_sim25_L-r3-t479700-id1"
     ]
    },
    {
     "name": "stderr",
     "output_type": "stream",
     "text": [
      "  0%|          | 0/89 [00:00<?, ?it/s]"
     ]
    },
    {
     "name": "stdout",
     "output_type": "stream",
     "text": [
      "===> Integrating for model_output/beta-posteriors/bet_sim29_L-r3-t479700-id1===> Integrating for model_output/beta-posteriors/bet_sim31_L-r3-t479700-id1\n"
     ]
    },
    {
     "name": "stderr",
     "output_type": "stream",
     "text": [
      "  0%|          | 0/89 [00:00<?, ?it/s]"
     ]
    },
    {
     "name": "stdout",
     "output_type": "stream",
     "text": [
      "\n",
      "\n"
     ]
    },
    {
     "name": "stderr",
     "output_type": "stream",
     "text": [
      "  0%|          | 0/89 [00:00<?, ?it/s]"
     ]
    },
    {
     "name": "stdout",
     "output_type": "stream",
     "text": [
      "\n",
      "\n",
      "\n"
     ]
    },
    {
     "name": "stderr",
     "output_type": "stream",
     "text": [
      "  1%|          | 1/89 [00:00<00:11,  7.57it/s]"
     ]
    },
    {
     "name": "stdout",
     "output_type": "stream",
     "text": [
      "1 L-r3-t479700-id1\n"
     ]
    },
    {
     "name": "stderr",
     "output_type": "stream",
     "text": [
      "100%|██████████| 89/89 [00:14<00:00,  6.13it/s]\n",
      "100%|██████████| 89/89 [00:14<00:00,  6.11it/s]\n",
      "100%|██████████| 89/89 [00:14<00:00,  6.09it/s]\n",
      "100%|██████████| 89/89 [00:14<00:00,  6.09it/s]\n",
      "100%|██████████| 89/89 [00:14<00:00,  6.09it/s]\n",
      "100%|██████████| 89/89 [00:14<00:00,  6.08it/s]\n",
      "100%|██████████| 89/89 [00:14<00:00,  6.07it/s]\n",
      "100%|██████████| 89/89 [00:14<00:00,  6.05it/s]\n",
      "100%|██████████| 89/89 [00:14<00:00,  6.05it/s]\n",
      "100%|██████████| 89/89 [00:14<00:00,  6.04it/s]\n",
      "100%|██████████| 89/89 [00:14<00:00,  6.02it/s]\n",
      "100%|██████████| 89/89 [00:14<00:00,  6.01it/s]\n",
      "100%|██████████| 89/89 [00:14<00:00,  6.01it/s]\n",
      "\n",
      "100%|██████████| 89/89 [00:14<00:00,  5.99it/s]\n",
      "100%|██████████| 89/89 [00:14<00:00,  5.98it/s]\n"
     ]
    },
    {
     "name": "stdout",
     "output_type": "stream",
     "text": [
      "===> Integrating for model_output/beta-posteriors/bet_sim28_L-r3-t479700-id1\n"
     ]
    },
    {
     "name": "stderr",
     "output_type": "stream",
     "text": [
      "  0%|          | 0/89 [00:00<?, ?it/s]"
     ]
    },
    {
     "name": "stdout",
     "output_type": "stream",
     "text": [
      "===> Integrating for model_output/beta-posteriors/bet_sim2_L-r3-t479700-id1\n"
     ]
    },
    {
     "name": "stderr",
     "output_type": "stream",
     "text": [
      "  1%|          | 1/89 [00:00<00:12,  6.86it/s]"
     ]
    },
    {
     "name": "stdout",
     "output_type": "stream",
     "text": [
      "===> Integrating for model_output/beta-posteriors/bet_sim14_L-r3-t479700-id1\n"
     ]
    },
    {
     "name": "stderr",
     "output_type": "stream",
     "text": [
      "  0%|          | 0/89 [00:00<?, ?it/s]"
     ]
    },
    {
     "name": "stdout",
     "output_type": "stream",
     "text": [
      "===> Integrating for model_output/beta-posteriors/bet_sim16_L-r3-t479700-id1\n"
     ]
    },
    {
     "name": "stderr",
     "output_type": "stream",
     "text": [
      "  0%|          | 0/89 [00:00<?, ?it/s]"
     ]
    },
    {
     "name": "stdout",
     "output_type": "stream",
     "text": [
      "===> Integrating for model_output/beta-posteriors/bet_sim18_L-r3-t479700-id1\n"
     ]
    },
    {
     "name": "stderr",
     "output_type": "stream",
     "text": [
      "  0%|          | 0/89 [00:00<?, ?it/s]"
     ]
    },
    {
     "name": "stdout",
     "output_type": "stream",
     "text": [
      "===> Integrating for model_output/beta-posteriors/bet_sim4_L-r3-t479700-id1===> Integrating for model_output/beta-posteriors/bet_sim32_L-r3-t479700-id1\n",
      "\n"
     ]
    },
    {
     "name": "stderr",
     "output_type": "stream",
     "text": [
      "  1%|          | 1/89 [00:00<00:13,  6.38it/s]"
     ]
    },
    {
     "name": "stdout",
     "output_type": "stream",
     "text": [
      "===> Integrating for model_output/beta-posteriors/bet_sim20_L-r3-t479700-id1\n"
     ]
    },
    {
     "name": "stderr",
     "output_type": "stream",
     "text": [
      "  0%|          | 0/89 [00:00<?, ?it/s]"
     ]
    },
    {
     "name": "stdout",
     "output_type": "stream",
     "text": [
      "===> Integrating for model_output/beta-posteriors/bet_sim22_L-r3-t479700-id1\n"
     ]
    },
    {
     "name": "stderr",
     "output_type": "stream",
     "text": [
      "  0%|          | 0/89 [00:00<?, ?it/s].51it/s]"
     ]
    },
    {
     "name": "stdout",
     "output_type": "stream",
     "text": [
      "===> Integrating for model_output/beta-posteriors/bet_sim24_L-r3-t479700-id1\n"
     ]
    },
    {
     "name": "stderr",
     "output_type": "stream",
     "text": [
      "  1%|          | 1/89 [00:00<00:15,  5.78it/s]"
     ]
    },
    {
     "name": "stdout",
     "output_type": "stream",
     "text": [
      "===> Integrating for model_output/beta-posteriors/bet_sim26_L-r3-t479700-id1\n"
     ]
    },
    {
     "name": "stderr",
     "output_type": "stream",
     "text": [
      "  0%|          | 0/89 [00:00<?, ?it/s]"
     ]
    },
    {
     "name": "stdout",
     "output_type": "stream",
     "text": [
      "===> Integrating for model_output/beta-posteriors/bet_sim8_L-r3-t479700-id1===> Integrating for model_output/beta-posteriors/bet_sim12_L-r3-t479700-id1\n",
      "\n"
     ]
    },
    {
     "name": "stderr",
     "output_type": "stream",
     "text": [
      "  1%|          | 1/89 [00:00<00:14,  5.92it/s]"
     ]
    },
    {
     "name": "stdout",
     "output_type": "stream",
     "text": [
      "===> Integrating for model_output/beta-posteriors/bet_sim6_L-r3-t479700-id1\n"
     ]
    },
    {
     "name": "stderr",
     "output_type": "stream",
     "text": [
      "  1%|          | 1/89 [00:00<00:14,  5.91it/s]"
     ]
    },
    {
     "name": "stdout",
     "output_type": "stream",
     "text": [
      "===> Integrating for model_output/beta-posteriors/bet_sim10_L-r3-t479700-id1"
     ]
    },
    {
     "name": "stderr",
     "output_type": "stream",
     "text": [
      "  1%|          | 1/89 [00:00<00:15,  5.71it/s]"
     ]
    },
    {
     "name": "stdout",
     "output_type": "stream",
     "text": [
      "\n"
     ]
    },
    {
     "name": "stderr",
     "output_type": "stream",
     "text": [
      "  1%|          | 1/89 [00:00<00:13,  6.33it/s]"
     ]
    },
    {
     "name": "stdout",
     "output_type": "stream",
     "text": [
      "===> Integrating for model_output/beta-posteriors/bet_sim30_L-r3-t479700-id1\n"
     ]
    },
    {
     "name": "stderr",
     "output_type": "stream",
     "text": [
      "100%|██████████| 89/89 [00:16<00:00,  5.41it/s]\n",
      "100%|██████████| 89/89 [00:16<00:00,  5.46it/s]\n",
      " 98%|█████████▊| 87/89 [00:16<00:00,  5.21it/s]\n",
      "100%|██████████| 89/89 [00:16<00:00,  5.39it/s]\n",
      "100%|██████████| 89/89 [00:16<00:00,  5.35it/s]\n",
      "100%|██████████| 89/89 [00:16<00:00,  5.41it/s]\n",
      " 99%|█████████▉| 88/89 [00:16<00:00,  5.25it/s]\n",
      "100%|██████████| 89/89 [00:16<00:00,  5.37it/s]\n",
      "100%|██████████| 89/89 [00:16<00:00,  5.41it/s]\n",
      " 99%|█████████▉| 88/89 [00:16<00:00,  5.28it/s]\n",
      "100%|██████████| 89/89 [00:16<00:00,  5.37it/s]\n",
      "100%|██████████| 89/89 [00:16<00:00,  5.36it/s]\n",
      "100%|██████████| 89/89 [00:16<00:00,  5.31it/s]\n",
      "100%|██████████| 89/89 [00:16<00:00,  5.34it/s]\n",
      "100%|██████████| 89/89 [00:16<00:00,  5.36it/s]\n",
      "100%|██████████| 89/89 [00:16<00:00,  5.33it/s]\n"
     ]
    },
    {
     "name": "stdout",
     "output_type": "stream",
     "text": [
      "===> Integrating for model_output/beta-posteriors/bet_sim33_L-r3-t479700-id1\n"
     ]
    },
    {
     "name": "stderr",
     "output_type": "stream",
     "text": [
      "  2%|▏         | 2/89 [00:00<00:12,  6.88it/s]"
     ]
    },
    {
     "name": "stdout",
     "output_type": "stream",
     "text": [
      "===> Integrating for model_output/beta-posteriors/bet_sim35_L-r3-t479700-id1\n"
     ]
    },
    {
     "name": "stderr",
     "output_type": "stream",
     "text": [
      "  0%|          | 0/89 [00:00<?, ?it/s]"
     ]
    },
    {
     "name": "stdout",
     "output_type": "stream",
     "text": [
      "===> Integrating for model_output/beta-posteriors/bet_sim37_L-r3-t479700-id1\n"
     ]
    },
    {
     "name": "stderr",
     "output_type": "stream",
     "text": [
      "  3%|▎         | 3/89 [00:00<00:12,  6.86it/s]"
     ]
    },
    {
     "name": "stdout",
     "output_type": "stream",
     "text": [
      "===> Integrating for model_output/beta-posteriors/bet_sim39_L-r3-t479700-id1\n"
     ]
    },
    {
     "name": "stderr",
     "output_type": "stream",
     "text": [
      "  1%|          | 1/89 [00:00<00:12,  6.99it/s]"
     ]
    },
    {
     "name": "stdout",
     "output_type": "stream",
     "text": [
      "===> Integrating for model_output/beta-posteriors/bet_sim41_L-r3-t479700-id1\n"
     ]
    },
    {
     "name": "stderr",
     "output_type": "stream",
     "text": [
      "  1%|          | 1/89 [00:00<00:12,  7.11it/s]"
     ]
    },
    {
     "name": "stdout",
     "output_type": "stream",
     "text": [
      "===> Integrating for model_output/beta-posteriors/bet_sim43_L-r3-t479700-id1\n"
     ]
    },
    {
     "name": "stderr",
     "output_type": "stream",
     "text": [
      "  2%|▏         | 2/89 [00:00<00:12,  7.06it/s]"
     ]
    },
    {
     "name": "stdout",
     "output_type": "stream",
     "text": [
      "===> Integrating for model_output/beta-posteriors/bet_sim45_L-r3-t479700-id1\n"
     ]
    },
    {
     "name": "stderr",
     "output_type": "stream",
     "text": [
      "  3%|▎         | 3/89 [00:00<00:12,  6.92it/s]"
     ]
    },
    {
     "name": "stdout",
     "output_type": "stream",
     "text": [
      "===> Integrating for model_output/beta-posteriors/bet_sim47_L-r3-t479700-id1"
     ]
    },
    {
     "name": "stderr",
     "output_type": "stream",
     "text": [
      "  2%|▏         | 2/89 [00:00<00:12,  7.19it/s]"
     ]
    },
    {
     "name": "stdout",
     "output_type": "stream",
     "text": [
      "\n"
     ]
    },
    {
     "name": "stderr",
     "output_type": "stream",
     "text": [
      "  3%|▎         | 3/89 [00:00<00:12,  7.10it/s]"
     ]
    },
    {
     "name": "stdout",
     "output_type": "stream",
     "text": [
      "===> Integrating for model_output/beta-posteriors/bet_sim49_L-r3-t479700-id1\n"
     ]
    },
    {
     "name": "stderr",
     "output_type": "stream",
     "text": [
      "  4%|▍         | 4/89 [00:00<00:11,  7.14it/s]"
     ]
    },
    {
     "name": "stdout",
     "output_type": "stream",
     "text": [
      "===> Integrating for model_output/beta-posteriors/bet_sim51_L-r3-t479700-id1\n"
     ]
    },
    {
     "name": "stderr",
     "output_type": "stream",
     "text": [
      "  4%|▍         | 4/89 [00:00<00:11,  7.41it/s]"
     ]
    },
    {
     "name": "stdout",
     "output_type": "stream",
     "text": [
      "===> Integrating for model_output/beta-posteriors/bet_sim53_L-r3-t479700-id1\n"
     ]
    },
    {
     "name": "stderr",
     "output_type": "stream",
     "text": [
      "  6%|▌         | 5/89 [00:00<00:11,  7.20it/s]"
     ]
    },
    {
     "name": "stdout",
     "output_type": "stream",
     "text": [
      "===> Integrating for model_output/beta-posteriors/bet_sim55_L-r3-t479700-id1\n"
     ]
    },
    {
     "name": "stderr",
     "output_type": "stream",
     "text": [
      "  6%|▌         | 5/89 [00:00<00:11,  7.45it/s]"
     ]
    },
    {
     "name": "stdout",
     "output_type": "stream",
     "text": [
      "===> Integrating for model_output/beta-posteriors/bet_sim57_L-r3-t479700-id1\n"
     ]
    },
    {
     "name": "stderr",
     "output_type": "stream",
     "text": [
      "  6%|▌         | 5/89 [00:00<00:11,  7.22it/s]"
     ]
    },
    {
     "name": "stdout",
     "output_type": "stream",
     "text": [
      "===> Integrating for model_output/beta-posteriors/bet_sim59_L-r3-t479700-id1\n"
     ]
    },
    {
     "name": "stderr",
     "output_type": "stream",
     "text": [
      "  2%|▏         | 2/89 [00:00<00:11,  7.26it/s]"
     ]
    },
    {
     "name": "stdout",
     "output_type": "stream",
     "text": [
      "===> Integrating for model_output/beta-posteriors/bet_sim61_L-r3-t479700-id1\n"
     ]
    },
    {
     "name": "stderr",
     "output_type": "stream",
     "text": [
      "  2%|▏         | 2/89 [00:00<00:12,  6.77it/s]"
     ]
    },
    {
     "name": "stdout",
     "output_type": "stream",
     "text": [
      "===> Integrating for model_output/beta-posteriors/bet_sim63_L-r3-t479700-id1\n"
     ]
    },
    {
     "name": "stderr",
     "output_type": "stream",
     "text": [
      " 96%|█████████▌| 85/89 [00:15<00:00,  4.47it/s]\n",
      "100%|██████████| 89/89 [00:15<00:00,  5.62it/s]\n",
      "100%|██████████| 89/89 [00:15<00:00,  5.59it/s]\n",
      "100%|██████████| 89/89 [00:16<00:00,  5.53it/s]\n",
      "100%|██████████| 89/89 [00:15<00:00,  5.59it/s]\n",
      "100%|██████████| 89/89 [00:16<00:00,  5.47it/s]\n",
      "100%|██████████| 89/89 [00:16<00:00,  5.49it/s]\n",
      "100%|██████████| 89/89 [00:16<00:00,  5.47it/s]\n",
      "100%|██████████| 89/89 [00:16<00:00,  5.48it/s]\n",
      "100%|██████████| 89/89 [00:16<00:00,  5.51it/s]\n",
      "100%|██████████| 89/89 [00:16<00:00,  5.46it/s]\n",
      "\n",
      "100%|██████████| 89/89 [00:16<00:00,  5.47it/s]\n",
      "100%|██████████| 89/89 [00:16<00:00,  5.49it/s]\n",
      "100%|██████████| 89/89 [00:16<00:00,  5.44it/s]\n",
      "100%|██████████| 89/89 [00:16<00:00,  5.43it/s]\n"
     ]
    },
    {
     "name": "stdout",
     "output_type": "stream",
     "text": [
      "===> Integrating for model_output/beta-posteriors/bet_sim34_L-r3-t479700-id1\n"
     ]
    },
    {
     "name": "stderr",
     "output_type": "stream",
     "text": [
      "  6%|▌         | 5/89 [00:00<00:13,  6.02it/s]"
     ]
    },
    {
     "name": "stdout",
     "output_type": "stream",
     "text": [
      "===> Integrating for model_output/beta-posteriors/bet_sim38_L-r3-t479700-id1\n"
     ]
    },
    {
     "name": "stderr",
     "output_type": "stream",
     "text": [
      "  0%|          | 0/89 [00:00<?, ?it/s]"
     ]
    },
    {
     "name": "stdout",
     "output_type": "stream",
     "text": [
      "===> Integrating for model_output/beta-posteriors/bet_sim36_L-r3-t479700-id1\n"
     ]
    },
    {
     "name": "stderr",
     "output_type": "stream",
     "text": [
      "  1%|          | 1/89 [00:00<00:12,  7.01it/s]"
     ]
    },
    {
     "name": "stdout",
     "output_type": "stream",
     "text": [
      "===> Integrating for model_output/beta-posteriors/bet_sim44_L-r3-t479700-id1\n"
     ]
    },
    {
     "name": "stderr",
     "output_type": "stream",
     "text": [
      "  1%|          | 1/89 [00:00<00:13,  6.56it/s]"
     ]
    },
    {
     "name": "stdout",
     "output_type": "stream",
     "text": [
      "===> Integrating for model_output/beta-posteriors/bet_sim40_L-r3-t479700-id1\n"
     ]
    },
    {
     "name": "stderr",
     "output_type": "stream",
     "text": [
      "  2%|▏         | 2/89 [00:00<00:13,  6.49it/s]"
     ]
    },
    {
     "name": "stdout",
     "output_type": "stream",
     "text": [
      "===> Integrating for model_output/beta-posteriors/bet_sim42_L-r3-t479700-id1\n"
     ]
    },
    {
     "name": "stderr",
     "output_type": "stream",
     "text": [
      "  2%|▏         | 2/89 [00:00<00:13,  6.26it/s]"
     ]
    },
    {
     "name": "stdout",
     "output_type": "stream",
     "text": [
      "===> Integrating for model_output/beta-posteriors/bet_sim48_L-r3-t479700-id1"
     ]
    },
    {
     "name": "stderr",
     "output_type": "stream",
     "text": [
      " 11%|█         | 10/89 [00:01<00:12,  6.24it/s]"
     ]
    },
    {
     "name": "stdout",
     "output_type": "stream",
     "text": [
      "\n"
     ]
    },
    {
     "name": "stderr",
     "output_type": "stream",
     "text": [
      "  0%|          | 0/89 [00:00<?, ?it/s]"
     ]
    },
    {
     "name": "stdout",
     "output_type": "stream",
     "text": [
      "===> Integrating for model_output/beta-posteriors/bet_sim46_L-r3-t479700-id1\n"
     ]
    },
    {
     "name": "stderr",
     "output_type": "stream",
     "text": [
      "  1%|          | 1/89 [00:00<00:14,  6.13it/s]]"
     ]
    },
    {
     "name": "stdout",
     "output_type": "stream",
     "text": [
      "===> Integrating for model_output/beta-posteriors/bet_sim54_L-r3-t479700-id1\n"
     ]
    },
    {
     "name": "stderr",
     "output_type": "stream",
     "text": [
      "  0%|          | 0/89 [00:00<?, ?it/s]"
     ]
    },
    {
     "name": "stdout",
     "output_type": "stream",
     "text": [
      "===> Integrating for model_output/beta-posteriors/bet_sim50_L-r3-t479700-id1"
     ]
    },
    {
     "name": "stderr",
     "output_type": "stream",
     "text": [
      "  7%|▋         | 6/89 [00:00<00:13,  6.00it/s]"
     ]
    },
    {
     "name": "stdout",
     "output_type": "stream",
     "text": [
      "\n"
     ]
    },
    {
     "name": "stderr",
     "output_type": "stream",
     "text": [
      "  6%|▌         | 5/89 [00:00<00:13,  6.03it/s]"
     ]
    },
    {
     "name": "stdout",
     "output_type": "stream",
     "text": [
      "===> Integrating for model_output/beta-posteriors/bet_sim52_L-r3-t479700-id1\n"
     ]
    },
    {
     "name": "stderr",
     "output_type": "stream",
     "text": [
      "  7%|▋         | 6/89 [00:01<00:14,  5.89it/s]]"
     ]
    },
    {
     "name": "stdout",
     "output_type": "stream",
     "text": [
      "===> Integrating for model_output/beta-posteriors/bet_sim60_L-r3-t479700-id1"
     ]
    },
    {
     "name": "stderr",
     "output_type": "stream",
     "text": [
      "  8%|▊         | 7/89 [00:01<00:13,  5.90it/s]"
     ]
    },
    {
     "name": "stdout",
     "output_type": "stream",
     "text": [
      "\n",
      "===> Integrating for model_output/beta-posteriors/bet_sim62_L-r3-t479700-id1\n",
      "===> Integrating for model_output/beta-posteriors/bet_sim58_L-r3-t479700-id1"
     ]
    },
    {
     "name": "stderr",
     "output_type": "stream",
     "text": [
      "  0%|          | 0/89 [00:00<?, ?it/s]"
     ]
    },
    {
     "name": "stdout",
     "output_type": "stream",
     "text": [
      "\n"
     ]
    },
    {
     "name": "stderr",
     "output_type": "stream",
     "text": [
      "  0%|          | 0/89 [00:00<?, ?it/s]"
     ]
    },
    {
     "name": "stdout",
     "output_type": "stream",
     "text": [
      "===> Integrating for model_output/beta-posteriors/bet_sim56_L-r3-t479700-id1\n"
     ]
    },
    {
     "name": "stderr",
     "output_type": "stream",
     "text": [
      "  8%|▊         | 7/89 [00:01<00:13,  5.93it/s]]"
     ]
    },
    {
     "name": "stdout",
     "output_type": "stream",
     "text": [
      "===> Integrating for model_output/beta-posteriors/bet_sim64_L-r3-t479700-id1\n"
     ]
    },
    {
     "name": "stderr",
     "output_type": "stream",
     "text": [
      "100%|██████████| 89/89 [00:15<00:00,  5.61it/s]\n",
      "100%|██████████| 89/89 [00:15<00:00,  5.60it/s]\n",
      "100%|██████████| 89/89 [00:15<00:00,  5.61it/s]\n",
      " 94%|█████████▍| 84/89 [00:15<00:00,  5.63it/s]\n",
      "100%|██████████| 89/89 [00:16<00:00,  5.56it/s]\n",
      " 93%|█████████▎| 83/89 [00:15<00:01,  5.18it/s]\n",
      "100%|██████████| 89/89 [00:16<00:00,  5.46it/s]\n",
      "100%|██████████| 89/89 [00:16<00:00,  5.47it/s]\n",
      "100%|██████████| 89/89 [00:16<00:00,  5.44it/s]\n",
      "100%|██████████| 89/89 [00:16<00:00,  5.50it/s]\n",
      "100%|██████████| 89/89 [00:16<00:00,  5.42it/s]\n",
      "100%|██████████| 89/89 [00:16<00:00,  5.47it/s]\n",
      "100%|██████████| 89/89 [00:16<00:00,  5.41it/s]\n",
      "100%|██████████| 89/89 [00:16<00:00,  5.46it/s]\n",
      "100%|██████████| 89/89 [00:16<00:00,  5.39it/s]\n",
      "100%|██████████| 89/89 [00:16<00:00,  5.40it/s]\n"
     ]
    },
    {
     "name": "stdout",
     "output_type": "stream",
     "text": [
      "===> Integrating for model_output/beta-posteriors/bet_sim65_L-r3-t479700-id1\n"
     ]
    },
    {
     "name": "stderr",
     "output_type": "stream",
     "text": [
      " 10%|█         | 9/89 [00:01<00:13,  6.15it/s]"
     ]
    },
    {
     "name": "stdout",
     "output_type": "stream",
     "text": [
      "===> Integrating for model_output/beta-posteriors/bet_sim67_L-r3-t479700-id1\n"
     ]
    },
    {
     "name": "stderr",
     "output_type": "stream",
     "text": [
      "  1%|          | 1/89 [00:00<00:14,  5.94it/s]]"
     ]
    },
    {
     "name": "stdout",
     "output_type": "stream",
     "text": [
      "===> Integrating for model_output/beta-posteriors/bet_sim69_L-r3-t479700-id1\n"
     ]
    },
    {
     "name": "stderr",
     "output_type": "stream",
     "text": [
      " 13%|█▎        | 12/89 [00:02<00:13,  5.57it/s]"
     ]
    },
    {
     "name": "stdout",
     "output_type": "stream",
     "text": [
      "===> Integrating for model_output/beta-posteriors/bet_sim71_L-r3-t479700-id1\n"
     ]
    },
    {
     "name": "stderr",
     "output_type": "stream",
     "text": [
      "  2%|▏         | 2/89 [00:00<00:14,  5.83it/s]"
     ]
    },
    {
     "name": "stdout",
     "output_type": "stream",
     "text": [
      "===> Integrating for model_output/beta-posteriors/bet_sim73_L-r3-t479700-id1\n"
     ]
    },
    {
     "name": "stderr",
     "output_type": "stream",
     "text": [
      "  1%|          | 1/89 [00:00<00:14,  6.24it/s]]"
     ]
    },
    {
     "name": "stdout",
     "output_type": "stream",
     "text": [
      "===> Integrating for model_output/beta-posteriors/bet_sim75_L-r3-t479700-id1\n"
     ]
    },
    {
     "name": "stderr",
     "output_type": "stream",
     "text": [
      "  8%|▊         | 7/89 [00:01<00:14,  5.66it/s]]"
     ]
    },
    {
     "name": "stdout",
     "output_type": "stream",
     "text": [
      "===> Integrating for model_output/beta-posteriors/bet_sim77_L-r3-t479700-id1\n"
     ]
    },
    {
     "name": "stderr",
     "output_type": "stream",
     "text": [
      "  7%|▋         | 6/89 [00:01<00:14,  5.67it/s]"
     ]
    },
    {
     "name": "stdout",
     "output_type": "stream",
     "text": [
      "===> Integrating for model_output/beta-posteriors/bet_sim79_L-r3-t479700-id1"
     ]
    },
    {
     "name": "stderr",
     "output_type": "stream",
     "text": [
      "  4%|▍         | 4/89 [00:00<00:14,  5.79it/s]"
     ]
    },
    {
     "name": "stdout",
     "output_type": "stream",
     "text": [
      "\n"
     ]
    },
    {
     "name": "stderr",
     "output_type": "stream",
     "text": [
      "  6%|▌         | 5/89 [00:00<00:14,  5.86it/s]]"
     ]
    },
    {
     "name": "stdout",
     "output_type": "stream",
     "text": [
      "===> Integrating for model_output/beta-posteriors/bet_sim81_L-r3-t479700-id1\n"
     ]
    },
    {
     "name": "stderr",
     "output_type": "stream",
     "text": [
      "  9%|▉         | 8/89 [00:01<00:13,  5.80it/s]]"
     ]
    },
    {
     "name": "stdout",
     "output_type": "stream",
     "text": [
      "===> Integrating for model_output/beta-posteriors/bet_sim83_L-r3-t479700-id1\n"
     ]
    },
    {
     "name": "stderr",
     "output_type": "stream",
     "text": [
      "  7%|▋         | 6/89 [00:01<00:14,  5.72it/s]"
     ]
    },
    {
     "name": "stdout",
     "output_type": "stream",
     "text": [
      "===> Integrating for model_output/beta-posteriors/bet_sim85_L-r3-t479700-id1\n"
     ]
    },
    {
     "name": "stderr",
     "output_type": "stream",
     "text": [
      "  8%|▊         | 7/89 [00:01<00:13,  5.89it/s]]"
     ]
    },
    {
     "name": "stdout",
     "output_type": "stream",
     "text": [
      "===> Integrating for model_output/beta-posteriors/bet_sim87_L-r3-t479700-id1\n"
     ]
    },
    {
     "name": "stderr",
     "output_type": "stream",
     "text": [
      "  1%|          | 1/89 [00:00<00:14,  5.90it/s]]"
     ]
    },
    {
     "name": "stdout",
     "output_type": "stream",
     "text": [
      "===> Integrating for model_output/beta-posteriors/bet_sim89_L-r3-t479700-id1\n"
     ]
    },
    {
     "name": "stderr",
     "output_type": "stream",
     "text": [
      "  1%|          | 1/89 [00:00<00:15,  5.69it/s]"
     ]
    },
    {
     "name": "stdout",
     "output_type": "stream",
     "text": [
      "===> Integrating for model_output/beta-posteriors/bet_sim91_L-r3-t479700-id1\n"
     ]
    },
    {
     "name": "stderr",
     "output_type": "stream",
     "text": [
      "  1%|          | 1/89 [00:00<00:14,  6.04it/s]]"
     ]
    },
    {
     "name": "stdout",
     "output_type": "stream",
     "text": [
      "===> Integrating for model_output/beta-posteriors/bet_sim93_L-r3-t479700-id1\n"
     ]
    },
    {
     "name": "stderr",
     "output_type": "stream",
     "text": [
      "  1%|          | 1/89 [00:00<00:14,  6.07it/s]]"
     ]
    },
    {
     "name": "stdout",
     "output_type": "stream",
     "text": [
      "===> Integrating for model_output/beta-posteriors/bet_sim95_L-r3-t479700-id1\n"
     ]
    },
    {
     "name": "stderr",
     "output_type": "stream",
     "text": [
      "100%|██████████| 89/89 [00:15<00:00,  5.58it/s]\n",
      "100%|██████████| 89/89 [00:16<00:00,  5.54it/s]\n",
      " 91%|█████████ | 81/89 [00:14<00:01,  5.41it/s]\n",
      "100%|██████████| 89/89 [00:15<00:00,  5.57it/s]\n",
      "100%|██████████| 89/89 [00:15<00:00,  5.59it/s]\n",
      "100%|██████████| 89/89 [00:16<00:00,  5.48it/s]\n",
      "100%|██████████| 89/89 [00:16<00:00,  5.60it/s]\n",
      "100%|██████████| 89/89 [00:16<00:00,  5.52it/s]\n",
      "100%|██████████| 89/89 [00:15<00:00,  5.57it/s]\n",
      "100%|██████████| 89/89 [00:16<00:00,  5.48it/s]\n",
      "100%|██████████| 89/89 [00:16<00:00,  5.51it/s]\n",
      "\n",
      "100%|██████████| 89/89 [00:16<00:00,  5.54it/s]\n",
      "100%|██████████| 89/89 [00:16<00:00,  5.55it/s]\n",
      "100%|██████████| 89/89 [00:16<00:00,  5.50it/s]\n",
      "100%|██████████| 89/89 [00:16<00:00,  5.48it/s]\n"
     ]
    },
    {
     "name": "stdout",
     "output_type": "stream",
     "text": [
      "===> Integrating for model_output/beta-posteriors/bet_sim66_L-r3-t479700-id1\n"
     ]
    },
    {
     "name": "stderr",
     "output_type": "stream",
     "text": [
      " 15%|█▍        | 13/89 [00:01<00:11,  6.70it/s]"
     ]
    },
    {
     "name": "stdout",
     "output_type": "stream",
     "text": [
      "===> Integrating for model_output/beta-posteriors/bet_sim68_L-r3-t479700-id1\n"
     ]
    },
    {
     "name": "stderr",
     "output_type": "stream",
     "text": [
      " 19%|█▉        | 17/89 [00:02<00:11,  6.50it/s]"
     ]
    },
    {
     "name": "stdout",
     "output_type": "stream",
     "text": [
      "===> Integrating for model_output/beta-posteriors/bet_sim70_L-r3-t479700-id1\n"
     ]
    },
    {
     "name": "stderr",
     "output_type": "stream",
     "text": [
      "  1%|          | 1/89 [00:00<00:14,  6.11it/s]]"
     ]
    },
    {
     "name": "stdout",
     "output_type": "stream",
     "text": [
      "===> Integrating for model_output/beta-posteriors/bet_sim76_L-r3-t479700-id1\n"
     ]
    },
    {
     "name": "stderr",
     "output_type": "stream",
     "text": [
      " 21%|██▏       | 19/89 [00:02<00:11,  6.19it/s]"
     ]
    },
    {
     "name": "stdout",
     "output_type": "stream",
     "text": [
      "===> Integrating for model_output/beta-posteriors/bet_sim72_L-r3-t479700-id1\n"
     ]
    },
    {
     "name": "stderr",
     "output_type": "stream",
     "text": [
      "  3%|▎         | 3/89 [00:00<00:13,  6.16it/s]]"
     ]
    },
    {
     "name": "stdout",
     "output_type": "stream",
     "text": [
      "===> Integrating for model_output/beta-posteriors/bet_sim74_L-r3-t479700-id1\n"
     ]
    },
    {
     "name": "stderr",
     "output_type": "stream",
     "text": [
      "  6%|▌         | 5/89 [00:00<00:13,  6.08it/s]]"
     ]
    },
    {
     "name": "stdout",
     "output_type": "stream",
     "text": [
      "===> Integrating for model_output/beta-posteriors/bet_sim78_L-r3-t479700-id1\n"
     ]
    },
    {
     "name": "stderr",
     "output_type": "stream",
     "text": [
      "  7%|▋         | 6/89 [00:00<00:13,  6.10it/s]]"
     ]
    },
    {
     "name": "stdout",
     "output_type": "stream",
     "text": [
      "===> Integrating for model_output/beta-posteriors/bet_sim80_L-r3-t479700-id1\n"
     ]
    },
    {
     "name": "stderr",
     "output_type": "stream",
     "text": [
      "  1%|          | 1/89 [00:00<00:14,  6.05it/s]]"
     ]
    },
    {
     "name": "stdout",
     "output_type": "stream",
     "text": [
      "===> Integrating for model_output/beta-posteriors/bet_sim82_L-r3-t479700-id1\n"
     ]
    },
    {
     "name": "stderr",
     "output_type": "stream",
     "text": [
      "  9%|▉         | 8/89 [00:01<00:13,  6.04it/s]"
     ]
    },
    {
     "name": "stdout",
     "output_type": "stream",
     "text": [
      "===> Integrating for model_output/beta-posteriors/bet_sim88_L-r3-t479700-id1===> Integrating for model_output/beta-posteriors/bet_sim86_L-r3-t479700-id1\n",
      "\n"
     ]
    },
    {
     "name": "stderr",
     "output_type": "stream",
     "text": [
      " 12%|█▏        | 11/89 [00:01<00:13,  5.80it/s]"
     ]
    },
    {
     "name": "stdout",
     "output_type": "stream",
     "text": [
      "===> Integrating for model_output/beta-posteriors/bet_sim94_L-r3-t479700-id1\n"
     ]
    },
    {
     "name": "stderr",
     "output_type": "stream",
     "text": [
      "  0%|          | 0/89 [00:00<?, ?it/s]"
     ]
    },
    {
     "name": "stdout",
     "output_type": "stream",
     "text": [
      "===> Integrating for model_output/beta-posteriors/bet_sim92_L-r3-t479700-id1\n"
     ]
    },
    {
     "name": "stderr",
     "output_type": "stream",
     "text": [
      "  0%|          | 0/89 [00:00<?, ?it/s]"
     ]
    },
    {
     "name": "stdout",
     "output_type": "stream",
     "text": [
      "===> Integrating for model_output/beta-posteriors/bet_sim90_L-r3-t479700-id1\n"
     ]
    },
    {
     "name": "stderr",
     "output_type": "stream",
     "text": [
      "  4%|▍         | 4/89 [00:00<00:15,  5.59it/s]]"
     ]
    },
    {
     "name": "stdout",
     "output_type": "stream",
     "text": [
      "===> Integrating for model_output/beta-posteriors/bet_sim84_L-r3-t479700-id1\n"
     ]
    },
    {
     "name": "stderr",
     "output_type": "stream",
     "text": [
      "  0%|          | 0/89 [00:00<?, ?it/s]"
     ]
    },
    {
     "name": "stdout",
     "output_type": "stream",
     "text": [
      "===> Integrating for model_output/beta-posteriors/bet_sim96_L-r3-t479700-id1\n"
     ]
    },
    {
     "name": "stderr",
     "output_type": "stream",
     "text": [
      "100%|██████████| 89/89 [00:15<00:00,  5.76it/s]\n",
      "100%|██████████| 89/89 [00:15<00:00,  5.58it/s]\n",
      "100%|██████████| 89/89 [00:15<00:00,  5.57it/s]\n",
      "100%|██████████| 89/89 [00:15<00:00,  5.59it/s]\n",
      "100%|██████████| 89/89 [00:16<00:00,  5.55it/s]\n",
      "100%|██████████| 89/89 [00:16<00:00,  5.55it/s]\n",
      "100%|██████████| 89/89 [00:16<00:00,  5.49it/s]\n",
      "100%|██████████| 89/89 [00:16<00:00,  5.51it/s]\n",
      "100%|██████████| 89/89 [00:15<00:00,  5.58it/s]\n",
      "100%|██████████| 89/89 [00:16<00:00,  5.49it/s]\n",
      "100%|██████████| 89/89 [00:16<00:00,  5.49it/s]\n",
      "100%|██████████| 89/89 [00:16<00:00,  5.50it/s]\n",
      "100%|██████████| 89/89 [00:16<00:00,  5.48it/s]\n",
      "100%|██████████| 89/89 [00:16<00:00,  5.51it/s]\n",
      "100%|██████████| 89/89 [00:16<00:00,  5.46it/s]\n",
      "100%|██████████| 89/89 [00:16<00:00,  5.43it/s]\n"
     ]
    },
    {
     "name": "stdout",
     "output_type": "stream",
     "text": [
      "===> Integrating for model_output/beta-posteriors/bet_sim97_L-r3-t479700-id1\n"
     ]
    },
    {
     "name": "stderr",
     "output_type": "stream",
     "text": [
      " 22%|██▏       | 20/89 [00:03<00:11,  6.24it/s]"
     ]
    },
    {
     "name": "stdout",
     "output_type": "stream",
     "text": [
      "===> Integrating for model_output/beta-posteriors/bet_sim99_L-r3-t479700-id1\n"
     ]
    },
    {
     "name": "stderr",
     "output_type": "stream",
     "text": [
      "  7%|▋         | 6/89 [00:00<00:12,  6.46it/s]]"
     ]
    },
    {
     "name": "stdout",
     "output_type": "stream",
     "text": [
      "===> Integrating for model_output/beta-posteriors/bet_sim101_L-r3-t479700-id1\n"
     ]
    },
    {
     "name": "stderr",
     "output_type": "stream",
     "text": [
      "100%|██████████| 89/89 [00:10<00:00,  8.79it/s]\n",
      "100%|██████████| 89/89 [00:08<00:00, 11.09it/s]\n",
      "100%|██████████| 89/89 [00:07<00:00, 11.85it/s]\n"
     ]
    },
    {
     "name": "stdout",
     "output_type": "stream",
     "text": [
      "===> Integrating for model_output/beta-posteriors/bet_sim98_L-r3-t479700-id1\n"
     ]
    },
    {
     "name": "stderr",
     "output_type": "stream",
     "text": [
      " 20%|██        | 18/89 [00:01<00:03, 17.93it/s]"
     ]
    },
    {
     "name": "stdout",
     "output_type": "stream",
     "text": [
      "===> Integrating for model_output/beta-posteriors/bet_sim100_L-r3-t479700-id1\n"
     ]
    },
    {
     "name": "stderr",
     "output_type": "stream",
     "text": [
      " 29%|██▉       | 26/89 [00:01<00:03, 17.85it/s]"
     ]
    },
    {
     "name": "stdout",
     "output_type": "stream",
     "text": [
      "===> Integrating for model_output/beta-posteriors/bet_sim102_L-r3-t479700-id1\n"
     ]
    },
    {
     "name": "stderr",
     "output_type": "stream",
     "text": [
      "100%|██████████| 89/89 [00:04<00:00, 17.91it/s]\n",
      "100%|██████████| 89/89 [00:04<00:00, 17.86it/s]\n",
      "100%|██████████| 89/89 [00:04<00:00, 17.82it/s]\n"
     ]
    }
   ],
   "source": [
    "import multiprocessing as mp\n",
    "pool = mp.Pool(mp.cpu_count())\n",
    "import pickle\n",
    "\n",
    "beta_scenarios = ['U', 'L']   # thankfully 0 and 1 are U and L respecetively. But ugly\n",
    "\n",
    "all_sims = {}\n",
    "\n",
    "\n",
    "for i, beta_scn in enumerate(beta_scenarios):\n",
    "    all_sims[beta_scn]= []\n",
    "\n",
    "    scenario = pick_scenario(setup=setup, scn_id=i)\n",
    "    print(i, scenario['name'])\n",
    "    #for dr in range(100):\n",
    "    #    runall(dr, scenario['beta_mult'], scenario['name'])\n",
    "    \n",
    "    all_sims[beta_scn] = pool.starmap(runall, [(dr, scenario['beta_mult'], scenario['name']) for dr in range(102)])"
   ]
  },
  {
   "cell_type": "code",
   "execution_count": null,
   "metadata": {},
   "outputs": [],
   "source": []
  },
  {
   "cell_type": "code",
   "execution_count": 3,
   "metadata": {
    "execution": {
     "iopub.execute_input": "2021-02-08T15:18:12.168024Z",
     "iopub.status.busy": "2021-02-08T15:18:12.167827Z",
     "iopub.status.idle": "2021-02-08T15:18:25.792067Z",
     "shell.execute_reply": "2021-02-08T15:18:25.791349Z",
     "shell.execute_reply.started": "2021-02-08T15:18:12.168003Z"
    }
   },
   "outputs": [
    {
     "name": "stdout",
     "output_type": "stream",
     "text": [
      "0 U-r15-t125000-id0\n",
      "1 L-r15-t125000-id1\n"
     ]
    }
   ],
   "source": [
    "# If cell above not run, let's rerun:\n",
    "import glob\n",
    "beta_scenarios = ['U', 'L']\n",
    "all_sims = {}\n",
    "for i, beta_scn in enumerate(beta_scenarios):\n",
    "    all_sims[beta_scn]= []\n",
    "\n",
    "    scenario = pick_scenario(setup=setup, scn_id=i)\n",
    "    print(i, scenario['name'])\n",
    "    for dr in range(102):\n",
    "        all_sims[beta_scn].append(pd.read_csv(glob.glob(f\"model_output/beta-posteriors/bet_sim{dr+1}_{scenario['name'].split('-')[0]}*\")[0], parse_dates=['date']))"
   ]
  },
  {
   "cell_type": "code",
   "execution_count": 6,
   "metadata": {
    "execution": {
     "iopub.execute_input": "2021-02-14T13:40:02.848909Z",
     "iopub.status.busy": "2021-02-14T13:40:02.848652Z",
     "iopub.status.idle": "2021-02-14T13:40:04.904209Z",
     "shell.execute_reply": "2021-02-14T13:40:04.903630Z",
     "shell.execute_reply.started": "2021-02-14T13:40:02.848883Z"
    }
   },
   "outputs": [],
   "source": [
    "s = all_sims['U'][0]\n",
    "s = s[s['comp'] == 'yell'].pivot(index='date', columns = 'place', values='value').sum(axis=1)\n",
    "all_compU = pd.DataFrame(index= s.index, columns=np.arange(1,103))\n",
    "all_compL = pd.DataFrame(index= s.index, columns=np.arange(1,103))\n",
    "\n",
    "for dr in range(102):\n",
    "    s = all_sims['U'][dr]\n",
    "    all_compU[dr+1] = s[s['comp'] == 'yell'].pivot(index='date', columns = 'place', values='value').sum(axis=1)\n",
    "    s = all_sims['L'][dr]\n",
    "    all_compL[dr+1] = s[s['comp'] == 'yell'].pivot(index='date', columns = 'place', values='value').sum(axis=1)"
   ]
  },
  {
   "cell_type": "code",
   "execution_count": null,
   "metadata": {},
   "outputs": [],
   "source": []
  },
  {
   "cell_type": "code",
   "execution_count": 7,
   "metadata": {
    "execution": {
     "iopub.execute_input": "2021-02-14T13:40:04.905723Z",
     "iopub.status.busy": "2021-02-14T13:40:04.905580Z",
     "iopub.status.idle": "2021-02-14T13:40:06.133631Z",
     "shell.execute_reply": "2021-02-14T13:40:06.132885Z",
     "shell.execute_reply.started": "2021-02-14T13:40:04.905706Z"
    }
   },
   "outputs": [
    {
     "data": {
      "image/png": "[encoded data removed]",
      "text/plain": [
       "<Figure size 360x360 with 1 Axes>"
      ]
     },
     "metadata": {},
     "output_type": "display_data"
    }
   ],
   "source": [
    "import seaborn as sns\n",
    "fig, ax = plt.subplots(1,1, figsize = (5,5), sharex=True, facecolor = 'white')#, sharey=True)\n",
    "\n",
    "idsim = 102\n",
    "\n",
    "\n",
    "\n",
    "#ax.plot(all_compU.index,\n",
    "#        all_compU.median(axis=1), \n",
    "#        linestyle='-', \n",
    "#        lw = 2,\n",
    "#        color = 'orange'\n",
    "#       )\n",
    "#ax.plot(all_compL.index,\n",
    "#        all_compL.median(axis=1), \n",
    "#        linestyle='-', \n",
    "#        lw = 2,\n",
    "#       color = 'blue')\n",
    "\n",
    "ax.fill_between(all_compU.index,\n",
    "                all_compU.quantile(.025, axis=1),\n",
    "                all_compU.quantile(.975, axis=1),\n",
    "                linestyle='-', lw = 0,\n",
    "                label = 'Pessimistic',\n",
    "                alpha = .3,\n",
    "                color = 'orange')\n",
    "ax.fill_between(all_compL.index,\n",
    "                all_compL.quantile(.025, axis=1),\n",
    "                all_compL.quantile(.975, axis=1),\n",
    "                linestyle='-', \n",
    "                label = 'Optimistic',\n",
    "                lw = 0,\n",
    "                alpha = .3,\n",
    "                color = 'blue')\n",
    "\n",
    "ax.plot(all_compU.index,all_compU[idsim], \n",
    "        linestyle='',\n",
    "        marker='.', \n",
    "        #label = 'Pessimistic',\n",
    "        color = 'orange')\n",
    "ax.plot(all_compL.index,all_compL[idsim], \n",
    "        linestyle='',\n",
    "        marker='.', \n",
    "        #label = 'Optimistic',\n",
    "        color = 'blue')\n",
    "\n",
    "#ax.set_title(nname)\n",
    "ax.set_xlim(setup.start_date+datetime.timedelta(1), setup.end_date)\n",
    "ax.set_ylabel('Daily Infection Incidence', fontsize=14)\n",
    "ax.legend(fontsize=14)\n",
    "ax.tick_params(axis='both', which='major', labelsize=14)\n",
    "ax.tick_params(axis='both', which='minor', labelsize=14)\n",
    "ax.grid()\n",
    "fig.autofmt_xdate()\n",
    "fig.savefig('figures/infection_scenarios.pdf')"
   ]
  },
  {
   "cell_type": "code",
   "execution_count": 11,
   "metadata": {
    "execution": {
     "iopub.execute_input": "2021-02-14T13:43:57.928464Z",
     "iopub.status.busy": "2021-02-14T13:43:57.928231Z",
     "iopub.status.idle": "2021-02-14T13:43:59.791951Z",
     "shell.execute_reply": "2021-02-14T13:43:59.791310Z",
     "shell.execute_reply.started": "2021-02-14T13:43:57.928439Z"
    }
   },
   "outputs": [
    {
     "data": {
      "image/png": "[encoded data removed]",
      "text/plain": [
       "<Figure size 122.4x360 with 3 Axes>"
      ]
     },
     "metadata": {
      "needs_background": "light"
     },
     "output_type": "display_data"
    }
   ],
   "source": [
    "s = all_sims['U'][idsim-1]\n",
    "sU = s[s['comp'] == 'yell']\n",
    "s = all_sims['L'][idsim-1]\n",
    "sL = s[s['comp'] == 'yell']\n",
    "\n",
    "resU = setup.shp.copy()\n",
    "resL = setup.shp.copy()\n",
    "\n",
    "for i, node in enumerate(setup.ind2name):\n",
    "    mdp = sL[sL['place']==node]\n",
    "    new_inf    = mdp[mdp['comp']=='yell']['value'].sum() \n",
    "    resL.loc[i, 'new_inf'] =    new_inf\n",
    "    resL.loc[i, 'new_inf_pop'] =    new_inf/setup.pop_node[i]\n",
    "    mdp = sU[sU['place']==node]\n",
    "    new_inf  = mdp[mdp['comp']=='yell']['value'].sum() \n",
    "    resU.loc[i, 'new_inf'] =    new_inf\n",
    "    resU.loc[i, 'new_inf_pop'] = new_inf/setup.pop_node[i]\n",
    "\n",
    "fig, axes = plt.subplots(2,1, figsize=(1.7, 5))\n",
    "from mpl_toolkits.axes_grid1 import make_axes_locatable\n",
    "\n",
    "cmap = sns.cm.rocket#  'OrRd'\n",
    "vmin = 0\n",
    "vmax = max(resU['new_inf'])\n",
    "#sm = plt.cm.ScalarMappable(cmap=cmap, norm=plt.Normalize(vmin = vmin, vmax=vmax))\n",
    "#sm._A = []\n",
    "\n",
    "\n",
    "ax=axes.flat[0]\n",
    "res = resU\n",
    "#divider = make_axes_locatable(ax)\n",
    "#cax = divider.append_axes(\"bottom\", size=\"5%\", pad=0.1)\n",
    "mp = res.plot(ax = ax, column='new_inf', cmap='rocket_r', vmin = 0, vmax = vmax, lw = .1, edgecolor=\"white\",# legend=True, \n",
    "              legend_kwds={'label': 'Total Incident Infections',     'orientation': \"horizontal\"})\n",
    "ax.set_title('Pessimistic', fontsize=20)\n",
    "ax.axis('off')\n",
    "\n",
    "ax=axes.flat[1]\n",
    "res = resL\n",
    "divider = make_axes_locatable(ax)\n",
    "cax = divider.append_axes(\"bottom\", size=\"7%\", pad=0.01)\n",
    "mp = res.plot(ax = ax, column='new_inf', cmap='rocket_r', vmin = vmin, vmax = vmax, lw = .1, edgecolor=\"white\", cax = cax, legend=True, \n",
    "              legend_kwds={'label': 'Incident Infections', \n",
    "                          # 'labelsize':16,\n",
    "                           'orientation': \"horizontal\"})\n",
    "\n",
    "#cb_ax = fig.axes[2] \n",
    "#cb_ax.tick_params(labelsize=20)\n",
    "#cb_ax.set_title('New infections', fontsize=15)\n",
    "ax.set_title('Optimistic', fontsize=20)\n",
    "ax.axis('off');\n",
    "fig.tight_layout()\n",
    "fig.savefig('figures/infection_scenarios_map.pdf')"
   ]
  },
  {
   "cell_type": "code",
   "execution_count": 14,
   "metadata": {
    "execution": {
     "iopub.execute_input": "2021-02-14T13:56:45.304768Z",
     "iopub.status.busy": "2021-02-14T13:56:45.304514Z",
     "iopub.status.idle": "2021-02-14T13:56:47.260545Z",
     "shell.execute_reply": "2021-02-14T13:56:47.259208Z",
     "shell.execute_reply.started": "2021-02-14T13:56:45.304740Z"
    }
   },
   "outputs": [
    {
     "data": {
      "image/png": "[encoded data removed]",
      "text/plain": [
       "<Figure size 122.4x360 with 3 Axes>"
      ]
     },
     "metadata": {
      "needs_background": "light"
     },
     "output_type": "display_data"
    }
   ],
   "source": [
    "fig, axes = plt.subplots(2,1, figsize=(1.7, 5))\n",
    "from mpl_toolkits.axes_grid1 import make_axes_locatable\n",
    "\n",
    "cmap = sns.cm.rocket#  'OrRd'\n",
    "vmin = 0\n",
    "vmax = max(resU['new_inf_pop'])\n",
    "#sm = plt.cm.ScalarMappable(cmap=cmap, norm=plt.Normalize(vmin = vmin, vmax=vmax))\n",
    "#sm._A = []\n",
    "\n",
    "\n",
    "ax=axes.flat[0]\n",
    "res = resU\n",
    "#divider = make_axes_locatable(ax)\n",
    "#cax = divider.append_axes(\"bottom\", size=\"5%\", pad=0.1)\n",
    "mp = res.plot(ax = ax, column='new_inf_pop', cmap='rocket_r', vmin = 0, vmax = vmax, lw = .1, edgecolor=\"white\",# legend=True, \n",
    "              legend_kwds={'label': 'Total Incident Infections',     'orientation': \"horizontal\"})\n",
    "ax.set_title('Pessimistic', fontsize=20)\n",
    "ax.axis('off')\n",
    "\n",
    "ax=axes.flat[1]\n",
    "res = resL\n",
    "divider = make_axes_locatable(ax)\n",
    "cax = divider.append_axes(\"bottom\", size=\"7%\", pad=0.01)\n",
    "mp = res.plot(ax = ax, column='new_inf_pop', cmap='rocket_r', vmin = vmin, vmax = vmax, lw = .1, edgecolor=\"white\", cax = cax, legend=True, \n",
    "              legend_kwds={'label': 'Incident Infections per pop', \n",
    "                          # 'labelsize':16,\n",
    "                           'orientation': \"horizontal\"})\n",
    "\n",
    "#cb_ax = fig.axes[2] \n",
    "#cb_ax.tick_params(labelsize=20)\n",
    "#cb_ax.set_title('New infections', fontsize=15)\n",
    "ax.set_title('Optimistic', fontsize=20)\n",
    "ax.axis('off');\n",
    "fig.tight_layout()\n",
    "fig.savefig('figures/infection_scenarios_map_pop.pdf')"
   ]
  },
  {
   "cell_type": "code",
   "execution_count": null,
   "metadata": {},
   "outputs": [],
   "source": []
  },
  {
   "cell_type": "code",
   "execution_count": 58,
   "metadata": {
    "execution": {
     "iopub.execute_input": "2021-02-08T15:52:50.941838Z",
     "iopub.status.busy": "2021-02-08T15:52:50.941630Z",
     "iopub.status.idle": "2021-02-08T15:52:50.944846Z",
     "shell.execute_reply": "2021-02-08T15:52:50.944165Z",
     "shell.execute_reply.started": "2021-02-08T15:52:50.941815Z"
    }
   },
   "outputs": [],
   "source": [
    "idpick = idsim-1\n",
    "yell_U = all_sims['U'][idpick]\n",
    "yell_L = all_sims['L'][idpick]"
   ]
  },
  {
   "cell_type": "code",
   "execution_count": null,
   "metadata": {},
   "outputs": [],
   "source": []
  },
  {
   "cell_type": "code",
   "execution_count": 59,
   "metadata": {
    "execution": {
     "iopub.execute_input": "2021-02-08T15:52:52.208422Z",
     "iopub.status.busy": "2021-02-08T15:52:52.208229Z",
     "iopub.status.idle": "2021-02-08T15:52:54.160174Z",
     "shell.execute_reply": "2021-02-08T15:52:54.159265Z",
     "shell.execute_reply.started": "2021-02-08T15:52:52.208400Z"
    }
   },
   "outputs": [],
   "source": [
    "both_res = []\n",
    "\n",
    "for md in [yell_L, yell_U]:\n",
    "    res = setup.shp.copy()\n",
    "    for i, node in enumerate(setup.ind2name):\n",
    "\n",
    "        mdp = md[md['place']==node]\n",
    "\n",
    "        total_vacc = mdp[ mdp['comp']=='vacc']['value'].sum()\n",
    "        ndays_vacc = len(mdp[(mdp['comp']=='vacc') & (mdp['value']>1)])\n",
    "        total_inf  = mdp[ mdp['comp'].isin(['E', 'P', 'I', 'A', 'Q', 'H', 'R']) & (mdp.index == str(setup.end_date))]['value'].sum()\n",
    "        new_inf    = mdp[ mdp['comp']=='yell']['value'].sum() # mdp[ mdp['comp'].isin(['E', 'P', 'I', 'A']) & (mdp.index == str(setup.end_date))]['value'].sum()\n",
    "\n",
    "        res.loc[i, 'total_vacc'] = total_vacc\n",
    "        res.loc[i, 'ndays_vacc'] = ndays_vacc\n",
    "        res.loc[i, 'total_inf'] =  total_inf\n",
    "        res.loc[i, 'new_inf'] =    new_inf\n",
    "        res.loc[i, 'new_inf_pop'] =    new_inf/ setup.pop_node[i]\n",
    "        res.loc[i, 'population'] = setup.pop_node[i] # overwrite\n",
    "    both_res.append(res)"
   ]
  },
  {
   "cell_type": "code",
   "execution_count": 60,
   "metadata": {
    "execution": {
     "iopub.execute_input": "2021-02-08T15:52:54.161680Z",
     "iopub.status.busy": "2021-02-08T15:52:54.161523Z",
     "iopub.status.idle": "2021-02-08T15:53:06.530385Z",
     "shell.execute_reply": "2021-02-08T15:53:06.529507Z",
     "shell.execute_reply.started": "2021-02-08T15:52:54.161661Z"
    }
   },
   "outputs": [
    {
     "data": {
      "image/png": "[encoded data removed]",
      "text/plain": [
       "<Figure size 1080x720 with 6 Axes>"
      ]
     },
     "metadata": {
      "needs_background": "light"
     },
     "output_type": "display_data"
    },
    {
     "data": {
      "image/png": "[encoded data removed]",
      "text/plain": [
       "<Figure size 1080x720 with 6 Axes>"
      ]
     },
     "metadata": {
      "needs_background": "light"
     },
     "output_type": "display_data"
    }
   ],
   "source": [
    "\n",
    "from mpl_toolkits.axes_grid1 import make_axes_locatable\n",
    "\n",
    "for res in both_res:\n",
    "    fig, axes = plt.subplots(1,3, figsize=(15, 10))\n",
    "\n",
    "    plt_infos = {'population': \n",
    "                 {'legend':'Population',\n",
    "                  'title': 'Population'},\n",
    "                'new_inf': \n",
    "                 {'legend':'Infections',\n",
    "                  'title': 'Infections'},\n",
    "                'new_inf_pop': \n",
    "                 {'legend':'Infections per pop',\n",
    "                  'title': 'Infection per pop'}}\n",
    "\n",
    "\n",
    "    for i, (colname, details) in enumerate(plt_infos.items()):\n",
    "        ax=axes.flat[i]\n",
    "        divider = make_axes_locatable(ax)\n",
    "        cax = divider.append_axes(\"bottom\", size=\"5%\", pad=0.1)\n",
    "        mp = res.plot(ax = ax, column=colname, cmap='rocket_r', lw = .1, edgecolor=\"white\", cax = cax, legend=True, legend_kwds={'label': details['legend'],     'orientation': \"horizontal\"})\n",
    "        ax.set_title(details['title'])\n",
    "        ax.axis('off')\n",
    "    \n",
    "    #divider = make_axes_locatable(ax)\n",
    "    #cax = divider.append_axes(\"right\", size=\"5%\", pad=0.05)"
   ]
  },
  {
   "cell_type": "code",
   "execution_count": 24,
   "metadata": {
    "execution": {
     "iopub.execute_input": "2021-02-02T13:51:07.893691Z",
     "iopub.status.busy": "2021-02-02T13:51:07.893460Z",
     "iopub.status.idle": "2021-02-02T13:51:08.030974Z",
     "shell.execute_reply": "2021-02-02T13:51:08.029606Z",
     "shell.execute_reply.started": "2021-02-02T13:51:07.893665Z"
    }
   },
   "outputs": [
    {
     "name": "stdout",
     "output_type": "stream",
     "text": [
      "I\n"
     ]
    },
    {
     "ename": "NameError",
     "evalue": "name 'scenarios' is not defined",
     "output_type": "error",
     "traceback": [
      "\u001b[0;31m---------------------------------------------------------------------------\u001b[0m",
      "\u001b[0;31mNameError\u001b[0m                                 Traceback (most recent call last)",
      "\u001b[0;32m<ipython-input-24-c6e9b04e28bf>\u001b[0m in \u001b[0;36m<module>\u001b[0;34m()\u001b[0m\n\u001b[1;32m      4\u001b[0m \u001b[0mprint\u001b[0m\u001b[0;34m(\u001b[0m\u001b[0mst\u001b[0m\u001b[0;34m)\u001b[0m\u001b[0;34m\u001b[0m\u001b[0;34m\u001b[0m\u001b[0m\n\u001b[1;32m      5\u001b[0m \u001b[0;34m\u001b[0m\u001b[0m\n\u001b[0;32m----> 6\u001b[0;31m \u001b[0;32mfor\u001b[0m \u001b[0mscn\u001b[0m \u001b[0;32min\u001b[0m \u001b[0mscenarios\u001b[0m\u001b[0;34m:\u001b[0m\u001b[0;34m\u001b[0m\u001b[0;34m\u001b[0m\u001b[0m\n\u001b[0m\u001b[1;32m      7\u001b[0m     \u001b[0mmd\u001b[0m \u001b[0;34m=\u001b[0m \u001b[0mmydata\u001b[0m\u001b[0;34m[\u001b[0m\u001b[0mscn\u001b[0m\u001b[0;34m]\u001b[0m\u001b[0;34m\u001b[0m\u001b[0;34m\u001b[0m\u001b[0m\n\u001b[1;32m      8\u001b[0m     \u001b[0maxes\u001b[0m\u001b[0;34m.\u001b[0m\u001b[0mplot\u001b[0m\u001b[0;34m(\u001b[0m\u001b[0mmd\u001b[0m\u001b[0;34m[\u001b[0m\u001b[0;34m(\u001b[0m\u001b[0mmd\u001b[0m\u001b[0;34m[\u001b[0m\u001b[0;34m'comp'\u001b[0m\u001b[0;34m]\u001b[0m \u001b[0;34m==\u001b[0m \u001b[0mst\u001b[0m\u001b[0;34m)\u001b[0m\u001b[0;34m]\u001b[0m\u001b[0;34m.\u001b[0m\u001b[0mgroupby\u001b[0m\u001b[0;34m(\u001b[0m\u001b[0;34m'date'\u001b[0m\u001b[0;34m)\u001b[0m\u001b[0;34m.\u001b[0m\u001b[0msum\u001b[0m\u001b[0;34m(\u001b[0m\u001b[0;34m)\u001b[0m\u001b[0;34m[\u001b[0m\u001b[0;34m'value'\u001b[0m\u001b[0;34m]\u001b[0m\u001b[0;34m,\u001b[0m \u001b[0mlinestyle\u001b[0m\u001b[0;34m=\u001b[0m\u001b[0;34m'-'\u001b[0m\u001b[0;34m,\u001b[0m \u001b[0mlw\u001b[0m \u001b[0;34m=\u001b[0m \u001b[0;36m2\u001b[0m\u001b[0;34m,\u001b[0m \u001b[0mlabel\u001b[0m \u001b[0;34m=\u001b[0m \u001b[0mscn\u001b[0m\u001b[0;34m)\u001b[0m\u001b[0;34m\u001b[0m\u001b[0;34m\u001b[0m\u001b[0m\n",
      "\u001b[0;31mNameError\u001b[0m: name 'scenarios' is not defined"
     ]
    },
    {
     "data": {
      "image/png": "[encoded data removed]",
      "text/plain": [
       "<Figure size 1080x504 with 1 Axes>"
      ]
     },
     "metadata": {},
     "output_type": "display_data"
    }
   ],
   "source": [
    "fig, axes = plt.subplots(1,1, figsize = (15,7), facecolor = 'white')\n",
    "i = 3\n",
    "st = states_names[i]\n",
    "print(st)\n",
    "\n",
    "for scn in scenarios:\n",
    "    md = mydata[scn]\n",
    "    axes.plot(md[(md['comp'] == st)].groupby('date').sum()['value'], linestyle='-', lw = 2, label = scn)\n",
    "axes.set_title(st)\n",
    "    \n",
    "axes.legend()\n",
    "fig.autofmt_xdate()"
   ]
  },
  {
   "cell_type": "code",
   "execution_count": null,
   "metadata": {},
   "outputs": [],
   "source": []
  },
  {
   "cell_type": "code",
   "execution_count": null,
   "metadata": {},
   "outputs": [],
   "source": [
    "md[(md['comp'] == st)].groupby('date').sum()['value']"
   ]
  },
  {
   "cell_type": "code",
   "execution_count": null,
   "metadata": {},
   "outputs": [],
   "source": []
  },
  {
   "cell_type": "code",
   "execution_count": null,
   "metadata": {},
   "outputs": [],
   "source": [
    "fig, axes = plt.subplots(5,22, figsize = (30,15), sharex=True, facecolor = 'white')#, sharey=True)\n",
    "i = 3\n",
    "st = states_names[i]\n",
    "print(st)\n",
    "for k, nname in enumerate(setup.ind2name):\n",
    "    for scn in scenarios:\n",
    "        md = mydata[scn]\n",
    "        axes.flat[k].plot(md[(md['comp'] == st) & (md['placeID'] == k)]['value'], linestyle='-', lw = 2, label = scn)\n",
    "    axes.flat[k].set_title(nname)\n",
    "    \n",
    "axes.flat[0].legend()\n",
    "fig.autofmt_xdate()"
   ]
  },
  {
   "cell_type": "code",
   "execution_count": null,
   "metadata": {},
   "outputs": [],
   "source": [
    "import scipy\n",
    "course = scipy.interpolate.interp1d([0, 50, 100, 1000], [.75, .85, .45,.45], kind='quadratic')\n",
    "course = course(np.arange(0, setup.ndays))\n",
    "plt.plot(course)"
   ]
  },
  {
   "cell_type": "code",
   "execution_count": null,
   "metadata": {},
   "outputs": [],
   "source": [
    "course = scipy.interpolate.interp1d([0, 50, 100], [.75, .85, .45], kind='quadratic')\n",
    "course = course(np.arange(0, setup.ndays))\n",
    "plt.plot(course)"
   ]
  },
  {
   "cell_type": "code",
   "execution_count": null,
   "metadata": {},
   "outputs": [],
   "source": [
    "course = scipy.interpolate.interp1d([0, 50, 100], [1.3, .7, 2], kind='quadratic')\n",
    "course = course(np.arange(0, setup.ndays))\n",
    "plt.plot(course)"
   ]
  },
  {
   "cell_type": "code",
   "execution_count": null,
   "metadata": {},
   "outputs": [],
   "source": [
    "course = scipy.interpolate.interp1d([0, 50, 100, 100000], [1.3, .7, 2, 2], kind='linear')\n",
    "course = course(np.arange(0,  250))\n",
    "plt.plot(course)"
   ]
  }
 ],
 "metadata": {
  "kernelspec": {
   "display_name": "Python (ocp-covid)",
   "language": "python",
   "name": "ocp-covid"
  },
  "language_info": {
   "codemirror_mode": {
    "name": "ipython",
    "version": 3
   },
   "file_extension": ".py",
   "mimetype": "text/x-python",
   "name": "python",
   "nbconvert_exporter": "python",
   "pygments_lexer": "ipython3",
   "version": "3.7.9"
  }
 },
 "nbformat": 4,
 "nbformat_minor": 4
}
