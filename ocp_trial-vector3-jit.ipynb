{
 "cells": [
  {
   "cell_type": "code",
   "execution_count": 4,
   "metadata": {
    "execution": {
     "iopub.execute_input": "2020-11-11T13:43:39.573438Z",
     "iopub.status.busy": "2020-11-11T13:43:39.573209Z",
     "iopub.status.idle": "2020-11-11T13:43:51.065121Z",
     "shell.execute_reply": "2020-11-11T13:43:51.064191Z",
     "shell.execute_reply.started": "2020-11-11T13:43:39.573411Z"
    }
   },
   "outputs": [
    {
     "name": "stdout",
     "output_type": "stream",
     "text": [
      "Loaded Italy Setup with 20 nodes.\n"
     ]
    }
   ],
   "source": [
    "import casadi as ca\n",
    "import casadi.tools as cat\n",
    "import numpy as np\n",
    "import matplotlib.pyplot as plt\n",
    "import pandas as pd\n",
    "import matplotlib as mpl\n",
    "import networkx as nx\n",
    "import sys, copy\n",
    "from scipy.integrate import solve_ivp\n",
    "import matlab.engine\n",
    "\n",
    "sys.path.append('.')\n",
    "sys.path.append('ocp-solving/')\n",
    "\n",
    "from ItalySetup import ItalySetup\n",
    "\n",
    "from utils import *\n",
    "\n",
    "eng = matlab.engine.start_matlab()\n",
    "eng.cd('geography-paper-master/', nargout=0)\n",
    "eng.run('single_build.m', nargout=0)\n",
    "\n",
    "model_size = 20\n",
    "\n",
    "s = ItalySetup(model_size)\n",
    "\n",
    "N = 163           # Number of control time interval\n",
    "T = 163#52 * 7       # N * 7\n",
    "n_int_steps = 1\n",
    "\n",
    "model_days = pd.date_range(s.start_date, s.end_date, freq='1D')\n",
    "freq = '1D'  # 'W-MON'\n",
    "model_step = pd.date_range(s.start_date, s.end_date, freq=freq)\n",
    "mobintime = s.mobility_ts.resample(freq).mean()\n",
    "\n",
    "N = len(model_step) - 1\n",
    "T = len(model_days)\n",
    "\n",
    "N = 30\n",
    "T = 31\n",
    "\n",
    "nx = 9\n",
    "\n",
    "states_list = ['S', 'E', 'P', 'I', 'A', 'Q', 'H', 'R', 'V']\n",
    "states = states_list\n",
    "\n",
    "S, E, P, I, A, Q, H, R, V = np.arange(nx)\n",
    "\n",
    "integ_matlab = np.array(eng.eval('x'))\n",
    "\n",
    "p_dict, mobfrac, mobmat, betaratiointime, x0= get_parameters_from_matlab(eng, s, model_size, model_days, freq)\n",
    "\n",
    "dt = T / N / n_int_steps\n",
    "\n",
    "obj_params = {\n",
    "    'scale_ell': 1e4,\n",
    "    'scale_If': 0,\n",
    "    'scale_v': 1e-8\n",
    "}\n",
    "obj_params = {\n",
    "    'scale_ell': 1e0,\n",
    "    'scale_If': 1e2,\n",
    "    'scale_v': 1e-6\n",
    "}\n",
    "betaP0 = p_dict['betaP0']\n",
    "epsilonA = p_dict['epsilonA']\n",
    "epsilonI = p_dict['epsilonI']\n",
    "r = p_dict['r']\n",
    "\n",
    "p_dict.pop('betaP0')\n",
    "p_dict.pop('r')\n",
    "p_dict.pop('epsilonA')\n",
    "p_dict.pop('epsilonI')\n",
    "C = mobmat"
   ]
  },
  {
   "cell_type": "markdown",
   "metadata": {},
   "source": [
    "### implement the vaccintion as we did for mobility, computer outside the ODE. make like easier.\n",
    "\n",
    "```\n",
    "        x_ = ca.veccat(*states[...])\n",
    "        u_ = ca.veccat(*controls[...])\n",
    "        R_ = states['R']\n",
    "        SpR = pop_nodeSX - states['I'] - states['V']\n",
    "        x_[1] -= controls['v']*R_/(SpR+1e-10)\n",
    "        x_[3] += controls['v']*SpR/(SpR+1e-10)\n",
    "        ell = 0.\n",
    "        \n",
    "        for k in range(n_int_steps):\n",
    "          x, ell = rk4_step(x_,u_,covar, params, pop_nodeSX)\n",
    "          ell += ell_\n",
    "            \n",
    "```\n",
    "JIT compilation\n",
    "```\n",
    "dae = {'x':states, 'p':ca.veccat(controls,covar,params,pop_nodeSX), 'ode':rhs, 'quad':scale_ell*rhs_ell + scale_v*v*v}\n",
    "int_type = 'rk'\n",
    "# int_type = 'collocation'\n",
    "\n",
    "opts = {'tf':T/N, 'number_of_finite_elements':n_int_steps}\n",
    "opts[\"jit\"] = True\n",
    "opts[\"compiler\"] = \"shell\"\n",
    "opts[\"simplify\"] = True\n",
    "opts[\"expand\"] = True\n",
    "\n",
    "F = ca.integrator('F', int_type, dae, opts)\n",
    "```\n"
   ]
  },
  {
   "cell_type": "code",
   "execution_count": 5,
   "metadata": {
    "execution": {
     "iopub.execute_input": "2020-11-11T13:43:55.033837Z",
     "iopub.status.busy": "2020-11-11T13:43:55.033539Z",
     "iopub.status.idle": "2020-11-11T13:43:55.056588Z",
     "shell.execute_reply": "2020-11-11T13:43:55.055989Z",
     "shell.execute_reply.started": "2020-11-11T13:43:55.033801Z"
    }
   },
   "outputs": [],
   "source": [
    "def rhs_py(t, x, u, cov, p, mob, pop_node):\n",
    "    S, E, P, I, A, Q, H, R, V = x[0], x[1], x[2], x[3], x[4], x[5], x[6], x[7], x[8]\n",
    "    \n",
    "    \n",
    "\n",
    "    deltaE, deltaP,sigma,eta,gammaI,gammaA,gammaQ,gammaH,alphaI,alphaH, zeta,  gammaV = \\\n",
    "    p[0], p[1], p[2], p[3], p[4], p[5], p[6], p[7], p[8], p[9], p[10], p[11]\n",
    "   \n",
    "    v = u[0]\n",
    "    foi = mob\n",
    "    rhs = [None] * nx\n",
    "    vaccrate = v / (S + E + P + A + Q + H + R+1)  # NOT I NOT H ?\n",
    "    vaccrate = v / ca.sqrt((S+E+P+A+Q+H+R)**2+10)   # 10 (1e7 ?1e3 ?)is to tune depending on scale, approx abs. value (brings quantities non negative by vaccinating)\n",
    "    vaccrate = 0\n",
    "    rhs[0] = -(foi + vaccrate) * S + gammaV * V                 # S\n",
    "    rhs[1] = foi * S - deltaE * E;                              # E \n",
    "    rhs[2] = deltaE * E - deltaP * P;                           # P\n",
    "    rhs[3] = sigma * deltaP * P - (eta + gammaI + alphaI) * I;  # I\n",
    "    rhs[4] = (1 - sigma) * deltaP * P - gammaA * A;             # A\n",
    "    rhs[5] = zeta * eta * I - gammaQ * Q;                       # Q\n",
    "    rhs[6] = (1 - zeta) * eta * I - (gammaH + alphaH) * H;      # H\n",
    "    rhs[7] = gammaI * I + gammaA * A + gammaH * H + gammaQ * Q;  # R\n",
    "    rhs[8] = vaccrate * S - gammaV * V                           # V\n",
    "    rhs_ell = [None] * 3\n",
    "    rhs_ell[0] = gammaH * H;  # recovered from the hospital\n",
    "    rhs_ell[1] = alphaH * H;  # total death\n",
    "    rhs_ell[2] = (1 - zeta) * eta * I;  # cumulative hospitalized cases\n",
    "\n",
    "    return rhs, rhs_ell\n",
    "\n",
    "def rhs_py2(t, x, p):\n",
    "    S, E, P, I, A, Q, H, R, V = x[0], x[1], x[2], x[3], x[4], x[5], x[6], x[7], x[8]\n",
    "    \n",
    "    #u, cov, p, mob, pop_node =  p[0], p[1], p[2], p[3], p[4]\n",
    "    #print(u, cov, p, mob, pop_node)\n",
    "\n",
    "    v, mob, J, deltaE, deltaP, sigma, eta, gammaI, gammaA, gammaQ, gammaH, alphaI, alphaH, zeta, gammaV, scale_ell, scale_If, scale_v, pop_node = \\\n",
    "    p[0], p[1], p[2], p[3], p[4], p[5], p[6], p[7], p[8], p[9], p[10], p[11], p[12], p[13], p[14], p[15], p[16], p[17], p[18]\n",
    "   \n",
    "    #v = u[0]\n",
    "    foi = mob\n",
    "    rhs = [None] * nx\n",
    "    vaccrate = v / (S + E + P + A + Q + H + R+1)  # NOT I NOT H ?\n",
    "    vaccrate = v / ca.sqrt((S+E+P+A+Q+H+R)**2+10)   # 10 (1e7 ?1e3 ?)is to tune depending on scale, approx abs. value (brings quantities non negative by vaccinating)\n",
    "    vaccrate = 0\n",
    "    rhs[0] = -(foi + vaccrate) * S + gammaV * V                 # S\n",
    "    rhs[1] = foi * S - deltaE * E;                              # E \n",
    "    rhs[2] = deltaE * E - deltaP * P;                           # P\n",
    "    rhs[3] = sigma * deltaP * P - (eta + gammaI + alphaI) * I;  # I\n",
    "    rhs[4] = (1 - sigma) * deltaP * P - gammaA * A;             # A\n",
    "    rhs[5] = zeta * eta * I - gammaQ * Q;                       # Q\n",
    "    rhs[6] = (1 - zeta) * eta * I - (gammaH + alphaH) * H;      # H\n",
    "    rhs[7] = gammaI * I + gammaA * A + gammaH * H + gammaQ * Q;  # R\n",
    "    rhs[8] = vaccrate * S - gammaV * V                           # V\n",
    "    rhs_ell = [None] * 3\n",
    "    rhs_ell[0] = gammaH * H;  # recovered from the hospital\n",
    "    rhs_ell[1] = alphaH * H;  # total death\n",
    "    rhs_ell[2] = (1 - zeta) * eta * I;  # cumulative hospitalized cases\n",
    "\n",
    "    return rhs, rhs_ell"
   ]
  },
  {
   "cell_type": "code",
   "execution_count": 6,
   "metadata": {
    "execution": {
     "iopub.execute_input": "2020-11-11T13:43:57.140653Z",
     "iopub.status.busy": "2020-11-11T13:43:57.140425Z",
     "iopub.status.idle": "2020-11-11T13:43:57.160061Z",
     "shell.execute_reply": "2020-11-11T13:43:57.159398Z",
     "shell.execute_reply.started": "2020-11-11T13:43:57.140627Z"
    }
   },
   "outputs": [
    {
     "name": "stdout",
     "output_type": "stream",
     "text": [
      "Building OCP with 20 nodes\n"
     ]
    }
   ],
   "source": [
    "setup = s\n",
    "model_params = copy.copy(p_dict)\n",
    "ind2name = setup.ind2name\n",
    "#ind_to_plot = setup.ind_to_plot\n",
    "pop_node = setup.pop_node\n",
    "\n",
    "M = setup.nnodes\n",
    "mobility = setup.mobility\n",
    "\n",
    "print(f'Building OCP with {M} nodes')\n",
    "\n",
    "c = setup.mobility\n",
    "\n",
    "scale_ell = obj_params['scale_ell']\n",
    "scale_If = obj_params['scale_If']\n",
    "scale_v = obj_params['scale_v']\n",
    "pnum = params_to_vector(model_params)\n",
    "\n",
    "pnum.append(scale_ell)\n",
    "pnum.append(scale_If)\n",
    "pnum.append(scale_v)\n",
    "\n",
    "# ---- decision variables ---------\n",
    "states = ['S', 'E', 'P', 'I', 'A', 'Q', 'H', 'R', 'V']\n",
    "states = cat.struct_symSX(states)\n",
    "[S, E, P, I, A, Q, H, R, V] = states[...]\n",
    "\n",
    "controls = cat.struct_symSX(['v', 'mb'])\n",
    "[v, mob] = controls[...]\n",
    "\n",
    "covar = cat.struct_symSX(['J'])\n",
    "[J] = covar[...]\n",
    "\n",
    "params = cat.struct_symSX(list(model_params.keys()) + ['scale_ell', 'scale_If', 'scale_v'])\n",
    "[deltaE, deltaP, sigma, eta, gammaI, gammaA, gammaQ, gammaH, alphaI, alphaH, zeta, gammaV,\n",
    " scale_ell, scale_If, scale_v] = params[...]\n",
    "\n",
    "pop_nodeSX = ca.SX.sym('pop_node')\n",
    "\n",
    "\n",
    "# The rhs is at time zero, the time is also no used in the equation so that exoplain\n",
    "rhs, rhs_ell = rhs_py(0, states.cat, controls.cat, covar.cat, params.cat, mob, pop_nodeSX)\n",
    "rhs = ca.veccat(*rhs)\n",
    "\n",
    "rhs, rhs_ell = rhs_py2(0, states.cat, ca.veccat(controls.cat, covar.cat, params.cat, pop_nodeSX))\n",
    "rhs = ca.veccat(*rhs)\n",
    "\n",
    "\n",
    "rhs_ell = ca.veccat(*rhs_ell)  # mod"
   ]
  },
  {
   "cell_type": "code",
   "execution_count": 7,
   "metadata": {
    "execution": {
     "iopub.execute_input": "2020-11-11T13:44:01.981605Z",
     "iopub.status.busy": "2020-11-11T13:44:01.981368Z",
     "iopub.status.idle": "2020-11-11T13:44:01.987427Z",
     "shell.execute_reply": "2020-11-11T13:44:01.986838Z",
     "shell.execute_reply.started": "2020-11-11T13:44:01.981577Z"
    }
   },
   "outputs": [
    {
     "data": {
      "text/plain": [
       "SX(@1=1, [((gammaV*V)-(mb*S)), ((mb*S)-(deltaE*E)), ((deltaE*E)-(deltaP*P)), (((sigma*deltaP)*P)-(((eta+gammaI)+alphaI)*I)), ((((@1-sigma)*deltaP)*P)-(gammaA*A)), (((zeta*eta)*I)-(gammaQ*Q)), ((((@1-zeta)*eta)*I)-((gammaH+alphaH)*H)), ((((gammaI*I)+(gammaA*A))+(gammaH*H))+(gammaQ*Q)), (-(gammaV*V))])"
      ]
     },
     "execution_count": 7,
     "metadata": {},
     "output_type": "execute_result"
    }
   ],
   "source": [
    "rhs"
   ]
  },
  {
   "cell_type": "code",
   "execution_count": 5,
   "metadata": {
    "execution": {
     "iopub.execute_input": "2020-11-11T13:31:49.041858Z",
     "iopub.status.busy": "2020-11-11T13:31:49.041575Z",
     "iopub.status.idle": "2020-11-11T13:31:49.045616Z",
     "shell.execute_reply": "2020-11-11T13:31:49.044966Z",
     "shell.execute_reply.started": "2020-11-11T13:31:49.041817Z"
    }
   },
   "outputs": [],
   "source": [
    "frhs = ca.Function('frhs', [states, controls, covar, params, pop_nodeSX],\n",
    "                           [rhs, scale_ell * rhs_ell[1] + scale_v * v * v])# mod"
   ]
  },
  {
   "cell_type": "code",
   "execution_count": 6,
   "metadata": {
    "execution": {
     "iopub.execute_input": "2020-11-11T13:31:49.046703Z",
     "iopub.status.busy": "2020-11-11T13:31:49.046458Z",
     "iopub.status.idle": "2020-11-11T13:31:49.053848Z",
     "shell.execute_reply": "2020-11-11T13:31:49.053184Z",
     "shell.execute_reply.started": "2020-11-11T13:31:49.046680Z"
    }
   },
   "outputs": [],
   "source": [
    "dt = T / N / n_int_steps  # length of an integration interval\n",
    "# ---- dynamic constraints --------\n",
    "k1, k1ell = frhs(states, controls, covar, params, pop_nodeSX)\n",
    "k2, k2ell = frhs(states + dt / 2 * k1, controls, covar, params, pop_nodeSX)\n",
    "k3, k3ell = frhs(states + dt / 2 * k2, controls, covar, params, pop_nodeSX)\n",
    "k4, k4ell = frhs(states + dt * k3, controls, covar, params, pop_nodeSX)\n",
    "x_next = states + dt / 6 * (k1 + 2 * k2 + 2 * k3 + k4)\n",
    "ell_next = dt / 6 * (\n",
    "        k1ell + 2 * k2ell + 2 * k3ell + k4ell)  # No need for because we sum it week by week few lines below.\n",
    "\n",
    "rk4_step = ca.Function('rk4_step', [states, controls, covar, params, pop_nodeSX], [x_next, ell_next])"
   ]
  },
  {
   "cell_type": "code",
   "execution_count": 12,
   "metadata": {
    "execution": {
     "iopub.execute_input": "2020-11-11T13:50:22.300933Z",
     "iopub.status.busy": "2020-11-11T13:50:22.299861Z",
     "iopub.status.idle": "2020-11-11T13:50:22.336640Z",
     "shell.execute_reply": "2020-11-11T13:50:22.334890Z",
     "shell.execute_reply.started": "2020-11-11T13:50:22.300872Z"
    }
   },
   "outputs": [
    {
     "ename": "NameError",
     "evalue": "name 'rk4_step' is not defined",
     "output_type": "error",
     "traceback": [
      "\u001b[0;31m---------------------------------------------------------------------------\u001b[0m",
      "\u001b[0;31mNameError\u001b[0m                                 Traceback (most recent call last)",
      "\u001b[0;32m<ipython-input-12-c25bad7245b1>\u001b[0m in \u001b[0;36m<module>\u001b[0;34m\u001b[0m\n\u001b[1;32m      7\u001b[0m \u001b[0mx_\u001b[0m\u001b[0;34m[\u001b[0m\u001b[0;36m8\u001b[0m\u001b[0;34m]\u001b[0m \u001b[0;34m+=\u001b[0m \u001b[0mvaccrate\u001b[0m \u001b[0;34m*\u001b[0m \u001b[0mstates\u001b[0m\u001b[0;34m[\u001b[0m\u001b[0;34m'S'\u001b[0m\u001b[0;34m]\u001b[0m\u001b[0;34m\u001b[0m\u001b[0;34m\u001b[0m\u001b[0m\n\u001b[1;32m      8\u001b[0m \u001b[0;32mfor\u001b[0m \u001b[0mk\u001b[0m \u001b[0;32min\u001b[0m \u001b[0mrange\u001b[0m\u001b[0;34m(\u001b[0m\u001b[0mn_int_steps\u001b[0m\u001b[0;34m)\u001b[0m\u001b[0;34m:\u001b[0m\u001b[0;34m\u001b[0m\u001b[0;34m\u001b[0m\u001b[0m\n\u001b[0;32m----> 9\u001b[0;31m     \u001b[0mx_\u001b[0m\u001b[0;34m,\u001b[0m \u001b[0mell_\u001b[0m \u001b[0;34m=\u001b[0m \u001b[0mrk4_step\u001b[0m\u001b[0;34m(\u001b[0m\u001b[0mx_\u001b[0m\u001b[0;34m,\u001b[0m \u001b[0mca\u001b[0m\u001b[0;34m.\u001b[0m\u001b[0mveccat\u001b[0m\u001b[0;34m(\u001b[0m\u001b[0mu_\u001b[0m\u001b[0;34m,\u001b[0m\u001b[0mcovar\u001b[0m\u001b[0;34m,\u001b[0m \u001b[0mparams\u001b[0m\u001b[0;34m,\u001b[0m \u001b[0mpop_nodeSX\u001b[0m\u001b[0;34m)\u001b[0m\u001b[0;34m)\u001b[0m\u001b[0;34m\u001b[0m\u001b[0;34m\u001b[0m\u001b[0m\n\u001b[0m\u001b[1;32m     10\u001b[0m     \u001b[0mell\u001b[0m \u001b[0;34m+=\u001b[0m \u001b[0mell_\u001b[0m\u001b[0;34m\u001b[0m\u001b[0;34m\u001b[0m\u001b[0m\n",
      "\u001b[0;31mNameError\u001b[0m: name 'rk4_step' is not defined"
     ]
    }
   ],
   "source": [
    "x_ = ca.veccat(*states[...])\n",
    "u_ = ca.veccat(*controls[...])\n",
    "ell = 0.\n",
    "VacPpl = states['S'] + states['E'] + states['P'] + states['A'] + states['R']\n",
    "vaccrate = controls['v']/(VacPpl+1e-10)\n",
    "x_[0] -= vaccrate * states['S'] #controls['v']*R_/(SpR+1e-10)\n",
    "x_[8] += vaccrate * states['S']\n",
    "for k in range(n_int_steps):\n",
    "    x_, ell_ = rk4_step(x_, u_,covar, params, pop_nodeSX)\n",
    "    ell += ell_"
   ]
  },
  {
   "cell_type": "code",
   "execution_count": null,
   "metadata": {},
   "outputs": [],
   "source": []
  },
  {
   "cell_type": "code",
   "execution_count": 8,
   "metadata": {
    "execution": {
     "iopub.execute_input": "2020-11-11T13:31:49.064352Z",
     "iopub.status.busy": "2020-11-11T13:31:49.064054Z",
     "iopub.status.idle": "2020-11-11T13:31:49.069771Z",
     "shell.execute_reply": "2020-11-11T13:31:49.068982Z",
     "shell.execute_reply.started": "2020-11-11T13:31:49.064324Z"
    }
   },
   "outputs": [],
   "source": [
    "rk4_int = ca.Function('rk4_int', [states, ca.veccat(controls, covar, params, pop_nodeSX)], [x_, ell],\n",
    "                      ['x0', 'p'], ['xf', 'qf'])\n",
    "\n",
    "# BUG TODO Isn't this a double multiplication by the scale parameter since ell is already multiplied ?\n",
    "ell = ca.Function('ell', [states, controls, covar, params, pop_nodeSX],\n",
    "                  [scale_ell * ell + scale_v * v * v, scale_ell * ell,\n",
    "                   scale_v * v * v])  # Very dependent on regularization factor"
   ]
  },
  {
   "cell_type": "code",
   "execution_count": 8,
   "metadata": {
    "execution": {
     "iopub.execute_input": "2020-11-11T13:44:31.793036Z",
     "iopub.status.busy": "2020-11-11T13:44:31.792791Z",
     "iopub.status.idle": "2020-11-11T13:44:31.802900Z",
     "shell.execute_reply": "2020-11-11T13:44:31.802241Z",
     "shell.execute_reply.started": "2020-11-11T13:44:31.793007Z"
    }
   },
   "outputs": [],
   "source": [
    "dae = {'x':states, \n",
    "       'p':ca.veccat(controls,covar,params, pop_nodeSX), \n",
    "       'ode':rhs, \n",
    "       'quad':scale_ell*rhs_ell + scale_v*v*v\n",
    "      }\n",
    "\n",
    "int_type = 'rk'\n",
    "opts = {'tf':T/N, 'number_of_finite_elements':n_int_steps}\n",
    "opts[\"jit\"] = True\n",
    "opts[\"compiler\"] = \"shell\"\n",
    "opts[\"simplify\"] = True\n",
    "opts[\"expand\"] = True\n",
    "\n",
    "F = ca.integrator('F', int_type, dae, opts)"
   ]
  },
  {
   "cell_type": "code",
   "execution_count": null,
   "metadata": {},
   "outputs": [],
   "source": []
  },
  {
   "cell_type": "code",
   "execution_count": 14,
   "metadata": {
    "execution": {
     "iopub.execute_input": "2020-11-11T13:56:03.218849Z",
     "iopub.status.busy": "2020-11-11T13:56:03.218410Z",
     "iopub.status.idle": "2020-11-11T13:56:03.253676Z",
     "shell.execute_reply": "2020-11-11T13:56:03.251907Z",
     "shell.execute_reply.started": "2020-11-11T13:56:03.218806Z"
    }
   },
   "outputs": [
    {
     "ename": "ValueError",
     "evalue": "too many values to unpack (expected 2)",
     "output_type": "error",
     "traceback": [
      "\u001b[0;31m---------------------------------------------------------------------------\u001b[0m",
      "\u001b[0;31mValueError\u001b[0m                                Traceback (most recent call last)",
      "\u001b[0;32m<ipython-input-14-29f6b1339dca>\u001b[0m in \u001b[0;36m<module>\u001b[0;34m\u001b[0m\n\u001b[1;32m      7\u001b[0m \u001b[0mx_\u001b[0m\u001b[0;34m[\u001b[0m\u001b[0;36m8\u001b[0m\u001b[0;34m]\u001b[0m \u001b[0;34m+=\u001b[0m \u001b[0mvaccrate\u001b[0m \u001b[0;34m*\u001b[0m \u001b[0mstates\u001b[0m\u001b[0;34m[\u001b[0m\u001b[0;34m'S'\u001b[0m\u001b[0;34m]\u001b[0m\u001b[0;34m\u001b[0m\u001b[0;34m\u001b[0m\u001b[0m\n\u001b[1;32m      8\u001b[0m \u001b[0;32mfor\u001b[0m \u001b[0mk\u001b[0m \u001b[0;32min\u001b[0m \u001b[0mrange\u001b[0m\u001b[0;34m(\u001b[0m\u001b[0mn_int_steps\u001b[0m\u001b[0;34m)\u001b[0m\u001b[0;34m:\u001b[0m\u001b[0;34m\u001b[0m\u001b[0;34m\u001b[0m\u001b[0m\n\u001b[0;32m----> 9\u001b[0;31m     \u001b[0mx_\u001b[0m\u001b[0;34m,\u001b[0m \u001b[0mell_\u001b[0m \u001b[0;34m=\u001b[0m \u001b[0mF\u001b[0m\u001b[0;34m(\u001b[0m\u001b[0mx_\u001b[0m\u001b[0;34m,\u001b[0m \u001b[0mca\u001b[0m\u001b[0;34m.\u001b[0m\u001b[0mveccat\u001b[0m\u001b[0;34m(\u001b[0m\u001b[0mu_\u001b[0m\u001b[0;34m,\u001b[0m\u001b[0mcovar\u001b[0m\u001b[0;34m,\u001b[0m \u001b[0mparams\u001b[0m\u001b[0;34m,\u001b[0m \u001b[0mpop_nodeSX\u001b[0m\u001b[0;34m)\u001b[0m\u001b[0;34m,\u001b[0m\u001b[0;36m0\u001b[0m\u001b[0;34m,\u001b[0m\u001b[0;36m0\u001b[0m\u001b[0;34m,\u001b[0m\u001b[0;36m0\u001b[0m\u001b[0;34m,\u001b[0m\u001b[0;36m0\u001b[0m\u001b[0;34m)\u001b[0m\u001b[0;34m\u001b[0m\u001b[0;34m\u001b[0m\u001b[0m\n\u001b[0m\u001b[1;32m     10\u001b[0m     \u001b[0mell\u001b[0m \u001b[0;34m+=\u001b[0m \u001b[0mell_\u001b[0m\u001b[0;34m\u001b[0m\u001b[0;34m\u001b[0m\u001b[0m\n",
      "\u001b[0;31mValueError\u001b[0m: too many values to unpack (expected 2)"
     ]
    }
   ],
   "source": [
    "x_ = ca.veccat(*states[...])\n",
    "u_ = ca.veccat(*controls[...])\n",
    "ell = 0.\n",
    "VacPpl = states['S'] + states['E'] + states['P'] + states['A'] + states['R']\n",
    "vaccrate = controls['v']/(VacPpl+1e-10)\n",
    "x_[0] -= vaccrate * states['S'] #controls['v']*R_/(SpR+1e-10)\n",
    "x_[8] += vaccrate * states['S']\n",
    "for k in range(n_int_steps):\n",
    "    x_ = F(x_, ca.veccat(u_,covar, params, pop_nodeSX),0,0,0,0)\n",
    "    ell += ell_"
   ]
  },
  {
   "cell_type": "code",
   "execution_count": null,
   "metadata": {},
   "outputs": [],
   "source": [
    "Vars = cat.struct_symMX([\n",
    "    (\n",
    "        cat.entry(\"x\", struct=states, repeat=[M, N + 1]),\n",
    "        cat.entry(\"u\", struct=controls, repeat=[M, N]),\n",
    "    ),\n",
    "])\n",
    "\n",
    "Params = cat.struct_symMX([\n",
    "    (\n",
    "        cat.entry(\"cov\", struct=covar, repeat=[M, N]),  # TODO BUG this make the rainfall weekly !\n",
    "        cat.entry(\"p\", struct=params),\n",
    "    ),\n",
    "])"
   ]
  },
  {
   "cell_type": "code",
   "execution_count": null,
   "metadata": {},
   "outputs": [],
   "source": [
    "lbx = Vars(-np.inf)\n",
    "ubx = Vars(np.inf)\n",
    "\n",
    "f = 0\n",
    "vaccines = 0\n",
    "cases = 0\n",
    "reg = 0\n",
    "cdot_T = 0\n",
    "dyn = [None] * N\n",
    "spatial = [None] * N\n",
    "\n",
    "mob_prun = 0.0001\n",
    "mob_prun = .005\n",
    "mob_prun = .01 # not tested\n",
    "\n",
    "for k in range(N):\n",
    "    \n",
    "    mobK = mobintime.to_numpy().T[:,k]\n",
    "    betaR = betaratiointime.to_numpy().T[:,k]\n",
    "    C = r*mobfrac.flatten()*mobK*mobmat\n",
    "    np.fill_diagonal(C,1-C.sum(axis=1)+ C.diagonal())\n",
    "    \n",
    "    dyn[k] = []\n",
    "    spatial[k] = []\n",
    "    Sk, Ek, Pk, Rk, Ak, Ik = ca.veccat(*Vars['x', :, k, 'S']), ca.veccat(*Vars['x', :, k, 'E']), \\\n",
    "                             ca.veccat(*Vars['x', :, k, 'P']), ca.veccat(*Vars['x', :, k, 'R']), \\\n",
    "                             ca.veccat(*Vars['x', :, k, 'A']), ca.veccat(*Vars['x', :, k, 'I'])\n",
    "\n",
    "    if k == 0:\n",
    "        print(f'pruning {C[C<0.0001].size} non-diagonal mobility elements of {C.size-M}.')  \n",
    "    C[C<0.0001] = 0 # Prune elements\n",
    "        \n",
    "    mob_ik=C@((C.T@(betaP0*betaR*(Pk+epsilonA*Ak))+epsilonI*betaP0*betaR*Ik)/ \\\n",
    "             (C.T@(Sk+Ek+Pk+Rk+Ak)+Ik))\n",
    "    print(f'{k}:', end='')\n",
    "    for i in range(M):\n",
    "        [X_, ell_ik] = F(Vars['x', i, k],\n",
    "                               ca.veccat(Vars['u', i, k], Params['cov', i, k], Params['p'], pop_node[i]))\n",
    "        \n",
    "        dyn[k].append(Vars['x', i, k + 1] - X_)\n",
    "        ell_ik_, cases_ik, reg_ik = ell(Vars['x', i, k], Vars['u', i, k], Params['cov', i, k], Params['p'], pop_node[i])\n",
    "        f += ell_ik\n",
    "        cases += cases_ik\n",
    "        reg += reg_ik\n",
    "        \n",
    "        spatial[k].append(Vars['u', i, k, 'mob'] - mob_ik[i]) # spatial, vaccines and dyn are put in g(x), with constraints that spatial and dyn are equal to zero\n",
    "        # thus imposing the dynamics and coupling.\n",
    "        vaccines += Vars[ 'u', i, k, 'v'] * T / N  # Number of vaccine spent = num of vaccine rate * 7 (number of days)\n",
    "\n",
    "f /= T  # Average over interval for cost ^ but not terminal cost "
   ]
  },
  {
   "cell_type": "code",
   "execution_count": null,
   "metadata": {},
   "outputs": [],
   "source": []
  },
  {
   "cell_type": "code",
   "execution_count": null,
   "metadata": {},
   "outputs": [],
   "source": []
  },
  {
   "cell_type": "code",
   "execution_count": null,
   "metadata": {},
   "outputs": [],
   "source": [
    "print('Writing constraints, ...', end='')\n",
    "g = cat.struct_MX([\n",
    "    cat.entry(\"dyn\", expr=dyn),\n",
    "    cat.entry(\"spatial\", expr=spatial),\n",
    "    cat.entry(\"vaccines\", expr=vaccines),\n",
    "])\n",
    "\n",
    "costTerms = ca.Function('costTerms', [Vars, Params], [cases, reg])\n",
    "\n",
    "\n",
    "# This initialize\n",
    "lbg = g(0)\n",
    "ubg = g(0)\n",
    "\n",
    "\n",
    "ubg['vaccines'] = 100000. * M\n",
    "lbg['vaccines'] = -np.inf\n",
    "\n",
    "optimize = 1\n",
    "lbx['u', :, :, 'v'] = 0.\n",
    "ubx['u', :, :, 'v'] = 15000 * optimize  # = 0 if we don't want to optimize\n",
    "# ubx['u',:,:,'v'] = 0\n",
    "#ubx['u', :, :1, 'v'] = 0.\n",
    "\n",
    "# Set initial conditions as constraints\n",
    "for cp, name in enumerate(states.keys()):\n",
    "    for i in range(M):\n",
    "        lbx['x', i, 0, name] = ubx['x', i, 0, name] = x0[i*nx+cp]\n",
    "\n",
    "print('DONE')\n",
    "print('Building NLP function...', end='')\n",
    "\n",
    "# NLOP arguments:\n",
    "# 'x' : variable names to optimize: here states and control\n",
    "# 'p' : params that can be change after\n",
    "# 'f' is the objective function of 'x', that we ought to minize\n",
    "# 'g' is a function that goes lbg < g(x,p) < ubg. If you want equality constraint then ubg = lbg = the number yoiu want it to be.\n",
    "nlp = {'x': Vars, 'p': Params, 'f': f, 'g': g}\n",
    "nlpFun = ca.Function('nlpFun', [Vars, Params], [f, g])\n",
    "print('DONE')\n",
    "print('Building Jacobian function...', end='')\n",
    "nlpJac = nlpFun.factory('nlpJac', ['i0', 'i1'], ['jac:o1:i0'])\n",
    "\n",
    "print('DONE')\n",
    "print('Building Solver...', end='')\n",
    "\n",
    "options = {}\n",
    "options['ipopt'] = {}\n",
    "options['ipopt'][\"linear_solver\"] = \"ma57\"\n",
    "options['ipopt'][\"linear_solver\"] = \"ma86\"\n",
    "# options['ipopt'][\"linear_solver\"] = \"ma86\"\n",
    "# options['ipopt'][\"linear_solver\"] = \"ma97\"\n",
    "# options['ipopt']['bound_frac'] = 1e-4\n",
    "# options['ipopt']['bound_push'] = 1e-4\n",
    "# options['ipopt']['slack_bound_frac'] = 1e-4\n",
    "# options['ipopt']['slack_bound_push'] = 1e-6\n",
    "# options['ipopt']['hessian_constant'] = 'yes'\n",
    "# options['ipopt'][\"tol\"] = 1e-8\n",
    "\n",
    "solver = ca.nlpsol('solver', \"ipopt\", nlp, options)\n",
    "\n",
    "# options = {}\n",
    "# options['ls_step_factor'] = 0.5\n",
    "# options['pr_tol'] = 1e-8\n",
    "# options['du_tol'] = 1e-8\n",
    "# options['qp_solver'] = 'nlpsol'\n",
    "# options['qp_solver_options']  = {'nlpsol':'ipopt','nlpsol_options':{'print_time':False,'ipopt.print_level':0,'ipopt.hessian_constant':'yes','ipopt.linear_solver':'ma97','ipopt.tol':1e-16}}\n",
    "# # options['regularization'] = 'regularize_reduced'\n",
    "# options['regularization'] = 'regularize_reduced_diag'\n",
    "# options['regularization_tol'] = 1e-10\n",
    "# options['linesearch'] = 'filter'\n",
    "# options[\"iteration_callback\"] = plotIterates\n",
    "# self.solver = SQPmethod(nlp,options)\n",
    "\n",
    "print('DONE')"
   ]
  },
  {
   "cell_type": "code",
   "execution_count": null,
   "metadata": {},
   "outputs": [],
   "source": [
    "integ_matlab = np.array(eng.eval('x'))\n",
    "\n",
    "init = Vars(0)\n",
    "for i, name in enumerate(states.keys()):\n",
    "    for k in range(N + 1):\n",
    "        # init['x',:,k,name] = sol0.y[i,k]\n",
    "        for nd in range(M):\n",
    "            init['x', nd, k, name] = integ_matlab.T[nd+107*i, k].T # p['x0']  # self.ic[name][i]\n",
    "\n",
    "init['u'] = 0.\n",
    "\n",
    "arg = {}\n",
    "arg['lbg'] = lbg\n",
    "arg['ubg'] = ubg\n",
    "\n",
    "arg['lbx'] = lbx\n",
    "arg['ubx'] = ubx\n",
    "arg['x0'] = init\n",
    "arg['p'] = Params()\n",
    "# for i in range(M):\n",
    "#    for k in range(N):\n",
    "#        arg['p']['cov',i,k] = rainfall_norm[i,k]**params(pnum)['r']\n",
    "# arg['p']['cov',i,k] = np.random.random()**params(pnum)['r']\n",
    "\n",
    "arg['p']['p'] = pnum"
   ]
  },
  {
   "cell_type": "code",
   "execution_count": null,
   "metadata": {},
   "outputs": [],
   "source": [
    "#pnum.append(scale_ell)\n",
    "#pnum.append(scale_If)\n",
    "#pnum.append(scale_v)\n",
    "#pnum[-2] = 1000\n",
    "#pnum[-1] = 1e-12\n",
    "arg['p']['p'] = pnum"
   ]
  },
  {
   "cell_type": "code",
   "execution_count": null,
   "metadata": {},
   "outputs": [],
   "source": [
    "arg['p']['p']"
   ]
  },
  {
   "cell_type": "code",
   "execution_count": null,
   "metadata": {},
   "outputs": [],
   "source": [
    "sol = solver(**arg)\n",
    "opt = Vars(sol['x'])"
   ]
  },
  {
   "cell_type": "code",
   "execution_count": null,
   "metadata": {},
   "outputs": [],
   "source": [
    "import matplotlib.pyplot as plt\n",
    "fig, axes = plt.subplots(len(states_list)//3,3, figsize = (10,10))\n",
    "node = 7\n",
    "til =  30#-1\n",
    "\n",
    "for i, st in enumerate(states_list):\n",
    "    axes.flat[i].plot(np.array(ca.veccat(*opt['x',node,:til,st])), \n",
    "                  linestyle=':', lw = 4, color='r')\n",
    "    if st != 'V':\n",
    "        axes.flat[i].plot(np.array(integ_matlab.T[node+107*i,:til].T), \n",
    "                  linestyle='-', lw = 2, color='k')\n",
    "\n",
    "    axes.flat[i].set_title(st);"
   ]
  },
  {
   "cell_type": "code",
   "execution_count": null,
   "metadata": {},
   "outputs": [],
   "source": [
    "import matplotlib.pyplot as plt\n",
    "fig, axes = plt.subplots(len(states_list)//3,3, figsize = (10,10))\n",
    "node = 1\n",
    "til = 30 # -1\n",
    "\n",
    "\n",
    "for i, st in enumerate(states_list):\n",
    "    for k in range(M):\n",
    "        axes.flat[i].plot(np.array(ca.veccat(*opt['x',k,:til,st])), \n",
    "                   lw = 2, ls = '--')\n",
    "        if st != 'V':\n",
    "            axes.flat[i].plot(np.array(integ_matlab.T[k+107*i,:til].T), \n",
    "                   lw = .5)\n",
    "        axes.flat[i].set_title(st);"
   ]
  },
  {
   "cell_type": "code",
   "execution_count": null,
   "metadata": {},
   "outputs": [],
   "source": []
  }
 ],
 "metadata": {
  "kernelspec": {
   "display_name": "Python 3",
   "language": "python",
   "name": "python3"
  },
  "language_info": {
   "codemirror_mode": {
    "name": "ipython",
    "version": 3
   },
   "file_extension": ".py",
   "mimetype": "text/x-python",
   "name": "python",
   "nbconvert_exporter": "python",
   "pygments_lexer": "ipython3",
   "version": "3.7.9"
  }
 },
 "nbformat": 4,
 "nbformat_minor": 4
}
