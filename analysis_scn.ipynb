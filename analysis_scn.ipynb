{
 "cells": [
  {
   "cell_type": "markdown",
   "metadata": {
    "execution": {
     "iopub.execute_input": "2020-12-22T17:15:12.988706Z",
     "iopub.status.busy": "2020-12-22T17:15:12.988298Z",
     "iopub.status.idle": "2020-12-22T17:15:13.230048Z",
     "shell.execute_reply": "2020-12-22T17:15:13.228271Z",
     "shell.execute_reply.started": "2020-12-22T17:15:12.988665Z"
    }
   },
   "source": [
    "# Re-integrate vacc\n",
    "for scenario_name, scenario in scenarios.items():\n",
    "    max_vacc_rate, vacc_total, control_initial = build_scenario(setup, scenario)\n",
    "    md = pd.read_csv(f'{outdir}{file_prefix}{scenario_name}-{met}{nnodes}.csv', index_col= 'date', parse_dates=True)# Analysis of optimal scenarios agaisnt other scenarios"
   ]
  },
  {
   "cell_type": "code",
   "execution_count": 10,
   "metadata": {
    "execution": {
     "iopub.execute_input": "2021-01-15T13:02:51.241533Z",
     "iopub.status.busy": "2021-01-15T13:02:51.241275Z",
     "iopub.status.idle": "2021-01-15T13:02:51.435227Z",
     "shell.execute_reply": "2021-01-15T13:02:51.434317Z",
     "shell.execute_reply.started": "2021-01-15T13:02:51.241504Z"
    }
   },
   "outputs": [
    {
     "name": "stdout",
     "output_type": "stream",
     "text": [
      "Loaded Italy Setup with 107 nodes.\n"
     ]
    }
   ],
   "source": [
    "import copy\n",
    "import matplotlib as mpl\n",
    "import matplotlib.pyplot as plt\n",
    "import numpy as np\n",
    "import pandas as pd\n",
    "import networkx\n",
    "from ItalySetup import ItalySetup\n",
    "from covidOCP import COVIDVaccinationOCP, COVIDParametersOCP\n",
    "from main import pick_scenario, build_scenario\n",
    "import seaborn as sns\n",
    "import datetime\n",
    "import pickle\n",
    "\n",
    "nx = 9\n",
    "states_names = ['S', 'E', 'P', 'I', 'A', 'Q', 'H', 'R', 'V']\n",
    "outdir = 'model_output/'\n",
    "when = 'future'\n",
    "file_prefix = f'microechopc'\n",
    "outdir = '2021-01-14_nanoechopc/'\n",
    "\n",
    "\n",
    "n_int_steps = 5\n",
    "nnodes = 107  # nodes\n",
    "ndays = 15\n",
    "\n",
    "setup = ItalySetup(nnodes, ndays, when)\n",
    "M = setup.nnodes\n",
    "N = len(setup.model_days) - 1\n",
    "\n",
    "with open(f'model_output/parameters_{nnodes}_{when}.pkl', 'rb') as inp:\n",
    "    p = pickle.load(inp)"
   ]
  },
  {
   "cell_type": "code",
   "execution_count": 2,
   "metadata": {
    "execution": {
     "iopub.execute_input": "2021-01-15T13:01:04.449383Z",
     "iopub.status.busy": "2021-01-15T13:01:04.449133Z",
     "iopub.status.idle": "2021-01-15T13:01:04.465198Z",
     "shell.execute_reply": "2021-01-15T13:01:04.464453Z",
     "shell.execute_reply.started": "2021-01-15T13:01:04.449354Z"
    }
   },
   "outputs": [],
   "source": [
    "scenarios = {pick_scenario(setup, i)['name']:pick_scenario(setup, i) for i in np.arange(29)}"
   ]
  },
  {
   "cell_type": "code",
   "execution_count": 3,
   "metadata": {
    "execution": {
     "iopub.execute_input": "2021-01-15T13:01:06.827639Z",
     "iopub.status.busy": "2021-01-15T13:01:06.827243Z",
     "iopub.status.idle": "2021-01-15T13:01:06.838347Z",
     "shell.execute_reply": "2021-01-15T13:01:06.836867Z",
     "shell.execute_reply.started": "2021-01-15T13:01:06.827586Z"
    }
   },
   "outputs": [
    {
     "data": {
      "text/plain": [
       "dict_keys(['U-r1-t125000', 'L-r1-t125000', 'U-r2-t125000', 'L-r2-t125000', 'U-r15-t125000', 'L-r15-t125000', 'U-r1-t250000', 'L-r1-t250000', 'U-r2-t250000', 'L-r2-t250000', 'U-r15-t250000', 'L-r15-t250000', 'U-r1-t479700', 'L-r1-t479700', 'U-r2-t479700', 'L-r2-t479700', 'U-r15-t479700', 'L-r15-t479700', 'U-r1-t1000000', 'L-r1-t1000000', 'U-r2-t1000000', 'L-r2-t1000000', 'U-r15-t1000000', 'L-r15-t1000000', 'U-r1-t2000000', 'L-r1-t2000000', 'U-r2-t2000000', 'L-r2-t2000000', 'U-r15-t2000000'])"
      ]
     },
     "execution_count": 3,
     "metadata": {},
     "output_type": "execute_result"
    }
   ],
   "source": [
    "scenarios.keys()"
   ]
  },
  {
   "cell_type": "code",
   "execution_count": 4,
   "metadata": {
    "execution": {
     "iopub.execute_input": "2021-01-15T13:01:14.441402Z",
     "iopub.status.busy": "2021-01-15T13:01:14.441052Z",
     "iopub.status.idle": "2021-01-15T13:01:14.447774Z",
     "shell.execute_reply": "2021-01-15T13:01:14.446684Z",
     "shell.execute_reply.started": "2021-01-15T13:01:14.441349Z"
    }
   },
   "outputs": [
    {
     "name": "stdout",
     "output_type": "stream",
     "text": [
      "5\n"
     ]
    }
   ],
   "source": [
    "# Choose a subset of scenarios:\n",
    "pick = 'U-r15'\n",
    "scenarios = {k:v for (k,v) in scenarios.items() if pick in k}\n",
    "print(len(scenarios))"
   ]
  },
  {
   "cell_type": "code",
   "execution_count": 6,
   "metadata": {
    "execution": {
     "iopub.execute_input": "2021-01-15T13:01:49.126767Z",
     "iopub.status.busy": "2021-01-15T13:01:49.126401Z",
     "iopub.status.idle": "2021-01-15T13:01:49.183645Z",
     "shell.execute_reply": "2021-01-15T13:01:49.182170Z",
     "shell.execute_reply.started": "2021-01-15T13:01:49.126686Z"
    }
   },
   "outputs": [],
   "source": [
    "no_vacc = {}\n",
    "no_vacc['L'] = pd.read_csv(f'2021-01-14_nanoechopc/-L-r1-t1000000-int-107_15-nc.csv', index_col= 'date', parse_dates=True)\n",
    "no_vacc['U'] = pd.read_csv(f'2021-01-14_nanoechopc/-U-r1-t1000000-int-107_15-nc.csv', index_col= 'date', parse_dates=True)"
   ]
  },
  {
   "cell_type": "code",
   "execution_count": 101,
   "metadata": {
    "execution": {
     "iopub.execute_input": "2021-01-13T11:24:08.565963Z",
     "iopub.status.busy": "2021-01-13T11:24:08.565691Z",
     "iopub.status.idle": "2021-01-13T11:24:08.719365Z",
     "shell.execute_reply": "2021-01-13T11:24:08.718645Z",
     "shell.execute_reply.started": "2021-01-13T11:24:08.565928Z"
    }
   },
   "outputs": [],
   "source": [
    "max_vacc_rate, vacc_total, control_initial = build_scenario(setup, scenarios['U-r1-t125000'])"
   ]
  },
  {
   "cell_type": "code",
   "execution_count": 102,
   "metadata": {
    "execution": {
     "iopub.execute_input": "2021-01-13T11:24:13.162047Z",
     "iopub.status.busy": "2021-01-13T11:24:13.161758Z",
     "iopub.status.idle": "2021-01-13T11:24:13.168992Z",
     "shell.execute_reply": "2021-01-13T11:24:13.167750Z",
     "shell.execute_reply.started": "2021-01-13T11:24:13.162013Z"
    }
   },
   "outputs": [
    {
     "data": {
      "text/plain": [
       "array([ 17857.14285714,  35714.28571429,  53571.42857143,  71428.57142857,\n",
       "        89285.71428571, 107142.85714286, 125000.        , 142857.14285714,\n",
       "       160714.28571429, 178571.42857143, 196428.57142857, 214285.71428571,\n",
       "       232142.85714286, 250000.        , 267857.14285714, 285714.28571429,\n",
       "       303571.42857143, 321428.57142857, 339285.71428571, 357142.85714286,\n",
       "       375000.        , 392857.14285714, 410714.28571429, 428571.42857143,\n",
       "       446428.57142857, 464285.71428571, 482142.85714286, 500000.        ,\n",
       "       517857.14285714, 535714.28571429, 553571.42857143, 571428.57142857,\n",
       "       589285.71428571, 607142.85714286, 625000.        , 642857.14285714,\n",
       "       660714.28571429, 678571.42857143, 696428.57142857, 714285.71428571,\n",
       "       732142.85714286, 750000.        , 767857.14285714, 785714.28571429])"
      ]
     },
     "execution_count": 102,
     "metadata": {},
     "output_type": "execute_result"
    }
   ],
   "source": [
    "vacc_total"
   ]
  },
  {
   "cell_type": "code",
   "execution_count": 12,
   "metadata": {
    "execution": {
     "iopub.execute_input": "2021-01-15T13:03:04.503422Z",
     "iopub.status.busy": "2021-01-15T13:03:04.503111Z",
     "iopub.status.idle": "2021-01-15T13:03:45.168432Z",
     "shell.execute_reply": "2021-01-15T13:03:45.166681Z",
     "shell.execute_reply.started": "2021-01-15T13:03:04.503376Z"
    },
    "scrolled": true
   },
   "outputs": [
    {
     "name": "stdout",
     "output_type": "stream",
     "text": [
      "YES 2021-01-14_nanoechopc/microechopc-U-r15-t125000-opt-107_15.csv\n"
     ]
    },
    {
     "name": "stderr",
     "output_type": "stream",
     "text": [
      " 29%|██▊       | 4/14 [00:00<00:00, 16.48it/s]"
     ]
    },
    {
     "name": "stdout",
     "output_type": "stream",
     "text": [
      "===> Integrating for 2021-01-14_nanoechopc/microechopcU-r15-t125000-opi107_15\n"
     ]
    },
    {
     "name": "stderr",
     "output_type": "stream",
     "text": [
      "100%|██████████| 14/14 [00:00<00:00, 16.47it/s]\n"
     ]
    },
    {
     "name": "stdout",
     "output_type": "stream",
     "text": [
      "YES 2021-01-14_nanoechopc/microechopc-U-r15-t250000-opt-107_15.csv\n"
     ]
    },
    {
     "name": "stderr",
     "output_type": "stream",
     "text": [
      " 14%|█▍        | 2/14 [00:00<00:00, 13.82it/s]"
     ]
    },
    {
     "name": "stdout",
     "output_type": "stream",
     "text": [
      "===> Integrating for 2021-01-14_nanoechopc/microechopcU-r15-t250000-opi107_15\n"
     ]
    },
    {
     "name": "stderr",
     "output_type": "stream",
     "text": [
      "100%|██████████| 14/14 [00:01<00:00, 12.52it/s]\n"
     ]
    },
    {
     "name": "stdout",
     "output_type": "stream",
     "text": [
      "YES 2021-01-14_nanoechopc/microechopc-U-r15-t479700-opt-107_15.csv\n"
     ]
    },
    {
     "name": "stderr",
     "output_type": "stream",
     "text": [
      " 14%|█▍        | 2/14 [00:00<00:01, 10.88it/s]"
     ]
    },
    {
     "name": "stdout",
     "output_type": "stream",
     "text": [
      "===> Integrating for 2021-01-14_nanoechopc/microechopcU-r15-t479700-opi107_15\n"
     ]
    },
    {
     "name": "stderr",
     "output_type": "stream",
     "text": [
      "100%|██████████| 14/14 [00:01<00:00,  9.77it/s]\n"
     ]
    },
    {
     "name": "stdout",
     "output_type": "stream",
     "text": [
      "YES 2021-01-14_nanoechopc/microechopc-U-r15-t1000000-opt-107_15.csv\n"
     ]
    },
    {
     "name": "stderr",
     "output_type": "stream",
     "text": [
      " 14%|█▍        | 2/14 [00:00<00:00, 15.78it/s]"
     ]
    },
    {
     "name": "stdout",
     "output_type": "stream",
     "text": [
      "===> Integrating for 2021-01-14_nanoechopc/microechopcU-r15-t1000000-opi107_15\n"
     ]
    },
    {
     "name": "stderr",
     "output_type": "stream",
     "text": [
      "100%|██████████| 14/14 [00:00<00:00, 15.79it/s]\n"
     ]
    },
    {
     "name": "stdout",
     "output_type": "stream",
     "text": [
      "YES 2021-01-14_nanoechopc/microechopc-U-r15-t2000000-opt-107_15.csv\n"
     ]
    },
    {
     "name": "stderr",
     "output_type": "stream",
     "text": [
      " 14%|█▍        | 2/14 [00:00<00:00, 15.50it/s]"
     ]
    },
    {
     "name": "stdout",
     "output_type": "stream",
     "text": [
      "===> Integrating for 2021-01-14_nanoechopc/microechopcU-r15-t2000000-opi107_15\n"
     ]
    },
    {
     "name": "stderr",
     "output_type": "stream",
     "text": [
      "100%|██████████| 14/14 [00:01<00:00, 12.79it/s]\n"
     ]
    }
   ],
   "source": [
    "scenarios_opt = {}\n",
    "## Re-integrate vacc\n",
    "for scenario_name, scenario in scenarios.items():\n",
    "    max_vacc_rate, vacc_total, control_initial = build_scenario(setup, scenario)\n",
    "    fname = f'{outdir}{file_prefix}-{scenario_name}-opt-{nnodes}_{ndays}.csv'\n",
    "    try:\n",
    "        md = pd.read_csv(fname, index_col= 'date', parse_dates=True)\n",
    "        print(f'YES {fname}')\n",
    "        control_initial = np.zeros((M, N))\n",
    "        allocated_total = 0\n",
    "        unvac_nd = np.copy(setup.pop_node)\n",
    "\n",
    "        for nodename in md.place.unique():\n",
    "            mdn = md[(md['place'] == nodename) & (md['comp'] == 'vacc')]\n",
    "            for date in mdn.index[:-2]:\n",
    "                nd = setup.ind2name.index(nodename)\n",
    "                k = list(setup.model_days).index(date)\n",
    "                control_initial[nd, k] = mdn.loc[date].value\n",
    "                allocated_total += mdn.loc[date].value\n",
    "                unvac_nd[nd] -= mdn.loc[date].value\n",
    "\n",
    "        p.apply_epicourse(setup, scenario['beta_mult'])\n",
    "\n",
    "        results, state_initial, yell, mob = COVIDVaccinationOCP.integrate(N,\n",
    "                                                                          setup=setup,\n",
    "                                                                          parameters=p,\n",
    "                                                                          controls=control_initial,\n",
    "                                                                          save_to=f'{outdir}{file_prefix}{scenario_name}-opi{nnodes}_{ndays}',\n",
    "                                                                          n_rk4_steps=n_int_steps)\n",
    "        results.set_index('date', drop=True, inplace=True)\n",
    "        scenarios_opt[scenario_name] = scenario\n",
    "        \n",
    "    except FileNotFoundError:\n",
    "        print(f'NOT {fname}')"
   ]
  },
  {
   "cell_type": "code",
   "execution_count": null,
   "metadata": {},
   "outputs": [],
   "source": []
  },
  {
   "cell_type": "code",
   "execution_count": null,
   "metadata": {},
   "outputs": [],
   "source": []
  },
  {
   "cell_type": "code",
   "execution_count": 13,
   "metadata": {
    "execution": {
     "iopub.execute_input": "2021-01-15T13:03:45.171783Z",
     "iopub.status.busy": "2021-01-15T13:03:45.171254Z",
     "iopub.status.idle": "2021-01-15T13:04:43.985334Z",
     "shell.execute_reply": "2021-01-15T13:04:43.984586Z",
     "shell.execute_reply.started": "2021-01-15T13:03:45.171717Z"
    },
    "scrolled": true
   },
   "outputs": [
    {
     "name": "stdout",
     "output_type": "stream",
     "text": [
      "U-r15-t125000\n"
     ]
    },
    {
     "name": "stderr",
     "output_type": "stream",
     "text": [
      "  7%|▋         | 1/14 [00:00<00:01,  9.41it/s]"
     ]
    },
    {
     "name": "stdout",
     "output_type": "stream",
     "text": [
      "===> Integrating for 2021-01-14_nanoechopc/microechopcU-r15-t125000-inc107_15\n"
     ]
    },
    {
     "name": "stderr",
     "output_type": "stream",
     "text": [
      "100%|██████████| 14/14 [00:01<00:00,  9.56it/s]\n"
     ]
    },
    {
     "name": "stdout",
     "output_type": "stream",
     "text": [
      "U-r15-t250000\n",
      "===> Integrating for 2021-01-14_nanoechopc/microechopcU-r15-t250000-inc107_15"
     ]
    },
    {
     "name": "stderr",
     "output_type": "stream",
     "text": [
      " 14%|█▍        | 2/14 [00:00<00:00, 15.39it/s]"
     ]
    },
    {
     "name": "stdout",
     "output_type": "stream",
     "text": [
      "\n"
     ]
    },
    {
     "name": "stderr",
     "output_type": "stream",
     "text": [
      "100%|██████████| 14/14 [00:00<00:00, 15.34it/s]\n"
     ]
    },
    {
     "name": "stdout",
     "output_type": "stream",
     "text": [
      "U-r15-t479700\n"
     ]
    },
    {
     "name": "stderr",
     "output_type": "stream",
     "text": [
      " 14%|█▍        | 2/14 [00:00<00:00, 14.31it/s]"
     ]
    },
    {
     "name": "stdout",
     "output_type": "stream",
     "text": [
      "===> Integrating for 2021-01-14_nanoechopc/microechopcU-r15-t479700-inc107_15\n"
     ]
    },
    {
     "name": "stderr",
     "output_type": "stream",
     "text": [
      "100%|██████████| 14/14 [00:01<00:00, 13.69it/s]\n",
      "  0%|          | 0/14 [00:00<?, ?it/s]"
     ]
    },
    {
     "name": "stdout",
     "output_type": "stream",
     "text": [
      "U-r15-t1000000\n",
      "===> Integrating for 2021-01-14_nanoechopc/microechopcU-r15-t1000000-inc107_15\n"
     ]
    },
    {
     "name": "stderr",
     "output_type": "stream",
     "text": [
      "100%|██████████| 14/14 [00:00<00:00, 14.55it/s]\n"
     ]
    },
    {
     "name": "stdout",
     "output_type": "stream",
     "text": [
      "U-r15-t2000000\n"
     ]
    },
    {
     "name": "stderr",
     "output_type": "stream",
     "text": [
      " 14%|█▍        | 2/14 [00:00<00:01, 10.78it/s]"
     ]
    },
    {
     "name": "stdout",
     "output_type": "stream",
     "text": [
      "===> Integrating for 2021-01-14_nanoechopc/microechopcU-r15-t2000000-inc107_15\n"
     ]
    },
    {
     "name": "stderr",
     "output_type": "stream",
     "text": [
      "100%|██████████| 14/14 [00:01<00:00, 12.37it/s]\n",
      " 14%|█▍        | 2/14 [00:00<00:00, 12.24it/s]"
     ]
    },
    {
     "name": "stdout",
     "output_type": "stream",
     "text": [
      "===> Integrating for 2021-01-14_nanoechopc/microechopcU-r15-t125000-pop107_15\n"
     ]
    },
    {
     "name": "stderr",
     "output_type": "stream",
     "text": [
      "100%|██████████| 14/14 [00:01<00:00, 13.07it/s]\n",
      " 14%|█▍        | 2/14 [00:00<00:01, 11.40it/s]"
     ]
    },
    {
     "name": "stdout",
     "output_type": "stream",
     "text": [
      "===> Integrating for 2021-01-14_nanoechopc/microechopcU-r15-t250000-pop107_15\n"
     ]
    },
    {
     "name": "stderr",
     "output_type": "stream",
     "text": [
      "100%|██████████| 14/14 [00:01<00:00, 13.03it/s]\n",
      " 14%|█▍        | 2/14 [00:00<00:00, 16.56it/s]"
     ]
    },
    {
     "name": "stdout",
     "output_type": "stream",
     "text": [
      "===> Integrating for 2021-01-14_nanoechopc/microechopcU-r15-t479700-pop107_15\n"
     ]
    },
    {
     "name": "stderr",
     "output_type": "stream",
     "text": [
      "100%|██████████| 14/14 [00:00<00:00, 16.40it/s]\n",
      " 14%|█▍        | 2/14 [00:00<00:00, 14.98it/s]"
     ]
    },
    {
     "name": "stdout",
     "output_type": "stream",
     "text": [
      "===> Integrating for 2021-01-14_nanoechopc/microechopcU-r15-t1000000-pop107_15\n"
     ]
    },
    {
     "name": "stderr",
     "output_type": "stream",
     "text": [
      "100%|██████████| 14/14 [00:00<00:00, 15.00it/s]\n",
      " 14%|█▍        | 2/14 [00:00<00:00, 14.83it/s]"
     ]
    },
    {
     "name": "stdout",
     "output_type": "stream",
     "text": [
      "===> Integrating for 2021-01-14_nanoechopc/microechopcU-r15-t2000000-pop107_15\n"
     ]
    },
    {
     "name": "stderr",
     "output_type": "stream",
     "text": [
      "100%|██████████| 14/14 [00:00<00:00, 15.18it/s]\n"
     ]
    }
   ],
   "source": [
    "# Generate alternatives:\n",
    "# BY INCIDENCE: \n",
    "for scenario_name, scenario in scenarios_opt.items():\n",
    "    nv = no_vacc[scenario_name.split('-')[0]]\n",
    "    incid = nv[nv['comp'].isin(['E', 'P', 'I', 'A', 'Q', 'H', 'R'])].groupby('placeID').sum()\n",
    "    incid.sort_values('value', ascending=False)\n",
    "    print(scenario_name)\n",
    "    control_initial = np.zeros((M, N))\n",
    "    max_vacc_rate = np.zeros((M, N))\n",
    "    unvac_nd = np.copy(setup.pop_node)\n",
    "    vacc_total = np.zeros(N)\n",
    "\n",
    "    stockpile = 0\n",
    "    for k in range(N):\n",
    "        vacc_total[k] = scenario['newdoseperday']\n",
    "        stockpile += vacc_total[k]\n",
    "        for nd in range(M):\n",
    "            pop_nd = setup.pop_node[nd]\n",
    "            max_vacc_rate[nd, k] = eval(scenario['rate_fomula'])\n",
    "            to_allocate = stockpile * incid.loc[nd]['value'] / incid['value'].sum()\n",
    "            to_allocate = min(to_allocate, max_vacc_rate[nd, k], unvac_nd[nd] - 100)\n",
    "            control_initial[nd, k] = to_allocate\n",
    "            stockpile -= to_allocate\n",
    "            unvac_nd[nd] -= to_allocate\n",
    "                \n",
    "    p.apply_epicourse(setup, scenario['beta_mult'])\n",
    "\n",
    "    results, state_initial, yell, mob = COVIDVaccinationOCP.integrate(N,\n",
    "                                                                      setup=setup,\n",
    "                                                                      parameters=p,\n",
    "                                                                      controls=control_initial,\n",
    "                                                                      save_to=f'{outdir}{file_prefix}{scenario_name}-inc{nnodes}_{ndays}',\n",
    "                                                                      n_rk4_steps=n_int_steps)\n",
    "    results.set_index('date', drop=True, inplace=True)\n",
    "\n",
    "# BY POPULATION \n",
    "for scenario_name, scenario in scenarios_opt.items():\n",
    "    control_initial = np.zeros((M, N))\n",
    "    max_vacc_rate = np.zeros((M, N))\n",
    "    unvac_nd = np.copy(setup.pop_node)\n",
    "    vacc_total = np.zeros(N)\n",
    "\n",
    "    stockpile = 0\n",
    "    for k in range(N):\n",
    "        vacc_total[k] = scenario['newdoseperday']\n",
    "        stockpile += vacc_total[k]\n",
    "        for nd in range(M):\n",
    "            pop_nd = setup.pop_node[nd]\n",
    "            max_vacc_rate[nd, k] = eval(scenario['rate_fomula'])\n",
    "            to_allocate = stockpile * pop_nd / setup.pop_node.sum()\n",
    "            to_allocate = min(to_allocate, max_vacc_rate[nd, k], unvac_nd[nd] - 100)\n",
    "            control_initial[nd, k] = to_allocate\n",
    "            stockpile -= to_allocate\n",
    "            unvac_nd[nd] -= to_allocate\n",
    "    p.apply_epicourse(setup, scenario['beta_mult'])\n",
    "\n",
    "    results, state_initial, yell, mob = COVIDVaccinationOCP.integrate(N,\n",
    "                                                                      setup=setup,\n",
    "                                                                      parameters=p,\n",
    "                                                                      controls=control_initial,\n",
    "                                                                      save_to=f'{outdir}{file_prefix}{scenario_name}-pop{nnodes}_{ndays}',\n",
    "                                                                      n_rk4_steps=n_int_steps)\n",
    "    results.set_index('date', drop=True, inplace=True)"
   ]
  },
  {
   "cell_type": "code",
   "execution_count": null,
   "metadata": {},
   "outputs": [],
   "source": []
  },
  {
   "cell_type": "code",
   "execution_count": null,
   "metadata": {},
   "outputs": [],
   "source": []
  },
  {
   "cell_type": "code",
   "execution_count": 25,
   "metadata": {
    "execution": {
     "iopub.execute_input": "2021-01-12T09:11:42.169736Z",
     "iopub.status.busy": "2021-01-12T09:11:42.169493Z",
     "iopub.status.idle": "2021-01-12T09:11:42.173524Z",
     "shell.execute_reply": "2021-01-12T09:11:42.172808Z",
     "shell.execute_reply.started": "2021-01-12T09:11:42.169710Z"
    }
   },
   "outputs": [
    {
     "data": {
      "text/plain": [
       "['U', 'r1', 't2000000']"
      ]
     },
     "execution_count": 25,
     "metadata": {},
     "output_type": "execute_result"
    }
   ],
   "source": [
    "scenario_name.split('-')"
   ]
  },
  {
   "cell_type": "code",
   "execution_count": 14,
   "metadata": {
    "execution": {
     "iopub.execute_input": "2021-01-15T13:04:43.987607Z",
     "iopub.status.busy": "2021-01-15T13:04:43.987382Z",
     "iopub.status.idle": "2021-01-15T13:04:44.963256Z",
     "shell.execute_reply": "2021-01-15T13:04:44.962106Z",
     "shell.execute_reply.started": "2021-01-15T13:04:43.987579Z"
    }
   },
   "outputs": [],
   "source": [
    "scn_results = pd.DataFrame(columns=['newdoseperweek', 'method', 'infected'])\n",
    "methods = ['opi', 'inc', 'pop'] # 'opt'\n",
    "for met in methods:\n",
    "    for scenario_name, scenario in scenarios_opt.items():\n",
    "        max_vacc_rate, vacc_total, control_initial = build_scenario(setup, scenario)\n",
    "        md = pd.read_csv(f'{outdir}{file_prefix}{scenario_name}-{met}{nnodes}_{ndays}.csv', index_col= 'date', parse_dates=True)\n",
    "        infected = md[md['comp'].isin(['E', 'P', 'I', 'A', 'Q', 'H', 'R']) & (md.index == str(setup.end_date))]['value'].sum()\n",
    "        doses = md[md['comp']=='vacc']['value'].sum()\n",
    "        nv = no_vacc[scenario_name.split('-')[0]]\n",
    "        baseline_infected = nv[(nv['comp'].isin(['E', 'P', 'I', 'A', 'Q', 'H', 'R'])) & (nv.index == str(setup.end_date))]['value'].sum()\n",
    "        scn_results = pd.concat([scn_results, pd.DataFrame.from_dict({'newdoseperweek':[int(np.diff(vacc_total)[0:7].sum())],\n",
    "                                                                      'method': [met],\n",
    "                                                                      'infected':[infected],\n",
    "                                                                       'doses': [doses],\n",
    "                                                                       'scenario-beta': [scenario_name.split('-')[0]],\n",
    "                                                                       'scenario-rate': [scenario_name.split('-')[1]],\n",
    "                                                                       'scenario-tot': [scenario_name.split('-')[2]],\n",
    "                                                                       'averted': baseline_infected - infected\n",
    "                                                                     })])                      \n",
    "   \n",
    "scn_results['avertedpervacc'] = scn_results['averted']/scn_results['doses']"
   ]
  },
  {
   "cell_type": "code",
   "execution_count": 15,
   "metadata": {
    "execution": {
     "iopub.execute_input": "2021-01-15T13:04:44.966039Z",
     "iopub.status.busy": "2021-01-15T13:04:44.965514Z",
     "iopub.status.idle": "2021-01-15T13:04:44.979898Z",
     "shell.execute_reply": "2021-01-15T13:04:44.978562Z",
     "shell.execute_reply.started": "2021-01-15T13:04:44.965981Z"
    }
   },
   "outputs": [],
   "source": [
    "#scn_results.replace('opt', 'Optimal', inplace=True)\n",
    "scn_results.replace('opi', 'Optimal', inplace=True)\n",
    "scn_results.replace('int', 'Uniform', inplace=True)\n",
    "scn_results.replace('inc', 'Incidence', inplace=True)\n",
    "scn_results.replace('pop', 'Population', inplace=True)"
   ]
  },
  {
   "cell_type": "code",
   "execution_count": 95,
   "metadata": {
    "execution": {
     "iopub.execute_input": "2021-01-13T09:20:37.228989Z",
     "iopub.status.busy": "2021-01-13T09:20:37.228758Z",
     "iopub.status.idle": "2021-01-13T09:20:37.244742Z",
     "shell.execute_reply": "2021-01-13T09:20:37.244049Z",
     "shell.execute_reply.started": "2021-01-13T09:20:37.228962Z"
    }
   },
   "outputs": [
    {
     "data": {
      "text/html": [
       "<div>\n",
       "<style scoped>\n",
       "    .dataframe tbody tr th:only-of-type {\n",
       "        vertical-align: middle;\n",
       "    }\n",
       "\n",
       "    .dataframe tbody tr th {\n",
       "        vertical-align: top;\n",
       "    }\n",
       "\n",
       "    .dataframe thead th {\n",
       "        text-align: right;\n",
       "    }\n",
       "</style>\n",
       "<table border=\"1\" class=\"dataframe\">\n",
       "  <thead>\n",
       "    <tr style=\"text-align: right;\">\n",
       "      <th></th>\n",
       "      <th>newdoseperweek</th>\n",
       "      <th>method</th>\n",
       "      <th>infected</th>\n",
       "      <th>doses</th>\n",
       "      <th>scenario-beta</th>\n",
       "      <th>scenario-rate</th>\n",
       "      <th>scenario-tot</th>\n",
       "      <th>averted</th>\n",
       "      <th>avertedpervacc</th>\n",
       "    </tr>\n",
       "  </thead>\n",
       "  <tbody>\n",
       "    <tr>\n",
       "      <th>0</th>\n",
       "      <td>125000</td>\n",
       "      <td>Optimal</td>\n",
       "      <td>4.470706e+06</td>\n",
       "      <td>1.117460e+06</td>\n",
       "      <td>L</td>\n",
       "      <td>r15</td>\n",
       "      <td>t125000</td>\n",
       "      <td>45294.541650</td>\n",
       "      <td>0.040533</td>\n",
       "    </tr>\n",
       "    <tr>\n",
       "      <th>0</th>\n",
       "      <td>250000</td>\n",
       "      <td>Optimal</td>\n",
       "      <td>5.774816e+06</td>\n",
       "      <td>2.234921e+06</td>\n",
       "      <td>U</td>\n",
       "      <td>r15</td>\n",
       "      <td>t250000</td>\n",
       "      <td>338560.786166</td>\n",
       "      <td>0.151487</td>\n",
       "    </tr>\n",
       "    <tr>\n",
       "      <th>0</th>\n",
       "      <td>250000</td>\n",
       "      <td>Optimal</td>\n",
       "      <td>4.450317e+06</td>\n",
       "      <td>2.234921e+06</td>\n",
       "      <td>L</td>\n",
       "      <td>r15</td>\n",
       "      <td>t250000</td>\n",
       "      <td>65683.651009</td>\n",
       "      <td>0.029390</td>\n",
       "    </tr>\n",
       "    <tr>\n",
       "      <th>0</th>\n",
       "      <td>2000000</td>\n",
       "      <td>Optimal</td>\n",
       "      <td>5.285452e+06</td>\n",
       "      <td>1.664603e+07</td>\n",
       "      <td>U</td>\n",
       "      <td>r15</td>\n",
       "      <td>t2000000</td>\n",
       "      <td>827925.057168</td>\n",
       "      <td>0.049737</td>\n",
       "    </tr>\n",
       "    <tr>\n",
       "      <th>0</th>\n",
       "      <td>125000</td>\n",
       "      <td>Incidence</td>\n",
       "      <td>4.506508e+06</td>\n",
       "      <td>7.933787e+05</td>\n",
       "      <td>L</td>\n",
       "      <td>r15</td>\n",
       "      <td>t125000</td>\n",
       "      <td>9492.711901</td>\n",
       "      <td>0.011965</td>\n",
       "    </tr>\n",
       "    <tr>\n",
       "      <th>0</th>\n",
       "      <td>250000</td>\n",
       "      <td>Incidence</td>\n",
       "      <td>6.002332e+06</td>\n",
       "      <td>1.586699e+06</td>\n",
       "      <td>U</td>\n",
       "      <td>r15</td>\n",
       "      <td>t250000</td>\n",
       "      <td>111044.575507</td>\n",
       "      <td>0.069985</td>\n",
       "    </tr>\n",
       "    <tr>\n",
       "      <th>0</th>\n",
       "      <td>250000</td>\n",
       "      <td>Incidence</td>\n",
       "      <td>4.497352e+06</td>\n",
       "      <td>1.586757e+06</td>\n",
       "      <td>L</td>\n",
       "      <td>r15</td>\n",
       "      <td>t250000</td>\n",
       "      <td>18648.743154</td>\n",
       "      <td>0.011753</td>\n",
       "    </tr>\n",
       "    <tr>\n",
       "      <th>0</th>\n",
       "      <td>2000000</td>\n",
       "      <td>Incidence</td>\n",
       "      <td>5.456308e+06</td>\n",
       "      <td>1.267918e+07</td>\n",
       "      <td>U</td>\n",
       "      <td>r15</td>\n",
       "      <td>t2000000</td>\n",
       "      <td>657069.231192</td>\n",
       "      <td>0.051823</td>\n",
       "    </tr>\n",
       "    <tr>\n",
       "      <th>0</th>\n",
       "      <td>125000</td>\n",
       "      <td>Population</td>\n",
       "      <td>4.508006e+06</td>\n",
       "      <td>7.933495e+05</td>\n",
       "      <td>L</td>\n",
       "      <td>r15</td>\n",
       "      <td>t125000</td>\n",
       "      <td>7995.194073</td>\n",
       "      <td>0.010078</td>\n",
       "    </tr>\n",
       "    <tr>\n",
       "      <th>0</th>\n",
       "      <td>250000</td>\n",
       "      <td>Population</td>\n",
       "      <td>6.032555e+06</td>\n",
       "      <td>1.586699e+06</td>\n",
       "      <td>U</td>\n",
       "      <td>r15</td>\n",
       "      <td>t250000</td>\n",
       "      <td>80822.379842</td>\n",
       "      <td>0.050937</td>\n",
       "    </tr>\n",
       "    <tr>\n",
       "      <th>0</th>\n",
       "      <td>250000</td>\n",
       "      <td>Population</td>\n",
       "      <td>4.500200e+06</td>\n",
       "      <td>1.586699e+06</td>\n",
       "      <td>L</td>\n",
       "      <td>r15</td>\n",
       "      <td>t250000</td>\n",
       "      <td>15801.206399</td>\n",
       "      <td>0.009959</td>\n",
       "    </tr>\n",
       "    <tr>\n",
       "      <th>0</th>\n",
       "      <td>2000000</td>\n",
       "      <td>Population</td>\n",
       "      <td>5.569057e+06</td>\n",
       "      <td>1.269359e+07</td>\n",
       "      <td>U</td>\n",
       "      <td>r15</td>\n",
       "      <td>t2000000</td>\n",
       "      <td>544319.783827</td>\n",
       "      <td>0.042881</td>\n",
       "    </tr>\n",
       "  </tbody>\n",
       "</table>\n",
       "</div>"
      ],
      "text/plain": [
       "   newdoseperweek      method      infected         doses scenario-beta  \\\n",
       "0          125000     Optimal  4.470706e+06  1.117460e+06             L   \n",
       "0          250000     Optimal  5.774816e+06  2.234921e+06             U   \n",
       "0          250000     Optimal  4.450317e+06  2.234921e+06             L   \n",
       "0         2000000     Optimal  5.285452e+06  1.664603e+07             U   \n",
       "0          125000   Incidence  4.506508e+06  7.933787e+05             L   \n",
       "0          250000   Incidence  6.002332e+06  1.586699e+06             U   \n",
       "0          250000   Incidence  4.497352e+06  1.586757e+06             L   \n",
       "0         2000000   Incidence  5.456308e+06  1.267918e+07             U   \n",
       "0          125000  Population  4.508006e+06  7.933495e+05             L   \n",
       "0          250000  Population  6.032555e+06  1.586699e+06             U   \n",
       "0          250000  Population  4.500200e+06  1.586699e+06             L   \n",
       "0         2000000  Population  5.569057e+06  1.269359e+07             U   \n",
       "\n",
       "  scenario-rate scenario-tot        averted  avertedpervacc  \n",
       "0           r15      t125000   45294.541650        0.040533  \n",
       "0           r15      t250000  338560.786166        0.151487  \n",
       "0           r15      t250000   65683.651009        0.029390  \n",
       "0           r15     t2000000  827925.057168        0.049737  \n",
       "0           r15      t125000    9492.711901        0.011965  \n",
       "0           r15      t250000  111044.575507        0.069985  \n",
       "0           r15      t250000   18648.743154        0.011753  \n",
       "0           r15     t2000000  657069.231192        0.051823  \n",
       "0           r15      t125000    7995.194073        0.010078  \n",
       "0           r15      t250000   80822.379842        0.050937  \n",
       "0           r15      t250000   15801.206399        0.009959  \n",
       "0           r15     t2000000  544319.783827        0.042881  "
      ]
     },
     "execution_count": 95,
     "metadata": {},
     "output_type": "execute_result"
    }
   ],
   "source": [
    "scn_results[scn_results['scenario-rate']=='r15']"
   ]
  },
  {
   "cell_type": "code",
   "execution_count": 62,
   "metadata": {
    "execution": {
     "iopub.execute_input": "2021-01-02T16:21:42.417634Z",
     "iopub.status.busy": "2021-01-02T16:21:42.417402Z",
     "iopub.status.idle": "2021-01-02T16:21:42.421120Z",
     "shell.execute_reply": "2021-01-02T16:21:42.420434Z",
     "shell.execute_reply.started": "2021-01-02T16:21:42.417608Z"
    }
   },
   "outputs": [],
   "source": [
    "#scn_results['total_vaccB'] = [f\"{i/1e6:.0f}M\" for i in scn_results['total_vacc']]"
   ]
  },
  {
   "cell_type": "code",
   "execution_count": 18,
   "metadata": {
    "execution": {
     "iopub.execute_input": "2021-01-15T13:06:58.292966Z",
     "iopub.status.busy": "2021-01-15T13:06:58.292589Z",
     "iopub.status.idle": "2021-01-15T13:06:59.043430Z",
     "shell.execute_reply": "2021-01-15T13:06:59.041793Z",
     "shell.execute_reply.started": "2021-01-15T13:06:58.292914Z"
    }
   },
   "outputs": [
    {
     "data": {
      "image/png": "[encoded data removed]",
      "text/plain": [
       "<Figure size 595.75x500 with 1 Axes>"
      ]
     },
     "metadata": {},
     "output_type": "display_data"
    }
   ],
   "source": [
    "#fig, ax = plt.subplots(figsize=(10,10))\n",
    "sns.set(rc={'figure.figsize':(10,5), 'figure.dpi':50})\n",
    "sns.set_theme(style=\"whitegrid\")\n",
    "sns.set_context(\"talk\")\n",
    "\n",
    "g = sns.catplot(\n",
    "    data=scn_results,#[(scn_results['scenario-rate']=='r2') & (scn_results['scenario-beta']=='U')],\n",
    "    kind=\"bar\",\n",
    "    x=\"newdoseperweek\",\n",
    "    y=\"avertedpervacc\", \n",
    "    #y=\"averted\",\n",
    "    hue=\"method\",\n",
    "    palette=\"rocket\",\n",
    "    #alpha=.9, \n",
    "    height=10,\n",
    ")\n",
    "g.despine(left=True)\n",
    "#g.fig.suptitle(f'Simulation on {setup.ndays} days, rate of 7.5M per month')\n",
    "g.set_axis_labels(\"Doses\", \"Averted Cases\")\n",
    "g.legend.set_title(\"Allocation\")\n",
    "#g.set_xticklabels([str(i/1e6)+'M' for i in np.sort(scn_results['total_vacc'].unique())])"
   ]
  },
  {
   "cell_type": "code",
   "execution_count": 44,
   "metadata": {
    "execution": {
     "iopub.execute_input": "2021-01-02T16:05:46.660262Z",
     "iopub.status.busy": "2021-01-02T16:05:46.660033Z",
     "iopub.status.idle": "2021-01-02T16:05:46.664624Z",
     "shell.execute_reply": "2021-01-02T16:05:46.663925Z",
     "shell.execute_reply.started": "2021-01-02T16:05:46.660236Z"
    }
   },
   "outputs": [
    {
     "data": {
      "text/plain": [
       "['2.0M', '5.0M', '10.0M', '15.0M']"
      ]
     },
     "execution_count": 44,
     "metadata": {},
     "output_type": "execute_result"
    }
   ],
   "source": [
    "[f\"{str(i/1e6)}M\" for i in np.sort(scn_results['total_vacc'].unique())]"
   ]
  },
  {
   "cell_type": "code",
   "execution_count": null,
   "metadata": {
    "execution": {
     "iopub.status.busy": "2021-01-02T14:32:27.207017Z",
     "iopub.status.idle": "2021-01-02T14:32:27.207235Z"
    }
   },
   "outputs": [],
   "source": []
  },
  {
   "cell_type": "code",
   "execution_count": 32,
   "metadata": {
    "execution": {
     "iopub.execute_input": "2021-01-12T09:14:24.565479Z",
     "iopub.status.busy": "2021-01-12T09:14:24.565283Z",
     "iopub.status.idle": "2021-01-12T09:14:24.582530Z",
     "shell.execute_reply": "2021-01-12T09:14:24.581479Z",
     "shell.execute_reply.started": "2021-01-12T09:14:24.565456Z"
    }
   },
   "outputs": [
    {
     "ename": "ValueError",
     "evalue": "Could not interpret value `total_vacc` for parameter `x`",
     "output_type": "error",
     "traceback": [
      "\u001b[0;31m---------------------------------------------------------------------------\u001b[0m",
      "\u001b[0;31mValueError\u001b[0m                                Traceback (most recent call last)",
      "\u001b[0;32m<ipython-input-32-a29ca08ac07b>\u001b[0m in \u001b[0;36m<module>\u001b[0;34m()\u001b[0m\n\u001b[1;32m      2\u001b[0m     \u001b[0mdata\u001b[0m\u001b[0;34m=\u001b[0m\u001b[0mscn_results\u001b[0m\u001b[0;34m,\u001b[0m\u001b[0;34m\u001b[0m\u001b[0;34m\u001b[0m\u001b[0m\n\u001b[1;32m      3\u001b[0m     \u001b[0mx\u001b[0m\u001b[0;34m=\u001b[0m\u001b[0;34m\"total_vacc\"\u001b[0m\u001b[0;34m,\u001b[0m \u001b[0my\u001b[0m\u001b[0;34m=\u001b[0m\u001b[0;34m\"averted\"\u001b[0m\u001b[0;34m,\u001b[0m \u001b[0mhue\u001b[0m\u001b[0;34m=\u001b[0m\u001b[0;34m\"method\"\u001b[0m\u001b[0;34m,\u001b[0m\u001b[0;34m\u001b[0m\u001b[0;34m\u001b[0m\u001b[0m\n\u001b[0;32m----> 4\u001b[0;31m     \u001b[0mpalette\u001b[0m\u001b[0;34m=\u001b[0m\u001b[0;34m\"rocket\"\u001b[0m\u001b[0;34m,\u001b[0m \u001b[0mmarker\u001b[0m \u001b[0;34m=\u001b[0m \u001b[0;34m'o'\u001b[0m\u001b[0;34m,\u001b[0m\u001b[0;34m\u001b[0m\u001b[0;34m\u001b[0m\u001b[0m\n\u001b[0m\u001b[1;32m      5\u001b[0m     \u001b[0;31m#alpha=.9,\u001b[0m\u001b[0;34m\u001b[0m\u001b[0;34m\u001b[0m\u001b[0;34m\u001b[0m\u001b[0m\n\u001b[1;32m      6\u001b[0m )\n",
      "\u001b[0;32m/Users/chadi/opt/miniconda3/envs/ocp-covid/lib/python3.7/site-packages/seaborn/_decorators.py\u001b[0m in \u001b[0;36minner_f\u001b[0;34m(*args, **kwargs)\u001b[0m\n\u001b[1;32m     44\u001b[0m             )\n\u001b[1;32m     45\u001b[0m         \u001b[0mkwargs\u001b[0m\u001b[0;34m.\u001b[0m\u001b[0mupdate\u001b[0m\u001b[0;34m(\u001b[0m\u001b[0;34m{\u001b[0m\u001b[0mk\u001b[0m\u001b[0;34m:\u001b[0m \u001b[0marg\u001b[0m \u001b[0;32mfor\u001b[0m \u001b[0mk\u001b[0m\u001b[0;34m,\u001b[0m \u001b[0marg\u001b[0m \u001b[0;32min\u001b[0m \u001b[0mzip\u001b[0m\u001b[0;34m(\u001b[0m\u001b[0msig\u001b[0m\u001b[0;34m.\u001b[0m\u001b[0mparameters\u001b[0m\u001b[0;34m,\u001b[0m \u001b[0margs\u001b[0m\u001b[0;34m)\u001b[0m\u001b[0;34m}\u001b[0m\u001b[0;34m)\u001b[0m\u001b[0;34m\u001b[0m\u001b[0;34m\u001b[0m\u001b[0m\n\u001b[0;32m---> 46\u001b[0;31m         \u001b[0;32mreturn\u001b[0m \u001b[0mf\u001b[0m\u001b[0;34m(\u001b[0m\u001b[0;34m**\u001b[0m\u001b[0mkwargs\u001b[0m\u001b[0;34m)\u001b[0m\u001b[0;34m\u001b[0m\u001b[0;34m\u001b[0m\u001b[0m\n\u001b[0m\u001b[1;32m     47\u001b[0m     \u001b[0;32mreturn\u001b[0m \u001b[0minner_f\u001b[0m\u001b[0;34m\u001b[0m\u001b[0;34m\u001b[0m\u001b[0m\n\u001b[1;32m     48\u001b[0m \u001b[0;34m\u001b[0m\u001b[0m\n",
      "\u001b[0;32m/Users/chadi/opt/miniconda3/envs/ocp-covid/lib/python3.7/site-packages/seaborn/relational.py\u001b[0m in \u001b[0;36mlineplot\u001b[0;34m(x, y, hue, size, style, data, palette, hue_order, hue_norm, sizes, size_order, size_norm, dashes, markers, style_order, units, estimator, ci, n_boot, seed, sort, err_style, err_kws, legend, ax, **kwargs)\u001b[0m\n\u001b[1;32m    679\u001b[0m         \u001b[0mdata\u001b[0m\u001b[0;34m=\u001b[0m\u001b[0mdata\u001b[0m\u001b[0;34m,\u001b[0m \u001b[0mvariables\u001b[0m\u001b[0;34m=\u001b[0m\u001b[0mvariables\u001b[0m\u001b[0;34m,\u001b[0m\u001b[0;34m\u001b[0m\u001b[0;34m\u001b[0m\u001b[0m\n\u001b[1;32m    680\u001b[0m         \u001b[0mestimator\u001b[0m\u001b[0;34m=\u001b[0m\u001b[0mestimator\u001b[0m\u001b[0;34m,\u001b[0m \u001b[0mci\u001b[0m\u001b[0;34m=\u001b[0m\u001b[0mci\u001b[0m\u001b[0;34m,\u001b[0m \u001b[0mn_boot\u001b[0m\u001b[0;34m=\u001b[0m\u001b[0mn_boot\u001b[0m\u001b[0;34m,\u001b[0m \u001b[0mseed\u001b[0m\u001b[0;34m=\u001b[0m\u001b[0mseed\u001b[0m\u001b[0;34m,\u001b[0m\u001b[0;34m\u001b[0m\u001b[0;34m\u001b[0m\u001b[0m\n\u001b[0;32m--> 681\u001b[0;31m         \u001b[0msort\u001b[0m\u001b[0;34m=\u001b[0m\u001b[0msort\u001b[0m\u001b[0;34m,\u001b[0m \u001b[0merr_style\u001b[0m\u001b[0;34m=\u001b[0m\u001b[0merr_style\u001b[0m\u001b[0;34m,\u001b[0m \u001b[0merr_kws\u001b[0m\u001b[0;34m=\u001b[0m\u001b[0merr_kws\u001b[0m\u001b[0;34m,\u001b[0m \u001b[0mlegend\u001b[0m\u001b[0;34m=\u001b[0m\u001b[0mlegend\u001b[0m\u001b[0;34m,\u001b[0m\u001b[0;34m\u001b[0m\u001b[0;34m\u001b[0m\u001b[0m\n\u001b[0m\u001b[1;32m    682\u001b[0m     )\n\u001b[1;32m    683\u001b[0m \u001b[0;34m\u001b[0m\u001b[0m\n",
      "\u001b[0;32m/Users/chadi/opt/miniconda3/envs/ocp-covid/lib/python3.7/site-packages/seaborn/relational.py\u001b[0m in \u001b[0;36m__init__\u001b[0;34m(self, data, variables, estimator, ci, n_boot, seed, sort, err_style, err_kws, legend)\u001b[0m\n\u001b[1;32m    365\u001b[0m         )\n\u001b[1;32m    366\u001b[0m \u001b[0;34m\u001b[0m\u001b[0m\n\u001b[0;32m--> 367\u001b[0;31m         \u001b[0msuper\u001b[0m\u001b[0;34m(\u001b[0m\u001b[0;34m)\u001b[0m\u001b[0;34m.\u001b[0m\u001b[0m__init__\u001b[0m\u001b[0;34m(\u001b[0m\u001b[0mdata\u001b[0m\u001b[0;34m=\u001b[0m\u001b[0mdata\u001b[0m\u001b[0;34m,\u001b[0m \u001b[0mvariables\u001b[0m\u001b[0;34m=\u001b[0m\u001b[0mvariables\u001b[0m\u001b[0;34m)\u001b[0m\u001b[0;34m\u001b[0m\u001b[0;34m\u001b[0m\u001b[0m\n\u001b[0m\u001b[1;32m    368\u001b[0m \u001b[0;34m\u001b[0m\u001b[0m\n\u001b[1;32m    369\u001b[0m         \u001b[0mself\u001b[0m\u001b[0;34m.\u001b[0m\u001b[0mestimator\u001b[0m \u001b[0;34m=\u001b[0m \u001b[0mestimator\u001b[0m\u001b[0;34m\u001b[0m\u001b[0;34m\u001b[0m\u001b[0m\n",
      "\u001b[0;32m/Users/chadi/opt/miniconda3/envs/ocp-covid/lib/python3.7/site-packages/seaborn/_core.py\u001b[0m in \u001b[0;36m__init__\u001b[0;34m(self, data, variables)\u001b[0m\n\u001b[1;32m    602\u001b[0m     \u001b[0;32mdef\u001b[0m \u001b[0m__init__\u001b[0m\u001b[0;34m(\u001b[0m\u001b[0mself\u001b[0m\u001b[0;34m,\u001b[0m \u001b[0mdata\u001b[0m\u001b[0;34m=\u001b[0m\u001b[0;32mNone\u001b[0m\u001b[0;34m,\u001b[0m \u001b[0mvariables\u001b[0m\u001b[0;34m=\u001b[0m\u001b[0;34m{\u001b[0m\u001b[0;34m}\u001b[0m\u001b[0;34m)\u001b[0m\u001b[0;34m:\u001b[0m\u001b[0;34m\u001b[0m\u001b[0;34m\u001b[0m\u001b[0m\n\u001b[1;32m    603\u001b[0m \u001b[0;34m\u001b[0m\u001b[0m\n\u001b[0;32m--> 604\u001b[0;31m         \u001b[0mself\u001b[0m\u001b[0;34m.\u001b[0m\u001b[0massign_variables\u001b[0m\u001b[0;34m(\u001b[0m\u001b[0mdata\u001b[0m\u001b[0;34m,\u001b[0m \u001b[0mvariables\u001b[0m\u001b[0;34m)\u001b[0m\u001b[0;34m\u001b[0m\u001b[0;34m\u001b[0m\u001b[0m\n\u001b[0m\u001b[1;32m    605\u001b[0m \u001b[0;34m\u001b[0m\u001b[0m\n\u001b[1;32m    606\u001b[0m         \u001b[0;32mfor\u001b[0m \u001b[0mvar\u001b[0m\u001b[0;34m,\u001b[0m \u001b[0mcls\u001b[0m \u001b[0;32min\u001b[0m \u001b[0mself\u001b[0m\u001b[0;34m.\u001b[0m\u001b[0m_semantic_mappings\u001b[0m\u001b[0;34m.\u001b[0m\u001b[0mitems\u001b[0m\u001b[0;34m(\u001b[0m\u001b[0;34m)\u001b[0m\u001b[0;34m:\u001b[0m\u001b[0;34m\u001b[0m\u001b[0;34m\u001b[0m\u001b[0m\n",
      "\u001b[0;32m/Users/chadi/opt/miniconda3/envs/ocp-covid/lib/python3.7/site-packages/seaborn/_core.py\u001b[0m in \u001b[0;36massign_variables\u001b[0;34m(self, data, variables)\u001b[0m\n\u001b[1;32m    666\u001b[0m             \u001b[0mself\u001b[0m\u001b[0;34m.\u001b[0m\u001b[0minput_format\u001b[0m \u001b[0;34m=\u001b[0m \u001b[0;34m\"long\"\u001b[0m\u001b[0;34m\u001b[0m\u001b[0;34m\u001b[0m\u001b[0m\n\u001b[1;32m    667\u001b[0m             plot_data, variables = self._assign_variables_longform(\n\u001b[0;32m--> 668\u001b[0;31m                 \u001b[0mdata\u001b[0m\u001b[0;34m,\u001b[0m \u001b[0;34m**\u001b[0m\u001b[0mvariables\u001b[0m\u001b[0;34m,\u001b[0m\u001b[0;34m\u001b[0m\u001b[0;34m\u001b[0m\u001b[0m\n\u001b[0m\u001b[1;32m    669\u001b[0m             )\n\u001b[1;32m    670\u001b[0m \u001b[0;34m\u001b[0m\u001b[0m\n",
      "\u001b[0;32m/Users/chadi/opt/miniconda3/envs/ocp-covid/lib/python3.7/site-packages/seaborn/_core.py\u001b[0m in \u001b[0;36m_assign_variables_longform\u001b[0;34m(self, data, **kwargs)\u001b[0m\n\u001b[1;32m    885\u001b[0m                     \u001b[0;31m# We don't know what this name means\u001b[0m\u001b[0;34m\u001b[0m\u001b[0;34m\u001b[0m\u001b[0;34m\u001b[0m\u001b[0m\n\u001b[1;32m    886\u001b[0m                     \u001b[0merr\u001b[0m \u001b[0;34m=\u001b[0m \u001b[0;34mf\"Could not interpret value `{val}` for parameter `{key}`\"\u001b[0m\u001b[0;34m\u001b[0m\u001b[0;34m\u001b[0m\u001b[0m\n\u001b[0;32m--> 887\u001b[0;31m                     \u001b[0;32mraise\u001b[0m \u001b[0mValueError\u001b[0m\u001b[0;34m(\u001b[0m\u001b[0merr\u001b[0m\u001b[0;34m)\u001b[0m\u001b[0;34m\u001b[0m\u001b[0;34m\u001b[0m\u001b[0m\n\u001b[0m\u001b[1;32m    888\u001b[0m \u001b[0;34m\u001b[0m\u001b[0m\n\u001b[1;32m    889\u001b[0m             \u001b[0;32melse\u001b[0m\u001b[0;34m:\u001b[0m\u001b[0;34m\u001b[0m\u001b[0;34m\u001b[0m\u001b[0m\n",
      "\u001b[0;31mValueError\u001b[0m: Could not interpret value `total_vacc` for parameter `x`"
     ]
    }
   ],
   "source": [
    "g = sns.lineplot(\n",
    "    data=scn_results, \n",
    "    x=\"total_vacc\", y=\"averted\", hue=\"method\",\n",
    "    palette=\"rocket\", marker = 'o', \n",
    "    #alpha=.9, \n",
    ")"
   ]
  },
  {
   "cell_type": "code",
   "execution_count": null,
   "metadata": {
    "execution": {
     "iopub.status.busy": "2021-01-02T14:32:27.209520Z",
     "iopub.status.idle": "2021-01-02T14:32:27.209792Z"
    }
   },
   "outputs": [],
   "source": [
    "#fig, ax = plt.subplots(figsize=(10,10))\n",
    "sns.set(rc={'figure.figsize':(10,5), 'figure.dpi':50})\n",
    "sns.set_theme(style=\"whitegrid\")\n",
    "sns.set_context(\"talk\")\n",
    "# Draw a nested barplot by species and sex\n",
    "g = sns.catplot(\n",
    "    data=scn_results, kind=\"bar\",\n",
    "    x=\"method\", \n",
    "    #y=\"avertedpervacc\", \n",
    "    #x='total_vacc',\n",
    "    y=\"averted\",\n",
    "    hue=\"method\",\n",
    "    col=\"total_vaccB\",\n",
    "    palette=\"viridis\",\n",
    "    #alpha=.9, \n",
    "    height=5,\n",
    "    aspect = .5,\n",
    "    #width = 10\n",
    ")\n",
    "g.despine(left=True)\n",
    "#g.fig.suptitle(f'Simulation on {setup.ndays} days, rate of 7.5M per month')\n",
    "g.set_axis_labels(\"Strategy\", \"Averted Cases\")\n",
    "#g.legend.set_title(\"Allocation\")\n",
    "g.set_xticklabels([str(i/1e6)+'M' for i in np.sort(scn_results['total_vacc'].unique())])\n",
    "(g.set_axis_labels(\"\", \"Averted Cases\")\n",
    "#.set_xticklabels([\"Men\", \"Women\", \"Children\"])\n",
    ".set_titles(\"{col_name}\")\n",
    "#.set(ylim=(0, 1))\n",
    ".despine(left=True))\n",
    "g.set_xticklabels(rotation=-90)"
   ]
  },
  {
   "cell_type": "code",
   "execution_count": null,
   "metadata": {
    "execution": {
     "iopub.status.busy": "2021-01-02T14:32:27.210702Z",
     "iopub.status.idle": "2021-01-02T14:32:27.210926Z"
    }
   },
   "outputs": [],
   "source": []
  },
  {
   "cell_type": "code",
   "execution_count": null,
   "metadata": {
    "execution": {
     "iopub.status.busy": "2021-01-02T14:32:27.211840Z",
     "iopub.status.idle": "2021-01-02T14:32:27.212119Z"
    }
   },
   "outputs": [],
   "source": [
    "g = sns.catplot(\n",
    "    data=scn_results, kind=\"point\",\n",
    "    x=\"total_vacc\", y=\"averted\", hue=\"method\",\n",
    "    palette=\"rocket\",\n",
    "    #alpha=.9, \n",
    "    height=10,\n",
    ")\n",
    "g.despine(left=True)\n",
    "g.set_axis_labels(\"\", \"Averted Cases\")\n",
    "g.legend.set_title(\"Allocation\")\n",
    "g.set_xticklabels([str(i/1e6)+'M' for i in np.sort(scn_results['total_vacc'].unique())])"
   ]
  },
  {
   "cell_type": "code",
   "execution_count": null,
   "metadata": {},
   "outputs": [],
   "source": []
  }
 ],
 "metadata": {
  "kernelspec": {
   "display_name": "Python (ocp-covid)",
   "language": "python",
   "name": "ocp-covid"
  },
  "language_info": {
   "codemirror_mode": {
    "name": "ipython",
    "version": 3
   },
   "file_extension": ".py",
   "mimetype": "text/x-python",
   "name": "python",
   "nbconvert_exporter": "python",
   "pygments_lexer": "ipython3",
   "version": "3.7.9"
  }
 },
 "nbformat": 4,
 "nbformat_minor": 4
}
