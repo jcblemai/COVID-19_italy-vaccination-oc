{
 "cells": [
  {
   "cell_type": "markdown",
   "metadata": {
    "execution": {
     "iopub.execute_input": "2020-12-22T17:15:12.988706Z",
     "iopub.status.busy": "2020-12-22T17:15:12.988298Z",
     "iopub.status.idle": "2020-12-22T17:15:13.230048Z",
     "shell.execute_reply": "2020-12-22T17:15:13.228271Z",
     "shell.execute_reply.started": "2020-12-22T17:15:12.988665Z"
    }
   },
   "source": [
    "# Comparison of scenarios\n",
    "\n",
    "1. re"
   ]
  },
  {
   "cell_type": "code",
   "execution_count": 1,
   "metadata": {
    "execution": {
     "iopub.execute_input": "2021-01-20T16:12:18.980972Z",
     "iopub.status.busy": "2021-01-20T16:12:18.980685Z",
     "iopub.status.idle": "2021-01-20T16:12:20.838013Z",
     "shell.execute_reply": "2021-01-20T16:12:20.837346Z",
     "shell.execute_reply.started": "2021-01-20T16:12:18.980891Z"
    }
   },
   "outputs": [
    {
     "name": "stdout",
     "output_type": "stream",
     "text": [
      "Loaded Italy Setup with 107 nodes.\n",
      "Loaded Italy Setup with 107 nodes.\n"
     ]
    },
    {
     "data": {
      "text/plain": [
       "dict_keys(['U-r1-t125000-id0', 'L-r1-t125000-id1', 'U-r2-t125000-id2', 'L-r2-t125000-id3', 'U-r15-t125000-id4', 'L-r15-t125000-id5', 'U-r1-t250000-id6', 'L-r1-t250000-id7', 'U-r2-t250000-id8', 'L-r2-t250000-id9', 'U-r15-t250000-id10', 'L-r15-t250000-id11', 'U-r1-t479700-id12', 'L-r1-t479700-id13', 'U-r2-t479700-id14', 'L-r2-t479700-id15', 'U-r15-t479700-id16', 'L-r15-t479700-id17', 'U-r1-t1000000-id18', 'L-r1-t1000000-id19', 'U-r2-t1000000-id20', 'L-r2-t1000000-id21', 'U-r15-t1000000-id22', 'L-r15-t1000000-id23', 'U-r1-t2000000-id24', 'L-r1-t2000000-id25', 'U-r2-t2000000-id26', 'L-r2-t2000000-id27', 'U-r15-t2000000-id28'])"
      ]
     },
     "execution_count": 1,
     "metadata": {},
     "output_type": "execute_result"
    }
   ],
   "source": [
    "import copy\n",
    "import matplotlib as mpl\n",
    "import matplotlib.pyplot as plt\n",
    "import numpy as np\n",
    "import pandas as pd\n",
    "import networkx\n",
    "from ItalySetup import ItalySetup\n",
    "from covidOCP import COVIDVaccinationOCP, COVIDParametersOCP\n",
    "from main import pick_scenario, build_scenario\n",
    "import seaborn as sns\n",
    "import datetime\n",
    "import pickle\n",
    "import os\n",
    "\n",
    "nx = 9\n",
    "states_names = ['S', 'E', 'P', 'I', 'A', 'Q', 'H', 'R', 'V']\n",
    "when = 'future'\n",
    "file_prefix = f'week'\n",
    "outdir = '2021-01-19-107_30/'\n",
    "\n",
    "n_int_steps = 6\n",
    "nnodes = 107  # nodes\n",
    "ndays_ocp = 30\n",
    "ndays = 90\n",
    "\n",
    "setup = ItalySetup(nnodes, ndays, when)\n",
    "setup_ocp = ItalySetup(nnodes, ndays, when)\n",
    "M = setup.nnodes\n",
    "N = len(setup.model_days) - 1\n",
    "\n",
    "with open(f'italy-data/parameters_{nnodes}_{when}.pkl', 'rb') as inp:\n",
    "    p = pickle.load(inp)\n",
    "    \n",
    "os.makedirs('model_output/scenarios', exist_ok=True)\n",
    "\n",
    "scenarios = {pick_scenario(setup, i)['name']:pick_scenario(setup, i) for i in np.arange(29)}\n",
    "scenarios.keys()"
   ]
  },
  {
   "cell_type": "code",
   "execution_count": 2,
   "metadata": {
    "execution": {
     "iopub.execute_input": "2021-01-20T16:12:21.668941Z",
     "iopub.status.busy": "2021-01-20T16:12:21.668705Z",
     "iopub.status.idle": "2021-01-20T16:12:21.672852Z",
     "shell.execute_reply": "2021-01-20T16:12:21.672101Z",
     "shell.execute_reply.started": "2021-01-20T16:12:21.668916Z"
    }
   },
   "outputs": [
    {
     "name": "stdout",
     "output_type": "stream",
     "text": [
      "4\n"
     ]
    }
   ],
   "source": [
    "# Choose a subset of scenarios:\n",
    "pick = 'L-r15'\n",
    "scenarios = {k:v for (k,v) in scenarios.items() if pick in k}\n",
    "print(len(scenarios))"
   ]
  },
  {
   "cell_type": "code",
   "execution_count": null,
   "metadata": {},
   "outputs": [],
   "source": []
  },
  {
   "cell_type": "code",
   "execution_count": 5,
   "metadata": {
    "execution": {
     "iopub.execute_input": "2021-01-20T16:13:31.738036Z",
     "iopub.status.busy": "2021-01-20T16:13:31.737809Z",
     "iopub.status.idle": "2021-01-20T16:15:11.489656Z",
     "shell.execute_reply": "2021-01-20T16:15:11.489046Z",
     "shell.execute_reply.started": "2021-01-20T16:13:31.738010Z"
    }
   },
   "outputs": [
    {
     "name": "stdout",
     "output_type": "stream",
     "text": [
      "YES 2021-01-19-107_30/week-L-r15-t125000-opt-107_30.csv\n"
     ]
    },
    {
     "name": "stderr",
     "output_type": "stream",
     "text": [
      "  3%|▎         | 3/89 [00:00<00:04, 20.34it/s]"
     ]
    },
    {
     "name": "stdout",
     "output_type": "stream",
     "text": [
      "===> Integrating for model_output/scenarios/L-r15-t125000-id5-opi-107_90\n"
     ]
    },
    {
     "name": "stderr",
     "output_type": "stream",
     "text": [
      "100%|██████████| 89/89 [00:04<00:00, 21.04it/s]\n",
      "  3%|▎         | 3/89 [00:00<00:03, 22.23it/s]"
     ]
    },
    {
     "name": "stdout",
     "output_type": "stream",
     "text": [
      "===> Integrating for model_output/scenarios/L-r15-t125000-id5-novacc-107_90\n"
     ]
    },
    {
     "name": "stderr",
     "output_type": "stream",
     "text": [
      "100%|██████████| 89/89 [00:04<00:00, 21.27it/s]\n"
     ]
    },
    {
     "name": "stdout",
     "output_type": "stream",
     "text": [
      "YES 2021-01-19-107_30/week-L-r15-t250000-opt-107_30.csv\n"
     ]
    },
    {
     "name": "stderr",
     "output_type": "stream",
     "text": [
      "  2%|▏         | 2/89 [00:00<00:04, 18.98it/s]"
     ]
    },
    {
     "name": "stdout",
     "output_type": "stream",
     "text": [
      "===> Integrating for model_output/scenarios/L-r15-t250000-id11-opi-107_90\n"
     ]
    },
    {
     "name": "stderr",
     "output_type": "stream",
     "text": [
      "100%|██████████| 89/89 [00:04<00:00, 20.13it/s]\n"
     ]
    },
    {
     "name": "stdout",
     "output_type": "stream",
     "text": [
      "YES 2021-01-19-107_30/week-L-r15-t479700-opt-107_30.csv\n"
     ]
    },
    {
     "name": "stderr",
     "output_type": "stream",
     "text": [
      "  4%|▍         | 4/89 [00:00<00:04, 19.72it/s]"
     ]
    },
    {
     "name": "stdout",
     "output_type": "stream",
     "text": [
      "===> Integrating for model_output/scenarios/L-r15-t479700-id17-opi-107_90\n"
     ]
    },
    {
     "name": "stderr",
     "output_type": "stream",
     "text": [
      "100%|██████████| 89/89 [00:04<00:00, 20.27it/s]\n"
     ]
    },
    {
     "name": "stdout",
     "output_type": "stream",
     "text": [
      "YES 2021-01-19-107_30/week-L-r15-t1000000-opt-107_30.csv\n"
     ]
    },
    {
     "name": "stderr",
     "output_type": "stream",
     "text": [
      "  2%|▏         | 2/89 [00:00<00:04, 18.95it/s]"
     ]
    },
    {
     "name": "stdout",
     "output_type": "stream",
     "text": [
      "===> Integrating for model_output/scenarios/L-r15-t1000000-id23-opi-107_90\n"
     ]
    },
    {
     "name": "stderr",
     "output_type": "stream",
     "text": [
      "100%|██████████| 89/89 [00:04<00:00, 20.03it/s]\n"
     ]
    }
   ],
   "source": [
    "scenarios_opt = {}\n",
    "scenarios_baseline = {}\n",
    "## Re-integrate vacc\n",
    "for scenario_name, scenario in scenarios.items():\n",
    "    fname = f\"{outdir}{file_prefix}-{'-'.join(scenario_name.split('-')[:-1])}-opt-{nnodes}_{ndays_ocp}.csv\"\n",
    "    #try:\n",
    "    md = pd.read_csv(fname, index_col= 'date', parse_dates=True)\n",
    "    print(f'YES {fname}')\n",
    "    \n",
    "    # Build scenario\n",
    "    maxvaccrate_regional, delivery_national, stockpile_national_constraint, control_initial = build_scenario(setup, scenario)\n",
    "    M = setup.nnodes\n",
    "    N = setup.ndays - 1\n",
    "    control_initial = np.zeros((M, N))\n",
    "    unvac_nd = np.copy(setup.pop_node)\n",
    "    stockpile = 0\n",
    "    for k in range(ndays_ocp - 1):\n",
    "        stockpile += delivery_national[k]\n",
    "        for nodename in md.place.unique():\n",
    "            nd = setup.ind2name.index(nodename)\n",
    "            to_allocate = md[(md['place'] == nodename) & (md['comp'] == 'vacc')].iloc[k]['value']\n",
    "            to_allocate = min(to_allocate, maxvaccrate_regional[nd, k], unvac_nd[nd], stockpile)\n",
    "            control_initial[nd, k] = to_allocate\n",
    "            stockpile -= to_allocate\n",
    "            unvac_nd[nd] -= to_allocate\n",
    "    p.apply_epicourse(setup, scenario['beta_mult'])\n",
    "    # END Build scenario\n",
    "\n",
    "    results, state_initial, yell, mob = COVIDVaccinationOCP.integrate(N,\n",
    "                                                                      setup=setup,\n",
    "                                                                      parameters=p,\n",
    "                                                                      controls=control_initial,\n",
    "                                                                      save_to=f'model_output/scenarios/{scenario_name}-opi-{nnodes}_{ndays}',\n",
    "                                                                      n_rk4_steps=n_int_steps)\n",
    "    results.set_index('date', drop=True, inplace=True)\n",
    "    scenarios_opt[scenario_name] = scenario\n",
    "    \n",
    "    if scenario_name.split('-')[0] not in scenarios_baseline:\n",
    "        control_initial = np.zeros((M, N))\n",
    "        # Generate NO vaccination scenarios\n",
    "        results, state_initial, yell, mob = COVIDVaccinationOCP.integrate(N,\n",
    "                                                                  setup=setup,\n",
    "                                                                  parameters=p,\n",
    "                                                                  controls=control_initial,\n",
    "                                                                  save_to=f'model_output/scenarios/{scenario_name}-novacc-{nnodes}_{ndays}',\n",
    "                                                                  n_rk4_steps=n_int_steps)\n",
    "        scenarios_baseline[scenario_name.split('-')[0]] = pd.read_csv(f'model_output/scenarios/{scenario_name}-novacc-{nnodes}_{ndays}.csv', \n",
    "                                                                     index_col= 'date', parse_dates=True)\n",
    "        \n",
    "\n",
    "#    except FileNotFoundError:\n",
    "#        print(f'NOT {fname}')\n",
    "\n"
   ]
  },
  {
   "cell_type": "code",
   "execution_count": null,
   "metadata": {},
   "outputs": [],
   "source": []
  },
  {
   "cell_type": "code",
   "execution_count": 6,
   "metadata": {
    "execution": {
     "iopub.execute_input": "2021-01-20T16:15:25.006819Z",
     "iopub.status.busy": "2021-01-20T16:15:25.006585Z",
     "iopub.status.idle": "2021-01-20T16:18:40.372383Z",
     "shell.execute_reply": "2021-01-20T16:18:40.371754Z",
     "shell.execute_reply.started": "2021-01-20T16:15:25.006792Z"
    }
   },
   "outputs": [
    {
     "name": "stderr",
     "output_type": "stream",
     "text": [
      "  3%|▎         | 3/89 [00:00<00:04, 20.07it/s]"
     ]
    },
    {
     "name": "stdout",
     "output_type": "stream",
     "text": [
      "===> Integrating for model_output/scenarios/L-r15-t125000-id5-inc-107_90\n"
     ]
    },
    {
     "name": "stderr",
     "output_type": "stream",
     "text": [
      "100%|██████████| 89/89 [00:04<00:00, 20.36it/s]\n",
      "  2%|▏         | 2/89 [00:00<00:04, 19.69it/s]"
     ]
    },
    {
     "name": "stdout",
     "output_type": "stream",
     "text": [
      "===> Integrating for model_output/scenarios/L-r15-t250000-id11-inc-107_90\n"
     ]
    },
    {
     "name": "stderr",
     "output_type": "stream",
     "text": [
      "100%|██████████| 89/89 [00:04<00:00, 20.20it/s]\n",
      "  2%|▏         | 2/89 [00:00<00:04, 19.91it/s]"
     ]
    },
    {
     "name": "stdout",
     "output_type": "stream",
     "text": [
      "===> Integrating for model_output/scenarios/L-r15-t479700-id17-inc-107_90\n"
     ]
    },
    {
     "name": "stderr",
     "output_type": "stream",
     "text": [
      "100%|██████████| 89/89 [00:04<00:00, 20.13it/s]\n",
      "  3%|▎         | 3/89 [00:00<00:04, 20.06it/s]"
     ]
    },
    {
     "name": "stdout",
     "output_type": "stream",
     "text": [
      "===> Integrating for model_output/scenarios/L-r15-t1000000-id23-inc-107_90\n"
     ]
    },
    {
     "name": "stderr",
     "output_type": "stream",
     "text": [
      "100%|██████████| 89/89 [00:04<00:00, 20.50it/s]\n",
      "  2%|▏         | 2/89 [00:00<00:05, 17.00it/s]"
     ]
    },
    {
     "name": "stdout",
     "output_type": "stream",
     "text": [
      "===> Integrating for model_output/scenarios/L-r15-t125000-id5-sus-107_90\n"
     ]
    },
    {
     "name": "stderr",
     "output_type": "stream",
     "text": [
      "100%|██████████| 89/89 [00:04<00:00, 19.53it/s]\n",
      "  4%|▍         | 4/89 [00:00<00:04, 19.79it/s]"
     ]
    },
    {
     "name": "stdout",
     "output_type": "stream",
     "text": [
      "===> Integrating for model_output/scenarios/L-r15-t250000-id11-sus-107_90\n"
     ]
    },
    {
     "name": "stderr",
     "output_type": "stream",
     "text": [
      "100%|██████████| 89/89 [00:04<00:00, 19.87it/s]\n",
      "  3%|▎         | 3/89 [00:00<00:04, 20.59it/s]"
     ]
    },
    {
     "name": "stdout",
     "output_type": "stream",
     "text": [
      "===> Integrating for model_output/scenarios/L-r15-t479700-id17-sus-107_90\n"
     ]
    },
    {
     "name": "stderr",
     "output_type": "stream",
     "text": [
      "100%|██████████| 89/89 [00:04<00:00, 19.43it/s]\n",
      "  3%|▎         | 3/89 [00:00<00:04, 21.29it/s]"
     ]
    },
    {
     "name": "stdout",
     "output_type": "stream",
     "text": [
      "===> Integrating for model_output/scenarios/L-r15-t1000000-id23-sus-107_90\n"
     ]
    },
    {
     "name": "stderr",
     "output_type": "stream",
     "text": [
      "100%|██████████| 89/89 [00:04<00:00, 18.51it/s]\n",
      "  2%|▏         | 2/89 [00:00<00:04, 19.28it/s]"
     ]
    },
    {
     "name": "stdout",
     "output_type": "stream",
     "text": [
      "===> Integrating for model_output/scenarios/L-r15-t125000-id5-pop-107_90\n"
     ]
    },
    {
     "name": "stderr",
     "output_type": "stream",
     "text": [
      "100%|██████████| 89/89 [00:04<00:00, 19.85it/s]\n",
      "  3%|▎         | 3/89 [00:00<00:04, 19.85it/s]"
     ]
    },
    {
     "name": "stdout",
     "output_type": "stream",
     "text": [
      "===> Integrating for model_output/scenarios/L-r15-t250000-id11-pop-107_90\n"
     ]
    },
    {
     "name": "stderr",
     "output_type": "stream",
     "text": [
      "100%|██████████| 89/89 [00:04<00:00, 19.49it/s]\n",
      "  2%|▏         | 2/89 [00:00<00:04, 18.36it/s]"
     ]
    },
    {
     "name": "stdout",
     "output_type": "stream",
     "text": [
      "===> Integrating for model_output/scenarios/L-r15-t479700-id17-pop-107_90\n"
     ]
    },
    {
     "name": "stderr",
     "output_type": "stream",
     "text": [
      "100%|██████████| 89/89 [00:04<00:00, 19.95it/s]\n",
      "  3%|▎         | 3/89 [00:00<00:04, 20.22it/s]"
     ]
    },
    {
     "name": "stdout",
     "output_type": "stream",
     "text": [
      "===> Integrating for model_output/scenarios/L-r15-t1000000-id23-pop-107_90\n"
     ]
    },
    {
     "name": "stderr",
     "output_type": "stream",
     "text": [
      "100%|██████████| 89/89 [00:04<00:00, 19.44it/s]\n",
      "  2%|▏         | 2/89 [00:00<00:04, 19.41it/s]"
     ]
    },
    {
     "name": "stdout",
     "output_type": "stream",
     "text": [
      "===> Integrating for model_output/scenarios/L-r15-t125000-id5-cas-107_90\n"
     ]
    },
    {
     "name": "stderr",
     "output_type": "stream",
     "text": [
      "100%|██████████| 89/89 [00:04<00:00, 20.10it/s]\n",
      "  2%|▏         | 2/89 [00:00<00:04, 19.57it/s]"
     ]
    },
    {
     "name": "stdout",
     "output_type": "stream",
     "text": [
      "===> Integrating for model_output/scenarios/L-r15-t250000-id11-cas-107_90\n"
     ]
    },
    {
     "name": "stderr",
     "output_type": "stream",
     "text": [
      "100%|██████████| 89/89 [00:04<00:00, 19.12it/s]\n",
      "  3%|▎         | 3/89 [00:00<00:04, 19.95it/s]"
     ]
    },
    {
     "name": "stdout",
     "output_type": "stream",
     "text": [
      "===> Integrating for model_output/scenarios/L-r15-t479700-id17-cas-107_90\n"
     ]
    },
    {
     "name": "stderr",
     "output_type": "stream",
     "text": [
      "100%|██████████| 89/89 [00:04<00:00, 19.51it/s]\n",
      "  2%|▏         | 2/89 [00:00<00:04, 19.80it/s]"
     ]
    },
    {
     "name": "stdout",
     "output_type": "stream",
     "text": [
      "===> Integrating for model_output/scenarios/L-r15-t1000000-id23-cas-107_90\n"
     ]
    },
    {
     "name": "stderr",
     "output_type": "stream",
     "text": [
      "100%|██████████| 89/89 [00:04<00:00, 19.79it/s]\n"
     ]
    }
   ],
   "source": [
    "# Generate alternatives:\n",
    "# BY INCIDENCE: \n",
    "for scenario_name, scenario in scenarios_opt.items():\n",
    "    nv = scenarios_baseline[scenario_name.split('-')[0]]\n",
    "    incid = nv[nv['comp'].isin(['E', 'P', 'I', 'A', 'Q', 'H', 'R'])].groupby('placeID').sum()\n",
    "    incid.sort_values('value', ascending=False)\n",
    "    \n",
    "    # Build scenario\n",
    "    maxvaccrate_regional, delivery_national, stockpile_national_constraint, control_initial = build_scenario(setup, scenario)\n",
    "    M = setup.nnodes\n",
    "    N = setup.ndays - 1\n",
    "    control_initial = np.zeros((M, N))\n",
    "    unvac_nd = np.copy(setup.pop_node)\n",
    "    stockpile = 0\n",
    "    for k in range(ndays_ocp -1):\n",
    "        stockpile += delivery_national[k]\n",
    "        for nodename in md.place.unique():\n",
    "            nd = setup.ind2name.index(nodename)\n",
    "            to_allocate = stockpile * incid.loc[nd]['value'] / incid['value'].sum()\n",
    "            to_allocate = min(to_allocate, maxvaccrate_regional[nd, k], unvac_nd[nd], stockpile)\n",
    "            control_initial[nd, k] = to_allocate\n",
    "            stockpile -= to_allocate\n",
    "            unvac_nd[nd] -= to_allocate\n",
    "    p.apply_epicourse(setup, scenario['beta_mult'])\n",
    "    # END Build scenario\n",
    "\n",
    "    results, state_initial, yell, mob = COVIDVaccinationOCP.integrate(N,\n",
    "                                                                      setup=setup,\n",
    "                                                                      parameters=p,\n",
    "                                                                      controls=control_initial,\n",
    "                                                                      save_to=f'model_output/scenarios/{scenario_name}-inc-{nnodes}_{ndays}',\n",
    "                                                                      n_rk4_steps=n_int_steps)\n",
    "    results.set_index('date', drop=True, inplace=True)\n",
    "\n",
    "# BY Suceptibility: \n",
    "for scenario_name, scenario in scenarios_opt.items():\n",
    "    nv = scenarios_baseline[scenario_name.split('-')[0]]\n",
    "    incid = nv[nv['comp'].isin(['S'])].loc[str(setup.start_date)]\n",
    "    incid.set_index('placeID', inplace=True)\n",
    "    \n",
    "    # Build scenario\n",
    "    maxvaccrate_regional, delivery_national, stockpile_national_constraint, control_initial = build_scenario(setup, scenario)\n",
    "    M = setup.nnodes\n",
    "    N = setup.ndays - 1\n",
    "    control_initial = np.zeros((M, N))\n",
    "    unvac_nd = np.copy(setup.pop_node)\n",
    "    stockpile = 0\n",
    "    for k in range(ndays_ocp -1):\n",
    "        stockpile += delivery_national[k]\n",
    "        for nodename in md.place.unique():\n",
    "            nd = setup.ind2name.index(nodename)\n",
    "            to_allocate = stockpile * incid.loc[nd]['value'] / incid['value'].sum()\n",
    "            to_allocate = min(to_allocate, maxvaccrate_regional[nd, k], unvac_nd[nd], stockpile)\n",
    "            control_initial[nd, k] = to_allocate\n",
    "            stockpile -= to_allocate\n",
    "            unvac_nd[nd] -= to_allocate\n",
    "    p.apply_epicourse(setup, scenario['beta_mult'])\n",
    "    # END Build scenario\n",
    "\n",
    "    results, state_initial, yell, mob = COVIDVaccinationOCP.integrate(N,\n",
    "                                                                      setup=setup,\n",
    "                                                                      parameters=p,\n",
    "                                                                      controls=control_initial,\n",
    "                                                                      save_to=f'model_output/scenarios/{scenario_name}-sus-{nnodes}_{ndays}',\n",
    "                                                                      n_rk4_steps=n_int_steps)\n",
    "    results.set_index('date', drop=True, inplace=True)\n",
    "    \n",
    "\n",
    "    \n",
    "# BY POPULATION \n",
    "for scenario_name, scenario in scenarios_opt.items():\n",
    "    # Build scenario\n",
    "    maxvaccrate_regional, delivery_national, stockpile_national_constraint, control_initial = build_scenario(setup, scenario)\n",
    "    M = setup.nnodes\n",
    "    N = setup.ndays - 1\n",
    "    control_initial = np.zeros((M, N))\n",
    "    unvac_nd = np.copy(setup.pop_node)\n",
    "    stockpile = 0\n",
    "    for k in range(ndays_ocp -1):\n",
    "        stockpile += delivery_national[k]\n",
    "        for nodename in md.place.unique():\n",
    "            pop_nd = setup.pop_node[nd]\n",
    "            nd = setup.ind2name.index(nodename)\n",
    "            to_allocate = stockpile * pop_nd / setup.pop_node.sum()\n",
    "            to_allocate = min(to_allocate, maxvaccrate_regional[nd, k], unvac_nd[nd], stockpile)\n",
    "            control_initial[nd, k] = to_allocate\n",
    "            stockpile -= to_allocate\n",
    "            unvac_nd[nd] -= to_allocate\n",
    "    p.apply_epicourse(setup, scenario['beta_mult'])\n",
    "    # END Build scenario\n",
    "\n",
    "    results, state_initial, yell, mob = COVIDVaccinationOCP.integrate(N,\n",
    "                                                                      setup=setup,\n",
    "                                                                      parameters=p,\n",
    "                                                                      controls=control_initial,\n",
    "                                                                      save_to=f'model_output/scenarios/{scenario_name}-pop-{nnodes}_{ndays}',\n",
    "                                                                      n_rk4_steps=n_int_steps)\n",
    "    results.set_index('date', drop=True, inplace=True)\n",
    "    \n",
    "# BY FUTURE NEW CASES\n",
    "for scenario_name, scenario in scenarios_opt.items():\n",
    "    nv = scenarios_baseline[scenario_name.split('-')[0]]\n",
    "    incid = nv[nv['comp'].isin(['E', 'I', 'A'])].groupby('placeID').sum()\n",
    "    incid.sort_values('value', ascending=False)\n",
    "    \n",
    "    # Build scenario\n",
    "    maxvaccrate_regional, delivery_national, stockpile_national_constraint, control_initial = build_scenario(setup, scenario)\n",
    "    M = setup.nnodes\n",
    "    N = setup.ndays - 1\n",
    "    control_initial = np.zeros((M, N))\n",
    "    unvac_nd = np.copy(setup.pop_node)\n",
    "    stockpile = 0\n",
    "    for k in range(ndays_ocp - 1):\n",
    "        stockpile += delivery_national[k]\n",
    "        for nodename in md.place.unique():\n",
    "            nd = setup.ind2name.index(nodename)\n",
    "            to_allocate = stockpile * incid.loc[nd]['value'] / incid['value'].sum()\n",
    "            to_allocate = min(to_allocate, maxvaccrate_regional[nd, k], unvac_nd[nd], stockpile)\n",
    "            control_initial[nd, k] = to_allocate\n",
    "            stockpile -= to_allocate\n",
    "            unvac_nd[nd] -= to_allocate\n",
    "    p.apply_epicourse(setup, scenario['beta_mult'])\n",
    "    # END Build scenario\n",
    "\n",
    "    results, state_initial, yell, mob = COVIDVaccinationOCP.integrate(N,\n",
    "                                                                      setup=setup,\n",
    "                                                                      parameters=p,\n",
    "                                                                      controls=control_initial,\n",
    "                                                                      save_to=f'model_output/scenarios/{scenario_name}-cas-{nnodes}_{ndays}',\n",
    "                                                                      n_rk4_steps=n_int_steps)\n",
    "    results.set_index('date', drop=True, inplace=True)\n",
    "    \n",
    "#TODO: Centrality based and R0 based"
   ]
  },
  {
   "cell_type": "code",
   "execution_count": null,
   "metadata": {
    "scrolled": true
   },
   "outputs": [],
   "source": []
  },
  {
   "cell_type": "code",
   "execution_count": 8,
   "metadata": {
    "execution": {
     "iopub.execute_input": "2021-01-20T16:20:20.886991Z",
     "iopub.status.busy": "2021-01-20T16:20:20.886762Z",
     "iopub.status.idle": "2021-01-20T16:20:26.817119Z",
     "shell.execute_reply": "2021-01-20T16:20:26.816587Z",
     "shell.execute_reply.started": "2021-01-20T16:20:20.886965Z"
    }
   },
   "outputs": [],
   "source": [
    "scn_results = pd.DataFrame(columns=['newdoseperweek', 'method', 'infected'])\n",
    "methods = ['opi', 'inc', 'pop', 'sus', 'cas'] # 'opt'\n",
    "for met in methods:\n",
    "    for scenario_name, scenario in scenarios_opt.items():\n",
    "        maxvaccrate_regional, stockpile_national, stockpile_national_constraint, control_initial = build_scenario(setup, scenario)\n",
    "        dosesperweek = int(scenario_name.split('-')[2][1:])\n",
    "        ratepermonth = int(scenario_name.split('-')[1][1:])*1e6\n",
    "        md = pd.read_csv(f'model_output/scenarios/{scenario_name}-{met}-{nnodes}_{ndays}.csv', index_col= 'date', parse_dates=True)\n",
    "        infected = md[md['comp'].isin(['E', 'P', 'I', 'A', 'Q', 'H', 'R']) & (md.index == str(setup.end_date))]['value'].sum()\n",
    "        doses = md[md['comp']=='vacc']['value'].sum()\n",
    "        nv = scenarios_baseline[scenario_name.split('-')[0]]\n",
    "        baseline_infected = nv[(nv['comp'].isin(['E', 'P', 'I', 'A', 'Q', 'H', 'R'])) & (nv.index == str(setup.end_date))]['value'].sum()\n",
    "        scn_results = pd.concat([scn_results, pd.DataFrame.from_dict({'newdoseperweek':[dosesperweek],\n",
    "                                                                      'method': [met],\n",
    "                                                                      'infected':[infected],\n",
    "                                                                       'doses': [doses],\n",
    "                                                                       'scenario-beta': [scenario_name.split('-')[0]],\n",
    "                                                                       'scenario-rate': [scenario_name.split('-')[1]],\n",
    "                                                                       'scenario-tot': [scenario_name.split('-')[2]],\n",
    "                                                                       'averted': baseline_infected - infected\n",
    "                                                                     })])                      \n",
    "   \n",
    "scn_results['avertedpervacc'] = scn_results['averted']/scn_results['doses']\n",
    "\n",
    "#scn_results.replace('opt', 'Optimal', inplace=True)\n",
    "scn_results.replace('opi', 'Optimal', inplace=True)\n",
    "scn_results.replace('int', 'Uniform', inplace=True)\n",
    "scn_results.replace('inc', 'Incidence', inplace=True)\n",
    "scn_results.replace('cas', 'Future Incidence', inplace=True)\n",
    "scn_results.replace('pop', 'Population', inplace=True)\n",
    "scn_results.replace('sus', 'Susceptibility', inplace=True)"
   ]
  },
  {
   "cell_type": "code",
   "execution_count": 11,
   "metadata": {
    "execution": {
     "iopub.execute_input": "2021-01-20T16:21:05.169891Z",
     "iopub.status.busy": "2021-01-20T16:21:05.169659Z",
     "iopub.status.idle": "2021-01-20T16:21:05.188500Z",
     "shell.execute_reply": "2021-01-20T16:21:05.187830Z",
     "shell.execute_reply.started": "2021-01-20T16:21:05.169864Z"
    }
   },
   "outputs": [
    {
     "data": {
      "text/html": [
       "<div>\n",
       "<style scoped>\n",
       "    .dataframe tbody tr th:only-of-type {\n",
       "        vertical-align: middle;\n",
       "    }\n",
       "\n",
       "    .dataframe tbody tr th {\n",
       "        vertical-align: top;\n",
       "    }\n",
       "\n",
       "    .dataframe thead th {\n",
       "        text-align: right;\n",
       "    }\n",
       "</style>\n",
       "<table border=\"1\" class=\"dataframe\">\n",
       "  <thead>\n",
       "    <tr style=\"text-align: right;\">\n",
       "      <th></th>\n",
       "      <th>newdoseperweek</th>\n",
       "      <th>method</th>\n",
       "      <th>infected</th>\n",
       "      <th>doses</th>\n",
       "      <th>scenario-beta</th>\n",
       "      <th>scenario-rate</th>\n",
       "      <th>scenario-tot</th>\n",
       "      <th>averted</th>\n",
       "      <th>avertedpervacc</th>\n",
       "    </tr>\n",
       "  </thead>\n",
       "  <tbody>\n",
       "    <tr>\n",
       "      <th>0</th>\n",
       "      <td>125000</td>\n",
       "      <td>Optimal</td>\n",
       "      <td>4.696594e+06</td>\n",
       "      <td>5.000000e+05</td>\n",
       "      <td>L</td>\n",
       "      <td>r15</td>\n",
       "      <td>t125000</td>\n",
       "      <td>120164.356924</td>\n",
       "      <td>0.240329</td>\n",
       "    </tr>\n",
       "    <tr>\n",
       "      <th>0</th>\n",
       "      <td>250000</td>\n",
       "      <td>Optimal</td>\n",
       "      <td>4.658723e+06</td>\n",
       "      <td>1.000000e+06</td>\n",
       "      <td>L</td>\n",
       "      <td>r15</td>\n",
       "      <td>t250000</td>\n",
       "      <td>158034.583183</td>\n",
       "      <td>0.158035</td>\n",
       "    </tr>\n",
       "    <tr>\n",
       "      <th>0</th>\n",
       "      <td>479700</td>\n",
       "      <td>Optimal</td>\n",
       "      <td>4.615159e+06</td>\n",
       "      <td>1.918800e+06</td>\n",
       "      <td>L</td>\n",
       "      <td>r15</td>\n",
       "      <td>t479700</td>\n",
       "      <td>201598.970297</td>\n",
       "      <td>0.105065</td>\n",
       "    </tr>\n",
       "    <tr>\n",
       "      <th>0</th>\n",
       "      <td>1000000</td>\n",
       "      <td>Optimal</td>\n",
       "      <td>4.554874e+06</td>\n",
       "      <td>4.000000e+06</td>\n",
       "      <td>L</td>\n",
       "      <td>r15</td>\n",
       "      <td>t1000000</td>\n",
       "      <td>261883.988224</td>\n",
       "      <td>0.065471</td>\n",
       "    </tr>\n",
       "    <tr>\n",
       "      <th>0</th>\n",
       "      <td>125000</td>\n",
       "      <td>Incidence</td>\n",
       "      <td>4.791159e+06</td>\n",
       "      <td>4.992082e+05</td>\n",
       "      <td>L</td>\n",
       "      <td>r15</td>\n",
       "      <td>t125000</td>\n",
       "      <td>25599.447628</td>\n",
       "      <td>0.051280</td>\n",
       "    </tr>\n",
       "    <tr>\n",
       "      <th>0</th>\n",
       "      <td>250000</td>\n",
       "      <td>Incidence</td>\n",
       "      <td>4.766807e+06</td>\n",
       "      <td>9.984160e+05</td>\n",
       "      <td>L</td>\n",
       "      <td>r15</td>\n",
       "      <td>t250000</td>\n",
       "      <td>49950.628637</td>\n",
       "      <td>0.050030</td>\n",
       "    </tr>\n",
       "    <tr>\n",
       "      <th>0</th>\n",
       "      <td>479700</td>\n",
       "      <td>Incidence</td>\n",
       "      <td>4.722011e+06</td>\n",
       "      <td>1.915480e+06</td>\n",
       "      <td>L</td>\n",
       "      <td>r15</td>\n",
       "      <td>t479700</td>\n",
       "      <td>94746.848741</td>\n",
       "      <td>0.049464</td>\n",
       "    </tr>\n",
       "    <tr>\n",
       "      <th>0</th>\n",
       "      <td>1000000</td>\n",
       "      <td>Incidence</td>\n",
       "      <td>4.642341e+06</td>\n",
       "      <td>3.988904e+06</td>\n",
       "      <td>L</td>\n",
       "      <td>r15</td>\n",
       "      <td>t1000000</td>\n",
       "      <td>174416.692916</td>\n",
       "      <td>0.043725</td>\n",
       "    </tr>\n",
       "    <tr>\n",
       "      <th>0</th>\n",
       "      <td>125000</td>\n",
       "      <td>Population</td>\n",
       "      <td>4.790005e+06</td>\n",
       "      <td>4.991642e+05</td>\n",
       "      <td>L</td>\n",
       "      <td>r15</td>\n",
       "      <td>t125000</td>\n",
       "      <td>26753.299468</td>\n",
       "      <td>0.053596</td>\n",
       "    </tr>\n",
       "    <tr>\n",
       "      <th>0</th>\n",
       "      <td>250000</td>\n",
       "      <td>Population</td>\n",
       "      <td>4.762013e+06</td>\n",
       "      <td>9.980850e+05</td>\n",
       "      <td>L</td>\n",
       "      <td>r15</td>\n",
       "      <td>t250000</td>\n",
       "      <td>54744.910884</td>\n",
       "      <td>0.054850</td>\n",
       "    </tr>\n",
       "    <tr>\n",
       "      <th>0</th>\n",
       "      <td>479700</td>\n",
       "      <td>Population</td>\n",
       "      <td>4.713194e+06</td>\n",
       "      <td>1.913794e+06</td>\n",
       "      <td>L</td>\n",
       "      <td>r15</td>\n",
       "      <td>t479700</td>\n",
       "      <td>103563.676171</td>\n",
       "      <td>0.054114</td>\n",
       "    </tr>\n",
       "    <tr>\n",
       "      <th>0</th>\n",
       "      <td>1000000</td>\n",
       "      <td>Population</td>\n",
       "      <td>4.627772e+06</td>\n",
       "      <td>3.975625e+06</td>\n",
       "      <td>L</td>\n",
       "      <td>r15</td>\n",
       "      <td>t1000000</td>\n",
       "      <td>188985.840748</td>\n",
       "      <td>0.047536</td>\n",
       "    </tr>\n",
       "    <tr>\n",
       "      <th>0</th>\n",
       "      <td>125000</td>\n",
       "      <td>Susceptibility</td>\n",
       "      <td>4.795634e+06</td>\n",
       "      <td>4.991999e+05</td>\n",
       "      <td>L</td>\n",
       "      <td>r15</td>\n",
       "      <td>t125000</td>\n",
       "      <td>21124.238855</td>\n",
       "      <td>0.042316</td>\n",
       "    </tr>\n",
       "    <tr>\n",
       "      <th>0</th>\n",
       "      <td>250000</td>\n",
       "      <td>Susceptibility</td>\n",
       "      <td>4.775278e+06</td>\n",
       "      <td>9.983998e+05</td>\n",
       "      <td>L</td>\n",
       "      <td>r15</td>\n",
       "      <td>t250000</td>\n",
       "      <td>41479.661219</td>\n",
       "      <td>0.041546</td>\n",
       "    </tr>\n",
       "    <tr>\n",
       "      <th>0</th>\n",
       "      <td>479700</td>\n",
       "      <td>Susceptibility</td>\n",
       "      <td>4.739773e+06</td>\n",
       "      <td>1.915730e+06</td>\n",
       "      <td>L</td>\n",
       "      <td>r15</td>\n",
       "      <td>t479700</td>\n",
       "      <td>76984.664823</td>\n",
       "      <td>0.040186</td>\n",
       "    </tr>\n",
       "    <tr>\n",
       "      <th>0</th>\n",
       "      <td>1000000</td>\n",
       "      <td>Susceptibility</td>\n",
       "      <td>4.661447e+06</td>\n",
       "      <td>3.991194e+06</td>\n",
       "      <td>L</td>\n",
       "      <td>r15</td>\n",
       "      <td>t1000000</td>\n",
       "      <td>155310.738563</td>\n",
       "      <td>0.038913</td>\n",
       "    </tr>\n",
       "    <tr>\n",
       "      <th>0</th>\n",
       "      <td>125000</td>\n",
       "      <td>Future Incidence</td>\n",
       "      <td>4.755953e+06</td>\n",
       "      <td>4.991792e+05</td>\n",
       "      <td>L</td>\n",
       "      <td>r15</td>\n",
       "      <td>t125000</td>\n",
       "      <td>60805.066117</td>\n",
       "      <td>0.121810</td>\n",
       "    </tr>\n",
       "    <tr>\n",
       "      <th>0</th>\n",
       "      <td>250000</td>\n",
       "      <td>Future Incidence</td>\n",
       "      <td>4.717910e+06</td>\n",
       "      <td>9.982724e+05</td>\n",
       "      <td>L</td>\n",
       "      <td>r15</td>\n",
       "      <td>t250000</td>\n",
       "      <td>98848.338069</td>\n",
       "      <td>0.099019</td>\n",
       "    </tr>\n",
       "    <tr>\n",
       "      <th>0</th>\n",
       "      <td>479700</td>\n",
       "      <td>Future Incidence</td>\n",
       "      <td>4.670648e+06</td>\n",
       "      <td>1.914890e+06</td>\n",
       "      <td>L</td>\n",
       "      <td>r15</td>\n",
       "      <td>t479700</td>\n",
       "      <td>146109.889364</td>\n",
       "      <td>0.076302</td>\n",
       "    </tr>\n",
       "    <tr>\n",
       "      <th>0</th>\n",
       "      <td>1000000</td>\n",
       "      <td>Future Incidence</td>\n",
       "      <td>4.596930e+06</td>\n",
       "      <td>3.986335e+06</td>\n",
       "      <td>L</td>\n",
       "      <td>r15</td>\n",
       "      <td>t1000000</td>\n",
       "      <td>219828.286648</td>\n",
       "      <td>0.055145</td>\n",
       "    </tr>\n",
       "  </tbody>\n",
       "</table>\n",
       "</div>"
      ],
      "text/plain": [
       "   newdoseperweek            method      infected         doses scenario-beta  \\\n",
       "0          125000           Optimal  4.696594e+06  5.000000e+05             L   \n",
       "0          250000           Optimal  4.658723e+06  1.000000e+06             L   \n",
       "0          479700           Optimal  4.615159e+06  1.918800e+06             L   \n",
       "0         1000000           Optimal  4.554874e+06  4.000000e+06             L   \n",
       "0          125000         Incidence  4.791159e+06  4.992082e+05             L   \n",
       "0          250000         Incidence  4.766807e+06  9.984160e+05             L   \n",
       "0          479700         Incidence  4.722011e+06  1.915480e+06             L   \n",
       "0         1000000         Incidence  4.642341e+06  3.988904e+06             L   \n",
       "0          125000        Population  4.790005e+06  4.991642e+05             L   \n",
       "0          250000        Population  4.762013e+06  9.980850e+05             L   \n",
       "0          479700        Population  4.713194e+06  1.913794e+06             L   \n",
       "0         1000000        Population  4.627772e+06  3.975625e+06             L   \n",
       "0          125000    Susceptibility  4.795634e+06  4.991999e+05             L   \n",
       "0          250000    Susceptibility  4.775278e+06  9.983998e+05             L   \n",
       "0          479700    Susceptibility  4.739773e+06  1.915730e+06             L   \n",
       "0         1000000    Susceptibility  4.661447e+06  3.991194e+06             L   \n",
       "0          125000  Future Incidence  4.755953e+06  4.991792e+05             L   \n",
       "0          250000  Future Incidence  4.717910e+06  9.982724e+05             L   \n",
       "0          479700  Future Incidence  4.670648e+06  1.914890e+06             L   \n",
       "0         1000000  Future Incidence  4.596930e+06  3.986335e+06             L   \n",
       "\n",
       "  scenario-rate scenario-tot        averted  avertedpervacc  \n",
       "0           r15      t125000  120164.356924        0.240329  \n",
       "0           r15      t250000  158034.583183        0.158035  \n",
       "0           r15      t479700  201598.970297        0.105065  \n",
       "0           r15     t1000000  261883.988224        0.065471  \n",
       "0           r15      t125000   25599.447628        0.051280  \n",
       "0           r15      t250000   49950.628637        0.050030  \n",
       "0           r15      t479700   94746.848741        0.049464  \n",
       "0           r15     t1000000  174416.692916        0.043725  \n",
       "0           r15      t125000   26753.299468        0.053596  \n",
       "0           r15      t250000   54744.910884        0.054850  \n",
       "0           r15      t479700  103563.676171        0.054114  \n",
       "0           r15     t1000000  188985.840748        0.047536  \n",
       "0           r15      t125000   21124.238855        0.042316  \n",
       "0           r15      t250000   41479.661219        0.041546  \n",
       "0           r15      t479700   76984.664823        0.040186  \n",
       "0           r15     t1000000  155310.738563        0.038913  \n",
       "0           r15      t125000   60805.066117        0.121810  \n",
       "0           r15      t250000   98848.338069        0.099019  \n",
       "0           r15      t479700  146109.889364        0.076302  \n",
       "0           r15     t1000000  219828.286648        0.055145  "
      ]
     },
     "execution_count": 11,
     "metadata": {},
     "output_type": "execute_result"
    }
   ],
   "source": [
    "scn_results"
   ]
  },
  {
   "cell_type": "code",
   "execution_count": 16,
   "metadata": {
    "execution": {
     "iopub.execute_input": "2021-01-21T09:46:26.351174Z",
     "iopub.status.busy": "2021-01-21T09:46:26.349902Z",
     "iopub.status.idle": "2021-01-21T09:46:26.440139Z",
     "shell.execute_reply": "2021-01-21T09:46:26.439545Z",
     "shell.execute_reply.started": "2021-01-21T09:46:26.351088Z"
    }
   },
   "outputs": [
    {
     "data": {
      "text/html": [
       "<div>\n",
       "<style scoped>\n",
       "    .dataframe tbody tr th:only-of-type {\n",
       "        vertical-align: middle;\n",
       "    }\n",
       "\n",
       "    .dataframe tbody tr th {\n",
       "        vertical-align: top;\n",
       "    }\n",
       "\n",
       "    .dataframe thead th {\n",
       "        text-align: right;\n",
       "    }\n",
       "</style>\n",
       "<table border=\"1\" class=\"dataframe\">\n",
       "  <thead>\n",
       "    <tr style=\"text-align: right;\">\n",
       "      <th></th>\n",
       "      <th>newdoseperweek</th>\n",
       "      <th>method</th>\n",
       "      <th>infected</th>\n",
       "      <th>doses</th>\n",
       "      <th>scenario-beta</th>\n",
       "      <th>scenario-rate</th>\n",
       "      <th>scenario-tot</th>\n",
       "      <th>averted</th>\n",
       "      <th>avertedpervacc</th>\n",
       "    </tr>\n",
       "  </thead>\n",
       "  <tbody>\n",
       "    <tr>\n",
       "      <th>0</th>\n",
       "      <td>125000</td>\n",
       "      <td>Optimal</td>\n",
       "      <td>4.696594e+06</td>\n",
       "      <td>500000.000000</td>\n",
       "      <td>L</td>\n",
       "      <td>r15</td>\n",
       "      <td>t125000</td>\n",
       "      <td>120164.356924</td>\n",
       "      <td>0.240329</td>\n",
       "    </tr>\n",
       "    <tr>\n",
       "      <th>0</th>\n",
       "      <td>125000</td>\n",
       "      <td>Incidence</td>\n",
       "      <td>4.791159e+06</td>\n",
       "      <td>499208.150398</td>\n",
       "      <td>L</td>\n",
       "      <td>r15</td>\n",
       "      <td>t125000</td>\n",
       "      <td>25599.447628</td>\n",
       "      <td>0.051280</td>\n",
       "    </tr>\n",
       "    <tr>\n",
       "      <th>0</th>\n",
       "      <td>125000</td>\n",
       "      <td>Population</td>\n",
       "      <td>4.790005e+06</td>\n",
       "      <td>499164.188892</td>\n",
       "      <td>L</td>\n",
       "      <td>r15</td>\n",
       "      <td>t125000</td>\n",
       "      <td>26753.299468</td>\n",
       "      <td>0.053596</td>\n",
       "    </tr>\n",
       "    <tr>\n",
       "      <th>0</th>\n",
       "      <td>125000</td>\n",
       "      <td>Susceptibility</td>\n",
       "      <td>4.795634e+06</td>\n",
       "      <td>499199.908700</td>\n",
       "      <td>L</td>\n",
       "      <td>r15</td>\n",
       "      <td>t125000</td>\n",
       "      <td>21124.238855</td>\n",
       "      <td>0.042316</td>\n",
       "    </tr>\n",
       "    <tr>\n",
       "      <th>0</th>\n",
       "      <td>125000</td>\n",
       "      <td>Future Incidence</td>\n",
       "      <td>4.755953e+06</td>\n",
       "      <td>499179.233277</td>\n",
       "      <td>L</td>\n",
       "      <td>r15</td>\n",
       "      <td>t125000</td>\n",
       "      <td>60805.066117</td>\n",
       "      <td>0.121810</td>\n",
       "    </tr>\n",
       "  </tbody>\n",
       "</table>\n",
       "</div>"
      ],
      "text/plain": [
       "   newdoseperweek            method      infected          doses  \\\n",
       "0          125000           Optimal  4.696594e+06  500000.000000   \n",
       "0          125000         Incidence  4.791159e+06  499208.150398   \n",
       "0          125000        Population  4.790005e+06  499164.188892   \n",
       "0          125000    Susceptibility  4.795634e+06  499199.908700   \n",
       "0          125000  Future Incidence  4.755953e+06  499179.233277   \n",
       "\n",
       "  scenario-beta scenario-rate scenario-tot        averted  avertedpervacc  \n",
       "0             L           r15      t125000  120164.356924        0.240329  \n",
       "0             L           r15      t125000   25599.447628        0.051280  \n",
       "0             L           r15      t125000   26753.299468        0.053596  \n",
       "0             L           r15      t125000   21124.238855        0.042316  \n",
       "0             L           r15      t125000   60805.066117        0.121810  "
      ]
     },
     "execution_count": 16,
     "metadata": {},
     "output_type": "execute_result"
    }
   ],
   "source": [
    "scn_results[scn_results['scenario-tot']=='t125000']"
   ]
  },
  {
   "cell_type": "code",
   "execution_count": null,
   "metadata": {},
   "outputs": [],
   "source": []
  },
  {
   "cell_type": "code",
   "execution_count": 15,
   "metadata": {
    "execution": {
     "iopub.execute_input": "2021-01-20T16:23:49.493361Z",
     "iopub.status.busy": "2021-01-20T16:23:49.493131Z",
     "iopub.status.idle": "2021-01-20T16:23:49.963881Z",
     "shell.execute_reply": "2021-01-20T16:23:49.962666Z",
     "shell.execute_reply.started": "2021-01-20T16:23:49.493335Z"
    }
   },
   "outputs": [
    {
     "data": {
      "image/png": "[encoded data removed]",
      "text/plain": [
       "<Figure size 627.125x500 with 1 Axes>"
      ]
     },
     "metadata": {},
     "output_type": "display_data"
    }
   ],
   "source": [
    "#fig, ax = plt.subplots(figsize=(10,10))\n",
    "sns.set(rc={'figure.figsize':(10,5), 'figure.dpi':50})\n",
    "sns.set_theme(style=\"whitegrid\")\n",
    "sns.set_context(\"talk\")\n",
    "\n",
    "g = sns.catplot(\n",
    "    data=scn_results,#[(scn_results['scenario-rate']=='r2') & (scn_results['scenario-beta']=='U')],\n",
    "    kind=\"bar\",\n",
    "    x=\"newdoseperweek\",\n",
    "    y=\"avertedpervacc\", \n",
    "    #y=\"averted\",\n",
    "    hue=\"method\",\n",
    "    palette=\"rocket\",\n",
    "    #alpha=.9, \n",
    "    height=10,\n",
    ")\n",
    "g.despine(left=True)\n",
    "#g.fig.suptitle(f'Simulation on {setup.ndays} days, rate of 7.5M per month')\n",
    "g.set_axis_labels(\"Dose per week\", \"Averted Cases per dose\")\n",
    "g.legend.set_title(\"Allocation\")\n",
    "#g.set_xticklabels([str(i/1e6)+'M' for i in np.sort(scn_results['total_vacc'].unique())])\n",
    "\n",
    "g.fig.savefig('figures/scenarios.pdf') "
   ]
  },
  {
   "cell_type": "code",
   "execution_count": null,
   "metadata": {},
   "outputs": [],
   "source": []
  },
  {
   "cell_type": "code",
   "execution_count": 12,
   "metadata": {
    "execution": {
     "iopub.execute_input": "2021-01-20T16:21:35.780093Z",
     "iopub.status.busy": "2021-01-20T16:21:35.779860Z",
     "iopub.status.idle": "2021-01-20T16:21:36.028747Z",
     "shell.execute_reply": "2021-01-20T16:21:36.027938Z",
     "shell.execute_reply.started": "2021-01-20T16:21:35.780066Z"
    }
   },
   "outputs": [
    {
     "data": {
      "image/png": "[encoded data removed]",
      "text/plain": [
       "<Figure size 500x250 with 1 Axes>"
      ]
     },
     "metadata": {},
     "output_type": "display_data"
    }
   ],
   "source": [
    "g = sns.lineplot(\n",
    "    data=scn_results, \n",
    "    x=\"newdoseperweek\", y=\"averted\", hue=\"method\",\n",
    "    palette=\"rocket\", marker = 'o', \n",
    "    #alpha=.9, \n",
    ")"
   ]
  },
  {
   "cell_type": "code",
   "execution_count": null,
   "metadata": {},
   "outputs": [],
   "source": []
  },
  {
   "cell_type": "code",
   "execution_count": null,
   "metadata": {},
   "outputs": [],
   "source": []
  },
  {
   "cell_type": "code",
   "execution_count": null,
   "metadata": {},
   "outputs": [],
   "source": []
  },
  {
   "cell_type": "code",
   "execution_count": null,
   "metadata": {},
   "outputs": [],
   "source": [
    "#fig, ax = plt.subplots(figsize=(10,10))\n",
    "sns.set(rc={'figure.figsize':(10,5), 'figure.dpi':50})\n",
    "sns.set_theme(style=\"whitegrid\")\n",
    "sns.set_context(\"talk\")\n",
    "# Draw a nested barplot by species and sex\n",
    "g = sns.catplot(\n",
    "    data=scn_results, kind=\"bar\",\n",
    "    x=\"method\", \n",
    "    #y=\"avertedpervacc\", \n",
    "    #x='total_vacc',\n",
    "    y=\"averted\",\n",
    "    hue=\"method\",\n",
    "    col=\"newdoseperweek\",\n",
    "    palette=\"viridis\",\n",
    "    #alpha=.9, \n",
    "    height=5,\n",
    "    aspect = .5,\n",
    "    #width = 10\n",
    ")\n",
    "g.despine(left=True)\n",
    "#g.fig.suptitle(f'Simulation on {setup.ndays} days, rate of 7.5M per month')\n",
    "g.set_axis_labels(\"Strategy\", \"Averted Cases\")\n",
    "#g.legend.set_title(\"Allocation\")\n",
    "g.set_xticklabels([str(i/1e6)+'M' for i in np.sort(scn_results['newdoseperweek'].unique())])\n",
    "(g.set_axis_labels(\"\", \"Averted Cases\")\n",
    "#.set_xticklabels([\"Men\", \"Women\", \"Children\"])\n",
    ".set_titles(\"{col_name}\")\n",
    "#.set(ylim=(0, 1))\n",
    ".despine(left=True))\n",
    "g.set_xticklabels(rotation=-90)"
   ]
  }
 ],
 "metadata": {
  "kernelspec": {
   "display_name": "Python (ocp-covid)",
   "language": "python",
   "name": "ocp-covid"
  },
  "language_info": {
   "codemirror_mode": {
    "name": "ipython",
    "version": 3
   },
   "file_extension": ".py",
   "mimetype": "text/x-python",
   "name": "python",
   "nbconvert_exporter": "python",
   "pygments_lexer": "ipython3",
   "version": "3.7.9"
  }
 },
 "nbformat": 4,
 "nbformat_minor": 4
}
