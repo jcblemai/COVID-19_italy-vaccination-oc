{
 "cells": [
  {
   "cell_type": "markdown",
   "metadata": {
    "execution": {
     "iopub.execute_input": "2020-12-22T17:15:12.988706Z",
     "iopub.status.busy": "2020-12-22T17:15:12.988298Z",
     "iopub.status.idle": "2020-12-22T17:15:13.230048Z",
     "shell.execute_reply": "2020-12-22T17:15:13.228271Z",
     "shell.execute_reply.started": "2020-12-22T17:15:12.988665Z"
    }
   },
   "source": [
    "# Re-integrate vacc\n",
    "for scenario_name, scenario in scenarios.items():\n",
    "    max_vacc_rate, vacc_total, control_initial = build_scenario(setup, scenario)\n",
    "    md = pd.read_csv(f'{outdir}{file_prefix}{scenario_name}-{met}{nnodes}.csv', index_col= 'date', parse_dates=True)# Analysis of optimal scenarios agaisnt other scenarios"
   ]
  },
  {
   "cell_type": "code",
   "execution_count": 6,
   "metadata": {
    "execution": {
     "iopub.execute_input": "2021-01-02T14:40:08.865811Z",
     "iopub.status.busy": "2021-01-02T14:40:08.865628Z",
     "iopub.status.idle": "2021-01-02T14:40:09.002291Z",
     "shell.execute_reply": "2021-01-02T14:40:09.001012Z",
     "shell.execute_reply.started": "2021-01-02T14:40:08.865791Z"
    }
   },
   "outputs": [
    {
     "name": "stdout",
     "output_type": "stream",
     "text": [
      "Loaded Italy Setup with 107 nodes.\n"
     ]
    }
   ],
   "source": [
    "import copy\n",
    "import matplotlib as mpl\n",
    "import matplotlib.pyplot as plt\n",
    "import numpy as np\n",
    "import pandas as pd\n",
    "import networkx\n",
    "from ItalySetup import ItalySetup\n",
    "from covidOCP import COVIDVaccinationOCP, COVIDParametersOCP\n",
    "from main import pick_scenario, build_scenario\n",
    "import seaborn as sns\n",
    "import datetime\n",
    "import pickle\n",
    "\n",
    "nx = 9\n",
    "states_names = ['S', 'E', 'P', 'I', 'A', 'Q', 'H', 'R', 'V']\n",
    "outdir = 'model_output/'\n",
    "when = 'future'\n",
    "file_prefix = f''\n",
    "file_prefix = f'rk5'\n",
    "outdir = 'helvetios-runs/'\n",
    "\n",
    "n_int_steps = 5\n",
    "nnodes = 107  # nodes\n",
    "ndays = 90\n",
    "\n",
    "setup = ItalySetup(nnodes, ndays, when)\n",
    "M = setup.nnodes\n",
    "N = len(setup.model_days) - 1\n",
    "\n",
    "with open(f'model_output/parameters_{nnodes}_{when}.pkl', 'rb') as inp:\n",
    "    p = pickle.load(inp)"
   ]
  },
  {
   "cell_type": "code",
   "execution_count": null,
   "metadata": {},
   "outputs": [],
   "source": []
  },
  {
   "cell_type": "code",
   "execution_count": 7,
   "metadata": {
    "execution": {
     "iopub.execute_input": "2021-01-02T14:40:10.736437Z",
     "iopub.status.busy": "2021-01-02T14:40:10.736230Z",
     "iopub.status.idle": "2021-01-02T14:40:10.758547Z",
     "shell.execute_reply": "2021-01-02T14:40:10.757775Z",
     "shell.execute_reply.started": "2021-01-02T14:40:10.736419Z"
    }
   },
   "outputs": [],
   "source": [
    "scenarios = {pick_scenario(setup, i)['name']:pick_scenario(setup, i) for i in np.arange(29)}"
   ]
  },
  {
   "cell_type": "code",
   "execution_count": null,
   "metadata": {},
   "outputs": [],
   "source": []
  },
  {
   "cell_type": "code",
   "execution_count": 10,
   "metadata": {
    "execution": {
     "iopub.execute_input": "2021-01-02T14:43:53.896335Z",
     "iopub.status.busy": "2021-01-02T14:43:53.896113Z",
     "iopub.status.idle": "2021-01-02T14:43:53.900563Z",
     "shell.execute_reply": "2021-01-02T14:43:53.899751Z",
     "shell.execute_reply.started": "2021-01-02T14:43:53.896310Z"
    }
   },
   "outputs": [
    {
     "name": "stdout",
     "output_type": "stream",
     "text": [
      "4\n"
     ]
    }
   ],
   "source": [
    "# Choose a subset of scenarios:\n",
    "pick = '-L-R7.5-'\n",
    "scenarios = {k:v for (k,v) in scenarios.items() if pick in k}\n",
    "print(len(scenarios))"
   ]
  },
  {
   "cell_type": "code",
   "execution_count": 11,
   "metadata": {
    "execution": {
     "iopub.execute_input": "2021-01-02T14:43:55.257630Z",
     "iopub.status.busy": "2021-01-02T14:43:55.257390Z",
     "iopub.status.idle": "2021-01-02T14:43:55.331050Z",
     "shell.execute_reply": "2021-01-02T14:43:55.330514Z",
     "shell.execute_reply.started": "2021-01-02T14:43:55.257603Z"
    }
   },
   "outputs": [],
   "source": [
    "no_vacc = pd.read_csv(f'{outdir}{file_prefix}FR{pick}T15-int107-nc.csv', index_col= 'date', parse_dates=True)"
   ]
  },
  {
   "cell_type": "code",
   "execution_count": null,
   "metadata": {
    "execution": {
     "iopub.status.busy": "2021-01-02T14:32:27.200767Z",
     "iopub.status.idle": "2021-01-02T14:32:27.200973Z"
    }
   },
   "outputs": [],
   "source": [
    "scenarios = {k:v for (k,v) in scenarios.items() if '-T5' not in k}"
   ]
  },
  {
   "cell_type": "code",
   "execution_count": 12,
   "metadata": {
    "execution": {
     "iopub.execute_input": "2021-01-02T14:44:00.834156Z",
     "iopub.status.busy": "2021-01-02T14:44:00.833929Z",
     "iopub.status.idle": "2021-01-02T14:45:21.963352Z",
     "shell.execute_reply": "2021-01-02T14:45:21.962504Z",
     "shell.execute_reply.started": "2021-01-02T14:44:00.834131Z"
    }
   },
   "outputs": [
    {
     "name": "stderr",
     "output_type": "stream",
     "text": [
      "  0%|          | 0/89 [00:00<?, ?it/s]"
     ]
    },
    {
     "name": "stdout",
     "output_type": "stream",
     "text": [
      "FR-L-R7.5-T2\n",
      "===> Integrating for helvetios-runs/rk5FR-L-R7.5-T2-inc107\n"
     ]
    },
    {
     "name": "stderr",
     "output_type": "stream",
     "text": [
      "100%|██████████| 89/89 [00:03<00:00, 24.24it/s]\n",
      "  0%|          | 0/89 [00:00<?, ?it/s]"
     ]
    },
    {
     "name": "stdout",
     "output_type": "stream",
     "text": [
      "FR-L-R7.5-T5\n",
      "===> Integrating for helvetios-runs/rk5FR-L-R7.5-T5-inc107\n"
     ]
    },
    {
     "name": "stderr",
     "output_type": "stream",
     "text": [
      "100%|██████████| 89/89 [00:03<00:00, 22.59it/s]\n",
      "  0%|          | 0/89 [00:00<?, ?it/s]"
     ]
    },
    {
     "name": "stdout",
     "output_type": "stream",
     "text": [
      "FR-L-R7.5-T10\n",
      "===> Integrating for helvetios-runs/rk5FR-L-R7.5-T10-inc107\n"
     ]
    },
    {
     "name": "stderr",
     "output_type": "stream",
     "text": [
      "100%|██████████| 89/89 [00:03<00:00, 22.33it/s]\n"
     ]
    },
    {
     "name": "stdout",
     "output_type": "stream",
     "text": [
      "FR-L-R7.5-T15\n"
     ]
    },
    {
     "name": "stderr",
     "output_type": "stream",
     "text": [
      "  2%|▏         | 2/89 [00:00<00:04, 19.14it/s]"
     ]
    },
    {
     "name": "stdout",
     "output_type": "stream",
     "text": [
      "===> Integrating for helvetios-runs/rk5FR-L-R7.5-T15-inc107\n"
     ]
    },
    {
     "name": "stderr",
     "output_type": "stream",
     "text": [
      "100%|██████████| 89/89 [00:04<00:00, 21.32it/s]\n",
      "  3%|▎         | 3/89 [00:00<00:03, 22.09it/s]"
     ]
    },
    {
     "name": "stdout",
     "output_type": "stream",
     "text": [
      "===> Integrating for helvetios-runs/rk5FR-L-R7.5-T2-pop107\n"
     ]
    },
    {
     "name": "stderr",
     "output_type": "stream",
     "text": [
      "100%|██████████| 89/89 [00:04<00:00, 21.90it/s]\n",
      "  3%|▎         | 3/89 [00:00<00:04, 20.42it/s]"
     ]
    },
    {
     "name": "stdout",
     "output_type": "stream",
     "text": [
      "===> Integrating for helvetios-runs/rk5FR-L-R7.5-T5-pop107\n"
     ]
    },
    {
     "name": "stderr",
     "output_type": "stream",
     "text": [
      "100%|██████████| 89/89 [00:04<00:00, 21.96it/s]\n",
      "  3%|▎         | 3/89 [00:00<00:03, 22.54it/s]"
     ]
    },
    {
     "name": "stdout",
     "output_type": "stream",
     "text": [
      "===> Integrating for helvetios-runs/rk5FR-L-R7.5-T10-pop107\n"
     ]
    },
    {
     "name": "stderr",
     "output_type": "stream",
     "text": [
      "100%|██████████| 89/89 [00:03<00:00, 22.42it/s]\n",
      "  3%|▎         | 3/89 [00:00<00:03, 21.58it/s]"
     ]
    },
    {
     "name": "stdout",
     "output_type": "stream",
     "text": [
      "===> Integrating for helvetios-runs/rk5FR-L-R7.5-T15-pop107\n"
     ]
    },
    {
     "name": "stderr",
     "output_type": "stream",
     "text": [
      "100%|██████████| 89/89 [00:03<00:00, 22.63it/s]\n"
     ]
    }
   ],
   "source": [
    "# Generate alternatives:\n",
    "# BY INCIDENCE: \n",
    "incid = no_vacc[no_vacc['comp'].isin(['E', 'P', 'I', 'A', 'Q', 'H', 'R'])].groupby('placeID').sum()\n",
    "incid.sort_values('value', ascending=False)\n",
    "for scenario_name, scenario in scenarios.items():\n",
    "    print(scenario_name)\n",
    "    unvac_nd = np.copy(setup.pop_node)\n",
    "    max_vacc_rate, vacc_total, control_initial = build_scenario(setup, scenario)\n",
    "    control_initial = np.zeros((M, N))\n",
    "    allocated_total = 0\n",
    "\n",
    "    for nd in incid.sort_values('value', ascending=False).index:\n",
    "        for k in range(N):\n",
    "            if (allocated_total + max_vacc_rate[nd,k] < vacc_total) and (unvac_nd[nd] - max_vacc_rate[nd,k] > 0):\n",
    "                control_initial[nd, k] = max_vacc_rate[nd,k]\n",
    "                allocated_total += max_vacc_rate[nd,k]\n",
    "                unvac_nd[nd] -= max_vacc_rate[nd,k]\n",
    "                \n",
    "    p.apply_epicourse(setup, scenario['beta_mult'])\n",
    "\n",
    "    results, state_initial, yell, mob = COVIDVaccinationOCP.integrate(N,\n",
    "                                                                      setup=setup,\n",
    "                                                                      parameters=p,\n",
    "                                                                      controls=control_initial,\n",
    "                                                                      save_to=f'{outdir}{file_prefix}{scenario_name}-inc{nnodes}',\n",
    "                                                                      n_rk4_steps=n_int_steps)\n",
    "    results.set_index('date', drop=True, inplace=True)\n",
    "# BY POPULATION \n",
    "for scenario_name, scenario in scenarios.items():\n",
    "    max_vacc_rate, vacc_total, control_initial = build_scenario(setup, scenario)\n",
    "    control_initial = np.zeros((M, N))\n",
    "    allocated_total = 0\n",
    "    unvac_nd = np.copy(setup.pop_node)\n",
    "\n",
    "    for nd in reversed(np.argsort(setup.pop_node)):\n",
    "        for k in range(N):\n",
    "            if (allocated_total + max_vacc_rate[nd, k] < vacc_total) and (unvac_nd[nd] - max_vacc_rate[nd,k] > 0):\n",
    "                control_initial[nd, k] = max_vacc_rate[nd,k]\n",
    "                allocated_total += max_vacc_rate[nd,k]\n",
    "                unvac_nd[nd] -= max_vacc_rate[nd,k]\n",
    "                \n",
    "    p.apply_epicourse(setup, scenario['beta_mult'])\n",
    "\n",
    "    results, state_initial, yell, mob = COVIDVaccinationOCP.integrate(N,\n",
    "                                                                      setup=setup,\n",
    "                                                                      parameters=p,\n",
    "                                                                      controls=control_initial,\n",
    "                                                                      save_to=f'{outdir}{file_prefix}{scenario_name}-pop{nnodes}',\n",
    "                                                                      n_rk4_steps=n_int_steps)\n",
    "    results.set_index('date', drop=True, inplace=True)\n",
    "    \n"
   ]
  },
  {
   "cell_type": "code",
   "execution_count": 13,
   "metadata": {
    "execution": {
     "iopub.execute_input": "2021-01-02T14:45:21.965381Z",
     "iopub.status.busy": "2021-01-02T14:45:21.965025Z",
     "iopub.status.idle": "2021-01-02T14:46:29.893732Z",
     "shell.execute_reply": "2021-01-02T14:46:29.893017Z",
     "shell.execute_reply.started": "2021-01-02T14:45:21.965358Z"
    }
   },
   "outputs": [
    {
     "name": "stderr",
     "output_type": "stream",
     "text": [
      "  3%|▎         | 3/89 [00:00<00:03, 22.28it/s]"
     ]
    },
    {
     "name": "stdout",
     "output_type": "stream",
     "text": [
      "===> Integrating for helvetios-runs/rk5FR-L-R7.5-T2-opi107\n"
     ]
    },
    {
     "name": "stderr",
     "output_type": "stream",
     "text": [
      "100%|██████████| 89/89 [00:03<00:00, 23.42it/s]\n",
      "  3%|▎         | 3/89 [00:00<00:03, 22.07it/s]"
     ]
    },
    {
     "name": "stdout",
     "output_type": "stream",
     "text": [
      "===> Integrating for helvetios-runs/rk5FR-L-R7.5-T5-opi107\n"
     ]
    },
    {
     "name": "stderr",
     "output_type": "stream",
     "text": [
      "100%|██████████| 89/89 [00:03<00:00, 24.55it/s]\n",
      "  3%|▎         | 3/89 [00:00<00:03, 24.40it/s]"
     ]
    },
    {
     "name": "stdout",
     "output_type": "stream",
     "text": [
      "===> Integrating for helvetios-runs/rk5FR-L-R7.5-T10-opi107\n"
     ]
    },
    {
     "name": "stderr",
     "output_type": "stream",
     "text": [
      "100%|██████████| 89/89 [00:03<00:00, 22.96it/s]\n",
      "  3%|▎         | 3/89 [00:00<00:03, 22.64it/s]"
     ]
    },
    {
     "name": "stdout",
     "output_type": "stream",
     "text": [
      "===> Integrating for helvetios-runs/rk5FR-L-R7.5-T15-opi107\n"
     ]
    },
    {
     "name": "stderr",
     "output_type": "stream",
     "text": [
      "100%|██████████| 89/89 [00:03<00:00, 22.63it/s]\n"
     ]
    }
   ],
   "source": [
    "# Re-integrate vacc\n",
    "for scenario_name, scenario in scenarios.items():\n",
    "    max_vacc_rate, vacc_total, control_initial = build_scenario(setup, scenario)\n",
    "    md = pd.read_csv(f'{outdir}{file_prefix}{scenario_name}-opt{nnodes}.csv', index_col= 'date', parse_dates=True)\n",
    "    control_initial = np.zeros((M, N))\n",
    "    allocated_total = 0\n",
    "    unvac_nd = np.copy(setup.pop_node)\n",
    "\n",
    "    for nodename in md.place.unique():\n",
    "        mdn = md[(md['place'] == nodename) & (md['comp'] == 'vacc')]\n",
    "        for date in mdn.index[:-2]:\n",
    "            nd = setup.ind2name.index(nodename)\n",
    "            k = list(setup.model_days).index(date)\n",
    "            #print(date, k)\n",
    "            #if (allocated_total + max_vacc_rate[nd, k] < vacc_total) and (unvac_nd[nd] - max_vacc_rate[nd,k] > 0):\n",
    "            control_initial[nd, k] = mdn.loc[date].value\n",
    "            allocated_total += mdn.loc[date].value\n",
    "            unvac_nd[nd] -= mdn.loc[date].value\n",
    "                \n",
    "    p.apply_epicourse(setup, scenario['beta_mult'])\n",
    "\n",
    "    results, state_initial, yell, mob = COVIDVaccinationOCP.integrate(N,\n",
    "                                                                      setup=setup,\n",
    "                                                                      parameters=p,\n",
    "                                                                      controls=control_initial,\n",
    "                                                                      save_to=f'{outdir}{file_prefix}{scenario_name}-opi{nnodes}',\n",
    "                                                                      n_rk4_steps=n_int_steps)\n",
    "    results.set_index('date', drop=True, inplace=True)"
   ]
  },
  {
   "cell_type": "code",
   "execution_count": null,
   "metadata": {},
   "outputs": [],
   "source": []
  },
  {
   "cell_type": "code",
   "execution_count": null,
   "metadata": {
    "execution": {
     "iopub.status.busy": "2021-01-02T14:32:27.204804Z",
     "iopub.status.idle": "2021-01-02T14:32:27.205109Z"
    }
   },
   "outputs": [],
   "source": [
    "scenarios.keys()"
   ]
  },
  {
   "cell_type": "code",
   "execution_count": 23,
   "metadata": {
    "execution": {
     "iopub.execute_input": "2021-01-02T15:15:00.848554Z",
     "iopub.status.busy": "2021-01-02T15:15:00.848331Z",
     "iopub.status.idle": "2021-01-02T15:15:04.048259Z",
     "shell.execute_reply": "2021-01-02T15:15:04.047620Z",
     "shell.execute_reply.started": "2021-01-02T15:15:00.848529Z"
    }
   },
   "outputs": [],
   "source": [
    "scn_results = pd.DataFrame(columns=['total_vacc', 'method', 'infected'])\n",
    "methods = ['opi', 'int', 'inc', 'pop', ] # 'opt'\n",
    "for met in methods:\n",
    "    for scenario_name, scenario in scenarios.items():\n",
    "        max_vacc_rate, vacc_total, control_initial = build_scenario(setup, scenario)\n",
    "        md = pd.read_csv(f'{outdir}{file_prefix}{scenario_name}-{met}{nnodes}.csv', index_col= 'date', parse_dates=True)\n",
    "        infected = md[md['comp'].isin(['E', 'P', 'I', 'A', 'Q', 'H', 'R']) & (md.index == str(setup.end_date))]['value'].sum()\n",
    "        doses = md[md['comp']=='vacc']['value'].sum()\n",
    "        scn_results = pd.concat([scn_results, pd.DataFrame.from_dict({'total_vacc':[int(vacc_total)],\n",
    "                                                                      'method': [met],\n",
    "                                                                      'infected':[infected],\n",
    "                                                                       'doses': [doses]\n",
    "                                                                     })])                      \n",
    "baseline_infected = no_vacc[(no_vacc['comp'].isin(['E', 'P', 'I', 'A', 'Q', 'H', 'R'])) & (no_vacc.index == str(setup.end_date))]['value'].sum()\n",
    "scn_results['averted'] = baseline_infected - scn_results['infected']\n",
    "scn_results['avertedpervacc'] = scn_results['averted']/scn_results['doses']"
   ]
  },
  {
   "cell_type": "code",
   "execution_count": 24,
   "metadata": {
    "execution": {
     "iopub.execute_input": "2021-01-02T15:15:04.050015Z",
     "iopub.status.busy": "2021-01-02T15:15:04.049806Z",
     "iopub.status.idle": "2021-01-02T15:15:04.056196Z",
     "shell.execute_reply": "2021-01-02T15:15:04.055462Z",
     "shell.execute_reply.started": "2021-01-02T15:15:04.049989Z"
    }
   },
   "outputs": [],
   "source": [
    "#scn_results.replace('opt', 'Optimal', inplace=True)\n",
    "scn_results.replace('opi', 'Optimal', inplace=True)\n",
    "scn_results.replace('int', 'Uniform', inplace=True)\n",
    "scn_results.replace('inc', 'Incidence', inplace=True)\n",
    "scn_results.replace('pop', 'Population', inplace=True)"
   ]
  },
  {
   "cell_type": "code",
   "execution_count": 62,
   "metadata": {
    "execution": {
     "iopub.execute_input": "2021-01-02T16:21:42.417634Z",
     "iopub.status.busy": "2021-01-02T16:21:42.417402Z",
     "iopub.status.idle": "2021-01-02T16:21:42.421120Z",
     "shell.execute_reply": "2021-01-02T16:21:42.420434Z",
     "shell.execute_reply.started": "2021-01-02T16:21:42.417608Z"
    }
   },
   "outputs": [],
   "source": [
    "scn_results['total_vaccB'] = [f\"{i/1e6:.0f}M\" for i in scn_results['total_vacc']]"
   ]
  },
  {
   "cell_type": "code",
   "execution_count": 82,
   "metadata": {
    "execution": {
     "iopub.execute_input": "2021-01-02T16:27:14.998095Z",
     "iopub.status.busy": "2021-01-02T16:27:14.997872Z",
     "iopub.status.idle": "2021-01-02T16:27:15.353921Z",
     "shell.execute_reply": "2021-01-02T16:27:15.352642Z",
     "shell.execute_reply.started": "2021-01-02T16:27:14.998070Z"
    }
   },
   "outputs": [
    {
     "data": {
      "text/plain": [
       "<seaborn.axisgrid.FacetGrid at 0x7fcd52832110>"
      ]
     },
     "execution_count": 82,
     "metadata": {},
     "output_type": "execute_result"
    },
    {
     "data": {
      "image/png": "[encoded data removed]",
      "text/plain": [
       "<Figure size 595.75x500 with 1 Axes>"
      ]
     },
     "metadata": {},
     "output_type": "display_data"
    }
   ],
   "source": [
    "\n",
    "#fig, ax = plt.subplots(figsize=(10,10))\n",
    "sns.set(rc={'figure.figsize':(10,5), 'figure.dpi':50})\n",
    "sns.set_theme(style=\"whitegrid\")\n",
    "sns.set_context(\"talk\")\n",
    "# Draw a nested barplot by species and sex\n",
    "g = sns.catplot(\n",
    "    data=scn_results, kind=\"bar\",\n",
    "    x=\"total_vacc\", \n",
    "    #y=\"avertedpervacc\", \n",
    "    y=\"averted\",\n",
    "    hue=\"method\",\n",
    "    palette=\"rocket\",\n",
    "    #alpha=.9, \n",
    "    height=10,\n",
    ")\n",
    "g.despine(left=True)\n",
    "#g.fig.suptitle(f'Simulation on {setup.ndays} days, rate of 7.5M per month')\n",
    "g.set_axis_labels(\"Doses\", \"Averted Cases\")\n",
    "g.legend.set_title(\"Allocation\")\n",
    "g.set_xticklabels([str(i/1e6)+'M' for i in np.sort(scn_results['total_vacc'].unique())])"
   ]
  },
  {
   "cell_type": "code",
   "execution_count": 44,
   "metadata": {
    "execution": {
     "iopub.execute_input": "2021-01-02T16:05:46.660262Z",
     "iopub.status.busy": "2021-01-02T16:05:46.660033Z",
     "iopub.status.idle": "2021-01-02T16:05:46.664624Z",
     "shell.execute_reply": "2021-01-02T16:05:46.663925Z",
     "shell.execute_reply.started": "2021-01-02T16:05:46.660236Z"
    }
   },
   "outputs": [
    {
     "data": {
      "text/plain": [
       "['2.0M', '5.0M', '10.0M', '15.0M']"
      ]
     },
     "execution_count": 44,
     "metadata": {},
     "output_type": "execute_result"
    }
   ],
   "source": [
    "[f\"{str(i/1e6)}M\" for i in np.sort(scn_results['total_vacc'].unique())]"
   ]
  },
  {
   "cell_type": "code",
   "execution_count": null,
   "metadata": {
    "execution": {
     "iopub.status.busy": "2021-01-02T14:32:27.207017Z",
     "iopub.status.idle": "2021-01-02T14:32:27.207235Z"
    }
   },
   "outputs": [],
   "source": []
  },
  {
   "cell_type": "code",
   "execution_count": null,
   "metadata": {
    "execution": {
     "iopub.status.busy": "2021-01-02T14:32:27.207997Z",
     "iopub.status.idle": "2021-01-02T14:32:27.208305Z"
    }
   },
   "outputs": [],
   "source": [
    "g = sns.lineplot(\n",
    "    data=scn_results, \n",
    "    x=\"total_vacc\", y=\"averted\", hue=\"method\",\n",
    "    palette=\"rocket\", marker = 'o', \n",
    "    #alpha=.9, \n",
    ")"
   ]
  },
  {
   "cell_type": "code",
   "execution_count": null,
   "metadata": {
    "execution": {
     "iopub.status.busy": "2021-01-02T14:32:27.209520Z",
     "iopub.status.idle": "2021-01-02T14:32:27.209792Z"
    }
   },
   "outputs": [],
   "source": [
    "#fig, ax = plt.subplots(figsize=(10,10))\n",
    "sns.set(rc={'figure.figsize':(10,5), 'figure.dpi':50})\n",
    "sns.set_theme(style=\"whitegrid\")\n",
    "sns.set_context(\"talk\")\n",
    "# Draw a nested barplot by species and sex\n",
    "g = sns.catplot(\n",
    "    data=scn_results, kind=\"bar\",\n",
    "    x=\"method\", \n",
    "    #y=\"avertedpervacc\", \n",
    "    #x='total_vacc',\n",
    "    y=\"averted\",\n",
    "    hue=\"method\",\n",
    "    col=\"total_vaccB\",\n",
    "    palette=\"viridis\",\n",
    "    #alpha=.9, \n",
    "    height=5,\n",
    "    aspect = .5,\n",
    "    #width = 10\n",
    ")\n",
    "g.despine(left=True)\n",
    "#g.fig.suptitle(f'Simulation on {setup.ndays} days, rate of 7.5M per month')\n",
    "g.set_axis_labels(\"Strategy\", \"Averted Cases\")\n",
    "#g.legend.set_title(\"Allocation\")\n",
    "g.set_xticklabels([str(i/1e6)+'M' for i in np.sort(scn_results['total_vacc'].unique())])\n",
    "(g.set_axis_labels(\"\", \"Averted Cases\")\n",
    "#.set_xticklabels([\"Men\", \"Women\", \"Children\"])\n",
    ".set_titles(\"{col_name}\")\n",
    "#.set(ylim=(0, 1))\n",
    ".despine(left=True))\n",
    "g.set_xticklabels(rotation=-90)"
   ]
  },
  {
   "cell_type": "code",
   "execution_count": null,
   "metadata": {
    "execution": {
     "iopub.status.busy": "2021-01-02T14:32:27.210702Z",
     "iopub.status.idle": "2021-01-02T14:32:27.210926Z"
    }
   },
   "outputs": [],
   "source": []
  },
  {
   "cell_type": "code",
   "execution_count": null,
   "metadata": {
    "execution": {
     "iopub.status.busy": "2021-01-02T14:32:27.211840Z",
     "iopub.status.idle": "2021-01-02T14:32:27.212119Z"
    }
   },
   "outputs": [],
   "source": [
    "g = sns.catplot(\n",
    "    data=scn_results, kind=\"point\",\n",
    "    x=\"total_vacc\", y=\"averted\", hue=\"method\",\n",
    "    palette=\"rocket\",\n",
    "    #alpha=.9, \n",
    "    height=10,\n",
    ")\n",
    "g.despine(left=True)\n",
    "g.set_axis_labels(\"\", \"Averted Cases\")\n",
    "g.legend.set_title(\"Allocation\")\n",
    "g.set_xticklabels([str(i/1e6)+'M' for i in np.sort(scn_results['total_vacc'].unique())])"
   ]
  }
 ],
 "metadata": {
  "kernelspec": {
   "display_name": "Python (ocp-covid)",
   "language": "python",
   "name": "ocp-covid"
  },
  "language_info": {
   "codemirror_mode": {
    "name": "ipython",
    "version": 3
   },
   "file_extension": ".py",
   "mimetype": "text/x-python",
   "name": "python",
   "nbconvert_exporter": "python",
   "pygments_lexer": "ipython3",
   "version": "3.7.9"
  }
 },
 "nbformat": 4,
 "nbformat_minor": 4
}
