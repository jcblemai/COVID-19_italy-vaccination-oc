{
 "cells": [
  {
   "cell_type": "markdown",
   "metadata": {
    "execution": {
     "iopub.execute_input": "2020-12-22T17:15:12.988706Z",
     "iopub.status.busy": "2020-12-22T17:15:12.988298Z",
     "iopub.status.idle": "2020-12-22T17:15:13.230048Z",
     "shell.execute_reply": "2020-12-22T17:15:13.228271Z",
     "shell.execute_reply.started": "2020-12-22T17:15:12.988665Z"
    }
   },
   "source": [
    "# Re-integrate vacc\n",
    "for scenario_name, scenario in scenarios.items():\n",
    "    max_vacc_rate, vacc_total, control_initial = build_scenario(setup, scenario)\n",
    "    md = pd.read_csv(f'{outdir}{file_prefix}{scenario_name}-{met}{nnodes}.csv', index_col= 'date', parse_dates=True)# Analysis of optimal scenarios agaisnt other scenarios"
   ]
  },
  {
   "cell_type": "code",
   "execution_count": 34,
   "metadata": {
    "execution": {
     "iopub.execute_input": "2021-01-12T09:35:08.808974Z",
     "iopub.status.busy": "2021-01-12T09:35:08.808740Z",
     "iopub.status.idle": "2021-01-12T09:35:08.973633Z",
     "shell.execute_reply": "2021-01-12T09:35:08.973006Z",
     "shell.execute_reply.started": "2021-01-12T09:35:08.808947Z"
    }
   },
   "outputs": [
    {
     "name": "stdout",
     "output_type": "stream",
     "text": [
      "Loaded Italy Setup with 107 nodes.\n"
     ]
    }
   ],
   "source": [
    "import copy\n",
    "import matplotlib as mpl\n",
    "import matplotlib.pyplot as plt\n",
    "import numpy as np\n",
    "import pandas as pd\n",
    "import networkx\n",
    "from ItalySetup import ItalySetup\n",
    "from covidOCP import COVIDVaccinationOCP, COVIDParametersOCP\n",
    "from main import pick_scenario, build_scenario\n",
    "import seaborn as sns\n",
    "import datetime\n",
    "import pickle\n",
    "\n",
    "nx = 9\n",
    "states_names = ['S', 'E', 'P', 'I', 'A', 'Q', 'H', 'R', 'V']\n",
    "outdir = 'model_output/'\n",
    "when = 'future'\n",
    "file_prefix = f'2021-01-11'\n",
    "outdir = '2021-01-11-newscn/'\n",
    "\n",
    "n_int_steps = 5\n",
    "nnodes = 107  # nodes\n",
    "ndays = 120\n",
    "\n",
    "setup = ItalySetup(nnodes, ndays, when)\n",
    "M = setup.nnodes\n",
    "N = len(setup.model_days) - 1\n",
    "\n",
    "with open(f'model_output/parameters_{nnodes}_{when}.pkl', 'rb') as inp:\n",
    "    p = pickle.load(inp)"
   ]
  },
  {
   "cell_type": "code",
   "execution_count": 35,
   "metadata": {
    "execution": {
     "iopub.execute_input": "2021-01-12T09:35:11.450523Z",
     "iopub.status.busy": "2021-01-12T09:35:11.450291Z",
     "iopub.status.idle": "2021-01-12T09:35:11.464780Z",
     "shell.execute_reply": "2021-01-12T09:35:11.464029Z",
     "shell.execute_reply.started": "2021-01-12T09:35:11.450496Z"
    }
   },
   "outputs": [],
   "source": [
    "scenarios = {pick_scenario(setup, i)['name']:pick_scenario(setup, i) for i in np.arange(29)}"
   ]
  },
  {
   "cell_type": "code",
   "execution_count": 3,
   "metadata": {
    "execution": {
     "iopub.execute_input": "2021-01-11T15:35:55.350224Z",
     "iopub.status.busy": "2021-01-11T15:35:55.350025Z",
     "iopub.status.idle": "2021-01-11T15:35:55.363203Z",
     "shell.execute_reply": "2021-01-11T15:35:55.362603Z",
     "shell.execute_reply.started": "2021-01-11T15:35:55.350202Z"
    }
   },
   "outputs": [],
   "source": []
  },
  {
   "cell_type": "code",
   "execution_count": 36,
   "metadata": {
    "execution": {
     "iopub.execute_input": "2021-01-12T09:35:12.678492Z",
     "iopub.status.busy": "2021-01-12T09:35:12.678264Z",
     "iopub.status.idle": "2021-01-12T09:35:12.682753Z",
     "shell.execute_reply": "2021-01-12T09:35:12.681945Z",
     "shell.execute_reply.started": "2021-01-12T09:35:12.678466Z"
    }
   },
   "outputs": [
    {
     "name": "stdout",
     "output_type": "stream",
     "text": [
      "10\n"
     ]
    }
   ],
   "source": [
    "# Choose a subset of scenarios:\n",
    "pick = 'U-r1'\n",
    "scenarios = {k:v for (k,v) in scenarios.items() if pick in k}\n",
    "print(len(scenarios))"
   ]
  },
  {
   "cell_type": "code",
   "execution_count": 37,
   "metadata": {
    "execution": {
     "iopub.execute_input": "2021-01-12T09:35:15.047380Z",
     "iopub.status.busy": "2021-01-12T09:35:15.047132Z",
     "iopub.status.idle": "2021-01-12T09:35:15.219543Z",
     "shell.execute_reply": "2021-01-12T09:35:15.218911Z",
     "shell.execute_reply.started": "2021-01-12T09:35:15.047351Z"
    }
   },
   "outputs": [],
   "source": [
    "no_vacc = {}\n",
    "no_vacc['L'] = pd.read_csv(f'2021-01-11-newscn/2021-01-11L-r1-t1000000-int107_120-nc.csv', index_col= 'date', parse_dates=True)\n",
    "no_vacc['U'] = pd.read_csv(f'2021-01-11-newscn/2021-01-11U-r1-t1000000-int107_120-nc.csv', index_col= 'date', parse_dates=True)"
   ]
  },
  {
   "cell_type": "code",
   "execution_count": null,
   "metadata": {},
   "outputs": [],
   "source": []
  },
  {
   "cell_type": "code",
   "execution_count": 38,
   "metadata": {
    "execution": {
     "iopub.execute_input": "2021-01-12T09:35:17.816850Z",
     "iopub.status.busy": "2021-01-12T09:35:17.816609Z",
     "iopub.status.idle": "2021-01-12T09:37:08.279203Z",
     "shell.execute_reply": "2021-01-12T09:37:08.278390Z",
     "shell.execute_reply.started": "2021-01-12T09:35:17.816822Z"
    }
   },
   "outputs": [
    {
     "name": "stdout",
     "output_type": "stream",
     "text": [
      "YES 2021-01-11-newscn/2021-01-11U-r1-t125000-opt107.csv\n"
     ]
    },
    {
     "name": "stderr",
     "output_type": "stream",
     "text": [
      "  5%|▌         | 6/119 [00:00<00:04, 23.79it/s]"
     ]
    },
    {
     "name": "stdout",
     "output_type": "stream",
     "text": [
      "===> Integrating for 2021-01-11-newscn/2021-01-11U-r1-t125000-opi107_120\n"
     ]
    },
    {
     "name": "stderr",
     "output_type": "stream",
     "text": [
      "100%|██████████| 119/119 [00:05<00:00, 23.72it/s]\n"
     ]
    },
    {
     "name": "stdout",
     "output_type": "stream",
     "text": [
      "NOT 2021-01-11-newscn/2021-01-11U-r15-t125000-opt107.csv\n",
      "YES 2021-01-11-newscn/2021-01-11U-r1-t250000-opt107.csv\n"
     ]
    },
    {
     "name": "stderr",
     "output_type": "stream",
     "text": [
      "  3%|▎         | 3/119 [00:00<00:04, 23.98it/s]"
     ]
    },
    {
     "name": "stdout",
     "output_type": "stream",
     "text": [
      "===> Integrating for 2021-01-11-newscn/2021-01-11U-r1-t250000-opi107_120\n"
     ]
    },
    {
     "name": "stderr",
     "output_type": "stream",
     "text": [
      "100%|██████████| 119/119 [00:05<00:00, 22.31it/s]\n"
     ]
    },
    {
     "name": "stdout",
     "output_type": "stream",
     "text": [
      "NOT 2021-01-11-newscn/2021-01-11U-r15-t250000-opt107.csv\n",
      "YES 2021-01-11-newscn/2021-01-11U-r1-t479700-opt107.csv\n"
     ]
    },
    {
     "name": "stderr",
     "output_type": "stream",
     "text": [
      "  5%|▌         | 6/119 [00:00<00:04, 24.70it/s]"
     ]
    },
    {
     "name": "stdout",
     "output_type": "stream",
     "text": [
      "===> Integrating for 2021-01-11-newscn/2021-01-11U-r1-t479700-opi107_120\n"
     ]
    },
    {
     "name": "stderr",
     "output_type": "stream",
     "text": [
      "100%|██████████| 119/119 [00:04<00:00, 24.46it/s]\n"
     ]
    },
    {
     "name": "stdout",
     "output_type": "stream",
     "text": [
      "NOT 2021-01-11-newscn/2021-01-11U-r15-t479700-opt107.csv\n",
      "YES 2021-01-11-newscn/2021-01-11U-r1-t1000000-opt107.csv\n"
     ]
    },
    {
     "name": "stderr",
     "output_type": "stream",
     "text": [
      "  5%|▌         | 6/119 [00:00<00:04, 24.18it/s]"
     ]
    },
    {
     "name": "stdout",
     "output_type": "stream",
     "text": [
      "===> Integrating for 2021-01-11-newscn/2021-01-11U-r1-t1000000-opi107_120\n"
     ]
    },
    {
     "name": "stderr",
     "output_type": "stream",
     "text": [
      "100%|██████████| 119/119 [00:05<00:00, 23.16it/s]\n"
     ]
    },
    {
     "name": "stdout",
     "output_type": "stream",
     "text": [
      "NOT 2021-01-11-newscn/2021-01-11U-r15-t1000000-opt107.csv\n",
      "YES 2021-01-11-newscn/2021-01-11U-r1-t2000000-opt107.csv\n"
     ]
    },
    {
     "name": "stderr",
     "output_type": "stream",
     "text": [
      "  3%|▎         | 3/119 [00:00<00:04, 25.31it/s]"
     ]
    },
    {
     "name": "stdout",
     "output_type": "stream",
     "text": [
      "===> Integrating for 2021-01-11-newscn/2021-01-11U-r1-t2000000-opi107_120\n"
     ]
    },
    {
     "name": "stderr",
     "output_type": "stream",
     "text": [
      "100%|██████████| 119/119 [00:04<00:00, 24.00it/s]\n"
     ]
    },
    {
     "name": "stdout",
     "output_type": "stream",
     "text": [
      "NOT 2021-01-11-newscn/2021-01-11U-r15-t2000000-opt107.csv\n"
     ]
    }
   ],
   "source": [
    "scenarios_opt = {}\n",
    "## Re-integrate vacc\n",
    "for scenario_name, scenario in scenarios.items():\n",
    "    max_vacc_rate, vacc_total, control_initial = build_scenario(setup, scenario)\n",
    "    fname = f'{outdir}{file_prefix}{scenario_name}-opt{nnodes}.csv'\n",
    "    try:\n",
    "        md = pd.read_csv(fname, index_col= 'date', parse_dates=True)\n",
    "        print(f'YES {fname}')\n",
    "        control_initial = np.zeros((M, N))\n",
    "        allocated_total = 0\n",
    "        unvac_nd = np.copy(setup.pop_node)\n",
    "\n",
    "        for nodename in md.place.unique():\n",
    "            mdn = md[(md['place'] == nodename) & (md['comp'] == 'vacc')]\n",
    "            for date in mdn.index[:-2]:\n",
    "                nd = setup.ind2name.index(nodename)\n",
    "                k = list(setup.model_days).index(date)\n",
    "                control_initial[nd, k] = mdn.loc[date].value\n",
    "                allocated_total += mdn.loc[date].value\n",
    "                unvac_nd[nd] -= mdn.loc[date].value\n",
    "\n",
    "        p.apply_epicourse(setup, scenario['beta_mult'])\n",
    "\n",
    "        results, state_initial, yell, mob = COVIDVaccinationOCP.integrate(N,\n",
    "                                                                          setup=setup,\n",
    "                                                                          parameters=p,\n",
    "                                                                          controls=control_initial,\n",
    "                                                                          save_to=f'{outdir}{file_prefix}{scenario_name}-opi{nnodes}_{ndays}',\n",
    "                                                                          n_rk4_steps=n_int_steps)\n",
    "        results.set_index('date', drop=True, inplace=True)\n",
    "        scenarios_opt[scenario_name] = scenario\n",
    "        \n",
    "    except FileNotFoundError:\n",
    "        print(f'NOT {fname}')"
   ]
  },
  {
   "cell_type": "code",
   "execution_count": null,
   "metadata": {},
   "outputs": [],
   "source": []
  },
  {
   "cell_type": "code",
   "execution_count": 23,
   "metadata": {
    "execution": {
     "iopub.execute_input": "2021-01-12T09:07:28.770787Z",
     "iopub.status.busy": "2021-01-12T09:07:28.770534Z",
     "iopub.status.idle": "2021-01-12T09:07:28.774752Z",
     "shell.execute_reply": "2021-01-12T09:07:28.774068Z",
     "shell.execute_reply.started": "2021-01-12T09:07:28.770761Z"
    }
   },
   "outputs": [
    {
     "data": {
      "text/plain": [
       "'U'"
      ]
     },
     "execution_count": 23,
     "metadata": {},
     "output_type": "execute_result"
    }
   ],
   "source": []
  },
  {
   "cell_type": "code",
   "execution_count": 39,
   "metadata": {
    "execution": {
     "iopub.execute_input": "2021-01-12T09:37:52.732278Z",
     "iopub.status.busy": "2021-01-12T09:37:52.732053Z",
     "iopub.status.idle": "2021-01-12T09:40:18.772554Z",
     "shell.execute_reply": "2021-01-12T09:40:18.772090Z",
     "shell.execute_reply.started": "2021-01-12T09:37:52.732252Z"
    },
    "scrolled": true
   },
   "outputs": [
    {
     "name": "stdout",
     "output_type": "stream",
     "text": [
      "U-r1-t125000\n"
     ]
    },
    {
     "name": "stderr",
     "output_type": "stream",
     "text": [
      "  3%|▎         | 3/119 [00:00<00:05, 22.56it/s]"
     ]
    },
    {
     "name": "stdout",
     "output_type": "stream",
     "text": [
      "===> Integrating for 2021-01-11-newscn/2021-01-11U-r1-t125000-inc107_120\n"
     ]
    },
    {
     "name": "stderr",
     "output_type": "stream",
     "text": [
      "100%|██████████| 119/119 [00:05<00:00, 23.06it/s]\n"
     ]
    },
    {
     "name": "stdout",
     "output_type": "stream",
     "text": [
      "U-r1-t250000\n"
     ]
    },
    {
     "name": "stderr",
     "output_type": "stream",
     "text": [
      "  3%|▎         | 3/119 [00:00<00:05, 22.95it/s]"
     ]
    },
    {
     "name": "stdout",
     "output_type": "stream",
     "text": [
      "===> Integrating for 2021-01-11-newscn/2021-01-11U-r1-t250000-inc107_120\n"
     ]
    },
    {
     "name": "stderr",
     "output_type": "stream",
     "text": [
      "100%|██████████| 119/119 [00:05<00:00, 23.30it/s]\n"
     ]
    },
    {
     "name": "stdout",
     "output_type": "stream",
     "text": [
      "U-r1-t479700\n"
     ]
    },
    {
     "name": "stderr",
     "output_type": "stream",
     "text": [
      "  5%|▌         | 6/119 [00:00<00:04, 23.07it/s]"
     ]
    },
    {
     "name": "stdout",
     "output_type": "stream",
     "text": [
      "===> Integrating for 2021-01-11-newscn/2021-01-11U-r1-t479700-inc107_120\n"
     ]
    },
    {
     "name": "stderr",
     "output_type": "stream",
     "text": [
      "100%|██████████| 119/119 [00:05<00:00, 23.10it/s]\n"
     ]
    },
    {
     "name": "stdout",
     "output_type": "stream",
     "text": [
      "U-r1-t1000000\n"
     ]
    },
    {
     "name": "stderr",
     "output_type": "stream",
     "text": [
      "  3%|▎         | 3/119 [00:00<00:05, 23.10it/s]"
     ]
    },
    {
     "name": "stdout",
     "output_type": "stream",
     "text": [
      "===> Integrating for 2021-01-11-newscn/2021-01-11U-r1-t1000000-inc107_120\n"
     ]
    },
    {
     "name": "stderr",
     "output_type": "stream",
     "text": [
      "100%|██████████| 119/119 [00:05<00:00, 22.54it/s]\n"
     ]
    },
    {
     "name": "stdout",
     "output_type": "stream",
     "text": [
      "U-r1-t2000000\n"
     ]
    },
    {
     "name": "stderr",
     "output_type": "stream",
     "text": [
      "  3%|▎         | 3/119 [00:00<00:05, 23.12it/s]"
     ]
    },
    {
     "name": "stdout",
     "output_type": "stream",
     "text": [
      "===> Integrating for 2021-01-11-newscn/2021-01-11U-r1-t2000000-inc107_120\n"
     ]
    },
    {
     "name": "stderr",
     "output_type": "stream",
     "text": [
      "100%|██████████| 119/119 [00:05<00:00, 23.28it/s]\n",
      "  3%|▎         | 3/119 [00:00<00:04, 25.71it/s]"
     ]
    },
    {
     "name": "stdout",
     "output_type": "stream",
     "text": [
      "===> Integrating for 2021-01-11-newscn/2021-01-11U-r1-t125000-pop107_120\n"
     ]
    },
    {
     "name": "stderr",
     "output_type": "stream",
     "text": [
      "100%|██████████| 119/119 [00:05<00:00, 23.14it/s]\n",
      "  3%|▎         | 3/119 [00:00<00:04, 23.80it/s]"
     ]
    },
    {
     "name": "stdout",
     "output_type": "stream",
     "text": [
      "===> Integrating for 2021-01-11-newscn/2021-01-11U-r1-t250000-pop107_120\n"
     ]
    },
    {
     "name": "stderr",
     "output_type": "stream",
     "text": [
      "100%|██████████| 119/119 [00:05<00:00, 22.80it/s]\n",
      "  5%|▌         | 6/119 [00:00<00:05, 22.53it/s]"
     ]
    },
    {
     "name": "stdout",
     "output_type": "stream",
     "text": [
      "===> Integrating for 2021-01-11-newscn/2021-01-11U-r1-t479700-pop107_120\n"
     ]
    },
    {
     "name": "stderr",
     "output_type": "stream",
     "text": [
      "100%|██████████| 119/119 [00:05<00:00, 22.11it/s]\n",
      "  3%|▎         | 3/119 [00:00<00:05, 23.19it/s]"
     ]
    },
    {
     "name": "stdout",
     "output_type": "stream",
     "text": [
      "===> Integrating for 2021-01-11-newscn/2021-01-11U-r1-t1000000-pop107_120\n"
     ]
    },
    {
     "name": "stderr",
     "output_type": "stream",
     "text": [
      "100%|██████████| 119/119 [00:05<00:00, 21.92it/s]\n",
      "  3%|▎         | 3/119 [00:00<00:05, 22.19it/s]"
     ]
    },
    {
     "name": "stdout",
     "output_type": "stream",
     "text": [
      "===> Integrating for 2021-01-11-newscn/2021-01-11U-r1-t2000000-pop107_120\n"
     ]
    },
    {
     "name": "stderr",
     "output_type": "stream",
     "text": [
      "100%|██████████| 119/119 [00:04<00:00, 23.91it/s]\n"
     ]
    }
   ],
   "source": [
    "# Generate alternatives:\n",
    "# BY INCIDENCE: \n",
    "for scenario_name, scenario in scenarios_opt.items():\n",
    "    nv = no_vacc[scenario_name.split('-')[0]]\n",
    "    incid = nv[nv['comp'].isin(['E', 'P', 'I', 'A', 'Q', 'H', 'R'])].groupby('placeID').sum()\n",
    "    incid.sort_values('value', ascending=False)\n",
    "    print(scenario_name)\n",
    "    control_initial = np.zeros((M, N))\n",
    "    max_vacc_rate = np.zeros((M, N))\n",
    "    unvac_nd = np.copy(setup.pop_node)\n",
    "    vacc_total = np.zeros(N)\n",
    "\n",
    "    stockpile = 0\n",
    "    for k in range(N):\n",
    "        vacc_total[k] = scenario['newdoseperday']\n",
    "        stockpile += vacc_total[k]\n",
    "        for nd in range(M):\n",
    "            pop_nd = setup.pop_node[nd]\n",
    "            max_vacc_rate[nd, k] = eval(scenario['rate_fomula'])\n",
    "            to_allocate = stockpile * incid.loc[nd]['value'] / incid['value'].sum()\n",
    "            to_allocate = min(to_allocate, max_vacc_rate[nd, k], unvac_nd[nd] - 100)\n",
    "            control_initial[nd, k] = to_allocate\n",
    "            stockpile -= to_allocate\n",
    "            unvac_nd[nd] -= to_allocate\n",
    "                \n",
    "    p.apply_epicourse(setup, scenario['beta_mult'])\n",
    "\n",
    "    results, state_initial, yell, mob = COVIDVaccinationOCP.integrate(N,\n",
    "                                                                      setup=setup,\n",
    "                                                                      parameters=p,\n",
    "                                                                      controls=control_initial,\n",
    "                                                                      save_to=f'{outdir}{file_prefix}{scenario_name}-inc{nnodes}_{ndays}',\n",
    "                                                                      n_rk4_steps=n_int_steps)\n",
    "    results.set_index('date', drop=True, inplace=True)\n",
    "\n",
    "# BY POPULATION \n",
    "for scenario_name, scenario in scenarios_opt.items():\n",
    "    control_initial = np.zeros((M, N))\n",
    "    max_vacc_rate = np.zeros((M, N))\n",
    "    unvac_nd = np.copy(setup.pop_node)\n",
    "    vacc_total = np.zeros(N)\n",
    "\n",
    "    stockpile = 0\n",
    "    for k in range(N):\n",
    "        vacc_total[k] = scenario['newdoseperday']\n",
    "        stockpile += vacc_total[k]\n",
    "        for nd in range(M):\n",
    "            pop_nd = setup.pop_node[nd]\n",
    "            max_vacc_rate[nd, k] = eval(scenario['rate_fomula'])\n",
    "            to_allocate = stockpile * pop_nd / setup.pop_node.sum()\n",
    "            to_allocate = min(to_allocate, max_vacc_rate[nd, k], unvac_nd[nd] - 100)\n",
    "            control_initial[nd, k] = to_allocate\n",
    "            stockpile -= to_allocate\n",
    "            unvac_nd[nd] -= to_allocate\n",
    "    p.apply_epicourse(setup, scenario['beta_mult'])\n",
    "\n",
    "    results, state_initial, yell, mob = COVIDVaccinationOCP.integrate(N,\n",
    "                                                                      setup=setup,\n",
    "                                                                      parameters=p,\n",
    "                                                                      controls=control_initial,\n",
    "                                                                      save_to=f'{outdir}{file_prefix}{scenario_name}-pop{nnodes}_{ndays}',\n",
    "                                                                      n_rk4_steps=n_int_steps)\n",
    "    results.set_index('date', drop=True, inplace=True)"
   ]
  },
  {
   "cell_type": "code",
   "execution_count": null,
   "metadata": {},
   "outputs": [],
   "source": []
  },
  {
   "cell_type": "code",
   "execution_count": null,
   "metadata": {},
   "outputs": [],
   "source": []
  },
  {
   "cell_type": "code",
   "execution_count": 25,
   "metadata": {
    "execution": {
     "iopub.execute_input": "2021-01-12T09:11:42.169736Z",
     "iopub.status.busy": "2021-01-12T09:11:42.169493Z",
     "iopub.status.idle": "2021-01-12T09:11:42.173524Z",
     "shell.execute_reply": "2021-01-12T09:11:42.172808Z",
     "shell.execute_reply.started": "2021-01-12T09:11:42.169710Z"
    }
   },
   "outputs": [
    {
     "data": {
      "text/plain": [
       "['U', 'r1', 't2000000']"
      ]
     },
     "execution_count": 25,
     "metadata": {},
     "output_type": "execute_result"
    }
   ],
   "source": [
    "scenario_name.split('-')"
   ]
  },
  {
   "cell_type": "code",
   "execution_count": 40,
   "metadata": {
    "execution": {
     "iopub.execute_input": "2021-01-12T09:40:18.773872Z",
     "iopub.status.busy": "2021-01-12T09:40:18.773722Z",
     "iopub.status.idle": "2021-01-12T09:40:24.230121Z",
     "shell.execute_reply": "2021-01-12T09:40:24.229467Z",
     "shell.execute_reply.started": "2021-01-12T09:40:18.773853Z"
    }
   },
   "outputs": [],
   "source": [
    "scn_results = pd.DataFrame(columns=['newdoseperweek', 'method', 'infected'])\n",
    "methods = ['opi', 'inc', 'pop'] # 'opt'\n",
    "for met in methods:\n",
    "    for scenario_name, scenario in scenarios_opt.items():\n",
    "        max_vacc_rate, vacc_total, control_initial = build_scenario(setup, scenario)\n",
    "        md = pd.read_csv(f'{outdir}{file_prefix}{scenario_name}-{met}{nnodes}_{ndays}.csv', index_col= 'date', parse_dates=True)\n",
    "        infected = md[md['comp'].isin(['E', 'P', 'I', 'A', 'Q', 'H', 'R']) & (md.index == str(setup.end_date))]['value'].sum()\n",
    "        doses = md[md['comp']=='vacc']['value'].sum()\n",
    "        nv = no_vacc[scenario_name.split('-')[0]]\n",
    "        baseline_infected = nv[(nv['comp'].isin(['E', 'P', 'I', 'A', 'Q', 'H', 'R'])) & (nv.index == str(setup.end_date))]['value'].sum()\n",
    "        scn_results = pd.concat([scn_results, pd.DataFrame.from_dict({'newdoseperweek':[int(np.diff(vacc_total)[0:7].sum())],\n",
    "                                                                      'method': [met],\n",
    "                                                                      'infected':[infected],\n",
    "                                                                       'doses': [doses],\n",
    "                                                                       'scenario-beta': [scenario_name.split('-')[0]],\n",
    "                                                                       'scenario-rate': [scenario_name.split('-')[1]],\n",
    "                                                                       'scenario-tot': [scenario_name.split('-')[2]],\n",
    "                                                                       'averted': baseline_infected - infected\n",
    "                                                                     })])                      \n",
    "   \n",
    "scn_results['avertedpervacc'] = scn_results['averted']/scn_results['doses']"
   ]
  },
  {
   "cell_type": "code",
   "execution_count": 41,
   "metadata": {
    "execution": {
     "iopub.execute_input": "2021-01-12T09:40:24.231690Z",
     "iopub.status.busy": "2021-01-12T09:40:24.231496Z",
     "iopub.status.idle": "2021-01-12T09:40:24.239113Z",
     "shell.execute_reply": "2021-01-12T09:40:24.238529Z",
     "shell.execute_reply.started": "2021-01-12T09:40:24.231663Z"
    }
   },
   "outputs": [],
   "source": [
    "#scn_results.replace('opt', 'Optimal', inplace=True)\n",
    "scn_results.replace('opi', 'Optimal', inplace=True)\n",
    "scn_results.replace('int', 'Uniform', inplace=True)\n",
    "scn_results.replace('inc', 'Incidence', inplace=True)\n",
    "scn_results.replace('pop', 'Population', inplace=True)"
   ]
  },
  {
   "cell_type": "code",
   "execution_count": 29,
   "metadata": {
    "execution": {
     "iopub.execute_input": "2021-01-12T09:13:43.927116Z",
     "iopub.status.busy": "2021-01-12T09:13:43.926877Z",
     "iopub.status.idle": "2021-01-12T09:13:43.945419Z",
     "shell.execute_reply": "2021-01-12T09:13:43.944743Z",
     "shell.execute_reply.started": "2021-01-12T09:13:43.927089Z"
    }
   },
   "outputs": [
    {
     "data": {
      "text/html": [
       "<div>\n",
       "<style scoped>\n",
       "    .dataframe tbody tr th:only-of-type {\n",
       "        vertical-align: middle;\n",
       "    }\n",
       "\n",
       "    .dataframe tbody tr th {\n",
       "        vertical-align: top;\n",
       "    }\n",
       "\n",
       "    .dataframe thead th {\n",
       "        text-align: right;\n",
       "    }\n",
       "</style>\n",
       "<table border=\"1\" class=\"dataframe\">\n",
       "  <thead>\n",
       "    <tr style=\"text-align: right;\">\n",
       "      <th></th>\n",
       "      <th>newdoseperweek</th>\n",
       "      <th>method</th>\n",
       "      <th>infected</th>\n",
       "      <th>doses</th>\n",
       "      <th>scenario-beta</th>\n",
       "      <th>scenario-rate</th>\n",
       "      <th>scenario-tot</th>\n",
       "      <th>averted</th>\n",
       "      <th>avertedpervacc</th>\n",
       "    </tr>\n",
       "  </thead>\n",
       "  <tbody>\n",
       "    <tr>\n",
       "      <th>0</th>\n",
       "      <td>250000</td>\n",
       "      <td>Optimal</td>\n",
       "      <td>7.718522e+06</td>\n",
       "      <td>3.933333e+06</td>\n",
       "      <td>U</td>\n",
       "      <td>r1</td>\n",
       "      <td>t250000</td>\n",
       "      <td>592781.954804</td>\n",
       "      <td>0.150707</td>\n",
       "    </tr>\n",
       "    <tr>\n",
       "      <th>0</th>\n",
       "      <td>479700</td>\n",
       "      <td>Optimal</td>\n",
       "      <td>7.718522e+06</td>\n",
       "      <td>3.933333e+06</td>\n",
       "      <td>U</td>\n",
       "      <td>r1</td>\n",
       "      <td>t479700</td>\n",
       "      <td>592781.954804</td>\n",
       "      <td>0.150707</td>\n",
       "    </tr>\n",
       "    <tr>\n",
       "      <th>0</th>\n",
       "      <td>1000000</td>\n",
       "      <td>Optimal</td>\n",
       "      <td>7.718522e+06</td>\n",
       "      <td>3.933333e+06</td>\n",
       "      <td>U</td>\n",
       "      <td>r1</td>\n",
       "      <td>t1000000</td>\n",
       "      <td>592781.954804</td>\n",
       "      <td>0.150707</td>\n",
       "    </tr>\n",
       "    <tr>\n",
       "      <th>0</th>\n",
       "      <td>2000000</td>\n",
       "      <td>Optimal</td>\n",
       "      <td>7.718522e+06</td>\n",
       "      <td>3.933333e+06</td>\n",
       "      <td>U</td>\n",
       "      <td>r1</td>\n",
       "      <td>t2000000</td>\n",
       "      <td>592781.954804</td>\n",
       "      <td>0.150707</td>\n",
       "    </tr>\n",
       "    <tr>\n",
       "      <th>0</th>\n",
       "      <td>250000</td>\n",
       "      <td>Incidence</td>\n",
       "      <td>7.726134e+06</td>\n",
       "      <td>3.961143e+06</td>\n",
       "      <td>U</td>\n",
       "      <td>r1</td>\n",
       "      <td>t250000</td>\n",
       "      <td>585170.580973</td>\n",
       "      <td>0.147728</td>\n",
       "    </tr>\n",
       "    <tr>\n",
       "      <th>0</th>\n",
       "      <td>479700</td>\n",
       "      <td>Incidence</td>\n",
       "      <td>7.718996e+06</td>\n",
       "      <td>3.996777e+06</td>\n",
       "      <td>U</td>\n",
       "      <td>r1</td>\n",
       "      <td>t479700</td>\n",
       "      <td>592308.297671</td>\n",
       "      <td>0.148196</td>\n",
       "    </tr>\n",
       "    <tr>\n",
       "      <th>0</th>\n",
       "      <td>1000000</td>\n",
       "      <td>Incidence</td>\n",
       "      <td>7.718501e+06</td>\n",
       "      <td>4.000000e+06</td>\n",
       "      <td>U</td>\n",
       "      <td>r1</td>\n",
       "      <td>t1000000</td>\n",
       "      <td>592803.620440</td>\n",
       "      <td>0.148201</td>\n",
       "    </tr>\n",
       "    <tr>\n",
       "      <th>0</th>\n",
       "      <td>2000000</td>\n",
       "      <td>Incidence</td>\n",
       "      <td>7.718501e+06</td>\n",
       "      <td>4.000000e+06</td>\n",
       "      <td>U</td>\n",
       "      <td>r1</td>\n",
       "      <td>t2000000</td>\n",
       "      <td>592803.620440</td>\n",
       "      <td>0.148201</td>\n",
       "    </tr>\n",
       "    <tr>\n",
       "      <th>0</th>\n",
       "      <td>250000</td>\n",
       "      <td>Population</td>\n",
       "      <td>7.725532e+06</td>\n",
       "      <td>3.982614e+06</td>\n",
       "      <td>U</td>\n",
       "      <td>r1</td>\n",
       "      <td>t250000</td>\n",
       "      <td>585771.826666</td>\n",
       "      <td>0.147082</td>\n",
       "    </tr>\n",
       "    <tr>\n",
       "      <th>0</th>\n",
       "      <td>479700</td>\n",
       "      <td>Population</td>\n",
       "      <td>7.718501e+06</td>\n",
       "      <td>4.000000e+06</td>\n",
       "      <td>U</td>\n",
       "      <td>r1</td>\n",
       "      <td>t479700</td>\n",
       "      <td>592803.620440</td>\n",
       "      <td>0.148201</td>\n",
       "    </tr>\n",
       "    <tr>\n",
       "      <th>0</th>\n",
       "      <td>1000000</td>\n",
       "      <td>Population</td>\n",
       "      <td>7.718501e+06</td>\n",
       "      <td>4.000000e+06</td>\n",
       "      <td>U</td>\n",
       "      <td>r1</td>\n",
       "      <td>t1000000</td>\n",
       "      <td>592803.620440</td>\n",
       "      <td>0.148201</td>\n",
       "    </tr>\n",
       "    <tr>\n",
       "      <th>0</th>\n",
       "      <td>2000000</td>\n",
       "      <td>Population</td>\n",
       "      <td>7.718501e+06</td>\n",
       "      <td>4.000000e+06</td>\n",
       "      <td>U</td>\n",
       "      <td>r1</td>\n",
       "      <td>t2000000</td>\n",
       "      <td>592803.620440</td>\n",
       "      <td>0.148201</td>\n",
       "    </tr>\n",
       "  </tbody>\n",
       "</table>\n",
       "</div>"
      ],
      "text/plain": [
       "   newdoseperweek      method      infected         doses scenario-beta  \\\n",
       "0          250000     Optimal  7.718522e+06  3.933333e+06             U   \n",
       "0          479700     Optimal  7.718522e+06  3.933333e+06             U   \n",
       "0         1000000     Optimal  7.718522e+06  3.933333e+06             U   \n",
       "0         2000000     Optimal  7.718522e+06  3.933333e+06             U   \n",
       "0          250000   Incidence  7.726134e+06  3.961143e+06             U   \n",
       "0          479700   Incidence  7.718996e+06  3.996777e+06             U   \n",
       "0         1000000   Incidence  7.718501e+06  4.000000e+06             U   \n",
       "0         2000000   Incidence  7.718501e+06  4.000000e+06             U   \n",
       "0          250000  Population  7.725532e+06  3.982614e+06             U   \n",
       "0          479700  Population  7.718501e+06  4.000000e+06             U   \n",
       "0         1000000  Population  7.718501e+06  4.000000e+06             U   \n",
       "0         2000000  Population  7.718501e+06  4.000000e+06             U   \n",
       "\n",
       "  scenario-rate scenario-tot        averted  avertedpervacc  \n",
       "0            r1      t250000  592781.954804        0.150707  \n",
       "0            r1      t479700  592781.954804        0.150707  \n",
       "0            r1     t1000000  592781.954804        0.150707  \n",
       "0            r1     t2000000  592781.954804        0.150707  \n",
       "0            r1      t250000  585170.580973        0.147728  \n",
       "0            r1      t479700  592308.297671        0.148196  \n",
       "0            r1     t1000000  592803.620440        0.148201  \n",
       "0            r1     t2000000  592803.620440        0.148201  \n",
       "0            r1      t250000  585771.826666        0.147082  \n",
       "0            r1      t479700  592803.620440        0.148201  \n",
       "0            r1     t1000000  592803.620440        0.148201  \n",
       "0            r1     t2000000  592803.620440        0.148201  "
      ]
     },
     "execution_count": 29,
     "metadata": {},
     "output_type": "execute_result"
    }
   ],
   "source": []
  },
  {
   "cell_type": "code",
   "execution_count": 62,
   "metadata": {
    "execution": {
     "iopub.execute_input": "2021-01-02T16:21:42.417634Z",
     "iopub.status.busy": "2021-01-02T16:21:42.417402Z",
     "iopub.status.idle": "2021-01-02T16:21:42.421120Z",
     "shell.execute_reply": "2021-01-02T16:21:42.420434Z",
     "shell.execute_reply.started": "2021-01-02T16:21:42.417608Z"
    }
   },
   "outputs": [],
   "source": [
    "#scn_results['total_vaccB'] = [f\"{i/1e6:.0f}M\" for i in scn_results['total_vacc']]"
   ]
  },
  {
   "cell_type": "code",
   "execution_count": 43,
   "metadata": {
    "execution": {
     "iopub.execute_input": "2021-01-12T09:41:31.549716Z",
     "iopub.status.busy": "2021-01-12T09:41:31.549484Z",
     "iopub.status.idle": "2021-01-12T09:41:31.917018Z",
     "shell.execute_reply": "2021-01-12T09:41:31.916445Z",
     "shell.execute_reply.started": "2021-01-12T09:41:31.549690Z"
    }
   },
   "outputs": [
    {
     "data": {
      "image/png": "[encoded data removed]",
      "text/plain": [
       "<Figure size 595.75x500 with 1 Axes>"
      ]
     },
     "metadata": {},
     "output_type": "display_data"
    }
   ],
   "source": [
    "#fig, ax = plt.subplots(figsize=(10,10))\n",
    "sns.set(rc={'figure.figsize':(10,5), 'figure.dpi':50})\n",
    "sns.set_theme(style=\"whitegrid\")\n",
    "sns.set_context(\"talk\")\n",
    "# Draw a nested barplot by species and sex\n",
    "g = sns.catplot(\n",
    "    data=scn_results,#[scn_results['scenario-rate']=='r2'],\n",
    "    kind=\"bar\",\n",
    "    x=\"newdoseperweek\", \n",
    "    y=\"avertedpervacc\", \n",
    "    #y=\"averted\",\n",
    "    hue=\"method\",\n",
    "    palette=\"rocket\",\n",
    "    #alpha=.9, \n",
    "    height=10,\n",
    ")\n",
    "g.despine(left=True)\n",
    "#g.fig.suptitle(f'Simulation on {setup.ndays} days, rate of 7.5M per month')\n",
    "g.set_axis_labels(\"Doses\", \"Averted Cases\")\n",
    "g.legend.set_title(\"Allocation\")\n",
    "#g.set_xticklabels([str(i/1e6)+'M' for i in np.sort(scn_results['total_vacc'].unique())])"
   ]
  },
  {
   "cell_type": "code",
   "execution_count": 44,
   "metadata": {
    "execution": {
     "iopub.execute_input": "2021-01-02T16:05:46.660262Z",
     "iopub.status.busy": "2021-01-02T16:05:46.660033Z",
     "iopub.status.idle": "2021-01-02T16:05:46.664624Z",
     "shell.execute_reply": "2021-01-02T16:05:46.663925Z",
     "shell.execute_reply.started": "2021-01-02T16:05:46.660236Z"
    }
   },
   "outputs": [
    {
     "data": {
      "text/plain": [
       "['2.0M', '5.0M', '10.0M', '15.0M']"
      ]
     },
     "execution_count": 44,
     "metadata": {},
     "output_type": "execute_result"
    }
   ],
   "source": [
    "[f\"{str(i/1e6)}M\" for i in np.sort(scn_results['total_vacc'].unique())]"
   ]
  },
  {
   "cell_type": "code",
   "execution_count": null,
   "metadata": {
    "execution": {
     "iopub.status.busy": "2021-01-02T14:32:27.207017Z",
     "iopub.status.idle": "2021-01-02T14:32:27.207235Z"
    }
   },
   "outputs": [],
   "source": []
  },
  {
   "cell_type": "code",
   "execution_count": 32,
   "metadata": {
    "execution": {
     "iopub.execute_input": "2021-01-12T09:14:24.565479Z",
     "iopub.status.busy": "2021-01-12T09:14:24.565283Z",
     "iopub.status.idle": "2021-01-12T09:14:24.582530Z",
     "shell.execute_reply": "2021-01-12T09:14:24.581479Z",
     "shell.execute_reply.started": "2021-01-12T09:14:24.565456Z"
    }
   },
   "outputs": [
    {
     "ename": "ValueError",
     "evalue": "Could not interpret value `total_vacc` for parameter `x`",
     "output_type": "error",
     "traceback": [
      "\u001b[0;31m---------------------------------------------------------------------------\u001b[0m",
      "\u001b[0;31mValueError\u001b[0m                                Traceback (most recent call last)",
      "\u001b[0;32m<ipython-input-32-a29ca08ac07b>\u001b[0m in \u001b[0;36m<module>\u001b[0;34m()\u001b[0m\n\u001b[1;32m      2\u001b[0m     \u001b[0mdata\u001b[0m\u001b[0;34m=\u001b[0m\u001b[0mscn_results\u001b[0m\u001b[0;34m,\u001b[0m\u001b[0;34m\u001b[0m\u001b[0;34m\u001b[0m\u001b[0m\n\u001b[1;32m      3\u001b[0m     \u001b[0mx\u001b[0m\u001b[0;34m=\u001b[0m\u001b[0;34m\"total_vacc\"\u001b[0m\u001b[0;34m,\u001b[0m \u001b[0my\u001b[0m\u001b[0;34m=\u001b[0m\u001b[0;34m\"averted\"\u001b[0m\u001b[0;34m,\u001b[0m \u001b[0mhue\u001b[0m\u001b[0;34m=\u001b[0m\u001b[0;34m\"method\"\u001b[0m\u001b[0;34m,\u001b[0m\u001b[0;34m\u001b[0m\u001b[0;34m\u001b[0m\u001b[0m\n\u001b[0;32m----> 4\u001b[0;31m     \u001b[0mpalette\u001b[0m\u001b[0;34m=\u001b[0m\u001b[0;34m\"rocket\"\u001b[0m\u001b[0;34m,\u001b[0m \u001b[0mmarker\u001b[0m \u001b[0;34m=\u001b[0m \u001b[0;34m'o'\u001b[0m\u001b[0;34m,\u001b[0m\u001b[0;34m\u001b[0m\u001b[0;34m\u001b[0m\u001b[0m\n\u001b[0m\u001b[1;32m      5\u001b[0m     \u001b[0;31m#alpha=.9,\u001b[0m\u001b[0;34m\u001b[0m\u001b[0;34m\u001b[0m\u001b[0;34m\u001b[0m\u001b[0m\n\u001b[1;32m      6\u001b[0m )\n",
      "\u001b[0;32m/Users/chadi/opt/miniconda3/envs/ocp-covid/lib/python3.7/site-packages/seaborn/_decorators.py\u001b[0m in \u001b[0;36minner_f\u001b[0;34m(*args, **kwargs)\u001b[0m\n\u001b[1;32m     44\u001b[0m             )\n\u001b[1;32m     45\u001b[0m         \u001b[0mkwargs\u001b[0m\u001b[0;34m.\u001b[0m\u001b[0mupdate\u001b[0m\u001b[0;34m(\u001b[0m\u001b[0;34m{\u001b[0m\u001b[0mk\u001b[0m\u001b[0;34m:\u001b[0m \u001b[0marg\u001b[0m \u001b[0;32mfor\u001b[0m \u001b[0mk\u001b[0m\u001b[0;34m,\u001b[0m \u001b[0marg\u001b[0m \u001b[0;32min\u001b[0m \u001b[0mzip\u001b[0m\u001b[0;34m(\u001b[0m\u001b[0msig\u001b[0m\u001b[0;34m.\u001b[0m\u001b[0mparameters\u001b[0m\u001b[0;34m,\u001b[0m \u001b[0margs\u001b[0m\u001b[0;34m)\u001b[0m\u001b[0;34m}\u001b[0m\u001b[0;34m)\u001b[0m\u001b[0;34m\u001b[0m\u001b[0;34m\u001b[0m\u001b[0m\n\u001b[0;32m---> 46\u001b[0;31m         \u001b[0;32mreturn\u001b[0m \u001b[0mf\u001b[0m\u001b[0;34m(\u001b[0m\u001b[0;34m**\u001b[0m\u001b[0mkwargs\u001b[0m\u001b[0;34m)\u001b[0m\u001b[0;34m\u001b[0m\u001b[0;34m\u001b[0m\u001b[0m\n\u001b[0m\u001b[1;32m     47\u001b[0m     \u001b[0;32mreturn\u001b[0m \u001b[0minner_f\u001b[0m\u001b[0;34m\u001b[0m\u001b[0;34m\u001b[0m\u001b[0m\n\u001b[1;32m     48\u001b[0m \u001b[0;34m\u001b[0m\u001b[0m\n",
      "\u001b[0;32m/Users/chadi/opt/miniconda3/envs/ocp-covid/lib/python3.7/site-packages/seaborn/relational.py\u001b[0m in \u001b[0;36mlineplot\u001b[0;34m(x, y, hue, size, style, data, palette, hue_order, hue_norm, sizes, size_order, size_norm, dashes, markers, style_order, units, estimator, ci, n_boot, seed, sort, err_style, err_kws, legend, ax, **kwargs)\u001b[0m\n\u001b[1;32m    679\u001b[0m         \u001b[0mdata\u001b[0m\u001b[0;34m=\u001b[0m\u001b[0mdata\u001b[0m\u001b[0;34m,\u001b[0m \u001b[0mvariables\u001b[0m\u001b[0;34m=\u001b[0m\u001b[0mvariables\u001b[0m\u001b[0;34m,\u001b[0m\u001b[0;34m\u001b[0m\u001b[0;34m\u001b[0m\u001b[0m\n\u001b[1;32m    680\u001b[0m         \u001b[0mestimator\u001b[0m\u001b[0;34m=\u001b[0m\u001b[0mestimator\u001b[0m\u001b[0;34m,\u001b[0m \u001b[0mci\u001b[0m\u001b[0;34m=\u001b[0m\u001b[0mci\u001b[0m\u001b[0;34m,\u001b[0m \u001b[0mn_boot\u001b[0m\u001b[0;34m=\u001b[0m\u001b[0mn_boot\u001b[0m\u001b[0;34m,\u001b[0m \u001b[0mseed\u001b[0m\u001b[0;34m=\u001b[0m\u001b[0mseed\u001b[0m\u001b[0;34m,\u001b[0m\u001b[0;34m\u001b[0m\u001b[0;34m\u001b[0m\u001b[0m\n\u001b[0;32m--> 681\u001b[0;31m         \u001b[0msort\u001b[0m\u001b[0;34m=\u001b[0m\u001b[0msort\u001b[0m\u001b[0;34m,\u001b[0m \u001b[0merr_style\u001b[0m\u001b[0;34m=\u001b[0m\u001b[0merr_style\u001b[0m\u001b[0;34m,\u001b[0m \u001b[0merr_kws\u001b[0m\u001b[0;34m=\u001b[0m\u001b[0merr_kws\u001b[0m\u001b[0;34m,\u001b[0m \u001b[0mlegend\u001b[0m\u001b[0;34m=\u001b[0m\u001b[0mlegend\u001b[0m\u001b[0;34m,\u001b[0m\u001b[0;34m\u001b[0m\u001b[0;34m\u001b[0m\u001b[0m\n\u001b[0m\u001b[1;32m    682\u001b[0m     )\n\u001b[1;32m    683\u001b[0m \u001b[0;34m\u001b[0m\u001b[0m\n",
      "\u001b[0;32m/Users/chadi/opt/miniconda3/envs/ocp-covid/lib/python3.7/site-packages/seaborn/relational.py\u001b[0m in \u001b[0;36m__init__\u001b[0;34m(self, data, variables, estimator, ci, n_boot, seed, sort, err_style, err_kws, legend)\u001b[0m\n\u001b[1;32m    365\u001b[0m         )\n\u001b[1;32m    366\u001b[0m \u001b[0;34m\u001b[0m\u001b[0m\n\u001b[0;32m--> 367\u001b[0;31m         \u001b[0msuper\u001b[0m\u001b[0;34m(\u001b[0m\u001b[0;34m)\u001b[0m\u001b[0;34m.\u001b[0m\u001b[0m__init__\u001b[0m\u001b[0;34m(\u001b[0m\u001b[0mdata\u001b[0m\u001b[0;34m=\u001b[0m\u001b[0mdata\u001b[0m\u001b[0;34m,\u001b[0m \u001b[0mvariables\u001b[0m\u001b[0;34m=\u001b[0m\u001b[0mvariables\u001b[0m\u001b[0;34m)\u001b[0m\u001b[0;34m\u001b[0m\u001b[0;34m\u001b[0m\u001b[0m\n\u001b[0m\u001b[1;32m    368\u001b[0m \u001b[0;34m\u001b[0m\u001b[0m\n\u001b[1;32m    369\u001b[0m         \u001b[0mself\u001b[0m\u001b[0;34m.\u001b[0m\u001b[0mestimator\u001b[0m \u001b[0;34m=\u001b[0m \u001b[0mestimator\u001b[0m\u001b[0;34m\u001b[0m\u001b[0;34m\u001b[0m\u001b[0m\n",
      "\u001b[0;32m/Users/chadi/opt/miniconda3/envs/ocp-covid/lib/python3.7/site-packages/seaborn/_core.py\u001b[0m in \u001b[0;36m__init__\u001b[0;34m(self, data, variables)\u001b[0m\n\u001b[1;32m    602\u001b[0m     \u001b[0;32mdef\u001b[0m \u001b[0m__init__\u001b[0m\u001b[0;34m(\u001b[0m\u001b[0mself\u001b[0m\u001b[0;34m,\u001b[0m \u001b[0mdata\u001b[0m\u001b[0;34m=\u001b[0m\u001b[0;32mNone\u001b[0m\u001b[0;34m,\u001b[0m \u001b[0mvariables\u001b[0m\u001b[0;34m=\u001b[0m\u001b[0;34m{\u001b[0m\u001b[0;34m}\u001b[0m\u001b[0;34m)\u001b[0m\u001b[0;34m:\u001b[0m\u001b[0;34m\u001b[0m\u001b[0;34m\u001b[0m\u001b[0m\n\u001b[1;32m    603\u001b[0m \u001b[0;34m\u001b[0m\u001b[0m\n\u001b[0;32m--> 604\u001b[0;31m         \u001b[0mself\u001b[0m\u001b[0;34m.\u001b[0m\u001b[0massign_variables\u001b[0m\u001b[0;34m(\u001b[0m\u001b[0mdata\u001b[0m\u001b[0;34m,\u001b[0m \u001b[0mvariables\u001b[0m\u001b[0;34m)\u001b[0m\u001b[0;34m\u001b[0m\u001b[0;34m\u001b[0m\u001b[0m\n\u001b[0m\u001b[1;32m    605\u001b[0m \u001b[0;34m\u001b[0m\u001b[0m\n\u001b[1;32m    606\u001b[0m         \u001b[0;32mfor\u001b[0m \u001b[0mvar\u001b[0m\u001b[0;34m,\u001b[0m \u001b[0mcls\u001b[0m \u001b[0;32min\u001b[0m \u001b[0mself\u001b[0m\u001b[0;34m.\u001b[0m\u001b[0m_semantic_mappings\u001b[0m\u001b[0;34m.\u001b[0m\u001b[0mitems\u001b[0m\u001b[0;34m(\u001b[0m\u001b[0;34m)\u001b[0m\u001b[0;34m:\u001b[0m\u001b[0;34m\u001b[0m\u001b[0;34m\u001b[0m\u001b[0m\n",
      "\u001b[0;32m/Users/chadi/opt/miniconda3/envs/ocp-covid/lib/python3.7/site-packages/seaborn/_core.py\u001b[0m in \u001b[0;36massign_variables\u001b[0;34m(self, data, variables)\u001b[0m\n\u001b[1;32m    666\u001b[0m             \u001b[0mself\u001b[0m\u001b[0;34m.\u001b[0m\u001b[0minput_format\u001b[0m \u001b[0;34m=\u001b[0m \u001b[0;34m\"long\"\u001b[0m\u001b[0;34m\u001b[0m\u001b[0;34m\u001b[0m\u001b[0m\n\u001b[1;32m    667\u001b[0m             plot_data, variables = self._assign_variables_longform(\n\u001b[0;32m--> 668\u001b[0;31m                 \u001b[0mdata\u001b[0m\u001b[0;34m,\u001b[0m \u001b[0;34m**\u001b[0m\u001b[0mvariables\u001b[0m\u001b[0;34m,\u001b[0m\u001b[0;34m\u001b[0m\u001b[0;34m\u001b[0m\u001b[0m\n\u001b[0m\u001b[1;32m    669\u001b[0m             )\n\u001b[1;32m    670\u001b[0m \u001b[0;34m\u001b[0m\u001b[0m\n",
      "\u001b[0;32m/Users/chadi/opt/miniconda3/envs/ocp-covid/lib/python3.7/site-packages/seaborn/_core.py\u001b[0m in \u001b[0;36m_assign_variables_longform\u001b[0;34m(self, data, **kwargs)\u001b[0m\n\u001b[1;32m    885\u001b[0m                     \u001b[0;31m# We don't know what this name means\u001b[0m\u001b[0;34m\u001b[0m\u001b[0;34m\u001b[0m\u001b[0;34m\u001b[0m\u001b[0m\n\u001b[1;32m    886\u001b[0m                     \u001b[0merr\u001b[0m \u001b[0;34m=\u001b[0m \u001b[0;34mf\"Could not interpret value `{val}` for parameter `{key}`\"\u001b[0m\u001b[0;34m\u001b[0m\u001b[0;34m\u001b[0m\u001b[0m\n\u001b[0;32m--> 887\u001b[0;31m                     \u001b[0;32mraise\u001b[0m \u001b[0mValueError\u001b[0m\u001b[0;34m(\u001b[0m\u001b[0merr\u001b[0m\u001b[0;34m)\u001b[0m\u001b[0;34m\u001b[0m\u001b[0;34m\u001b[0m\u001b[0m\n\u001b[0m\u001b[1;32m    888\u001b[0m \u001b[0;34m\u001b[0m\u001b[0m\n\u001b[1;32m    889\u001b[0m             \u001b[0;32melse\u001b[0m\u001b[0;34m:\u001b[0m\u001b[0;34m\u001b[0m\u001b[0;34m\u001b[0m\u001b[0m\n",
      "\u001b[0;31mValueError\u001b[0m: Could not interpret value `total_vacc` for parameter `x`"
     ]
    }
   ],
   "source": [
    "g = sns.lineplot(\n",
    "    data=scn_results, \n",
    "    x=\"total_vacc\", y=\"averted\", hue=\"method\",\n",
    "    palette=\"rocket\", marker = 'o', \n",
    "    #alpha=.9, \n",
    ")"
   ]
  },
  {
   "cell_type": "code",
   "execution_count": null,
   "metadata": {
    "execution": {
     "iopub.status.busy": "2021-01-02T14:32:27.209520Z",
     "iopub.status.idle": "2021-01-02T14:32:27.209792Z"
    }
   },
   "outputs": [],
   "source": [
    "#fig, ax = plt.subplots(figsize=(10,10))\n",
    "sns.set(rc={'figure.figsize':(10,5), 'figure.dpi':50})\n",
    "sns.set_theme(style=\"whitegrid\")\n",
    "sns.set_context(\"talk\")\n",
    "# Draw a nested barplot by species and sex\n",
    "g = sns.catplot(\n",
    "    data=scn_results, kind=\"bar\",\n",
    "    x=\"method\", \n",
    "    #y=\"avertedpervacc\", \n",
    "    #x='total_vacc',\n",
    "    y=\"averted\",\n",
    "    hue=\"method\",\n",
    "    col=\"total_vaccB\",\n",
    "    palette=\"viridis\",\n",
    "    #alpha=.9, \n",
    "    height=5,\n",
    "    aspect = .5,\n",
    "    #width = 10\n",
    ")\n",
    "g.despine(left=True)\n",
    "#g.fig.suptitle(f'Simulation on {setup.ndays} days, rate of 7.5M per month')\n",
    "g.set_axis_labels(\"Strategy\", \"Averted Cases\")\n",
    "#g.legend.set_title(\"Allocation\")\n",
    "g.set_xticklabels([str(i/1e6)+'M' for i in np.sort(scn_results['total_vacc'].unique())])\n",
    "(g.set_axis_labels(\"\", \"Averted Cases\")\n",
    "#.set_xticklabels([\"Men\", \"Women\", \"Children\"])\n",
    ".set_titles(\"{col_name}\")\n",
    "#.set(ylim=(0, 1))\n",
    ".despine(left=True))\n",
    "g.set_xticklabels(rotation=-90)"
   ]
  },
  {
   "cell_type": "code",
   "execution_count": null,
   "metadata": {
    "execution": {
     "iopub.status.busy": "2021-01-02T14:32:27.210702Z",
     "iopub.status.idle": "2021-01-02T14:32:27.210926Z"
    }
   },
   "outputs": [],
   "source": []
  },
  {
   "cell_type": "code",
   "execution_count": null,
   "metadata": {
    "execution": {
     "iopub.status.busy": "2021-01-02T14:32:27.211840Z",
     "iopub.status.idle": "2021-01-02T14:32:27.212119Z"
    }
   },
   "outputs": [],
   "source": [
    "g = sns.catplot(\n",
    "    data=scn_results, kind=\"point\",\n",
    "    x=\"total_vacc\", y=\"averted\", hue=\"method\",\n",
    "    palette=\"rocket\",\n",
    "    #alpha=.9, \n",
    "    height=10,\n",
    ")\n",
    "g.despine(left=True)\n",
    "g.set_axis_labels(\"\", \"Averted Cases\")\n",
    "g.legend.set_title(\"Allocation\")\n",
    "g.set_xticklabels([str(i/1e6)+'M' for i in np.sort(scn_results['total_vacc'].unique())])"
   ]
  }
 ],
 "metadata": {
  "kernelspec": {
   "display_name": "Python (ocp-covid)",
   "language": "python",
   "name": "ocp-covid"
  },
  "language_info": {
   "codemirror_mode": {
    "name": "ipython",
    "version": 3
   },
   "file_extension": ".py",
   "mimetype": "text/x-python",
   "name": "python",
   "nbconvert_exporter": "python",
   "pygments_lexer": "ipython3",
   "version": "3.7.9"
  }
 },
 "nbformat": 4,
 "nbformat_minor": 4
}
