{
 "cells": [
  {
   "cell_type": "markdown",
   "metadata": {
    "execution": {
     "iopub.execute_input": "2020-12-23T10:03:02.759297Z",
     "iopub.status.busy": "2020-12-23T10:03:02.759072Z",
     "iopub.status.idle": "2020-12-23T10:03:02.762214Z",
     "shell.execute_reply": "2020-12-23T10:03:02.761451Z",
     "shell.execute_reply.started": "2020-12-23T10:03:02.759272Z"
    }
   },
   "source": [
    "# Analysis of time series and integration"
   ]
  },
  {
   "cell_type": "code",
   "execution_count": 1,
   "metadata": {
    "execution": {
     "iopub.execute_input": "2021-01-03T17:50:06.756322Z",
     "iopub.status.busy": "2021-01-03T17:50:06.756084Z",
     "iopub.status.idle": "2021-01-03T17:50:08.972543Z",
     "shell.execute_reply": "2021-01-03T17:50:08.971977Z",
     "shell.execute_reply.started": "2021-01-03T17:50:06.756263Z"
    }
   },
   "outputs": [
    {
     "name": "stdout",
     "output_type": "stream",
     "text": [
      "Loaded Italy Setup with 107 nodes.\n"
     ]
    }
   ],
   "source": [
    "import copy\n",
    "import matplotlib as mpl\n",
    "import matplotlib.pyplot as plt\n",
    "import numpy as np\n",
    "import pandas as pd\n",
    "import networkx\n",
    "from ItalySetup import ItalySetup\n",
    "from covidOCP import COVIDVaccinationOCP, COVIDParametersOCP\n",
    "from main import pick_scenario\n",
    "import seaborn as sns\n",
    "import datetime\n",
    "import pickle\n",
    "\n",
    "nx = 9\n",
    "states_names = ['S', 'E', 'P', 'I', 'A', 'Q', 'H', 'R', 'V']\n",
    "outdir = 'model_output/'\n",
    "when = 'future'\n",
    "\n",
    "n_int_steps = 5\n",
    "nnodes = 107  # nodes\n",
    "ndays = 90\n",
    "\n",
    "setup = ItalySetup(nnodes, ndays, when)\n",
    "M = setup.nnodes\n",
    "N = len(setup.model_days) - 1\n",
    "\n",
    "with open(f'model_output/parameters_{nnodes}_{when}.pkl', 'rb') as inp:\n",
    "    p = pickle.load(inp)"
   ]
  },
  {
   "cell_type": "code",
   "execution_count": 57,
   "metadata": {
    "execution": {
     "iopub.execute_input": "2021-01-03T18:09:27.074914Z",
     "iopub.status.busy": "2021-01-03T18:09:27.074711Z",
     "iopub.status.idle": "2021-01-03T18:09:27.117259Z",
     "shell.execute_reply": "2021-01-03T18:09:27.116676Z",
     "shell.execute_reply.started": "2021-01-03T18:09:27.074891Z"
    }
   },
   "outputs": [
    {
     "data": {
      "text/html": [
       "<div>\n",
       "<style scoped>\n",
       "    .dataframe tbody tr th:only-of-type {\n",
       "        vertical-align: middle;\n",
       "    }\n",
       "\n",
       "    .dataframe tbody tr th {\n",
       "        vertical-align: top;\n",
       "    }\n",
       "\n",
       "    .dataframe thead th {\n",
       "        text-align: right;\n",
       "    }\n",
       "</style>\n",
       "<table border=\"1\" class=\"dataframe\">\n",
       "  <thead>\n",
       "    <tr style=\"text-align: right;\">\n",
       "      <th></th>\n",
       "      <th>index</th>\n",
       "      <th>Category</th>\n",
       "      <th>Codice provincia</th>\n",
       "      <th>Provincia</th>\n",
       "      <th>Totale</th>\n",
       "    </tr>\n",
       "  </thead>\n",
       "  <tbody>\n",
       "    <tr>\n",
       "      <th>0</th>\n",
       "      <td>0</td>\n",
       "      <td>0-16</td>\n",
       "      <td>1</td>\n",
       "      <td>Torino</td>\n",
       "      <td>309518</td>\n",
       "    </tr>\n",
       "    <tr>\n",
       "      <th>1</th>\n",
       "      <td>214</td>\n",
       "      <td>65+</td>\n",
       "      <td>1</td>\n",
       "      <td>Torino</td>\n",
       "      <td>539520</td>\n",
       "    </tr>\n",
       "    <tr>\n",
       "      <th>2</th>\n",
       "      <td>107</td>\n",
       "      <td>16-65</td>\n",
       "      <td>1</td>\n",
       "      <td>Torino</td>\n",
       "      <td>1420082</td>\n",
       "    </tr>\n",
       "    <tr>\n",
       "      <th>3</th>\n",
       "      <td>1</td>\n",
       "      <td>0-16</td>\n",
       "      <td>2</td>\n",
       "      <td>Vercelli</td>\n",
       "      <td>21245</td>\n",
       "    </tr>\n",
       "    <tr>\n",
       "      <th>4</th>\n",
       "      <td>215</td>\n",
       "      <td>65+</td>\n",
       "      <td>2</td>\n",
       "      <td>Vercelli</td>\n",
       "      <td>44121</td>\n",
       "    </tr>\n",
       "    <tr>\n",
       "      <th>...</th>\n",
       "      <td>...</td>\n",
       "      <td>...</td>\n",
       "      <td>...</td>\n",
       "      <td>...</td>\n",
       "      <td>...</td>\n",
       "    </tr>\n",
       "    <tr>\n",
       "      <th>316</th>\n",
       "      <td>212</td>\n",
       "      <td>16-65</td>\n",
       "      <td>110</td>\n",
       "      <td>Barletta-Andria-Trani</td>\n",
       "      <td>260180</td>\n",
       "    </tr>\n",
       "    <tr>\n",
       "      <th>317</th>\n",
       "      <td>105</td>\n",
       "      <td>0-16</td>\n",
       "      <td>110</td>\n",
       "      <td>Barletta-Andria-Trani</td>\n",
       "      <td>60723</td>\n",
       "    </tr>\n",
       "    <tr>\n",
       "      <th>318</th>\n",
       "      <td>106</td>\n",
       "      <td>0-16</td>\n",
       "      <td>111</td>\n",
       "      <td>Sud Sardegna</td>\n",
       "      <td>40445</td>\n",
       "    </tr>\n",
       "    <tr>\n",
       "      <th>319</th>\n",
       "      <td>213</td>\n",
       "      <td>16-65</td>\n",
       "      <td>111</td>\n",
       "      <td>Sud Sardegna</td>\n",
       "      <td>231197</td>\n",
       "    </tr>\n",
       "    <tr>\n",
       "      <th>320</th>\n",
       "      <td>320</td>\n",
       "      <td>65+</td>\n",
       "      <td>111</td>\n",
       "      <td>Sud Sardegna</td>\n",
       "      <td>82188</td>\n",
       "    </tr>\n",
       "  </tbody>\n",
       "</table>\n",
       "<p>321 rows × 5 columns</p>\n",
       "</div>"
      ],
      "text/plain": [
       "     index Category  Codice provincia              Provincia   Totale\n",
       "0        0     0-16                 1                 Torino   309518\n",
       "1      214      65+                 1                 Torino   539520\n",
       "2      107    16-65                 1                 Torino  1420082\n",
       "3        1     0-16                 2               Vercelli    21245\n",
       "4      215      65+                 2               Vercelli    44121\n",
       "..     ...      ...               ...                    ...      ...\n",
       "316    212    16-65               110  Barletta-Andria-Trani   260180\n",
       "317    105     0-16               110  Barletta-Andria-Trani    60723\n",
       "318    106     0-16               111           Sud Sardegna    40445\n",
       "319    213    16-65               111           Sud Sardegna   231197\n",
       "320    320      65+               111           Sud Sardegna    82188\n",
       "\n",
       "[321 rows x 5 columns]"
      ]
     },
     "execution_count": 57,
     "metadata": {},
     "output_type": "execute_result"
    }
   ],
   "source": [
    "agestrat = pd.read_csv('italy-data/province_age_data.csv',header=1)\n",
    "agestrat['Totale'] = agestrat['Totale Maschi'] + agestrat['Totale Femmine']\n",
    "agestrat = agestrat[agestrat['Età'] != 'Totale']\n",
    "agestrat['Category'] = ''\n",
    "agestrat.loc[agestrat['Età'].astype(int) < 16, 'Category'] = '0-16'\n",
    "agestrat.loc[agestrat['Età'].astype(int) > 65, 'Category'] = '65+'\n",
    "agestrat.loc[agestrat['Category']== '', 'Category'] = '16-65'\n",
    "agestrat = agestrat[['Category', 'Codice provincia', 'Totale', 'Provincia']]\n",
    "agestrat = agestrat.groupby(['Category', 'Codice provincia', 'Provincia']).sum().reset_index().sort_values('Codice provincia').reset_index()\n",
    "agestrat"
   ]
  },
  {
   "cell_type": "code",
   "execution_count": 59,
   "metadata": {
    "execution": {
     "iopub.execute_input": "2021-01-03T18:10:55.419644Z",
     "iopub.status.busy": "2021-01-03T18:10:55.419442Z",
     "iopub.status.idle": "2021-01-03T18:10:55.424594Z",
     "shell.execute_reply": "2021-01-03T18:10:55.423946Z",
     "shell.execute_reply.started": "2021-01-03T18:10:55.419621Z"
    }
   },
   "outputs": [],
   "source": [
    "geodata = pd.read_csv('italy-data/geodata.csv')\n",
    "\n",
    "geodata = geodata.reset_index(drop=True)"
   ]
  },
  {
   "cell_type": "code",
   "execution_count": 65,
   "metadata": {
    "execution": {
     "iopub.execute_input": "2021-01-03T18:12:36.360471Z",
     "iopub.status.busy": "2021-01-03T18:12:36.360261Z",
     "iopub.status.idle": "2021-01-03T18:12:36.364893Z",
     "shell.execute_reply": "2021-01-03T18:12:36.364279Z",
     "shell.execute_reply.started": "2021-01-03T18:12:36.360448Z"
    }
   },
   "outputs": [
    {
     "data": {
      "text/plain": [
       "0      2259500\n",
       "1       170910\n",
       "2       369020\n",
       "3       587100\n",
       "4       214640\n",
       "        ...   \n",
       "102     158350\n",
       "103     873940\n",
       "104     173800\n",
       "105     390010\n",
       "106     350720\n",
       "Name: population, Length: 107, dtype: int64"
      ]
     },
     "execution_count": 65,
     "metadata": {},
     "output_type": "execute_result"
    }
   ],
   "source": [
    "geodata['population']"
   ]
  },
  {
   "cell_type": "code",
   "execution_count": 64,
   "metadata": {
    "execution": {
     "iopub.execute_input": "2021-01-03T18:12:27.540852Z",
     "iopub.status.busy": "2021-01-03T18:12:27.540551Z",
     "iopub.status.idle": "2021-01-03T18:12:27.551549Z",
     "shell.execute_reply": "2021-01-03T18:12:27.550925Z",
     "shell.execute_reply.started": "2021-01-03T18:12:27.540809Z"
    }
   },
   "outputs": [
    {
     "data": {
      "text/plain": [
       "Codice provincia  Provincia            \n",
       "1                 Torino                   2269120\n",
       "2                 Vercelli                  172307\n",
       "3                 Novara                    369595\n",
       "4                 Cuneo                     588559\n",
       "5                 Asti                      215884\n",
       "                                            ...   \n",
       "103               Verbano-Cusio-Ossola      159159\n",
       "108               Monza e della Brianza     871698\n",
       "109               Fermo                     174338\n",
       "110               Barletta-Andria-Trani     391224\n",
       "111               Sud Sardegna              353830\n",
       "Name: Totale, Length: 107, dtype: int64"
      ]
     },
     "execution_count": 64,
     "metadata": {},
     "output_type": "execute_result"
    }
   ],
   "source": [
    "agestrat.groupby(['Codice provincia', 'Provincia']).sum()['Totale'].re"
   ]
  },
  {
   "cell_type": "code",
   "execution_count": 10,
   "metadata": {
    "execution": {
     "iopub.execute_input": "2021-01-03T17:52:48.850107Z",
     "iopub.status.busy": "2021-01-03T17:52:48.849910Z",
     "iopub.status.idle": "2021-01-03T17:52:48.857524Z",
     "shell.execute_reply": "2021-01-03T17:52:48.856949Z",
     "shell.execute_reply.started": "2021-01-03T17:52:48.850085Z"
    }
   },
   "outputs": [],
   "source": []
  },
  {
   "cell_type": "code",
   "execution_count": 11,
   "metadata": {
    "execution": {
     "iopub.execute_input": "2021-01-03T17:52:50.396190Z",
     "iopub.status.busy": "2021-01-03T17:52:50.395960Z",
     "iopub.status.idle": "2021-01-03T17:52:50.403643Z",
     "shell.execute_reply": "2021-01-03T17:52:50.402427Z",
     "shell.execute_reply.started": "2021-01-03T17:52:50.396163Z"
    }
   },
   "outputs": [
    {
     "data": {
      "text/plain": [
       "0          0\n",
       "1          1\n",
       "2          2\n",
       "3          3\n",
       "4          4\n",
       "        ... \n",
       "10908     96\n",
       "10909     97\n",
       "10910     98\n",
       "10911     99\n",
       "10912    100\n",
       "Name: Età, Length: 10807, dtype: int64"
      ]
     },
     "execution_count": 11,
     "metadata": {},
     "output_type": "execute_result"
    }
   ],
   "source": [
    "agestrat['Età'].astype(int)"
   ]
  }
 ],
 "metadata": {
  "kernelspec": {
   "display_name": "Python (ocp-covid)",
   "language": "python",
   "name": "ocp-covid"
  },
  "language_info": {
   "codemirror_mode": {
    "name": "ipython",
    "version": 3
   },
   "file_extension": ".py",
   "mimetype": "text/x-python",
   "name": "python",
   "nbconvert_exporter": "python",
   "pygments_lexer": "ipython3",
   "version": "3.7.9"
  }
 },
 "nbformat": 4,
 "nbformat_minor": 4
}
