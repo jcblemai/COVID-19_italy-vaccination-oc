{
 "cells": [
  {
   "cell_type": "markdown",
   "metadata": {
    "execution": {
     "iopub.execute_input": "2020-12-23T10:03:02.759297Z",
     "iopub.status.busy": "2020-12-23T10:03:02.759072Z",
     "iopub.status.idle": "2020-12-23T10:03:02.762214Z",
     "shell.execute_reply": "2020-12-23T10:03:02.761451Z",
     "shell.execute_reply.started": "2020-12-23T10:03:02.759272Z"
    }
   },
   "source": [
    "# Analysis of time series and integration"
   ]
  },
  {
   "cell_type": "code",
   "execution_count": 1,
   "metadata": {
    "execution": {
     "iopub.execute_input": "2021-03-12T16:02:16.420373Z",
     "iopub.status.busy": "2021-03-12T16:02:16.420105Z",
     "iopub.status.idle": "2021-03-12T16:02:18.588646Z",
     "shell.execute_reply": "2021-03-12T16:02:18.587746Z",
     "shell.execute_reply.started": "2021-03-12T16:02:16.420306Z"
    }
   },
   "outputs": [
    {
     "name": "stdout",
     "output_type": "stream",
     "text": [
      "Loaded Italy Provincial Setup with 107 nodes.\n",
      "Loaded Italy Provincial Setup with 107 nodes.\n",
      "Loaded Italy Regionals Setup with 20 nodes.\n"
     ]
    }
   ],
   "source": [
    "import copy\n",
    "import matplotlib as mpl\n",
    "import matplotlib.pyplot as plt\n",
    "import numpy as np\n",
    "import pandas as pd\n",
    "import networkx\n",
    "from ItalySetup import ItalySetupProvinces, ItalySetupRegions\n",
    "from covidOCP import COVIDVaccinationOCP, COVIDParametersOCP\n",
    "from main import pick_scenario\n",
    "import seaborn as sns\n",
    "import datetime\n",
    "import pickle\n",
    "\n",
    "nx = 9\n",
    "states_names = ['S', 'E', 'P', 'I', 'A', 'Q', 'H', 'R', 'V']\n",
    "outdir = 'model_output/'\n",
    "when = 'future'\n",
    "\n",
    "n_int_steps = 5\n",
    "nnodes = 107  # nodes\n",
    "ndays = 90\n",
    "\n",
    "setup = ItalySetupProvinces(nnodes, ndays, when)\n",
    "M = setup.nnodes\n",
    "N = len(setup.model_days) - 1\n",
    "\n",
    "with open(f'italy-data/parameters_{nnodes}_{when}.pkl', 'rb') as inp:\n",
    "    p = pickle.load(inp)\n",
    "    \n",
    "setup_reg = ItalySetupRegions(nnodes, ndays, when)"
   ]
  },
  {
   "cell_type": "code",
   "execution_count": 19,
   "metadata": {
    "execution": {
     "iopub.execute_input": "2021-03-12T16:52:37.177836Z",
     "iopub.status.busy": "2021-03-12T16:52:37.177578Z",
     "iopub.status.idle": "2021-03-12T16:52:37.182786Z",
     "shell.execute_reply": "2021-03-12T16:52:37.182166Z",
     "shell.execute_reply.started": "2021-03-12T16:52:37.177804Z"
    }
   },
   "outputs": [
    {
     "data": {
      "text/plain": [
       "array([[ 587188., 2736773., 1051904.],\n",
       "       [  17984.,   80061.,   28157.],\n",
       "       [1478770., 6423060., 2134428.],\n",
       "       [ 172915.,  686320.,  208413.],\n",
       "       [ 707113., 3145686., 1052238.],\n",
       "       [ 158466.,  756759.,  300313.],\n",
       "       [ 187966.,  945875.,  423140.],\n",
       "       [ 628458., 2813272., 1010899.],\n",
       "       [ 500810., 2336916.,  899242.],\n",
       "       [ 119651.,  552044.,  212945.],\n",
       "       [ 209991.,  964548.,  357214.],\n",
       "       [ 848762., 3852231., 1195700.],\n",
       "       [ 176518.,  844738.,  293940.],\n",
       "       [  38060.,  199669.,   70764.],\n",
       "       [ 923693., 3889834., 1013333.],\n",
       "       [ 581432., 2635019.,  831791.],\n",
       "       [  74135.,  371672.,  121311.],\n",
       "       [ 280506., 1284008.,  392173.],\n",
       "       [ 753248., 3283246.,  990495.],\n",
       "       [ 202060., 1085947.,  360169.]])"
      ]
     },
     "execution_count": 19,
     "metadata": {},
     "output_type": "execute_result"
    }
   ],
   "source": [
    "setup_reg.pop_node_ag"
   ]
  },
  {
   "cell_type": "code",
   "execution_count": 16,
   "metadata": {
    "execution": {
     "iopub.execute_input": "2021-03-12T15:54:11.447312Z",
     "iopub.status.busy": "2021-03-12T15:54:11.447083Z",
     "iopub.status.idle": "2021-03-12T15:54:11.452944Z",
     "shell.execute_reply": "2021-03-12T15:54:11.452143Z",
     "shell.execute_reply.started": "2021-03-12T15:54:11.447286Z"
    }
   },
   "outputs": [
    {
     "name": "stdout",
     "output_type": "stream",
     "text": [
      "[[7 1]\n",
      " [6 7]]\n"
     ]
    },
    {
     "data": {
      "text/plain": [
       "array([[14.,  4.],\n",
       "       [12., 28.]])"
      ]
     },
     "execution_count": 16,
     "metadata": {},
     "output_type": "execute_result"
    }
   ],
   "source": [
    "a = np.random.randint(0,10,(2,2))\n",
    "print(a)\n",
    "a/np.array([.5,.25])"
   ]
  },
  {
   "cell_type": "code",
   "execution_count": 18,
   "metadata": {
    "execution": {
     "iopub.execute_input": "2021-03-12T15:55:17.920594Z",
     "iopub.status.busy": "2021-03-12T15:55:17.920339Z",
     "iopub.status.idle": "2021-03-12T15:55:17.924758Z",
     "shell.execute_reply": "2021-03-12T15:55:17.924137Z",
     "shell.execute_reply.started": "2021-03-12T15:55:17.920561Z"
    }
   },
   "outputs": [
    {
     "data": {
      "text/plain": [
       "array([0.5 , 0.25])"
      ]
     },
     "execution_count": 18,
     "metadata": {},
     "output_type": "execute_result"
    }
   ],
   "source": [
    "np.array([.5,.25])"
   ]
  },
  {
   "cell_type": "code",
   "execution_count": 19,
   "metadata": {
    "execution": {
     "iopub.execute_input": "2021-03-12T15:55:31.014044Z",
     "iopub.status.busy": "2021-03-12T15:55:31.013818Z",
     "iopub.status.idle": "2021-03-12T15:55:31.018193Z",
     "shell.execute_reply": "2021-03-12T15:55:31.017540Z",
     "shell.execute_reply.started": "2021-03-12T15:55:31.014019Z"
    }
   },
   "outputs": [
    {
     "data": {
      "text/plain": [
       "array([[14.,  4.],\n",
       "       [12., 28.]])"
      ]
     },
     "execution_count": 19,
     "metadata": {},
     "output_type": "execute_result"
    }
   ],
   "source": [
    "a/np.array([.5,.25]).T"
   ]
  },
  {
   "cell_type": "code",
   "execution_count": 20,
   "metadata": {
    "execution": {
     "iopub.execute_input": "2021-03-12T15:57:32.730926Z",
     "iopub.status.busy": "2021-03-12T15:57:32.730700Z",
     "iopub.status.idle": "2021-03-12T15:57:32.734827Z",
     "shell.execute_reply": "2021-03-12T15:57:32.734154Z",
     "shell.execute_reply.started": "2021-03-12T15:57:32.730899Z"
    }
   },
   "outputs": [
    {
     "data": {
      "text/plain": [
       "1"
      ]
     },
     "execution_count": 20,
     "metadata": {},
     "output_type": "execute_result"
    }
   ],
   "source": [
    "a[0,1]"
   ]
  },
  {
   "cell_type": "code",
   "execution_count": 13,
   "metadata": {
    "execution": {
     "iopub.execute_input": "2021-03-12T16:04:30.811184Z",
     "iopub.status.busy": "2021-03-12T16:04:30.810940Z",
     "iopub.status.idle": "2021-03-12T16:04:30.815724Z",
     "shell.execute_reply": "2021-03-12T16:04:30.814922Z",
     "shell.execute_reply.started": "2021-03-12T16:04:30.811157Z"
    }
   },
   "outputs": [
    {
     "data": {
      "text/plain": [
       "1.0019317690557032"
      ]
     },
     "execution_count": 13,
     "metadata": {},
     "output_type": "execute_result"
    }
   ],
   "source": [
    "np.mean((setup_reg.mobility / setup_reg.pop_node).sum(axis=1))"
   ]
  },
  {
   "cell_type": "code",
   "execution_count": 14,
   "metadata": {
    "execution": {
     "iopub.execute_input": "2021-03-12T16:04:36.928245Z",
     "iopub.status.busy": "2021-03-12T16:04:36.928019Z",
     "iopub.status.idle": "2021-03-12T16:04:36.932788Z",
     "shell.execute_reply": "2021-03-12T16:04:36.932055Z",
     "shell.execute_reply.started": "2021-03-12T16:04:36.928220Z"
    }
   },
   "outputs": [
    {
     "data": {
      "text/plain": [
       "1.0019317690557035"
      ]
     },
     "execution_count": 14,
     "metadata": {},
     "output_type": "execute_result"
    }
   ],
   "source": [
    "np.mean((setup_reg.mobility / setup_reg.pop_node).sum(axis=0))"
   ]
  },
  {
   "cell_type": "code",
   "execution_count": 15,
   "metadata": {
    "execution": {
     "iopub.execute_input": "2021-03-12T16:05:54.928133Z",
     "iopub.status.busy": "2021-03-12T16:05:54.927906Z",
     "iopub.status.idle": "2021-03-12T16:05:54.932346Z",
     "shell.execute_reply": "2021-03-12T16:05:54.931696Z",
     "shell.execute_reply.started": "2021-03-12T16:05:54.928107Z"
    }
   },
   "outputs": [
    {
     "data": {
      "text/plain": [
       "0.9999998891768456"
      ]
     },
     "execution_count": 15,
     "metadata": {},
     "output_type": "execute_result"
    }
   ],
   "source": [
    "np.mean((setup_reg.mobility.T / setup_reg.pop_node).T.sum(axis=0))"
   ]
  },
  {
   "cell_type": "code",
   "execution_count": 16,
   "metadata": {
    "execution": {
     "iopub.execute_input": "2021-03-12T16:06:00.092330Z",
     "iopub.status.busy": "2021-03-12T16:06:00.092162Z",
     "iopub.status.idle": "2021-03-12T16:06:00.097710Z",
     "shell.execute_reply": "2021-03-12T16:06:00.096711Z",
     "shell.execute_reply.started": "2021-03-12T16:06:00.092311Z"
    }
   },
   "outputs": [
    {
     "data": {
      "text/plain": [
       "0.999999889176846"
      ]
     },
     "execution_count": 16,
     "metadata": {},
     "output_type": "execute_result"
    }
   ],
   "source": [
    "np.mean((setup_reg.mobility.T / setup_reg.pop_node).T.sum(axis=1))"
   ]
  },
  {
   "cell_type": "code",
   "execution_count": 13,
   "metadata": {
    "execution": {
     "iopub.execute_input": "2021-01-05T11:56:38.343065Z",
     "iopub.status.busy": "2021-01-05T11:56:38.342870Z",
     "iopub.status.idle": "2021-01-05T11:56:38.346761Z",
     "shell.execute_reply": "2021-01-05T11:56:38.346093Z",
     "shell.execute_reply.started": "2021-01-05T11:56:38.343043Z"
    }
   },
   "outputs": [
    {
     "data": {
      "text/plain": [
       "array([2.72312862e+05, 1.42610081e+03, 6.08422844e+02, 2.08493880e+02,\n",
       "       1.49129082e+03, 2.94434572e+02, 2.50977513e+02, 2.99022186e+04,\n",
       "       0.00000000e+00])"
      ]
     },
     "execution_count": 13,
     "metadata": {},
     "output_type": "execute_result"
    }
   ],
   "source": [
    "p.x0_ag[0][0]"
   ]
  },
  {
   "cell_type": "code",
   "execution_count": 16,
   "metadata": {
    "execution": {
     "iopub.execute_input": "2021-01-05T11:57:22.621709Z",
     "iopub.status.busy": "2021-01-05T11:57:22.621471Z",
     "iopub.status.idle": "2021-01-05T11:57:22.625791Z",
     "shell.execute_reply": "2021-01-05T11:57:22.625191Z",
     "shell.execute_reply.started": "2021-01-05T11:57:22.621682Z"
    }
   },
   "outputs": [
    {
     "data": {
      "text/plain": [
       "array([1.24938321e+06, 6.54301232e+03, 2.79147038e+03, 9.56578960e+02,\n",
       "       6.84210694e+03, 1.35087858e+03, 1.15149571e+03, 1.37192675e+05,\n",
       "       0.00000000e+00])"
      ]
     },
     "execution_count": 16,
     "metadata": {},
     "output_type": "execute_result"
    }
   ],
   "source": [
    "p.x0_ag[0][1]"
   ]
  },
  {
   "cell_type": "code",
   "execution_count": 15,
   "metadata": {
    "execution": {
     "iopub.execute_input": "2021-01-05T11:57:03.669290Z",
     "iopub.status.busy": "2021-01-05T11:57:03.668818Z",
     "iopub.status.idle": "2021-01-05T11:57:03.676083Z",
     "shell.execute_reply": "2021-01-05T11:57:03.674907Z",
     "shell.execute_reply.started": "2021-01-05T11:57:03.669253Z"
    }
   },
   "outputs": [
    {
     "data": {
      "text/plain": [
       "array([2.72312862e+05, 1.42610081e+03, 6.08422844e+02, 2.08493880e+02,\n",
       "       1.49129082e+03, 2.94434572e+02, 2.50977513e+02, 2.99022186e+04,\n",
       "       0.00000000e+00, 1.24938321e+06, 6.54301232e+03, 2.79147038e+03,\n",
       "       9.56578960e+02, 6.84210694e+03, 1.35087858e+03, 1.15149571e+03,\n",
       "       1.37192675e+05, 0.00000000e+00, 4.74667823e+05, 2.48583251e+03,\n",
       "       1.06054024e+03, 3.63425127e+02, 2.59946505e+03, 5.13228116e+02,\n",
       "       4.37478233e+02, 5.21224775e+04, 0.00000000e+00])"
      ]
     },
     "execution_count": 15,
     "metadata": {},
     "output_type": "execute_result"
    }
   ],
   "source": [
    "p.x0_ag[0].reshape(27)"
   ]
  },
  {
   "cell_type": "code",
   "execution_count": 59,
   "metadata": {
    "execution": {
     "iopub.execute_input": "2021-01-03T18:10:55.419644Z",
     "iopub.status.busy": "2021-01-03T18:10:55.419442Z",
     "iopub.status.idle": "2021-01-03T18:10:55.424594Z",
     "shell.execute_reply": "2021-01-03T18:10:55.423946Z",
     "shell.execute_reply.started": "2021-01-03T18:10:55.419621Z"
    }
   },
   "outputs": [],
   "source": [
    "geodata = pd.read_csv('italy-data/geodata.csv')\n",
    "\n",
    "geodata = geodata.reset_index(drop=True)"
   ]
  },
  {
   "cell_type": "code",
   "execution_count": 69,
   "metadata": {
    "execution": {
     "iopub.execute_input": "2021-01-03T18:13:27.887082Z",
     "iopub.status.busy": "2021-01-03T18:13:27.886858Z",
     "iopub.status.idle": "2021-01-03T18:13:27.897409Z",
     "shell.execute_reply": "2021-01-03T18:13:27.896699Z",
     "shell.execute_reply.started": "2021-01-03T18:13:27.887056Z"
    }
   },
   "outputs": [
    {
     "data": {
      "text/plain": [
       "0       99.576047\n",
       "1       99.189238\n",
       "2       99.844424\n",
       "3       99.752106\n",
       "4       99.423765\n",
       "          ...    \n",
       "102     99.491703\n",
       "103    100.257199\n",
       "104     99.691404\n",
       "105     99.689692\n",
       "106     99.121047\n",
       "Length: 107, dtype: float64"
      ]
     },
     "execution_count": 69,
     "metadata": {},
     "output_type": "execute_result"
    }
   ],
   "source": [
    "geodata['population'] / agestrat.groupby(['Codice provincia', 'Provincia']).sum().reset_index()['Totale'] * 100"
   ]
  },
  {
   "cell_type": "code",
   "execution_count": 296,
   "metadata": {
    "execution": {
     "iopub.execute_input": "2021-01-04T15:30:44.351695Z",
     "iopub.status.busy": "2021-01-04T15:30:44.351481Z",
     "iopub.status.idle": "2021-01-04T15:30:44.358779Z",
     "shell.execute_reply": "2021-01-04T15:30:44.358096Z",
     "shell.execute_reply.started": "2021-01-04T15:30:44.351672Z"
    }
   },
   "outputs": [],
   "source": [
    "import casadi as ca\n",
    "import casadi.tools as cat\n",
    "import matplotlib as mpl\n",
    "import matplotlib.pyplot as plt\n",
    "import numpy as np\n",
    "import pandas as pd\n",
    "from tqdm import tqdm\n",
    "from timeit import default_timer as timer\n",
    "\n",
    "#if \"Agg\" not in mpl.get_backend():\n",
    "#    mpl.interactive(True)\n",
    "#plt.ion()\n",
    "\n",
    "nx = 9\n",
    "states_names = ['S', 'E', 'P', 'I', 'A', 'Q', 'H', 'R', 'V']\n",
    "mob_scaling = 1e7\n",
    "nc = 3 # Number of age classes\n",
    "M = 10\n",
    "N = 10\n",
    "nc = 3  # Number of age classes\n",
    "ages_names = ['Y', 'M', 'O']"
   ]
  },
  {
   "cell_type": "code",
   "execution_count": 338,
   "metadata": {
    "execution": {
     "iopub.execute_input": "2021-01-04T16:05:41.895765Z",
     "iopub.status.busy": "2021-01-04T16:05:41.895523Z",
     "iopub.status.idle": "2021-01-04T16:05:41.901813Z",
     "shell.execute_reply": "2021-01-04T16:05:41.901080Z",
     "shell.execute_reply.started": "2021-01-04T16:05:41.895738Z"
    }
   },
   "outputs": [],
   "source": [
    "dt = (N + 1) / N / n_int_steps\n",
    "\n",
    "states = cat.struct_symSX(states_names)\n",
    "[S, E, P, I, A, Q, H, R, V] = states[...]\n",
    "controls = cat.struct_symSX(['v', 'mob'])\n",
    "[v, mob] = controls[...]"
   ]
  },
  {
   "cell_type": "code",
   "execution_count": 339,
   "metadata": {
    "execution": {
     "iopub.execute_input": "2021-01-04T16:05:43.445613Z",
     "iopub.status.busy": "2021-01-04T16:05:43.445413Z",
     "iopub.status.idle": "2021-01-04T16:05:43.450253Z",
     "shell.execute_reply": "2021-01-04T16:05:43.449617Z",
     "shell.execute_reply.started": "2021-01-04T16:05:43.445590Z"
    }
   },
   "outputs": [],
   "source": [
    "states = cat.struct_symSX([cat.entry(\"AG\", struct=states, repeat=[nc])])"
   ]
  },
  {
   "cell_type": "code",
   "execution_count": 340,
   "metadata": {
    "execution": {
     "iopub.execute_input": "2021-01-04T16:05:44.678840Z",
     "iopub.status.busy": "2021-01-04T16:05:44.678635Z",
     "iopub.status.idle": "2021-01-04T16:05:44.686988Z",
     "shell.execute_reply": "2021-01-04T16:05:44.686302Z",
     "shell.execute_reply.started": "2021-01-04T16:05:44.678817Z"
    }
   },
   "outputs": [],
   "source": [
    "states = cat.struct_symSX([\n",
    "    cat.entry(\"Y\", struct=states),\n",
    "    cat.entry(\"M\", struct=states),\n",
    "    cat.entry(\"O\", struct=states)])"
   ]
  },
  {
   "cell_type": "code",
   "execution_count": 254,
   "metadata": {
    "execution": {
     "iopub.execute_input": "2021-01-04T14:43:19.201727Z",
     "iopub.status.busy": "2021-01-04T14:43:19.201530Z",
     "iopub.status.idle": "2021-01-04T14:43:19.204947Z",
     "shell.execute_reply": "2021-01-04T14:43:19.204451Z",
     "shell.execute_reply.started": "2021-01-04T14:43:19.201706Z"
    }
   },
   "outputs": [
    {
     "data": {
      "text/plain": [
       "<casadi.tools.structure3.ssymStruct at 0x7f8b42b98110>"
      ]
     },
     "execution_count": 254,
     "metadata": {},
     "output_type": "execute_result"
    }
   ],
   "source": [
    "states"
   ]
  },
  {
   "cell_type": "code",
   "execution_count": 341,
   "metadata": {
    "execution": {
     "iopub.execute_input": "2021-01-04T16:05:46.235503Z",
     "iopub.status.busy": "2021-01-04T16:05:46.235277Z",
     "iopub.status.idle": "2021-01-04T16:05:46.873542Z",
     "shell.execute_reply": "2021-01-04T16:05:46.873032Z",
     "shell.execute_reply.started": "2021-01-04T16:05:46.235477Z"
    }
   },
   "outputs": [],
   "source": [
    "Vars = cat.struct_symMX([\n",
    "            (\n",
    "                cat.entry(\"x\", struct=states, repeat=[M, N + 1]),\n",
    "                cat.entry(\"u\", struct=controls, repeat=[M, N, nc]),\n",
    "            ),\n",
    "        ])"
   ]
  },
  {
   "cell_type": "code",
   "execution_count": 286,
   "metadata": {
    "execution": {
     "iopub.execute_input": "2021-01-04T15:16:12.205005Z",
     "iopub.status.busy": "2021-01-04T15:16:12.204773Z",
     "iopub.status.idle": "2021-01-04T15:16:12.208641Z",
     "shell.execute_reply": "2021-01-04T15:16:12.207763Z",
     "shell.execute_reply.started": "2021-01-04T15:16:12.204979Z"
    }
   },
   "outputs": [
    {
     "name": "stdout",
     "output_type": "stream",
     "text": [
      "MX.sym with following structure:\n",
      "Structure with total size 3570.\n",
      "Structure holding 2 entries.\n",
      "  Order: [('x', 'u')]\n",
      "  x = repeated([10, 11]): {Y: {S: 1x1,E: 1x1,P: 1x1,I: 1x1,A: 1x1,Q: 1x1,H: 1x1,R: 1x1,V: 1x1},M: {S: 1x1,E: 1x1,P: 1x1,I: 1x1,A: 1x1,Q: 1x1,H: 1x1,R: 1x1,V: 1x1},O: {S: 1x1,E: 1x1,P: 1x1,I: 1x1,A: 1x1,Q: 1x1,H: 1x1,R: 1x1,V: 1x1}}\n",
      "  u = repeated([10, 10, 3]): {v: 1x1,mob: 1x1}\n",
      "\n"
     ]
    }
   ],
   "source": [
    "print(Vars)"
   ]
  },
  {
   "cell_type": "code",
   "execution_count": 337,
   "metadata": {
    "execution": {
     "iopub.execute_input": "2021-01-04T16:05:35.267108Z",
     "iopub.status.busy": "2021-01-04T16:05:35.266855Z",
     "iopub.status.idle": "2021-01-04T16:05:35.271184Z",
     "shell.execute_reply": "2021-01-04T16:05:35.270482Z",
     "shell.execute_reply.started": "2021-01-04T16:05:35.267082Z"
    }
   },
   "outputs": [
    {
     "data": {
      "text/plain": [
       "MX(vertsplit(V){0})"
      ]
     },
     "execution_count": 337,
     "metadata": {},
     "output_type": "execute_result"
    }
   ],
   "source": [
    "Vars['x', 0, 0]"
   ]
  },
  {
   "cell_type": "code",
   "execution_count": 289,
   "metadata": {
    "execution": {
     "iopub.execute_input": "2021-01-04T15:21:18.184332Z",
     "iopub.status.busy": "2021-01-04T15:21:18.184103Z",
     "iopub.status.idle": "2021-01-04T15:21:18.187624Z",
     "shell.execute_reply": "2021-01-04T15:21:18.186994Z",
     "shell.execute_reply.started": "2021-01-04T15:21:18.184306Z"
    }
   },
   "outputs": [
    {
     "name": "stdout",
     "output_type": "stream",
     "text": [
      "vertsplit(vertsplit(vertsplit(V){0}){0}){0}\n"
     ]
    }
   ],
   "source": [
    "print(Vars['x', 0, 0, 'Y' , 'S'])"
   ]
  },
  {
   "cell_type": "code",
   "execution_count": 290,
   "metadata": {
    "execution": {
     "iopub.execute_input": "2021-01-04T15:21:46.009716Z",
     "iopub.status.busy": "2021-01-04T15:21:46.009482Z",
     "iopub.status.idle": "2021-01-04T15:21:46.012663Z",
     "shell.execute_reply": "2021-01-04T15:21:46.012025Z",
     "shell.execute_reply.started": "2021-01-04T15:21:46.009689Z"
    }
   },
   "outputs": [],
   "source": [
    "a, b = [0,1], [1,0]"
   ]
  },
  {
   "cell_type": "code",
   "execution_count": 294,
   "metadata": {
    "execution": {
     "iopub.execute_input": "2021-01-04T15:24:41.367068Z",
     "iopub.status.busy": "2021-01-04T15:24:41.366839Z",
     "iopub.status.idle": "2021-01-04T15:24:41.371866Z",
     "shell.execute_reply": "2021-01-04T15:24:41.371167Z",
     "shell.execute_reply.started": "2021-01-04T15:24:41.367043Z"
    }
   },
   "outputs": [
    {
     "data": {
      "text/plain": [
       "MX(@1=vertsplit(V), vertcat(vertsplit(vertsplit(@1{3}){0}){1}, vertsplit(vertsplit(@1{44}){0}){1}, vertsplit(vertsplit(@1{85}){0}){1}, vertsplit(vertsplit(@1{126}){0}){1}, vertsplit(vertsplit(@1{167}){0}){1}, vertsplit(vertsplit(@1{208}){0}){1}, vertsplit(vertsplit(@1{249}){0}){1}, vertsplit(vertsplit(@1{290}){0}){1}, vertsplit(vertsplit(@1{331}){0}){1}, vertsplit(vertsplit(@1{372}){0}){1}))"
      ]
     },
     "execution_count": 294,
     "metadata": {},
     "output_type": "execute_result"
    }
   ],
   "source": [
    "ca.veccat(*Vars['x', :, 3, 'Y', 'E'])"
   ]
  },
  {
   "cell_type": "code",
   "execution_count": 260,
   "metadata": {
    "execution": {
     "iopub.execute_input": "2021-01-04T14:43:42.326870Z",
     "iopub.status.busy": "2021-01-04T14:43:42.326654Z",
     "iopub.status.idle": "2021-01-04T14:43:42.337274Z",
     "shell.execute_reply": "2021-01-04T14:43:42.336352Z",
     "shell.execute_reply.started": "2021-01-04T14:43:42.326847Z"
    }
   },
   "outputs": [
    {
     "ename": "AttributeError",
     "evalue": "'MX' object has no attribute 'cat'",
     "output_type": "error",
     "traceback": [
      "\u001b[0;31m---------------------------------------------------------------------------\u001b[0m",
      "\u001b[0;31mAttributeError\u001b[0m                            Traceback (most recent call last)",
      "\u001b[0;32m<ipython-input-260-7aadc7a39a50>\u001b[0m in \u001b[0;36m<module>\u001b[0;34m()\u001b[0m\n\u001b[0;32m----> 1\u001b[0;31m \u001b[0mprint\u001b[0m\u001b[0;34m(\u001b[0m\u001b[0;34m*\u001b[0m\u001b[0mVars\u001b[0m\u001b[0;34m[\u001b[0m\u001b[0;34m'x'\u001b[0m\u001b[0;34m,\u001b[0m \u001b[0;36m0\u001b[0m\u001b[0;34m,\u001b[0m \u001b[0;36m0\u001b[0m\u001b[0;34m,\u001b[0m \u001b[0;34m'Y'\u001b[0m\u001b[0;34m]\u001b[0m\u001b[0;34m.\u001b[0m\u001b[0mcat\u001b[0m\u001b[0;34m)\u001b[0m\u001b[0;34m\u001b[0m\u001b[0;34m\u001b[0m\u001b[0m\n\u001b[0m",
      "\u001b[0;32m/Users/chadi/opt/miniconda3/envs/ocp-covid/lib/python3.7/site-packages/casadi/casadi.py\u001b[0m in \u001b[0;36m<lambda>\u001b[0;34m(self, name)\u001b[0m\n\u001b[1;32m   7535\u001b[0m     \u001b[0;32mfor\u001b[0m \u001b[0m_s\u001b[0m \u001b[0;32min\u001b[0m \u001b[0;34m[\u001b[0m\u001b[0mGenericExpressionCommon\u001b[0m\u001b[0;34m,\u001b[0m \u001b[0mPrintableCommon\u001b[0m\u001b[0;34m,\u001b[0m \u001b[0mGenMX\u001b[0m\u001b[0;34m,\u001b[0m \u001b[0mSharedObject\u001b[0m\u001b[0;34m]\u001b[0m\u001b[0;34m:\u001b[0m\u001b[0;34m\u001b[0m\u001b[0;34m\u001b[0m\u001b[0m\n\u001b[1;32m   7536\u001b[0m         \u001b[0m__swig_getmethods__\u001b[0m\u001b[0;34m.\u001b[0m\u001b[0mupdate\u001b[0m\u001b[0;34m(\u001b[0m\u001b[0mgetattr\u001b[0m\u001b[0;34m(\u001b[0m\u001b[0m_s\u001b[0m\u001b[0;34m,\u001b[0m \u001b[0;34m'__swig_getmethods__'\u001b[0m\u001b[0;34m,\u001b[0m \u001b[0;34m{\u001b[0m\u001b[0;34m}\u001b[0m\u001b[0;34m)\u001b[0m\u001b[0;34m)\u001b[0m\u001b[0;34m\u001b[0m\u001b[0;34m\u001b[0m\u001b[0m\n\u001b[0;32m-> 7537\u001b[0;31m     \u001b[0m__getattr__\u001b[0m \u001b[0;34m=\u001b[0m \u001b[0;32mlambda\u001b[0m \u001b[0mself\u001b[0m\u001b[0;34m,\u001b[0m \u001b[0mname\u001b[0m\u001b[0;34m:\u001b[0m \u001b[0m_swig_getattr\u001b[0m\u001b[0;34m(\u001b[0m\u001b[0mself\u001b[0m\u001b[0;34m,\u001b[0m \u001b[0mMX\u001b[0m\u001b[0;34m,\u001b[0m \u001b[0mname\u001b[0m\u001b[0;34m)\u001b[0m\u001b[0;34m\u001b[0m\u001b[0;34m\u001b[0m\u001b[0m\n\u001b[0m\u001b[1;32m   7538\u001b[0m     \u001b[0m__repr__\u001b[0m \u001b[0;34m=\u001b[0m \u001b[0m_swig_repr\u001b[0m\u001b[0;34m\u001b[0m\u001b[0;34m\u001b[0m\u001b[0m\n\u001b[1;32m   7539\u001b[0m \u001b[0;34m\u001b[0m\u001b[0m\n",
      "\u001b[0;32m/Users/chadi/opt/miniconda3/envs/ocp-covid/lib/python3.7/site-packages/casadi/casadi.py\u001b[0m in \u001b[0;36m_swig_getattr\u001b[0;34m(self, class_type, name)\u001b[0m\n\u001b[1;32m     78\u001b[0m     \u001b[0;32mif\u001b[0m \u001b[0mmethod\u001b[0m\u001b[0;34m:\u001b[0m\u001b[0;34m\u001b[0m\u001b[0;34m\u001b[0m\u001b[0m\n\u001b[1;32m     79\u001b[0m         \u001b[0;32mreturn\u001b[0m \u001b[0mmethod\u001b[0m\u001b[0;34m(\u001b[0m\u001b[0mself\u001b[0m\u001b[0;34m)\u001b[0m\u001b[0;34m\u001b[0m\u001b[0;34m\u001b[0m\u001b[0m\n\u001b[0;32m---> 80\u001b[0;31m     \u001b[0;32mraise\u001b[0m \u001b[0mAttributeError\u001b[0m\u001b[0;34m(\u001b[0m\u001b[0;34m\"'%s' object has no attribute '%s'\"\u001b[0m \u001b[0;34m%\u001b[0m \u001b[0;34m(\u001b[0m\u001b[0mclass_type\u001b[0m\u001b[0;34m.\u001b[0m\u001b[0m__name__\u001b[0m\u001b[0;34m,\u001b[0m \u001b[0mname\u001b[0m\u001b[0;34m)\u001b[0m\u001b[0;34m)\u001b[0m\u001b[0;34m\u001b[0m\u001b[0;34m\u001b[0m\u001b[0m\n\u001b[0m\u001b[1;32m     81\u001b[0m \u001b[0;34m\u001b[0m\u001b[0m\n\u001b[1;32m     82\u001b[0m \u001b[0;34m\u001b[0m\u001b[0m\n",
      "\u001b[0;31mAttributeError\u001b[0m: 'MX' object has no attribute 'cat'"
     ]
    }
   ],
   "source": [
    "print(*Vars['x', 0, 0, 'Y'].cat)"
   ]
  },
  {
   "cell_type": "code",
   "execution_count": 267,
   "metadata": {
    "execution": {
     "iopub.execute_input": "2021-01-04T14:48:18.937179Z",
     "iopub.status.busy": "2021-01-04T14:48:18.936951Z",
     "iopub.status.idle": "2021-01-04T14:48:18.940545Z",
     "shell.execute_reply": "2021-01-04T14:48:18.939909Z",
     "shell.execute_reply.started": "2021-01-04T14:48:18.937153Z"
    }
   },
   "outputs": [
    {
     "name": "stdout",
     "output_type": "stream",
     "text": [
      "symbolic SX with following structure:\n",
      "Structure with total size 27.\n",
      "Structure holding 3 entries.\n",
      "  Order: ['Y', 'M', 'O']\n",
      "  Y = {S: 1x1,E: 1x1,P: 1x1,I: 1x1,A: 1x1,Q: 1x1,H: 1x1,R: 1x1,V: 1x1}\n",
      "  M = {S: 1x1,E: 1x1,P: 1x1,I: 1x1,A: 1x1,Q: 1x1,H: 1x1,R: 1x1,V: 1x1}\n",
      "  O = {S: 1x1,E: 1x1,P: 1x1,I: 1x1,A: 1x1,Q: 1x1,H: 1x1,R: 1x1,V: 1x1}\n",
      "\n"
     ]
    }
   ],
   "source": [
    "print(states)"
   ]
  },
  {
   "cell_type": "code",
   "execution_count": 284,
   "metadata": {
    "execution": {
     "iopub.execute_input": "2021-01-04T15:08:55.644278Z",
     "iopub.status.busy": "2021-01-04T15:08:55.644049Z",
     "iopub.status.idle": "2021-01-04T15:08:55.648963Z",
     "shell.execute_reply": "2021-01-04T15:08:55.648180Z",
     "shell.execute_reply.started": "2021-01-04T15:08:55.644251Z"
    }
   },
   "outputs": [
    {
     "data": {
      "text/plain": [
       "SX([Y_S, Y_E, Y_P, Y_I, Y_A, Y_Q, Y_H, Y_R, Y_V, M_S, M_E, M_P, M_I, M_A, M_Q, M_H, M_R, M_V, O_S, O_E, O_P, O_I, O_A, O_Q, O_H, O_R, O_V])"
      ]
     },
     "execution_count": 284,
     "metadata": {},
     "output_type": "execute_result"
    }
   ],
   "source": []
  },
  {
   "cell_type": "code",
   "execution_count": 238,
   "metadata": {
    "execution": {
     "iopub.execute_input": "2021-01-04T13:39:20.071966Z",
     "iopub.status.busy": "2021-01-04T13:39:20.071733Z",
     "iopub.status.idle": "2021-01-04T13:39:20.083621Z",
     "shell.execute_reply": "2021-01-04T13:39:20.082395Z",
     "shell.execute_reply.started": "2021-01-04T13:39:20.071940Z"
    }
   },
   "outputs": [
    {
     "ename": "NotImplementedError",
     "evalue": "Wrong number or type of arguments for overloaded function '_veccat'.\n  Possible C/C++ prototypes are:\n    casadi::casadi_veccat(std::vector< casadi::Sparsity,std::allocator< casadi::Sparsity > > const &)\n    casadi::casadi_veccat(std::vector< casadi::MX,std::allocator< casadi::MX > > const &)\n    casadi::casadi_veccat(std::vector< casadi::Matrix< casadi_int >,std::allocator< casadi::Matrix< casadi_int > > > const &)\n    casadi::casadi_veccat(std::vector< casadi::Matrix< double >,std::allocator< casadi::Matrix< double > > > const &)\n    casadi::casadi_veccat(std::vector< casadi::Matrix< casadi::SXElem >,std::allocator< casadi::Matrix< casadi::SXElem > > > const &)\n",
     "output_type": "error",
     "traceback": [
      "\u001b[0;31m---------------------------------------------------------------------------\u001b[0m",
      "\u001b[0;31mNotImplementedError\u001b[0m                       Traceback (most recent call last)",
      "\u001b[0;32m<ipython-input-238-c59d1828c121>\u001b[0m in \u001b[0;36m<module>\u001b[0;34m()\u001b[0m\n\u001b[0;32m----> 1\u001b[0;31m \u001b[0mca\u001b[0m\u001b[0;34m.\u001b[0m\u001b[0mveccat\u001b[0m\u001b[0;34m(\u001b[0m\u001b[0;34m*\u001b[0m\u001b[0mstates\u001b[0m\u001b[0;34m[\u001b[0m\u001b[0;34m...\u001b[0m\u001b[0;34m]\u001b[0m\u001b[0;34m)\u001b[0m\u001b[0;34m\u001b[0m\u001b[0;34m\u001b[0m\u001b[0m\n\u001b[0m",
      "\u001b[0;32m/Users/chadi/opt/miniconda3/envs/ocp-covid/lib/python3.7/site-packages/casadi/casadi.py\u001b[0m in \u001b[0;36mveccat\u001b[0;34m(*args)\u001b[0m\n\u001b[1;32m    343\u001b[0m \u001b[0;34m\u001b[0m\u001b[0m\n\u001b[1;32m    344\u001b[0m \u001b[0;34m\u001b[0m\u001b[0m\n\u001b[0;32m--> 345\u001b[0;31m \u001b[0;32mdef\u001b[0m \u001b[0mveccat\u001b[0m\u001b[0;34m(\u001b[0m\u001b[0;34m*\u001b[0m\u001b[0margs\u001b[0m\u001b[0;34m)\u001b[0m\u001b[0;34m:\u001b[0m \u001b[0;32mreturn\u001b[0m \u001b[0m_veccat\u001b[0m\u001b[0;34m(\u001b[0m\u001b[0margs\u001b[0m\u001b[0;34m)\u001b[0m\u001b[0;34m\u001b[0m\u001b[0;34m\u001b[0m\u001b[0m\n\u001b[0m\u001b[1;32m    346\u001b[0m \u001b[0;32mdef\u001b[0m \u001b[0mvertcat\u001b[0m\u001b[0;34m(\u001b[0m\u001b[0;34m*\u001b[0m\u001b[0margs\u001b[0m\u001b[0;34m)\u001b[0m\u001b[0;34m:\u001b[0m \u001b[0;32mreturn\u001b[0m \u001b[0m_vertcat\u001b[0m\u001b[0;34m(\u001b[0m\u001b[0margs\u001b[0m\u001b[0;34m)\u001b[0m\u001b[0;34m\u001b[0m\u001b[0;34m\u001b[0m\u001b[0m\n\u001b[1;32m    347\u001b[0m \u001b[0;32mdef\u001b[0m \u001b[0mhorzcat\u001b[0m\u001b[0;34m(\u001b[0m\u001b[0;34m*\u001b[0m\u001b[0margs\u001b[0m\u001b[0;34m)\u001b[0m\u001b[0;34m:\u001b[0m \u001b[0;32mreturn\u001b[0m \u001b[0m_horzcat\u001b[0m\u001b[0;34m(\u001b[0m\u001b[0margs\u001b[0m\u001b[0;34m)\u001b[0m\u001b[0;34m\u001b[0m\u001b[0;34m\u001b[0m\u001b[0m\n",
      "\u001b[0;32m/Users/chadi/opt/miniconda3/envs/ocp-covid/lib/python3.7/site-packages/casadi/casadi.py\u001b[0m in \u001b[0;36m_veccat\u001b[0;34m(*args)\u001b[0m\n\u001b[1;32m  13013\u001b[0m     \u001b[0m_veccat\u001b[0m\u001b[0;34m(\u001b[0m\u001b[0mstd\u001b[0m\u001b[0;34m:\u001b[0m\u001b[0;34m:\u001b[0m\u001b[0mvector\u001b[0m\u001b[0;34m<\u001b[0m \u001b[0mcasadi\u001b[0m\u001b[0;34m:\u001b[0m\u001b[0;34m:\u001b[0m\u001b[0mMatrix\u001b[0m\u001b[0;34m<\u001b[0m \u001b[0mcasadi\u001b[0m\u001b[0;34m:\u001b[0m\u001b[0;34m:\u001b[0m\u001b[0mSXElem\u001b[0m \u001b[0;34m>\u001b[0m\u001b[0;34m,\u001b[0m\u001b[0mstd\u001b[0m\u001b[0;34m:\u001b[0m\u001b[0;34m:\u001b[0m\u001b[0mallocator\u001b[0m\u001b[0;34m<\u001b[0m \u001b[0mcasadi\u001b[0m\u001b[0;34m:\u001b[0m\u001b[0;34m:\u001b[0m\u001b[0mMatrix\u001b[0m\u001b[0;34m<\u001b[0m \u001b[0mcasadi\u001b[0m\u001b[0;34m:\u001b[0m\u001b[0;34m:\u001b[0m\u001b[0mSXElem\u001b[0m \u001b[0;34m>\u001b[0m \u001b[0;34m>\u001b[0m \u001b[0;34m>\u001b[0m \u001b[0mconst\u001b[0m \u001b[0;34m&\u001b[0m \u001b[0mx\u001b[0m\u001b[0;34m)\u001b[0m \u001b[0;34m->\u001b[0m \u001b[0mSX\u001b[0m\u001b[0;34m\u001b[0m\u001b[0;34m\u001b[0m\u001b[0m\n\u001b[1;32m  13014\u001b[0m     \"\"\"\n\u001b[0;32m> 13015\u001b[0;31m     \u001b[0;32mreturn\u001b[0m \u001b[0m_casadi\u001b[0m\u001b[0;34m.\u001b[0m\u001b[0m_veccat\u001b[0m\u001b[0;34m(\u001b[0m\u001b[0;34m*\u001b[0m\u001b[0margs\u001b[0m\u001b[0;34m)\u001b[0m\u001b[0;34m\u001b[0m\u001b[0;34m\u001b[0m\u001b[0m\n\u001b[0m\u001b[1;32m  13016\u001b[0m \u001b[0;34m\u001b[0m\u001b[0m\n\u001b[1;32m  13017\u001b[0m \u001b[0;32mdef\u001b[0m \u001b[0mmtimes\u001b[0m\u001b[0;34m(\u001b[0m\u001b[0;34m*\u001b[0m\u001b[0margs\u001b[0m\u001b[0;34m)\u001b[0m \u001b[0;34m->\u001b[0m \u001b[0;34m\"casadi::Matrix< casadi::SXElem >\"\u001b[0m\u001b[0;34m:\u001b[0m\u001b[0;34m\u001b[0m\u001b[0;34m\u001b[0m\u001b[0m\n",
      "\u001b[0;31mNotImplementedError\u001b[0m: Wrong number or type of arguments for overloaded function '_veccat'.\n  Possible C/C++ prototypes are:\n    casadi::casadi_veccat(std::vector< casadi::Sparsity,std::allocator< casadi::Sparsity > > const &)\n    casadi::casadi_veccat(std::vector< casadi::MX,std::allocator< casadi::MX > > const &)\n    casadi::casadi_veccat(std::vector< casadi::Matrix< casadi_int >,std::allocator< casadi::Matrix< casadi_int > > > const &)\n    casadi::casadi_veccat(std::vector< casadi::Matrix< double >,std::allocator< casadi::Matrix< double > > > const &)\n    casadi::casadi_veccat(std::vector< casadi::Matrix< casadi::SXElem >,std::allocator< casadi::Matrix< casadi::SXElem > > > const &)\n"
     ]
    }
   ],
   "source": [
    "ca.veccat(*states[...])"
   ]
  },
  {
   "cell_type": "code",
   "execution_count": 282,
   "metadata": {
    "execution": {
     "iopub.execute_input": "2021-01-04T14:53:06.428205Z",
     "iopub.status.busy": "2021-01-04T14:53:06.427970Z",
     "iopub.status.idle": "2021-01-04T14:53:06.432358Z",
     "shell.execute_reply": "2021-01-04T14:53:06.431729Z",
     "shell.execute_reply.started": "2021-01-04T14:53:06.428178Z"
    }
   },
   "outputs": [
    {
     "data": {
      "text/plain": [
       "SX(Y_S)"
      ]
     },
     "execution_count": 282,
     "metadata": {},
     "output_type": "execute_result"
    }
   ],
   "source": [
    "states['Y','S']"
   ]
  },
  {
   "cell_type": "code",
   "execution_count": 252,
   "metadata": {
    "execution": {
     "iopub.execute_input": "2021-01-04T13:56:37.741081Z",
     "iopub.status.busy": "2021-01-04T13:56:37.740845Z",
     "iopub.status.idle": "2021-01-04T13:56:37.744807Z",
     "shell.execute_reply": "2021-01-04T13:56:37.744033Z",
     "shell.execute_reply.started": "2021-01-04T13:56:37.741054Z"
    }
   },
   "outputs": [
    {
     "name": "stdout",
     "output_type": "stream",
     "text": [
      "[AG_0_S, AG_0_E, AG_0_P, AG_0_I, AG_0_A, AG_0_Q, AG_0_H, AG_0_R, AG_0_V]\n"
     ]
    }
   ],
   "source": [
    "print(states['AG'][0])"
   ]
  },
  {
   "cell_type": "code",
   "execution_count": 283,
   "metadata": {
    "execution": {
     "iopub.execute_input": "2021-01-04T15:02:57.928913Z",
     "iopub.status.busy": "2021-01-04T15:02:57.928586Z",
     "iopub.status.idle": "2021-01-04T15:02:57.932996Z",
     "shell.execute_reply": "2021-01-04T15:02:57.932395Z",
     "shell.execute_reply.started": "2021-01-04T15:02:57.928879Z"
    }
   },
   "outputs": [
    {
     "data": {
      "text/plain": [
       "SX([Y_S, Y_E, Y_P, Y_I, Y_A, Y_Q, Y_H, Y_R, Y_V, M_S, M_E, M_P, M_I, M_A, M_Q, M_H, M_R, M_V, O_S, O_E, O_P, O_I, O_A, O_Q, O_H, O_R, O_V])"
      ]
     },
     "execution_count": 283,
     "metadata": {},
     "output_type": "execute_result"
    }
   ],
   "source": [
    "states.cat"
   ]
  },
  {
   "cell_type": "code",
   "execution_count": 298,
   "metadata": {
    "execution": {
     "iopub.execute_input": "2021-01-04T15:30:51.991337Z",
     "iopub.status.busy": "2021-01-04T15:30:51.991134Z",
     "iopub.status.idle": "2021-01-04T15:30:51.998797Z",
     "shell.execute_reply": "2021-01-04T15:30:51.998184Z",
     "shell.execute_reply.started": "2021-01-04T15:30:51.991315Z"
    }
   },
   "outputs": [],
   "source": [
    "k = 0\n",
    "Sk, Ek, Pk, Rk, Ak, Ik, Vk = [ca.veccat(*Vars['x', :, k, ag, 'S']) for ag in ages_names], \\\n",
    "            [ca.veccat(*Vars['x', :, k, ag, 'E']) for ag in ages_names], \\\n",
    "            [ca.veccat(*Vars['x', :, k, ag, 'P']) for ag in ages_names], \\\n",
    "            [ca.veccat(*Vars['x', :, k, ag, 'R']) for ag in ages_names], \\\n",
    "            [ca.veccat(*Vars['x', :, k, ag, 'A']) for ag in ages_names], \\\n",
    "            [ca.veccat(*Vars['x', :, k, ag, 'I']) for ag in ages_names], \\\n",
    "            [ca.veccat(*Vars['x', :, k, ag, 'V']) for ag in ages_names]"
   ]
  },
  {
   "cell_type": "code",
   "execution_count": 303,
   "metadata": {
    "execution": {
     "iopub.execute_input": "2021-01-04T15:31:21.189141Z",
     "iopub.status.busy": "2021-01-04T15:31:21.188908Z",
     "iopub.status.idle": "2021-01-04T15:31:21.194268Z",
     "shell.execute_reply": "2021-01-04T15:31:21.193615Z",
     "shell.execute_reply.started": "2021-01-04T15:31:21.189115Z"
    }
   },
   "outputs": [
    {
     "data": {
      "text/plain": [
       "MX(@1=vertsplit(V), @2=vertsplit(@1{0}), @3=vertsplit(@1{41}), @4=vertsplit(@1{82}), @5=vertsplit(@1{123}), @6=vertsplit(@1{164}), @7=vertsplit(@1{205}), @8=vertsplit(@1{246}), @9=vertsplit(@1{287}), @10=vertsplit(@1{328}), @11=vertsplit(@1{369}), ((vertcat(vertsplit(@2{0}){0}, vertsplit(@3{0}){0}, vertsplit(@4{0}){0}, vertsplit(@5{0}){0}, vertsplit(@6{0}){0}, vertsplit(@7{0}){0}, vertsplit(@8{0}){0}, vertsplit(@9{0}){0}, vertsplit(@10{0}){0}, vertsplit(@11{0}){0})+vertcat(vertsplit(@2{1}){0}, vertsplit(@3{1}){0}, vertsplit(@4{1}){0}, vertsplit(@5{1}){0}, vertsplit(@6{1}){0}, vertsplit(@7{1}){0}, vertsplit(@8{1}){0}, vertsplit(@9{1}){0}, vertsplit(@10{1}){0}, vertsplit(@11{1}){0}))+vertcat(vertsplit(@2{2}){0}, vertsplit(@3{2}){0}, vertsplit(@4{2}){0}, vertsplit(@5{2}){0}, vertsplit(@6{2}){0}, vertsplit(@7{2}){0}, vertsplit(@8{2}){0}, vertsplit(@9{2}){0}, vertsplit(@10{2}){0}, vertsplit(@11{2}){0})))"
      ]
     },
     "execution_count": 303,
     "metadata": {},
     "output_type": "execute_result"
    }
   ],
   "source": [
    "np.sum(Sk)"
   ]
  },
  {
   "cell_type": "code",
   "execution_count": 344,
   "metadata": {
    "execution": {
     "iopub.execute_input": "2021-01-04T16:06:20.955425Z",
     "iopub.status.busy": "2021-01-04T16:06:20.955182Z",
     "iopub.status.idle": "2021-01-04T16:06:20.958361Z",
     "shell.execute_reply": "2021-01-04T16:06:20.957601Z",
     "shell.execute_reply.started": "2021-01-04T16:06:20.955391Z"
    }
   },
   "outputs": [],
   "source": [
    "a = Vars['x', 0, 0]"
   ]
  },
  {
   "cell_type": "code",
   "execution_count": 357,
   "metadata": {
    "execution": {
     "iopub.execute_input": "2021-01-04T16:22:13.240123Z",
     "iopub.status.busy": "2021-01-04T16:22:13.239894Z",
     "iopub.status.idle": "2021-01-04T16:22:13.242898Z",
     "shell.execute_reply": "2021-01-04T16:22:13.242091Z",
     "shell.execute_reply.started": "2021-01-04T16:22:13.240097Z"
    }
   },
   "outputs": [],
   "source": [
    "S ,  E  = [], []"
   ]
  },
  {
   "cell_type": "code",
   "execution_count": 358,
   "metadata": {
    "execution": {
     "iopub.execute_input": "2021-01-04T16:22:14.277479Z",
     "iopub.status.busy": "2021-01-04T16:22:14.277278Z",
     "iopub.status.idle": "2021-01-04T16:22:14.279832Z",
     "shell.execute_reply": "2021-01-04T16:22:14.279240Z",
     "shell.execute_reply.started": "2021-01-04T16:22:14.277457Z"
    }
   },
   "outputs": [],
   "source": [
    "S.append(10)"
   ]
  },
  {
   "cell_type": "code",
   "execution_count": null,
   "metadata": {},
   "outputs": [],
   "source": []
  },
  {
   "cell_type": "code",
   "execution_count": 360,
   "metadata": {
    "execution": {
     "iopub.execute_input": "2021-01-04T16:31:23.096831Z",
     "iopub.status.busy": "2021-01-04T16:31:23.096592Z",
     "iopub.status.idle": "2021-01-04T16:31:23.101518Z",
     "shell.execute_reply": "2021-01-04T16:31:23.100775Z",
     "shell.execute_reply.started": "2021-01-04T16:31:23.096804Z"
    }
   },
   "outputs": [
    {
     "data": {
      "text/plain": [
       "[0, 1, 2, 3]"
      ]
     },
     "execution_count": 360,
     "metadata": {},
     "output_type": "execute_result"
    }
   ],
   "source": [
    "[0, 1]+ [2,3]"
   ]
  }
 ],
 "metadata": {
  "kernelspec": {
   "display_name": "Python (ocp-covid)",
   "language": "python",
   "name": "ocp-covid"
  },
  "language_info": {
   "codemirror_mode": {
    "name": "ipython",
    "version": 3
   },
   "file_extension": ".py",
   "mimetype": "text/x-python",
   "name": "python",
   "nbconvert_exporter": "python",
   "pygments_lexer": "ipython3",
   "version": "3.7.9"
  }
 },
 "nbformat": 4,
 "nbformat_minor": 4
}
