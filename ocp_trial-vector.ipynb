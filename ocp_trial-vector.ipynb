{
 "cells": [
  {
   "cell_type": "code",
   "execution_count": 1,
   "metadata": {
    "execution": {
     "iopub.execute_input": "2020-08-20T06:56:36.997383Z",
     "iopub.status.busy": "2020-08-20T06:56:36.996945Z",
     "iopub.status.idle": "2020-08-20T06:56:48.295359Z",
     "shell.execute_reply": "2020-08-20T06:56:48.294695Z",
     "shell.execute_reply.started": "2020-08-20T06:56:36.997206Z"
    }
   },
   "outputs": [
    {
     "name": "stdout",
     "output_type": "stream",
     "text": [
      "Loaded Italy Setup with 40 nodes.\n"
     ]
    }
   ],
   "source": [
    "import casadi as ca\n",
    "import casadi.tools as cat\n",
    "import numpy as np\n",
    "import matplotlib.pyplot as plt\n",
    "import pandas as pd\n",
    "import matplotlib as mpl\n",
    "import networkx as nx\n",
    "import sys, copy\n",
    "from scipy.integrate import solve_ivp\n",
    "import matlab.engine\n",
    "\n",
    "sys.path.append('.')\n",
    "sys.path.append('ocp-solving/')\n",
    "\n",
    "#from COVIDVaccinationOCP import COVIDVaccinationOCP, rk4_mob, rhs_py_total, rhs_py\n",
    "from ItalySetup import ItalySetup\n",
    "\n",
    "from utils import *\n",
    "\n",
    "eng = matlab.engine.start_matlab()\n",
    "eng.cd('geography-paper-master/', nargout=0)\n",
    "eng.run('single_build.m', nargout=0)\n",
    "\n",
    "model_size = 40\n",
    "\n",
    "s = ItalySetup(model_size)\n",
    "\n",
    "N = 163           # Number of control time interval\n",
    "T = 163#52 * 7       # N * 7\n",
    "n_int_steps = 1\n",
    "\n",
    "model_days = pd.date_range(s.start_date, s.end_date, freq='1D')\n",
    "freq = '1D'  # 'W-MON'\n",
    "model_step = pd.date_range(s.start_date, s.end_date, freq=freq)\n",
    "mobintime = s.mobility_ts.resample(freq).mean()\n",
    "\n",
    "N = len(model_step) - 1\n",
    "T = len(model_days)\n",
    "\n",
    "nx = 9\n",
    "\n",
    "pnames = 1\n",
    "\n",
    "states_list = ['S', 'E', 'P', 'I', 'A', 'Q', 'H', 'R', 'V']\n",
    "states = states_list\n",
    "\n",
    "S, E, P, I, A, Q, H, R, V = np.arange(nx)\n",
    "\n",
    "integ_matlab = np.array(eng.eval('x'))\n",
    "\n",
    "p_dict, mobfrac, mobmat, betaratiointime, x0= get_parameters_from_matlab(eng, s, model_size, model_days, freq)\n",
    "\n",
    "dt = T / N / n_int_steps\n",
    "\n",
    "obj_params = {\n",
    "    'scale_ell': 1e0,\n",
    "    'scale_If': 1e2,\n",
    "    'scale_v': 1e-6\n",
    "}\n",
    "betaP0 = p_dict['betaP0']\n",
    "epsilonA = p_dict['epsilonA']\n",
    "epsilonI = p_dict['epsilonI']\n",
    "r = p_dict['r']\n",
    "\n",
    "p_dict.pop('betaP0')\n",
    "p_dict.pop('r')\n",
    "p_dict.pop('epsilonA')\n",
    "p_dict.pop('epsilonI')\n",
    "C = mobmat"
   ]
  },
  {
   "cell_type": "code",
   "execution_count": 2,
   "metadata": {
    "execution": {
     "iopub.execute_input": "2020-08-20T06:56:48.296838Z",
     "iopub.status.busy": "2020-08-20T06:56:48.296541Z",
     "iopub.status.idle": "2020-08-20T06:56:48.308067Z",
     "shell.execute_reply": "2020-08-20T06:56:48.307183Z",
     "shell.execute_reply.started": "2020-08-20T06:56:48.296754Z"
    }
   },
   "outputs": [],
   "source": [
    "def rhs_py(t, x, u, cov, p, mob, pop_node):\n",
    "    S, E, P, I, A, Q, H, R, V = x[0], x[1], x[2], x[3], x[4], x[5], x[6], x[7], x[8]\n",
    "\n",
    "    deltaE, deltaP,sigma,eta,gammaI,gammaA,gammaQ,gammaH,alphaI,alphaH, zeta,  gammaV = \\\n",
    "    p[0], p[1], p[2], p[3], p[4], p[5], p[6], p[7], p[8], p[9], p[10], p[11]\n",
    "   \n",
    "    v = u[0]\n",
    "    foi = mob\n",
    "    rhs = [None] * nx\n",
    "    v = 0\n",
    "    vaccrate = v / (S + E + P + A + Q + H + R+1)  # NOT I NOT H ?\n",
    "    #num = S + E + P + A + Q + H + R\n",
    "    #vaccrate = v / (sqrt(num**2 + 1e3))   # is 1e7 too large\n",
    "    rhs[0] = -(foi + vaccrate) * S + gammaV * V  # S\n",
    "    rhs[1] = foi * S - deltaE * E;  # E\n",
    "    rhs[2] = deltaE * E - deltaP * P;  # P\n",
    "    rhs[3] = sigma * deltaP * P - (eta + gammaI + alphaI) * I;  # I\n",
    "    rhs[4] = (1 - sigma) * deltaP * P - gammaA * A;  # A\n",
    "    rhs[5] = zeta * eta * I - gammaQ * Q;  # Q\n",
    "    rhs[6] = (1 - zeta) * eta * I - (gammaH + alphaH) * H;  # H\n",
    "    rhs[7] = gammaI * I + gammaA * A + gammaH * H + gammaQ * Q;  # R\n",
    "    rhs[8] = vaccrate * S - gammaV * V  # V\n",
    "    rhs_ell = [None] * 3\n",
    "    rhs_ell[0] = gammaH * H;  # recovered from the hospital\n",
    "    rhs_ell[1] = alphaH * H;  # total death\n",
    "    rhs_ell[2] = (1 - zeta) * eta * I;  # cumulative hospitalized cases\n",
    "\n",
    "    return rhs, rhs_ell"
   ]
  },
  {
   "cell_type": "code",
   "execution_count": 3,
   "metadata": {
    "execution": {
     "iopub.execute_input": "2020-08-20T06:56:48.310234Z",
     "iopub.status.busy": "2020-08-20T06:56:48.310033Z",
     "iopub.status.idle": "2020-08-20T06:56:48.325944Z",
     "shell.execute_reply": "2020-08-20T06:56:48.325167Z",
     "shell.execute_reply.started": "2020-08-20T06:56:48.310206Z"
    }
   },
   "outputs": [
    {
     "name": "stdout",
     "output_type": "stream",
     "text": [
      "Building OCP with 40 nodes\n"
     ]
    }
   ],
   "source": [
    "setup = s\n",
    "model_params = copy.copy(p_dict)\n",
    "ind2name = setup.ind2name\n",
    "#ind_to_plot = setup.ind_to_plot\n",
    "pop_node = setup.pop_node\n",
    "\n",
    "M = setup.nnodes\n",
    "mobility = setup.mobility\n",
    "\n",
    "print(f'Building OCP with {M} nodes')\n",
    "\n",
    "c = setup.mobility\n",
    "\n",
    "scale_ell = obj_params['scale_ell']\n",
    "scale_If = obj_params['scale_If']\n",
    "scale_v = obj_params['scale_v']\n",
    "pnum = params_to_vector(model_params)\n",
    "\n",
    "pnum.append(scale_ell)\n",
    "pnum.append(scale_If)\n",
    "pnum.append(scale_v)\n",
    "\n",
    "# ---- decision variables ---------\n",
    "states = ['S', 'E', 'P', 'I', 'A', 'Q', 'H', 'R', 'V']\n",
    "states = cat.struct_symSX(states)\n",
    "[S, E, P, I, A, Q, H, R, V] = states[...]\n",
    "\n",
    "controls = cat.struct_symSX(['v', 'mob'])\n",
    "[v, mob] = controls[...]\n",
    "\n",
    "covar = cat.struct_symSX(['J'])\n",
    "[J] = covar[...]\n",
    "\n",
    "params = cat.struct_symSX(list(model_params.keys()) + ['scale_ell', 'scale_If', 'scale_v'])\n",
    "[deltaE, deltaP, sigma, eta, gammaI, gammaA, gammaQ, gammaH, alphaI, alphaH, zeta, gammaV,\n",
    " scale_ell, scale_If, scale_v] = params[...]\n",
    "\n",
    "pop_nodeSX = ca.SX.sym('pop_node')\n",
    "\n",
    "\n",
    "# The rhs is at time zero, the time is also no used in the equation so that exoplain\n",
    "rhs, rhs_ell = rhs_py(0, states.cat, controls.cat, covar.cat, params.cat, mob, pop_nodeSX)\n",
    "rhs = ca.veccat(*rhs)\n",
    "\n",
    "\n",
    "rhs_ell = ca.veccat(*rhs_ell)  # mod"
   ]
  },
  {
   "cell_type": "code",
   "execution_count": 4,
   "metadata": {
    "execution": {
     "iopub.execute_input": "2020-08-20T06:56:48.327751Z",
     "iopub.status.busy": "2020-08-20T06:56:48.327482Z",
     "iopub.status.idle": "2020-08-20T06:56:48.335913Z",
     "shell.execute_reply": "2020-08-20T06:56:48.335322Z",
     "shell.execute_reply.started": "2020-08-20T06:56:48.327639Z"
    }
   },
   "outputs": [],
   "source": [
    "frhs = ca.Function('frhs', [states, controls, covar, params, pop_nodeSX],\n",
    "                           [rhs, scale_ell * rhs_ell[1] + scale_v * v * v])# mod\n",
    "\n",
    "dt = T / N / n_int_steps  # length of an integration interval\n",
    "# ---- dynamic constraints --------\n",
    "k1, k1ell = frhs(states, controls, covar, params, pop_nodeSX)\n",
    "k2, k2ell = frhs(states + dt / 2 * k1, controls, covar, params, pop_nodeSX)\n",
    "k3, k3ell = frhs(states + dt / 2 * k2, controls, covar, params, pop_nodeSX)\n",
    "k4, k4ell = frhs(states + dt * k3, controls, covar, params, pop_nodeSX)\n",
    "x_next = states + dt / 6 * (k1 + 2 * k2 + 2 * k3 + k4)\n",
    "ell_next = dt / 6 * (\n",
    "        k1ell + 2 * k2ell + 2 * k3ell + k4ell)  # No need for because we sum it week by week few lines below.\n",
    "\n",
    "rk4_step = ca.Function('rk4_step', [states, controls, covar, params, pop_nodeSX], [x_next, ell_next])"
   ]
  },
  {
   "cell_type": "code",
   "execution_count": 5,
   "metadata": {
    "execution": {
     "iopub.execute_input": "2020-08-20T06:56:48.337142Z",
     "iopub.status.busy": "2020-08-20T06:56:48.336952Z",
     "iopub.status.idle": "2020-08-20T06:56:48.343753Z",
     "shell.execute_reply": "2020-08-20T06:56:48.343213Z",
     "shell.execute_reply.started": "2020-08-20T06:56:48.337110Z"
    }
   },
   "outputs": [],
   "source": [
    "x_ = ca.veccat(*states[...])\n",
    "ell = 0.\n",
    "# x_eul = x_ + dt*k1\n",
    "for k in range(n_int_steps):\n",
    "    x_, ell_ = rk4_step(x_, controls, covar, params, pop_nodeSX)\n",
    "    ell += ell_\n",
    "\n",
    "rk4_int = ca.Function('rk4_int', [states, ca.veccat(controls, covar, params, pop_nodeSX)], [x_, ell],\n",
    "                      ['x0', 'p'], ['xf', 'qf'])\n",
    "\n",
    "# BUG TODO Isn't this a double multiplication by the scale parameter since ell is already multiplied ?\n",
    "ell = ca.Function('ell', [states, controls, covar, params, pop_nodeSX],\n",
    "                  [scale_ell * ell + scale_v * v * v, scale_ell * ell,\n",
    "                   scale_v * v * v])  # Very dependent on regularization factor"
   ]
  },
  {
   "cell_type": "code",
   "execution_count": 6,
   "metadata": {
    "execution": {
     "iopub.execute_input": "2020-08-20T06:56:48.344954Z",
     "iopub.status.busy": "2020-08-20T06:56:48.344771Z",
     "iopub.status.idle": "2020-08-20T06:56:53.336703Z",
     "shell.execute_reply": "2020-08-20T06:56:53.336169Z",
     "shell.execute_reply.started": "2020-08-20T06:56:48.344922Z"
    }
   },
   "outputs": [],
   "source": [
    "Vars = cat.struct_symMX([\n",
    "    (\n",
    "        cat.entry(\"x\", struct=states, repeat=[M, N + 1]),\n",
    "        cat.entry(\"u\", struct=controls, repeat=[M, N]),\n",
    "    ),\n",
    "])\n",
    "\n",
    "Params = cat.struct_symMX([\n",
    "    (\n",
    "        cat.entry(\"cov\", struct=covar, repeat=[M, N]),  # TODO BUG this make the rainfall weekly !\n",
    "        cat.entry(\"p\", struct=params),\n",
    "    ),\n",
    "])"
   ]
  },
  {
   "cell_type": "code",
   "execution_count": 7,
   "metadata": {
    "execution": {
     "iopub.execute_input": "2020-08-20T06:56:53.337868Z",
     "iopub.status.busy": "2020-08-20T06:56:53.337708Z",
     "iopub.status.idle": "2020-08-20T06:59:37.878832Z",
     "shell.execute_reply": "2020-08-20T06:59:37.878331Z",
     "shell.execute_reply.started": "2020-08-20T06:56:53.337841Z"
    }
   },
   "outputs": [
    {
     "name": "stdout",
     "output_type": "stream",
     "text": [
      "0:1266/16001:1266/16002:1266/16003:1266/16004:1266/16005:1266/16006:1266/16007:1266/16008:1266/16009:1266/160010:1266/160011:1266/160012:1266/160013:1266/160014:1266/160015:1266/160016:1266/160017:1266/160018:1266/160019:1266/160020:1266/160021:1266/160022:1266/160023:1266/160024:1266/160025:1266/160026:1266/160027:1266/160028:1266/160029:1266/160030:1266/160031:1266/160032:1266/160033:1266/160034:1266/160035:1266/160036:1276/160037:1290/160038:1297/160039:1299/160040:1300/160041:1303/160042:1304/160043:1308/160044:1312/160045:1315/160046:1317/160047:1320/160048:1324/160049:1327/160050:1330/160051:1338/160052:1338/160053:1338/160054:1338/160055:1338/160056:1338/160057:1338/160058:1338/160059:1338/160060:1338/160061:1338/160062:1338/160063:1338/160064:1338/160065:1338/160066:1338/160067:1338/160068:1338/160069:1338/160070:1338/160071:1338/160072:1338/160073:1338/160074:1338/160075:1338/160076:1338/160077:1338/160078:1338/160079:1338/160080:1338/160081:1338/160082:1338/160083:1338/160084:1338/160085:1338/160086:1338/160087:1338/160088:1338/160089:1338/160090:1338/160091:1338/160092:1338/160093:1338/160094:1338/160095:1338/160096:1338/160097:1338/160098:1338/160099:1338/1600100:1338/1600101:1338/1600102:1338/1600103:1338/1600104:1338/1600105:1338/1600106:1338/1600107:1338/1600108:1338/1600109:1338/1600110:1338/1600111:1338/1600112:1338/1600113:1338/1600114:1338/1600115:1338/1600116:1338/1600117:1338/1600118:1338/1600119:1338/1600120:1338/1600121:1338/1600122:1338/1600123:1338/1600124:1338/1600125:1338/1600126:1338/1600127:1338/1600128:1338/1600129:1338/1600130:1338/1600131:1338/1600132:1338/1600133:1338/1600134:1338/1600135:1338/1600136:1338/1600137:1338/1600138:1338/1600139:1338/1600140:1338/1600141:1338/1600142:1338/1600143:1338/1600144:1338/1600145:1338/1600146:1338/1600147:1338/1600148:1338/1600149:1338/1600150:1338/1600151:1338/1600152:1338/1600153:1338/1600154:1338/1600155:1338/1600156:1338/1600157:1338/1600158:1338/1600159:1338/1600160:1338/1600161:1338/1600162:1338/1600"
     ]
    }
   ],
   "source": [
    "lbx = Vars(-np.inf)\n",
    "ubx = Vars(np.inf)\n",
    "\n",
    "f = 0\n",
    "vaccines = 0\n",
    "cases = 0\n",
    "reg = 0\n",
    "cdot_T = 0\n",
    "dyn = [None] * N\n",
    "spatial = [None] * N\n",
    "for k in range(N):\n",
    "    \n",
    "    mobK = mobintime.to_numpy().T[:,k]\n",
    "    betaR = betaratiointime.to_numpy().T[:,k]\n",
    "    C = r*mobfrac.flatten()*mobK*mobmat\n",
    "    np.fill_diagonal(C,1-C.sum(axis=1)+ C.diagonal())\n",
    "    \n",
    "    dyn[k] = []\n",
    "    spatial[k] = []\n",
    "    Sk, Ek, Pk, Rk, Ak, Ik = Vars['x', :, k, 'S'], Vars['x', :, k, 'E'], Vars['x', :, k, 'P'], \\\n",
    "                           Vars['x', :, k, 'R'], Vars['x', :, k, 'A'], Vars['x', :, k, 'I']\n",
    "\n",
    "    eye = np.eye(C.shape[0])  # Dirty trick to convert MX list to MX arrays\n",
    "    if k == 0:\n",
    "        print(f'pruning {C[C<0.0001].size} mobility elements of {C.size}.')  \n",
    "    C[C<0.0001] = 0 # Prune elements\n",
    "        \n",
    "    mob_ik=C@((C.T@(betaP0*betaR*(eye@Pk+epsilonA*eye@Ak))+epsilonI*betaP0*betaR*eye@Ik)/ \\\n",
    "             (C.T@(eye@Sk+eye@Ek+eye@Pk+eye@Rk+eye@Ak)+eye@Ik))\n",
    "    print(f'{k}:', end='')\n",
    "    for i in range(M):\n",
    "        [X_, ell_ik] = rk4_int(Vars['x', i, k],\n",
    "                               ca.veccat(Vars['u', i, k], Params['cov', i, k], Params['p'], pop_node[i]))\n",
    "        dyn[k].append(Vars['x', i, k + 1] - X_)\n",
    "        ell_ik_, cases_ik, reg_ik = ell(Vars['x', i, k], Vars['u', i, k], Params['cov', i, k], Params['p'], pop_node[i])\n",
    "        f += ell_ik\n",
    "        cases += cases_ik\n",
    "        reg += reg_ik\n",
    "        \n",
    "        spatial[k].append(Vars['u', i, k, 'mob'] - mob_ik[i]) # spatial, vaccines and dyn are put in g(x), with constraints that spatial and dyn are equal to zero\n",
    "        # thus imposing the dynamics and coupling.\n",
    "        vaccines += Vars[ 'u', i, k, 'v'] * T / N  # Number of vaccine spent = num of vaccine rate * 7 (number of days)\n",
    "\n",
    "f /= T  # Average over interval for cost ^ but not terminal cost "
   ]
  },
  {
   "cell_type": "code",
   "execution_count": null,
   "metadata": {},
   "outputs": [],
   "source": []
  },
  {
   "cell_type": "code",
   "execution_count": null,
   "metadata": {
    "execution": {
     "iopub.execute_input": "2020-08-20T06:59:37.881032Z",
     "iopub.status.busy": "2020-08-20T06:59:37.880872Z"
    }
   },
   "outputs": [],
   "source": [
    "g = cat.struct_MX([\n",
    "    cat.entry(\"dyn\", expr=dyn),\n",
    "    cat.entry(\"spatial\", expr=spatial),\n",
    "    cat.entry(\"vaccines\", expr=vaccines),\n",
    "])\n",
    "\n",
    "costTerms = ca.Function('costTerms', [Vars, Params], [cases, reg])\n",
    "\n",
    "\n",
    "# This initialize\n",
    "lbg = g(0)\n",
    "ubg = g(0)\n",
    "\n",
    "\n",
    "ubg['vaccines'] = 100000. * M\n",
    "lbg['vaccines'] = -np.inf\n",
    "\n",
    "optimize = 0\n",
    "lbx['u', :, :, 'v'] = 0.\n",
    "ubx['u', :, :, 'v'] = 15000 * optimize  # = 0 if we don't want to optimize\n",
    "# ubx['u',:,:,'v'] = 0\n",
    "ubx['u', :, :1, 'v'] = 0.\n",
    "\n",
    "# Set initial conditions as constraints\n",
    "for cp, name in enumerate(states.keys()):\n",
    "    for i in range(M):\n",
    "        lbx['x', i, 0, name] = ubx['x', i, 0, name] = x0[i*nx+cp]\n",
    "\n",
    "# NLOP arguments:\n",
    "# 'x' : variable names to optimize: here states and control\n",
    "# 'p' : params that can be change after\n",
    "# 'f' is the objective function of 'x', that we ought to minize\n",
    "# 'g' is a function that goes lbg < g(x,p) < ubg. If you want equality constraint then ubg = lbg = the number yoiu want it to be.\n",
    "nlp = {'x': Vars, 'p': Params, 'f': f, 'g': g}\n",
    "nlpFun = ca.Function('nlpFun', [Vars, Params], [f, g])\n",
    "nlpJac = nlpFun.factory('nlpJac', ['i0', 'i1'], ['jac:o1:i0'])\n",
    "\n",
    "\n",
    "\n",
    "options = {}\n",
    "options['ipopt'] = {}\n",
    "options['ipopt'][\"linear_solver\"] = \"ma57\"\n",
    "# options['ipopt'][\"linear_solver\"] = \"ma86\"\n",
    "# options['ipopt'][\"linear_solver\"] = \"ma97\"\n",
    "# options['ipopt']['bound_frac'] = 1e-4\n",
    "# options['ipopt']['bound_push'] = 1e-4\n",
    "# options['ipopt']['slack_bound_frac'] = 1e-4\n",
    "# options['ipopt']['slack_bound_push'] = 1e-6\n",
    "# options['ipopt']['hessian_constant'] = 'yes'\n",
    "# options['ipopt'][\"tol\"] = 1e-8\n",
    "\n",
    "solver = ca.nlpsol('solver', \"ipopt\", nlp, options)\n",
    "\n",
    "# options = {}\n",
    "# options['ls_step_factor'] = 0.5\n",
    "# options['pr_tol'] = 1e-8\n",
    "# options['du_tol'] = 1e-8\n",
    "# options['qp_solver'] = 'nlpsol'\n",
    "# options['qp_solver_options']  = {'nlpsol':'ipopt','nlpsol_options':{'print_time':False,'ipopt.print_level':0,'ipopt.hessian_constant':'yes','ipopt.linear_solver':'ma97','ipopt.tol':1e-16}}\n",
    "# # options['regularization'] = 'regularize_reduced'\n",
    "# options['regularization'] = 'regularize_reduced_diag'\n",
    "# options['regularization_tol'] = 1e-10\n",
    "# options['linesearch'] = 'filter'\n",
    "# options[\"iteration_callback\"] = plotIterates\n",
    "# self.solver = SQPmethod(nlp,options)\n",
    "\n",
    "\n"
   ]
  },
  {
   "cell_type": "code",
   "execution_count": null,
   "metadata": {},
   "outputs": [],
   "source": [
    " "
   ]
  },
  {
   "cell_type": "code",
   "execution_count": null,
   "metadata": {},
   "outputs": [],
   "source": []
  },
  {
   "cell_type": "code",
   "execution_count": null,
   "metadata": {},
   "outputs": [],
   "source": [
    "integ_matlab = np.array(eng.eval('x'))\n",
    "\n",
    "init = Vars(0)\n",
    "for i, name in enumerate(states.keys()):\n",
    "    for k in range(N + 1):\n",
    "        # init['x',:,k,name] = sol0.y[i,k]\n",
    "        for nd in range(M):\n",
    "            init['x', nd, k, name] = integ_matlab.T[nd+107*i, k].T # p['x0']  # self.ic[name][i]\n",
    "\n",
    "init['u'] = 0.\n",
    "\n",
    "arg = {}\n",
    "arg['lbg'] = lbg\n",
    "arg['ubg'] = ubg\n",
    "\n",
    "arg['lbx'] = lbx\n",
    "arg['ubx'] = ubx\n",
    "arg['x0'] = init\n",
    "arg['p'] = Params()\n",
    "# for i in range(M):\n",
    "#    for k in range(N):\n",
    "#        arg['p']['cov',i,k] = rainfall_norm[i,k]**params(pnum)['r']\n",
    "# arg['p']['cov',i,k] = np.random.random()**params(pnum)['r']\n",
    "\n",
    "arg['p']['p'] = pnum"
   ]
  },
  {
   "cell_type": "code",
   "execution_count": null,
   "metadata": {},
   "outputs": [],
   "source": [
    "arg['p']['p']"
   ]
  },
  {
   "cell_type": "code",
   "execution_count": null,
   "metadata": {},
   "outputs": [],
   "source": []
  },
  {
   "cell_type": "code",
   "execution_count": null,
   "metadata": {},
   "outputs": [],
   "source": [
    "sol = solver(**arg)\n",
    "opt = Vars(sol['x'])"
   ]
  },
  {
   "cell_type": "code",
   "execution_count": null,
   "metadata": {},
   "outputs": [],
   "source": []
  },
  {
   "cell_type": "code",
   "execution_count": null,
   "metadata": {},
   "outputs": [],
   "source": []
  },
  {
   "cell_type": "code",
   "execution_count": null,
   "metadata": {},
   "outputs": [],
   "source": []
  },
  {
   "cell_type": "code",
   "execution_count": null,
   "metadata": {},
   "outputs": [],
   "source": [
    "import matplotlib.pyplot as plt\n",
    "fig, axes = plt.subplots(len(states_list)//3,3, figsize = (10,10))\n",
    "node = 1\n",
    "til = -1\n",
    "\n",
    "\n",
    "for i, st in enumerate(states_list):\n",
    "    axes.flat[i].plot(np.array(ca.veccat(*opt['x',node,:til,st])), \n",
    "                  linestyle=':', lw = 2, color='r')\n",
    "    if st != 'V':\n",
    "        axes.flat[i].plot(np.array(integ_matlab.T[node+107*i,:til].T), \n",
    "                  linestyle='-', lw = 2, color='k')\n",
    "\n",
    "    axes.flat[i].set_title(st);\n",
    "\n",
    "\n"
   ]
  },
  {
   "cell_type": "code",
   "execution_count": null,
   "metadata": {},
   "outputs": [],
   "source": [
    "import matplotlib.pyplot as plt\n",
    "fig, axes = plt.subplots(len(states_list)//3,3, figsize = (10,10))\n",
    "node = 1\n",
    "til = -1\n",
    "\n",
    "\n",
    "for i, st in enumerate(states_list):\n",
    "    for k in range(M):\n",
    "        axes.flat[i].plot(np.array(ca.veccat(*opt['x',k,:til,st])), \n",
    "                   lw = 2)\n",
    "        if st != 'V':\n",
    "            axes.flat[i].plot(np.array(integ_matlab.T[k+107*i,:til].T), \n",
    "                   lw = .5)\n",
    "        axes.flat[i].set_title(st);\n",
    "\n",
    "\n"
   ]
  },
  {
   "cell_type": "code",
   "execution_count": null,
   "metadata": {},
   "outputs": [],
   "source": []
  }
 ],
 "metadata": {
  "kernelspec": {
   "display_name": "Python 3",
   "language": "python",
   "name": "python3"
  },
  "language_info": {
   "codemirror_mode": {
    "name": "ipython",
    "version": 3
   },
   "file_extension": ".py",
   "mimetype": "text/x-python",
   "name": "python",
   "nbconvert_exporter": "python",
   "pygments_lexer": "ipython3",
   "version": "3.7.7"
  }
 },
 "nbformat": 4,
 "nbformat_minor": 4
}
