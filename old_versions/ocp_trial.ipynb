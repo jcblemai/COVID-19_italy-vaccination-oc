{
 "cells": [
  {
   "cell_type": "code",
   "execution_count": 1,
   "metadata": {
    "execution": {
     "iopub.execute_input": "2020-08-19T10:20:26.489301Z",
     "iopub.status.busy": "2020-08-19T10:20:26.489117Z",
     "iopub.status.idle": "2020-08-19T10:20:36.970532Z",
     "shell.execute_reply": "2020-08-19T10:20:36.969925Z",
     "shell.execute_reply.started": "2020-08-19T10:20:26.489270Z"
    }
   },
   "outputs": [
    {
     "name": "stdout",
     "output_type": "stream",
     "text": [
      "Loaded Italy Setup with 10 nodes.\n"
     ]
    }
   ],
   "source": [
    "import casadi as ca\n",
    "import casadi.tools as cat\n",
    "import numpy as np\n",
    "import matplotlib.pyplot as plt\n",
    "import pandas as pd\n",
    "import matplotlib as mpl\n",
    "import networkx as nx\n",
    "import sys, copy\n",
    "from scipy.integrate import solve_ivp\n",
    "import matlab.engine\n",
    "\n",
    "sys.path.append('.')\n",
    "sys.path.append('ocp-solving/')\n",
    "\n",
    "#from COVIDVaccinationOCP import COVIDVaccinationOCP, rk4_mob, rhs_py_total, rhs_py\n",
    "from ItalySetupProvinces import ItalySetupProvinces\n",
    "\n",
    "from utils import *\n",
    "\n",
    "eng = matlab.engine.start_matlab()\n",
    "eng.cd('geography-paper-master/', nargout=0)\n",
    "eng.run('single_build.m', nargout=0)\n",
    "\n",
    "model_size = 10\n",
    "\n",
    "s = ItalySetupProvinces(model_size)\n",
    "\n",
    "N = 163           # Number of control time interval\n",
    "T = 163#52 * 7       # N * 7\n",
    "n_int_steps = 1\n",
    "\n",
    "model_days = pd.date_range(s.start_date, s.end_date, freq='1D')\n",
    "freq = '1D'  # 'W-MON'\n",
    "model_step = pd.date_range(s.start_date, s.end_date, freq=freq)\n",
    "mobintime = s.mobility_ts.resample(freq).mean()\n",
    "\n",
    "N = len(model_step) - 1\n",
    "T = len(model_days)\n",
    "\n",
    "nx = 9\n",
    "\n",
    "pnames = 1\n",
    "\n",
    "states_list = ['S', 'E', 'P', 'I', 'A', 'Q', 'H', 'R', 'V']\n",
    "states = states_list\n",
    "\n",
    "S, E, P, I, A, Q, H, R, V = np.arange(nx)\n",
    "\n",
    "integ_matlab = np.array(eng.eval('x'))\n",
    "\n",
    "p_dict, mobfrac, mobmat, betaratiointime, x0= get_parameters_from_matlab(eng, s, model_size, model_days, freq)\n",
    "\n",
    "dt = T / N / n_int_steps\n",
    "\n",
    "obj_params = {\n",
    "    'scale_ell': 1e0,\n",
    "    'scale_If': 1e2,\n",
    "    'scale_v': 1e-6\n",
    "}\n",
    "betaP0 = p_dict['betaP0']\n",
    "epsilonA = p_dict['epsilonA']\n",
    "epsilonI = p_dict['epsilonI']\n",
    "r = p_dict['r']\n",
    "\n",
    "p_dict.pop('betaP0')\n",
    "p_dict.pop('r')\n",
    "p_dict.pop('epsilonA')\n",
    "p_dict.pop('epsilonI')\n",
    "C = mobmat"
   ]
  },
  {
   "cell_type": "code",
   "execution_count": 2,
   "metadata": {
    "execution": {
     "iopub.execute_input": "2020-08-19T10:20:36.972479Z",
     "iopub.status.busy": "2020-08-19T10:20:36.972271Z",
     "iopub.status.idle": "2020-08-19T10:20:36.977101Z",
     "shell.execute_reply": "2020-08-19T10:20:36.976557Z",
     "shell.execute_reply.started": "2020-08-19T10:20:36.972439Z"
    }
   },
   "outputs": [
    {
     "data": {
      "text/plain": [
       "{'deltaE': 0.2173913043478261,\n",
       " 'deltaP': 0.5,\n",
       " 'sigma': 0.25,\n",
       " 'eta': 0.25,\n",
       " 'gammaI': 0.07142857142857142,\n",
       " 'gammaA': 0.14285714285714285,\n",
       " 'gammaQ': 0.07142857142857142,\n",
       " 'gammaH': 0.07142857142857142,\n",
       " 'alphaI': 0.03333333333333333,\n",
       " 'alphaH': 0.03333333333333333,\n",
       " 'zeta': 0.44999999999999996,\n",
       " 'gammaV': 0.025}"
      ]
     },
     "execution_count": 2,
     "metadata": {},
     "output_type": "execute_result"
    }
   ],
   "source": [
    "p_dict"
   ]
  },
  {
   "cell_type": "code",
   "execution_count": null,
   "metadata": {},
   "outputs": [],
   "source": []
  },
  {
   "cell_type": "code",
   "execution_count": null,
   "metadata": {},
   "outputs": [],
   "source": []
  },
  {
   "cell_type": "code",
   "execution_count": 3,
   "metadata": {
    "execution": {
     "iopub.execute_input": "2020-08-19T10:20:36.978749Z",
     "iopub.status.busy": "2020-08-19T10:20:36.978566Z",
     "iopub.status.idle": "2020-08-19T10:20:36.989355Z",
     "shell.execute_reply": "2020-08-19T10:20:36.988754Z",
     "shell.execute_reply.started": "2020-08-19T10:20:36.978719Z"
    }
   },
   "outputs": [],
   "source": [
    "\n",
    "def rhs_py(t, x, u, cov, p, mob, pop_node):\n",
    "    S, E, P, I, A, Q, H, R, V = x[0], x[1], x[2], x[3], x[4], x[5], x[6], x[7], x[8]\n",
    "\n",
    "    deltaE, deltaP,sigma,eta,gammaI,gammaA,gammaQ,gammaH,alphaI,alphaH, zeta,  gammaV = \\\n",
    "    p[0], p[1], p[2], p[3], p[4], p[5], p[6], p[7], p[8], p[9], p[10], p[11]\n",
    "   \n",
    "    v = u[0]\n",
    "    foi = mob\n",
    "    rhs = [None] * nx\n",
    "    v = 0\n",
    "    vaccrate = v / (S + E + P + A + Q + H + R+1)  # NOT I NOT H ?\n",
    "    #num = S + E + P + A + Q + H + R\n",
    "    #vaccrate = v / (sqrt(num**2 + 1e3))   # is 1e7 too large\n",
    "    rhs[0] = -(foi + vaccrate) * S + gammaV * V  # S\n",
    "    rhs[1] = foi * S - deltaE * E;  # E\n",
    "    rhs[2] = deltaE * E - deltaP * P;  # P\n",
    "    rhs[3] = sigma * deltaP * P - (eta + gammaI + alphaI) * I;  # I\n",
    "    rhs[4] = (1 - sigma) * deltaP * P - gammaA * A;  # A\n",
    "    rhs[5] = zeta * eta * I - gammaQ * Q;  # Q\n",
    "    rhs[6] = (1 - zeta) * eta * I - (gammaH + alphaH) * H;  # H\n",
    "    rhs[7] = gammaI * I + gammaA * A + gammaH * H + gammaQ * Q;  # R\n",
    "    rhs[8] = vaccrate * S - gammaV * V  # V\n",
    "    rhs_ell = [None] * 3\n",
    "    rhs_ell[0] = gammaH * H;  # recovered from the hospital\n",
    "    rhs_ell[1] = alphaH * H;  # total death\n",
    "    rhs_ell[2] = (1 - zeta) * eta * I;  # cumulative hospitalized cases\n",
    "\n",
    "    return rhs, rhs_ell"
   ]
  },
  {
   "cell_type": "code",
   "execution_count": 4,
   "metadata": {
    "execution": {
     "iopub.execute_input": "2020-08-19T10:20:36.990612Z",
     "iopub.status.busy": "2020-08-19T10:20:36.990431Z",
     "iopub.status.idle": "2020-08-19T10:20:37.006034Z",
     "shell.execute_reply": "2020-08-19T10:20:37.005473Z",
     "shell.execute_reply.started": "2020-08-19T10:20:36.990581Z"
    }
   },
   "outputs": [
    {
     "name": "stdout",
     "output_type": "stream",
     "text": [
      "Building OCP with 10 nodes\n"
     ]
    }
   ],
   "source": [
    "setup = s\n",
    "model_params = copy.copy(p_dict)\n",
    "ind2name = setup.ind2name\n",
    "#ind_to_plot = setup.ind_to_plot\n",
    "pop_node = setup.pop_node\n",
    "\n",
    "M = setup.nnodes\n",
    "mobility = setup.mobility\n",
    "\n",
    "print(f'Building OCP with {M} nodes')\n",
    "\n",
    "c = setup.mobility\n",
    "\n",
    "scale_ell = obj_params['scale_ell']\n",
    "scale_If = obj_params['scale_If']\n",
    "scale_v = obj_params['scale_v']\n",
    "pnum = params_to_vector(model_params)\n",
    "\n",
    "pnum.append(scale_ell)\n",
    "pnum.append(scale_If)\n",
    "pnum.append(scale_v)\n",
    "\n",
    "# ---- decision variables ---------\n",
    "states = ['S', 'E', 'P', 'I', 'A', 'Q', 'H', 'R', 'V']\n",
    "states = cat.struct_symSX(states)\n",
    "[S, E, P, I, A, Q, H, R, V] = states[...]\n",
    "\n",
    "controls = cat.struct_symSX(['v', 'mob'])\n",
    "[v, mob] = controls[...]\n",
    "\n",
    "covar = cat.struct_symSX(['J'])\n",
    "[J] = covar[...]\n",
    "\n",
    "params = cat.struct_symSX(list(model_params.keys()) + ['scale_ell', 'scale_If', 'scale_v'])\n",
    "[deltaE, deltaP, sigma, eta, gammaI, gammaA, gammaQ, gammaH, alphaI, alphaH, zeta, gammaV,\n",
    " scale_ell, scale_If, scale_v] = params[...]\n",
    "\n",
    "pop_nodeSX = ca.SX.sym('pop_node')\n",
    "\n",
    "\n",
    "# The rhs is at time zero, the time is also no used in the equation so that exoplain\n",
    "rhs, rhs_ell = rhs_py(0, states.cat, controls.cat, covar.cat, params.cat, mob, pop_nodeSX)\n",
    "rhs = ca.veccat(*rhs)\n",
    "\n",
    "\n",
    "rhs_ell = ca.veccat(*rhs_ell)  # mod"
   ]
  },
  {
   "cell_type": "code",
   "execution_count": null,
   "metadata": {},
   "outputs": [],
   "source": []
  },
  {
   "cell_type": "code",
   "execution_count": 5,
   "metadata": {
    "execution": {
     "iopub.execute_input": "2020-08-19T10:20:37.007148Z",
     "iopub.status.busy": "2020-08-19T10:20:37.006971Z",
     "iopub.status.idle": "2020-08-19T10:20:37.014969Z",
     "shell.execute_reply": "2020-08-19T10:20:37.014408Z",
     "shell.execute_reply.started": "2020-08-19T10:20:37.007119Z"
    }
   },
   "outputs": [],
   "source": [
    "frhs = ca.Function('frhs', [states, controls, covar, params, pop_nodeSX],\n",
    "                           [rhs, scale_ell * rhs_ell[1] + scale_v * v * v])# mod\n",
    "\n",
    "dt = T / N / n_int_steps  # length of an integration interval\n",
    "# ---- dynamic constraints --------\n",
    "k1, k1ell = frhs(states, controls, covar, params, pop_nodeSX)\n",
    "k2, k2ell = frhs(states + dt / 2 * k1, controls, covar, params, pop_nodeSX)\n",
    "k3, k3ell = frhs(states + dt / 2 * k2, controls, covar, params, pop_nodeSX)\n",
    "k4, k4ell = frhs(states + dt * k3, controls, covar, params, pop_nodeSX)\n",
    "x_next = states + dt / 6 * (k1 + 2 * k2 + 2 * k3 + k4)\n",
    "ell_next = dt / 6 * (\n",
    "        k1ell + 2 * k2ell + 2 * k3ell + k4ell)  # No need for because we sum it week by week few lines below.\n",
    "\n",
    "rk4_step = ca.Function('rk4_step', [states, controls, covar, params, pop_nodeSX], [x_next, ell_next])"
   ]
  },
  {
   "cell_type": "code",
   "execution_count": 6,
   "metadata": {
    "execution": {
     "iopub.execute_input": "2020-08-19T10:20:37.016121Z",
     "iopub.status.busy": "2020-08-19T10:20:37.015940Z",
     "iopub.status.idle": "2020-08-19T10:20:37.022680Z",
     "shell.execute_reply": "2020-08-19T10:20:37.022103Z",
     "shell.execute_reply.started": "2020-08-19T10:20:37.016091Z"
    }
   },
   "outputs": [],
   "source": [
    "x_ = ca.veccat(*states[...])\n",
    "ell = 0.\n",
    "# x_eul = x_ + dt*k1\n",
    "for k in range(n_int_steps):\n",
    "    x_, ell_ = rk4_step(x_, controls, covar, params, pop_nodeSX)\n",
    "    ell += ell_\n",
    "\n",
    "rk4_int = ca.Function('rk4_int', [states, ca.veccat(controls, covar, params, pop_nodeSX)], [x_, ell],\n",
    "                      ['x0', 'p'], ['xf', 'qf'])\n",
    "\n",
    "# BUG TODO Isn't this a double multiplication by the scale parameter since ell is already multiplied ?\n",
    "ell = ca.Function('ell', [states, controls, covar, params, pop_nodeSX],\n",
    "                  [scale_ell * ell + scale_v * v * v, scale_ell * ell,\n",
    "                   scale_v * v * v])  # Very dependent on regularization factor\n"
   ]
  },
  {
   "cell_type": "code",
   "execution_count": 7,
   "metadata": {
    "execution": {
     "iopub.execute_input": "2020-08-19T10:20:37.023934Z",
     "iopub.status.busy": "2020-08-19T10:20:37.023747Z",
     "iopub.status.idle": "2020-08-19T10:20:38.293106Z",
     "shell.execute_reply": "2020-08-19T10:20:38.292506Z",
     "shell.execute_reply.started": "2020-08-19T10:20:37.023903Z"
    }
   },
   "outputs": [],
   "source": [
    "Vars = cat.struct_symMX([\n",
    "    (\n",
    "        cat.entry(\"x\", struct=states, repeat=[M, N + 1]),\n",
    "        cat.entry(\"u\", struct=controls, repeat=[M, N]),\n",
    "    ),\n",
    "])\n",
    "\n",
    "Params = cat.struct_symMX([\n",
    "    (\n",
    "        cat.entry(\"cov\", struct=covar, repeat=[M, N]),  # TODO BUG this make the rainfall weekly !\n",
    "        cat.entry(\"p\", struct=params),\n",
    "    ),\n",
    "])\n"
   ]
  },
  {
   "cell_type": "code",
   "execution_count": 8,
   "metadata": {
    "execution": {
     "iopub.execute_input": "2020-08-19T10:20:38.296695Z",
     "iopub.status.busy": "2020-08-19T10:20:38.296535Z",
     "iopub.status.idle": "2020-08-19T10:20:38.300169Z",
     "shell.execute_reply": "2020-08-19T10:20:38.299193Z",
     "shell.execute_reply.started": "2020-08-19T10:20:38.296670Z"
    }
   },
   "outputs": [
    {
     "name": "stdout",
     "output_type": "stream",
     "text": [
      "MX.sym with following structure:\n",
      "Structure with total size 18020.\n",
      "Structure holding 2 entries.\n",
      "  Order: [('x', 'u')]\n",
      "  x = repeated([10, 164]): {S: 1x1,E: 1x1,P: 1x1,I: 1x1,A: 1x1,Q: 1x1,H: 1x1,R: 1x1,V: 1x1}\n",
      "  u = repeated([10, 163]): {v: 1x1,mob: 1x1}\n",
      "\n"
     ]
    }
   ],
   "source": [
    "print(Vars)"
   ]
  },
  {
   "cell_type": "code",
   "execution_count": 9,
   "metadata": {
    "execution": {
     "iopub.execute_input": "2020-08-19T10:20:38.302640Z",
     "iopub.status.busy": "2020-08-19T10:20:38.302327Z",
     "iopub.status.idle": "2020-08-19T10:20:38.306245Z",
     "shell.execute_reply": "2020-08-19T10:20:38.305822Z",
     "shell.execute_reply.started": "2020-08-19T10:20:38.302581Z"
    }
   },
   "outputs": [
    {
     "data": {
      "text/plain": [
       "164"
      ]
     },
     "execution_count": 9,
     "metadata": {},
     "output_type": "execute_result"
    }
   ],
   "source": [
    "N+1"
   ]
  },
  {
   "cell_type": "markdown",
   "metadata": {},
   "source": [
    "### Step below is too long when M > 10"
   ]
  },
  {
   "cell_type": "code",
   "execution_count": 10,
   "metadata": {
    "execution": {
     "iopub.execute_input": "2020-08-19T10:20:38.307359Z",
     "iopub.status.busy": "2020-08-19T10:20:38.307090Z",
     "iopub.status.idle": "2020-08-19T10:21:35.430904Z",
     "shell.execute_reply": "2020-08-19T10:21:35.430193Z",
     "shell.execute_reply.started": "2020-08-19T10:20:38.307311Z"
    }
   },
   "outputs": [
    {
     "name": "stdout",
     "output_type": "stream",
     "text": [
      "0:1:2:3:4:5:6:7:8:9:"
     ]
    }
   ],
   "source": [
    "lbx = Vars(-np.inf)\n",
    "ubx = Vars(np.inf)\n",
    "\n",
    "f = 0\n",
    "vaccines = 0\n",
    "cases = 0\n",
    "reg = 0\n",
    "cdot_T = 0\n",
    "dyn = [None] * M\n",
    "spatial = [None] * M\n",
    "for i in range(M):\n",
    "    print(f'{i}:', end='')\n",
    "    dyn[i] = []\n",
    "    spatial[i] = []\n",
    "    for k in range(N):\n",
    "        \n",
    "        mobK = mobintime.to_numpy().T[:,k]\n",
    "        betaR = betaratiointime.to_numpy().T[:,k]\n",
    "        C = r*mobfrac.flatten()*mobK*mobmat\n",
    "        np.fill_diagonal(C,1-C.sum(axis=1)+ C.diagonal())\n",
    "\n",
    "        [X_, ell_ik] = rk4_int(Vars['x', i, k],\n",
    "                               ca.veccat(Vars['u', i, k], Params['cov', i, k], Params['p'], pop_node[i]))\n",
    "        dyn[i].append(Vars['x', i, k + 1] - X_)\n",
    "        ell_ik_, cases_ik, reg_ik = ell(Vars['x', i, k], Vars['u', i, k], Params['cov', i, k], Params['p'],\n",
    "                                        pop_node[i])\n",
    "        f += ell_ik\n",
    "        cases += cases_ik\n",
    "        reg += reg_ik\n",
    "        \n",
    "        Sk, Ek, Pk, Rk, Ak, Ik = Vars['x', :, k, 'S'], Vars['x', :, k, 'E'], Vars['x', :, k, 'P'], \\\n",
    "                           Vars['x', :, k, 'R'], Vars['x', :, k, 'A'], Vars['x', :, k, 'I']\n",
    "        \n",
    "        mob_ik = sum(C[i, m] * (\n",
    "                    (sum(C[n, m] * (betaP0*betaR[n]*(Pk[n]+epsilonA*Ak[n])) for n in range(M)) + epsilonI*betaP0*betaR[m]*Ik[m]) /\n",
    "                    (sum(C[l, m]*(Sk[l]+Ek[l]+Pk[l]+Rk[l]+Ak[l]) for l in range(M)) + Ik[m]))\n",
    "                     for m in range(M))\n",
    "\n",
    "        \n",
    "        \n",
    "        spatial[i].append(Vars['u', i, k, 'mob'] - mob_ik) # spatial, vaccines and dyn are put in g(x), with constraints that spatial and dyn are equal to zero\n",
    "        # thus imposing the dynamics and coupling.\n",
    "        vaccines += Vars[ 'u', i, k, 'v'] * T / N  # Number of vaccine spent = num of vaccine rate * 7 (number of days)\n",
    "\n",
    "f /= T  # Average over interval for cost ^ but not terminal cost "
   ]
  },
  {
   "cell_type": "code",
   "execution_count": null,
   "metadata": {},
   "outputs": [],
   "source": []
  },
  {
   "cell_type": "code",
   "execution_count": null,
   "metadata": {
    "execution": {
     "iopub.status.busy": "2020-08-19T10:21:35.642950Z",
     "iopub.status.idle": "2020-08-19T10:21:35.643209Z"
    }
   },
   "outputs": [],
   "source": [
    "Ak == Ik"
   ]
  },
  {
   "cell_type": "code",
   "execution_count": null,
   "metadata": {
    "execution": {
     "iopub.status.busy": "2020-08-19T10:21:35.644158Z",
     "iopub.status.idle": "2020-08-19T10:21:35.644512Z"
    }
   },
   "outputs": [],
   "source": [
    "type(Sk)"
   ]
  },
  {
   "cell_type": "code",
   "execution_count": null,
   "metadata": {
    "execution": {
     "iopub.status.busy": "2020-08-19T10:21:35.645340Z",
     "iopub.status.idle": "2020-08-19T10:21:35.645590Z"
    }
   },
   "outputs": [],
   "source": [
    "ca.SX(Sk)\n"
   ]
  },
  {
   "cell_type": "code",
   "execution_count": null,
   "metadata": {
    "execution": {
     "iopub.status.busy": "2020-08-19T10:21:35.646633Z",
     "iopub.status.idle": "2020-08-19T10:21:35.646889Z"
    }
   },
   "outputs": [],
   "source": [
    "ca.MX(Sk)"
   ]
  },
  {
   "cell_type": "code",
   "execution_count": 12,
   "metadata": {
    "execution": {
     "iopub.execute_input": "2020-08-19T10:47:11.560349Z",
     "iopub.status.busy": "2020-08-19T10:47:11.560140Z",
     "iopub.status.idle": "2020-08-19T10:53:59.971107Z",
     "shell.execute_reply": "2020-08-19T10:53:59.970106Z",
     "shell.execute_reply.started": "2020-08-19T10:47:11.560320Z"
    }
   },
   "outputs": [],
   "source": [
    "g = cat.struct_MX([\n",
    "    cat.entry(\"dyn\", expr=dyn),\n",
    "    cat.entry(\"spatial\", expr=spatial),\n",
    "    cat.entry(\"vaccines\", expr=vaccines),\n",
    "])\n",
    "\n",
    "costTerms = ca.Function('costTerms', [Vars, Params], [cases, reg])\n",
    "\n",
    "\n",
    "# This initialize\n",
    "lbg = g(0)\n",
    "ubg = g(0)\n",
    "\n",
    "\n",
    "ubg['vaccines'] = 100000. * M\n",
    "lbg['vaccines'] = -np.inf\n",
    "\n",
    "optimize = 0\n",
    "lbx['u', :, :, 'v'] = 0.\n",
    "ubx['u', :, :, 'v'] = 15000 * optimize  # = 0 if we don't want to optimize\n",
    "# ubx['u',:,:,'v'] = 0\n",
    "ubx['u', :, :1, 'v'] = 0.\n",
    "\n",
    "# Set initial conditions as constraints\n",
    "for cp, name in enumerate(states.keys()):\n",
    "    for i in range(M):\n",
    "        lbx['x', i, 0, name] = ubx['x', i, 0, name] = x0[i*nx+cp]\n",
    "\n",
    "# NLOP arguments:\n",
    "# 'x' : variable names to optimize: here states and control\n",
    "# 'p' : params that can be change after\n",
    "# 'f' is the objective function of 'x', that we ought to minize\n",
    "# 'g' is a function that goes lbg < g(x,p) < ubg. If you want equality constraint then ubg = lbg = the number yoiu want it to be.\n",
    "nlp = {'x': Vars, 'p': Params, 'f': f, 'g': g}\n",
    "nlpFun = ca.Function('nlpFun', [Vars, Params], [f, g])\n",
    "nlpJac = nlpFun.factory('nlpJac', ['i0', 'i1'], ['jac:o1:i0'])\n",
    "\n",
    "\n",
    "\n",
    "options = {}\n",
    "options['ipopt'] = {}\n",
    "options['ipopt'][\"linear_solver\"] = \"ma57\"\n",
    "# options['ipopt'][\"linear_solver\"] = \"ma86\"\n",
    "# options['ipopt'][\"linear_solver\"] = \"ma97\"\n",
    "# options['ipopt']['bound_frac'] = 1e-4\n",
    "# options['ipopt']['bound_push'] = 1e-4\n",
    "# options['ipopt']['slack_bound_frac'] = 1e-4\n",
    "# options['ipopt']['slack_bound_push'] = 1e-6\n",
    "# options['ipopt']['hessian_constant'] = 'yes'\n",
    "# options['ipopt'][\"tol\"] = 1e-8\n",
    "\n",
    "solver = ca.nlpsol('solver', \"ipopt\", nlp, options)\n",
    "\n",
    "# options = {}\n",
    "# options['ls_step_factor'] = 0.5\n",
    "# options['pr_tol'] = 1e-8\n",
    "# options['du_tol'] = 1e-8\n",
    "# options['qp_solver'] = 'nlpsol'\n",
    "# options['qp_solver_options']  = {'nlpsol':'ipopt','nlpsol_options':{'print_time':False,'ipopt.print_level':0,'ipopt.hessian_constant':'yes','ipopt.linear_solver':'ma97','ipopt.tol':1e-16}}\n",
    "# # options['regularization'] = 'regularize_reduced'\n",
    "# options['regularization'] = 'regularize_reduced_diag'\n",
    "# options['regularization_tol'] = 1e-10\n",
    "# options['linesearch'] = 'filter'\n",
    "# options[\"iteration_callback\"] = plotIterates\n",
    "# self.solver = SQPmethod(nlp,options)\n",
    "\n",
    "\n"
   ]
  },
  {
   "cell_type": "code",
   "execution_count": null,
   "metadata": {
    "execution": {
     "iopub.status.busy": "2020-08-19T10:21:35.649023Z",
     "iopub.status.idle": "2020-08-19T10:21:35.649286Z"
    }
   },
   "outputs": [],
   "source": [
    "states.keys()"
   ]
  },
  {
   "cell_type": "code",
   "execution_count": null,
   "metadata": {},
   "outputs": [],
   "source": []
  },
  {
   "cell_type": "code",
   "execution_count": 13,
   "metadata": {
    "execution": {
     "iopub.execute_input": "2020-08-19T10:53:59.972930Z",
     "iopub.status.busy": "2020-08-19T10:53:59.972698Z",
     "iopub.status.idle": "2020-08-19T10:54:01.370855Z",
     "shell.execute_reply": "2020-08-19T10:54:01.370346Z",
     "shell.execute_reply.started": "2020-08-19T10:53:59.972891Z"
    }
   },
   "outputs": [],
   "source": [
    "integ_matlab = np.array(eng.eval('x'))\n",
    "\n",
    "init = Vars(0)\n",
    "for i, name in enumerate(states.keys()):\n",
    "    for k in range(N + 1):\n",
    "        # init['x',:,k,name] = sol0.y[i,k]\n",
    "        for nd in range(M):\n",
    "            init['x', nd, k, name] = integ_matlab.T[nd+107*i, k].T # p['x0']  # self.ic[name][i]\n",
    "\n",
    "init['u'] = 0.\n",
    "\n",
    "arg = {}\n",
    "arg['lbg'] = lbg\n",
    "arg['ubg'] = ubg\n",
    "\n",
    "arg['lbx'] = lbx\n",
    "arg['ubx'] = ubx\n",
    "arg['x0'] = init\n",
    "arg['p'] = Params()\n",
    "# for i in range(M):\n",
    "#    for k in range(N):\n",
    "#        arg['p']['cov',i,k] = rainfall_norm[i,k]**params(pnum)['r']\n",
    "# arg['p']['cov',i,k] = np.random.random()**params(pnum)['r']\n",
    "\n",
    "arg['p']['p'] = pnum"
   ]
  },
  {
   "cell_type": "code",
   "execution_count": null,
   "metadata": {
    "execution": {
     "iopub.status.busy": "2020-08-19T10:21:35.651224Z",
     "iopub.status.idle": "2020-08-19T10:21:35.651497Z"
    }
   },
   "outputs": [],
   "source": [
    "arg['p']['p']"
   ]
  },
  {
   "cell_type": "code",
   "execution_count": null,
   "metadata": {},
   "outputs": [],
   "source": []
  },
  {
   "cell_type": "code",
   "execution_count": 14,
   "metadata": {
    "execution": {
     "iopub.execute_input": "2020-08-19T10:54:01.373082Z",
     "iopub.status.busy": "2020-08-19T10:54:01.372922Z",
     "iopub.status.idle": "2020-08-19T10:55:22.009003Z",
     "shell.execute_reply": "2020-08-19T10:55:22.007005Z",
     "shell.execute_reply.started": "2020-08-19T10:54:01.373057Z"
    }
   },
   "outputs": [
    {
     "name": "stdout",
     "output_type": "stream",
     "text": [
      "\n",
      "******************************************************************************\n",
      "This program contains Ipopt, a library for large-scale nonlinear optimization.\n",
      " Ipopt is released as open source code under the Eclipse Public License (EPL).\n",
      "         For more information visit http://projects.coin-or.org/Ipopt\n",
      "******************************************************************************\n",
      "\n",
      "This is Ipopt version 3.12.3, running with linear solver ma57.\n",
      "\n",
      "Number of nonzeros in equality constraint Jacobian...:   187290\n",
      "Number of nonzeros in inequality constraint Jacobian.:        0\n",
      "Number of nonzeros in Lagrangian Hessian.............:   289990\n",
      "\n",
      "Total number of variables............................:    16300\n",
      "                     variables with only lower bounds:        0\n",
      "                variables with lower and upper bounds:        0\n",
      "                     variables with only upper bounds:        0\n",
      "Total number of equality constraints.................:    16300\n",
      "Total number of inequality constraints...............:        1\n",
      "        inequality constraints with only lower bounds:        0\n",
      "   inequality constraints with lower and upper bounds:        0\n",
      "        inequality constraints with only upper bounds:        1\n",
      "\n",
      "iter    objective    inf_pr   inf_du lg(mu)  ||d||  lg(rg) alpha_du alpha_pr  ls\n",
      "   0  5.0035695e+01 1.66e+03 1.00e+00  -1.0 0.00e+00    -  0.00e+00 0.00e+00   0\n",
      "Reallocating memory for MA57: lfact (14588115)\n",
      "   1  4.9745480e+01 9.47e-01 1.02e+01  -1.0 7.24e+03  -4.0 9.90e-01 1.00e+00h  1\n",
      "   2  4.9755925e+01 1.50e-01 5.95e-01  -1.0 7.15e+01  -4.5 9.90e-01 1.00e+00h  1\n",
      "   3  4.9765214e+01 2.95e-01 1.24e+00  -1.0 1.28e+02  -5.0 9.91e-01 1.00e+00h  1\n",
      "Reallocating memory for MA57: lfact (16564711)\n",
      "   4  1.9938423e+01 1.34e+01 1.41e+02  -1.7 6.98e+04    -  1.00e+00 1.00e+00f  1\n",
      "   5  1.7253157e+01 2.98e-01 1.29e+00  -1.7 7.36e+03    -  1.00e+00 1.00e+00f  1\n",
      "   6  1.7241032e+01 7.07e-05 6.78e-04  -3.8 3.74e+01    -  1.00e+00 1.00e+00h  1\n",
      "   7  1.7241031e+01 4.66e-10 7.45e-09  -5.7 2.88e-03    -  1.00e+00 1.00e+00h  1\n",
      "Cannot recompute multipliers for feasibility problem.  Error in eq_mult_calculator\n",
      "\n",
      "Number of Iterations....: 7\n",
      "\n",
      "                                   (scaled)                 (unscaled)\n",
      "Objective...............:   1.7241031241160449e+01    1.7241031241160449e+01\n",
      "Dual infeasibility......:   7.4505805969238281e-09    7.4505805969238281e-09\n",
      "Constraint violation....:   7.7361728134661689e-12    4.6566128730773926e-10\n",
      "Complementarity.........:   0.0000000000000000e+00    0.0000000000000000e+00\n",
      "Overall NLP error.......:   7.7361728134661689e-12    7.4505805969238281e-09\n",
      "\n",
      "\n",
      "Number of objective function evaluations             = 8\n",
      "Number of objective gradient evaluations             = 8\n",
      "Number of equality constraint evaluations            = 8\n",
      "Number of inequality constraint evaluations          = 8\n",
      "Number of equality constraint Jacobian evaluations   = 8\n",
      "Number of inequality constraint Jacobian evaluations = 8\n",
      "Number of Lagrangian Hessian evaluations             = 7\n",
      "Total CPU secs in IPOPT (w/o function evaluations)   =     22.697\n",
      "Total CPU secs in NLP function evaluations           =     60.798\n",
      "\n",
      "EXIT: Optimal Solution Found.\n",
      "      solver  :   t_proc      (avg)   t_wall      (avg)    n_eval\n",
      "       nlp_f  |  17.62ms (  2.20ms)  17.67ms (  2.21ms)         8\n",
      "       nlp_g  | 479.14ms ( 59.89ms) 478.14ms ( 59.77ms)         8\n",
      "    nlp_grad  | 173.38ms (173.38ms) 173.32ms (173.32ms)         1\n",
      "  nlp_grad_f  |  58.08ms (  6.45ms)  57.91ms (  6.43ms)         9\n",
      "  nlp_hess_l  |  59.16 s (  8.45 s)  58.98 s (  8.43 s)         7\n",
      "   nlp_jac_g  |   1.51 s (167.29ms)   1.50 s (167.04ms)         9\n",
      "       total  |  86.51 s ( 86.51 s)  80.62 s ( 80.62 s)         1\n"
     ]
    }
   ],
   "source": [
    "sol = solver(**arg)\n",
    "opt = Vars(sol['x'])"
   ]
  },
  {
   "cell_type": "code",
   "execution_count": null,
   "metadata": {},
   "outputs": [],
   "source": []
  },
  {
   "cell_type": "code",
   "execution_count": null,
   "metadata": {},
   "outputs": [],
   "source": []
  },
  {
   "cell_type": "code",
   "execution_count": null,
   "metadata": {},
   "outputs": [],
   "source": []
  },
  {
   "cell_type": "code",
   "execution_count": 15,
   "metadata": {
    "execution": {
     "iopub.execute_input": "2020-08-19T10:55:22.011742Z",
     "iopub.status.busy": "2020-08-19T10:55:22.011516Z",
     "iopub.status.idle": "2020-08-19T10:55:23.100576Z",
     "shell.execute_reply": "2020-08-19T10:55:23.099374Z",
     "shell.execute_reply.started": "2020-08-19T10:55:22.011703Z"
    }
   },
   "outputs": [
    {
     "data": {
      "image/png": "[encoded data removed]",
      "text/plain": [
       "<Figure size 720x720 with 9 Axes>"
      ]
     },
     "metadata": {
      "needs_background": "light"
     },
     "output_type": "display_data"
    }
   ],
   "source": [
    "import matplotlib.pyplot as plt\n",
    "fig, axes = plt.subplots(len(states_list)//3,3, figsize = (10,10))\n",
    "node = 1\n",
    "til = -1\n",
    "\n",
    "\n",
    "for i, st in enumerate(states_list):\n",
    "    axes.flat[i].plot(np.array(ca.veccat(*opt['x',node,:til,st])), \n",
    "                  linestyle=':', lw = 2, color='r')\n",
    "    if st != 'V':\n",
    "        axes.flat[i].plot(np.array(integ_matlab.T[node+107*i,:til].T), \n",
    "                  linestyle='-', lw = 2, color='k')\n",
    "\n",
    "    axes.flat[i].set_title(st);\n",
    "\n",
    "\n"
   ]
  },
  {
   "cell_type": "code",
   "execution_count": null,
   "metadata": {
    "execution": {
     "iopub.status.busy": "2020-08-19T10:21:35.654607Z",
     "iopub.status.idle": "2020-08-19T10:21:35.654864Z"
    }
   },
   "outputs": [],
   "source": [
    "import matplotlib.pyplot as plt\n",
    "fig, axes = plt.subplots(len(states_list)//3,3, figsize = (10,10))\n",
    "node = 1\n",
    "til = -1\n",
    "\n",
    "\n",
    "for i, st in enumerate(states_list):\n",
    "    for k in range(M):\n",
    "        axes.flat[i].plot(np.array(ca.veccat(*opt['x',k,:til,st])), \n",
    "                   lw = 2)\n",
    "        if st != 'V':\n",
    "            axes.flat[i].plot(np.array(integ_matlab.T[k+107*i,:til].T), \n",
    "                   lw = .5)\n",
    "        axes.flat[i].set_title(st);\n",
    "\n",
    "\n"
   ]
  },
  {
   "cell_type": "code",
   "execution_count": 26,
   "metadata": {
    "execution": {
     "iopub.execute_input": "2020-08-19T13:06:08.949112Z",
     "iopub.status.busy": "2020-08-19T13:06:08.948887Z",
     "iopub.status.idle": "2020-08-19T13:06:09.154863Z",
     "shell.execute_reply": "2020-08-19T13:06:09.154168Z",
     "shell.execute_reply.started": "2020-08-19T13:06:08.949078Z"
    }
   },
   "outputs": [
    {
     "data": {
      "text/plain": [
       "(array([90.,  0.,  0.,  0.,  0.,  0.,  0.,  0.,  0., 10.]),\n",
       " array([0.        , 0.09982216, 0.19964432, 0.29946648, 0.39928865,\n",
       "        0.49911081, 0.59893297, 0.69875513, 0.79857729, 0.89839945,\n",
       "        0.99822162]),\n",
       " <a list of 10 Patch objects>)"
      ]
     },
     "execution_count": 26,
     "metadata": {},
     "output_type": "execute_result"
    },
    {
     "data": {
      "image/png": "[encoded data removed]",
      "text/plain": [
       "<Figure size 432x288 with 1 Axes>"
      ]
     },
     "metadata": {
      "needs_background": "light"
     },
     "output_type": "display_data"
    }
   ],
   "source": [
    "plt.hist(C.flatten())"
   ]
  },
  {
   "cell_type": "code",
   "execution_count": 34,
   "metadata": {
    "execution": {
     "iopub.execute_input": "2020-08-19T13:07:45.644448Z",
     "iopub.status.busy": "2020-08-19T13:07:45.644199Z",
     "iopub.status.idle": "2020-08-19T13:07:45.929807Z",
     "shell.execute_reply": "2020-08-19T13:07:45.929128Z",
     "shell.execute_reply.started": "2020-08-19T13:07:45.644410Z"
    }
   },
   "outputs": [
    {
     "data": {
      "image/png": "[encoded data removed]",
      "text/plain": [
       "<Figure size 432x288 with 1 Axes>"
      ]
     },
     "metadata": {
      "needs_background": "light"
     },
     "output_type": "display_data"
    }
   ],
   "source": [
    "plt.hist(C[C<.4], bins=50);"
   ]
  },
  {
   "cell_type": "code",
   "execution_count": 41,
   "metadata": {
    "execution": {
     "iopub.execute_input": "2020-08-20T06:48:07.923559Z",
     "iopub.status.busy": "2020-08-20T06:48:07.923349Z",
     "iopub.status.idle": "2020-08-20T06:48:08.085316Z",
     "shell.execute_reply": "2020-08-20T06:48:08.084700Z",
     "shell.execute_reply.started": "2020-08-20T06:48:07.923528Z"
    }
   },
   "outputs": [
    {
     "data": {
      "image/png": "[encoded data removed]",
      "text/plain": [
       "<Figure size 432x288 with 1 Axes>"
      ]
     },
     "metadata": {
      "needs_background": "light"
     },
     "output_type": "display_data"
    }
   ],
   "source": [
    "plt.hist(C[C<0.001], bins=5);"
   ]
  },
  {
   "cell_type": "code",
   "execution_count": 45,
   "metadata": {
    "execution": {
     "iopub.execute_input": "2020-08-20T06:48:44.558449Z",
     "iopub.status.busy": "2020-08-20T06:48:44.558242Z",
     "iopub.status.idle": "2020-08-20T06:48:44.561972Z",
     "shell.execute_reply": "2020-08-20T06:48:44.561401Z",
     "shell.execute_reply.started": "2020-08-20T06:48:44.558418Z"
    }
   },
   "outputs": [
    {
     "data": {
      "text/plain": [
       "(75,)"
      ]
     },
     "execution_count": 45,
     "metadata": {},
     "output_type": "execute_result"
    }
   ],
   "source": [
    "C[C<0.001].shape"
   ]
  }
 ],
 "metadata": {
  "kernelspec": {
   "display_name": "Python 3",
   "language": "python",
   "name": "python3"
  },
  "language_info": {
   "codemirror_mode": {
    "name": "ipython",
    "version": 3
   },
   "file_extension": ".py",
   "mimetype": "text/x-python",
   "name": "python",
   "nbconvert_exporter": "python",
   "pygments_lexer": "ipython3",
   "version": "3.8.5"
  }
 },
 "nbformat": 4,
 "nbformat_minor": 4
}
