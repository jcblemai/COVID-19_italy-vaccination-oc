{
 "cells": [
  {
   "cell_type": "markdown",
   "metadata": {
    "execution": {
     "iopub.execute_input": "2020-12-22T17:15:12.988706Z",
     "iopub.status.busy": "2020-12-22T17:15:12.988298Z",
     "iopub.status.idle": "2020-12-22T17:15:13.230048Z",
     "shell.execute_reply": "2020-12-22T17:15:13.228271Z",
     "shell.execute_reply.started": "2020-12-22T17:15:12.988665Z"
    }
   },
   "source": [
    "ens_exposed[0]# Comparison of scenarios\n",
    "\n",
    "1. re"
   ]
  },
  {
   "cell_type": "code",
   "execution_count": 1,
   "metadata": {
    "execution": {
     "iopub.execute_input": "2021-01-27T20:15:49.635416Z",
     "iopub.status.busy": "2021-01-27T20:15:49.635091Z",
     "iopub.status.idle": "2021-01-27T20:15:51.520370Z",
     "shell.execute_reply": "2021-01-27T20:15:51.519885Z",
     "shell.execute_reply.started": "2021-01-27T20:15:49.635322Z"
    }
   },
   "outputs": [
    {
     "name": "stdout",
     "output_type": "stream",
     "text": [
      "Loaded Italy Setup with 107 nodes.\n",
      "Loaded Italy Setup with 107 nodes.\n"
     ]
    },
    {
     "data": {
      "text/plain": [
       "dict_keys(['U-r1-t125000-id0', 'L-r1-t125000-id1', 'U-r2-t125000-id2', 'L-r2-t125000-id3', 'U-r15-t125000-id4', 'L-r15-t125000-id5', 'U-r1-t250000-id6', 'L-r1-t250000-id7', 'U-r2-t250000-id8', 'L-r2-t250000-id9', 'U-r15-t250000-id10', 'L-r15-t250000-id11', 'U-r1-t479700-id12', 'L-r1-t479700-id13', 'U-r2-t479700-id14', 'L-r2-t479700-id15', 'U-r15-t479700-id16', 'L-r15-t479700-id17', 'U-r1-t1000000-id18', 'L-r1-t1000000-id19', 'U-r2-t1000000-id20', 'L-r2-t1000000-id21', 'U-r15-t1000000-id22', 'L-r15-t1000000-id23', 'U-r1-t2000000-id24', 'L-r1-t2000000-id25', 'U-r2-t2000000-id26', 'L-r2-t2000000-id27', 'U-r15-t2000000-id28', 'L-r15-t2000000-id29'])"
      ]
     },
     "execution_count": 1,
     "metadata": {},
     "output_type": "execute_result"
    }
   ],
   "source": [
    "import copy\n",
    "import matplotlib as mpl\n",
    "import matplotlib.pyplot as plt\n",
    "import numpy as np\n",
    "import pandas as pd\n",
    "import networkx\n",
    "from ItalySetup import ItalySetup\n",
    "from covidOCP import COVIDVaccinationOCP, COVIDParametersOCP\n",
    "from main import pick_scenario, build_scenario\n",
    "import seaborn as sns\n",
    "import datetime\n",
    "import pickle\n",
    "import os\n",
    "\n",
    "nx = 9\n",
    "states_names = ['S', 'E', 'P', 'I', 'A', 'Q', 'H', 'R', 'V']\n",
    "when = 'future'\n",
    "file_prefix = f'week'\n",
    "outdir = '2021-01-19-107_90/'\n",
    "\n",
    "n_int_steps = 6\n",
    "nnodes = 107  # nodes\n",
    "ndays_ocp = 90\n",
    "ndays = 180\n",
    "\n",
    "setup = ItalySetup(nnodes, ndays, when)\n",
    "setup_ocp = ItalySetup(nnodes, ndays_ocp, when)\n",
    "M = setup.nnodes\n",
    "N = len(setup.model_days) - 1\n",
    "\n",
    "with open(f'italy-data/parameters_{nnodes}_{when}.pkl', 'rb') as inp:\n",
    "    p = pickle.load(inp)\n",
    "    \n",
    "os.makedirs('model_output/scenarios', exist_ok=True)\n",
    "\n",
    "scenarios = {pick_scenario(setup, i)['name']:pick_scenario(setup, i) for i in np.arange(30)}\n",
    "scenarios.keys()"
   ]
  },
  {
   "cell_type": "code",
   "execution_count": 28,
   "metadata": {
    "execution": {
     "iopub.execute_input": "2021-01-26T11:34:19.997056Z",
     "iopub.status.busy": "2021-01-26T11:34:19.996823Z",
     "iopub.status.idle": "2021-01-26T11:34:20.001036Z",
     "shell.execute_reply": "2021-01-26T11:34:20.000370Z",
     "shell.execute_reply.started": "2021-01-26T11:34:19.997028Z"
    }
   },
   "outputs": [
    {
     "name": "stdout",
     "output_type": "stream",
     "text": [
      "5\n"
     ]
    }
   ],
   "source": [
    "# Choose a subset of scenarios:\n",
    "pick = 'L-r15'\n",
    "scenarios = {k:v for (k,v) in scenarios.items() if pick in k}\n",
    "print(len(scenarios))"
   ]
  },
  {
   "cell_type": "markdown",
   "metadata": {},
   "source": [
    "import multiprocessing as mp\n",
    "pool = mp.Pool(mp.cpu_count())\n",
    "\n",
    "\n",
    "\n",
    "beta_scenarios = ['U', 'L']   # thankfully 0 and 1 are U and L respecetively. But ugly\n",
    "\n",
    "all_sims = {}\n",
    "\n",
    "\n",
    "def runall(dr, scenario_mu):\n",
    "    p = COVIDParametersOCP.OCParameters(setup=setup, M=M, when=when, posterior_draw=dr+1)\n",
    "    p.apply_epicourse(setup, scenario_mu)\n",
    "    control_initial = np.zeros((M, N))\n",
    "    results, state_initial, yell, mob = COVIDVaccinationOCP.integrate(N,\n",
    "                                                                      setup=setup,\n",
    "                                                                      parameters=p,\n",
    "                                                                      controls=control_initial,\n",
    "                                                                      save_to=f'{outdir}{prefix}-int-{nnodes}_{ndays}-nc',\n",
    "                                                                      method='rk4',\n",
    "                                                                      n_rk4_steps=n_int_steps)\n",
    "    return results\n",
    "\n",
    "for i, beta_scn in enumerate(beta_scenarios):\n",
    "    all_sims[beta_scn]= []\n",
    "\n",
    "    scenario = pick_scenario(setup=setup, scn_id=i)\n",
    "    \n",
    "    all_sims[beta_scn] = pool.starmap(runall, [(dr, scenario['beta_mult']) for dr in range(3)])"
   ]
  },
  {
   "cell_type": "code",
   "execution_count": 30,
   "metadata": {
    "execution": {
     "iopub.execute_input": "2021-01-26T11:34:40.502662Z",
     "iopub.status.busy": "2021-01-26T11:34:40.502423Z",
     "iopub.status.idle": "2021-01-26T13:21:04.514848Z",
     "shell.execute_reply": "2021-01-26T13:21:04.513908Z",
     "shell.execute_reply.started": "2021-01-26T11:34:40.502634Z"
    },
    "scrolled": true
   },
   "outputs": [
    {
     "name": "stdout",
     "output_type": "stream",
     "text": [
      "YES 2021-01-19-107_90/week-U-r1-t125000-opt-107_90.csv\n"
     ]
    },
    {
     "name": "stderr",
     "output_type": "stream",
     "text": [
      "  1%|          | 2/179 [00:00<00:09, 19.64it/s]"
     ]
    },
    {
     "name": "stdout",
     "output_type": "stream",
     "text": [
      "===> Integrating for model_output/scenarios/U-r1-t125000-id0-opi-107_180\n"
     ]
    },
    {
     "name": "stderr",
     "output_type": "stream",
     "text": [
      "100%|██████████| 179/179 [00:08<00:00, 21.46it/s]\n",
      "  3%|▎         | 5/179 [00:00<00:08, 20.24it/s]"
     ]
    },
    {
     "name": "stdout",
     "output_type": "stream",
     "text": [
      "--> DONE U-r1-t125000-id0\n",
      "===> Integrating for model_output/scenarios/U-r1-t125000-id0-novacc-107_180\n"
     ]
    },
    {
     "name": "stderr",
     "output_type": "stream",
     "text": [
      "100%|██████████| 179/179 [00:08<00:00, 20.10it/s]\n"
     ]
    },
    {
     "name": "stdout",
     "output_type": "stream",
     "text": [
      "YES 2021-01-19-107_90/week-L-r1-t125000-opt-107_90.csv\n"
     ]
    },
    {
     "name": "stderr",
     "output_type": "stream",
     "text": [
      "  2%|▏         | 3/179 [00:00<00:08, 21.65it/s]"
     ]
    },
    {
     "name": "stdout",
     "output_type": "stream",
     "text": [
      "===> Integrating for model_output/scenarios/L-r1-t125000-id1-opi-107_180\n"
     ]
    },
    {
     "name": "stderr",
     "output_type": "stream",
     "text": [
      "100%|██████████| 179/179 [00:08<00:00, 21.73it/s]\n",
      "  2%|▏         | 3/179 [00:00<00:08, 21.84it/s]"
     ]
    },
    {
     "name": "stdout",
     "output_type": "stream",
     "text": [
      "--> DONE L-r1-t125000-id1\n",
      "===> Integrating for model_output/scenarios/L-r1-t125000-id1-novacc-107_180\n"
     ]
    },
    {
     "name": "stderr",
     "output_type": "stream",
     "text": [
      "100%|██████████| 179/179 [00:08<00:00, 20.71it/s]\n"
     ]
    },
    {
     "name": "stdout",
     "output_type": "stream",
     "text": [
      "YES 2021-01-19-107_90/week-U-r2-t125000-opt-107_90.csv\n"
     ]
    },
    {
     "name": "stderr",
     "output_type": "stream",
     "text": [
      "  2%|▏         | 3/179 [00:00<00:08, 20.71it/s]"
     ]
    },
    {
     "name": "stdout",
     "output_type": "stream",
     "text": [
      "===> Integrating for model_output/scenarios/U-r2-t125000-id2-opi-107_180\n"
     ]
    },
    {
     "name": "stderr",
     "output_type": "stream",
     "text": [
      "100%|██████████| 179/179 [00:08<00:00, 20.86it/s]\n"
     ]
    },
    {
     "name": "stdout",
     "output_type": "stream",
     "text": [
      "--> DONE U-r2-t125000-id2\n",
      "YES 2021-01-19-107_90/week-L-r2-t125000-opt-107_90.csv\n"
     ]
    },
    {
     "name": "stderr",
     "output_type": "stream",
     "text": [
      "  1%|          | 2/179 [00:00<00:09, 18.88it/s]"
     ]
    },
    {
     "name": "stdout",
     "output_type": "stream",
     "text": [
      "===> Integrating for model_output/scenarios/L-r2-t125000-id3-opi-107_180\n"
     ]
    },
    {
     "name": "stderr",
     "output_type": "stream",
     "text": [
      "100%|██████████| 179/179 [00:08<00:00, 21.06it/s]\n"
     ]
    },
    {
     "name": "stdout",
     "output_type": "stream",
     "text": [
      "--> DONE L-r2-t125000-id3\n",
      "YES 2021-01-19-107_90/week-U-r15-t125000-opt-107_90.csv\n"
     ]
    },
    {
     "name": "stderr",
     "output_type": "stream",
     "text": [
      "  2%|▏         | 3/179 [00:00<00:08, 20.96it/s]"
     ]
    },
    {
     "name": "stdout",
     "output_type": "stream",
     "text": [
      "===> Integrating for model_output/scenarios/U-r15-t125000-id4-opi-107_180\n"
     ]
    },
    {
     "name": "stderr",
     "output_type": "stream",
     "text": [
      "100%|██████████| 179/179 [00:08<00:00, 21.10it/s]\n"
     ]
    },
    {
     "name": "stdout",
     "output_type": "stream",
     "text": [
      "--> DONE U-r15-t125000-id4\n",
      "YES 2021-01-19-107_90/week-L-r15-t125000-opt-107_90.csv\n"
     ]
    },
    {
     "name": "stderr",
     "output_type": "stream",
     "text": [
      "  2%|▏         | 3/179 [00:00<00:08, 21.23it/s]"
     ]
    },
    {
     "name": "stdout",
     "output_type": "stream",
     "text": [
      "===> Integrating for model_output/scenarios/L-r15-t125000-id5-opi-107_180\n"
     ]
    },
    {
     "name": "stderr",
     "output_type": "stream",
     "text": [
      "100%|██████████| 179/179 [00:08<00:00, 21.70it/s]\n"
     ]
    },
    {
     "name": "stdout",
     "output_type": "stream",
     "text": [
      "--> DONE L-r15-t125000-id5\n",
      "YES 2021-01-19-107_90/week-U-r1-t250000-opt-107_90.csv\n"
     ]
    },
    {
     "name": "stderr",
     "output_type": "stream",
     "text": [
      "  2%|▏         | 3/179 [00:00<00:08, 21.34it/s]"
     ]
    },
    {
     "name": "stdout",
     "output_type": "stream",
     "text": [
      "===> Integrating for model_output/scenarios/U-r1-t250000-id6-opi-107_180\n"
     ]
    },
    {
     "name": "stderr",
     "output_type": "stream",
     "text": [
      "100%|██████████| 179/179 [00:08<00:00, 22.25it/s]\n"
     ]
    },
    {
     "name": "stdout",
     "output_type": "stream",
     "text": [
      "--> DONE U-r1-t250000-id6\n",
      "YES 2021-01-19-107_90/week-L-r1-t250000-opt-107_90.csv\n"
     ]
    },
    {
     "name": "stderr",
     "output_type": "stream",
     "text": [
      "  2%|▏         | 3/179 [00:00<00:08, 21.77it/s]"
     ]
    },
    {
     "name": "stdout",
     "output_type": "stream",
     "text": [
      "===> Integrating for model_output/scenarios/L-r1-t250000-id7-opi-107_180\n"
     ]
    },
    {
     "name": "stderr",
     "output_type": "stream",
     "text": [
      "100%|██████████| 179/179 [00:08<00:00, 22.06it/s]\n"
     ]
    },
    {
     "name": "stdout",
     "output_type": "stream",
     "text": [
      "--> DONE L-r1-t250000-id7\n",
      "YES 2021-01-19-107_90/week-U-r2-t250000-opt-107_90.csv\n"
     ]
    },
    {
     "name": "stderr",
     "output_type": "stream",
     "text": [
      "  2%|▏         | 3/179 [00:00<00:08, 21.51it/s]"
     ]
    },
    {
     "name": "stdout",
     "output_type": "stream",
     "text": [
      "===> Integrating for model_output/scenarios/U-r2-t250000-id8-opi-107_180\n"
     ]
    },
    {
     "name": "stderr",
     "output_type": "stream",
     "text": [
      "100%|██████████| 179/179 [00:08<00:00, 21.89it/s]\n"
     ]
    },
    {
     "name": "stdout",
     "output_type": "stream",
     "text": [
      "--> DONE U-r2-t250000-id8\n",
      "YES 2021-01-19-107_90/week-L-r2-t250000-opt-107_90.csv\n"
     ]
    },
    {
     "name": "stderr",
     "output_type": "stream",
     "text": [
      "  2%|▏         | 3/179 [00:00<00:08, 21.12it/s]"
     ]
    },
    {
     "name": "stdout",
     "output_type": "stream",
     "text": [
      "===> Integrating for model_output/scenarios/L-r2-t250000-id9-opi-107_180\n"
     ]
    },
    {
     "name": "stderr",
     "output_type": "stream",
     "text": [
      "100%|██████████| 179/179 [00:08<00:00, 22.15it/s]\n"
     ]
    },
    {
     "name": "stdout",
     "output_type": "stream",
     "text": [
      "--> DONE L-r2-t250000-id9\n",
      "YES 2021-01-19-107_90/week-U-r15-t250000-opt-107_90.csv\n"
     ]
    },
    {
     "name": "stderr",
     "output_type": "stream",
     "text": [
      "  2%|▏         | 3/179 [00:00<00:08, 21.98it/s]"
     ]
    },
    {
     "name": "stdout",
     "output_type": "stream",
     "text": [
      "===> Integrating for model_output/scenarios/U-r15-t250000-id10-opi-107_180\n"
     ]
    },
    {
     "name": "stderr",
     "output_type": "stream",
     "text": [
      "100%|██████████| 179/179 [00:08<00:00, 22.30it/s]\n"
     ]
    },
    {
     "name": "stdout",
     "output_type": "stream",
     "text": [
      "--> DONE U-r15-t250000-id10\n",
      "YES 2021-01-19-107_90/week-L-r15-t250000-opt-107_90.csv\n"
     ]
    },
    {
     "name": "stderr",
     "output_type": "stream",
     "text": [
      "  2%|▏         | 3/179 [00:00<00:08, 21.80it/s]"
     ]
    },
    {
     "name": "stdout",
     "output_type": "stream",
     "text": [
      "===> Integrating for model_output/scenarios/L-r15-t250000-id11-opi-107_180\n"
     ]
    },
    {
     "name": "stderr",
     "output_type": "stream",
     "text": [
      "100%|██████████| 179/179 [00:08<00:00, 22.18it/s]\n"
     ]
    },
    {
     "name": "stdout",
     "output_type": "stream",
     "text": [
      "--> DONE L-r15-t250000-id11\n",
      "YES 2021-01-19-107_90/week-U-r1-t479700-opt-107_90.csv\n"
     ]
    },
    {
     "name": "stderr",
     "output_type": "stream",
     "text": [
      "  0%|          | 0/179 [00:00<?, ?it/s]"
     ]
    },
    {
     "name": "stdout",
     "output_type": "stream",
     "text": [
      "===> Integrating for model_output/scenarios/U-r1-t479700-id12-opi-107_180\n"
     ]
    },
    {
     "name": "stderr",
     "output_type": "stream",
     "text": [
      "100%|██████████| 179/179 [24:41<00:00,  8.28s/it]   \n"
     ]
    },
    {
     "name": "stdout",
     "output_type": "stream",
     "text": [
      "--> DONE U-r1-t479700-id12\n",
      "YES 2021-01-19-107_90/week-L-r1-t479700-opt-107_90.csv\n"
     ]
    },
    {
     "name": "stderr",
     "output_type": "stream",
     "text": [
      "  0%|          | 0/179 [00:00<?, ?it/s]"
     ]
    },
    {
     "name": "stdout",
     "output_type": "stream",
     "text": [
      "===> Integrating for model_output/scenarios/L-r1-t479700-id13-opi-107_180\n"
     ]
    },
    {
     "name": "stderr",
     "output_type": "stream",
     "text": [
      "100%|██████████| 179/179 [00:41<00:00,  4.28it/s]\n"
     ]
    },
    {
     "name": "stdout",
     "output_type": "stream",
     "text": [
      "--> DONE L-r1-t479700-id13\n",
      "YES 2021-01-19-107_90/week-U-r2-t479700-opt-107_90.csv\n"
     ]
    },
    {
     "name": "stderr",
     "output_type": "stream",
     "text": [
      "  1%|          | 2/179 [00:00<00:32,  5.43it/s]"
     ]
    },
    {
     "name": "stdout",
     "output_type": "stream",
     "text": [
      "===> Integrating for model_output/scenarios/U-r2-t479700-id14-opi-107_180\n"
     ]
    },
    {
     "name": "stderr",
     "output_type": "stream",
     "text": [
      "100%|██████████| 179/179 [00:33<00:00,  5.35it/s]\n"
     ]
    },
    {
     "name": "stdout",
     "output_type": "stream",
     "text": [
      "--> DONE U-r2-t479700-id14\n",
      "YES 2021-01-19-107_90/week-L-r2-t479700-opt-107_90.csv\n"
     ]
    },
    {
     "name": "stderr",
     "output_type": "stream",
     "text": [
      "  0%|          | 0/179 [00:00<?, ?it/s]"
     ]
    },
    {
     "name": "stdout",
     "output_type": "stream",
     "text": [
      "===> Integrating for model_output/scenarios/L-r2-t479700-id15-opi-107_180\n"
     ]
    },
    {
     "name": "stderr",
     "output_type": "stream",
     "text": [
      "100%|██████████| 179/179 [00:41<00:00,  4.28it/s]\n"
     ]
    },
    {
     "name": "stdout",
     "output_type": "stream",
     "text": [
      "--> DONE L-r2-t479700-id15\n",
      "YES 2021-01-19-107_90/week-U-r15-t479700-opt-107_90.csv\n"
     ]
    },
    {
     "name": "stderr",
     "output_type": "stream",
     "text": [
      "  2%|▏         | 3/179 [00:00<00:08, 20.65it/s]"
     ]
    },
    {
     "name": "stdout",
     "output_type": "stream",
     "text": [
      "===> Integrating for model_output/scenarios/U-r15-t479700-id16-opi-107_180\n"
     ]
    },
    {
     "name": "stderr",
     "output_type": "stream",
     "text": [
      "100%|██████████| 179/179 [00:08<00:00, 21.65it/s]\n"
     ]
    },
    {
     "name": "stdout",
     "output_type": "stream",
     "text": [
      "--> DONE U-r15-t479700-id16\n",
      "YES 2021-01-19-107_90/week-L-r15-t479700-opt-107_90.csv\n"
     ]
    },
    {
     "name": "stderr",
     "output_type": "stream",
     "text": [
      "  1%|          | 2/179 [00:00<00:09, 19.52it/s]"
     ]
    },
    {
     "name": "stdout",
     "output_type": "stream",
     "text": [
      "===> Integrating for model_output/scenarios/L-r15-t479700-id17-opi-107_180\n"
     ]
    },
    {
     "name": "stderr",
     "output_type": "stream",
     "text": [
      "100%|██████████| 179/179 [00:08<00:00, 20.90it/s]\n"
     ]
    },
    {
     "name": "stdout",
     "output_type": "stream",
     "text": [
      "--> DONE L-r15-t479700-id17\n",
      "YES 2021-01-19-107_90/week-U-r1-t1000000-opt-107_90.csv\n"
     ]
    },
    {
     "name": "stderr",
     "output_type": "stream",
     "text": [
      "  2%|▏         | 3/179 [00:00<00:08, 20.16it/s]"
     ]
    },
    {
     "name": "stdout",
     "output_type": "stream",
     "text": [
      "===> Integrating for model_output/scenarios/U-r1-t1000000-id18-opi-107_180\n"
     ]
    },
    {
     "name": "stderr",
     "output_type": "stream",
     "text": [
      "100%|██████████| 179/179 [00:08<00:00, 20.52it/s]\n"
     ]
    },
    {
     "name": "stdout",
     "output_type": "stream",
     "text": [
      "--> DONE U-r1-t1000000-id18\n",
      "YES 2021-01-19-107_90/week-L-r1-t1000000-opt-107_90.csv\n"
     ]
    },
    {
     "name": "stderr",
     "output_type": "stream",
     "text": [
      "  2%|▏         | 3/179 [00:00<00:08, 21.93it/s]"
     ]
    },
    {
     "name": "stdout",
     "output_type": "stream",
     "text": [
      "===> Integrating for model_output/scenarios/L-r1-t1000000-id19-opi-107_180\n"
     ]
    },
    {
     "name": "stderr",
     "output_type": "stream",
     "text": [
      "100%|██████████| 179/179 [00:08<00:00, 20.02it/s]\n"
     ]
    },
    {
     "name": "stdout",
     "output_type": "stream",
     "text": [
      "--> DONE L-r1-t1000000-id19\n",
      "YES 2021-01-19-107_90/week-U-r2-t1000000-opt-107_90.csv\n"
     ]
    },
    {
     "name": "stderr",
     "output_type": "stream",
     "text": [
      "  1%|          | 2/179 [00:00<00:09, 18.93it/s]"
     ]
    },
    {
     "name": "stdout",
     "output_type": "stream",
     "text": [
      "===> Integrating for model_output/scenarios/U-r2-t1000000-id20-opi-107_180\n"
     ]
    },
    {
     "name": "stderr",
     "output_type": "stream",
     "text": [
      "100%|██████████| 179/179 [00:09<00:00, 18.51it/s]\n"
     ]
    },
    {
     "name": "stdout",
     "output_type": "stream",
     "text": [
      "--> DONE U-r2-t1000000-id20\n",
      "YES 2021-01-19-107_90/week-L-r2-t1000000-opt-107_90.csv\n"
     ]
    },
    {
     "name": "stderr",
     "output_type": "stream",
     "text": [
      "  1%|          | 2/179 [00:00<00:09, 19.41it/s]"
     ]
    },
    {
     "name": "stdout",
     "output_type": "stream",
     "text": [
      "===> Integrating for model_output/scenarios/L-r2-t1000000-id21-opi-107_180\n"
     ]
    },
    {
     "name": "stderr",
     "output_type": "stream",
     "text": [
      "100%|██████████| 179/179 [00:09<00:00, 19.52it/s]\n"
     ]
    },
    {
     "name": "stdout",
     "output_type": "stream",
     "text": [
      "--> DONE L-r2-t1000000-id21\n",
      "YES 2021-01-19-107_90/week-U-r15-t1000000-opt-107_90.csv\n"
     ]
    },
    {
     "name": "stderr",
     "output_type": "stream",
     "text": [
      "  2%|▏         | 3/179 [00:00<00:08, 20.05it/s]"
     ]
    },
    {
     "name": "stdout",
     "output_type": "stream",
     "text": [
      "===> Integrating for model_output/scenarios/U-r15-t1000000-id22-opi-107_180\n"
     ]
    },
    {
     "name": "stderr",
     "output_type": "stream",
     "text": [
      "100%|██████████| 179/179 [00:08<00:00, 21.26it/s]\n"
     ]
    },
    {
     "name": "stdout",
     "output_type": "stream",
     "text": [
      "--> DONE U-r15-t1000000-id22\n",
      "YES 2021-01-19-107_90/week-L-r15-t1000000-opt-107_90.csv\n"
     ]
    },
    {
     "name": "stderr",
     "output_type": "stream",
     "text": [
      "  3%|▎         | 5/179 [00:00<00:08, 20.67it/s]"
     ]
    },
    {
     "name": "stdout",
     "output_type": "stream",
     "text": [
      "===> Integrating for model_output/scenarios/L-r15-t1000000-id23-opi-107_180\n"
     ]
    },
    {
     "name": "stderr",
     "output_type": "stream",
     "text": [
      "100%|██████████| 179/179 [00:09<00:00, 19.53it/s]\n"
     ]
    },
    {
     "name": "stdout",
     "output_type": "stream",
     "text": [
      "--> DONE L-r15-t1000000-id23\n",
      "YES 2021-01-19-107_90/week-U-r1-t2000000-opt-107_90.csv\n"
     ]
    },
    {
     "name": "stderr",
     "output_type": "stream",
     "text": [
      "  1%|          | 2/179 [00:00<00:09, 18.84it/s]"
     ]
    },
    {
     "name": "stdout",
     "output_type": "stream",
     "text": [
      "===> Integrating for model_output/scenarios/U-r1-t2000000-id24-opi-107_180\n"
     ]
    },
    {
     "name": "stderr",
     "output_type": "stream",
     "text": [
      "100%|██████████| 179/179 [00:10<00:00, 17.89it/s]\n"
     ]
    },
    {
     "name": "stdout",
     "output_type": "stream",
     "text": [
      "--> DONE U-r1-t2000000-id24\n",
      "YES 2021-01-19-107_90/week-L-r1-t2000000-opt-107_90.csv\n"
     ]
    },
    {
     "name": "stderr",
     "output_type": "stream",
     "text": [
      "  1%|          | 2/179 [00:00<00:09, 18.32it/s]"
     ]
    },
    {
     "name": "stdout",
     "output_type": "stream",
     "text": [
      "===> Integrating for model_output/scenarios/L-r1-t2000000-id25-opi-107_180\n"
     ]
    },
    {
     "name": "stderr",
     "output_type": "stream",
     "text": [
      "100%|██████████| 179/179 [00:10<00:00, 17.90it/s]\n"
     ]
    },
    {
     "name": "stdout",
     "output_type": "stream",
     "text": [
      "--> DONE L-r1-t2000000-id25\n",
      "YES 2021-01-19-107_90/week-U-r2-t2000000-opt-107_90.csv\n"
     ]
    },
    {
     "name": "stderr",
     "output_type": "stream",
     "text": [
      "  1%|          | 2/179 [00:00<00:10, 17.52it/s]"
     ]
    },
    {
     "name": "stdout",
     "output_type": "stream",
     "text": [
      "===> Integrating for model_output/scenarios/U-r2-t2000000-id26-opi-107_180\n"
     ]
    },
    {
     "name": "stderr",
     "output_type": "stream",
     "text": [
      "100%|██████████| 179/179 [00:10<00:00, 17.42it/s]\n"
     ]
    },
    {
     "name": "stdout",
     "output_type": "stream",
     "text": [
      "--> DONE U-r2-t2000000-id26\n",
      "YES 2021-01-19-107_90/week-L-r2-t2000000-opt-107_90.csv\n"
     ]
    },
    {
     "name": "stderr",
     "output_type": "stream",
     "text": [
      "  1%|          | 2/179 [00:00<00:11, 14.91it/s]"
     ]
    },
    {
     "name": "stdout",
     "output_type": "stream",
     "text": [
      "===> Integrating for model_output/scenarios/L-r2-t2000000-id27-opi-107_180\n"
     ]
    },
    {
     "name": "stderr",
     "output_type": "stream",
     "text": [
      "100%|██████████| 179/179 [00:12<00:00, 14.78it/s]\n"
     ]
    },
    {
     "name": "stdout",
     "output_type": "stream",
     "text": [
      "--> DONE L-r2-t2000000-id27\n",
      "YES 2021-01-19-107_90/week-U-r15-t2000000-opt-107_90.csv\n"
     ]
    },
    {
     "name": "stderr",
     "output_type": "stream",
     "text": [
      "  1%|          | 2/179 [00:00<00:10, 16.40it/s]"
     ]
    },
    {
     "name": "stdout",
     "output_type": "stream",
     "text": [
      "===> Integrating for model_output/scenarios/U-r15-t2000000-id28-opi-107_180\n"
     ]
    },
    {
     "name": "stderr",
     "output_type": "stream",
     "text": [
      "100%|██████████| 179/179 [00:11<00:00, 15.77it/s]\n"
     ]
    },
    {
     "name": "stdout",
     "output_type": "stream",
     "text": [
      "--> DONE U-r15-t2000000-id28\n",
      "YES 2021-01-19-107_90/week-L-r15-t2000000-opt-107_90.csv\n"
     ]
    },
    {
     "name": "stderr",
     "output_type": "stream",
     "text": [
      "  1%|          | 1/179 [00:00<00:19,  9.06it/s]"
     ]
    },
    {
     "name": "stdout",
     "output_type": "stream",
     "text": [
      "===> Integrating for model_output/scenarios/L-r15-t2000000-id29-opi-107_180\n"
     ]
    },
    {
     "name": "stderr",
     "output_type": "stream",
     "text": [
      "100%|██████████| 179/179 [00:15<00:00, 11.23it/s]\n"
     ]
    },
    {
     "name": "stdout",
     "output_type": "stream",
     "text": [
      "--> DONE L-r15-t2000000-id29\n"
     ]
    }
   ],
   "source": [
    "scenarios_opt = {}\n",
    "scenarios_baseline = {}\n",
    "## Re-integrate vacc\n",
    "for scenario_name, scenario in scenarios.items():\n",
    "    fname = f\"{outdir}{file_prefix}-{'-'.join(scenario_name.split('-')[:-1])}-opt-{nnodes}_{ndays_ocp}.csv\"\n",
    "    try:\n",
    "        md = pd.read_csv(fname, index_col= 'date', parse_dates=True)\n",
    "        print(f'YES {fname}')\n",
    "    \n",
    "        # Build scenario\n",
    "        maxvaccrate_regional, delivery_national, stockpile_national_constraint, control_initial = build_scenario(setup, scenario)\n",
    "        M = setup.nnodes\n",
    "        N = setup.ndays - 1\n",
    "        control_initial = np.zeros((M, N))\n",
    "        unvac_nd = np.copy(setup.pop_node)\n",
    "        stockpile = 0\n",
    "        for k in range(ndays_ocp - 1):\n",
    "            stockpile += delivery_national[k]\n",
    "            for nodename in md.place.unique():\n",
    "                nd = setup.ind2name.index(nodename)\n",
    "                to_allocate = md[(md['place'] == nodename) & (md['comp'] == 'vacc')].iloc[k]['value']\n",
    "                to_allocate = min(to_allocate, maxvaccrate_regional[nd, k], unvac_nd[nd], stockpile)\n",
    "                control_initial[nd, k] = to_allocate\n",
    "                stockpile -= to_allocate\n",
    "                unvac_nd[nd] -= to_allocate\n",
    "        p.apply_epicourse(setup, scenario['beta_mult'])\n",
    "        # END Build scenario\n",
    "\n",
    "        results, state_initial, yell, mob = COVIDVaccinationOCP.integrate(N,\n",
    "                                                                          setup=setup,\n",
    "                                                                          parameters=p,\n",
    "                                                                          controls=control_initial,\n",
    "                                                                          save_to=f'model_output/scenarios/{scenario_name}-opi-{nnodes}_{ndays}',\n",
    "                                                                          n_rk4_steps=n_int_steps)\n",
    "        results.set_index('date', drop=True, inplace=True)\n",
    "        scenarios_opt[scenario_name] = scenario\n",
    "        print(f'--> DONE {scenario_name}')\n",
    "\n",
    "        if scenario_name.split('-')[0] not in scenarios_baseline:\n",
    "            control_initial = np.zeros((M, N))\n",
    "            # Generate NO vaccination scenarios\n",
    "            results, state_initial, yell, mob = COVIDVaccinationOCP.integrate(N,\n",
    "                                                                      setup=setup,\n",
    "                                                                      parameters=p,\n",
    "                                                                      controls=control_initial,\n",
    "                                                                      save_to=f'model_output/scenarios/{scenario_name}-novacc-{nnodes}_{ndays}',\n",
    "                                                                      n_rk4_steps=n_int_steps)\n",
    "            scenarios_baseline[scenario_name.split('-')[0]] = pd.read_csv(f'model_output/scenarios/{scenario_name}-novacc-{nnodes}_{ndays}.csv', \n",
    "                                                                         index_col= 'date', parse_dates=True)\n",
    "\n",
    "\n",
    "    except FileNotFoundError:\n",
    "        print(f'NOT {fname}')"
   ]
  },
  {
   "cell_type": "code",
   "execution_count": null,
   "metadata": {},
   "outputs": [],
   "source": []
  },
  {
   "cell_type": "code",
   "execution_count": 31,
   "metadata": {
    "execution": {
     "iopub.execute_input": "2021-01-26T13:21:04.517847Z",
     "iopub.status.busy": "2021-01-26T13:21:04.517524Z",
     "iopub.status.idle": "2021-01-26T14:12:51.568226Z",
     "shell.execute_reply": "2021-01-26T14:12:51.567699Z",
     "shell.execute_reply.started": "2021-01-26T13:21:04.517784Z"
    },
    "scrolled": true
   },
   "outputs": [
    {
     "name": "stderr",
     "output_type": "stream",
     "text": [
      "  1%|          | 2/179 [00:00<00:13, 12.76it/s]"
     ]
    },
    {
     "name": "stdout",
     "output_type": "stream",
     "text": [
      "===> Integrating for model_output/scenarios/U-r1-t125000-id0-inc-107_180\n"
     ]
    },
    {
     "name": "stderr",
     "output_type": "stream",
     "text": [
      "100%|██████████| 179/179 [00:12<00:00, 13.93it/s]\n",
      "  2%|▏         | 4/179 [00:00<00:11, 15.02it/s]"
     ]
    },
    {
     "name": "stdout",
     "output_type": "stream",
     "text": [
      "===> Integrating for model_output/scenarios/L-r1-t125000-id1-inc-107_180\n"
     ]
    },
    {
     "name": "stderr",
     "output_type": "stream",
     "text": [
      "100%|██████████| 179/179 [00:11<00:00, 15.01it/s]\n",
      "  1%|          | 2/179 [00:00<00:12, 14.36it/s]"
     ]
    },
    {
     "name": "stdout",
     "output_type": "stream",
     "text": [
      "===> Integrating for model_output/scenarios/U-r2-t125000-id2-inc-107_180\n"
     ]
    },
    {
     "name": "stderr",
     "output_type": "stream",
     "text": [
      "100%|██████████| 179/179 [00:12<00:00, 13.97it/s]\n",
      "  1%|          | 2/179 [00:00<00:13, 12.99it/s]"
     ]
    },
    {
     "name": "stdout",
     "output_type": "stream",
     "text": [
      "===> Integrating for model_output/scenarios/L-r2-t125000-id3-inc-107_180\n"
     ]
    },
    {
     "name": "stderr",
     "output_type": "stream",
     "text": [
      "100%|██████████| 179/179 [00:13<00:00, 12.89it/s]\n",
      "  1%|          | 2/179 [00:00<00:13, 13.10it/s]"
     ]
    },
    {
     "name": "stdout",
     "output_type": "stream",
     "text": [
      "===> Integrating for model_output/scenarios/U-r15-t125000-id4-inc-107_180\n"
     ]
    },
    {
     "name": "stderr",
     "output_type": "stream",
     "text": [
      "100%|██████████| 179/179 [00:13<00:00, 13.67it/s]\n",
      "  1%|          | 2/179 [00:00<00:10, 16.69it/s]"
     ]
    },
    {
     "name": "stdout",
     "output_type": "stream",
     "text": [
      "===> Integrating for model_output/scenarios/L-r15-t125000-id5-inc-107_180\n"
     ]
    },
    {
     "name": "stderr",
     "output_type": "stream",
     "text": [
      "100%|██████████| 179/179 [00:10<00:00, 16.44it/s]\n",
      "  1%|          | 2/179 [00:00<00:11, 15.37it/s]"
     ]
    },
    {
     "name": "stdout",
     "output_type": "stream",
     "text": [
      "===> Integrating for model_output/scenarios/U-r1-t250000-id6-inc-107_180\n"
     ]
    },
    {
     "name": "stderr",
     "output_type": "stream",
     "text": [
      "100%|██████████| 179/179 [00:11<00:00, 15.58it/s]\n",
      "  1%|          | 2/179 [00:00<00:11, 15.54it/s]"
     ]
    },
    {
     "name": "stdout",
     "output_type": "stream",
     "text": [
      "===> Integrating for model_output/scenarios/L-r1-t250000-id7-inc-107_180\n"
     ]
    },
    {
     "name": "stderr",
     "output_type": "stream",
     "text": [
      "100%|██████████| 179/179 [00:12<00:00, 14.91it/s]\n",
      "  1%|          | 2/179 [00:00<00:12, 14.52it/s]"
     ]
    },
    {
     "name": "stdout",
     "output_type": "stream",
     "text": [
      "===> Integrating for model_output/scenarios/U-r2-t250000-id8-inc-107_180\n"
     ]
    },
    {
     "name": "stderr",
     "output_type": "stream",
     "text": [
      "100%|██████████| 179/179 [00:12<00:00, 14.72it/s]\n",
      "  1%|          | 2/179 [00:00<00:12, 14.39it/s]"
     ]
    },
    {
     "name": "stdout",
     "output_type": "stream",
     "text": [
      "===> Integrating for model_output/scenarios/L-r2-t250000-id9-inc-107_180\n"
     ]
    },
    {
     "name": "stderr",
     "output_type": "stream",
     "text": [
      "100%|██████████| 179/179 [00:12<00:00, 13.93it/s]\n",
      "  1%|          | 2/179 [00:00<00:13, 12.99it/s]"
     ]
    },
    {
     "name": "stdout",
     "output_type": "stream",
     "text": [
      "===> Integrating for model_output/scenarios/U-r15-t250000-id10-inc-107_180\n"
     ]
    },
    {
     "name": "stderr",
     "output_type": "stream",
     "text": [
      "100%|██████████| 179/179 [00:14<00:00, 12.78it/s]\n",
      "  1%|          | 2/179 [00:00<00:12, 14.02it/s]"
     ]
    },
    {
     "name": "stdout",
     "output_type": "stream",
     "text": [
      "===> Integrating for model_output/scenarios/L-r15-t250000-id11-inc-107_180\n"
     ]
    },
    {
     "name": "stderr",
     "output_type": "stream",
     "text": [
      "100%|██████████| 179/179 [00:12<00:00, 13.98it/s]\n",
      "  1%|          | 2/179 [00:00<00:11, 14.76it/s]"
     ]
    },
    {
     "name": "stdout",
     "output_type": "stream",
     "text": [
      "===> Integrating for model_output/scenarios/U-r1-t479700-id12-inc-107_180\n"
     ]
    },
    {
     "name": "stderr",
     "output_type": "stream",
     "text": [
      "100%|██████████| 179/179 [00:12<00:00, 13.87it/s]\n",
      "  1%|          | 2/179 [00:00<00:13, 12.87it/s]"
     ]
    },
    {
     "name": "stdout",
     "output_type": "stream",
     "text": [
      "===> Integrating for model_output/scenarios/L-r1-t479700-id13-inc-107_180\n"
     ]
    },
    {
     "name": "stderr",
     "output_type": "stream",
     "text": [
      "100%|██████████| 179/179 [00:13<00:00, 13.45it/s]\n",
      "  2%|▏         | 4/179 [00:00<00:12, 14.33it/s]"
     ]
    },
    {
     "name": "stdout",
     "output_type": "stream",
     "text": [
      "===> Integrating for model_output/scenarios/U-r2-t479700-id14-inc-107_180\n"
     ]
    },
    {
     "name": "stderr",
     "output_type": "stream",
     "text": [
      "100%|██████████| 179/179 [00:12<00:00, 14.51it/s]\n",
      "  1%|          | 2/179 [00:00<00:11, 15.13it/s]"
     ]
    },
    {
     "name": "stdout",
     "output_type": "stream",
     "text": [
      "===> Integrating for model_output/scenarios/L-r2-t479700-id15-inc-107_180\n"
     ]
    },
    {
     "name": "stderr",
     "output_type": "stream",
     "text": [
      "100%|██████████| 179/179 [00:12<00:00, 14.40it/s]\n",
      "  1%|          | 2/179 [00:00<00:14, 12.50it/s]"
     ]
    },
    {
     "name": "stdout",
     "output_type": "stream",
     "text": [
      "===> Integrating for model_output/scenarios/U-r15-t479700-id16-inc-107_180\n"
     ]
    },
    {
     "name": "stderr",
     "output_type": "stream",
     "text": [
      "100%|██████████| 179/179 [00:14<00:00, 12.39it/s]\n",
      "  1%|          | 2/179 [00:00<00:12, 13.91it/s]"
     ]
    },
    {
     "name": "stdout",
     "output_type": "stream",
     "text": [
      "===> Integrating for model_output/scenarios/L-r15-t479700-id17-inc-107_180\n"
     ]
    },
    {
     "name": "stderr",
     "output_type": "stream",
     "text": [
      "100%|██████████| 179/179 [00:13<00:00, 13.68it/s]\n",
      "  1%|          | 2/179 [00:00<00:12, 13.88it/s]"
     ]
    },
    {
     "name": "stdout",
     "output_type": "stream",
     "text": [
      "===> Integrating for model_output/scenarios/U-r1-t1000000-id18-inc-107_180\n"
     ]
    },
    {
     "name": "stderr",
     "output_type": "stream",
     "text": [
      "100%|██████████| 179/179 [00:12<00:00, 13.87it/s]\n",
      "  1%|          | 2/179 [00:00<00:15, 11.31it/s]"
     ]
    },
    {
     "name": "stdout",
     "output_type": "stream",
     "text": [
      "===> Integrating for model_output/scenarios/L-r1-t1000000-id19-inc-107_180\n"
     ]
    },
    {
     "name": "stderr",
     "output_type": "stream",
     "text": [
      "100%|██████████| 179/179 [00:15<00:00, 11.29it/s]\n",
      "  1%|          | 2/179 [00:00<00:12, 13.70it/s]"
     ]
    },
    {
     "name": "stdout",
     "output_type": "stream",
     "text": [
      "===> Integrating for model_output/scenarios/U-r2-t1000000-id20-inc-107_180\n"
     ]
    },
    {
     "name": "stderr",
     "output_type": "stream",
     "text": [
      "100%|██████████| 179/179 [00:13<00:00, 13.07it/s]\n",
      "  1%|          | 2/179 [00:00<00:12, 13.90it/s]"
     ]
    },
    {
     "name": "stdout",
     "output_type": "stream",
     "text": [
      "===> Integrating for model_output/scenarios/L-r2-t1000000-id21-inc-107_180\n"
     ]
    },
    {
     "name": "stderr",
     "output_type": "stream",
     "text": [
      "100%|██████████| 179/179 [00:11<00:00, 15.12it/s]\n",
      "  2%|▏         | 4/179 [00:00<00:10, 15.99it/s]"
     ]
    },
    {
     "name": "stdout",
     "output_type": "stream",
     "text": [
      "===> Integrating for model_output/scenarios/U-r15-t1000000-id22-inc-107_180\n"
     ]
    },
    {
     "name": "stderr",
     "output_type": "stream",
     "text": [
      "100%|██████████| 179/179 [00:11<00:00, 15.62it/s]\n",
      "  1%|          | 2/179 [00:00<00:11, 15.95it/s]"
     ]
    },
    {
     "name": "stdout",
     "output_type": "stream",
     "text": [
      "===> Integrating for model_output/scenarios/L-r15-t1000000-id23-inc-107_180\n"
     ]
    },
    {
     "name": "stderr",
     "output_type": "stream",
     "text": [
      "100%|██████████| 179/179 [00:11<00:00, 15.69it/s]\n",
      "  1%|          | 2/179 [00:00<00:11, 15.55it/s]"
     ]
    },
    {
     "name": "stdout",
     "output_type": "stream",
     "text": [
      "===> Integrating for model_output/scenarios/U-r1-t2000000-id24-inc-107_180\n"
     ]
    },
    {
     "name": "stderr",
     "output_type": "stream",
     "text": [
      "100%|██████████| 179/179 [00:11<00:00, 15.54it/s]\n",
      "  1%|          | 2/179 [00:00<00:12, 13.81it/s]"
     ]
    },
    {
     "name": "stdout",
     "output_type": "stream",
     "text": [
      "===> Integrating for model_output/scenarios/L-r1-t2000000-id25-inc-107_180\n"
     ]
    },
    {
     "name": "stderr",
     "output_type": "stream",
     "text": [
      "100%|██████████| 179/179 [00:12<00:00, 14.20it/s]\n",
      "  1%|          | 2/179 [00:00<00:12, 13.71it/s]"
     ]
    },
    {
     "name": "stdout",
     "output_type": "stream",
     "text": [
      "===> Integrating for model_output/scenarios/U-r2-t2000000-id26-inc-107_180\n"
     ]
    },
    {
     "name": "stderr",
     "output_type": "stream",
     "text": [
      "100%|██████████| 179/179 [00:12<00:00, 14.02it/s]\n",
      "  2%|▏         | 4/179 [00:00<00:13, 13.16it/s]"
     ]
    },
    {
     "name": "stdout",
     "output_type": "stream",
     "text": [
      "===> Integrating for model_output/scenarios/L-r2-t2000000-id27-inc-107_180\n"
     ]
    },
    {
     "name": "stderr",
     "output_type": "stream",
     "text": [
      "100%|██████████| 179/179 [00:12<00:00, 14.09it/s]\n",
      "  1%|          | 2/179 [00:00<00:12, 14.02it/s]"
     ]
    },
    {
     "name": "stdout",
     "output_type": "stream",
     "text": [
      "===> Integrating for model_output/scenarios/U-r15-t2000000-id28-inc-107_180\n"
     ]
    },
    {
     "name": "stderr",
     "output_type": "stream",
     "text": [
      "100%|██████████| 179/179 [00:12<00:00, 13.97it/s]\n",
      "  1%|          | 2/179 [00:00<00:12, 14.02it/s]"
     ]
    },
    {
     "name": "stdout",
     "output_type": "stream",
     "text": [
      "===> Integrating for model_output/scenarios/L-r15-t2000000-id29-inc-107_180\n"
     ]
    },
    {
     "name": "stderr",
     "output_type": "stream",
     "text": [
      "100%|██████████| 179/179 [00:12<00:00, 13.99it/s]\n",
      "  1%|          | 2/179 [00:00<00:12, 14.44it/s]"
     ]
    },
    {
     "name": "stdout",
     "output_type": "stream",
     "text": [
      "===> Integrating for model_output/scenarios/U-r1-t125000-id0-sus-107_180\n"
     ]
    },
    {
     "name": "stderr",
     "output_type": "stream",
     "text": [
      "100%|██████████| 179/179 [00:11<00:00, 15.88it/s]\n",
      "  1%|          | 2/179 [00:00<00:09, 19.18it/s]"
     ]
    },
    {
     "name": "stdout",
     "output_type": "stream",
     "text": [
      "===> Integrating for model_output/scenarios/L-r1-t125000-id1-sus-107_180\n"
     ]
    },
    {
     "name": "stderr",
     "output_type": "stream",
     "text": [
      "100%|██████████| 179/179 [00:09<00:00, 19.24it/s]\n",
      "  1%|          | 2/179 [00:00<00:09, 19.27it/s]"
     ]
    },
    {
     "name": "stdout",
     "output_type": "stream",
     "text": [
      "===> Integrating for model_output/scenarios/U-r2-t125000-id2-sus-107_180\n"
     ]
    },
    {
     "name": "stderr",
     "output_type": "stream",
     "text": [
      "100%|██████████| 179/179 [00:09<00:00, 19.50it/s]\n",
      "  2%|▏         | 3/179 [00:00<00:08, 20.09it/s]"
     ]
    },
    {
     "name": "stdout",
     "output_type": "stream",
     "text": [
      "===> Integrating for model_output/scenarios/L-r2-t125000-id3-sus-107_180\n"
     ]
    },
    {
     "name": "stderr",
     "output_type": "stream",
     "text": [
      "100%|██████████| 179/179 [00:09<00:00, 19.88it/s]\n",
      "  1%|          | 2/179 [00:00<00:09, 19.61it/s]"
     ]
    },
    {
     "name": "stdout",
     "output_type": "stream",
     "text": [
      "===> Integrating for model_output/scenarios/U-r15-t125000-id4-sus-107_180\n"
     ]
    },
    {
     "name": "stderr",
     "output_type": "stream",
     "text": [
      "100%|██████████| 179/179 [00:09<00:00, 19.86it/s]\n",
      "  1%|          | 2/179 [00:00<00:10, 16.99it/s]"
     ]
    },
    {
     "name": "stdout",
     "output_type": "stream",
     "text": [
      "===> Integrating for model_output/scenarios/L-r15-t125000-id5-sus-107_180\n"
     ]
    },
    {
     "name": "stderr",
     "output_type": "stream",
     "text": [
      "100%|██████████| 179/179 [00:09<00:00, 18.23it/s]\n",
      "  1%|          | 2/179 [00:00<00:09, 19.65it/s]"
     ]
    },
    {
     "name": "stdout",
     "output_type": "stream",
     "text": [
      "===> Integrating for model_output/scenarios/U-r1-t250000-id6-sus-107_180\n"
     ]
    },
    {
     "name": "stderr",
     "output_type": "stream",
     "text": [
      "100%|██████████| 179/179 [00:09<00:00, 19.45it/s]\n",
      "  1%|          | 2/179 [00:00<00:08, 19.79it/s]"
     ]
    },
    {
     "name": "stdout",
     "output_type": "stream",
     "text": [
      "===> Integrating for model_output/scenarios/L-r1-t250000-id7-sus-107_180\n"
     ]
    },
    {
     "name": "stderr",
     "output_type": "stream",
     "text": [
      "100%|██████████| 179/179 [00:08<00:00, 20.07it/s]\n",
      "  1%|          | 2/179 [00:00<00:09, 19.37it/s]"
     ]
    },
    {
     "name": "stdout",
     "output_type": "stream",
     "text": [
      "===> Integrating for model_output/scenarios/U-r2-t250000-id8-sus-107_180\n"
     ]
    },
    {
     "name": "stderr",
     "output_type": "stream",
     "text": [
      "100%|██████████| 179/179 [00:08<00:00, 20.02it/s]\n",
      "  2%|▏         | 4/179 [00:00<00:09, 19.13it/s]"
     ]
    },
    {
     "name": "stdout",
     "output_type": "stream",
     "text": [
      "===> Integrating for model_output/scenarios/L-r2-t250000-id9-sus-107_180\n"
     ]
    },
    {
     "name": "stderr",
     "output_type": "stream",
     "text": [
      "100%|██████████| 179/179 [00:08<00:00, 20.16it/s]\n",
      "  1%|          | 2/179 [00:00<00:09, 19.65it/s]"
     ]
    },
    {
     "name": "stdout",
     "output_type": "stream",
     "text": [
      "===> Integrating for model_output/scenarios/U-r15-t250000-id10-sus-107_180\n"
     ]
    },
    {
     "name": "stderr",
     "output_type": "stream",
     "text": [
      "100%|██████████| 179/179 [00:08<00:00, 21.39it/s]\n",
      "  1%|          | 2/179 [00:00<00:09, 19.52it/s]"
     ]
    },
    {
     "name": "stdout",
     "output_type": "stream",
     "text": [
      "===> Integrating for model_output/scenarios/L-r15-t250000-id11-sus-107_180\n"
     ]
    },
    {
     "name": "stderr",
     "output_type": "stream",
     "text": [
      "100%|██████████| 179/179 [00:08<00:00, 20.69it/s]\n",
      "  2%|▏         | 3/179 [00:00<00:08, 20.47it/s]"
     ]
    },
    {
     "name": "stdout",
     "output_type": "stream",
     "text": [
      "===> Integrating for model_output/scenarios/U-r1-t479700-id12-sus-107_180\n"
     ]
    },
    {
     "name": "stderr",
     "output_type": "stream",
     "text": [
      "100%|██████████| 179/179 [00:08<00:00, 20.69it/s]\n",
      "  2%|▏         | 3/179 [00:00<00:08, 21.43it/s]"
     ]
    },
    {
     "name": "stdout",
     "output_type": "stream",
     "text": [
      "===> Integrating for model_output/scenarios/L-r1-t479700-id13-sus-107_180\n"
     ]
    },
    {
     "name": "stderr",
     "output_type": "stream",
     "text": [
      "100%|██████████| 179/179 [00:08<00:00, 20.65it/s]\n",
      "  2%|▏         | 3/179 [00:00<00:08, 20.68it/s]"
     ]
    },
    {
     "name": "stdout",
     "output_type": "stream",
     "text": [
      "===> Integrating for model_output/scenarios/U-r2-t479700-id14-sus-107_180\n"
     ]
    },
    {
     "name": "stderr",
     "output_type": "stream",
     "text": [
      "100%|██████████| 179/179 [00:08<00:00, 20.44it/s]\n",
      "  1%|          | 2/179 [00:00<00:09, 18.93it/s]"
     ]
    },
    {
     "name": "stdout",
     "output_type": "stream",
     "text": [
      "===> Integrating for model_output/scenarios/L-r2-t479700-id15-sus-107_180\n"
     ]
    },
    {
     "name": "stderr",
     "output_type": "stream",
     "text": [
      "100%|██████████| 179/179 [00:08<00:00, 20.13it/s]\n",
      "  2%|▏         | 3/179 [00:00<00:08, 20.69it/s]"
     ]
    },
    {
     "name": "stdout",
     "output_type": "stream",
     "text": [
      "===> Integrating for model_output/scenarios/U-r15-t479700-id16-sus-107_180\n"
     ]
    },
    {
     "name": "stderr",
     "output_type": "stream",
     "text": [
      "100%|██████████| 179/179 [00:08<00:00, 20.66it/s]\n",
      "  1%|          | 2/179 [00:00<00:09, 19.52it/s]"
     ]
    },
    {
     "name": "stdout",
     "output_type": "stream",
     "text": [
      "===> Integrating for model_output/scenarios/L-r15-t479700-id17-sus-107_180\n"
     ]
    },
    {
     "name": "stderr",
     "output_type": "stream",
     "text": [
      "100%|██████████| 179/179 [00:08<00:00, 20.44it/s]\n",
      "  1%|          | 2/179 [00:00<00:09, 19.40it/s]"
     ]
    },
    {
     "name": "stdout",
     "output_type": "stream",
     "text": [
      "===> Integrating for model_output/scenarios/U-r1-t1000000-id18-sus-107_180\n"
     ]
    },
    {
     "name": "stderr",
     "output_type": "stream",
     "text": [
      "100%|██████████| 179/179 [00:08<00:00, 20.23it/s]\n",
      "  1%|          | 2/179 [00:00<00:09, 18.92it/s]"
     ]
    },
    {
     "name": "stdout",
     "output_type": "stream",
     "text": [
      "===> Integrating for model_output/scenarios/L-r1-t1000000-id19-sus-107_180\n"
     ]
    },
    {
     "name": "stderr",
     "output_type": "stream",
     "text": [
      "100%|██████████| 179/179 [00:09<00:00, 19.59it/s]\n",
      "  2%|▏         | 4/179 [00:00<00:08, 19.54it/s]"
     ]
    },
    {
     "name": "stdout",
     "output_type": "stream",
     "text": [
      "===> Integrating for model_output/scenarios/U-r2-t1000000-id20-sus-107_180\n"
     ]
    },
    {
     "name": "stderr",
     "output_type": "stream",
     "text": [
      "100%|██████████| 179/179 [00:09<00:00, 19.74it/s]\n",
      "  1%|          | 2/179 [00:00<00:09, 19.49it/s]"
     ]
    },
    {
     "name": "stdout",
     "output_type": "stream",
     "text": [
      "===> Integrating for model_output/scenarios/L-r2-t1000000-id21-sus-107_180\n"
     ]
    },
    {
     "name": "stderr",
     "output_type": "stream",
     "text": [
      "100%|██████████| 179/179 [00:09<00:00, 19.86it/s]\n",
      "  2%|▏         | 3/179 [00:00<00:08, 19.76it/s]"
     ]
    },
    {
     "name": "stdout",
     "output_type": "stream",
     "text": [
      "===> Integrating for model_output/scenarios/U-r15-t1000000-id22-sus-107_180\n"
     ]
    },
    {
     "name": "stderr",
     "output_type": "stream",
     "text": [
      "100%|██████████| 179/179 [00:08<00:00, 21.06it/s]\n",
      "  1%|          | 2/179 [00:00<00:09, 19.32it/s]"
     ]
    },
    {
     "name": "stdout",
     "output_type": "stream",
     "text": [
      "===> Integrating for model_output/scenarios/L-r15-t1000000-id23-sus-107_180\n"
     ]
    },
    {
     "name": "stderr",
     "output_type": "stream",
     "text": [
      "100%|██████████| 179/179 [00:09<00:00, 19.84it/s]\n",
      "  1%|          | 2/179 [00:00<00:08, 19.93it/s]"
     ]
    },
    {
     "name": "stdout",
     "output_type": "stream",
     "text": [
      "===> Integrating for model_output/scenarios/U-r1-t2000000-id24-sus-107_180\n"
     ]
    },
    {
     "name": "stderr",
     "output_type": "stream",
     "text": [
      "100%|██████████| 179/179 [00:09<00:00, 19.78it/s]\n",
      "  2%|▏         | 4/179 [00:00<00:09, 19.40it/s]"
     ]
    },
    {
     "name": "stdout",
     "output_type": "stream",
     "text": [
      "===> Integrating for model_output/scenarios/L-r1-t2000000-id25-sus-107_180\n"
     ]
    },
    {
     "name": "stderr",
     "output_type": "stream",
     "text": [
      "100%|██████████| 179/179 [00:09<00:00, 19.67it/s]\n",
      "  1%|          | 2/179 [00:00<00:09, 19.14it/s]"
     ]
    },
    {
     "name": "stdout",
     "output_type": "stream",
     "text": [
      "===> Integrating for model_output/scenarios/U-r2-t2000000-id26-sus-107_180\n"
     ]
    },
    {
     "name": "stderr",
     "output_type": "stream",
     "text": [
      "100%|██████████| 179/179 [00:09<00:00, 19.87it/s]\n",
      "  1%|          | 2/179 [00:00<00:09, 19.46it/s]"
     ]
    },
    {
     "name": "stdout",
     "output_type": "stream",
     "text": [
      "===> Integrating for model_output/scenarios/L-r2-t2000000-id27-sus-107_180\n"
     ]
    },
    {
     "name": "stderr",
     "output_type": "stream",
     "text": [
      "100%|██████████| 179/179 [00:08<00:00, 19.92it/s]\n",
      "  2%|▏         | 4/179 [00:00<00:09, 19.15it/s]"
     ]
    },
    {
     "name": "stdout",
     "output_type": "stream",
     "text": [
      "===> Integrating for model_output/scenarios/U-r15-t2000000-id28-sus-107_180\n"
     ]
    },
    {
     "name": "stderr",
     "output_type": "stream",
     "text": [
      "100%|██████████| 179/179 [00:09<00:00, 19.54it/s]\n",
      "  1%|          | 2/179 [00:00<00:09, 19.21it/s]"
     ]
    },
    {
     "name": "stdout",
     "output_type": "stream",
     "text": [
      "===> Integrating for model_output/scenarios/L-r15-t2000000-id29-sus-107_180\n"
     ]
    },
    {
     "name": "stderr",
     "output_type": "stream",
     "text": [
      "100%|██████████| 179/179 [00:09<00:00, 19.77it/s]\n",
      "  1%|          | 2/179 [00:00<00:09, 18.70it/s]"
     ]
    },
    {
     "name": "stdout",
     "output_type": "stream",
     "text": [
      "===> Integrating for model_output/scenarios/U-r1-t125000-id0-pop-107_180\n"
     ]
    },
    {
     "name": "stderr",
     "output_type": "stream",
     "text": [
      "100%|██████████| 179/179 [00:09<00:00, 19.60it/s]\n",
      "  2%|▏         | 4/179 [00:00<00:09, 19.43it/s]"
     ]
    },
    {
     "name": "stdout",
     "output_type": "stream",
     "text": [
      "===> Integrating for model_output/scenarios/L-r1-t125000-id1-pop-107_180\n"
     ]
    },
    {
     "name": "stderr",
     "output_type": "stream",
     "text": [
      "100%|██████████| 179/179 [00:09<00:00, 19.73it/s]\n",
      "  2%|▏         | 3/179 [00:00<00:08, 20.68it/s]"
     ]
    },
    {
     "name": "stdout",
     "output_type": "stream",
     "text": [
      "===> Integrating for model_output/scenarios/U-r2-t125000-id2-pop-107_180\n"
     ]
    },
    {
     "name": "stderr",
     "output_type": "stream",
     "text": [
      "100%|██████████| 179/179 [00:08<00:00, 19.99it/s]\n",
      "  1%|          | 2/179 [00:00<00:09, 19.33it/s]"
     ]
    },
    {
     "name": "stdout",
     "output_type": "stream",
     "text": [
      "===> Integrating for model_output/scenarios/L-r2-t125000-id3-pop-107_180\n"
     ]
    },
    {
     "name": "stderr",
     "output_type": "stream",
     "text": [
      "100%|██████████| 179/179 [00:08<00:00, 20.07it/s]\n",
      "  2%|▏         | 3/179 [00:00<00:08, 20.09it/s]"
     ]
    },
    {
     "name": "stdout",
     "output_type": "stream",
     "text": [
      "===> Integrating for model_output/scenarios/U-r15-t125000-id4-pop-107_180\n"
     ]
    },
    {
     "name": "stderr",
     "output_type": "stream",
     "text": [
      "100%|██████████| 179/179 [00:09<00:00, 19.47it/s]\n",
      "  1%|          | 2/179 [00:00<00:09, 18.76it/s]"
     ]
    },
    {
     "name": "stdout",
     "output_type": "stream",
     "text": [
      "===> Integrating for model_output/scenarios/L-r15-t125000-id5-pop-107_180\n"
     ]
    },
    {
     "name": "stderr",
     "output_type": "stream",
     "text": [
      "100%|██████████| 179/179 [00:08<00:00, 20.68it/s]\n",
      "  2%|▏         | 4/179 [00:00<00:08, 19.90it/s]"
     ]
    },
    {
     "name": "stdout",
     "output_type": "stream",
     "text": [
      "===> Integrating for model_output/scenarios/U-r1-t250000-id6-pop-107_180\n"
     ]
    },
    {
     "name": "stderr",
     "output_type": "stream",
     "text": [
      "100%|██████████| 179/179 [00:09<00:00, 19.77it/s]\n",
      "  1%|          | 2/179 [00:00<00:09, 19.48it/s]"
     ]
    },
    {
     "name": "stdout",
     "output_type": "stream",
     "text": [
      "===> Integrating for model_output/scenarios/L-r1-t250000-id7-pop-107_180\n"
     ]
    },
    {
     "name": "stderr",
     "output_type": "stream",
     "text": [
      "100%|██████████| 179/179 [00:09<00:00, 19.76it/s]\n",
      "  1%|          | 2/179 [00:00<00:09, 18.91it/s]"
     ]
    },
    {
     "name": "stdout",
     "output_type": "stream",
     "text": [
      "===> Integrating for model_output/scenarios/U-r2-t250000-id8-pop-107_180\n"
     ]
    },
    {
     "name": "stderr",
     "output_type": "stream",
     "text": [
      "100%|██████████| 179/179 [00:09<00:00, 19.41it/s]\n",
      "  1%|          | 2/179 [00:00<00:08, 19.85it/s]"
     ]
    },
    {
     "name": "stdout",
     "output_type": "stream",
     "text": [
      "===> Integrating for model_output/scenarios/L-r2-t250000-id9-pop-107_180\n"
     ]
    },
    {
     "name": "stderr",
     "output_type": "stream",
     "text": [
      "100%|██████████| 179/179 [00:09<00:00, 19.45it/s]\n",
      "  1%|          | 2/179 [00:00<00:09, 18.69it/s]"
     ]
    },
    {
     "name": "stdout",
     "output_type": "stream",
     "text": [
      "===> Integrating for model_output/scenarios/U-r15-t250000-id10-pop-107_180\n"
     ]
    },
    {
     "name": "stderr",
     "output_type": "stream",
     "text": [
      "100%|██████████| 179/179 [00:08<00:00, 20.25it/s]\n",
      "  3%|▎         | 6/179 [00:00<00:08, 21.10it/s]"
     ]
    },
    {
     "name": "stdout",
     "output_type": "stream",
     "text": [
      "===> Integrating for model_output/scenarios/L-r15-t250000-id11-pop-107_180\n"
     ]
    },
    {
     "name": "stderr",
     "output_type": "stream",
     "text": [
      "100%|██████████| 179/179 [00:08<00:00, 20.73it/s]\n",
      "  1%|          | 2/179 [00:00<00:09, 19.47it/s]"
     ]
    },
    {
     "name": "stdout",
     "output_type": "stream",
     "text": [
      "===> Integrating for model_output/scenarios/U-r1-t479700-id12-pop-107_180\n"
     ]
    },
    {
     "name": "stderr",
     "output_type": "stream",
     "text": [
      "100%|██████████| 179/179 [00:09<00:00, 19.72it/s]\n",
      "  1%|          | 2/179 [00:00<00:09, 19.55it/s]"
     ]
    },
    {
     "name": "stdout",
     "output_type": "stream",
     "text": [
      "===> Integrating for model_output/scenarios/L-r1-t479700-id13-pop-107_180\n"
     ]
    },
    {
     "name": "stderr",
     "output_type": "stream",
     "text": [
      "100%|██████████| 179/179 [00:08<00:00, 20.72it/s]\n",
      "  1%|          | 2/179 [00:00<00:08, 19.84it/s]"
     ]
    },
    {
     "name": "stdout",
     "output_type": "stream",
     "text": [
      "===> Integrating for model_output/scenarios/U-r2-t479700-id14-pop-107_180\n"
     ]
    },
    {
     "name": "stderr",
     "output_type": "stream",
     "text": [
      "100%|██████████| 179/179 [00:08<00:00, 20.31it/s]\n",
      "  2%|▏         | 3/179 [00:00<00:08, 20.76it/s]"
     ]
    },
    {
     "name": "stdout",
     "output_type": "stream",
     "text": [
      "===> Integrating for model_output/scenarios/L-r2-t479700-id15-pop-107_180\n"
     ]
    },
    {
     "name": "stderr",
     "output_type": "stream",
     "text": [
      "100%|██████████| 179/179 [00:08<00:00, 20.64it/s]\n",
      "  2%|▏         | 3/179 [00:00<00:08, 20.64it/s]"
     ]
    },
    {
     "name": "stdout",
     "output_type": "stream",
     "text": [
      "===> Integrating for model_output/scenarios/U-r15-t479700-id16-pop-107_180\n"
     ]
    },
    {
     "name": "stderr",
     "output_type": "stream",
     "text": [
      "100%|██████████| 179/179 [00:08<00:00, 20.35it/s]\n",
      "  2%|▏         | 3/179 [00:00<00:08, 21.58it/s]"
     ]
    },
    {
     "name": "stdout",
     "output_type": "stream",
     "text": [
      "===> Integrating for model_output/scenarios/L-r15-t479700-id17-pop-107_180\n"
     ]
    },
    {
     "name": "stderr",
     "output_type": "stream",
     "text": [
      "100%|██████████| 179/179 [00:08<00:00, 21.07it/s]\n",
      "  2%|▏         | 3/179 [00:00<00:08, 21.86it/s]"
     ]
    },
    {
     "name": "stdout",
     "output_type": "stream",
     "text": [
      "===> Integrating for model_output/scenarios/U-r1-t1000000-id18-pop-107_180\n"
     ]
    },
    {
     "name": "stderr",
     "output_type": "stream",
     "text": [
      "100%|██████████| 179/179 [00:08<00:00, 21.12it/s]\n",
      "  2%|▏         | 3/179 [00:00<00:07, 22.51it/s]"
     ]
    },
    {
     "name": "stdout",
     "output_type": "stream",
     "text": [
      "===> Integrating for model_output/scenarios/L-r1-t1000000-id19-pop-107_180\n"
     ]
    },
    {
     "name": "stderr",
     "output_type": "stream",
     "text": [
      "100%|██████████| 179/179 [00:08<00:00, 21.30it/s]\n",
      "  2%|▏         | 3/179 [00:00<00:08, 21.33it/s]"
     ]
    },
    {
     "name": "stdout",
     "output_type": "stream",
     "text": [
      "===> Integrating for model_output/scenarios/U-r2-t1000000-id20-pop-107_180\n"
     ]
    },
    {
     "name": "stderr",
     "output_type": "stream",
     "text": [
      "100%|██████████| 179/179 [00:08<00:00, 21.89it/s]\n",
      "  2%|▏         | 3/179 [00:00<00:08, 21.62it/s]"
     ]
    },
    {
     "name": "stdout",
     "output_type": "stream",
     "text": [
      "===> Integrating for model_output/scenarios/L-r2-t1000000-id21-pop-107_180\n"
     ]
    },
    {
     "name": "stderr",
     "output_type": "stream",
     "text": [
      "100%|██████████| 179/179 [00:08<00:00, 21.89it/s]\n",
      "  2%|▏         | 3/179 [00:00<00:08, 21.05it/s]"
     ]
    },
    {
     "name": "stdout",
     "output_type": "stream",
     "text": [
      "===> Integrating for model_output/scenarios/U-r15-t1000000-id22-pop-107_180\n"
     ]
    },
    {
     "name": "stderr",
     "output_type": "stream",
     "text": [
      "100%|██████████| 179/179 [00:08<00:00, 21.57it/s]\n",
      "  2%|▏         | 3/179 [00:00<00:08, 21.38it/s]"
     ]
    },
    {
     "name": "stdout",
     "output_type": "stream",
     "text": [
      "===> Integrating for model_output/scenarios/L-r15-t1000000-id23-pop-107_180\n"
     ]
    },
    {
     "name": "stderr",
     "output_type": "stream",
     "text": [
      "100%|██████████| 179/179 [00:08<00:00, 21.35it/s]\n",
      "  2%|▏         | 3/179 [00:00<00:08, 21.08it/s]"
     ]
    },
    {
     "name": "stdout",
     "output_type": "stream",
     "text": [
      "===> Integrating for model_output/scenarios/U-r1-t2000000-id24-pop-107_180\n"
     ]
    },
    {
     "name": "stderr",
     "output_type": "stream",
     "text": [
      "100%|██████████| 179/179 [00:08<00:00, 21.15it/s]\n",
      "  2%|▏         | 3/179 [00:00<00:07, 22.32it/s]"
     ]
    },
    {
     "name": "stdout",
     "output_type": "stream",
     "text": [
      "===> Integrating for model_output/scenarios/L-r1-t2000000-id25-pop-107_180\n"
     ]
    },
    {
     "name": "stderr",
     "output_type": "stream",
     "text": [
      "100%|██████████| 179/179 [00:08<00:00, 21.78it/s]\n",
      "  2%|▏         | 3/179 [00:00<00:08, 20.70it/s]"
     ]
    },
    {
     "name": "stdout",
     "output_type": "stream",
     "text": [
      "===> Integrating for model_output/scenarios/U-r2-t2000000-id26-pop-107_180\n"
     ]
    },
    {
     "name": "stderr",
     "output_type": "stream",
     "text": [
      "100%|██████████| 179/179 [00:09<00:00, 18.43it/s]\n",
      "  1%|          | 2/179 [00:00<00:09, 19.45it/s]"
     ]
    },
    {
     "name": "stdout",
     "output_type": "stream",
     "text": [
      "===> Integrating for model_output/scenarios/L-r2-t2000000-id27-pop-107_180\n"
     ]
    },
    {
     "name": "stderr",
     "output_type": "stream",
     "text": [
      "100%|██████████| 179/179 [00:09<00:00, 19.77it/s]\n",
      "  1%|          | 2/179 [00:00<00:09, 19.15it/s]"
     ]
    },
    {
     "name": "stdout",
     "output_type": "stream",
     "text": [
      "===> Integrating for model_output/scenarios/U-r15-t2000000-id28-pop-107_180\n"
     ]
    },
    {
     "name": "stderr",
     "output_type": "stream",
     "text": [
      "100%|██████████| 179/179 [00:09<00:00, 19.42it/s]\n",
      "  2%|▏         | 3/179 [00:00<00:08, 20.02it/s]"
     ]
    },
    {
     "name": "stdout",
     "output_type": "stream",
     "text": [
      "===> Integrating for model_output/scenarios/L-r15-t2000000-id29-pop-107_180\n"
     ]
    },
    {
     "name": "stderr",
     "output_type": "stream",
     "text": [
      "100%|██████████| 179/179 [00:08<00:00, 20.10it/s]\n",
      "  1%|          | 2/179 [00:00<00:08, 19.99it/s]"
     ]
    },
    {
     "name": "stdout",
     "output_type": "stream",
     "text": [
      "===> Integrating for model_output/scenarios/U-r1-t125000-id0-cas-107_180\n"
     ]
    },
    {
     "name": "stderr",
     "output_type": "stream",
     "text": [
      "100%|██████████| 179/179 [00:08<00:00, 20.03it/s]\n",
      "  2%|▏         | 4/179 [00:00<00:08, 19.49it/s]"
     ]
    },
    {
     "name": "stdout",
     "output_type": "stream",
     "text": [
      "===> Integrating for model_output/scenarios/L-r1-t125000-id1-cas-107_180\n"
     ]
    },
    {
     "name": "stderr",
     "output_type": "stream",
     "text": [
      "100%|██████████| 179/179 [00:09<00:00, 19.85it/s]\n",
      "  1%|          | 2/179 [00:00<00:08, 19.83it/s]"
     ]
    },
    {
     "name": "stdout",
     "output_type": "stream",
     "text": [
      "===> Integrating for model_output/scenarios/U-r2-t125000-id2-cas-107_180\n"
     ]
    },
    {
     "name": "stderr",
     "output_type": "stream",
     "text": [
      "100%|██████████| 179/179 [00:08<00:00, 21.09it/s]\n",
      "  2%|▏         | 3/179 [00:00<00:08, 21.52it/s]"
     ]
    },
    {
     "name": "stdout",
     "output_type": "stream",
     "text": [
      "===> Integrating for model_output/scenarios/L-r2-t125000-id3-cas-107_180\n"
     ]
    },
    {
     "name": "stderr",
     "output_type": "stream",
     "text": [
      "100%|██████████| 179/179 [00:08<00:00, 21.14it/s]\n",
      "  2%|▏         | 3/179 [00:00<00:08, 20.76it/s]"
     ]
    },
    {
     "name": "stdout",
     "output_type": "stream",
     "text": [
      "===> Integrating for model_output/scenarios/U-r15-t125000-id4-cas-107_180\n"
     ]
    },
    {
     "name": "stderr",
     "output_type": "stream",
     "text": [
      "100%|██████████| 179/179 [00:08<00:00, 20.95it/s]\n",
      "  1%|          | 2/179 [00:00<00:09, 19.28it/s]"
     ]
    },
    {
     "name": "stdout",
     "output_type": "stream",
     "text": [
      "===> Integrating for model_output/scenarios/L-r15-t125000-id5-cas-107_180\n"
     ]
    },
    {
     "name": "stderr",
     "output_type": "stream",
     "text": [
      "100%|██████████| 179/179 [00:08<00:00, 20.97it/s]\n",
      "  1%|          | 2/179 [00:00<00:09, 18.92it/s]"
     ]
    },
    {
     "name": "stdout",
     "output_type": "stream",
     "text": [
      "===> Integrating for model_output/scenarios/U-r1-t250000-id6-cas-107_180\n"
     ]
    },
    {
     "name": "stderr",
     "output_type": "stream",
     "text": [
      "100%|██████████| 179/179 [00:08<00:00, 21.22it/s]\n",
      "  2%|▏         | 3/179 [00:00<00:08, 20.29it/s]"
     ]
    },
    {
     "name": "stdout",
     "output_type": "stream",
     "text": [
      "===> Integrating for model_output/scenarios/L-r1-t250000-id7-cas-107_180\n"
     ]
    },
    {
     "name": "stderr",
     "output_type": "stream",
     "text": [
      "100%|██████████| 179/179 [00:08<00:00, 20.64it/s]\n",
      "  2%|▏         | 3/179 [00:00<00:08, 20.03it/s]"
     ]
    },
    {
     "name": "stdout",
     "output_type": "stream",
     "text": [
      "===> Integrating for model_output/scenarios/U-r2-t250000-id8-cas-107_180\n"
     ]
    },
    {
     "name": "stderr",
     "output_type": "stream",
     "text": [
      "100%|██████████| 179/179 [00:08<00:00, 21.16it/s]\n",
      "  2%|▏         | 3/179 [00:00<00:08, 20.51it/s]"
     ]
    },
    {
     "name": "stdout",
     "output_type": "stream",
     "text": [
      "===> Integrating for model_output/scenarios/L-r2-t250000-id9-cas-107_180\n"
     ]
    },
    {
     "name": "stderr",
     "output_type": "stream",
     "text": [
      "100%|██████████| 179/179 [00:08<00:00, 20.97it/s]\n",
      "  1%|          | 2/179 [00:00<00:09, 19.03it/s]"
     ]
    },
    {
     "name": "stdout",
     "output_type": "stream",
     "text": [
      "===> Integrating for model_output/scenarios/U-r15-t250000-id10-cas-107_180\n"
     ]
    },
    {
     "name": "stderr",
     "output_type": "stream",
     "text": [
      "100%|██████████| 179/179 [00:08<00:00, 21.35it/s]\n",
      "  2%|▏         | 4/179 [00:00<00:09, 18.95it/s]"
     ]
    },
    {
     "name": "stdout",
     "output_type": "stream",
     "text": [
      "===> Integrating for model_output/scenarios/L-r15-t250000-id11-cas-107_180\n"
     ]
    },
    {
     "name": "stderr",
     "output_type": "stream",
     "text": [
      "100%|██████████| 179/179 [00:08<00:00, 20.35it/s]\n",
      "  1%|          | 2/179 [00:00<00:08, 19.88it/s]"
     ]
    },
    {
     "name": "stdout",
     "output_type": "stream",
     "text": [
      "===> Integrating for model_output/scenarios/U-r1-t479700-id12-cas-107_180\n"
     ]
    },
    {
     "name": "stderr",
     "output_type": "stream",
     "text": [
      "100%|██████████| 179/179 [00:08<00:00, 21.46it/s]\n",
      "  2%|▏         | 4/179 [00:00<00:09, 19.15it/s]"
     ]
    },
    {
     "name": "stdout",
     "output_type": "stream",
     "text": [
      "===> Integrating for model_output/scenarios/L-r1-t479700-id13-cas-107_180\n"
     ]
    },
    {
     "name": "stderr",
     "output_type": "stream",
     "text": [
      "100%|██████████| 179/179 [00:08<00:00, 20.92it/s]\n",
      "  1%|          | 2/179 [00:00<00:09, 19.23it/s]"
     ]
    },
    {
     "name": "stdout",
     "output_type": "stream",
     "text": [
      "===> Integrating for model_output/scenarios/U-r2-t479700-id14-cas-107_180\n"
     ]
    },
    {
     "name": "stderr",
     "output_type": "stream",
     "text": [
      "100%|██████████| 179/179 [00:08<00:00, 20.91it/s]\n",
      "  1%|          | 2/179 [00:00<00:09, 19.53it/s]"
     ]
    },
    {
     "name": "stdout",
     "output_type": "stream",
     "text": [
      "===> Integrating for model_output/scenarios/L-r2-t479700-id15-cas-107_180\n"
     ]
    },
    {
     "name": "stderr",
     "output_type": "stream",
     "text": [
      "100%|██████████| 179/179 [00:08<00:00, 20.89it/s]\n",
      "  2%|▏         | 3/179 [00:00<00:07, 22.00it/s]"
     ]
    },
    {
     "name": "stdout",
     "output_type": "stream",
     "text": [
      "===> Integrating for model_output/scenarios/U-r15-t479700-id16-cas-107_180\n"
     ]
    },
    {
     "name": "stderr",
     "output_type": "stream",
     "text": [
      "100%|██████████| 179/179 [00:08<00:00, 20.73it/s]\n",
      "  2%|▏         | 3/179 [00:00<00:08, 21.36it/s]"
     ]
    },
    {
     "name": "stdout",
     "output_type": "stream",
     "text": [
      "===> Integrating for model_output/scenarios/L-r15-t479700-id17-cas-107_180\n"
     ]
    },
    {
     "name": "stderr",
     "output_type": "stream",
     "text": [
      "100%|██████████| 179/179 [00:08<00:00, 20.73it/s]\n",
      "  2%|▏         | 3/179 [00:00<00:08, 20.33it/s]"
     ]
    },
    {
     "name": "stdout",
     "output_type": "stream",
     "text": [
      "===> Integrating for model_output/scenarios/U-r1-t1000000-id18-cas-107_180\n"
     ]
    },
    {
     "name": "stderr",
     "output_type": "stream",
     "text": [
      "100%|██████████| 179/179 [00:08<00:00, 20.61it/s]\n",
      "  1%|          | 2/179 [00:00<00:08, 19.99it/s]"
     ]
    },
    {
     "name": "stdout",
     "output_type": "stream",
     "text": [
      "===> Integrating for model_output/scenarios/L-r1-t1000000-id19-cas-107_180\n"
     ]
    },
    {
     "name": "stderr",
     "output_type": "stream",
     "text": [
      "100%|██████████| 179/179 [00:08<00:00, 20.15it/s]\n",
      "  2%|▏         | 3/179 [00:00<00:08, 20.86it/s]"
     ]
    },
    {
     "name": "stdout",
     "output_type": "stream",
     "text": [
      "===> Integrating for model_output/scenarios/U-r2-t1000000-id20-cas-107_180\n"
     ]
    },
    {
     "name": "stderr",
     "output_type": "stream",
     "text": [
      "100%|██████████| 179/179 [00:08<00:00, 20.64it/s]\n",
      "  2%|▏         | 4/179 [00:00<00:09, 19.44it/s]"
     ]
    },
    {
     "name": "stdout",
     "output_type": "stream",
     "text": [
      "===> Integrating for model_output/scenarios/L-r2-t1000000-id21-cas-107_180\n"
     ]
    },
    {
     "name": "stderr",
     "output_type": "stream",
     "text": [
      "100%|██████████| 179/179 [00:09<00:00, 19.44it/s]\n",
      "  2%|▏         | 4/179 [00:00<00:10, 16.51it/s]"
     ]
    },
    {
     "name": "stdout",
     "output_type": "stream",
     "text": [
      "===> Integrating for model_output/scenarios/U-r15-t1000000-id22-cas-107_180\n"
     ]
    },
    {
     "name": "stderr",
     "output_type": "stream",
     "text": [
      "100%|██████████| 179/179 [00:10<00:00, 16.69it/s]\n",
      "  1%|          | 2/179 [00:00<00:11, 15.86it/s]"
     ]
    },
    {
     "name": "stdout",
     "output_type": "stream",
     "text": [
      "===> Integrating for model_output/scenarios/L-r15-t1000000-id23-cas-107_180\n"
     ]
    },
    {
     "name": "stderr",
     "output_type": "stream",
     "text": [
      "100%|██████████| 179/179 [00:08<00:00, 20.14it/s]\n",
      "  1%|          | 2/179 [00:00<00:08, 19.93it/s]"
     ]
    },
    {
     "name": "stdout",
     "output_type": "stream",
     "text": [
      "===> Integrating for model_output/scenarios/U-r1-t2000000-id24-cas-107_180\n"
     ]
    },
    {
     "name": "stderr",
     "output_type": "stream",
     "text": [
      "100%|██████████| 179/179 [00:08<00:00, 20.02it/s]\n",
      "  1%|          | 2/179 [00:00<00:08, 19.75it/s]"
     ]
    },
    {
     "name": "stdout",
     "output_type": "stream",
     "text": [
      "===> Integrating for model_output/scenarios/L-r1-t2000000-id25-cas-107_180\n"
     ]
    },
    {
     "name": "stderr",
     "output_type": "stream",
     "text": [
      "100%|██████████| 179/179 [00:08<00:00, 21.24it/s]\n",
      "  3%|▎         | 6/179 [00:00<00:08, 20.96it/s]"
     ]
    },
    {
     "name": "stdout",
     "output_type": "stream",
     "text": [
      "===> Integrating for model_output/scenarios/U-r2-t2000000-id26-cas-107_180\n"
     ]
    },
    {
     "name": "stderr",
     "output_type": "stream",
     "text": [
      "100%|██████████| 179/179 [00:08<00:00, 20.57it/s]\n",
      "  1%|          | 2/179 [00:00<00:09, 18.51it/s]"
     ]
    },
    {
     "name": "stdout",
     "output_type": "stream",
     "text": [
      "===> Integrating for model_output/scenarios/L-r2-t2000000-id27-cas-107_180\n"
     ]
    },
    {
     "name": "stderr",
     "output_type": "stream",
     "text": [
      "100%|██████████| 179/179 [00:08<00:00, 20.96it/s]\n",
      "  2%|▏         | 3/179 [00:00<00:09, 18.48it/s]"
     ]
    },
    {
     "name": "stdout",
     "output_type": "stream",
     "text": [
      "===> Integrating for model_output/scenarios/U-r15-t2000000-id28-cas-107_180\n"
     ]
    },
    {
     "name": "stderr",
     "output_type": "stream",
     "text": [
      "100%|██████████| 179/179 [00:08<00:00, 21.62it/s]\n",
      "  2%|▏         | 3/179 [00:00<00:09, 18.68it/s]"
     ]
    },
    {
     "name": "stdout",
     "output_type": "stream",
     "text": [
      "===> Integrating for model_output/scenarios/L-r15-t2000000-id29-cas-107_180\n"
     ]
    },
    {
     "name": "stderr",
     "output_type": "stream",
     "text": [
      "100%|██████████| 179/179 [00:08<00:00, 20.81it/s]\n"
     ]
    }
   ],
   "source": [
    "# Generate alternatives:\n",
    "# BY INCIDENCE: \n",
    "for scenario_name, scenario in scenarios_opt.items():\n",
    "    nv = scenarios_baseline[scenario_name.split('-')[0]]\n",
    "    incid = nv[nv['comp'].isin(['E', 'P', 'I', 'A', 'Q', 'H', 'R'])].groupby('placeID').sum()\n",
    "    incid.sort_values('value', ascending=False)\n",
    "    \n",
    "    # Build scenario\n",
    "    maxvaccrate_regional, delivery_national, stockpile_national_constraint, control_initial = build_scenario(setup, scenario)\n",
    "    M = setup.nnodes\n",
    "    N = setup.ndays - 1\n",
    "    control_initial = np.zeros((M, N))\n",
    "    unvac_nd = np.copy(setup.pop_node)\n",
    "    stockpile = 0\n",
    "    for k in range(ndays_ocp -1):\n",
    "        stockpile += delivery_national[k]\n",
    "        for nodename in md.place.unique():\n",
    "            nd = setup.ind2name.index(nodename)\n",
    "            to_allocate = stockpile * incid.loc[nd]['value'] / incid['value'].sum()\n",
    "            to_allocate = min(to_allocate, maxvaccrate_regional[nd, k], unvac_nd[nd], stockpile)\n",
    "            control_initial[nd, k] = to_allocate\n",
    "            stockpile -= to_allocate\n",
    "            unvac_nd[nd] -= to_allocate\n",
    "    p.apply_epicourse(setup, scenario['beta_mult'])\n",
    "    # END Build scenario\n",
    "\n",
    "    results, state_initial, yell, mob = COVIDVaccinationOCP.integrate(N,\n",
    "                                                                      setup=setup,\n",
    "                                                                      parameters=p,\n",
    "                                                                      controls=control_initial,\n",
    "                                                                      save_to=f'model_output/scenarios/{scenario_name}-inc-{nnodes}_{ndays}',\n",
    "                                                                      n_rk4_steps=n_int_steps)\n",
    "    results.set_index('date', drop=True, inplace=True)\n",
    "\n",
    "# BY Suceptibility: \n",
    "for scenario_name, scenario in scenarios_opt.items():\n",
    "    nv = scenarios_baseline[scenario_name.split('-')[0]]\n",
    "    incid = nv[nv['comp'].isin(['S'])].loc[str(setup.start_date)]\n",
    "    incid.set_index('placeID', inplace=True)\n",
    "    \n",
    "    # Build scenario\n",
    "    maxvaccrate_regional, delivery_national, stockpile_national_constraint, control_initial = build_scenario(setup, scenario)\n",
    "    M = setup.nnodes\n",
    "    N = setup.ndays - 1\n",
    "    control_initial = np.zeros((M, N))\n",
    "    unvac_nd = np.copy(setup.pop_node)\n",
    "    stockpile = 0\n",
    "    for k in range(ndays_ocp -1):\n",
    "        stockpile += delivery_national[k]\n",
    "        for nodename in md.place.unique():\n",
    "            nd = setup.ind2name.index(nodename)\n",
    "            to_allocate = stockpile * incid.loc[nd]['value'] / incid['value'].sum()\n",
    "            to_allocate = min(to_allocate, maxvaccrate_regional[nd, k], unvac_nd[nd], stockpile)\n",
    "            control_initial[nd, k] = to_allocate\n",
    "            stockpile -= to_allocate\n",
    "            unvac_nd[nd] -= to_allocate\n",
    "    p.apply_epicourse(setup, scenario['beta_mult'])\n",
    "    # END Build scenario\n",
    "\n",
    "    results, state_initial, yell, mob = COVIDVaccinationOCP.integrate(N,\n",
    "                                                                      setup=setup,\n",
    "                                                                      parameters=p,\n",
    "                                                                      controls=control_initial,\n",
    "                                                                      save_to=f'model_output/scenarios/{scenario_name}-sus-{nnodes}_{ndays}',\n",
    "                                                                      n_rk4_steps=n_int_steps)\n",
    "    results.set_index('date', drop=True, inplace=True)\n",
    "    \n",
    "\n",
    "    \n",
    "# BY POPULATION \n",
    "for scenario_name, scenario in scenarios_opt.items():\n",
    "    # Build scenario\n",
    "    maxvaccrate_regional, delivery_national, stockpile_national_constraint, control_initial = build_scenario(setup, scenario)\n",
    "    M = setup.nnodes\n",
    "    N = setup.ndays - 1\n",
    "    control_initial = np.zeros((M, N))\n",
    "    unvac_nd = np.copy(setup.pop_node)\n",
    "    stockpile = 0\n",
    "    for k in range(ndays_ocp -1):\n",
    "        stockpile += delivery_national[k]\n",
    "        for nodename in md.place.unique():\n",
    "            pop_nd = setup.pop_node[nd]\n",
    "            nd = setup.ind2name.index(nodename)\n",
    "            to_allocate = stockpile * pop_nd / setup.pop_node.sum()\n",
    "            to_allocate = min(to_allocate, maxvaccrate_regional[nd, k], unvac_nd[nd], stockpile)\n",
    "            control_initial[nd, k] = to_allocate\n",
    "            stockpile -= to_allocate\n",
    "            unvac_nd[nd] -= to_allocate\n",
    "    p.apply_epicourse(setup, scenario['beta_mult'])\n",
    "    # END Build scenario\n",
    "\n",
    "    results, state_initial, yell, mob = COVIDVaccinationOCP.integrate(N,\n",
    "                                                                      setup=setup,\n",
    "                                                                      parameters=p,\n",
    "                                                                      controls=control_initial,\n",
    "                                                                      save_to=f'model_output/scenarios/{scenario_name}-pop-{nnodes}_{ndays}',\n",
    "                                                                      n_rk4_steps=n_int_steps)\n",
    "    results.set_index('date', drop=True, inplace=True)\n",
    "    \n",
    "# BY FUTURE NEW CASES\n",
    "for scenario_name, scenario in scenarios_opt.items():\n",
    "    nv = scenarios_baseline[scenario_name.split('-')[0]]\n",
    "    incid = nv[nv['comp'].isin(['E', 'I', 'A'])].groupby('placeID').sum()\n",
    "    incid.sort_values('value', ascending=False)\n",
    "    \n",
    "    # Build scenario\n",
    "    maxvaccrate_regional, delivery_national, stockpile_national_constraint, control_initial = build_scenario(setup, scenario)\n",
    "    M = setup.nnodes\n",
    "    N = setup.ndays - 1\n",
    "    control_initial = np.zeros((M, N))\n",
    "    unvac_nd = np.copy(setup.pop_node)\n",
    "    stockpile = 0\n",
    "    for k in range(ndays_ocp - 1):\n",
    "        stockpile += delivery_national[k]\n",
    "        for nodename in md.place.unique():\n",
    "            nd = setup.ind2name.index(nodename)\n",
    "            to_allocate = stockpile * incid.loc[nd]['value'] / incid['value'].sum()\n",
    "            to_allocate = min(to_allocate, maxvaccrate_regional[nd, k], unvac_nd[nd], stockpile)\n",
    "            control_initial[nd, k] = to_allocate\n",
    "            stockpile -= to_allocate\n",
    "            unvac_nd[nd] -= to_allocate\n",
    "    p.apply_epicourse(setup, scenario['beta_mult'])\n",
    "    # END Build scenario\n",
    "\n",
    "    results, state_initial, yell, mob = COVIDVaccinationOCP.integrate(N,\n",
    "                                                                      setup=setup,\n",
    "                                                                      parameters=p,\n",
    "                                                                      controls=control_initial,\n",
    "                                                                      save_to=f'model_output/scenarios/{scenario_name}-cas-{nnodes}_{ndays}',\n",
    "                                                                      n_rk4_steps=n_int_steps)\n",
    "    results.set_index('date', drop=True, inplace=True)\n",
    "\n",
    "#TODO: Centrality based and R0 based"
   ]
  },
  {
   "cell_type": "code",
   "execution_count": 2,
   "metadata": {
    "execution": {
     "iopub.execute_input": "2021-01-27T20:15:56.517150Z",
     "iopub.status.busy": "2021-01-27T20:15:56.516925Z",
     "iopub.status.idle": "2021-01-27T20:16:04.359539Z",
     "shell.execute_reply": "2021-01-27T20:16:04.358831Z",
     "shell.execute_reply.started": "2021-01-27T20:15:56.517124Z"
    }
   },
   "outputs": [],
   "source": [
    "import matlab.engine\n",
    "\n",
    "eng = matlab.engine.start_matlab()\n",
    "eng.cd('check-strats/', nargout=0)"
   ]
  },
  {
   "cell_type": "code",
   "execution_count": 3,
   "metadata": {
    "execution": {
     "iopub.execute_input": "2021-01-27T20:16:04.361188Z",
     "iopub.status.busy": "2021-01-27T20:16:04.360937Z",
     "iopub.status.idle": "2021-01-27T20:16:04.379009Z",
     "shell.execute_reply": "2021-01-27T20:16:04.378482Z",
     "shell.execute_reply.started": "2021-01-27T20:16:04.361161Z"
    }
   },
   "outputs": [
    {
     "data": {
      "text/plain": [
       "dict_keys(['U-r1-t125000-id0', 'L-r1-t125000-id1', 'U-r2-t125000-id2', 'L-r2-t125000-id3', 'U-r15-t125000-id4', 'L-r15-t125000-id5', 'U-r1-t250000-id6', 'L-r1-t250000-id7', 'U-r2-t250000-id8', 'L-r2-t250000-id9', 'U-r15-t250000-id10', 'L-r15-t250000-id11', 'U-r1-t479700-id12', 'L-r1-t479700-id13', 'U-r2-t479700-id14', 'L-r2-t479700-id15', 'U-r15-t479700-id16', 'L-r15-t479700-id17', 'U-r1-t1000000-id18', 'L-r1-t1000000-id19', 'U-r2-t1000000-id20', 'L-r2-t1000000-id21', 'U-r15-t1000000-id22', 'L-r15-t1000000-id23', 'U-r1-t2000000-id24', 'L-r1-t2000000-id25', 'U-r2-t2000000-id26', 'L-r2-t2000000-id27', 'U-r15-t2000000-id28', 'L-r15-t2000000-id29'])"
      ]
     },
     "execution_count": 3,
     "metadata": {},
     "output_type": "execute_result"
    }
   ],
   "source": [
    "scenarios = {pick_scenario(setup, i)['name']:pick_scenario(setup, i) for i in np.arange(30)}\n",
    "scenarios.keys()"
   ]
  },
  {
   "cell_type": "code",
   "execution_count": null,
   "metadata": {},
   "outputs": [],
   "source": []
  },
  {
   "cell_type": "code",
   "execution_count": 4,
   "metadata": {
    "execution": {
     "iopub.execute_input": "2021-01-27T20:16:05.664131Z",
     "iopub.status.busy": "2021-01-27T20:16:05.663865Z",
     "iopub.status.idle": "2021-01-27T21:50:42.741400Z",
     "shell.execute_reply": "2021-01-27T21:50:42.740506Z",
     "shell.execute_reply.started": "2021-01-27T20:16:05.664103Z"
    },
    "scrolled": true
   },
   "outputs": [
    {
     "name": "stdout",
     "output_type": "stream",
     "text": [
      "Doing model_output/scenarios/U-r1-t125000-id0-opi-107_180.csv\n",
      "Doing model_output/scenarios/L-r1-t125000-id1-opi-107_180.csv\n",
      "Doing model_output/scenarios/U-r2-t125000-id2-opi-107_180.csv\n",
      "Doing model_output/scenarios/L-r2-t125000-id3-opi-107_180.csv\n",
      "Doing model_output/scenarios/U-r15-t125000-id4-opi-107_180.csv\n",
      "Doing model_output/scenarios/L-r15-t125000-id5-opi-107_180.csv\n",
      "Doing model_output/scenarios/U-r1-t250000-id6-opi-107_180.csv\n",
      "Doing model_output/scenarios/L-r1-t250000-id7-opi-107_180.csv\n",
      "Doing model_output/scenarios/U-r2-t250000-id8-opi-107_180.csv\n",
      "Doing model_output/scenarios/L-r2-t250000-id9-opi-107_180.csv\n",
      "Doing model_output/scenarios/U-r15-t250000-id10-opi-107_180.csv\n",
      "Doing model_output/scenarios/L-r15-t250000-id11-opi-107_180.csv\n",
      "Doing model_output/scenarios/U-r1-t479700-id12-opi-107_180.csv\n",
      "Doing model_output/scenarios/L-r1-t479700-id13-opi-107_180.csv\n",
      "Doing model_output/scenarios/U-r2-t479700-id14-opi-107_180.csv\n",
      "Doing model_output/scenarios/L-r2-t479700-id15-opi-107_180.csv\n",
      "Doing model_output/scenarios/U-r15-t479700-id16-opi-107_180.csv\n",
      "Doing model_output/scenarios/L-r15-t479700-id17-opi-107_180.csv\n",
      "Doing model_output/scenarios/U-r1-t1000000-id18-opi-107_180.csv\n",
      "Doing model_output/scenarios/L-r1-t1000000-id19-opi-107_180.csv\n",
      "Doing model_output/scenarios/U-r2-t1000000-id20-opi-107_180.csv\n",
      "Doing model_output/scenarios/L-r2-t1000000-id21-opi-107_180.csv\n",
      "Doing model_output/scenarios/U-r15-t1000000-id22-opi-107_180.csv\n",
      "Doing model_output/scenarios/L-r15-t1000000-id23-opi-107_180.csv\n",
      "Doing model_output/scenarios/U-r1-t2000000-id24-opi-107_180.csv\n",
      "Doing model_output/scenarios/L-r1-t2000000-id25-opi-107_180.csv\n",
      "Doing model_output/scenarios/U-r2-t2000000-id26-opi-107_180.csv\n",
      "Doing model_output/scenarios/L-r2-t2000000-id27-opi-107_180.csv\n",
      "Doing model_output/scenarios/U-r15-t2000000-id28-opi-107_180.csv\n",
      "Doing model_output/scenarios/L-r15-t2000000-id29-opi-107_180.csv\n",
      "Doing model_output/scenarios/U-r1-t125000-id0-cas-107_180.csv\n",
      "Doing model_output/scenarios/L-r1-t125000-id1-cas-107_180.csv\n",
      "Doing model_output/scenarios/U-r2-t125000-id2-cas-107_180.csv\n",
      "Doing model_output/scenarios/L-r2-t125000-id3-cas-107_180.csv\n",
      "Doing model_output/scenarios/U-r15-t125000-id4-cas-107_180.csv\n",
      "Doing model_output/scenarios/L-r15-t125000-id5-cas-107_180.csv\n",
      "Doing model_output/scenarios/U-r1-t250000-id6-cas-107_180.csv\n",
      "Doing model_output/scenarios/L-r1-t250000-id7-cas-107_180.csv\n",
      "Doing model_output/scenarios/U-r2-t250000-id8-cas-107_180.csv\n",
      "Doing model_output/scenarios/L-r2-t250000-id9-cas-107_180.csv\n",
      "Doing model_output/scenarios/U-r15-t250000-id10-cas-107_180.csv\n",
      "Doing model_output/scenarios/L-r15-t250000-id11-cas-107_180.csv\n",
      "Doing model_output/scenarios/U-r1-t479700-id12-cas-107_180.csv\n",
      "Doing model_output/scenarios/L-r1-t479700-id13-cas-107_180.csv\n",
      "Doing model_output/scenarios/U-r2-t479700-id14-cas-107_180.csv\n",
      "Doing model_output/scenarios/L-r2-t479700-id15-cas-107_180.csv\n",
      "Doing model_output/scenarios/U-r15-t479700-id16-cas-107_180.csv\n",
      "Doing model_output/scenarios/L-r15-t479700-id17-cas-107_180.csv\n",
      "Doing model_output/scenarios/U-r1-t1000000-id18-cas-107_180.csv\n",
      "Doing model_output/scenarios/L-r1-t1000000-id19-cas-107_180.csv\n",
      "Doing model_output/scenarios/U-r2-t1000000-id20-cas-107_180.csv\n",
      "Doing model_output/scenarios/L-r2-t1000000-id21-cas-107_180.csv\n",
      "Doing model_output/scenarios/U-r15-t1000000-id22-cas-107_180.csv\n",
      "Doing model_output/scenarios/L-r15-t1000000-id23-cas-107_180.csv\n",
      "Doing model_output/scenarios/U-r1-t2000000-id24-cas-107_180.csv\n",
      "Doing model_output/scenarios/L-r1-t2000000-id25-cas-107_180.csv\n",
      "Doing model_output/scenarios/U-r2-t2000000-id26-cas-107_180.csv\n",
      "Doing model_output/scenarios/L-r2-t2000000-id27-cas-107_180.csv\n",
      "Doing model_output/scenarios/U-r15-t2000000-id28-cas-107_180.csv\n",
      "Doing model_output/scenarios/L-r15-t2000000-id29-cas-107_180.csv\n",
      "Doing model_output/scenarios/U-r1-t125000-id0-pop-107_180.csv\n",
      "Doing model_output/scenarios/L-r1-t125000-id1-pop-107_180.csv\n",
      "Doing model_output/scenarios/U-r2-t125000-id2-pop-107_180.csv\n",
      "Doing model_output/scenarios/L-r2-t125000-id3-pop-107_180.csv\n",
      "Doing model_output/scenarios/U-r15-t125000-id4-pop-107_180.csv\n",
      "Doing model_output/scenarios/L-r15-t125000-id5-pop-107_180.csv\n",
      "Doing model_output/scenarios/U-r1-t250000-id6-pop-107_180.csv\n",
      "Doing model_output/scenarios/L-r1-t250000-id7-pop-107_180.csv\n",
      "Doing model_output/scenarios/U-r2-t250000-id8-pop-107_180.csv\n",
      "Doing model_output/scenarios/L-r2-t250000-id9-pop-107_180.csv\n",
      "Doing model_output/scenarios/U-r15-t250000-id10-pop-107_180.csv\n",
      "Doing model_output/scenarios/L-r15-t250000-id11-pop-107_180.csv\n",
      "Doing model_output/scenarios/U-r1-t479700-id12-pop-107_180.csv\n",
      "Doing model_output/scenarios/L-r1-t479700-id13-pop-107_180.csv\n",
      "Doing model_output/scenarios/U-r2-t479700-id14-pop-107_180.csv\n",
      "Doing model_output/scenarios/L-r2-t479700-id15-pop-107_180.csv\n",
      "Doing model_output/scenarios/U-r15-t479700-id16-pop-107_180.csv\n",
      "Doing model_output/scenarios/L-r15-t479700-id17-pop-107_180.csv\n",
      "Doing model_output/scenarios/U-r1-t1000000-id18-pop-107_180.csv\n",
      "Doing model_output/scenarios/L-r1-t1000000-id19-pop-107_180.csv\n",
      "Doing model_output/scenarios/U-r2-t1000000-id20-pop-107_180.csv\n",
      "Doing model_output/scenarios/L-r2-t1000000-id21-pop-107_180.csv\n",
      "Doing model_output/scenarios/U-r15-t1000000-id22-pop-107_180.csv\n",
      "Doing model_output/scenarios/L-r15-t1000000-id23-pop-107_180.csv\n",
      "Doing model_output/scenarios/U-r1-t2000000-id24-pop-107_180.csv\n",
      "Doing model_output/scenarios/L-r1-t2000000-id25-pop-107_180.csv\n",
      "Doing model_output/scenarios/U-r2-t2000000-id26-pop-107_180.csv\n",
      "Doing model_output/scenarios/L-r2-t2000000-id27-pop-107_180.csv\n",
      "Doing model_output/scenarios/U-r15-t2000000-id28-pop-107_180.csv\n",
      "Doing model_output/scenarios/L-r15-t2000000-id29-pop-107_180.csv\n",
      "Doing model_output/scenarios/U-r1-t125000-id0-sus-107_180.csv\n",
      "Doing model_output/scenarios/L-r1-t125000-id1-sus-107_180.csv\n",
      "Doing model_output/scenarios/U-r2-t125000-id2-sus-107_180.csv\n",
      "Doing model_output/scenarios/L-r2-t125000-id3-sus-107_180.csv\n",
      "Doing model_output/scenarios/U-r15-t125000-id4-sus-107_180.csv\n",
      "Doing model_output/scenarios/L-r15-t125000-id5-sus-107_180.csv\n",
      "Doing model_output/scenarios/U-r1-t250000-id6-sus-107_180.csv\n",
      "Doing model_output/scenarios/L-r1-t250000-id7-sus-107_180.csv\n",
      "Doing model_output/scenarios/U-r2-t250000-id8-sus-107_180.csv\n",
      "Doing model_output/scenarios/L-r2-t250000-id9-sus-107_180.csv\n",
      "Doing model_output/scenarios/U-r15-t250000-id10-sus-107_180.csv\n",
      "Doing model_output/scenarios/L-r15-t250000-id11-sus-107_180.csv\n",
      "Doing model_output/scenarios/U-r1-t479700-id12-sus-107_180.csv\n",
      "Doing model_output/scenarios/L-r1-t479700-id13-sus-107_180.csv\n",
      "Doing model_output/scenarios/U-r2-t479700-id14-sus-107_180.csv\n",
      "Doing model_output/scenarios/L-r2-t479700-id15-sus-107_180.csv\n",
      "Doing model_output/scenarios/U-r15-t479700-id16-sus-107_180.csv\n",
      "Doing model_output/scenarios/L-r15-t479700-id17-sus-107_180.csv\n",
      "Doing model_output/scenarios/U-r1-t1000000-id18-sus-107_180.csv\n",
      "Doing model_output/scenarios/L-r1-t1000000-id19-sus-107_180.csv\n",
      "Doing model_output/scenarios/U-r2-t1000000-id20-sus-107_180.csv\n",
      "Doing model_output/scenarios/L-r2-t1000000-id21-sus-107_180.csv\n",
      "Doing model_output/scenarios/U-r15-t1000000-id22-sus-107_180.csv\n",
      "Doing model_output/scenarios/L-r15-t1000000-id23-sus-107_180.csv\n",
      "Doing model_output/scenarios/U-r1-t2000000-id24-sus-107_180.csv\n",
      "Doing model_output/scenarios/L-r1-t2000000-id25-sus-107_180.csv\n",
      "Doing model_output/scenarios/U-r2-t2000000-id26-sus-107_180.csv\n",
      "Doing model_output/scenarios/L-r2-t2000000-id27-sus-107_180.csv\n",
      "Doing model_output/scenarios/U-r15-t2000000-id28-sus-107_180.csv\n",
      "Doing model_output/scenarios/L-r15-t2000000-id29-sus-107_180.csv\n"
     ]
    }
   ],
   "source": [
    "scn_results = pd.DataFrame(columns=['newdoseperweek', 'method', 'infected'])\n",
    "methods = ['opi','cas', 'pop', 'sus'] # 'opt'\n",
    "\n",
    "for met in methods:\n",
    "    for scenario_name, scenario in scenarios.items():\n",
    "        filename = f'model_output/scenarios/{scenario_name}-{met}-{nnodes}_{ndays}.csv'\n",
    "        if os.path.isfile(filename):\n",
    "            print(f'Doing {filename}')\n",
    "            maxvaccrate_regional, stockpile_national, stockpile_national_constraint, control_initial = build_scenario(setup, scenario)\n",
    "            p.apply_epicourse(setup, scenario['beta_mult'])\n",
    "            \n",
    "            md = pd.read_csv(filename, index_col= 'date', parse_dates=True)\n",
    "            \n",
    "            dosesV = md[md['comp'] == 'vacc'].pivot(columns='placeID', values='value').to_numpy()\n",
    "\n",
    "            \n",
    "            eng.workspace['Vdoses'] = matlab.double(dosesV.tolist())\n",
    "            eng.workspace['beta_ratio'] = matlab.double(scenario['beta_mult'][0].tolist())\n",
    "            eng.run('main_script.m', nargout=0)\n",
    "            ens_exposed = np.array(eng.eval('ens_exposed_preprocess')).flatten()\n",
    "        \n",
    "            scn_results = pd.concat([scn_results, pd.DataFrame.from_dict({'newdoseperweek':[int(scenario_name.split('-')[2][1:])]*len(ens_exposed),\n",
    "                                                                           'method': [met]*len(ens_exposed),\n",
    "                                                                           'infected':ens_exposed.tolist(),\n",
    "                                                                           'post_sample':np.arange(len(ens_exposed)),\n",
    "                                                                           'doses': [dosesV.sum()]*len(ens_exposed),\n",
    "                                                                           'scenario-beta': [scenario_name.split('-')[0]]*len(ens_exposed),\n",
    "                                                                           'scenario-rate': [scenario_name.split('-')[1]]*len(ens_exposed),\n",
    "                                                                           'scenario-tot': [scenario_name.split('-')[2]]*len(ens_exposed),\n",
    "                                                                           'scenario': [scenario_name]*len(ens_exposed)\n",
    "                                                                         })])\n",
    "        else:\n",
    "            print(f'not found {scenario_name}')"
   ]
  },
  {
   "cell_type": "code",
   "execution_count": 10,
   "metadata": {
    "execution": {
     "iopub.execute_input": "2021-01-28T08:25:48.381782Z",
     "iopub.status.busy": "2021-01-28T08:25:48.381579Z",
     "iopub.status.idle": "2021-01-28T08:27:39.042032Z",
     "shell.execute_reply": "2021-01-28T08:27:39.041352Z",
     "shell.execute_reply.started": "2021-01-28T08:25:48.381758Z"
    }
   },
   "outputs": [
    {
     "name": "stdout",
     "output_type": "stream",
     "text": [
      "U-r1-t125000-id0\n",
      "L-r1-t125000-id1\n"
     ]
    }
   ],
   "source": [
    "scenarios_baseline = {}\n",
    "for scenario_name, scenario in scenarios.items():\n",
    "    if scenario_name.split('-')[0] not in scenarios_baseline:\n",
    "        print(scenario_name)\n",
    "\n",
    "        maxvaccrate_regional, stockpile_national, stockpile_national_constraint, control_initial = build_scenario(setup, scenario)\n",
    "        \n",
    "        p.apply_epicourse(setup, scenario['beta_mult'])\n",
    "\n",
    "\n",
    "        dosesV = np.zeros_like(dosesV)\n",
    "\n",
    "\n",
    "        eng.workspace['Vdoses'] = matlab.double(dosesV.tolist())\n",
    "        eng.workspace['beta_ratio'] = matlab.double(scenario['beta_mult'][0].tolist())\n",
    "        eng.run('main_script.m', nargout=0)\n",
    "        ens_exposed = np.array(eng.eval('ens_exposed_preprocess')).flatten()\n",
    "        \n",
    "        scenarios_baseline[scenario_name.split('-')[0]] = ens_exposed\n",
    "        "
   ]
  },
  {
   "cell_type": "code",
   "execution_count": 34,
   "metadata": {
    "execution": {
     "iopub.execute_input": "2021-01-28T09:47:56.046549Z",
     "iopub.status.busy": "2021-01-28T09:47:56.046322Z",
     "iopub.status.idle": "2021-01-28T09:47:56.054021Z",
     "shell.execute_reply": "2021-01-28T09:47:56.053311Z",
     "shell.execute_reply.started": "2021-01-28T09:47:56.046523Z"
    }
   },
   "outputs": [],
   "source": [
    "scn_results['bl'] = 0\n",
    "scn_results.loc[scn_results['scenario-beta'] == 'U', 'bl'] = np.tile(scenarios_baseline['U'],60)\n",
    "scn_results.loc[scn_results['scenario-beta'] == 'L', 'bl'] = np.tile(scenarios_baseline['L'],60)"
   ]
  },
  {
   "cell_type": "code",
   "execution_count": 41,
   "metadata": {
    "execution": {
     "iopub.execute_input": "2021-01-28T09:53:23.131570Z",
     "iopub.status.busy": "2021-01-28T09:53:23.131344Z",
     "iopub.status.idle": "2021-01-28T09:53:23.136181Z",
     "shell.execute_reply": "2021-01-28T09:53:23.135528Z",
     "shell.execute_reply.started": "2021-01-28T09:53:23.131544Z"
    }
   },
   "outputs": [],
   "source": [
    "scn_results['averted'] = scn_results['bl'] - scn_results['infected']\n",
    "scn_results['avertedpervacc'] = scn_results['averted']/scn_results['doses']"
   ]
  },
  {
   "cell_type": "code",
   "execution_count": 42,
   "metadata": {
    "execution": {
     "iopub.execute_input": "2021-01-28T09:53:25.000663Z",
     "iopub.status.busy": "2021-01-28T09:53:25.000465Z",
     "iopub.status.idle": "2021-01-28T09:53:25.121953Z",
     "shell.execute_reply": "2021-01-28T09:53:25.121403Z",
     "shell.execute_reply.started": "2021-01-28T09:53:25.000640Z"
    }
   },
   "outputs": [],
   "source": [
    "scn_results.to_csv('model_output/scenarios/all_summary.csv')"
   ]
  },
  {
   "cell_type": "code",
   "execution_count": 40,
   "metadata": {
    "execution": {
     "iopub.execute_input": "2021-01-28T09:53:06.702657Z",
     "iopub.status.busy": "2021-01-28T09:53:06.702431Z",
     "iopub.status.idle": "2021-01-28T09:53:06.724198Z",
     "shell.execute_reply": "2021-01-28T09:53:06.723466Z",
     "shell.execute_reply.started": "2021-01-28T09:53:06.702632Z"
    }
   },
   "outputs": [
    {
     "data": {
      "text/html": [
       "<div>\n",
       "<style scoped>\n",
       "    .dataframe tbody tr th:only-of-type {\n",
       "        vertical-align: middle;\n",
       "    }\n",
       "\n",
       "    .dataframe tbody tr th {\n",
       "        vertical-align: top;\n",
       "    }\n",
       "\n",
       "    .dataframe thead th {\n",
       "        text-align: right;\n",
       "    }\n",
       "</style>\n",
       "<table border=\"1\" class=\"dataframe\">\n",
       "  <thead>\n",
       "    <tr style=\"text-align: right;\">\n",
       "      <th></th>\n",
       "      <th>newdoseperweek</th>\n",
       "      <th>method</th>\n",
       "      <th>infected</th>\n",
       "      <th>post_sample</th>\n",
       "      <th>doses</th>\n",
       "      <th>scenario-beta</th>\n",
       "      <th>scenario-rate</th>\n",
       "      <th>scenario-tot</th>\n",
       "      <th>scenario</th>\n",
       "      <th>bl</th>\n",
       "      <th>averted</th>\n",
       "    </tr>\n",
       "  </thead>\n",
       "  <tbody>\n",
       "    <tr>\n",
       "      <th>0</th>\n",
       "      <td>125000</td>\n",
       "      <td>opi</td>\n",
       "      <td>6.004858e+08</td>\n",
       "      <td>0.0</td>\n",
       "      <td>1.566664e+06</td>\n",
       "      <td>U</td>\n",
       "      <td>r1</td>\n",
       "      <td>t125000</td>\n",
       "      <td>U-r1-t125000-id0</td>\n",
       "      <td>6.101198e+08</td>\n",
       "      <td>9.634039e+06</td>\n",
       "    </tr>\n",
       "    <tr>\n",
       "      <th>1</th>\n",
       "      <td>125000</td>\n",
       "      <td>opi</td>\n",
       "      <td>1.025928e+09</td>\n",
       "      <td>1.0</td>\n",
       "      <td>1.566664e+06</td>\n",
       "      <td>U</td>\n",
       "      <td>r1</td>\n",
       "      <td>t125000</td>\n",
       "      <td>U-r1-t125000-id0</td>\n",
       "      <td>1.044931e+09</td>\n",
       "      <td>1.900305e+07</td>\n",
       "    </tr>\n",
       "    <tr>\n",
       "      <th>2</th>\n",
       "      <td>125000</td>\n",
       "      <td>opi</td>\n",
       "      <td>6.361166e+08</td>\n",
       "      <td>2.0</td>\n",
       "      <td>1.566664e+06</td>\n",
       "      <td>U</td>\n",
       "      <td>r1</td>\n",
       "      <td>t125000</td>\n",
       "      <td>U-r1-t125000-id0</td>\n",
       "      <td>6.448196e+08</td>\n",
       "      <td>8.702985e+06</td>\n",
       "    </tr>\n",
       "    <tr>\n",
       "      <th>3</th>\n",
       "      <td>125000</td>\n",
       "      <td>opi</td>\n",
       "      <td>1.076014e+09</td>\n",
       "      <td>3.0</td>\n",
       "      <td>1.566664e+06</td>\n",
       "      <td>U</td>\n",
       "      <td>r1</td>\n",
       "      <td>t125000</td>\n",
       "      <td>U-r1-t125000-id0</td>\n",
       "      <td>1.094167e+09</td>\n",
       "      <td>1.815359e+07</td>\n",
       "    </tr>\n",
       "    <tr>\n",
       "      <th>4</th>\n",
       "      <td>125000</td>\n",
       "      <td>opi</td>\n",
       "      <td>6.857489e+08</td>\n",
       "      <td>4.0</td>\n",
       "      <td>1.566664e+06</td>\n",
       "      <td>U</td>\n",
       "      <td>r1</td>\n",
       "      <td>t125000</td>\n",
       "      <td>U-r1-t125000-id0</td>\n",
       "      <td>6.927140e+08</td>\n",
       "      <td>6.965141e+06</td>\n",
       "    </tr>\n",
       "    <tr>\n",
       "      <th>...</th>\n",
       "      <td>...</td>\n",
       "      <td>...</td>\n",
       "      <td>...</td>\n",
       "      <td>...</td>\n",
       "      <td>...</td>\n",
       "      <td>...</td>\n",
       "      <td>...</td>\n",
       "      <td>...</td>\n",
       "      <td>...</td>\n",
       "      <td>...</td>\n",
       "      <td>...</td>\n",
       "    </tr>\n",
       "    <tr>\n",
       "      <th>95</th>\n",
       "      <td>2000000</td>\n",
       "      <td>sus</td>\n",
       "      <td>1.316082e+08</td>\n",
       "      <td>95.0</td>\n",
       "      <td>2.499106e+07</td>\n",
       "      <td>L</td>\n",
       "      <td>r15</td>\n",
       "      <td>t2000000</td>\n",
       "      <td>L-r15-t2000000-id29</td>\n",
       "      <td>1.381956e+08</td>\n",
       "      <td>6.587377e+06</td>\n",
       "    </tr>\n",
       "    <tr>\n",
       "      <th>96</th>\n",
       "      <td>2000000</td>\n",
       "      <td>sus</td>\n",
       "      <td>1.126511e+08</td>\n",
       "      <td>96.0</td>\n",
       "      <td>2.499106e+07</td>\n",
       "      <td>L</td>\n",
       "      <td>r15</td>\n",
       "      <td>t2000000</td>\n",
       "      <td>L-r15-t2000000-id29</td>\n",
       "      <td>1.173939e+08</td>\n",
       "      <td>4.742858e+06</td>\n",
       "    </tr>\n",
       "    <tr>\n",
       "      <th>97</th>\n",
       "      <td>2000000</td>\n",
       "      <td>sus</td>\n",
       "      <td>1.412437e+08</td>\n",
       "      <td>97.0</td>\n",
       "      <td>2.499106e+07</td>\n",
       "      <td>L</td>\n",
       "      <td>r15</td>\n",
       "      <td>t2000000</td>\n",
       "      <td>L-r15-t2000000-id29</td>\n",
       "      <td>1.485987e+08</td>\n",
       "      <td>7.354985e+06</td>\n",
       "    </tr>\n",
       "    <tr>\n",
       "      <th>98</th>\n",
       "      <td>2000000</td>\n",
       "      <td>sus</td>\n",
       "      <td>1.321285e+08</td>\n",
       "      <td>98.0</td>\n",
       "      <td>2.499106e+07</td>\n",
       "      <td>L</td>\n",
       "      <td>r15</td>\n",
       "      <td>t2000000</td>\n",
       "      <td>L-r15-t2000000-id29</td>\n",
       "      <td>1.397171e+08</td>\n",
       "      <td>7.588535e+06</td>\n",
       "    </tr>\n",
       "    <tr>\n",
       "      <th>99</th>\n",
       "      <td>2000000</td>\n",
       "      <td>sus</td>\n",
       "      <td>1.600061e+08</td>\n",
       "      <td>99.0</td>\n",
       "      <td>2.499106e+07</td>\n",
       "      <td>L</td>\n",
       "      <td>r15</td>\n",
       "      <td>t2000000</td>\n",
       "      <td>L-r15-t2000000-id29</td>\n",
       "      <td>1.743373e+08</td>\n",
       "      <td>1.433121e+07</td>\n",
       "    </tr>\n",
       "  </tbody>\n",
       "</table>\n",
       "<p>12000 rows × 11 columns</p>\n",
       "</div>"
      ],
      "text/plain": [
       "   newdoseperweek method      infected  post_sample         doses  \\\n",
       "0          125000    opi  6.004858e+08          0.0  1.566664e+06   \n",
       "1          125000    opi  1.025928e+09          1.0  1.566664e+06   \n",
       "2          125000    opi  6.361166e+08          2.0  1.566664e+06   \n",
       "3          125000    opi  1.076014e+09          3.0  1.566664e+06   \n",
       "4          125000    opi  6.857489e+08          4.0  1.566664e+06   \n",
       "..            ...    ...           ...          ...           ...   \n",
       "95        2000000    sus  1.316082e+08         95.0  2.499106e+07   \n",
       "96        2000000    sus  1.126511e+08         96.0  2.499106e+07   \n",
       "97        2000000    sus  1.412437e+08         97.0  2.499106e+07   \n",
       "98        2000000    sus  1.321285e+08         98.0  2.499106e+07   \n",
       "99        2000000    sus  1.600061e+08         99.0  2.499106e+07   \n",
       "\n",
       "   scenario-beta scenario-rate scenario-tot             scenario  \\\n",
       "0              U            r1      t125000     U-r1-t125000-id0   \n",
       "1              U            r1      t125000     U-r1-t125000-id0   \n",
       "2              U            r1      t125000     U-r1-t125000-id0   \n",
       "3              U            r1      t125000     U-r1-t125000-id0   \n",
       "4              U            r1      t125000     U-r1-t125000-id0   \n",
       "..           ...           ...          ...                  ...   \n",
       "95             L           r15     t2000000  L-r15-t2000000-id29   \n",
       "96             L           r15     t2000000  L-r15-t2000000-id29   \n",
       "97             L           r15     t2000000  L-r15-t2000000-id29   \n",
       "98             L           r15     t2000000  L-r15-t2000000-id29   \n",
       "99             L           r15     t2000000  L-r15-t2000000-id29   \n",
       "\n",
       "              bl       averted  \n",
       "0   6.101198e+08  9.634039e+06  \n",
       "1   1.044931e+09  1.900305e+07  \n",
       "2   6.448196e+08  8.702985e+06  \n",
       "3   1.094167e+09  1.815359e+07  \n",
       "4   6.927140e+08  6.965141e+06  \n",
       "..           ...           ...  \n",
       "95  1.381956e+08  6.587377e+06  \n",
       "96  1.173939e+08  4.742858e+06  \n",
       "97  1.485987e+08  7.354985e+06  \n",
       "98  1.397171e+08  7.588535e+06  \n",
       "99  1.743373e+08  1.433121e+07  \n",
       "\n",
       "[12000 rows x 11 columns]"
      ]
     },
     "execution_count": 40,
     "metadata": {},
     "output_type": "execute_result"
    }
   ],
   "source": [
    "scn_results"
   ]
  },
  {
   "cell_type": "code",
   "execution_count": null,
   "metadata": {},
   "outputs": [],
   "source": []
  },
  {
   "cell_type": "code",
   "execution_count": null,
   "metadata": {},
   "outputs": [],
   "source": []
  },
  {
   "cell_type": "code",
   "execution_count": null,
   "metadata": {},
   "outputs": [],
   "source": []
  },
  {
   "cell_type": "code",
   "execution_count": null,
   "metadata": {},
   "outputs": [],
   "source": []
  },
  {
   "cell_type": "code",
   "execution_count": null,
   "metadata": {},
   "outputs": [],
   "source": []
  },
  {
   "cell_type": "code",
   "execution_count": 8,
   "metadata": {
    "execution": {
     "iopub.execute_input": "2021-01-28T08:18:00.705841Z",
     "iopub.status.busy": "2021-01-28T08:18:00.705669Z",
     "iopub.status.idle": "2021-01-28T08:18:00.784415Z",
     "shell.execute_reply": "2021-01-28T08:18:00.783774Z",
     "shell.execute_reply.started": "2021-01-28T08:18:00.705822Z"
    }
   },
   "outputs": [],
   "source": []
  },
  {
   "cell_type": "code",
   "execution_count": null,
   "metadata": {},
   "outputs": [],
   "source": []
  },
  {
   "cell_type": "code",
   "execution_count": null,
   "metadata": {},
   "outputs": [],
   "source": []
  },
  {
   "cell_type": "code",
   "execution_count": null,
   "metadata": {},
   "outputs": [],
   "source": []
  }
 ],
 "metadata": {
  "kernelspec": {
   "display_name": "Python (ocp-covid)",
   "language": "python",
   "name": "ocp-covid"
  },
  "language_info": {
   "codemirror_mode": {
    "name": "ipython",
    "version": 3
   },
   "file_extension": ".py",
   "mimetype": "text/x-python",
   "name": "python",
   "nbconvert_exporter": "python",
   "pygments_lexer": "ipython3",
   "version": "3.7.9"
  }
 },
 "nbformat": 4,
 "nbformat_minor": 4
}
