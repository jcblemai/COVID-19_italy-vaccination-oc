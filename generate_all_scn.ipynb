{
 "cells": [
  {
   "cell_type": "code",
   "execution_count": 8,
   "metadata": {
    "execution": {
     "iopub.execute_input": "2021-11-08T09:28:22.064687Z",
     "iopub.status.busy": "2021-11-08T09:28:22.064496Z",
     "iopub.status.idle": "2021-11-08T09:28:22.388819Z",
     "shell.execute_reply": "2021-11-08T09:28:22.388177Z",
     "shell.execute_reply.started": "2021-11-08T09:28:22.064665Z"
    },
    "tags": []
   },
   "outputs": [
    {
     "name": "stdout",
     "output_type": "stream",
     "text": [
      "Loaded Italy Provincial Setup with 107 nodes.\n",
      "Loaded Italy Provincial Setup with 107 nodes.\n"
     ]
    },
    {
     "data": {
      "text/plain": [
       "dict_keys(['U-r3-t479700-id0', 'L-r3-t479700-id1', 'U-r15-t125000-id2', 'L-r15-t125000-id3', 'U-r15-t250000-id4', 'L-r15-t250000-id5', 'U-r15-t479700-id6', 'L-r15-t479700-id7', 'U-r15-t1000000-id8', 'L-r15-t1000000-id9', 'U-r15-t1500000-id10', 'L-r15-t1500000-id11', 'U-r15-t2000000-id12', 'L-r15-t2000000-id13', 'U-r150-t479700-id14'])"
      ]
     },
     "execution_count": 8,
     "metadata": {},
     "output_type": "execute_result"
    }
   ],
   "source": [
    "import copy\n",
    "import matplotlib as mpl\n",
    "import matplotlib.pyplot as plt\n",
    "import numpy as np\n",
    "import pandas as pd\n",
    "import networkx\n",
    "from ItalySetup import ItalySetupProvinces\n",
    "from covidOCP import COVIDVaccinationOCP, COVIDParametersOCP\n",
    "from main import pick_scenario, build_scenario\n",
    "import seaborn as sns\n",
    "import datetime\n",
    "import pickle\n",
    "import os\n",
    "\n",
    "nx = 9\n",
    "states_names = ['S', 'E', 'P', 'I', 'A', 'Q', 'H', 'R', 'V']\n",
    "when = 'future-mobintime'\n",
    "file_prefix = f'week'\n",
    "outdir = 'helvetios-runs/2021-11-05-107_90/'\n",
    "\n",
    "generated_dir = 'model_output/2021-11-05'\n",
    "\n",
    "n_int_steps = 50\n",
    "nnodes = 107  # nodes\n",
    "ndays_ocp = 90\n",
    "ndays = 90\n",
    "\n",
    "setup = ItalySetupProvinces(nnodes, ndays, when)\n",
    "setup_ocp = ItalySetupProvinces(nnodes, ndays_ocp, when)\n",
    "M = setup.nnodes\n",
    "N = len(setup.model_days) - 1\n",
    "\n",
    "with open(f'italy-data/parameters_{nnodes}_{when}.pkl', 'rb') as inp:\n",
    "    p = pickle.load(inp)\n",
    "    \n",
    "os.makedirs(f'{generated_dir}', exist_ok=True)\n",
    "\n",
    "scenarios = {pick_scenario(setup, i)['name']:pick_scenario(setup, i) for i in np.arange(15)}\n",
    "scenarios.keys()"
   ]
  },
  {
   "cell_type": "code",
   "execution_count": 9,
   "metadata": {
    "execution": {
     "iopub.execute_input": "2021-11-08T09:28:26.903367Z",
     "iopub.status.busy": "2021-11-08T09:28:26.903179Z",
     "iopub.status.idle": "2021-11-08T09:28:26.906954Z",
     "shell.execute_reply": "2021-11-08T09:28:26.906362Z",
     "shell.execute_reply.started": "2021-11-08T09:28:26.903346Z"
    },
    "tags": []
   },
   "outputs": [
    {
     "name": "stdout",
     "output_type": "stream",
     "text": [
      "12\n"
     ]
    }
   ],
   "source": [
    "# Choose a subset of scenarios:\n",
    "pick = 'r15-'\n",
    "scenarios = {k:v for (k,v) in scenarios.items() if pick in k}\n",
    "print(len(scenarios))"
   ]
  },
  {
   "cell_type": "code",
   "execution_count": 10,
   "metadata": {
    "execution": {
     "iopub.execute_input": "2021-11-08T09:28:39.957839Z",
     "iopub.status.busy": "2021-11-08T09:28:39.957644Z",
     "iopub.status.idle": "2021-11-08T09:52:17.514822Z",
     "shell.execute_reply": "2021-11-08T09:52:17.514005Z",
     "shell.execute_reply.started": "2021-11-08T09:28:39.957818Z"
    },
    "tags": []
   },
   "outputs": [
    {
     "name": "stdout",
     "output_type": "stream",
     "text": [
      "YES helvetios-runs/2021-11-05-107_90/week-U-r15-t125000-id2-opt-107_90.csv\n"
     ]
    },
    {
     "name": "stderr",
     "output_type": "stream",
     "text": [
      "  1%|          | 1/89 [00:00<00:22,  3.86it/s]"
     ]
    },
    {
     "name": "stdout",
     "output_type": "stream",
     "text": [
      "===> Integrating for model_output/2021-11-05/U-r15-t125000-id2-opi-107_90\n"
     ]
    },
    {
     "name": "stderr",
     "output_type": "stream",
     "text": [
      "100%|██████████| 89/89 [00:24<00:00,  3.69it/s]\n",
      "  1%|          | 1/89 [00:00<00:22,  3.94it/s]"
     ]
    },
    {
     "name": "stdout",
     "output_type": "stream",
     "text": [
      "--> DONE U-r15-t125000-id2\n",
      "===> Integrating for model_output/2021-11-05/U-r15-t125000-id2-novacc-107_90\n"
     ]
    },
    {
     "name": "stderr",
     "output_type": "stream",
     "text": [
      "100%|██████████| 89/89 [00:23<00:00,  3.80it/s]\n"
     ]
    },
    {
     "name": "stdout",
     "output_type": "stream",
     "text": [
      "YES helvetios-runs/2021-11-05-107_90/week-L-r15-t125000-id3-opt-107_90.csv\n"
     ]
    },
    {
     "name": "stderr",
     "output_type": "stream",
     "text": [
      "  1%|          | 1/89 [00:00<00:23,  3.77it/s]"
     ]
    },
    {
     "name": "stdout",
     "output_type": "stream",
     "text": [
      "===> Integrating for model_output/2021-11-05/L-r15-t125000-id3-opi-107_90\n"
     ]
    },
    {
     "name": "stderr",
     "output_type": "stream",
     "text": [
      "100%|██████████| 89/89 [00:23<00:00,  3.75it/s]\n",
      "  1%|          | 1/89 [00:00<00:22,  3.87it/s]"
     ]
    },
    {
     "name": "stdout",
     "output_type": "stream",
     "text": [
      "--> DONE L-r15-t125000-id3\n",
      "===> Integrating for model_output/2021-11-05/L-r15-t125000-id3-novacc-107_90\n"
     ]
    },
    {
     "name": "stderr",
     "output_type": "stream",
     "text": [
      "100%|██████████| 89/89 [00:24<00:00,  3.66it/s]\n"
     ]
    },
    {
     "name": "stdout",
     "output_type": "stream",
     "text": [
      "YES helvetios-runs/2021-11-05-107_90/week-U-r15-t250000-id4-opt-107_90.csv\n"
     ]
    },
    {
     "name": "stderr",
     "output_type": "stream",
     "text": [
      "  0%|          | 0/89 [00:00<?, ?it/s]"
     ]
    },
    {
     "name": "stdout",
     "output_type": "stream",
     "text": [
      "===> Integrating for model_output/2021-11-05/U-r15-t250000-id4-opi-107_90\n"
     ]
    },
    {
     "name": "stderr",
     "output_type": "stream",
     "text": [
      "100%|██████████| 89/89 [00:23<00:00,  3.85it/s]\n"
     ]
    },
    {
     "name": "stdout",
     "output_type": "stream",
     "text": [
      "--> DONE U-r15-t250000-id4\n",
      "YES helvetios-runs/2021-11-05-107_90/week-L-r15-t250000-id5-opt-107_90.csv\n"
     ]
    },
    {
     "name": "stderr",
     "output_type": "stream",
     "text": [
      "  1%|          | 1/89 [00:00<00:23,  3.72it/s]"
     ]
    },
    {
     "name": "stdout",
     "output_type": "stream",
     "text": [
      "===> Integrating for model_output/2021-11-05/L-r15-t250000-id5-opi-107_90\n"
     ]
    },
    {
     "name": "stderr",
     "output_type": "stream",
     "text": [
      "100%|██████████| 89/89 [00:23<00:00,  3.76it/s]\n"
     ]
    },
    {
     "name": "stdout",
     "output_type": "stream",
     "text": [
      "--> DONE L-r15-t250000-id5\n",
      "YES helvetios-runs/2021-11-05-107_90/week-U-r15-t479700-id6-opt-107_90.csv\n"
     ]
    },
    {
     "name": "stderr",
     "output_type": "stream",
     "text": [
      "  1%|          | 1/89 [00:00<00:21,  4.10it/s]"
     ]
    },
    {
     "name": "stdout",
     "output_type": "stream",
     "text": [
      "===> Integrating for model_output/2021-11-05/U-r15-t479700-id6-opi-107_90\n"
     ]
    },
    {
     "name": "stderr",
     "output_type": "stream",
     "text": [
      "100%|██████████| 89/89 [00:23<00:00,  3.74it/s]\n"
     ]
    },
    {
     "name": "stdout",
     "output_type": "stream",
     "text": [
      "--> DONE U-r15-t479700-id6\n",
      "YES helvetios-runs/2021-11-05-107_90/week-L-r15-t479700-id7-opt-107_90.csv\n"
     ]
    },
    {
     "name": "stderr",
     "output_type": "stream",
     "text": [
      "  1%|          | 1/89 [00:00<00:22,  3.94it/s]"
     ]
    },
    {
     "name": "stdout",
     "output_type": "stream",
     "text": [
      "===> Integrating for model_output/2021-11-05/L-r15-t479700-id7-opi-107_90\n"
     ]
    },
    {
     "name": "stderr",
     "output_type": "stream",
     "text": [
      "100%|██████████| 89/89 [00:23<00:00,  3.82it/s]\n"
     ]
    },
    {
     "name": "stdout",
     "output_type": "stream",
     "text": [
      "--> DONE L-r15-t479700-id7\n",
      "YES helvetios-runs/2021-11-05-107_90/week-U-r15-t1000000-id8-opt-107_90.csv\n"
     ]
    },
    {
     "name": "stderr",
     "output_type": "stream",
     "text": [
      "  1%|          | 1/89 [00:00<00:24,  3.58it/s]"
     ]
    },
    {
     "name": "stdout",
     "output_type": "stream",
     "text": [
      "===> Integrating for model_output/2021-11-05/U-r15-t1000000-id8-opi-107_90\n"
     ]
    },
    {
     "name": "stderr",
     "output_type": "stream",
     "text": [
      "100%|██████████| 89/89 [00:24<00:00,  3.61it/s]\n"
     ]
    },
    {
     "name": "stdout",
     "output_type": "stream",
     "text": [
      "--> DONE U-r15-t1000000-id8\n",
      "YES helvetios-runs/2021-11-05-107_90/week-L-r15-t1000000-id9-opt-107_90.csv\n"
     ]
    },
    {
     "name": "stderr",
     "output_type": "stream",
     "text": [
      "  1%|          | 1/89 [00:00<00:21,  4.01it/s]"
     ]
    },
    {
     "name": "stdout",
     "output_type": "stream",
     "text": [
      "===> Integrating for model_output/2021-11-05/L-r15-t1000000-id9-opi-107_90\n"
     ]
    },
    {
     "name": "stderr",
     "output_type": "stream",
     "text": [
      "100%|██████████| 89/89 [00:24<00:00,  3.69it/s]\n"
     ]
    },
    {
     "name": "stdout",
     "output_type": "stream",
     "text": [
      "--> DONE L-r15-t1000000-id9\n",
      "YES helvetios-runs/2021-11-05-107_90/week-U-r15-t1500000-id10-opt-107_90.csv\n"
     ]
    },
    {
     "name": "stderr",
     "output_type": "stream",
     "text": [
      "  0%|          | 0/89 [00:00<?, ?it/s]"
     ]
    },
    {
     "name": "stdout",
     "output_type": "stream",
     "text": [
      "===> Integrating for model_output/2021-11-05/U-r15-t1500000-id10-opi-107_90\n"
     ]
    },
    {
     "name": "stderr",
     "output_type": "stream",
     "text": [
      "100%|██████████| 89/89 [00:24<00:00,  3.61it/s]\n"
     ]
    },
    {
     "name": "stdout",
     "output_type": "stream",
     "text": [
      "--> DONE U-r15-t1500000-id10\n",
      "YES helvetios-runs/2021-11-05-107_90/week-L-r15-t1500000-id11-opt-107_90.csv\n"
     ]
    },
    {
     "name": "stderr",
     "output_type": "stream",
     "text": [
      "  0%|          | 0/89 [00:00<?, ?it/s]"
     ]
    },
    {
     "name": "stdout",
     "output_type": "stream",
     "text": [
      "===> Integrating for model_output/2021-11-05/L-r15-t1500000-id11-opi-107_90\n"
     ]
    },
    {
     "name": "stderr",
     "output_type": "stream",
     "text": [
      "100%|██████████| 89/89 [00:24<00:00,  3.63it/s]\n"
     ]
    },
    {
     "name": "stdout",
     "output_type": "stream",
     "text": [
      "--> DONE L-r15-t1500000-id11\n",
      "YES helvetios-runs/2021-11-05-107_90/week-U-r15-t2000000-id12-opt-107_90.csv\n"
     ]
    },
    {
     "name": "stderr",
     "output_type": "stream",
     "text": [
      "  1%|          | 1/89 [00:00<00:23,  3.80it/s]"
     ]
    },
    {
     "name": "stdout",
     "output_type": "stream",
     "text": [
      "===> Integrating for model_output/2021-11-05/U-r15-t2000000-id12-opi-107_90\n"
     ]
    },
    {
     "name": "stderr",
     "output_type": "stream",
     "text": [
      "100%|██████████| 89/89 [00:23<00:00,  3.84it/s]\n"
     ]
    },
    {
     "name": "stdout",
     "output_type": "stream",
     "text": [
      "--> DONE U-r15-t2000000-id12\n",
      "YES helvetios-runs/2021-11-05-107_90/week-L-r15-t2000000-id13-opt-107_90.csv\n"
     ]
    },
    {
     "name": "stderr",
     "output_type": "stream",
     "text": [
      "  1%|          | 1/89 [00:00<00:21,  4.07it/s]"
     ]
    },
    {
     "name": "stdout",
     "output_type": "stream",
     "text": [
      "===> Integrating for model_output/2021-11-05/L-r15-t2000000-id13-opi-107_90\n"
     ]
    },
    {
     "name": "stderr",
     "output_type": "stream",
     "text": [
      "100%|██████████| 89/89 [00:22<00:00,  3.88it/s]\n"
     ]
    },
    {
     "name": "stdout",
     "output_type": "stream",
     "text": [
      "--> DONE L-r15-t2000000-id13\n"
     ]
    }
   ],
   "source": [
    "scenarios_opt = {}\n",
    "scenarios_baseline = {}\n",
    "## Re-integrate vacc\n",
    "for scenario_name, scenario in scenarios.items():\n",
    "    fname = f\"{outdir}{file_prefix}-{scenario_name}-opt-{nnodes}_{ndays_ocp}.csv\"  # '-'.join(scenario_name.split('-')[:-1])\n",
    "    try:\n",
    "        md = pd.read_csv(fname, index_col= 'date', parse_dates=True)\n",
    "        print(f'YES {fname}')\n",
    "    \n",
    "        # Build scenario\n",
    "        maxvaccrate_regional, delivery_national, stockpile_national_constraint, control_initial = build_scenario(setup, scenario)\n",
    "        M = setup.nnodes\n",
    "        N = setup.ndays - 1\n",
    "        control_initial = np.zeros((M, N))\n",
    "        unvac_nd = np.copy(setup.pop_node)\n",
    "        stockpile = 0\n",
    "        for k in range(ndays_ocp - 1):\n",
    "            stockpile += delivery_national[k]\n",
    "            for nodename in md.place.unique():\n",
    "                nd = setup.ind2name.index(nodename)\n",
    "                to_allocate = md[(md['place'] == nodename) & (md['comp'] == 'vacc')].iloc[k]['value']\n",
    "                to_allocate = min(to_allocate, maxvaccrate_regional[nd, k], unvac_nd[nd], stockpile)\n",
    "                control_initial[nd, k] = to_allocate\n",
    "                stockpile -= to_allocate\n",
    "                unvac_nd[nd] -= to_allocate\n",
    "        p.apply_epicourse(setup, scenario['beta_mult'])\n",
    "        # END Build scenario\n",
    "\n",
    "        results, state_initial, yell, mob = COVIDVaccinationOCP.integrate(N,\n",
    "                                                                          setup=setup,\n",
    "                                                                          parameters=p,\n",
    "                                                                          controls=control_initial,\n",
    "                                                                          save_to=f'{generated_dir}/{scenario_name}-opi-{nnodes}_{ndays}',\n",
    "                                                                          n_rk4_steps=n_int_steps)\n",
    "        results.set_index('date', drop=True, inplace=True)\n",
    "        scenarios_opt[scenario_name] = scenario\n",
    "        print(f'--> DONE {scenario_name}')\n",
    "\n",
    "        if scenario_name.split('-')[0] not in scenarios_baseline:\n",
    "            control_initial = np.zeros((M, N))\n",
    "            # Generate NO vaccination scenarios\n",
    "            results, state_initial, yell, mob = COVIDVaccinationOCP.integrate(N,\n",
    "                                                                      setup=setup,\n",
    "                                                                      parameters=p,\n",
    "                                                                      controls=control_initial,\n",
    "                                                                      save_to=f'{generated_dir}/{scenario_name}-novacc-{nnodes}_{ndays}',\n",
    "                                                                      n_rk4_steps=n_int_steps)\n",
    "            scenarios_baseline[scenario_name.split('-')[0]] = pd.read_csv(f'{generated_dir}/{scenario_name}-novacc-{nnodes}_{ndays}.csv', \n",
    "                                                                         index_col= 'date', parse_dates=True)\n",
    "\n",
    "\n",
    "    except FileNotFoundError:\n",
    "        print(f'NOT {fname}')"
   ]
  },
  {
   "cell_type": "code",
   "execution_count": 25,
   "metadata": {
    "execution": {
     "iopub.execute_input": "2021-11-08T09:57:18.081434Z",
     "iopub.status.busy": "2021-11-08T09:57:18.081243Z",
     "iopub.status.idle": "2021-11-08T09:57:18.358337Z",
     "shell.execute_reply": "2021-11-08T09:57:18.357869Z",
     "shell.execute_reply.started": "2021-11-08T09:57:18.081412Z"
    },
    "tags": []
   },
   "outputs": [
    {
     "data": {
      "text/plain": [
       "['model_output/2021-11-05/L-r15-t125000-id3-novacc-107_90.csv',\n",
       " 'model_output/2021-11-05/U-r15-t125000-id2-novacc-107_90.csv']"
      ]
     },
     "execution_count": 25,
     "metadata": {},
     "output_type": "execute_result"
    }
   ],
   "source": [
    "# REload if restart because of python multiprocessing bug : https://github.com/jupyter/jupyter_client/issues/541\n",
    "import glob\n",
    "baseline_fn = glob.glob(f'{generated_dir}/*novacc*.csv')\n",
    "\n",
    "scenarios_baseline = {}\n",
    "for fn in baseline_fn:\n",
    "    scenarios_baseline[fn.split('-')[2][-1]] = pd.read_csv(fn, index_col= 'date', parse_dates=True)\n",
    "    md = pd.read_csv(fn, index_col= 'date', parse_dates=True)\n",
    "baseline_fn"
   ]
  },
  {
   "cell_type": "code",
   "execution_count": null,
   "metadata": {
    "tags": []
   },
   "outputs": [],
   "source": []
  },
  {
   "cell_type": "code",
   "execution_count": null,
   "metadata": {},
   "outputs": [],
   "source": []
  },
  {
   "cell_type": "code",
   "execution_count": 26,
   "metadata": {
    "execution": {
     "iopub.execute_input": "2021-11-08T09:57:21.620422Z",
     "iopub.status.busy": "2021-11-08T09:57:21.620227Z",
     "iopub.status.idle": "2021-11-08T09:57:21.735195Z",
     "shell.execute_reply": "2021-11-08T09:57:21.734466Z",
     "shell.execute_reply.started": "2021-11-08T09:57:21.620399Z"
    },
    "tags": []
   },
   "outputs": [],
   "source": [
    "def build_scenario_proportional(scenario_name, scenario, value_df, method_name):\n",
    "    #index of value df = node_name\n",
    "    maxvaccrate_regional, delivery_national, stockpile_national_constraint, control_initial = build_scenario(setup, scenario)\n",
    "    M = setup.nnodes\n",
    "    N = setup.ndays - 1\n",
    "    control_initial = np.zeros((M, N))\n",
    "    unvac_nd = np.copy(setup.pop_node)\n",
    "    stockpile = 0\n",
    "    for k in range(ndays_ocp-1):\n",
    "        stockpile += delivery_national[k]\n",
    "        for nodename in value_df.sort_values('value', ascending=False).index:\n",
    "            nd = setup.ind2name.index(nodename)\n",
    "            to_allocate = stockpile * value_df.loc[nodename]['value'] / value_df['value'].sum()\n",
    "            to_allocate = min(to_allocate, maxvaccrate_regional[nd, k], unvac_nd[nd], stockpile)\n",
    "            control_initial[nd, k] = to_allocate\n",
    "            stockpile -= to_allocate\n",
    "            unvac_nd[nd] -= to_allocate\n",
    "    p.apply_epicourse(setup, scenario['beta_mult'])\n",
    "    # END Build scenario\n",
    "\n",
    "    results, state_initial, yell, mob = COVIDVaccinationOCP.integrate(N,\n",
    "                                                                      setup=setup,\n",
    "                                                                      parameters=p,\n",
    "                                                                      controls=control_initial,\n",
    "                                                                      save_to=f'{generated_dir}/{scenario_name}-{method_name}-{nnodes}_{ndays}',\n",
    "                                                                      n_rk4_steps=n_int_steps)\n",
    "    results.set_index('date', drop=True, inplace=True)\n",
    "\n",
    "\n",
    "def build_scenario_focused(scenario_name, scenario, value_df, method_name):\n",
    "    # index of value_df is node_name\n",
    "    # Build scenario\n",
    "    maxvaccrate_regional, delivery_national, stockpile_national_constraint, control_initial = build_scenario(setup, scenario)\n",
    "    M = setup.nnodes\n",
    "    N = setup.ndays - 1\n",
    "    control_initial = np.zeros((M, N))\n",
    "    unvac_nd = np.copy(setup.pop_node)\n",
    "    stockpile = 0\n",
    "    for k in range(ndays_ocp-1):\n",
    "        stockpile += delivery_national[k]\n",
    "        for nodename in value_df.index:\n",
    "            nd = setup.ind2name.index(nodename)\n",
    "            to_allocate = maxvaccrate_regional[nd, k]\n",
    "            to_allocate = min(to_allocate, maxvaccrate_regional[nd, k], unvac_nd[nd], stockpile)\n",
    "            control_initial[nd, k] = to_allocate\n",
    "            stockpile -= to_allocate\n",
    "            unvac_nd[nd] -= to_allocate\n",
    "    p.apply_epicourse(setup, scenario['beta_mult'])\n",
    "    # END Build scenario    \n",
    "    results, state_initial, yell, mob = COVIDVaccinationOCP.integrate(N,\n",
    "                                                                      setup=setup,\n",
    "                                                                      parameters=p,\n",
    "                                                                      controls=control_initial,\n",
    "                                                                      save_to=f'{generated_dir}/{scenario_name}-{method_name}-{nnodes}_{ndays}',\n",
    "                                                                      n_rk4_steps=n_int_steps)\n",
    "    results.set_index('date', drop=True, inplace=True)\n",
    "\n",
    "\n",
    "def generate_all_alternatives(scenario_name, scenario):\n",
    "    \n",
    "    nv = scenarios_baseline[scenario_name.split('-')[0]]\n",
    "    \n",
    "    pop_node_df = pd.DataFrame(setup.pop_node, index=setup.ind2name, columns=['value'])\n",
    "    \n",
    "    incid = nv[nv['comp'].isin(['yell'])].groupby('place').sum()\n",
    "    incidpop = incid/pop_node_df\n",
    "    incid.sort_values('value', ascending=False, inplace=True)\n",
    "    incidpop.sort_values('value', ascending=False, inplace=True)\n",
    "    \n",
    "    suscep = nv[nv['comp'].isin(['S'])].loc[str(setup.start_date)]\n",
    "    suscep.set_index('place', inplace=True)\n",
    "    susceppop = suscep/pop_node_df\n",
    "    suscep.sort_values('value', ascending=False, inplace=True)\n",
    "    susceppop.sort_values('value', ascending=False, inplace=True)\n",
    "    \n",
    "    pop_node_df.sort_values('value', ascending=False, inplace=True)\n",
    "\n",
    "    # BY INCIDENCE\n",
    "    build_scenario_focused(scenario_name=scenario_name, scenario=scenario, value_df=incid, method_name='finc');\n",
    "    build_scenario_proportional(scenario_name=scenario_name, scenario=scenario, value_df=incid, method_name='pinc');\n",
    "    \n",
    "    # BY susceptibilty\n",
    "    build_scenario_focused(scenario_name=scenario_name, scenario=scenario, value_df=suscep, method_name='fsus');\n",
    "    build_scenario_proportional(scenario_name=scenario_name, scenario=scenario, value_df=suscep, method_name='psus');\n",
    "    \n",
    "    # same but perpop\n",
    "    build_scenario_focused(scenario_name=scenario_name, scenario=scenario, value_df=incidpop, method_name='fincpp');\n",
    "    build_scenario_proportional(scenario_name=scenario_name, scenario=scenario, value_df=incidpop, method_name='pincpp');\n",
    "    build_scenario_focused(scenario_name=scenario_name, scenario=scenario, value_df=susceppop, method_name='fsuspp');\n",
    "    build_scenario_proportional(scenario_name=scenario_name, scenario=scenario, value_df=susceppop, method_name='psuspp');\n",
    "    \n",
    "    # BY POPULATION \n",
    "    build_scenario_proportional(scenario_name=scenario_name, scenario=scenario, value_df=pop_node_df, method_name='ppop');\n",
    "    build_scenario_focused(scenario_name=scenario_name, scenario=scenario, value_df=pop_node_df, method_name='fpop');\n",
    "\n",
    "    #TODO: Centrality based and R0 based\n",
    "    return True"
   ]
  },
  {
   "cell_type": "code",
   "execution_count": 27,
   "metadata": {
    "execution": {
     "iopub.execute_input": "2021-11-08T09:57:27.832777Z",
     "iopub.status.busy": "2021-11-08T09:57:27.832582Z",
     "iopub.status.idle": "2021-11-08T09:57:27.835246Z",
     "shell.execute_reply": "2021-11-08T09:57:27.834534Z",
     "shell.execute_reply.started": "2021-11-08T09:57:27.832755Z"
    },
    "tags": []
   },
   "outputs": [],
   "source": [
    "#generate_all_alternatives(scenario_name, scenario)"
   ]
  },
  {
   "cell_type": "code",
   "execution_count": null,
   "metadata": {
    "tags": []
   },
   "outputs": [],
   "source": []
  },
  {
   "cell_type": "code",
   "execution_count": null,
   "metadata": {
    "tags": []
   },
   "outputs": [],
   "source": []
  },
  {
   "cell_type": "code",
   "execution_count": 28,
   "metadata": {
    "execution": {
     "iopub.execute_input": "2021-11-08T09:57:33.040998Z",
     "iopub.status.busy": "2021-11-08T09:57:33.040772Z",
     "iopub.status.idle": "2021-11-08T10:14:12.188066Z",
     "shell.execute_reply": "2021-11-08T10:14:12.186504Z",
     "shell.execute_reply.started": "2021-11-08T09:57:33.040972Z"
    },
    "scrolled": true,
    "tags": []
   },
   "outputs": [
    {
     "name": "stdout",
     "output_type": "stream",
     "text": [
      "===> Integrating for model_output/2021-11-05/U-r15-t125000-id2-finc-107_90\n"
     ]
    },
    {
     "name": "stderr",
     "output_type": "stream",
     "text": [
      "  0%|          | 0/89 [00:00<?, ?it/s]"
     ]
    },
    {
     "name": "stdout",
     "output_type": "stream",
     "text": [
      "===> Integrating for model_output/2021-11-05/L-r15-t1000000-id9-finc-107_90\n",
      "===> Integrating for model_output/2021-11-05/L-r15-t479700-id7-finc-107_90\n"
     ]
    },
    {
     "name": "stderr",
     "output_type": "stream",
     "text": [
      "  0%|          | 0/89 [00:00<?, ?it/s]"
     ]
    },
    {
     "name": "stdout",
     "output_type": "stream",
     "text": [
      "===> Integrating for model_output/2021-11-05/L-r15-t1500000-id11-finc-107_90===> Integrating for model_output/2021-11-05/U-r15-t1000000-id8-finc-107_90\n",
      "\n"
     ]
    },
    {
     "name": "stderr",
     "output_type": "stream",
     "text": [
      "  0%|          | 0/89 [00:00<?, ?it/s]"
     ]
    },
    {
     "name": "stdout",
     "output_type": "stream",
     "text": [
      "===> Integrating for model_output/2021-11-05/L-r15-t2000000-id13-finc-107_90"
     ]
    },
    {
     "name": "stderr",
     "output_type": "stream",
     "text": [
      "  0%|          | 0/89 [00:00<?, ?it/s]"
     ]
    },
    {
     "name": "stdout",
     "output_type": "stream",
     "text": [
      "\n",
      "===> Integrating for model_output/2021-11-05/L-r15-t250000-id5-finc-107_90"
     ]
    },
    {
     "name": "stderr",
     "output_type": "stream",
     "text": [
      "  0%|          | 0/89 [00:00<?, ?it/s]"
     ]
    },
    {
     "name": "stdout",
     "output_type": "stream",
     "text": [
      "===> Integrating for model_output/2021-11-05/L-r15-t125000-id3-finc-107_90\n",
      "\n"
     ]
    },
    {
     "name": "stderr",
     "output_type": "stream",
     "text": [
      "  0%|          | 0/89 [00:00<?, ?it/s]"
     ]
    },
    {
     "name": "stdout",
     "output_type": "stream",
     "text": [
      "===> Integrating for model_output/2021-11-05/U-r15-t2000000-id12-finc-107_90===> Integrating for model_output/2021-11-05/U-r15-t250000-id4-finc-107_90\n",
      "\n",
      "===> Integrating for model_output/2021-11-05/U-r15-t1500000-id10-finc-107_90"
     ]
    },
    {
     "name": "stderr",
     "output_type": "stream",
     "text": [
      "  0%|          | 0/89 [00:00<?, ?it/s]"
     ]
    },
    {
     "name": "stdout",
     "output_type": "stream",
     "text": [
      "\n"
     ]
    },
    {
     "name": "stderr",
     "output_type": "stream",
     "text": [
      "  0%|          | 0/89 [00:00<?, ?it/s]"
     ]
    },
    {
     "name": "stdout",
     "output_type": "stream",
     "text": [
      "===> Integrating for model_output/2021-11-05/U-r15-t479700-id6-finc-107_90\n"
     ]
    },
    {
     "name": "stderr",
     "output_type": "stream",
     "text": [
      "100%|██████████| 89/89 [00:45<00:00,  1.95it/s]\n",
      "100%|██████████| 89/89 [00:45<00:00,  1.95it/s]\n",
      "100%|██████████| 89/89 [00:45<00:00,  1.94it/s]\n",
      "100%|██████████| 89/89 [00:45<00:00,  1.94it/s]\n",
      "100%|██████████| 89/89 [00:46<00:00,  1.93it/s]\n",
      "100%|██████████| 89/89 [00:46<00:00,  1.93it/s]\n",
      "100%|██████████| 89/89 [00:46<00:00,  1.93it/s]\n",
      "100%|██████████| 89/89 [00:46<00:00,  1.92it/s]\n",
      "100%|██████████| 89/89 [00:46<00:00,  1.92it/s]\n",
      "100%|██████████| 89/89 [00:46<00:00,  1.90it/s]\n",
      "100%|██████████| 89/89 [00:47<00:00,  1.89it/s]\n",
      "100%|██████████| 89/89 [00:47<00:00,  1.89it/s]\n"
     ]
    },
    {
     "name": "stdout",
     "output_type": "stream",
     "text": [
      "===> Integrating for model_output/2021-11-05/U-r15-t125000-id2-pinc-107_90\n"
     ]
    },
    {
     "name": "stderr",
     "output_type": "stream",
     "text": [
      "  0%|          | 0/89 [00:00<?, ?it/s]"
     ]
    },
    {
     "name": "stdout",
     "output_type": "stream",
     "text": [
      "===> Integrating for model_output/2021-11-05/L-r15-t125000-id3-pinc-107_90\n"
     ]
    },
    {
     "name": "stderr",
     "output_type": "stream",
     "text": [
      "  0%|          | 0/89 [00:00<?, ?it/s]"
     ]
    },
    {
     "name": "stdout",
     "output_type": "stream",
     "text": [
      "===> Integrating for model_output/2021-11-05/U-r15-t2000000-id12-pinc-107_90\n"
     ]
    },
    {
     "name": "stderr",
     "output_type": "stream",
     "text": [
      "  1%|          | 1/89 [00:00<00:51,  1.72it/s]"
     ]
    },
    {
     "name": "stdout",
     "output_type": "stream",
     "text": [
      "===> Integrating for model_output/2021-11-05/U-r15-t250000-id4-pinc-107_90\n"
     ]
    },
    {
     "name": "stderr",
     "output_type": "stream",
     "text": [
      "  0%|          | 0/89 [00:00<?, ?it/s]"
     ]
    },
    {
     "name": "stdout",
     "output_type": "stream",
     "text": [
      "===> Integrating for model_output/2021-11-05/L-r15-t1500000-id11-pinc-107_90\n"
     ]
    },
    {
     "name": "stderr",
     "output_type": "stream",
     "text": [
      "  1%|          | 1/89 [00:00<00:47,  1.85it/s]"
     ]
    },
    {
     "name": "stdout",
     "output_type": "stream",
     "text": [
      "===> Integrating for model_output/2021-11-05/U-r15-t479700-id6-pinc-107_90\n"
     ]
    },
    {
     "name": "stderr",
     "output_type": "stream",
     "text": [
      "  0%|          | 0/89 [00:00<?, ?it/s]"
     ]
    },
    {
     "name": "stdout",
     "output_type": "stream",
     "text": [
      "===> Integrating for model_output/2021-11-05/L-r15-t250000-id5-pinc-107_90\n"
     ]
    },
    {
     "name": "stderr",
     "output_type": "stream",
     "text": [
      "  1%|          | 1/89 [00:00<00:54,  1.63it/s]"
     ]
    },
    {
     "name": "stdout",
     "output_type": "stream",
     "text": [
      "===> Integrating for model_output/2021-11-05/L-r15-t2000000-id13-pinc-107_90\n"
     ]
    },
    {
     "name": "stderr",
     "output_type": "stream",
     "text": [
      "  1%|          | 1/89 [00:00<00:48,  1.81it/s]"
     ]
    },
    {
     "name": "stdout",
     "output_type": "stream",
     "text": [
      "===> Integrating for model_output/2021-11-05/U-r15-t1000000-id8-pinc-107_90\n"
     ]
    },
    {
     "name": "stderr",
     "output_type": "stream",
     "text": [
      "  1%|          | 1/89 [00:00<00:51,  1.72it/s]"
     ]
    },
    {
     "name": "stdout",
     "output_type": "stream",
     "text": [
      "===> Integrating for model_output/2021-11-05/L-r15-t479700-id7-pinc-107_90\n"
     ]
    },
    {
     "name": "stderr",
     "output_type": "stream",
     "text": [
      "  1%|          | 1/89 [00:00<00:47,  1.84it/s]"
     ]
    },
    {
     "name": "stdout",
     "output_type": "stream",
     "text": [
      "===> Integrating for model_output/2021-11-05/L-r15-t1000000-id9-pinc-107_90\n"
     ]
    },
    {
     "name": "stderr",
     "output_type": "stream",
     "text": [
      "  0%|          | 0/89 [00:00<?, ?it/s]"
     ]
    },
    {
     "name": "stdout",
     "output_type": "stream",
     "text": [
      "===> Integrating for model_output/2021-11-05/U-r15-t1500000-id10-pinc-107_90\n"
     ]
    },
    {
     "name": "stderr",
     "output_type": "stream",
     "text": [
      "100%|██████████| 89/89 [00:49<00:00,  1.80it/s]\n",
      "100%|██████████| 89/89 [00:50<00:00,  1.78it/s]\n",
      "100%|██████████| 89/89 [00:49<00:00,  1.79it/s]\n",
      "100%|██████████| 89/89 [00:50<00:00,  1.77it/s]\n",
      "100%|██████████| 89/89 [00:50<00:00,  1.78it/s]\n",
      "100%|██████████| 89/89 [00:50<00:00,  1.76it/s]\n",
      "100%|██████████| 89/89 [00:50<00:00,  1.77it/s]\n",
      "100%|██████████| 89/89 [00:50<00:00,  1.77it/s]\n",
      "100%|██████████| 89/89 [00:50<00:00,  1.76it/s]\n",
      "100%|██████████| 89/89 [00:50<00:00,  1.76it/s]\n",
      "100%|██████████| 89/89 [00:51<00:00,  1.74it/s]\n",
      "100%|██████████| 89/89 [00:50<00:00,  1.75it/s]\n"
     ]
    },
    {
     "name": "stdout",
     "output_type": "stream",
     "text": [
      "===> Integrating for model_output/2021-11-05/L-r15-t125000-id3-fsus-107_90\n"
     ]
    },
    {
     "name": "stderr",
     "output_type": "stream",
     "text": [
      "  0%|          | 0/89 [00:00<?, ?it/s]"
     ]
    },
    {
     "name": "stdout",
     "output_type": "stream",
     "text": [
      "===> Integrating for model_output/2021-11-05/U-r15-t125000-id2-fsus-107_90\n"
     ]
    },
    {
     "name": "stderr",
     "output_type": "stream",
     "text": [
      "  1%|          | 1/89 [00:00<00:49,  1.79it/s]"
     ]
    },
    {
     "name": "stdout",
     "output_type": "stream",
     "text": [
      "===> Integrating for model_output/2021-11-05/U-r15-t250000-id4-fsus-107_90\n"
     ]
    },
    {
     "name": "stderr",
     "output_type": "stream",
     "text": [
      "  1%|          | 1/89 [00:00<00:53,  1.64it/s]"
     ]
    },
    {
     "name": "stdout",
     "output_type": "stream",
     "text": [
      "===> Integrating for model_output/2021-11-05/L-r15-t1500000-id11-fsus-107_90\n"
     ]
    },
    {
     "name": "stderr",
     "output_type": "stream",
     "text": [
      "  0%|          | 0/89 [00:00<?, ?it/s]"
     ]
    },
    {
     "name": "stdout",
     "output_type": "stream",
     "text": [
      "===> Integrating for model_output/2021-11-05/U-r15-t479700-id6-fsus-107_90\n"
     ]
    },
    {
     "name": "stderr",
     "output_type": "stream",
     "text": [
      "  3%|▎         | 3/89 [00:01<00:51,  1.67it/s]"
     ]
    },
    {
     "name": "stdout",
     "output_type": "stream",
     "text": [
      "===> Integrating for model_output/2021-11-05/L-r15-t250000-id5-fsus-107_90\n"
     ]
    },
    {
     "name": "stderr",
     "output_type": "stream",
     "text": [
      "  0%|          | 0/89 [00:00<?, ?it/s]"
     ]
    },
    {
     "name": "stdout",
     "output_type": "stream",
     "text": [
      "===> Integrating for model_output/2021-11-05/U-r15-t2000000-id12-fsus-107_90\n"
     ]
    },
    {
     "name": "stderr",
     "output_type": "stream",
     "text": [
      "  1%|          | 1/89 [00:00<00:54,  1.60it/s]"
     ]
    },
    {
     "name": "stdout",
     "output_type": "stream",
     "text": [
      "===> Integrating for model_output/2021-11-05/U-r15-t1000000-id8-fsus-107_90\n"
     ]
    },
    {
     "name": "stderr",
     "output_type": "stream",
     "text": [
      "  6%|▌         | 5/89 [00:03<00:50,  1.67it/s]"
     ]
    },
    {
     "name": "stdout",
     "output_type": "stream",
     "text": [
      "===> Integrating for model_output/2021-11-05/L-r15-t1000000-id9-fsus-107_90\n"
     ]
    },
    {
     "name": "stderr",
     "output_type": "stream",
     "text": [
      "  4%|▍         | 4/89 [00:02<00:52,  1.63it/s]"
     ]
    },
    {
     "name": "stdout",
     "output_type": "stream",
     "text": [
      "===> Integrating for model_output/2021-11-05/L-r15-t479700-id7-fsus-107_90\n"
     ]
    },
    {
     "name": "stderr",
     "output_type": "stream",
     "text": [
      "  0%|          | 0/89 [00:00<?, ?it/s]"
     ]
    },
    {
     "name": "stdout",
     "output_type": "stream",
     "text": [
      "===> Integrating for model_output/2021-11-05/L-r15-t2000000-id13-fsus-107_90\n"
     ]
    },
    {
     "name": "stderr",
     "output_type": "stream",
     "text": [
      "  6%|▌         | 5/89 [00:03<00:53,  1.58it/s]"
     ]
    },
    {
     "name": "stdout",
     "output_type": "stream",
     "text": [
      "===> Integrating for model_output/2021-11-05/U-r15-t1500000-id10-fsus-107_90\n"
     ]
    },
    {
     "name": "stderr",
     "output_type": "stream",
     "text": [
      "100%|██████████| 89/89 [00:56<00:00,  1.56it/s]\n",
      "100%|██████████| 89/89 [00:57<00:00,  1.54it/s]\n",
      "100%|██████████| 89/89 [00:58<00:00,  1.53it/s]\n",
      "100%|██████████| 89/89 [00:57<00:00,  1.55it/s]\n",
      "100%|██████████| 89/89 [00:58<00:00,  1.53it/s]\n",
      "100%|██████████| 89/89 [00:58<00:00,  1.52it/s]\n",
      "100%|██████████| 89/89 [00:58<00:00,  1.52it/s]\n",
      "100%|██████████| 89/89 [00:58<00:00,  1.52it/s]\n",
      "100%|██████████| 89/89 [00:58<00:00,  1.52it/s]\n",
      "100%|██████████| 89/89 [00:58<00:00,  1.52it/s]\n",
      "100%|██████████| 89/89 [00:58<00:00,  1.52it/s]\n",
      "100%|██████████| 89/89 [00:58<00:00,  1.52it/s]\n"
     ]
    },
    {
     "name": "stdout",
     "output_type": "stream",
     "text": [
      "===> Integrating for model_output/2021-11-05/L-r15-t125000-id3-psus-107_90\n"
     ]
    },
    {
     "name": "stderr",
     "output_type": "stream",
     "text": [
      "  4%|▍         | 4/89 [00:02<00:52,  1.63it/s]"
     ]
    },
    {
     "name": "stdout",
     "output_type": "stream",
     "text": [
      "===> Integrating for model_output/2021-11-05/U-r15-t250000-id4-psus-107_90\n"
     ]
    },
    {
     "name": "stderr",
     "output_type": "stream",
     "text": [
      "  0%|          | 0/89 [00:00<?, ?it/s]"
     ]
    },
    {
     "name": "stdout",
     "output_type": "stream",
     "text": [
      "===> Integrating for model_output/2021-11-05/U-r15-t125000-id2-psus-107_90\n"
     ]
    },
    {
     "name": "stderr",
     "output_type": "stream",
     "text": [
      "  1%|          | 1/89 [00:00<00:54,  1.61it/s]"
     ]
    },
    {
     "name": "stdout",
     "output_type": "stream",
     "text": [
      "===> Integrating for model_output/2021-11-05/U-r15-t479700-id6-psus-107_90\n"
     ]
    },
    {
     "name": "stderr",
     "output_type": "stream",
     "text": [
      "  2%|▏         | 2/89 [00:01<00:51,  1.69it/s]"
     ]
    },
    {
     "name": "stdout",
     "output_type": "stream",
     "text": [
      "===> Integrating for model_output/2021-11-05/L-r15-t1500000-id11-psus-107_90\n"
     ]
    },
    {
     "name": "stderr",
     "output_type": "stream",
     "text": [
      "  3%|▎         | 3/89 [00:01<00:51,  1.68it/s]"
     ]
    },
    {
     "name": "stdout",
     "output_type": "stream",
     "text": [
      "===> Integrating for model_output/2021-11-05/L-r15-t250000-id5-psus-107_90\n"
     ]
    },
    {
     "name": "stderr",
     "output_type": "stream",
     "text": [
      "  6%|▌         | 5/89 [00:03<00:50,  1.66it/s]"
     ]
    },
    {
     "name": "stdout",
     "output_type": "stream",
     "text": [
      "===> Integrating for model_output/2021-11-05/U-r15-t1000000-id8-psus-107_90\n"
     ]
    },
    {
     "name": "stderr",
     "output_type": "stream",
     "text": [
      "  0%|          | 0/89 [00:00<?, ?it/s]"
     ]
    },
    {
     "name": "stdout",
     "output_type": "stream",
     "text": [
      "===> Integrating for model_output/2021-11-05/U-r15-t2000000-id12-psus-107_90\n"
     ]
    },
    {
     "name": "stderr",
     "output_type": "stream",
     "text": [
      "  0%|          | 0/89 [00:00<?, ?it/s]"
     ]
    },
    {
     "name": "stdout",
     "output_type": "stream",
     "text": [
      "===> Integrating for model_output/2021-11-05/L-r15-t1000000-id9-psus-107_90\n"
     ]
    },
    {
     "name": "stderr",
     "output_type": "stream",
     "text": [
      "  0%|          | 0/89 [00:00<?, ?it/s].65it/s]"
     ]
    },
    {
     "name": "stdout",
     "output_type": "stream",
     "text": [
      "===> Integrating for model_output/2021-11-05/L-r15-t2000000-id13-psus-107_90\n"
     ]
    },
    {
     "name": "stderr",
     "output_type": "stream",
     "text": [
      "  0%|          | 0/89 [00:00<?, ?it/s]"
     ]
    },
    {
     "name": "stdout",
     "output_type": "stream",
     "text": [
      "===> Integrating for model_output/2021-11-05/L-r15-t479700-id7-psus-107_90\n"
     ]
    },
    {
     "name": "stderr",
     "output_type": "stream",
     "text": [
      "  2%|▏         | 2/89 [00:01<00:52,  1.65it/s]"
     ]
    },
    {
     "name": "stdout",
     "output_type": "stream",
     "text": [
      "===> Integrating for model_output/2021-11-05/U-r15-t1500000-id10-psus-107_90\n"
     ]
    },
    {
     "name": "stderr",
     "output_type": "stream",
     "text": [
      "100%|██████████| 89/89 [00:59<00:00,  1.51it/s]\n",
      "100%|██████████| 89/89 [00:59<00:00,  1.49it/s]\n",
      "100%|██████████| 89/89 [00:59<00:00,  1.49it/s]\n",
      "100%|██████████| 89/89 [00:59<00:00,  1.49it/s]\n",
      "100%|██████████| 89/89 [01:00<00:00,  1.46it/s]\n",
      "100%|██████████| 89/89 [01:00<00:00,  1.48it/s]\n",
      "100%|██████████| 89/89 [01:00<00:00,  1.48it/s]\n",
      "100%|██████████| 89/89 [01:00<00:00,  1.47it/s]\n",
      "100%|██████████| 89/89 [01:00<00:00,  1.47it/s]\n",
      "100%|██████████| 89/89 [01:00<00:00,  1.47it/s]\n",
      "100%|██████████| 89/89 [01:00<00:00,  1.46it/s]\n",
      "100%|██████████| 89/89 [01:00<00:00,  1.46it/s]\n"
     ]
    },
    {
     "name": "stdout",
     "output_type": "stream",
     "text": [
      "===> Integrating for model_output/2021-11-05/L-r15-t125000-id3-fincpp-107_90\n"
     ]
    },
    {
     "name": "stderr",
     "output_type": "stream",
     "text": [
      "  7%|▋         | 6/89 [00:03<00:51,  1.60it/s]"
     ]
    },
    {
     "name": "stdout",
     "output_type": "stream",
     "text": [
      "===> Integrating for model_output/2021-11-05/U-r15-t250000-id4-fincpp-107_90\n"
     ]
    },
    {
     "name": "stderr",
     "output_type": "stream",
     "text": [
      "  0%|          | 0/89 [00:00<?, ?it/s]"
     ]
    },
    {
     "name": "stdout",
     "output_type": "stream",
     "text": [
      "===> Integrating for model_output/2021-11-05/U-r15-t125000-id2-fincpp-107_90\n"
     ]
    },
    {
     "name": "stderr",
     "output_type": "stream",
     "text": [
      "  9%|▉         | 8/89 [00:05<00:51,  1.56it/s]"
     ]
    },
    {
     "name": "stdout",
     "output_type": "stream",
     "text": [
      "===> Integrating for model_output/2021-11-05/U-r15-t479700-id6-fincpp-107_90\n"
     ]
    },
    {
     "name": "stderr",
     "output_type": "stream",
     "text": [
      "  4%|▍         | 4/89 [00:02<00:53,  1.58it/s]]"
     ]
    },
    {
     "name": "stdout",
     "output_type": "stream",
     "text": [
      "===> Integrating for model_output/2021-11-05/L-r15-t1500000-id11-fincpp-107_90\n"
     ]
    },
    {
     "name": "stderr",
     "output_type": "stream",
     "text": [
      "  0%|          | 0/89 [00:00<?, ?it/s]"
     ]
    },
    {
     "name": "stdout",
     "output_type": "stream",
     "text": [
      "===> Integrating for model_output/2021-11-05/L-r15-t250000-id5-fincpp-107_90\n"
     ]
    },
    {
     "name": "stderr",
     "output_type": "stream",
     "text": [
      "  6%|▌         | 5/89 [00:03<00:52,  1.59it/s]]"
     ]
    },
    {
     "name": "stdout",
     "output_type": "stream",
     "text": [
      "===> Integrating for model_output/2021-11-05/U-r15-t2000000-id12-fincpp-107_90\n"
     ]
    },
    {
     "name": "stderr",
     "output_type": "stream",
     "text": [
      " 13%|█▎        | 12/89 [00:07<00:48,  1.58it/s]"
     ]
    },
    {
     "name": "stdout",
     "output_type": "stream",
     "text": [
      "===> Integrating for model_output/2021-11-05/L-r15-t1000000-id9-fincpp-107_90\n"
     ]
    },
    {
     "name": "stderr",
     "output_type": "stream",
     "text": [
      "  4%|▍         | 4/89 [00:02<00:53,  1.58it/s]"
     ]
    },
    {
     "name": "stdout",
     "output_type": "stream",
     "text": [
      "===> Integrating for model_output/2021-11-05/L-r15-t2000000-id13-fincpp-107_90\n"
     ]
    },
    {
     "name": "stderr",
     "output_type": "stream",
     "text": [
      "  7%|▋         | 6/89 [00:03<00:52,  1.57it/s]"
     ]
    },
    {
     "name": "stdout",
     "output_type": "stream",
     "text": [
      "===> Integrating for model_output/2021-11-05/L-r15-t479700-id7-fincpp-107_90\n"
     ]
    },
    {
     "name": "stderr",
     "output_type": "stream",
     "text": [
      "  1%|          | 1/89 [00:00<00:56,  1.55it/s]"
     ]
    },
    {
     "name": "stdout",
     "output_type": "stream",
     "text": [
      "===> Integrating for model_output/2021-11-05/U-r15-t1000000-id8-fincpp-107_90\n"
     ]
    },
    {
     "name": "stderr",
     "output_type": "stream",
     "text": [
      " 15%|█▍        | 13/89 [00:08<00:48,  1.57it/s]"
     ]
    },
    {
     "name": "stdout",
     "output_type": "stream",
     "text": [
      "===> Integrating for model_output/2021-11-05/U-r15-t1500000-id10-fincpp-107_90\n"
     ]
    },
    {
     "name": "stderr",
     "output_type": "stream",
     "text": [
      "100%|██████████| 89/89 [00:57<00:00,  1.55it/s]\n",
      "100%|██████████| 89/89 [00:57<00:00,  1.55it/s]\n",
      "100%|██████████| 89/89 [00:57<00:00,  1.54it/s]\n",
      "100%|██████████| 89/89 [00:57<00:00,  1.55it/s]\n",
      "100%|██████████| 89/89 [00:57<00:00,  1.55it/s]\n",
      "100%|██████████| 89/89 [00:58<00:00,  1.53it/s]\n",
      "100%|██████████| 89/89 [00:58<00:00,  1.53it/s]\n",
      "100%|██████████| 89/89 [00:57<00:00,  1.54it/s]\n",
      "100%|██████████| 89/89 [00:58<00:00,  1.53it/s]\n",
      "100%|██████████| 89/89 [00:58<00:00,  1.53it/s]\n",
      "100%|██████████| 89/89 [00:58<00:00,  1.52it/s]\n",
      "100%|██████████| 89/89 [00:59<00:00,  1.51it/s]\n"
     ]
    },
    {
     "name": "stdout",
     "output_type": "stream",
     "text": [
      "===> Integrating for model_output/2021-11-05/L-r15-t125000-id3-pincpp-107_90\n"
     ]
    },
    {
     "name": "stderr",
     "output_type": "stream",
     "text": [
      " 10%|█         | 9/89 [00:06<00:56,  1.41it/s]"
     ]
    },
    {
     "name": "stdout",
     "output_type": "stream",
     "text": [
      "===> Integrating for model_output/2021-11-05/U-r15-t250000-id4-pincpp-107_90\n"
     ]
    },
    {
     "name": "stderr",
     "output_type": "stream",
     "text": [
      "  0%|          | 0/89 [00:00<?, ?it/s]"
     ]
    },
    {
     "name": "stdout",
     "output_type": "stream",
     "text": [
      "===> Integrating for model_output/2021-11-05/U-r15-t125000-id2-pincpp-107_90\n"
     ]
    },
    {
     "name": "stderr",
     "output_type": "stream",
     "text": [
      "  1%|          | 1/89 [00:00<01:00,  1.46it/s]]"
     ]
    },
    {
     "name": "stdout",
     "output_type": "stream",
     "text": [
      "===> Integrating for model_output/2021-11-05/U-r15-t479700-id6-pincpp-107_90\n"
     ]
    },
    {
     "name": "stderr",
     "output_type": "stream",
     "text": [
      "  6%|▌         | 5/89 [00:03<00:59,  1.41it/s]]"
     ]
    },
    {
     "name": "stdout",
     "output_type": "stream",
     "text": [
      "===> Integrating for model_output/2021-11-05/L-r15-t1500000-id11-pincpp-107_90\n"
     ]
    },
    {
     "name": "stderr",
     "output_type": "stream",
     "text": [
      " 17%|█▋        | 15/89 [00:10<00:52,  1.42it/s]"
     ]
    },
    {
     "name": "stdout",
     "output_type": "stream",
     "text": [
      "===> Integrating for model_output/2021-11-05/L-r15-t250000-id5-pincpp-107_90\n"
     ]
    },
    {
     "name": "stderr",
     "output_type": "stream",
     "text": [
      "  6%|▌         | 5/89 [00:03<00:58,  1.43it/s]"
     ]
    },
    {
     "name": "stdout",
     "output_type": "stream",
     "text": [
      "===> Integrating for model_output/2021-11-05/L-r15-t1000000-id9-pincpp-107_90\n"
     ]
    },
    {
     "name": "stderr",
     "output_type": "stream",
     "text": [
      "  0%|          | 0/89 [00:00<?, ?it/s]"
     ]
    },
    {
     "name": "stdout",
     "output_type": "stream",
     "text": [
      "===> Integrating for model_output/2021-11-05/L-r15-t479700-id7-pincpp-107_90\n"
     ]
    },
    {
     "name": "stderr",
     "output_type": "stream",
     "text": [
      "  8%|▊         | 7/89 [00:04<00:56,  1.45it/s]]"
     ]
    },
    {
     "name": "stdout",
     "output_type": "stream",
     "text": [
      "===> Integrating for model_output/2021-11-05/U-r15-t1000000-id8-pincpp-107_90\n"
     ]
    },
    {
     "name": "stderr",
     "output_type": "stream",
     "text": [
      "  0%|          | 0/89 [00:00<?, ?it/s]"
     ]
    },
    {
     "name": "stdout",
     "output_type": "stream",
     "text": [
      "===> Integrating for model_output/2021-11-05/U-r15-t2000000-id12-pincpp-107_90\n"
     ]
    },
    {
     "name": "stderr",
     "output_type": "stream",
     "text": [
      "  7%|▋         | 6/89 [00:04<00:58,  1.41it/s]"
     ]
    },
    {
     "name": "stdout",
     "output_type": "stream",
     "text": [
      "===> Integrating for model_output/2021-11-05/L-r15-t2000000-id13-pincpp-107_90\n"
     ]
    },
    {
     "name": "stderr",
     "output_type": "stream",
     "text": [
      "  1%|          | 1/89 [00:00<01:04,  1.36it/s]]"
     ]
    },
    {
     "name": "stdout",
     "output_type": "stream",
     "text": [
      "===> Integrating for model_output/2021-11-05/U-r15-t1500000-id10-pincpp-107_90\n"
     ]
    },
    {
     "name": "stderr",
     "output_type": "stream",
     "text": [
      "100%|██████████| 89/89 [01:04<00:00,  1.37it/s]\n",
      "100%|██████████| 89/89 [01:05<00:00,  1.36it/s]\n",
      "100%|██████████| 89/89 [01:05<00:00,  1.36it/s]\n",
      "100%|██████████| 89/89 [01:05<00:00,  1.36it/s]\n",
      "100%|██████████| 89/89 [01:05<00:00,  1.36it/s]\n",
      "100%|██████████| 89/89 [01:05<00:00,  1.36it/s]\n",
      "100%|██████████| 89/89 [01:05<00:00,  1.37it/s]\n",
      "100%|██████████| 89/89 [01:05<00:00,  1.36it/s]\n",
      "100%|██████████| 89/89 [01:05<00:00,  1.37it/s]\n",
      "100%|██████████| 89/89 [01:05<00:00,  1.36it/s]\n",
      "100%|██████████| 89/89 [01:06<00:00,  1.35it/s]\n",
      "100%|██████████| 89/89 [01:05<00:00,  1.36it/s]\n"
     ]
    },
    {
     "name": "stdout",
     "output_type": "stream",
     "text": [
      "===> Integrating for model_output/2021-11-05/L-r15-t125000-id3-fsuspp-107_90\n"
     ]
    },
    {
     "name": "stderr",
     "output_type": "stream",
     "text": [
      " 13%|█▎        | 12/89 [00:08<00:54,  1.42it/s]"
     ]
    },
    {
     "name": "stdout",
     "output_type": "stream",
     "text": [
      "===> Integrating for model_output/2021-11-05/U-r15-t250000-id4-fsuspp-107_90\n"
     ]
    },
    {
     "name": "stderr",
     "output_type": "stream",
     "text": [
      " 15%|█▍        | 13/89 [00:09<00:52,  1.43it/s]"
     ]
    },
    {
     "name": "stdout",
     "output_type": "stream",
     "text": [
      "===> Integrating for model_output/2021-11-05/U-r15-t125000-id2-fsuspp-107_90\n"
     ]
    },
    {
     "name": "stderr",
     "output_type": "stream",
     "text": [
      "  2%|▏         | 2/89 [00:01<00:59,  1.46it/s]]"
     ]
    },
    {
     "name": "stdout",
     "output_type": "stream",
     "text": [
      "===> Integrating for model_output/2021-11-05/U-r15-t479700-id6-fsuspp-107_90\n"
     ]
    },
    {
     "name": "stderr",
     "output_type": "stream",
     "text": [
      "  6%|▌         | 5/89 [00:03<00:59,  1.40it/s]]"
     ]
    },
    {
     "name": "stdout",
     "output_type": "stream",
     "text": [
      "===> Integrating for model_output/2021-11-05/L-r15-t1500000-id11-fsuspp-107_90\n"
     ]
    },
    {
     "name": "stderr",
     "output_type": "stream",
     "text": [
      "  0%|          | 0/89 [00:00<?, ?it/s]"
     ]
    },
    {
     "name": "stdout",
     "output_type": "stream",
     "text": [
      "===> Integrating for model_output/2021-11-05/L-r15-t250000-id5-fsuspp-107_90\n"
     ]
    },
    {
     "name": "stderr",
     "output_type": "stream",
     "text": [
      "  4%|▍         | 4/89 [00:02<01:00,  1.40it/s]"
     ]
    },
    {
     "name": "stdout",
     "output_type": "stream",
     "text": [
      "===> Integrating for model_output/2021-11-05/L-r15-t479700-id7-fsuspp-107_90"
     ]
    },
    {
     "name": "stderr",
     "output_type": "stream",
     "text": [
      " 21%|██▏       | 19/89 [00:13<00:48,  1.44it/s]"
     ]
    },
    {
     "name": "stdout",
     "output_type": "stream",
     "text": [
      "\n"
     ]
    },
    {
     "name": "stderr",
     "output_type": "stream",
     "text": [
      "  1%|          | 1/89 [00:00<01:00,  1.44it/s]]"
     ]
    },
    {
     "name": "stdout",
     "output_type": "stream",
     "text": [
      "===> Integrating for model_output/2021-11-05/U-r15-t1000000-id8-fsuspp-107_90\n"
     ]
    },
    {
     "name": "stderr",
     "output_type": "stream",
     "text": [
      "  9%|▉         | 8/89 [00:05<00:56,  1.44it/s]"
     ]
    },
    {
     "name": "stdout",
     "output_type": "stream",
     "text": [
      "===> Integrating for model_output/2021-11-05/L-r15-t2000000-id13-fsuspp-107_90\n"
     ]
    },
    {
     "name": "stderr",
     "output_type": "stream",
     "text": [
      "  8%|▊         | 7/89 [00:05<00:58,  1.41it/s]"
     ]
    },
    {
     "name": "stdout",
     "output_type": "stream",
     "text": [
      "===> Integrating for model_output/2021-11-05/L-r15-t1000000-id9-fsuspp-107_90\n"
     ]
    },
    {
     "name": "stderr",
     "output_type": "stream",
     "text": [
      "  0%|          | 0/89 [00:00<?, ?it/s]"
     ]
    },
    {
     "name": "stdout",
     "output_type": "stream",
     "text": [
      "===> Integrating for model_output/2021-11-05/U-r15-t2000000-id12-fsuspp-107_90\n"
     ]
    },
    {
     "name": "stderr",
     "output_type": "stream",
     "text": [
      "  2%|▏         | 2/89 [00:01<01:00,  1.43it/s]"
     ]
    },
    {
     "name": "stdout",
     "output_type": "stream",
     "text": [
      "===> Integrating for model_output/2021-11-05/U-r15-t1500000-id10-fsuspp-107_90\n"
     ]
    },
    {
     "name": "stderr",
     "output_type": "stream",
     "text": [
      "100%|██████████| 89/89 [01:04<00:00,  1.39it/s]\n",
      "100%|██████████| 89/89 [01:02<00:00,  1.42it/s]\n",
      "100%|██████████| 89/89 [01:03<00:00,  1.40it/s]\n",
      "100%|██████████| 89/89 [01:03<00:00,  1.40it/s]\n",
      "100%|██████████| 89/89 [01:02<00:00,  1.43it/s]\n",
      "100%|██████████| 89/89 [01:02<00:00,  1.42it/s]\n",
      "100%|██████████| 89/89 [01:03<00:00,  1.41it/s]\n",
      "100%|██████████| 89/89 [01:02<00:00,  1.42it/s]\n",
      "100%|██████████| 89/89 [01:02<00:00,  1.42it/s]\n",
      "100%|██████████| 89/89 [01:02<00:00,  1.42it/s]\n",
      "100%|██████████| 89/89 [01:02<00:00,  1.41it/s]\n",
      "100%|██████████| 89/89 [01:03<00:00,  1.41it/s]\n"
     ]
    },
    {
     "name": "stdout",
     "output_type": "stream",
     "text": [
      "===> Integrating for model_output/2021-11-05/L-r15-t125000-id3-psuspp-107_90\n"
     ]
    },
    {
     "name": "stderr",
     "output_type": "stream",
     "text": [
      " 17%|█▋        | 15/89 [00:07<00:41,  1.80it/s]"
     ]
    },
    {
     "name": "stdout",
     "output_type": "stream",
     "text": [
      "===> Integrating for model_output/2021-11-05/U-r15-t250000-id4-psuspp-107_90\n"
     ]
    },
    {
     "name": "stderr",
     "output_type": "stream",
     "text": [
      "  4%|▍         | 4/89 [00:02<00:47,  1.80it/s]]"
     ]
    },
    {
     "name": "stdout",
     "output_type": "stream",
     "text": [
      "===> Integrating for model_output/2021-11-05/U-r15-t125000-id2-psuspp-107_90\n"
     ]
    },
    {
     "name": "stderr",
     "output_type": "stream",
     "text": [
      "  3%|▎         | 3/89 [00:01<00:51,  1.69it/s]]"
     ]
    },
    {
     "name": "stdout",
     "output_type": "stream",
     "text": [
      "===> Integrating for model_output/2021-11-05/U-r15-t479700-id6-psuspp-107_90\n"
     ]
    },
    {
     "name": "stderr",
     "output_type": "stream",
     "text": [
      "  4%|▍         | 4/89 [00:02<00:52,  1.61it/s]]"
     ]
    },
    {
     "name": "stdout",
     "output_type": "stream",
     "text": [
      "===> Integrating for model_output/2021-11-05/L-r15-t479700-id7-psuspp-107_90\n"
     ]
    },
    {
     "name": "stderr",
     "output_type": "stream",
     "text": [
      " 28%|██▊       | 25/89 [00:13<00:38,  1.68it/s]"
     ]
    },
    {
     "name": "stdout",
     "output_type": "stream",
     "text": [
      "===> Integrating for model_output/2021-11-05/L-r15-t1500000-id11-psuspp-107_90\n"
     ]
    },
    {
     "name": "stderr",
     "output_type": "stream",
     "text": [
      "  2%|▏         | 2/89 [00:01<00:55,  1.57it/s]"
     ]
    },
    {
     "name": "stdout",
     "output_type": "stream",
     "text": [
      "===> Integrating for model_output/2021-11-05/L-r15-t250000-id5-psuspp-107_90\n"
     ]
    },
    {
     "name": "stderr",
     "output_type": "stream",
     "text": [
      "  2%|▏         | 2/89 [00:01<00:52,  1.66it/s]]"
     ]
    },
    {
     "name": "stdout",
     "output_type": "stream",
     "text": [
      "===> Integrating for model_output/2021-11-05/L-r15-t1000000-id9-psuspp-107_90\n"
     ]
    },
    {
     "name": "stderr",
     "output_type": "stream",
     "text": [
      "  3%|▎         | 3/89 [00:01<00:53,  1.61it/s]"
     ]
    },
    {
     "name": "stdout",
     "output_type": "stream",
     "text": [
      "===> Integrating for model_output/2021-11-05/L-r15-t2000000-id13-psuspp-107_90\n"
     ]
    },
    {
     "name": "stderr",
     "output_type": "stream",
     "text": [
      " 12%|█▏        | 11/89 [00:06<00:48,  1.61it/s]"
     ]
    },
    {
     "name": "stdout",
     "output_type": "stream",
     "text": [
      "===> Integrating for model_output/2021-11-05/U-r15-t1000000-id8-psuspp-107_90\n"
     ]
    },
    {
     "name": "stderr",
     "output_type": "stream",
     "text": [
      " 30%|███       | 27/89 [00:15<00:37,  1.65it/s]"
     ]
    },
    {
     "name": "stdout",
     "output_type": "stream",
     "text": [
      "===> Integrating for model_output/2021-11-05/U-r15-t2000000-id12-psuspp-107_90\n"
     ]
    },
    {
     "name": "stderr",
     "output_type": "stream",
     "text": [
      "  1%|          | 1/89 [00:00<00:56,  1.56it/s]"
     ]
    },
    {
     "name": "stdout",
     "output_type": "stream",
     "text": [
      "===> Integrating for model_output/2021-11-05/U-r15-t1500000-id10-psuspp-107_90\n"
     ]
    },
    {
     "name": "stderr",
     "output_type": "stream",
     "text": [
      "100%|██████████| 89/89 [00:54<00:00,  1.64it/s]\n",
      "100%|██████████| 89/89 [00:56<00:00,  1.58it/s]\n",
      "100%|██████████| 89/89 [00:55<00:00,  1.59it/s]\n",
      "100%|██████████| 89/89 [00:56<00:00,  1.59it/s]\n",
      "100%|██████████| 89/89 [00:55<00:00,  1.61it/s]\n",
      "100%|██████████| 89/89 [00:56<00:00,  1.58it/s]\n",
      "100%|██████████| 89/89 [00:56<00:00,  1.57it/s]\n",
      "100%|██████████| 89/89 [00:56<00:00,  1.58it/s]\n",
      "100%|██████████| 89/89 [00:56<00:00,  1.58it/s]\n",
      "100%|██████████| 89/89 [00:56<00:00,  1.58it/s]\n",
      "100%|██████████| 89/89 [00:56<00:00,  1.57it/s]\n",
      "100%|██████████| 89/89 [00:56<00:00,  1.57it/s]\n"
     ]
    },
    {
     "name": "stdout",
     "output_type": "stream",
     "text": [
      "===> Integrating for model_output/2021-11-05/L-r15-t125000-id3-ppop-107_90\n"
     ]
    },
    {
     "name": "stderr",
     "output_type": "stream",
     "text": [
      " 25%|██▍       | 22/89 [00:12<00:38,  1.76it/s]"
     ]
    },
    {
     "name": "stdout",
     "output_type": "stream",
     "text": [
      "===> Integrating for model_output/2021-11-05/U-r15-t250000-id4-ppop-107_90\n"
     ]
    },
    {
     "name": "stderr",
     "output_type": "stream",
     "text": [
      "  4%|▍         | 4/89 [00:02<00:50,  1.69it/s]]"
     ]
    },
    {
     "name": "stdout",
     "output_type": "stream",
     "text": [
      "===> Integrating for model_output/2021-11-05/U-r15-t125000-id2-ppop-107_90\n"
     ]
    },
    {
     "name": "stderr",
     "output_type": "stream",
     "text": [
      " 35%|███▍      | 31/89 [00:17<00:35,  1.62it/s]"
     ]
    },
    {
     "name": "stdout",
     "output_type": "stream",
     "text": [
      "===> Integrating for model_output/2021-11-05/U-r15-t479700-id6-ppop-107_90\n"
     ]
    },
    {
     "name": "stderr",
     "output_type": "stream",
     "text": [
      "  1%|          | 1/89 [00:00<00:55,  1.60it/s]]"
     ]
    },
    {
     "name": "stdout",
     "output_type": "stream",
     "text": [
      "===> Integrating for model_output/2021-11-05/L-r15-t479700-id7-ppop-107_90\n"
     ]
    },
    {
     "name": "stderr",
     "output_type": "stream",
     "text": [
      " 11%|█         | 10/89 [00:06<00:49,  1.60it/s]"
     ]
    },
    {
     "name": "stdout",
     "output_type": "stream",
     "text": [
      "===> Integrating for model_output/2021-11-05/L-r15-t250000-id5-ppop-107_90\n"
     ]
    },
    {
     "name": "stderr",
     "output_type": "stream",
     "text": [
      "  1%|          | 1/89 [00:00<00:52,  1.68it/s]]"
     ]
    },
    {
     "name": "stdout",
     "output_type": "stream",
     "text": [
      "===> Integrating for model_output/2021-11-05/L-r15-t1500000-id11-ppop-107_90\n"
     ]
    },
    {
     "name": "stderr",
     "output_type": "stream",
     "text": [
      "  2%|▏         | 2/89 [00:01<00:51,  1.68it/s]]"
     ]
    },
    {
     "name": "stdout",
     "output_type": "stream",
     "text": [
      "===> Integrating for model_output/2021-11-05/U-r15-t2000000-id12-ppop-107_90\n"
     ]
    },
    {
     "name": "stderr",
     "output_type": "stream",
     "text": [
      "  0%|          | 0/89 [00:00<?, ?it/s]"
     ]
    },
    {
     "name": "stdout",
     "output_type": "stream",
     "text": [
      "===> Integrating for model_output/2021-11-05/L-r15-t1000000-id9-ppop-107_90\n"
     ]
    },
    {
     "name": "stderr",
     "output_type": "stream",
     "text": [
      " 39%|███▉      | 35/89 [00:20<00:34,  1.57it/s]"
     ]
    },
    {
     "name": "stdout",
     "output_type": "stream",
     "text": [
      "===> Integrating for model_output/2021-11-05/L-r15-t2000000-id13-ppop-107_90\n"
     ]
    },
    {
     "name": "stderr",
     "output_type": "stream",
     "text": [
      "  1%|          | 1/89 [00:00<00:54,  1.63it/s]]"
     ]
    },
    {
     "name": "stdout",
     "output_type": "stream",
     "text": [
      "===> Integrating for model_output/2021-11-05/U-r15-t1500000-id10-ppop-107_90\n"
     ]
    },
    {
     "name": "stderr",
     "output_type": "stream",
     "text": [
      " 40%|████      | 36/89 [00:20<00:33,  1.59it/s]"
     ]
    },
    {
     "name": "stdout",
     "output_type": "stream",
     "text": [
      "===> Integrating for model_output/2021-11-05/U-r15-t1000000-id8-ppop-107_90\n"
     ]
    },
    {
     "name": "stderr",
     "output_type": "stream",
     "text": [
      "100%|██████████| 89/89 [00:54<00:00,  1.65it/s]\n",
      "100%|██████████| 89/89 [00:55<00:00,  1.59it/s]\n",
      "100%|██████████| 89/89 [00:55<00:00,  1.62it/s]\n",
      "100%|██████████| 89/89 [00:56<00:00,  1.58it/s]\n",
      "100%|██████████| 89/89 [00:56<00:00,  1.59it/s]\n",
      "100%|██████████| 89/89 [00:55<00:00,  1.59it/s]\n",
      "100%|██████████| 89/89 [00:55<00:00,  1.59it/s]\n",
      "100%|██████████| 89/89 [00:56<00:00,  1.58it/s]\n",
      "100%|██████████| 89/89 [00:56<00:00,  1.58it/s]\n",
      "100%|██████████| 89/89 [00:56<00:00,  1.58it/s]\n",
      "100%|██████████| 89/89 [00:56<00:00,  1.57it/s]\n",
      "100%|██████████| 89/89 [00:57<00:00,  1.55it/s]\n"
     ]
    },
    {
     "name": "stdout",
     "output_type": "stream",
     "text": [
      "===> Integrating for model_output/2021-11-05/L-r15-t125000-id3-fpop-107_90\n"
     ]
    },
    {
     "name": "stderr",
     "output_type": "stream",
     "text": [
      " 31%|███▏      | 28/89 [00:16<00:34,  1.77it/s]"
     ]
    },
    {
     "name": "stdout",
     "output_type": "stream",
     "text": [
      "===> Integrating for model_output/2021-11-05/U-r15-t250000-id4-fpop-107_90\n"
     ]
    },
    {
     "name": "stderr",
     "output_type": "stream",
     "text": [
      " 35%|███▍      | 31/89 [00:18<00:35,  1.65it/s]"
     ]
    },
    {
     "name": "stdout",
     "output_type": "stream",
     "text": [
      "===> Integrating for model_output/2021-11-05/U-r15-t125000-id2-fpop-107_90\n"
     ]
    },
    {
     "name": "stderr",
     "output_type": "stream",
     "text": [
      " 44%|████▍     | 39/89 [00:23<00:30,  1.63it/s]"
     ]
    },
    {
     "name": "stdout",
     "output_type": "stream",
     "text": [
      "===> Integrating for model_output/2021-11-05/U-r15-t479700-id6-fpop-107_90\n"
     ]
    },
    {
     "name": "stderr",
     "output_type": "stream",
     "text": [
      " 45%|████▍     | 40/89 [00:23<00:30,  1.60it/s]"
     ]
    },
    {
     "name": "stdout",
     "output_type": "stream",
     "text": [
      "===> Integrating for model_output/2021-11-05/L-r15-t250000-id5-fpop-107_90\n"
     ]
    },
    {
     "name": "stderr",
     "output_type": "stream",
     "text": [
      "  0%|          | 0/89 [00:00<?, ?it/s]"
     ]
    },
    {
     "name": "stdout",
     "output_type": "stream",
     "text": [
      "===> Integrating for model_output/2021-11-05/L-r15-t479700-id7-fpop-107_90\n"
     ]
    },
    {
     "name": "stderr",
     "output_type": "stream",
     "text": [
      "  0%|          | 0/89 [00:00<?, ?it/s].57it/s]"
     ]
    },
    {
     "name": "stdout",
     "output_type": "stream",
     "text": [
      "===> Integrating for model_output/2021-11-05/L-r15-t1500000-id11-fpop-107_90\n"
     ]
    },
    {
     "name": "stderr",
     "output_type": "stream",
     "text": [
      " 11%|█         | 10/89 [00:06<00:48,  1.63it/s]"
     ]
    },
    {
     "name": "stdout",
     "output_type": "stream",
     "text": [
      "===> Integrating for model_output/2021-11-05/U-r15-t2000000-id12-fpop-107_90\n"
     ]
    },
    {
     "name": "stderr",
     "output_type": "stream",
     "text": [
      " 47%|████▋     | 42/89 [00:25<00:30,  1.53it/s]"
     ]
    },
    {
     "name": "stdout",
     "output_type": "stream",
     "text": [
      "===> Integrating for model_output/2021-11-05/L-r15-t2000000-id13-fpop-107_90\n"
     ]
    },
    {
     "name": "stderr",
     "output_type": "stream",
     "text": [
      " 17%|█▋        | 15/89 [00:09<00:47,  1.54it/s]"
     ]
    },
    {
     "name": "stdout",
     "output_type": "stream",
     "text": [
      "===> Integrating for model_output/2021-11-05/L-r15-t1000000-id9-fpop-107_90\n"
     ]
    },
    {
     "name": "stderr",
     "output_type": "stream",
     "text": [
      "  2%|▏         | 2/89 [00:01<00:53,  1.63it/s]]"
     ]
    },
    {
     "name": "stdout",
     "output_type": "stream",
     "text": [
      "===> Integrating for model_output/2021-11-05/U-r15-t1500000-id10-fpop-107_90\n"
     ]
    },
    {
     "name": "stderr",
     "output_type": "stream",
     "text": [
      "  0%|          | 0/89 [00:00<?, ?it/s]"
     ]
    },
    {
     "name": "stdout",
     "output_type": "stream",
     "text": [
      "===> Integrating for model_output/2021-11-05/U-r15-t1000000-id8-fpop-107_90\n"
     ]
    },
    {
     "name": "stderr",
     "output_type": "stream",
     "text": [
      "100%|██████████| 89/89 [00:55<00:00,  1.60it/s]\n",
      "100%|██████████| 89/89 [00:58<00:00,  1.53it/s]\n",
      "100%|██████████| 89/89 [00:58<00:00,  1.53it/s]\n",
      "100%|██████████| 89/89 [00:57<00:00,  1.54it/s]\n",
      "100%|██████████| 89/89 [00:57<00:00,  1.54it/s]\n",
      "100%|██████████| 89/89 [00:58<00:00,  1.53it/s]\n",
      "100%|██████████| 89/89 [00:57<00:00,  1.54it/s]\n",
      "100%|██████████| 89/89 [00:59<00:00,  1.50it/s]\n",
      "100%|██████████| 89/89 [00:58<00:00,  1.51it/s]\n",
      "100%|██████████| 89/89 [00:58<00:00,  1.51it/s]\n",
      "100%|██████████| 89/89 [00:58<00:00,  1.51it/s]\n",
      "100%|██████████| 89/89 [00:59<00:00,  1.49it/s]\n",
      "Process ForkPoolWorker-43:\n",
      "Process ForkPoolWorker-41:\n",
      "Process ForkPoolWorker-38:\n",
      "Process ForkPoolWorker-39:\n",
      "Process ForkPoolWorker-36:\n",
      "Process ForkPoolWorker-40:\n",
      "Process ForkPoolWorker-44:\n",
      "Process ForkPoolWorker-34:\n",
      "Process ForkPoolWorker-33:\n",
      "Process ForkPoolWorker-35:\n",
      "Process ForkPoolWorker-37:\n",
      "Process ForkPoolWorker-48:\n",
      "Process ForkPoolWorker-45:\n",
      "Process ForkPoolWorker-42:\n",
      "Process ForkPoolWorker-47:\n",
      "Process ForkPoolWorker-46:\n",
      "Traceback (most recent call last):\n",
      "Traceback (most recent call last):\n",
      "Traceback (most recent call last):\n",
      "Traceback (most recent call last):\n",
      "Traceback (most recent call last):\n",
      "Traceback (most recent call last):\n",
      "Traceback (most recent call last):\n",
      "Traceback (most recent call last):\n",
      "Traceback (most recent call last):\n",
      "Traceback (most recent call last):\n",
      "Traceback (most recent call last):\n",
      "Traceback (most recent call last):\n",
      "Traceback (most recent call last):\n",
      "Traceback (most recent call last):\n"
     ]
    }
   ],
   "source": [
    "# Generate alternatives:\n",
    "import multiprocessing as mp\n",
    "pool = mp.Pool(mp.cpu_count())\n",
    "    \n",
    "all_sims = pool.starmap(generate_all_alternatives, [(scenario_name, scenario) for scenario_name, scenario in scenarios.items()])"
   ]
  },
  {
   "cell_type": "markdown",
   "metadata": {
    "execution": {
     "iopub.execute_input": "2021-02-01T17:53:52.320543Z",
     "iopub.status.busy": "2021-02-01T17:53:52.320317Z",
     "iopub.status.idle": "2021-02-01T17:53:52.323514Z",
     "shell.execute_reply": "2021-02-01T17:53:52.322898Z",
     "shell.execute_reply.started": "2021-02-01T17:53:52.320517Z"
    }
   },
   "source": [
    "# Generate the averted cases for all posterior draws"
   ]
  },
  {
   "cell_type": "code",
   "execution_count": 29,
   "metadata": {
    "execution": {
     "iopub.execute_input": "2021-11-08T10:22:41.453941Z",
     "iopub.status.busy": "2021-11-08T10:22:41.453664Z",
     "iopub.status.idle": "2021-11-08T10:22:51.656778Z",
     "shell.execute_reply": "2021-11-08T10:22:51.656057Z",
     "shell.execute_reply.started": "2021-11-08T10:22:41.453909Z"
    },
    "tags": []
   },
   "outputs": [],
   "source": [
    "import matlab.engine\n",
    "\n",
    "eng = matlab.engine.start_matlab()\n",
    "#eng.cd('matlab/check-strats/', nargout=0)\n",
    "\n",
    "#eng.workspace['timesV'] = matlab.double(np.arange(738167, 738167+ndays).tolist()) # THIS IS FOR JANUARY 11th\n",
    "\n",
    "eng.cd('matlab/post-reviews-update/check-strats-ages/', nargout=0)\n",
    "\n",
    "eng.workspace['timesV'] = matlab.double(np.arange(738160, 738160+ndays).tolist()) # THIS IS FOR JANUARY 4th"
   ]
  },
  {
   "cell_type": "code",
   "execution_count": null,
   "metadata": {},
   "outputs": [],
   "source": []
  },
  {
   "cell_type": "code",
   "execution_count": 30,
   "metadata": {
    "execution": {
     "iopub.execute_input": "2021-11-08T10:23:06.273915Z",
     "iopub.status.busy": "2021-11-08T10:23:06.273700Z",
     "iopub.status.idle": "2021-11-08T11:56:35.579774Z",
     "shell.execute_reply": "2021-11-08T11:56:35.578543Z",
     "shell.execute_reply.started": "2021-11-08T10:23:06.273890Z"
    },
    "scrolled": true,
    "tags": []
   },
   "outputs": [
    {
     "name": "stdout",
     "output_type": "stream",
     "text": [
      "Doing model_output/2021-11-05/U-r15-t125000-id2-opi-107_90.csv\n",
      "Doing model_output/2021-11-05/L-r15-t125000-id3-opi-107_90.csv\n",
      "Doing model_output/2021-11-05/U-r15-t250000-id4-opi-107_90.csv\n",
      "Doing model_output/2021-11-05/L-r15-t250000-id5-opi-107_90.csv\n",
      "Doing model_output/2021-11-05/U-r15-t479700-id6-opi-107_90.csv\n",
      "Doing model_output/2021-11-05/L-r15-t479700-id7-opi-107_90.csv\n",
      "Doing model_output/2021-11-05/U-r15-t1000000-id8-opi-107_90.csv\n",
      "Doing model_output/2021-11-05/L-r15-t1000000-id9-opi-107_90.csv\n",
      "Doing model_output/2021-11-05/U-r15-t1500000-id10-opi-107_90.csv\n",
      "Doing model_output/2021-11-05/L-r15-t1500000-id11-opi-107_90.csv\n",
      "Doing model_output/2021-11-05/U-r15-t2000000-id12-opi-107_90.csv\n",
      "Doing model_output/2021-11-05/L-r15-t2000000-id13-opi-107_90.csv\n",
      "Doing model_output/2021-11-05/U-r15-t125000-id2-finc-107_90.csv\n",
      "Doing model_output/2021-11-05/L-r15-t125000-id3-finc-107_90.csv\n",
      "Doing model_output/2021-11-05/U-r15-t250000-id4-finc-107_90.csv\n",
      "Doing model_output/2021-11-05/L-r15-t250000-id5-finc-107_90.csv\n",
      "Doing model_output/2021-11-05/U-r15-t479700-id6-finc-107_90.csv\n",
      "Doing model_output/2021-11-05/L-r15-t479700-id7-finc-107_90.csv\n",
      "Doing model_output/2021-11-05/U-r15-t1000000-id8-finc-107_90.csv\n",
      "Doing model_output/2021-11-05/L-r15-t1000000-id9-finc-107_90.csv\n",
      "Doing model_output/2021-11-05/U-r15-t1500000-id10-finc-107_90.csv\n",
      "Doing model_output/2021-11-05/L-r15-t1500000-id11-finc-107_90.csv\n",
      "Doing model_output/2021-11-05/U-r15-t2000000-id12-finc-107_90.csv\n",
      "Doing model_output/2021-11-05/L-r15-t2000000-id13-finc-107_90.csv\n",
      "Doing model_output/2021-11-05/U-r15-t125000-id2-pinc-107_90.csv\n",
      "Doing model_output/2021-11-05/L-r15-t125000-id3-pinc-107_90.csv\n",
      "Doing model_output/2021-11-05/U-r15-t250000-id4-pinc-107_90.csv\n",
      "Doing model_output/2021-11-05/L-r15-t250000-id5-pinc-107_90.csv\n",
      "Doing model_output/2021-11-05/U-r15-t479700-id6-pinc-107_90.csv\n",
      "Doing model_output/2021-11-05/L-r15-t479700-id7-pinc-107_90.csv\n",
      "Doing model_output/2021-11-05/U-r15-t1000000-id8-pinc-107_90.csv\n",
      "Doing model_output/2021-11-05/L-r15-t1000000-id9-pinc-107_90.csv\n",
      "Doing model_output/2021-11-05/U-r15-t1500000-id10-pinc-107_90.csv\n",
      "Doing model_output/2021-11-05/L-r15-t1500000-id11-pinc-107_90.csv\n",
      "Doing model_output/2021-11-05/U-r15-t2000000-id12-pinc-107_90.csv\n",
      "Doing model_output/2021-11-05/L-r15-t2000000-id13-pinc-107_90.csv\n",
      "Doing model_output/2021-11-05/U-r15-t125000-id2-fsus-107_90.csv\n",
      "Doing model_output/2021-11-05/L-r15-t125000-id3-fsus-107_90.csv\n",
      "Doing model_output/2021-11-05/U-r15-t250000-id4-fsus-107_90.csv\n",
      "Doing model_output/2021-11-05/L-r15-t250000-id5-fsus-107_90.csv\n",
      "Doing model_output/2021-11-05/U-r15-t479700-id6-fsus-107_90.csv\n",
      "Doing model_output/2021-11-05/L-r15-t479700-id7-fsus-107_90.csv\n",
      "Doing model_output/2021-11-05/U-r15-t1000000-id8-fsus-107_90.csv\n",
      "Doing model_output/2021-11-05/L-r15-t1000000-id9-fsus-107_90.csv\n",
      "Doing model_output/2021-11-05/U-r15-t1500000-id10-fsus-107_90.csv\n",
      "Doing model_output/2021-11-05/L-r15-t1500000-id11-fsus-107_90.csv\n",
      "Doing model_output/2021-11-05/U-r15-t2000000-id12-fsus-107_90.csv\n",
      "Doing model_output/2021-11-05/L-r15-t2000000-id13-fsus-107_90.csv\n",
      "Doing model_output/2021-11-05/U-r15-t125000-id2-psus-107_90.csv\n",
      "Doing model_output/2021-11-05/L-r15-t125000-id3-psus-107_90.csv\n",
      "Doing model_output/2021-11-05/U-r15-t250000-id4-psus-107_90.csv\n",
      "Doing model_output/2021-11-05/L-r15-t250000-id5-psus-107_90.csv\n",
      "Doing model_output/2021-11-05/U-r15-t479700-id6-psus-107_90.csv\n",
      "Doing model_output/2021-11-05/L-r15-t479700-id7-psus-107_90.csv\n",
      "Doing model_output/2021-11-05/U-r15-t1000000-id8-psus-107_90.csv\n",
      "Doing model_output/2021-11-05/L-r15-t1000000-id9-psus-107_90.csv\n",
      "Doing model_output/2021-11-05/U-r15-t1500000-id10-psus-107_90.csv\n",
      "Doing model_output/2021-11-05/L-r15-t1500000-id11-psus-107_90.csv\n",
      "Doing model_output/2021-11-05/U-r15-t2000000-id12-psus-107_90.csv\n",
      "Doing model_output/2021-11-05/L-r15-t2000000-id13-psus-107_90.csv\n",
      "Doing model_output/2021-11-05/U-r15-t125000-id2-fincpp-107_90.csv\n",
      "Doing model_output/2021-11-05/L-r15-t125000-id3-fincpp-107_90.csv\n",
      "Doing model_output/2021-11-05/U-r15-t250000-id4-fincpp-107_90.csv\n",
      "Doing model_output/2021-11-05/L-r15-t250000-id5-fincpp-107_90.csv\n",
      "Doing model_output/2021-11-05/U-r15-t479700-id6-fincpp-107_90.csv\n",
      "Doing model_output/2021-11-05/L-r15-t479700-id7-fincpp-107_90.csv\n",
      "Doing model_output/2021-11-05/U-r15-t1000000-id8-fincpp-107_90.csv\n",
      "Doing model_output/2021-11-05/L-r15-t1000000-id9-fincpp-107_90.csv\n",
      "Doing model_output/2021-11-05/U-r15-t1500000-id10-fincpp-107_90.csv\n",
      "Doing model_output/2021-11-05/L-r15-t1500000-id11-fincpp-107_90.csv\n",
      "Doing model_output/2021-11-05/U-r15-t2000000-id12-fincpp-107_90.csv\n",
      "Doing model_output/2021-11-05/L-r15-t2000000-id13-fincpp-107_90.csv\n",
      "Doing model_output/2021-11-05/U-r15-t125000-id2-pincpp-107_90.csv\n",
      "Doing model_output/2021-11-05/L-r15-t125000-id3-pincpp-107_90.csv\n",
      "Doing model_output/2021-11-05/U-r15-t250000-id4-pincpp-107_90.csv\n",
      "Doing model_output/2021-11-05/L-r15-t250000-id5-pincpp-107_90.csv\n",
      "Doing model_output/2021-11-05/U-r15-t479700-id6-pincpp-107_90.csv\n",
      "Doing model_output/2021-11-05/L-r15-t479700-id7-pincpp-107_90.csv\n",
      "Doing model_output/2021-11-05/U-r15-t1000000-id8-pincpp-107_90.csv\n",
      "Doing model_output/2021-11-05/L-r15-t1000000-id9-pincpp-107_90.csv\n",
      "Doing model_output/2021-11-05/U-r15-t1500000-id10-pincpp-107_90.csv\n",
      "Doing model_output/2021-11-05/L-r15-t1500000-id11-pincpp-107_90.csv\n",
      "Doing model_output/2021-11-05/U-r15-t2000000-id12-pincpp-107_90.csv\n",
      "Doing model_output/2021-11-05/L-r15-t2000000-id13-pincpp-107_90.csv\n",
      "Doing model_output/2021-11-05/U-r15-t125000-id2-fsuspp-107_90.csv\n",
      "Doing model_output/2021-11-05/L-r15-t125000-id3-fsuspp-107_90.csv\n",
      "Doing model_output/2021-11-05/U-r15-t250000-id4-fsuspp-107_90.csv\n",
      "Doing model_output/2021-11-05/L-r15-t250000-id5-fsuspp-107_90.csv\n",
      "Doing model_output/2021-11-05/U-r15-t479700-id6-fsuspp-107_90.csv\n",
      "Doing model_output/2021-11-05/L-r15-t479700-id7-fsuspp-107_90.csv\n",
      "Doing model_output/2021-11-05/U-r15-t1000000-id8-fsuspp-107_90.csv\n",
      "Doing model_output/2021-11-05/L-r15-t1000000-id9-fsuspp-107_90.csv\n",
      "Doing model_output/2021-11-05/U-r15-t1500000-id10-fsuspp-107_90.csv\n",
      "Doing model_output/2021-11-05/L-r15-t1500000-id11-fsuspp-107_90.csv\n",
      "Doing model_output/2021-11-05/U-r15-t2000000-id12-fsuspp-107_90.csv\n",
      "Doing model_output/2021-11-05/L-r15-t2000000-id13-fsuspp-107_90.csv\n",
      "Doing model_output/2021-11-05/U-r15-t125000-id2-psuspp-107_90.csv\n",
      "Doing model_output/2021-11-05/L-r15-t125000-id3-psuspp-107_90.csv\n",
      "Doing model_output/2021-11-05/U-r15-t250000-id4-psuspp-107_90.csv\n",
      "Doing model_output/2021-11-05/L-r15-t250000-id5-psuspp-107_90.csv\n",
      "Doing model_output/2021-11-05/U-r15-t479700-id6-psuspp-107_90.csv\n",
      "Doing model_output/2021-11-05/L-r15-t479700-id7-psuspp-107_90.csv\n",
      "Doing model_output/2021-11-05/U-r15-t1000000-id8-psuspp-107_90.csv\n",
      "Doing model_output/2021-11-05/L-r15-t1000000-id9-psuspp-107_90.csv\n",
      "Doing model_output/2021-11-05/U-r15-t1500000-id10-psuspp-107_90.csv\n",
      "Doing model_output/2021-11-05/L-r15-t1500000-id11-psuspp-107_90.csv\n",
      "Doing model_output/2021-11-05/U-r15-t2000000-id12-psuspp-107_90.csv\n",
      "Doing model_output/2021-11-05/L-r15-t2000000-id13-psuspp-107_90.csv\n"
     ]
    },
    {
     "ename": "MatlabExecutionError",
     "evalue": "\n  File /Users/chadi/Documents/phd/COVID-19_italy-vaccination-ocp/matlab/post-reviews-update/check-strats-ages/main_script.m, line 34, in main_script\n\n  File /Applications/MATLAB_R2019b.app/toolbox/matlab/lang/run.m, line 91, in run\nThe end operator must be used within an array index expression.\n",
     "output_type": "error",
     "traceback": [
      "\u001b[0;31m---------------------------------------------------------------------------\u001b[0m",
      "\u001b[0;31mMatlabExecutionError\u001b[0m                      Traceback (most recent call last)",
      "\u001b[0;32m<ipython-input-30-9678f6996c16>\u001b[0m in \u001b[0;36m<module>\u001b[0;34m()\u001b[0m\n\u001b[1;32m     16\u001b[0m             \u001b[0meng\u001b[0m\u001b[0;34m.\u001b[0m\u001b[0mworkspace\u001b[0m\u001b[0;34m[\u001b[0m\u001b[0;34m'Vdoses'\u001b[0m\u001b[0;34m]\u001b[0m \u001b[0;34m=\u001b[0m \u001b[0mmatlab\u001b[0m\u001b[0;34m.\u001b[0m\u001b[0mdouble\u001b[0m\u001b[0;34m(\u001b[0m\u001b[0mdosesV\u001b[0m\u001b[0;34m.\u001b[0m\u001b[0mtolist\u001b[0m\u001b[0;34m(\u001b[0m\u001b[0;34m)\u001b[0m\u001b[0;34m)\u001b[0m\u001b[0;34m\u001b[0m\u001b[0;34m\u001b[0m\u001b[0m\n\u001b[1;32m     17\u001b[0m             \u001b[0meng\u001b[0m\u001b[0;34m.\u001b[0m\u001b[0mworkspace\u001b[0m\u001b[0;34m[\u001b[0m\u001b[0;34m'beta_ratio'\u001b[0m\u001b[0;34m]\u001b[0m \u001b[0;34m=\u001b[0m \u001b[0mmatlab\u001b[0m\u001b[0;34m.\u001b[0m\u001b[0mdouble\u001b[0m\u001b[0;34m(\u001b[0m\u001b[0mscenario\u001b[0m\u001b[0;34m[\u001b[0m\u001b[0;34m'beta_mult'\u001b[0m\u001b[0;34m]\u001b[0m\u001b[0;34m[\u001b[0m\u001b[0;36m0\u001b[0m\u001b[0;34m]\u001b[0m\u001b[0;34m.\u001b[0m\u001b[0mtolist\u001b[0m\u001b[0;34m(\u001b[0m\u001b[0;34m)\u001b[0m\u001b[0;34m)\u001b[0m\u001b[0;34m\u001b[0m\u001b[0;34m\u001b[0m\u001b[0m\n\u001b[0;32m---> 18\u001b[0;31m             \u001b[0meng\u001b[0m\u001b[0;34m.\u001b[0m\u001b[0mrun\u001b[0m\u001b[0;34m(\u001b[0m\u001b[0;34m'main_script.m'\u001b[0m\u001b[0;34m,\u001b[0m \u001b[0mnargout\u001b[0m\u001b[0;34m=\u001b[0m\u001b[0;36m0\u001b[0m\u001b[0;34m)\u001b[0m\u001b[0;34m\u001b[0m\u001b[0;34m\u001b[0m\u001b[0m\n\u001b[0m\u001b[1;32m     19\u001b[0m             \u001b[0mens_exposed\u001b[0m \u001b[0;34m=\u001b[0m \u001b[0mnp\u001b[0m\u001b[0;34m.\u001b[0m\u001b[0marray\u001b[0m\u001b[0;34m(\u001b[0m\u001b[0meng\u001b[0m\u001b[0;34m.\u001b[0m\u001b[0meval\u001b[0m\u001b[0;34m(\u001b[0m\u001b[0;34m'ens_exposed_preprocess'\u001b[0m\u001b[0;34m)\u001b[0m\u001b[0;34m)\u001b[0m\u001b[0;34m.\u001b[0m\u001b[0mflatten\u001b[0m\u001b[0;34m(\u001b[0m\u001b[0;34m)\u001b[0m\u001b[0;34m\u001b[0m\u001b[0;34m\u001b[0m\u001b[0m\n\u001b[1;32m     20\u001b[0m \u001b[0;34m\u001b[0m\u001b[0m\n",
      "\u001b[0;32m/Users/chadi/opt/miniconda3/envs/ocp-covid/lib/python3.7/site-packages/matlab/engine/matlabengine.py\u001b[0m in \u001b[0;36m__call__\u001b[0;34m(self, *args, **kwargs)\u001b[0m\n\u001b[1;32m     69\u001b[0m         \u001b[0;32melse\u001b[0m\u001b[0;34m:\u001b[0m\u001b[0;34m\u001b[0m\u001b[0;34m\u001b[0m\u001b[0m\n\u001b[1;32m     70\u001b[0m             return FutureResult(self._engine(), future, nargs, _stdout,\n\u001b[0;32m---> 71\u001b[0;31m                                 _stderr, feval=True).result()\n\u001b[0m\u001b[1;32m     72\u001b[0m \u001b[0;34m\u001b[0m\u001b[0m\n\u001b[1;32m     73\u001b[0m     \u001b[0;32mdef\u001b[0m \u001b[0m__validate_engine\u001b[0m\u001b[0;34m(\u001b[0m\u001b[0mself\u001b[0m\u001b[0;34m)\u001b[0m\u001b[0;34m:\u001b[0m\u001b[0;34m\u001b[0m\u001b[0;34m\u001b[0m\u001b[0m\n",
      "\u001b[0;32m/Users/chadi/opt/miniconda3/envs/ocp-covid/lib/python3.7/site-packages/matlab/engine/futureresult.py\u001b[0m in \u001b[0;36mresult\u001b[0;34m(self, timeout)\u001b[0m\n\u001b[1;32m     65\u001b[0m                 \u001b[0;32mraise\u001b[0m \u001b[0mTypeError\u001b[0m\u001b[0;34m(\u001b[0m\u001b[0mpythonengine\u001b[0m\u001b[0;34m.\u001b[0m\u001b[0mgetMessage\u001b[0m\u001b[0;34m(\u001b[0m\u001b[0;34m'TimeoutCannotBeNegative'\u001b[0m\u001b[0;34m)\u001b[0m\u001b[0;34m)\u001b[0m\u001b[0;34m\u001b[0m\u001b[0;34m\u001b[0m\u001b[0m\n\u001b[1;32m     66\u001b[0m \u001b[0;34m\u001b[0m\u001b[0m\n\u001b[0;32m---> 67\u001b[0;31m         \u001b[0;32mreturn\u001b[0m \u001b[0mself\u001b[0m\u001b[0;34m.\u001b[0m\u001b[0m__future\u001b[0m\u001b[0;34m.\u001b[0m\u001b[0mresult\u001b[0m\u001b[0;34m(\u001b[0m\u001b[0mtimeout\u001b[0m\u001b[0;34m)\u001b[0m\u001b[0;34m\u001b[0m\u001b[0;34m\u001b[0m\u001b[0m\n\u001b[0m\u001b[1;32m     68\u001b[0m \u001b[0;34m\u001b[0m\u001b[0m\n\u001b[1;32m     69\u001b[0m     \u001b[0;32mdef\u001b[0m \u001b[0mcancel\u001b[0m\u001b[0;34m(\u001b[0m\u001b[0mself\u001b[0m\u001b[0;34m)\u001b[0m\u001b[0;34m:\u001b[0m\u001b[0;34m\u001b[0m\u001b[0;34m\u001b[0m\u001b[0m\n",
      "\u001b[0;32m/Users/chadi/opt/miniconda3/envs/ocp-covid/lib/python3.7/site-packages/matlab/engine/fevalfuture.py\u001b[0m in \u001b[0;36mresult\u001b[0;34m(self, timeout)\u001b[0m\n\u001b[1;32m     80\u001b[0m                 \u001b[0;32mraise\u001b[0m \u001b[0mTimeoutError\u001b[0m\u001b[0;34m(\u001b[0m\u001b[0mpythonengine\u001b[0m\u001b[0;34m.\u001b[0m\u001b[0mgetMessage\u001b[0m\u001b[0;34m(\u001b[0m\u001b[0;34m'MatlabFunctionTimeout'\u001b[0m\u001b[0;34m)\u001b[0m\u001b[0;34m)\u001b[0m\u001b[0;34m\u001b[0m\u001b[0;34m\u001b[0m\u001b[0m\n\u001b[1;32m     81\u001b[0m \u001b[0;34m\u001b[0m\u001b[0m\n\u001b[0;32m---> 82\u001b[0;31m             \u001b[0mself\u001b[0m\u001b[0;34m.\u001b[0m\u001b[0m_result\u001b[0m \u001b[0;34m=\u001b[0m \u001b[0mpythonengine\u001b[0m\u001b[0;34m.\u001b[0m\u001b[0mgetFEvalResult\u001b[0m\u001b[0;34m(\u001b[0m\u001b[0mself\u001b[0m\u001b[0;34m.\u001b[0m\u001b[0m_future\u001b[0m\u001b[0;34m,\u001b[0m\u001b[0mself\u001b[0m\u001b[0;34m.\u001b[0m\u001b[0m_nargout\u001b[0m\u001b[0;34m,\u001b[0m \u001b[0;32mNone\u001b[0m\u001b[0;34m,\u001b[0m \u001b[0mout\u001b[0m\u001b[0;34m=\u001b[0m\u001b[0mself\u001b[0m\u001b[0;34m.\u001b[0m\u001b[0m_out\u001b[0m\u001b[0;34m,\u001b[0m \u001b[0merr\u001b[0m\u001b[0;34m=\u001b[0m\u001b[0mself\u001b[0m\u001b[0;34m.\u001b[0m\u001b[0m_err\u001b[0m\u001b[0;34m)\u001b[0m\u001b[0;34m\u001b[0m\u001b[0;34m\u001b[0m\u001b[0m\n\u001b[0m\u001b[1;32m     83\u001b[0m             \u001b[0mself\u001b[0m\u001b[0;34m.\u001b[0m\u001b[0m_retrieved\u001b[0m \u001b[0;34m=\u001b[0m \u001b[0;32mTrue\u001b[0m\u001b[0;34m\u001b[0m\u001b[0;34m\u001b[0m\u001b[0m\n\u001b[1;32m     84\u001b[0m             \u001b[0;32mreturn\u001b[0m \u001b[0mself\u001b[0m\u001b[0;34m.\u001b[0m\u001b[0m_result\u001b[0m\u001b[0;34m\u001b[0m\u001b[0;34m\u001b[0m\u001b[0m\n",
      "\u001b[0;31mMatlabExecutionError\u001b[0m: \n  File /Users/chadi/Documents/phd/COVID-19_italy-vaccination-ocp/matlab/post-reviews-update/check-strats-ages/main_script.m, line 34, in main_script\n\n  File /Applications/MATLAB_R2019b.app/toolbox/matlab/lang/run.m, line 91, in run\nThe end operator must be used within an array index expression.\n"
     ]
    }
   ],
   "source": [
    "scn_results = pd.DataFrame(columns=['newdoseperweek', 'method', 'infected'])\n",
    "methods = ['opi', 'finc', 'pinc', 'fsus', 'psus','fincpp', 'pincpp', 'fsuspp', 'psuspp', 'ppop', 'fpop'] # 'opt'\n",
    "\n",
    "for met in methods:\n",
    "    for scenario_name, scenario in scenarios.items():\n",
    "        filename = f'{generated_dir}/{scenario_name}-{met}-{nnodes}_{ndays}.csv'\n",
    "        if os.path.isfile(filename):\n",
    "            print(f'Doing {filename}')\n",
    "            maxvaccrate_regional, stockpile_national, stockpile_national_constraint, control_initial = build_scenario(setup, scenario)\n",
    "            p.apply_epicourse(setup, scenario['beta_mult'])\n",
    "            \n",
    "            md = pd.read_csv(filename, index_col= 'date', parse_dates=True)\n",
    "            \n",
    "            dosesV = md[md['comp'] == 'vacc'].pivot(columns='placeID', values='value').to_numpy()\n",
    "\n",
    "            eng.workspace['Vdoses'] = matlab.double(dosesV.tolist())\n",
    "            eng.workspace['beta_ratio'] = matlab.double(scenario['beta_mult'][0].tolist())\n",
    "            eng.run('main_script.m', nargout=0)\n",
    "            ens_exposed = np.array(eng.eval('ens_exposed_preprocess')).flatten()\n",
    "        \n",
    "            scn_results = pd.concat([scn_results, pd.DataFrame.from_dict({'newdoseperweek':[int(scenario_name.split('-')[2][1:])]*len(ens_exposed),\n",
    "                                                                           'method': [met]*len(ens_exposed),\n",
    "                                                                           'infected':ens_exposed.tolist(),\n",
    "                                                                           'post_sample':np.arange(len(ens_exposed)),\n",
    "                                                                           'doses': [dosesV.sum()]*len(ens_exposed),\n",
    "                                                                           'scenario-beta': [scenario_name.split('-')[0]]*len(ens_exposed),\n",
    "                                                                           'scenario-rate': [scenario_name.split('-')[1]]*len(ens_exposed),\n",
    "                                                                           'scenario-tot': [scenario_name.split('-')[2]]*len(ens_exposed),\n",
    "                                                                           'scenario': [scenario_name]*len(ens_exposed)\n",
    "                                                                         })])\n",
    "        else:\n",
    "            print(f'not found {scenario_name}')"
   ]
  },
  {
   "cell_type": "code",
   "execution_count": 12,
   "metadata": {
    "execution": {
     "iopub.execute_input": "2021-02-22T11:19:57.304300Z",
     "iopub.status.busy": "2021-02-22T11:19:57.304067Z",
     "iopub.status.idle": "2021-02-22T11:20:38.832123Z",
     "shell.execute_reply": "2021-02-22T11:20:38.831098Z",
     "shell.execute_reply.started": "2021-02-22T11:19:57.304273Z"
    }
   },
   "outputs": [
    {
     "name": "stdout",
     "output_type": "stream",
     "text": [
      "U-r3-t479700-id0\n",
      "L-r3-t479700-id1\n"
     ]
    }
   ],
   "source": [
    "scenarios_baseline = {}\n",
    "for scenario_name, scenario in scenarios.items():\n",
    "    if scenario_name.split('-')[0] not in scenarios_baseline:\n",
    "        print(scenario_name)\n",
    "\n",
    "        maxvaccrate_regional, stockpile_national, stockpile_national_constraint, control_initial = build_scenario(setup, scenario)\n",
    "        \n",
    "        p.apply_epicourse(setup, scenario['beta_mult'])\n",
    "\n",
    "        dosesV = np.zeros_like(dosesV)\n",
    "\n",
    "        eng.workspace['Vdoses'] = matlab.double(dosesV.tolist())\n",
    "        eng.workspace['beta_ratio'] = matlab.double(scenario['beta_mult'][0].tolist())\n",
    "        eng.run('main_script.m', nargout=0)\n",
    "        ens_exposed = np.array(eng.eval('ens_exposed_preprocess')).flatten()\n",
    "        \n",
    "        scenarios_baseline[scenario_name.split('-')[0]] = ens_exposed\n",
    "        "
   ]
  },
  {
   "cell_type": "code",
   "execution_count": 13,
   "metadata": {
    "execution": {
     "iopub.execute_input": "2021-02-22T11:20:38.834165Z",
     "iopub.status.busy": "2021-02-22T11:20:38.833845Z",
     "iopub.status.idle": "2021-02-22T11:20:38.861282Z",
     "shell.execute_reply": "2021-02-22T11:20:38.860471Z",
     "shell.execute_reply.started": "2021-02-22T11:20:38.834075Z"
    }
   },
   "outputs": [
    {
     "data": {
      "text/html": [
       "<div>\n",
       "<style scoped>\n",
       "    .dataframe tbody tr th:only-of-type {\n",
       "        vertical-align: middle;\n",
       "    }\n",
       "\n",
       "    .dataframe tbody tr th {\n",
       "        vertical-align: top;\n",
       "    }\n",
       "\n",
       "    .dataframe thead th {\n",
       "        text-align: right;\n",
       "    }\n",
       "</style>\n",
       "<table border=\"1\" class=\"dataframe\">\n",
       "  <thead>\n",
       "    <tr style=\"text-align: right;\">\n",
       "      <th></th>\n",
       "      <th>newdoseperweek</th>\n",
       "      <th>method</th>\n",
       "      <th>infected</th>\n",
       "      <th>post_sample</th>\n",
       "      <th>doses</th>\n",
       "      <th>scenario-beta</th>\n",
       "      <th>scenario-rate</th>\n",
       "      <th>scenario-tot</th>\n",
       "      <th>scenario</th>\n",
       "    </tr>\n",
       "  </thead>\n",
       "  <tbody>\n",
       "    <tr>\n",
       "      <th>0</th>\n",
       "      <td>479700</td>\n",
       "      <td>opi</td>\n",
       "      <td>2.698752e+08</td>\n",
       "      <td>0.0</td>\n",
       "      <td>6.318990e+06</td>\n",
       "      <td>U</td>\n",
       "      <td>r3</td>\n",
       "      <td>t479700</td>\n",
       "      <td>U-r3-t479700-id0</td>\n",
       "    </tr>\n",
       "    <tr>\n",
       "      <th>1</th>\n",
       "      <td>479700</td>\n",
       "      <td>opi</td>\n",
       "      <td>2.622298e+08</td>\n",
       "      <td>1.0</td>\n",
       "      <td>6.318990e+06</td>\n",
       "      <td>U</td>\n",
       "      <td>r3</td>\n",
       "      <td>t479700</td>\n",
       "      <td>U-r3-t479700-id0</td>\n",
       "    </tr>\n",
       "    <tr>\n",
       "      <th>2</th>\n",
       "      <td>479700</td>\n",
       "      <td>opi</td>\n",
       "      <td>2.501296e+08</td>\n",
       "      <td>2.0</td>\n",
       "      <td>6.318990e+06</td>\n",
       "      <td>U</td>\n",
       "      <td>r3</td>\n",
       "      <td>t479700</td>\n",
       "      <td>U-r3-t479700-id0</td>\n",
       "    </tr>\n",
       "    <tr>\n",
       "      <th>3</th>\n",
       "      <td>479700</td>\n",
       "      <td>opi</td>\n",
       "      <td>2.545047e+08</td>\n",
       "      <td>3.0</td>\n",
       "      <td>6.318990e+06</td>\n",
       "      <td>U</td>\n",
       "      <td>r3</td>\n",
       "      <td>t479700</td>\n",
       "      <td>U-r3-t479700-id0</td>\n",
       "    </tr>\n",
       "    <tr>\n",
       "      <th>4</th>\n",
       "      <td>479700</td>\n",
       "      <td>opi</td>\n",
       "      <td>2.422173e+08</td>\n",
       "      <td>4.0</td>\n",
       "      <td>6.318990e+06</td>\n",
       "      <td>U</td>\n",
       "      <td>r3</td>\n",
       "      <td>t479700</td>\n",
       "      <td>U-r3-t479700-id0</td>\n",
       "    </tr>\n",
       "    <tr>\n",
       "      <th>...</th>\n",
       "      <td>...</td>\n",
       "      <td>...</td>\n",
       "      <td>...</td>\n",
       "      <td>...</td>\n",
       "      <td>...</td>\n",
       "      <td>...</td>\n",
       "      <td>...</td>\n",
       "      <td>...</td>\n",
       "      <td>...</td>\n",
       "    </tr>\n",
       "    <tr>\n",
       "      <th>97</th>\n",
       "      <td>479700</td>\n",
       "      <td>fpop</td>\n",
       "      <td>8.559696e+07</td>\n",
       "      <td>97.0</td>\n",
       "      <td>6.236100e+06</td>\n",
       "      <td>L</td>\n",
       "      <td>r150</td>\n",
       "      <td>t479700</td>\n",
       "      <td>L-r150-t479700-id15</td>\n",
       "    </tr>\n",
       "    <tr>\n",
       "      <th>98</th>\n",
       "      <td>479700</td>\n",
       "      <td>fpop</td>\n",
       "      <td>8.998865e+07</td>\n",
       "      <td>98.0</td>\n",
       "      <td>6.236100e+06</td>\n",
       "      <td>L</td>\n",
       "      <td>r150</td>\n",
       "      <td>t479700</td>\n",
       "      <td>L-r150-t479700-id15</td>\n",
       "    </tr>\n",
       "    <tr>\n",
       "      <th>99</th>\n",
       "      <td>479700</td>\n",
       "      <td>fpop</td>\n",
       "      <td>9.195135e+07</td>\n",
       "      <td>99.0</td>\n",
       "      <td>6.236100e+06</td>\n",
       "      <td>L</td>\n",
       "      <td>r150</td>\n",
       "      <td>t479700</td>\n",
       "      <td>L-r150-t479700-id15</td>\n",
       "    </tr>\n",
       "    <tr>\n",
       "      <th>100</th>\n",
       "      <td>479700</td>\n",
       "      <td>fpop</td>\n",
       "      <td>8.636084e+07</td>\n",
       "      <td>100.0</td>\n",
       "      <td>6.236100e+06</td>\n",
       "      <td>L</td>\n",
       "      <td>r150</td>\n",
       "      <td>t479700</td>\n",
       "      <td>L-r150-t479700-id15</td>\n",
       "    </tr>\n",
       "    <tr>\n",
       "      <th>101</th>\n",
       "      <td>479700</td>\n",
       "      <td>fpop</td>\n",
       "      <td>8.633934e+07</td>\n",
       "      <td>101.0</td>\n",
       "      <td>6.236100e+06</td>\n",
       "      <td>L</td>\n",
       "      <td>r150</td>\n",
       "      <td>t479700</td>\n",
       "      <td>L-r150-t479700-id15</td>\n",
       "    </tr>\n",
       "  </tbody>\n",
       "</table>\n",
       "<p>17952 rows × 9 columns</p>\n",
       "</div>"
      ],
      "text/plain": [
       "    newdoseperweek method      infected  post_sample         doses  \\\n",
       "0           479700    opi  2.698752e+08          0.0  6.318990e+06   \n",
       "1           479700    opi  2.622298e+08          1.0  6.318990e+06   \n",
       "2           479700    opi  2.501296e+08          2.0  6.318990e+06   \n",
       "3           479700    opi  2.545047e+08          3.0  6.318990e+06   \n",
       "4           479700    opi  2.422173e+08          4.0  6.318990e+06   \n",
       "..             ...    ...           ...          ...           ...   \n",
       "97          479700   fpop  8.559696e+07         97.0  6.236100e+06   \n",
       "98          479700   fpop  8.998865e+07         98.0  6.236100e+06   \n",
       "99          479700   fpop  9.195135e+07         99.0  6.236100e+06   \n",
       "100         479700   fpop  8.636084e+07        100.0  6.236100e+06   \n",
       "101         479700   fpop  8.633934e+07        101.0  6.236100e+06   \n",
       "\n",
       "    scenario-beta scenario-rate scenario-tot             scenario  \n",
       "0               U            r3      t479700     U-r3-t479700-id0  \n",
       "1               U            r3      t479700     U-r3-t479700-id0  \n",
       "2               U            r3      t479700     U-r3-t479700-id0  \n",
       "3               U            r3      t479700     U-r3-t479700-id0  \n",
       "4               U            r3      t479700     U-r3-t479700-id0  \n",
       "..            ...           ...          ...                  ...  \n",
       "97              L          r150      t479700  L-r150-t479700-id15  \n",
       "98              L          r150      t479700  L-r150-t479700-id15  \n",
       "99              L          r150      t479700  L-r150-t479700-id15  \n",
       "100             L          r150      t479700  L-r150-t479700-id15  \n",
       "101             L          r150      t479700  L-r150-t479700-id15  \n",
       "\n",
       "[17952 rows x 9 columns]"
      ]
     },
     "execution_count": 13,
     "metadata": {},
     "output_type": "execute_result"
    }
   ],
   "source": [
    "scn_results"
   ]
  },
  {
   "cell_type": "code",
   "execution_count": 14,
   "metadata": {
    "execution": {
     "iopub.execute_input": "2021-02-22T11:20:43.244723Z",
     "iopub.status.busy": "2021-02-22T11:20:43.244485Z",
     "iopub.status.idle": "2021-02-22T11:20:43.252005Z",
     "shell.execute_reply": "2021-02-22T11:20:43.251285Z",
     "shell.execute_reply.started": "2021-02-22T11:20:43.244695Z"
    }
   },
   "outputs": [],
   "source": [
    "nbtileU = int(len(scn_results.loc[scn_results['scenario-beta'] == 'U', 'scenario-tot'])/len(scenarios_baseline['U']))\n",
    "nbtileL = int(len(scn_results.loc[scn_results['scenario-beta'] == 'L', 'scenario-tot'])/len(scenarios_baseline['L']))"
   ]
  },
  {
   "cell_type": "code",
   "execution_count": 15,
   "metadata": {
    "execution": {
     "iopub.execute_input": "2021-02-22T11:20:44.498485Z",
     "iopub.status.busy": "2021-02-22T11:20:44.498221Z",
     "iopub.status.idle": "2021-02-22T11:20:44.509281Z",
     "shell.execute_reply": "2021-02-22T11:20:44.508545Z",
     "shell.execute_reply.started": "2021-02-22T11:20:44.498456Z"
    }
   },
   "outputs": [],
   "source": [
    "scn_results['bl'] = 0\n",
    "\n",
    "scn_results.loc[scn_results['scenario-beta'] == 'U', 'bl'] = np.tile(scenarios_baseline['U'],nbtileU)\n",
    "scn_results.loc[scn_results['scenario-beta'] == 'L', 'bl'] = np.tile(scenarios_baseline['L'],nbtileL)"
   ]
  },
  {
   "cell_type": "code",
   "execution_count": 16,
   "metadata": {
    "execution": {
     "iopub.execute_input": "2021-02-22T11:20:46.227401Z",
     "iopub.status.busy": "2021-02-22T11:20:46.227194Z",
     "iopub.status.idle": "2021-02-22T11:20:46.231828Z",
     "shell.execute_reply": "2021-02-22T11:20:46.231232Z",
     "shell.execute_reply.started": "2021-02-22T11:20:46.227378Z"
    }
   },
   "outputs": [],
   "source": [
    "scn_results['averted'] = scn_results['bl'] - scn_results['infected']\n",
    "scn_results['avertedpervacc'] = scn_results['averted']/scn_results['doses']"
   ]
  },
  {
   "cell_type": "code",
   "execution_count": 17,
   "metadata": {
    "execution": {
     "iopub.execute_input": "2021-02-22T11:20:47.918320Z",
     "iopub.status.busy": "2021-02-22T11:20:47.918086Z",
     "iopub.status.idle": "2021-02-22T11:20:48.127829Z",
     "shell.execute_reply": "2021-02-22T11:20:48.127209Z",
     "shell.execute_reply.started": "2021-02-22T11:20:47.918293Z"
    }
   },
   "outputs": [],
   "source": [
    "scn_results.to_csv(f'{generated_dir}/all_summary.csv')"
   ]
  },
  {
   "cell_type": "code",
   "execution_count": 26,
   "metadata": {
    "execution": {
     "iopub.execute_input": "2021-02-18T16:27:54.418459Z",
     "iopub.status.busy": "2021-02-18T16:27:54.418228Z",
     "iopub.status.idle": "2021-02-18T16:27:54.423592Z",
     "shell.execute_reply": "2021-02-18T16:27:54.422775Z",
     "shell.execute_reply.started": "2021-02-18T16:27:54.418432Z"
    }
   },
   "outputs": [],
   "source": [
    "scenarios_specs = {\n",
    "'vaccpermonthM': [1.5, 15, 150],  # ax.set_ylim(0.05, 0.4)\n",
    "# 'vacctotalM': [2, 5, 10, 15, 20],\n",
    "'newdoseperweek': [125000, 250000, 479700, 1e6, 1.5e6, 2e6],\n",
    "'epicourse': ['U', 'L']  # 'U'\n",
    "}\n",
    "\n",
    "import itertools\n",
    "# Compute all permutatios\n",
    "keys, values = zip(*scenarios_specs.items())\n",
    "permuted_specs = [dict(zip(keys, v)) for v in itertools.product(*values)]"
   ]
  },
  {
   "cell_type": "code",
   "execution_count": 27,
   "metadata": {
    "execution": {
     "iopub.execute_input": "2021-02-18T16:27:57.970843Z",
     "iopub.status.busy": "2021-02-18T16:27:57.970676Z",
     "iopub.status.idle": "2021-02-18T16:27:57.980921Z",
     "shell.execute_reply": "2021-02-18T16:27:57.980233Z",
     "shell.execute_reply.started": "2021-02-18T16:27:57.970825Z"
    }
   },
   "outputs": [
    {
     "data": {
      "text/html": [
       "<div>\n",
       "<style scoped>\n",
       "    .dataframe tbody tr th:only-of-type {\n",
       "        vertical-align: middle;\n",
       "    }\n",
       "\n",
       "    .dataframe tbody tr th {\n",
       "        vertical-align: top;\n",
       "    }\n",
       "\n",
       "    .dataframe thead th {\n",
       "        text-align: right;\n",
       "    }\n",
       "</style>\n",
       "<table border=\"1\" class=\"dataframe\">\n",
       "  <thead>\n",
       "    <tr style=\"text-align: right;\">\n",
       "      <th></th>\n",
       "      <th>vaccpermonthM</th>\n",
       "      <th>newdoseperweek</th>\n",
       "      <th>epicourse</th>\n",
       "    </tr>\n",
       "  </thead>\n",
       "  <tbody>\n",
       "    <tr>\n",
       "      <th>0</th>\n",
       "      <td>1.5</td>\n",
       "      <td>479700.0</td>\n",
       "      <td>U</td>\n",
       "    </tr>\n",
       "    <tr>\n",
       "      <th>1</th>\n",
       "      <td>1.5</td>\n",
       "      <td>479700.0</td>\n",
       "      <td>L</td>\n",
       "    </tr>\n",
       "    <tr>\n",
       "      <th>2</th>\n",
       "      <td>15.0</td>\n",
       "      <td>125000.0</td>\n",
       "      <td>U</td>\n",
       "    </tr>\n",
       "    <tr>\n",
       "      <th>3</th>\n",
       "      <td>15.0</td>\n",
       "      <td>125000.0</td>\n",
       "      <td>L</td>\n",
       "    </tr>\n",
       "    <tr>\n",
       "      <th>4</th>\n",
       "      <td>15.0</td>\n",
       "      <td>250000.0</td>\n",
       "      <td>U</td>\n",
       "    </tr>\n",
       "    <tr>\n",
       "      <th>5</th>\n",
       "      <td>15.0</td>\n",
       "      <td>250000.0</td>\n",
       "      <td>L</td>\n",
       "    </tr>\n",
       "    <tr>\n",
       "      <th>6</th>\n",
       "      <td>15.0</td>\n",
       "      <td>479700.0</td>\n",
       "      <td>U</td>\n",
       "    </tr>\n",
       "    <tr>\n",
       "      <th>7</th>\n",
       "      <td>15.0</td>\n",
       "      <td>479700.0</td>\n",
       "      <td>L</td>\n",
       "    </tr>\n",
       "    <tr>\n",
       "      <th>8</th>\n",
       "      <td>15.0</td>\n",
       "      <td>1000000.0</td>\n",
       "      <td>U</td>\n",
       "    </tr>\n",
       "    <tr>\n",
       "      <th>9</th>\n",
       "      <td>15.0</td>\n",
       "      <td>1000000.0</td>\n",
       "      <td>L</td>\n",
       "    </tr>\n",
       "    <tr>\n",
       "      <th>10</th>\n",
       "      <td>15.0</td>\n",
       "      <td>1500000.0</td>\n",
       "      <td>U</td>\n",
       "    </tr>\n",
       "    <tr>\n",
       "      <th>11</th>\n",
       "      <td>15.0</td>\n",
       "      <td>1500000.0</td>\n",
       "      <td>L</td>\n",
       "    </tr>\n",
       "    <tr>\n",
       "      <th>12</th>\n",
       "      <td>15.0</td>\n",
       "      <td>2000000.0</td>\n",
       "      <td>U</td>\n",
       "    </tr>\n",
       "    <tr>\n",
       "      <th>13</th>\n",
       "      <td>15.0</td>\n",
       "      <td>2000000.0</td>\n",
       "      <td>L</td>\n",
       "    </tr>\n",
       "    <tr>\n",
       "      <th>14</th>\n",
       "      <td>150.0</td>\n",
       "      <td>479700.0</td>\n",
       "      <td>U</td>\n",
       "    </tr>\n",
       "    <tr>\n",
       "      <th>15</th>\n",
       "      <td>150.0</td>\n",
       "      <td>479700.0</td>\n",
       "      <td>L</td>\n",
       "    </tr>\n",
       "  </tbody>\n",
       "</table>\n",
       "</div>"
      ],
      "text/plain": [
       "    vaccpermonthM  newdoseperweek epicourse\n",
       "0             1.5        479700.0         U\n",
       "1             1.5        479700.0         L\n",
       "2            15.0        125000.0         U\n",
       "3            15.0        125000.0         L\n",
       "4            15.0        250000.0         U\n",
       "5            15.0        250000.0         L\n",
       "6            15.0        479700.0         U\n",
       "7            15.0        479700.0         L\n",
       "8            15.0       1000000.0         U\n",
       "9            15.0       1000000.0         L\n",
       "10           15.0       1500000.0         U\n",
       "11           15.0       1500000.0         L\n",
       "12           15.0       2000000.0         U\n",
       "13           15.0       2000000.0         L\n",
       "14          150.0        479700.0         U\n",
       "15          150.0        479700.0         L"
      ]
     },
     "execution_count": 27,
     "metadata": {},
     "output_type": "execute_result"
    }
   ],
   "source": [
    "specs = pd.DataFrame.from_dict(permuted_specs)\n",
    "specs = specs[((specs['vaccpermonthM'] == 15.0) | (specs['newdoseperweek'] == 479700.0))].reset_index(drop = True)\n",
    "specs"
   ]
  },
  {
   "cell_type": "code",
   "execution_count": 19,
   "metadata": {
    "execution": {
     "iopub.execute_input": "2021-02-12T17:34:28.232288Z",
     "iopub.status.busy": "2021-02-12T17:34:28.232067Z",
     "iopub.status.idle": "2021-02-12T17:34:28.238757Z",
     "shell.execute_reply": "2021-02-12T17:34:28.238066Z",
     "shell.execute_reply.started": "2021-02-12T17:34:28.232263Z"
    }
   },
   "outputs": [],
   "source": [
    "specs.to_csv('scenarios_specs_2021-02-12.csv')"
   ]
  }
 ],
 "metadata": {
  "kernelspec": {
   "display_name": "Python (ocp-covid)",
   "language": "python",
   "name": "ocp-covid"
  },
  "language_info": {
   "codemirror_mode": {
    "name": "ipython",
    "version": 3
   },
   "file_extension": ".py",
   "mimetype": "text/x-python",
   "name": "python",
   "nbconvert_exporter": "python",
   "pygments_lexer": "ipython3",
   "version": "3.7.9"
  }
 },
 "nbformat": 4,
 "nbformat_minor": 4
}
