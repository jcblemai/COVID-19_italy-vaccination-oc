{
 "cells": [
  {
   "cell_type": "markdown",
   "metadata": {
    "execution": {
     "iopub.execute_input": "2020-12-22T17:15:12.988706Z",
     "iopub.status.busy": "2020-12-22T17:15:12.988298Z",
     "iopub.status.idle": "2020-12-22T17:15:13.230048Z",
     "shell.execute_reply": "2020-12-22T17:15:13.228271Z",
     "shell.execute_reply.started": "2020-12-22T17:15:12.988665Z"
    }
   },
   "source": [
    "ens_exposed[0]# Comparison of scenarios\n",
    "\n",
    "1. re"
   ]
  },
  {
   "cell_type": "code",
   "execution_count": 9,
   "metadata": {
    "execution": {
     "iopub.execute_input": "2021-02-01T18:00:10.163134Z",
     "iopub.status.busy": "2021-02-01T18:00:10.162901Z",
     "iopub.status.idle": "2021-02-01T18:00:10.424750Z",
     "shell.execute_reply": "2021-02-01T18:00:10.424117Z",
     "shell.execute_reply.started": "2021-02-01T18:00:10.163107Z"
    }
   },
   "outputs": [
    {
     "name": "stdout",
     "output_type": "stream",
     "text": [
      "Loaded Italy Setup with 107 nodes.\n",
      "Loaded Italy Setup with 107 nodes.\n"
     ]
    },
    {
     "data": {
      "text/plain": [
       "dict_keys(['U-r15-t125000-id0', 'L-r15-t125000-id1', 'U-r300-t125000-id2', 'L-r300-t125000-id3', 'U-r15-t250000-id4', 'L-r15-t250000-id5', 'U-r300-t250000-id6', 'L-r300-t250000-id7', 'U-r15-t479700-id8', 'L-r15-t479700-id9', 'U-r300-t479700-id10', 'L-r300-t479700-id11', 'U-r15-t1000000-id12', 'L-r15-t1000000-id13', 'U-r300-t1000000-id14'])"
      ]
     },
     "execution_count": 9,
     "metadata": {},
     "output_type": "execute_result"
    }
   ],
   "source": [
    "import copy\n",
    "import matplotlib as mpl\n",
    "import matplotlib.pyplot as plt\n",
    "import numpy as np\n",
    "import pandas as pd\n",
    "import networkx\n",
    "from ItalySetup import ItalySetup\n",
    "from covidOCP import COVIDVaccinationOCP, COVIDParametersOCP\n",
    "from main import pick_scenario, build_scenario\n",
    "import seaborn as sns\n",
    "import datetime\n",
    "import pickle\n",
    "import os\n",
    "\n",
    "nx = 9\n",
    "states_names = ['S', 'E', 'P', 'I', 'A', 'Q', 'H', 'R', 'V']\n",
    "when = 'future'\n",
    "file_prefix = f'week'\n",
    "outdir = 'helvetios-runs/2021-01-30-107_30/'\n",
    "\n",
    "generated_dir = 'model_output/scenarios_new_30'\n",
    "\n",
    "n_int_steps = 6\n",
    "nnodes = 107  # nodes\n",
    "ndays_ocp = 30\n",
    "ndays = 30\n",
    "\n",
    "setup = ItalySetup(nnodes, ndays, when)\n",
    "setup_ocp = ItalySetup(nnodes, ndays_ocp, when)\n",
    "M = setup.nnodes\n",
    "N = len(setup.model_days) - 1\n",
    "\n",
    "with open(f'italy-data/parameters_{nnodes}_{when}.pkl', 'rb') as inp:\n",
    "    p = pickle.load(inp)\n",
    "    \n",
    "os.makedirs(f'{generated_dir}', exist_ok=True)\n",
    "\n",
    "scenarios = {pick_scenario(setup, i)['name']:pick_scenario(setup, i) for i in np.arange(15)}\n",
    "scenarios.keys()"
   ]
  },
  {
   "cell_type": "code",
   "execution_count": 2,
   "metadata": {
    "execution": {
     "iopub.execute_input": "2021-02-01T17:50:47.672032Z",
     "iopub.status.busy": "2021-02-01T17:50:47.671808Z",
     "iopub.status.idle": "2021-02-01T17:50:47.675103Z",
     "shell.execute_reply": "2021-02-01T17:50:47.674516Z",
     "shell.execute_reply.started": "2021-02-01T17:50:47.672006Z"
    }
   },
   "outputs": [],
   "source": [
    "# Choose a subset of scenarios:\n",
    "#pick = 'L-r15'\n",
    "#scenarios = {k:v for (k,v) in scenarios.items() if pick in k}\n",
    "#print(len(scenarios))"
   ]
  },
  {
   "cell_type": "code",
   "execution_count": 10,
   "metadata": {
    "execution": {
     "iopub.execute_input": "2021-02-01T18:00:20.584335Z",
     "iopub.status.busy": "2021-02-01T18:00:20.584107Z",
     "iopub.status.idle": "2021-02-01T18:04:24.047215Z",
     "shell.execute_reply": "2021-02-01T18:04:24.046756Z",
     "shell.execute_reply.started": "2021-02-01T18:00:20.584309Z"
    },
    "scrolled": true
   },
   "outputs": [
    {
     "name": "stdout",
     "output_type": "stream",
     "text": [
      "YES helvetios-runs/2021-01-30-107_30/week-U-r15-t125000-id0-opt-107_30.csv\n"
     ]
    },
    {
     "name": "stderr",
     "output_type": "stream",
     "text": [
      " 10%|█         | 3/29 [00:00<00:01, 22.32it/s]"
     ]
    },
    {
     "name": "stdout",
     "output_type": "stream",
     "text": [
      "===> Integrating for model_output/scenarios_new_30/U-r15-t125000-id0-opi-107_30\n"
     ]
    },
    {
     "name": "stderr",
     "output_type": "stream",
     "text": [
      "100%|██████████| 29/29 [00:01<00:00, 22.11it/s]\n",
      " 10%|█         | 3/29 [00:00<00:01, 20.46it/s]"
     ]
    },
    {
     "name": "stdout",
     "output_type": "stream",
     "text": [
      "--> DONE U-r15-t125000-id0\n",
      "===> Integrating for model_output/scenarios_new_30/U-r15-t125000-id0-novacc-107_30\n"
     ]
    },
    {
     "name": "stderr",
     "output_type": "stream",
     "text": [
      "100%|██████████| 29/29 [00:01<00:00, 20.44it/s]\n"
     ]
    },
    {
     "name": "stdout",
     "output_type": "stream",
     "text": [
      "YES helvetios-runs/2021-01-30-107_30/week-L-r15-t125000-id1-opt-107_30.csv\n"
     ]
    },
    {
     "name": "stderr",
     "output_type": "stream",
     "text": [
      " 10%|█         | 3/29 [00:00<00:01, 20.34it/s]"
     ]
    },
    {
     "name": "stdout",
     "output_type": "stream",
     "text": [
      "===> Integrating for model_output/scenarios_new_30/L-r15-t125000-id1-opi-107_30\n"
     ]
    },
    {
     "name": "stderr",
     "output_type": "stream",
     "text": [
      "100%|██████████| 29/29 [00:01<00:00, 21.52it/s]\n",
      " 10%|█         | 3/29 [00:00<00:01, 20.58it/s]"
     ]
    },
    {
     "name": "stdout",
     "output_type": "stream",
     "text": [
      "--> DONE L-r15-t125000-id1\n",
      "===> Integrating for model_output/scenarios_new_30/L-r15-t125000-id1-novacc-107_30\n"
     ]
    },
    {
     "name": "stderr",
     "output_type": "stream",
     "text": [
      "100%|██████████| 29/29 [00:01<00:00, 21.48it/s]\n"
     ]
    },
    {
     "name": "stdout",
     "output_type": "stream",
     "text": [
      "YES helvetios-runs/2021-01-30-107_30/week-U-r300-t125000-id2-opt-107_30.csv\n"
     ]
    },
    {
     "name": "stderr",
     "output_type": "stream",
     "text": [
      " 10%|█         | 3/29 [00:00<00:01, 21.37it/s]"
     ]
    },
    {
     "name": "stdout",
     "output_type": "stream",
     "text": [
      "===> Integrating for model_output/scenarios_new_30/U-r300-t125000-id2-opi-107_30\n"
     ]
    },
    {
     "name": "stderr",
     "output_type": "stream",
     "text": [
      "100%|██████████| 29/29 [00:01<00:00, 20.49it/s]\n"
     ]
    },
    {
     "name": "stdout",
     "output_type": "stream",
     "text": [
      "--> DONE U-r300-t125000-id2\n",
      "YES helvetios-runs/2021-01-30-107_30/week-L-r300-t125000-id3-opt-107_30.csv\n"
     ]
    },
    {
     "name": "stderr",
     "output_type": "stream",
     "text": [
      " 10%|█         | 3/29 [00:00<00:01, 22.44it/s]"
     ]
    },
    {
     "name": "stdout",
     "output_type": "stream",
     "text": [
      "===> Integrating for model_output/scenarios_new_30/L-r300-t125000-id3-opi-107_30\n"
     ]
    },
    {
     "name": "stderr",
     "output_type": "stream",
     "text": [
      "100%|██████████| 29/29 [00:01<00:00, 22.01it/s]\n"
     ]
    },
    {
     "name": "stdout",
     "output_type": "stream",
     "text": [
      "--> DONE L-r300-t125000-id3\n",
      "YES helvetios-runs/2021-01-30-107_30/week-U-r15-t250000-id4-opt-107_30.csv\n"
     ]
    },
    {
     "name": "stderr",
     "output_type": "stream",
     "text": [
      " 10%|█         | 3/29 [00:00<00:01, 22.54it/s]"
     ]
    },
    {
     "name": "stdout",
     "output_type": "stream",
     "text": [
      "===> Integrating for model_output/scenarios_new_30/U-r15-t250000-id4-opi-107_30\n"
     ]
    },
    {
     "name": "stderr",
     "output_type": "stream",
     "text": [
      "100%|██████████| 29/29 [00:01<00:00, 21.96it/s]\n"
     ]
    },
    {
     "name": "stdout",
     "output_type": "stream",
     "text": [
      "--> DONE U-r15-t250000-id4\n",
      "YES helvetios-runs/2021-01-30-107_30/week-L-r15-t250000-id5-opt-107_30.csv\n"
     ]
    },
    {
     "name": "stderr",
     "output_type": "stream",
     "text": [
      " 10%|█         | 3/29 [00:00<00:01, 22.52it/s]"
     ]
    },
    {
     "name": "stdout",
     "output_type": "stream",
     "text": [
      "===> Integrating for model_output/scenarios_new_30/L-r15-t250000-id5-opi-107_30\n"
     ]
    },
    {
     "name": "stderr",
     "output_type": "stream",
     "text": [
      "100%|██████████| 29/29 [00:01<00:00, 21.00it/s]\n"
     ]
    },
    {
     "name": "stdout",
     "output_type": "stream",
     "text": [
      "--> DONE L-r15-t250000-id5\n",
      "YES helvetios-runs/2021-01-30-107_30/week-U-r300-t250000-id6-opt-107_30.csv\n"
     ]
    },
    {
     "name": "stderr",
     "output_type": "stream",
     "text": [
      " 10%|█         | 3/29 [00:00<00:01, 22.57it/s]"
     ]
    },
    {
     "name": "stdout",
     "output_type": "stream",
     "text": [
      "===> Integrating for model_output/scenarios_new_30/U-r300-t250000-id6-opi-107_30\n"
     ]
    },
    {
     "name": "stderr",
     "output_type": "stream",
     "text": [
      "100%|██████████| 29/29 [00:01<00:00, 20.84it/s]\n"
     ]
    },
    {
     "name": "stdout",
     "output_type": "stream",
     "text": [
      "--> DONE U-r300-t250000-id6\n",
      "YES helvetios-runs/2021-01-30-107_30/week-L-r300-t250000-id7-opt-107_30.csv\n"
     ]
    },
    {
     "name": "stderr",
     "output_type": "stream",
     "text": [
      " 10%|█         | 3/29 [00:00<00:01, 22.13it/s]"
     ]
    },
    {
     "name": "stdout",
     "output_type": "stream",
     "text": [
      "===> Integrating for model_output/scenarios_new_30/L-r300-t250000-id7-opi-107_30\n"
     ]
    },
    {
     "name": "stderr",
     "output_type": "stream",
     "text": [
      "100%|██████████| 29/29 [00:01<00:00, 21.94it/s]\n"
     ]
    },
    {
     "name": "stdout",
     "output_type": "stream",
     "text": [
      "--> DONE L-r300-t250000-id7\n",
      "YES helvetios-runs/2021-01-30-107_30/week-U-r15-t479700-id8-opt-107_30.csv\n"
     ]
    },
    {
     "name": "stderr",
     "output_type": "stream",
     "text": [
      " 10%|█         | 3/29 [00:00<00:01, 21.17it/s]"
     ]
    },
    {
     "name": "stdout",
     "output_type": "stream",
     "text": [
      "===> Integrating for model_output/scenarios_new_30/U-r15-t479700-id8-opi-107_30\n"
     ]
    },
    {
     "name": "stderr",
     "output_type": "stream",
     "text": [
      "100%|██████████| 29/29 [00:01<00:00, 21.21it/s]\n"
     ]
    },
    {
     "name": "stdout",
     "output_type": "stream",
     "text": [
      "--> DONE U-r15-t479700-id8\n",
      "YES helvetios-runs/2021-01-30-107_30/week-L-r15-t479700-id9-opt-107_30.csv\n"
     ]
    },
    {
     "name": "stderr",
     "output_type": "stream",
     "text": [
      " 10%|█         | 3/29 [00:00<00:01, 20.61it/s]"
     ]
    },
    {
     "name": "stdout",
     "output_type": "stream",
     "text": [
      "===> Integrating for model_output/scenarios_new_30/L-r15-t479700-id9-opi-107_30\n"
     ]
    },
    {
     "name": "stderr",
     "output_type": "stream",
     "text": [
      "100%|██████████| 29/29 [00:01<00:00, 21.21it/s]\n"
     ]
    },
    {
     "name": "stdout",
     "output_type": "stream",
     "text": [
      "--> DONE L-r15-t479700-id9\n",
      "YES helvetios-runs/2021-01-30-107_30/week-U-r300-t479700-id10-opt-107_30.csv\n"
     ]
    },
    {
     "name": "stderr",
     "output_type": "stream",
     "text": [
      " 10%|█         | 3/29 [00:00<00:01, 22.68it/s]"
     ]
    },
    {
     "name": "stdout",
     "output_type": "stream",
     "text": [
      "===> Integrating for model_output/scenarios_new_30/U-r300-t479700-id10-opi-107_30\n"
     ]
    },
    {
     "name": "stderr",
     "output_type": "stream",
     "text": [
      "100%|██████████| 29/29 [00:01<00:00, 22.24it/s]\n"
     ]
    },
    {
     "name": "stdout",
     "output_type": "stream",
     "text": [
      "--> DONE U-r300-t479700-id10\n",
      "YES helvetios-runs/2021-01-30-107_30/week-L-r300-t479700-id11-opt-107_30.csv\n"
     ]
    },
    {
     "name": "stderr",
     "output_type": "stream",
     "text": [
      " 10%|█         | 3/29 [00:00<00:01, 21.39it/s]"
     ]
    },
    {
     "name": "stdout",
     "output_type": "stream",
     "text": [
      "===> Integrating for model_output/scenarios_new_30/L-r300-t479700-id11-opi-107_30\n"
     ]
    },
    {
     "name": "stderr",
     "output_type": "stream",
     "text": [
      "100%|██████████| 29/29 [00:01<00:00, 21.96it/s]\n"
     ]
    },
    {
     "name": "stdout",
     "output_type": "stream",
     "text": [
      "--> DONE L-r300-t479700-id11\n",
      "YES helvetios-runs/2021-01-30-107_30/week-U-r15-t1000000-id12-opt-107_30.csv\n"
     ]
    },
    {
     "name": "stderr",
     "output_type": "stream",
     "text": [
      " 10%|█         | 3/29 [00:00<00:01, 22.06it/s]"
     ]
    },
    {
     "name": "stdout",
     "output_type": "stream",
     "text": [
      "===> Integrating for model_output/scenarios_new_30/U-r15-t1000000-id12-opi-107_30\n"
     ]
    },
    {
     "name": "stderr",
     "output_type": "stream",
     "text": [
      "100%|██████████| 29/29 [00:01<00:00, 20.41it/s]\n"
     ]
    },
    {
     "name": "stdout",
     "output_type": "stream",
     "text": [
      "--> DONE U-r15-t1000000-id12\n",
      "YES helvetios-runs/2021-01-30-107_30/week-L-r15-t1000000-id13-opt-107_30.csv\n"
     ]
    },
    {
     "name": "stderr",
     "output_type": "stream",
     "text": [
      " 10%|█         | 3/29 [00:00<00:01, 20.76it/s]"
     ]
    },
    {
     "name": "stdout",
     "output_type": "stream",
     "text": [
      "===> Integrating for model_output/scenarios_new_30/L-r15-t1000000-id13-opi-107_30\n"
     ]
    },
    {
     "name": "stderr",
     "output_type": "stream",
     "text": [
      "100%|██████████| 29/29 [00:01<00:00, 19.77it/s]\n"
     ]
    },
    {
     "name": "stdout",
     "output_type": "stream",
     "text": [
      "--> DONE L-r15-t1000000-id13\n",
      "YES helvetios-runs/2021-01-30-107_30/week-U-r300-t1000000-id14-opt-107_30.csv\n"
     ]
    },
    {
     "name": "stderr",
     "output_type": "stream",
     "text": [
      " 17%|█▋        | 5/29 [00:00<00:01, 20.50it/s]"
     ]
    },
    {
     "name": "stdout",
     "output_type": "stream",
     "text": [
      "===> Integrating for model_output/scenarios_new_30/U-r300-t1000000-id14-opi-107_30\n"
     ]
    },
    {
     "name": "stderr",
     "output_type": "stream",
     "text": [
      "100%|██████████| 29/29 [00:01<00:00, 20.85it/s]\n"
     ]
    },
    {
     "name": "stdout",
     "output_type": "stream",
     "text": [
      "--> DONE U-r300-t1000000-id14\n"
     ]
    }
   ],
   "source": [
    "scenarios_opt = {}\n",
    "scenarios_baseline = {}\n",
    "## Re-integrate vacc\n",
    "for scenario_name, scenario in scenarios.items():\n",
    "    fname = f\"{outdir}{file_prefix}-{scenario_name}-opt-{nnodes}_{ndays_ocp}.csv\"  # '-'.join(scenario_name.split('-')[:-1])\n",
    "    try:\n",
    "        md = pd.read_csv(fname, index_col= 'date', parse_dates=True)\n",
    "        print(f'YES {fname}')\n",
    "    \n",
    "        # Build scenario\n",
    "        maxvaccrate_regional, delivery_national, stockpile_national_constraint, control_initial = build_scenario(setup, scenario)\n",
    "        M = setup.nnodes\n",
    "        N = setup.ndays - 1\n",
    "        control_initial = np.zeros((M, N))\n",
    "        unvac_nd = np.copy(setup.pop_node)\n",
    "        stockpile = 0\n",
    "        for k in range(ndays_ocp - 1):\n",
    "            stockpile += delivery_national[k]\n",
    "            for nodename in md.place.unique():\n",
    "                nd = setup.ind2name.index(nodename)\n",
    "                to_allocate = md[(md['place'] == nodename) & (md['comp'] == 'vacc')].iloc[k]['value']\n",
    "                to_allocate = min(to_allocate, maxvaccrate_regional[nd, k], unvac_nd[nd], stockpile)\n",
    "                control_initial[nd, k] = to_allocate\n",
    "                stockpile -= to_allocate\n",
    "                unvac_nd[nd] -= to_allocate\n",
    "        p.apply_epicourse(setup, scenario['beta_mult'])\n",
    "        # END Build scenario\n",
    "\n",
    "        results, state_initial, yell, mob = COVIDVaccinationOCP.integrate(N,\n",
    "                                                                          setup=setup,\n",
    "                                                                          parameters=p,\n",
    "                                                                          controls=control_initial,\n",
    "                                                                          save_to=f'{generated_dir}/{scenario_name}-opi-{nnodes}_{ndays}',\n",
    "                                                                          n_rk4_steps=n_int_steps)\n",
    "        results.set_index('date', drop=True, inplace=True)\n",
    "        scenarios_opt[scenario_name] = scenario\n",
    "        print(f'--> DONE {scenario_name}')\n",
    "\n",
    "        if scenario_name.split('-')[0] not in scenarios_baseline:\n",
    "            control_initial = np.zeros((M, N))\n",
    "            # Generate NO vaccination scenarios\n",
    "            results, state_initial, yell, mob = COVIDVaccinationOCP.integrate(N,\n",
    "                                                                      setup=setup,\n",
    "                                                                      parameters=p,\n",
    "                                                                      controls=control_initial,\n",
    "                                                                      save_to=f'{generated_dir}/{scenario_name}-novacc-{nnodes}_{ndays}',\n",
    "                                                                      n_rk4_steps=n_int_steps)\n",
    "            scenarios_baseline[scenario_name.split('-')[0]] = pd.read_csv(f'{generated_dir}/{scenario_name}-novacc-{nnodes}_{ndays}.csv', \n",
    "                                                                         index_col= 'date', parse_dates=True)\n",
    "\n",
    "\n",
    "    except FileNotFoundError:\n",
    "        print(f'NOT {fname}')"
   ]
  },
  {
   "cell_type": "code",
   "execution_count": null,
   "metadata": {},
   "outputs": [],
   "source": []
  },
  {
   "cell_type": "code",
   "execution_count": 13,
   "metadata": {
    "execution": {
     "iopub.execute_input": "2021-02-01T18:07:39.092565Z",
     "iopub.status.busy": "2021-02-01T18:07:39.092315Z",
     "iopub.status.idle": "2021-02-01T18:08:43.466078Z",
     "shell.execute_reply": "2021-02-01T18:08:43.464750Z",
     "shell.execute_reply.started": "2021-02-01T18:07:39.092536Z"
    },
    "scrolled": true
   },
   "outputs": [
    {
     "name": "stdout",
     "output_type": "stream",
     "text": [
      "===> Integrating for model_output/scenarios_new_30/U-r15-t125000-id0-inc-107_30===> Integrating for model_output/scenarios_new_30/U-r15-t479700-id8-inc-107_30===> Integrating for model_output/scenarios_new_30/L-r15-t125000-id1-inc-107_30===> Integrating for model_output/scenarios_new_30/L-r15-t250000-id5-inc-107_30\n",
      "\n",
      "\n",
      "\n"
     ]
    },
    {
     "name": "stderr",
     "output_type": "stream",
     "text": [
      "  0%|          | 0/29 [00:00<?, ?it/s]"
     ]
    },
    {
     "name": "stdout",
     "output_type": "stream",
     "text": [
      "===> Integrating for model_output/scenarios_new_30/L-r300-t479700-id11-inc-107_30===> Integrating for model_output/scenarios_new_30/L-r300-t250000-id7-inc-107_30"
     ]
    },
    {
     "name": "stderr",
     "output_type": "stream",
     "text": [
      "  0%|          | 0/29 [00:00<?, ?it/s]"
     ]
    },
    {
     "name": "stdout",
     "output_type": "stream",
     "text": [
      "===> Integrating for model_output/scenarios_new_30/U-r300-t125000-id2-inc-107_30\n"
     ]
    },
    {
     "name": "stderr",
     "output_type": "stream",
     "text": [
      "  0%|          | 0/29 [00:00<?, ?it/s]"
     ]
    },
    {
     "name": "stdout",
     "output_type": "stream",
     "text": [
      "\n",
      "===> Integrating for model_output/scenarios_new_30/U-r15-t250000-id4-inc-107_30===> Integrating for model_output/scenarios_new_30/L-r300-t125000-id3-inc-107_30"
     ]
    },
    {
     "name": "stderr",
     "output_type": "stream",
     "text": [
      "  0%|          | 0/29 [00:00<?, ?it/s]"
     ]
    },
    {
     "name": "stdout",
     "output_type": "stream",
     "text": [
      "\n",
      "\n"
     ]
    },
    {
     "name": "stderr",
     "output_type": "stream",
     "text": [
      "  0%|          | 0/29 [00:00<?, ?it/s]"
     ]
    },
    {
     "name": "stdout",
     "output_type": "stream",
     "text": [
      "\n",
      "===> Integrating for model_output/scenarios_new_30/U-r300-t479700-id10-inc-107_30"
     ]
    },
    {
     "name": "stderr",
     "output_type": "stream",
     "text": [
      "  0%|          | 0/29 [00:00<?, ?it/s]"
     ]
    },
    {
     "name": "stdout",
     "output_type": "stream",
     "text": [
      "\n"
     ]
    },
    {
     "name": "stderr",
     "output_type": "stream",
     "text": [
      "  0%|          | 0/29 [00:00<?, ?it/s]"
     ]
    },
    {
     "name": "stdout",
     "output_type": "stream",
     "text": [
      "===> Integrating for model_output/scenarios_new_30/U-r15-t1000000-id12-inc-107_30===> Integrating for model_output/scenarios_new_30/L-r15-t479700-id9-inc-107_30===> Integrating for model_output/scenarios_new_30/U-r300-t1000000-id14-inc-107_30"
     ]
    },
    {
     "name": "stderr",
     "output_type": "stream",
     "text": [
      "  0%|          | 0/29 [00:00<?, ?it/s]"
     ]
    },
    {
     "name": "stdout",
     "output_type": "stream",
     "text": [
      "\n",
      "\n"
     ]
    },
    {
     "name": "stderr",
     "output_type": "stream",
     "text": [
      "  0%|          | 0/29 [00:00<?, ?it/s]"
     ]
    },
    {
     "name": "stdout",
     "output_type": "stream",
     "text": [
      "\n"
     ]
    },
    {
     "name": "stderr",
     "output_type": "stream",
     "text": [
      "  0%|          | 0/29 [00:00<?, ?it/s]"
     ]
    },
    {
     "name": "stdout",
     "output_type": "stream",
     "text": [
      "===> Integrating for model_output/scenarios_new_30/U-r300-t250000-id6-inc-107_30===> Integrating for model_output/scenarios_new_30/L-r15-t1000000-id13-inc-107_30"
     ]
    },
    {
     "name": "stderr",
     "output_type": "stream",
     "text": [
      "  0%|          | 0/29 [00:00<?, ?it/s]"
     ]
    },
    {
     "name": "stdout",
     "output_type": "stream",
     "text": [
      "\n",
      "\n"
     ]
    },
    {
     "name": "stderr",
     "output_type": "stream",
     "text": [
      "100%|██████████| 29/29 [00:03<00:00,  9.27it/s]\n",
      "100%|██████████| 29/29 [00:03<00:00,  9.25it/s]\n",
      "100%|██████████| 29/29 [00:03<00:00,  9.22it/s]\n",
      "100%|██████████| 29/29 [00:03<00:00,  9.17it/s]\n",
      "100%|██████████| 29/29 [00:03<00:00,  9.15it/s]\n",
      "100%|██████████| 29/29 [00:03<00:00,  9.16it/s]\n",
      "100%|██████████| 29/29 [00:03<00:00,  9.18it/s]\n",
      "100%|██████████| 29/29 [00:03<00:00,  9.12it/s]\n",
      "100%|██████████| 29/29 [00:03<00:00,  9.07it/s]\n",
      "100%|██████████| 29/29 [00:03<00:00,  9.09it/s]\n",
      "100%|██████████| 29/29 [00:03<00:00,  9.10it/s]\n",
      "100%|██████████| 29/29 [00:03<00:00,  9.08it/s]\n",
      "100%|██████████| 29/29 [00:03<00:00,  9.01it/s]\n",
      "100%|██████████| 29/29 [00:03<00:00,  9.06it/s]\n",
      "100%|██████████| 29/29 [00:03<00:00,  9.03it/s]\n"
     ]
    },
    {
     "name": "stdout",
     "output_type": "stream",
     "text": [
      "===> Integrating for model_output/scenarios_new_30/U-r15-t125000-id0-sus-107_30\n"
     ]
    },
    {
     "name": "stderr",
     "output_type": "stream",
     "text": [
      "  0%|          | 0/29 [00:00<?, ?it/s]"
     ]
    },
    {
     "name": "stdout",
     "output_type": "stream",
     "text": [
      "===> Integrating for model_output/scenarios_new_30/U-r15-t479700-id8-sus-107_30\n"
     ]
    },
    {
     "name": "stderr",
     "output_type": "stream",
     "text": [
      "  0%|          | 0/29 [00:00<?, ?it/s]"
     ]
    },
    {
     "name": "stdout",
     "output_type": "stream",
     "text": [
      "===> Integrating for model_output/scenarios_new_30/L-r15-t250000-id5-sus-107_30\n"
     ]
    },
    {
     "name": "stderr",
     "output_type": "stream",
     "text": [
      "  0%|          | 0/29 [00:00<?, ?it/s]"
     ]
    },
    {
     "name": "stdout",
     "output_type": "stream",
     "text": [
      "===> Integrating for model_output/scenarios_new_30/L-r15-t125000-id1-sus-107_30\n"
     ]
    },
    {
     "name": "stderr",
     "output_type": "stream",
     "text": [
      "  3%|▎         | 1/29 [00:00<00:03,  8.58it/s]"
     ]
    },
    {
     "name": "stdout",
     "output_type": "stream",
     "text": [
      "===> Integrating for model_output/scenarios_new_30/L-r300-t250000-id7-sus-107_30\n"
     ]
    },
    {
     "name": "stderr",
     "output_type": "stream",
     "text": [
      "  0%|          | 0/29 [00:00<?, ?it/s]"
     ]
    },
    {
     "name": "stdout",
     "output_type": "stream",
     "text": [
      "===> Integrating for model_output/scenarios_new_30/U-r300-t479700-id10-sus-107_30===> Integrating for model_output/scenarios_new_30/L-r15-t1000000-id13-sus-107_30\n",
      "\n",
      "===> Integrating for model_output/scenarios_new_30/U-r300-t1000000-id14-sus-107_30"
     ]
    },
    {
     "name": "stderr",
     "output_type": "stream",
     "text": [
      "  0%|          | 0/29 [00:00<?, ?it/s]"
     ]
    },
    {
     "name": "stdout",
     "output_type": "stream",
     "text": [
      "\n"
     ]
    },
    {
     "name": "stderr",
     "output_type": "stream",
     "text": [
      "  0%|          | 0/29 [00:00<?, ?it/s]"
     ]
    },
    {
     "name": "stdout",
     "output_type": "stream",
     "text": [
      "===> Integrating for model_output/scenarios_new_30/U-r15-t1000000-id12-sus-107_30===> Integrating for model_output/scenarios_new_30/U-r300-t125000-id2-sus-107_30\n",
      "\n",
      "===> Integrating for model_output/scenarios_new_30/L-r300-t125000-id3-sus-107_30"
     ]
    },
    {
     "name": "stderr",
     "output_type": "stream",
     "text": [
      "  0%|          | 0/29 [00:00<?, ?it/s]"
     ]
    },
    {
     "name": "stdout",
     "output_type": "stream",
     "text": [
      "\n"
     ]
    },
    {
     "name": "stderr",
     "output_type": "stream",
     "text": [
      "  3%|▎         | 1/29 [00:00<00:03,  7.84it/s]"
     ]
    },
    {
     "name": "stdout",
     "output_type": "stream",
     "text": [
      "===> Integrating for model_output/scenarios_new_30/L-r15-t479700-id9-sus-107_30\n",
      "===> Integrating for model_output/scenarios_new_30/L-r300-t479700-id11-sus-107_30"
     ]
    },
    {
     "name": "stderr",
     "output_type": "stream",
     "text": [
      "  0%|          | 0/29 [00:00<?, ?it/s]"
     ]
    },
    {
     "name": "stdout",
     "output_type": "stream",
     "text": [
      "\n"
     ]
    },
    {
     "name": "stderr",
     "output_type": "stream",
     "text": [
      "  3%|▎         | 1/29 [00:00<00:03,  7.96it/s]"
     ]
    },
    {
     "name": "stdout",
     "output_type": "stream",
     "text": [
      "===> Integrating for model_output/scenarios_new_30/U-r15-t250000-id4-sus-107_30\n"
     ]
    },
    {
     "name": "stderr",
     "output_type": "stream",
     "text": [
      "  3%|▎         | 1/29 [00:00<00:03,  8.72it/s]"
     ]
    },
    {
     "name": "stdout",
     "output_type": "stream",
     "text": [
      "===> Integrating for model_output/scenarios_new_30/U-r300-t250000-id6-sus-107_30"
     ]
    },
    {
     "name": "stderr",
     "output_type": "stream",
     "text": [
      "  3%|▎         | 1/29 [00:00<00:03,  8.80it/s]"
     ]
    },
    {
     "name": "stdout",
     "output_type": "stream",
     "text": [
      "\n"
     ]
    },
    {
     "name": "stderr",
     "output_type": "stream",
     "text": [
      "100%|██████████| 29/29 [00:03<00:00,  8.28it/s]\n",
      "100%|██████████| 29/29 [00:03<00:00,  8.28it/s]\n",
      "100%|██████████| 29/29 [00:03<00:00,  8.34it/s]\n",
      "100%|██████████| 29/29 [00:03<00:00,  8.21it/s]\n",
      "100%|██████████| 29/29 [00:03<00:00,  8.36it/s]\n",
      "100%|██████████| 29/29 [00:03<00:00,  8.26it/s]\n",
      "100%|██████████| 29/29 [00:03<00:00,  8.28it/s]\n",
      "100%|██████████| 29/29 [00:03<00:00,  8.30it/s]\n",
      "100%|██████████| 29/29 [00:03<00:00,  8.21it/s]\n",
      "100%|██████████| 29/29 [00:03<00:00,  8.24it/s]\n",
      "100%|██████████| 29/29 [00:03<00:00,  8.20it/s]\n",
      "100%|██████████| 29/29 [00:03<00:00,  8.21it/s]\n",
      "100%|██████████| 29/29 [00:03<00:00,  8.10it/s]\n",
      "100%|██████████| 29/29 [00:03<00:00,  8.05it/s]\n",
      "100%|██████████| 29/29 [00:03<00:00,  8.14it/s]\n"
     ]
    },
    {
     "name": "stdout",
     "output_type": "stream",
     "text": [
      "===> Integrating for model_output/scenarios_new_30/U-r15-t125000-id0-pop-107_30\n"
     ]
    },
    {
     "name": "stderr",
     "output_type": "stream",
     "text": [
      "  3%|▎         | 1/29 [00:00<00:03,  9.15it/s]"
     ]
    },
    {
     "name": "stdout",
     "output_type": "stream",
     "text": [
      "===> Integrating for model_output/scenarios_new_30/L-r15-t250000-id5-pop-107_30\n"
     ]
    },
    {
     "name": "stderr",
     "output_type": "stream",
     "text": [
      "  0%|          | 0/29 [00:00<?, ?it/s]"
     ]
    },
    {
     "name": "stdout",
     "output_type": "stream",
     "text": [
      "===> Integrating for model_output/scenarios_new_30/U-r300-t479700-id10-pop-107_30\n"
     ]
    },
    {
     "name": "stderr",
     "output_type": "stream",
     "text": [
      "  0%|          | 0/29 [00:00<?, ?it/s]"
     ]
    },
    {
     "name": "stdout",
     "output_type": "stream",
     "text": [
      "===> Integrating for model_output/scenarios_new_30/L-r15-t125000-id1-pop-107_30\n"
     ]
    },
    {
     "name": "stderr",
     "output_type": "stream",
     "text": [
      "  0%|          | 0/29 [00:00<?, ?it/s]"
     ]
    },
    {
     "name": "stdout",
     "output_type": "stream",
     "text": [
      "===> Integrating for model_output/scenarios_new_30/L-r300-t125000-id3-pop-107_30===> Integrating for model_output/scenarios_new_30/U-r15-t479700-id8-pop-107_30\n",
      "\n"
     ]
    },
    {
     "name": "stderr",
     "output_type": "stream",
     "text": [
      "  0%|          | 0/29 [00:00<?, ?it/s]"
     ]
    },
    {
     "name": "stdout",
     "output_type": "stream",
     "text": [
      "===> Integrating for model_output/scenarios_new_30/L-r15-t1000000-id13-pop-107_30\n"
     ]
    },
    {
     "name": "stderr",
     "output_type": "stream",
     "text": [
      "  7%|▋         | 2/29 [00:00<00:03,  9.00it/s]"
     ]
    },
    {
     "name": "stdout",
     "output_type": "stream",
     "text": [
      "===> Integrating for model_output/scenarios_new_30/U-r300-t125000-id2-pop-107_30\n"
     ]
    },
    {
     "name": "stderr",
     "output_type": "stream",
     "text": [
      "  0%|          | 0/29 [00:00<?, ?it/s]"
     ]
    },
    {
     "name": "stdout",
     "output_type": "stream",
     "text": [
      "===> Integrating for model_output/scenarios_new_30/U-r300-t1000000-id14-pop-107_30\n",
      "===> Integrating for model_output/scenarios_new_30/L-r300-t250000-id7-pop-107_30\n"
     ]
    },
    {
     "name": "stderr",
     "output_type": "stream",
     "text": [
      "  3%|▎         | 1/29 [00:00<00:03,  8.91it/s]"
     ]
    },
    {
     "name": "stdout",
     "output_type": "stream",
     "text": [
      "===> Integrating for model_output/scenarios_new_30/L-r15-t479700-id9-pop-107_30===> Integrating for model_output/scenarios_new_30/U-r15-t1000000-id12-pop-107_30\n",
      "\n"
     ]
    },
    {
     "name": "stderr",
     "output_type": "stream",
     "text": [
      " 10%|█         | 3/29 [00:00<00:02,  8.80it/s]"
     ]
    },
    {
     "name": "stdout",
     "output_type": "stream",
     "text": [
      "===> Integrating for model_output/scenarios_new_30/U-r15-t250000-id4-pop-107_30"
     ]
    },
    {
     "name": "stderr",
     "output_type": "stream",
     "text": [
      "  3%|▎         | 1/29 [00:00<00:03,  8.77it/s]"
     ]
    },
    {
     "name": "stdout",
     "output_type": "stream",
     "text": [
      "\n"
     ]
    },
    {
     "name": "stderr",
     "output_type": "stream",
     "text": [
      "  0%|          | 0/29 [00:00<?, ?it/s]"
     ]
    },
    {
     "name": "stdout",
     "output_type": "stream",
     "text": [
      "===> Integrating for model_output/scenarios_new_30/U-r300-t250000-id6-pop-107_30\n"
     ]
    },
    {
     "name": "stderr",
     "output_type": "stream",
     "text": [
      "  7%|▋         | 2/29 [00:00<00:03,  8.81it/s]"
     ]
    },
    {
     "name": "stdout",
     "output_type": "stream",
     "text": [
      "===> Integrating for model_output/scenarios_new_30/L-r300-t479700-id11-pop-107_30\n"
     ]
    },
    {
     "name": "stderr",
     "output_type": "stream",
     "text": [
      "100%|██████████| 29/29 [00:03<00:00,  7.93it/s]\n",
      "100%|██████████| 29/29 [00:03<00:00,  7.98it/s]\n",
      "100%|██████████| 29/29 [00:03<00:00,  7.91it/s]\n",
      "100%|██████████| 29/29 [00:03<00:00,  7.95it/s]\n",
      "100%|██████████| 29/29 [00:03<00:00,  7.98it/s]\n",
      "100%|██████████| 29/29 [00:03<00:00,  8.01it/s]\n",
      "100%|██████████| 29/29 [00:03<00:00,  7.95it/s]\n",
      "100%|██████████| 29/29 [00:03<00:00,  8.01it/s]\n",
      "100%|██████████| 29/29 [00:03<00:00,  7.88it/s]\n",
      "100%|██████████| 29/29 [00:03<00:00,  7.99it/s]\n",
      "100%|██████████| 29/29 [00:03<00:00,  7.98it/s]\n",
      "100%|██████████| 29/29 [00:03<00:00,  7.93it/s]\n",
      "100%|██████████| 29/29 [00:03<00:00,  7.99it/s]\n",
      "100%|██████████| 29/29 [00:03<00:00,  7.93it/s]\n",
      "100%|██████████| 29/29 [00:03<00:00,  7.86it/s]\n"
     ]
    }
   ],
   "source": [
    "# Generate alternatives:\n",
    "import multiprocessing as mp\n",
    "pool = mp.Pool(mp.cpu_count())\n",
    "\n",
    "def generate_all_alternatives(scenario_name, scenario):\n",
    "    # BY INCIDENCE: \n",
    "    nv = scenarios_baseline[scenario_name.split('-')[0]]\n",
    "    incid = nv[nv['comp'].isin(['yell'])].groupby('placeID').sum()\n",
    "    incid.sort_values('value', ascending=False)\n",
    "    \n",
    "    # Build scenario\n",
    "    maxvaccrate_regional, delivery_national, stockpile_national_constraint, control_initial = build_scenario(setup, scenario)\n",
    "    M = setup.nnodes\n",
    "    N = setup.ndays - 1\n",
    "    control_initial = np.zeros((M, N))\n",
    "    unvac_nd = np.copy(setup.pop_node)\n",
    "    stockpile = 0\n",
    "    for k in range(ndays_ocp -1):\n",
    "        stockpile += delivery_national[k]\n",
    "        for nodename in md.place.unique():\n",
    "            nd = setup.ind2name.index(nodename)\n",
    "            to_allocate = stockpile * incid.loc[nd]['value'] / incid['value'].sum()\n",
    "            to_allocate = min(to_allocate, maxvaccrate_regional[nd, k], unvac_nd[nd], stockpile)\n",
    "            control_initial[nd, k] = to_allocate\n",
    "            stockpile -= to_allocate\n",
    "            unvac_nd[nd] -= to_allocate\n",
    "    p.apply_epicourse(setup, scenario['beta_mult'])\n",
    "    # END Build scenario\n",
    "\n",
    "    results, state_initial, yell, mob = COVIDVaccinationOCP.integrate(N,\n",
    "                                                                      setup=setup,\n",
    "                                                                      parameters=p,\n",
    "                                                                      controls=control_initial,\n",
    "                                                                      save_to=f'{generated_dir}/{scenario_name}-inc-{nnodes}_{ndays}',\n",
    "                                                                      n_rk4_steps=n_int_steps)\n",
    "    results.set_index('date', drop=True, inplace=True)\n",
    "\n",
    "    # BY Suceptibility: \n",
    "    nv = scenarios_baseline[scenario_name.split('-')[0]]\n",
    "    incid = nv[nv['comp'].isin(['S'])].loc[str(setup.start_date)]\n",
    "    incid.set_index('placeID', inplace=True)\n",
    "    \n",
    "    # Build scenario\n",
    "    maxvaccrate_regional, delivery_national, stockpile_national_constraint, control_initial = build_scenario(setup, scenario)\n",
    "    M = setup.nnodes\n",
    "    N = setup.ndays - 1\n",
    "    control_initial = np.zeros((M, N))\n",
    "    unvac_nd = np.copy(setup.pop_node)\n",
    "    stockpile = 0\n",
    "    for k in range(ndays_ocp -1):\n",
    "        stockpile += delivery_national[k]\n",
    "        for nodename in md.place.unique():\n",
    "            nd = setup.ind2name.index(nodename)\n",
    "            to_allocate = stockpile * incid.loc[nd]['value'] / incid['value'].sum()\n",
    "            to_allocate = min(to_allocate, maxvaccrate_regional[nd, k], unvac_nd[nd], stockpile)\n",
    "            control_initial[nd, k] = to_allocate\n",
    "            stockpile -= to_allocate\n",
    "            unvac_nd[nd] -= to_allocate\n",
    "    p.apply_epicourse(setup, scenario['beta_mult'])\n",
    "    # END Build scenario\n",
    "\n",
    "    results, state_initial, yell, mob = COVIDVaccinationOCP.integrate(N,\n",
    "                                                                      setup=setup,\n",
    "                                                                      parameters=p,\n",
    "                                                                      controls=control_initial,\n",
    "                                                                      save_to=f'{generated_dir}/{scenario_name}-sus-{nnodes}_{ndays}',\n",
    "                                                                      n_rk4_steps=n_int_steps)\n",
    "    results.set_index('date', drop=True, inplace=True)\n",
    "    \n",
    "    \n",
    "    # BY POPULATION \n",
    "    # Build scenario\n",
    "    maxvaccrate_regional, delivery_national, stockpile_national_constraint, control_initial = build_scenario(setup, scenario)\n",
    "    M = setup.nnodes\n",
    "    N = setup.ndays - 1\n",
    "    control_initial = np.zeros((M, N))\n",
    "    unvac_nd = np.copy(setup.pop_node)\n",
    "    stockpile = 0\n",
    "    for k in range(ndays_ocp -1):\n",
    "        stockpile += delivery_national[k]\n",
    "        for nodename in md.place.unique():\n",
    "            pop_nd = setup.pop_node[nd]\n",
    "            nd = setup.ind2name.index(nodename)\n",
    "            to_allocate = stockpile * pop_nd / setup.pop_node.sum()\n",
    "            to_allocate = min(to_allocate, maxvaccrate_regional[nd, k], unvac_nd[nd], stockpile)\n",
    "            control_initial[nd, k] = to_allocate\n",
    "            stockpile -= to_allocate\n",
    "            unvac_nd[nd] -= to_allocate\n",
    "    p.apply_epicourse(setup, scenario['beta_mult'])\n",
    "    # END Build scenario\n",
    "\n",
    "    results, state_initial, yell, mob = COVIDVaccinationOCP.integrate(N,\n",
    "                                                                      setup=setup,\n",
    "                                                                      parameters=p,\n",
    "                                                                      controls=control_initial,\n",
    "                                                                      save_to=f'{generated_dir}/{scenario_name}-pop-{nnodes}_{ndays}',\n",
    "                                                                      n_rk4_steps=n_int_steps)\n",
    "    results.set_index('date', drop=True, inplace=True)\n",
    "\n",
    "    #TODO: Centrality based and R0 based\n",
    "    return True\n",
    "    \n",
    "all_sims = pool.starmap(generate_all_alternatives, [(scenario_name, scenario) for scenario_name, scenario in scenarios_opt.items()])"
   ]
  },
  {
   "cell_type": "markdown",
   "metadata": {
    "execution": {
     "iopub.execute_input": "2021-02-01T17:53:52.320543Z",
     "iopub.status.busy": "2021-02-01T17:53:52.320317Z",
     "iopub.status.idle": "2021-02-01T17:53:52.323514Z",
     "shell.execute_reply": "2021-02-01T17:53:52.322898Z",
     "shell.execute_reply.started": "2021-02-01T17:53:52.320517Z"
    }
   },
   "source": [
    "# Generate the averted cases for all posterior draws"
   ]
  },
  {
   "cell_type": "code",
   "execution_count": null,
   "metadata": {},
   "outputs": [],
   "source": [
    "import matlab.engine\n",
    "\n",
    "eng = matlab.engine.start_matlab()\n",
    "eng.cd('check-strats/', nargout=0)"
   ]
  },
  {
   "cell_type": "code",
   "execution_count": null,
   "metadata": {},
   "outputs": [],
   "source": [
    "scenarios = {pick_scenario(setup, i)['name']:pick_scenario(setup, i) for i in np.arange(30)}\n",
    "scenarios.keys()"
   ]
  },
  {
   "cell_type": "code",
   "execution_count": null,
   "metadata": {},
   "outputs": [],
   "source": []
  },
  {
   "cell_type": "code",
   "execution_count": null,
   "metadata": {
    "scrolled": true
   },
   "outputs": [],
   "source": [
    "scn_results = pd.DataFrame(columns=['newdoseperweek', 'method', 'infected'])\n",
    "methods = ['opi','inc', 'pop', 'sus'] # 'opt'\n",
    "\n",
    "for met in methods:\n",
    "    for scenario_name, scenario in scenarios.items():\n",
    "        filename = f'{generated_dir}/{scenario_name}-{met}-{nnodes}_{ndays}.csv'\n",
    "        if os.path.isfile(filename):\n",
    "            print(f'Doing {filename}')\n",
    "            maxvaccrate_regional, stockpile_national, stockpile_national_constraint, control_initial = build_scenario(setup, scenario)\n",
    "            p.apply_epicourse(setup, scenario['beta_mult'])\n",
    "            \n",
    "            md = pd.read_csv(filename, index_col= 'date', parse_dates=True)\n",
    "            \n",
    "            dosesV = md[md['comp'] == 'vacc'].pivot(columns='placeID', values='value').to_numpy()\n",
    "\n",
    "            \n",
    "            eng.workspace['Vdoses'] = matlab.double(dosesV.tolist())\n",
    "            eng.workspace['beta_ratio'] = matlab.double(scenario['beta_mult'][0].tolist())\n",
    "            eng.run('main_script.m', nargout=0)\n",
    "            ens_exposed = np.array(eng.eval('ens_exposed_preprocess')).flatten()\n",
    "        \n",
    "            scn_results = pd.concat([scn_results, pd.DataFrame.from_dict({'newdoseperweek':[int(scenario_name.split('-')[2][1:])]*len(ens_exposed),\n",
    "                                                                           'method': [met]*len(ens_exposed),\n",
    "                                                                           'infected':ens_exposed.tolist(),\n",
    "                                                                           'post_sample':np.arange(len(ens_exposed)),\n",
    "                                                                           'doses': [dosesV.sum()]*len(ens_exposed),\n",
    "                                                                           'scenario-beta': [scenario_name.split('-')[0]]*len(ens_exposed),\n",
    "                                                                           'scenario-rate': [scenario_name.split('-')[1]]*len(ens_exposed),\n",
    "                                                                           'scenario-tot': [scenario_name.split('-')[2]]*len(ens_exposed),\n",
    "                                                                           'scenario': [scenario_name]*len(ens_exposed)\n",
    "                                                                         })])\n",
    "        else:\n",
    "            print(f'not found {scenario_name}')"
   ]
  },
  {
   "cell_type": "code",
   "execution_count": null,
   "metadata": {},
   "outputs": [],
   "source": [
    "scenarios_baseline = {}\n",
    "for scenario_name, scenario in scenarios.items():\n",
    "    if scenario_name.split('-')[0] not in scenarios_baseline:\n",
    "        print(scenario_name)\n",
    "\n",
    "        maxvaccrate_regional, stockpile_national, stockpile_national_constraint, control_initial = build_scenario(setup, scenario)\n",
    "        \n",
    "        p.apply_epicourse(setup, scenario['beta_mult'])\n",
    "\n",
    "\n",
    "        dosesV = np.zeros_like(dosesV)\n",
    "\n",
    "\n",
    "        eng.workspace['Vdoses'] = matlab.double(dosesV.tolist())\n",
    "        eng.workspace['beta_ratio'] = matlab.double(scenario['beta_mult'][0].tolist())\n",
    "        eng.run('main_script.m', nargout=0)\n",
    "        ens_exposed = np.array(eng.eval('ens_exposed_preprocess')).flatten()\n",
    "        \n",
    "        scenarios_baseline[scenario_name.split('-')[0]] = ens_exposed\n",
    "        "
   ]
  },
  {
   "cell_type": "code",
   "execution_count": null,
   "metadata": {},
   "outputs": [],
   "source": [
    "scn_results['bl'] = 0\n",
    "scn_results.loc[scn_results['scenario-beta'] == 'U', 'bl'] = np.tile(scenarios_baseline['U'],60)\n",
    "scn_results.loc[scn_results['scenario-beta'] == 'L', 'bl'] = np.tile(scenarios_baseline['L'],60)"
   ]
  },
  {
   "cell_type": "code",
   "execution_count": null,
   "metadata": {},
   "outputs": [],
   "source": [
    "scn_results['averted'] = scn_results['bl'] - scn_results['infected']\n",
    "scn_results['avertedpervacc'] = scn_results['averted']/scn_results['doses']"
   ]
  },
  {
   "cell_type": "code",
   "execution_count": null,
   "metadata": {},
   "outputs": [],
   "source": [
    "scn_results.to_csv('{generated_dir}/all_summary.csv')"
   ]
  },
  {
   "cell_type": "code",
   "execution_count": null,
   "metadata": {},
   "outputs": [],
   "source": []
  }
 ],
 "metadata": {
  "kernelspec": {
   "display_name": "Python (ocp-covid)",
   "language": "python",
   "name": "ocp-covid"
  },
  "language_info": {
   "codemirror_mode": {
    "name": "ipython",
    "version": 3
   },
   "file_extension": ".py",
   "mimetype": "text/x-python",
   "name": "python",
   "nbconvert_exporter": "python",
   "pygments_lexer": "ipython3",
   "version": "3.7.9"
  }
 },
 "nbformat": 4,
 "nbformat_minor": 4
}
