{
 "cells": [
  {
   "cell_type": "code",
   "execution_count": 3,
   "metadata": {
    "execution": {
     "iopub.execute_input": "2021-02-22T09:06:25.094098Z",
     "iopub.status.busy": "2021-02-22T09:06:25.093874Z",
     "iopub.status.idle": "2021-02-22T09:06:25.444228Z",
     "shell.execute_reply": "2021-02-22T09:06:25.443643Z",
     "shell.execute_reply.started": "2021-02-22T09:06:25.094072Z"
    }
   },
   "outputs": [
    {
     "name": "stdout",
     "output_type": "stream",
     "text": [
      "Loaded Italy Setup with 107 nodes.\n",
      "Loaded Italy Setup with 107 nodes.\n"
     ]
    },
    {
     "data": {
      "text/plain": [
       "dict_keys(['U-r3-t479700-id0', 'L-r3-t479700-id1', 'U-r15-t125000-id2', 'L-r15-t125000-id3', 'U-r15-t250000-id4', 'L-r15-t250000-id5', 'U-r15-t479700-id6', 'L-r15-t479700-id7', 'U-r15-t1000000-id8', 'L-r15-t1000000-id9', 'U-r15-t1500000-id10', 'L-r15-t1500000-id11', 'U-r15-t2000000-id12', 'L-r15-t2000000-id13', 'U-r150-t479700-id14', 'L-r150-t479700-id15'])"
      ]
     },
     "execution_count": 3,
     "metadata": {},
     "output_type": "execute_result"
    }
   ],
   "source": [
    "import copy\n",
    "import matplotlib as mpl\n",
    "import matplotlib.pyplot as plt\n",
    "import numpy as np\n",
    "import pandas as pd\n",
    "import networkx\n",
    "from ItalySetup import ItalySetup\n",
    "from covidOCP import COVIDVaccinationOCP, COVIDParametersOCP\n",
    "from main import pick_scenario, build_scenario\n",
    "import seaborn as sns\n",
    "import datetime\n",
    "import pickle\n",
    "import os\n",
    "\n",
    "nx = 9\n",
    "states_names = ['S', 'E', 'P', 'I', 'A', 'Q', 'H', 'R', 'V']\n",
    "when = 'future'\n",
    "file_prefix = f'week'\n",
    "outdir = 'helvetios-runs/2021-02-19-107_90/'\n",
    "\n",
    "generated_dir = 'model_output/2021-02-19'\n",
    "\n",
    "n_int_steps = 50\n",
    "nnodes = 107  # nodes\n",
    "ndays_ocp = 90\n",
    "ndays = 90\n",
    "\n",
    "setup = ItalySetup(nnodes, ndays, when)\n",
    "setup_ocp = ItalySetup(nnodes, ndays_ocp, when)\n",
    "M = setup.nnodes\n",
    "N = len(setup.model_days) - 1\n",
    "\n",
    "with open(f'italy-data/parameters_{nnodes}_{when}.pkl', 'rb') as inp:\n",
    "    p = pickle.load(inp)\n",
    "    \n",
    "os.makedirs(f'{generated_dir}', exist_ok=True)\n",
    "\n",
    "scenarios = {pick_scenario(setup, i)['name']:pick_scenario(setup, i) for i in np.arange(16)}\n",
    "scenarios.keys()"
   ]
  },
  {
   "cell_type": "code",
   "execution_count": 6,
   "metadata": {
    "execution": {
     "iopub.execute_input": "2021-02-22T09:05:41.668713Z",
     "iopub.status.busy": "2021-02-22T09:05:41.668529Z",
     "iopub.status.idle": "2021-02-22T09:05:41.673267Z",
     "shell.execute_reply": "2021-02-22T09:05:41.671980Z",
     "shell.execute_reply.started": "2021-02-22T09:05:41.668692Z"
    }
   },
   "outputs": [
    {
     "name": "stdout",
     "output_type": "stream",
     "text": [
      "12\n"
     ]
    }
   ],
   "source": [
    "# Choose a subset of scenarios:\n",
    "pick = 'r15-'\n",
    "scenarios = {k:v for (k,v) in scenarios.items() if pick in k}\n",
    "print(len(scenarios))"
   ]
  },
  {
   "cell_type": "code",
   "execution_count": 4,
   "metadata": {
    "execution": {
     "iopub.execute_input": "2021-02-22T09:06:26.860544Z",
     "iopub.status.busy": "2021-02-22T09:06:26.860323Z",
     "iopub.status.idle": "2021-02-22T09:40:15.236271Z",
     "shell.execute_reply": "2021-02-22T09:40:15.235291Z",
     "shell.execute_reply.started": "2021-02-22T09:06:26.860518Z"
    },
    "scrolled": true
   },
   "outputs": [
    {
     "name": "stdout",
     "output_type": "stream",
     "text": [
      "YES helvetios-runs/2021-02-19-107_90/week-U-r3-t479700-id0-opt-107_90.csv\n"
     ]
    },
    {
     "name": "stderr",
     "output_type": "stream",
     "text": [
      "  0%|          | 0/89 [00:00<?, ?it/s]"
     ]
    },
    {
     "name": "stdout",
     "output_type": "stream",
     "text": [
      "===> Integrating for model_output/2021-02-19/U-r3-t479700-id0-opi-107_90\n"
     ]
    },
    {
     "name": "stderr",
     "output_type": "stream",
     "text": [
      "100%|██████████| 89/89 [00:25<00:00,  3.49it/s]\n",
      "  0%|          | 0/89 [00:00<?, ?it/s]"
     ]
    },
    {
     "name": "stdout",
     "output_type": "stream",
     "text": [
      "--> DONE U-r3-t479700-id0\n",
      "===> Integrating for model_output/2021-02-19/U-r3-t479700-id0-novacc-107_90\n"
     ]
    },
    {
     "name": "stderr",
     "output_type": "stream",
     "text": [
      "100%|██████████| 89/89 [00:25<00:00,  3.52it/s]\n"
     ]
    },
    {
     "name": "stdout",
     "output_type": "stream",
     "text": [
      "YES helvetios-runs/2021-02-19-107_90/week-L-r3-t479700-id1-opt-107_90.csv\n"
     ]
    },
    {
     "name": "stderr",
     "output_type": "stream",
     "text": [
      "  1%|          | 1/89 [00:00<00:24,  3.63it/s]"
     ]
    },
    {
     "name": "stdout",
     "output_type": "stream",
     "text": [
      "===> Integrating for model_output/2021-02-19/L-r3-t479700-id1-opi-107_90\n"
     ]
    },
    {
     "name": "stderr",
     "output_type": "stream",
     "text": [
      "100%|██████████| 89/89 [00:24<00:00,  3.69it/s]\n",
      "  0%|          | 0/89 [00:00<?, ?it/s]"
     ]
    },
    {
     "name": "stdout",
     "output_type": "stream",
     "text": [
      "--> DONE L-r3-t479700-id1\n",
      "===> Integrating for model_output/2021-02-19/L-r3-t479700-id1-novacc-107_90\n"
     ]
    },
    {
     "name": "stderr",
     "output_type": "stream",
     "text": [
      "100%|██████████| 89/89 [00:24<00:00,  3.60it/s]\n"
     ]
    },
    {
     "name": "stdout",
     "output_type": "stream",
     "text": [
      "YES helvetios-runs/2021-02-19-107_90/week-U-r15-t125000-id2-opt-107_90.csv\n"
     ]
    },
    {
     "name": "stderr",
     "output_type": "stream",
     "text": [
      "  1%|          | 1/89 [00:00<00:27,  3.19it/s]"
     ]
    },
    {
     "name": "stdout",
     "output_type": "stream",
     "text": [
      "===> Integrating for model_output/2021-02-19/U-r15-t125000-id2-opi-107_90\n"
     ]
    },
    {
     "name": "stderr",
     "output_type": "stream",
     "text": [
      "100%|██████████| 89/89 [00:27<00:00,  3.21it/s]\n"
     ]
    },
    {
     "name": "stdout",
     "output_type": "stream",
     "text": [
      "--> DONE U-r15-t125000-id2\n",
      "YES helvetios-runs/2021-02-19-107_90/week-L-r15-t125000-id3-opt-107_90.csv\n"
     ]
    },
    {
     "name": "stderr",
     "output_type": "stream",
     "text": [
      "  0%|          | 0/89 [00:00<?, ?it/s]"
     ]
    },
    {
     "name": "stdout",
     "output_type": "stream",
     "text": [
      "===> Integrating for model_output/2021-02-19/L-r15-t125000-id3-opi-107_90\n"
     ]
    },
    {
     "name": "stderr",
     "output_type": "stream",
     "text": [
      "100%|██████████| 89/89 [00:26<00:00,  3.38it/s]\n"
     ]
    },
    {
     "name": "stdout",
     "output_type": "stream",
     "text": [
      "--> DONE L-r15-t125000-id3\n",
      "YES helvetios-runs/2021-02-19-107_90/week-U-r15-t250000-id4-opt-107_90.csv\n"
     ]
    },
    {
     "name": "stderr",
     "output_type": "stream",
     "text": [
      "  0%|          | 0/89 [00:00<?, ?it/s]"
     ]
    },
    {
     "name": "stdout",
     "output_type": "stream",
     "text": [
      "===> Integrating for model_output/2021-02-19/U-r15-t250000-id4-opi-107_90\n"
     ]
    },
    {
     "name": "stderr",
     "output_type": "stream",
     "text": [
      "100%|██████████| 89/89 [00:26<00:00,  3.42it/s]\n"
     ]
    },
    {
     "name": "stdout",
     "output_type": "stream",
     "text": [
      "--> DONE U-r15-t250000-id4\n",
      "YES helvetios-runs/2021-02-19-107_90/week-L-r15-t250000-id5-opt-107_90.csv\n"
     ]
    },
    {
     "name": "stderr",
     "output_type": "stream",
     "text": [
      "  1%|          | 1/89 [00:00<00:22,  3.84it/s]"
     ]
    },
    {
     "name": "stdout",
     "output_type": "stream",
     "text": [
      "===> Integrating for model_output/2021-02-19/L-r15-t250000-id5-opi-107_90\n"
     ]
    },
    {
     "name": "stderr",
     "output_type": "stream",
     "text": [
      "100%|██████████| 89/89 [00:27<00:00,  3.20it/s]\n"
     ]
    },
    {
     "name": "stdout",
     "output_type": "stream",
     "text": [
      "--> DONE L-r15-t250000-id5\n",
      "YES helvetios-runs/2021-02-19-107_90/week-U-r15-t479700-id6-opt-107_90.csv\n"
     ]
    },
    {
     "name": "stderr",
     "output_type": "stream",
     "text": [
      "  1%|          | 1/89 [00:00<00:22,  3.98it/s]"
     ]
    },
    {
     "name": "stdout",
     "output_type": "stream",
     "text": [
      "===> Integrating for model_output/2021-02-19/U-r15-t479700-id6-opi-107_90\n"
     ]
    },
    {
     "name": "stderr",
     "output_type": "stream",
     "text": [
      "100%|██████████| 89/89 [00:23<00:00,  3.76it/s]\n"
     ]
    },
    {
     "name": "stdout",
     "output_type": "stream",
     "text": [
      "--> DONE U-r15-t479700-id6\n",
      "YES helvetios-runs/2021-02-19-107_90/week-L-r15-t479700-id7-opt-107_90.csv\n"
     ]
    },
    {
     "name": "stderr",
     "output_type": "stream",
     "text": [
      "  0%|          | 0/89 [00:00<?, ?it/s]"
     ]
    },
    {
     "name": "stdout",
     "output_type": "stream",
     "text": [
      "===> Integrating for model_output/2021-02-19/L-r15-t479700-id7-opi-107_90\n"
     ]
    },
    {
     "name": "stderr",
     "output_type": "stream",
     "text": [
      "100%|██████████| 89/89 [00:24<00:00,  3.68it/s]\n"
     ]
    },
    {
     "name": "stdout",
     "output_type": "stream",
     "text": [
      "--> DONE L-r15-t479700-id7\n",
      "YES helvetios-runs/2021-02-19-107_90/week-U-r15-t1000000-id8-opt-107_90.csv\n"
     ]
    },
    {
     "name": "stderr",
     "output_type": "stream",
     "text": [
      "  0%|          | 0/89 [00:00<?, ?it/s]"
     ]
    },
    {
     "name": "stdout",
     "output_type": "stream",
     "text": [
      "===> Integrating for model_output/2021-02-19/U-r15-t1000000-id8-opi-107_90\n"
     ]
    },
    {
     "name": "stderr",
     "output_type": "stream",
     "text": [
      "100%|██████████| 89/89 [00:25<00:00,  3.50it/s]\n"
     ]
    },
    {
     "name": "stdout",
     "output_type": "stream",
     "text": [
      "--> DONE U-r15-t1000000-id8\n",
      "YES helvetios-runs/2021-02-19-107_90/week-L-r15-t1000000-id9-opt-107_90.csv\n"
     ]
    },
    {
     "name": "stderr",
     "output_type": "stream",
     "text": [
      "  1%|          | 1/89 [00:00<00:24,  3.64it/s]"
     ]
    },
    {
     "name": "stdout",
     "output_type": "stream",
     "text": [
      "===> Integrating for model_output/2021-02-19/L-r15-t1000000-id9-opi-107_90\n"
     ]
    },
    {
     "name": "stderr",
     "output_type": "stream",
     "text": [
      "100%|██████████| 89/89 [00:26<00:00,  3.31it/s]\n"
     ]
    },
    {
     "name": "stdout",
     "output_type": "stream",
     "text": [
      "--> DONE L-r15-t1000000-id9\n",
      "YES helvetios-runs/2021-02-19-107_90/week-U-r15-t1500000-id10-opt-107_90.csv\n"
     ]
    },
    {
     "name": "stderr",
     "output_type": "stream",
     "text": [
      "  0%|          | 0/89 [00:00<?, ?it/s]"
     ]
    },
    {
     "name": "stdout",
     "output_type": "stream",
     "text": [
      "===> Integrating for model_output/2021-02-19/U-r15-t1500000-id10-opi-107_90\n"
     ]
    },
    {
     "name": "stderr",
     "output_type": "stream",
     "text": [
      "100%|██████████| 89/89 [00:27<00:00,  3.22it/s]\n"
     ]
    },
    {
     "name": "stdout",
     "output_type": "stream",
     "text": [
      "--> DONE U-r15-t1500000-id10\n",
      "YES helvetios-runs/2021-02-19-107_90/week-L-r15-t1500000-id11-opt-107_90.csv\n"
     ]
    },
    {
     "name": "stderr",
     "output_type": "stream",
     "text": [
      "  1%|          | 1/89 [00:00<00:25,  3.50it/s]"
     ]
    },
    {
     "name": "stdout",
     "output_type": "stream",
     "text": [
      "===> Integrating for model_output/2021-02-19/L-r15-t1500000-id11-opi-107_90\n"
     ]
    },
    {
     "name": "stderr",
     "output_type": "stream",
     "text": [
      "100%|██████████| 89/89 [00:27<00:00,  3.27it/s]\n"
     ]
    },
    {
     "name": "stdout",
     "output_type": "stream",
     "text": [
      "--> DONE L-r15-t1500000-id11\n",
      "YES helvetios-runs/2021-02-19-107_90/week-U-r15-t2000000-id12-opt-107_90.csv\n"
     ]
    },
    {
     "name": "stderr",
     "output_type": "stream",
     "text": [
      "  0%|          | 0/89 [00:00<?, ?it/s]"
     ]
    },
    {
     "name": "stdout",
     "output_type": "stream",
     "text": [
      "===> Integrating for model_output/2021-02-19/U-r15-t2000000-id12-opi-107_90\n"
     ]
    },
    {
     "name": "stderr",
     "output_type": "stream",
     "text": [
      "100%|██████████| 89/89 [00:26<00:00,  3.31it/s]\n"
     ]
    },
    {
     "name": "stdout",
     "output_type": "stream",
     "text": [
      "--> DONE U-r15-t2000000-id12\n",
      "YES helvetios-runs/2021-02-19-107_90/week-L-r15-t2000000-id13-opt-107_90.csv\n"
     ]
    },
    {
     "name": "stderr",
     "output_type": "stream",
     "text": [
      "  0%|          | 0/89 [00:00<?, ?it/s]"
     ]
    },
    {
     "name": "stdout",
     "output_type": "stream",
     "text": [
      "===> Integrating for model_output/2021-02-19/L-r15-t2000000-id13-opi-107_90\n"
     ]
    },
    {
     "name": "stderr",
     "output_type": "stream",
     "text": [
      "100%|██████████| 89/89 [00:26<00:00,  3.40it/s]\n"
     ]
    },
    {
     "name": "stdout",
     "output_type": "stream",
     "text": [
      "--> DONE L-r15-t2000000-id13\n",
      "YES helvetios-runs/2021-02-19-107_90/week-U-r150-t479700-id14-opt-107_90.csv\n"
     ]
    },
    {
     "name": "stderr",
     "output_type": "stream",
     "text": [
      "  1%|          | 1/89 [00:00<00:25,  3.46it/s]"
     ]
    },
    {
     "name": "stdout",
     "output_type": "stream",
     "text": [
      "===> Integrating for model_output/2021-02-19/U-r150-t479700-id14-opi-107_90\n"
     ]
    },
    {
     "name": "stderr",
     "output_type": "stream",
     "text": [
      "100%|██████████| 89/89 [00:25<00:00,  3.47it/s]\n"
     ]
    },
    {
     "name": "stdout",
     "output_type": "stream",
     "text": [
      "--> DONE U-r150-t479700-id14\n",
      "YES helvetios-runs/2021-02-19-107_90/week-L-r150-t479700-id15-opt-107_90.csv\n"
     ]
    },
    {
     "name": "stderr",
     "output_type": "stream",
     "text": [
      "  1%|          | 1/89 [00:00<00:21,  4.02it/s]"
     ]
    },
    {
     "name": "stdout",
     "output_type": "stream",
     "text": [
      "===> Integrating for model_output/2021-02-19/L-r150-t479700-id15-opi-107_90\n"
     ]
    },
    {
     "name": "stderr",
     "output_type": "stream",
     "text": [
      "100%|██████████| 89/89 [00:23<00:00,  3.78it/s]\n"
     ]
    },
    {
     "name": "stdout",
     "output_type": "stream",
     "text": [
      "--> DONE L-r150-t479700-id15\n"
     ]
    }
   ],
   "source": [
    "scenarios_opt = {}\n",
    "scenarios_baseline = {}\n",
    "## Re-integrate vacc\n",
    "for scenario_name, scenario in scenarios.items():\n",
    "    fname = f\"{outdir}{file_prefix}-{scenario_name}-opt-{nnodes}_{ndays_ocp}.csv\"  # '-'.join(scenario_name.split('-')[:-1])\n",
    "    try:\n",
    "        md = pd.read_csv(fname, index_col= 'date', parse_dates=True)\n",
    "        print(f'YES {fname}')\n",
    "    \n",
    "        # Build scenario\n",
    "        maxvaccrate_regional, delivery_national, stockpile_national_constraint, control_initial = build_scenario(setup, scenario)\n",
    "        M = setup.nnodes\n",
    "        N = setup.ndays - 1\n",
    "        control_initial = np.zeros((M, N))\n",
    "        unvac_nd = np.copy(setup.pop_node)\n",
    "        stockpile = 0\n",
    "        for k in range(ndays_ocp - 1):\n",
    "            stockpile += delivery_national[k]\n",
    "            for nodename in md.place.unique():\n",
    "                nd = setup.ind2name.index(nodename)\n",
    "                to_allocate = md[(md['place'] == nodename) & (md['comp'] == 'vacc')].iloc[k]['value']\n",
    "                to_allocate = min(to_allocate, maxvaccrate_regional[nd, k], unvac_nd[nd], stockpile)\n",
    "                control_initial[nd, k] = to_allocate\n",
    "                stockpile -= to_allocate\n",
    "                unvac_nd[nd] -= to_allocate\n",
    "        p.apply_epicourse(setup, scenario['beta_mult'])\n",
    "        # END Build scenario\n",
    "\n",
    "        results, state_initial, yell, mob = COVIDVaccinationOCP.integrate(N,\n",
    "                                                                          setup=setup,\n",
    "                                                                          parameters=p,\n",
    "                                                                          controls=control_initial,\n",
    "                                                                          save_to=f'{generated_dir}/{scenario_name}-opi-{nnodes}_{ndays}',\n",
    "                                                                          n_rk4_steps=n_int_steps)\n",
    "        results.set_index('date', drop=True, inplace=True)\n",
    "        scenarios_opt[scenario_name] = scenario\n",
    "        print(f'--> DONE {scenario_name}')\n",
    "\n",
    "        if scenario_name.split('-')[0] not in scenarios_baseline:\n",
    "            control_initial = np.zeros((M, N))\n",
    "            # Generate NO vaccination scenarios\n",
    "            results, state_initial, yell, mob = COVIDVaccinationOCP.integrate(N,\n",
    "                                                                      setup=setup,\n",
    "                                                                      parameters=p,\n",
    "                                                                      controls=control_initial,\n",
    "                                                                      save_to=f'{generated_dir}/{scenario_name}-novacc-{nnodes}_{ndays}',\n",
    "                                                                      n_rk4_steps=n_int_steps)\n",
    "            scenarios_baseline[scenario_name.split('-')[0]] = pd.read_csv(f'{generated_dir}/{scenario_name}-novacc-{nnodes}_{ndays}.csv', \n",
    "                                                                         index_col= 'date', parse_dates=True)\n",
    "\n",
    "\n",
    "    except FileNotFoundError:\n",
    "        print(f'NOT {fname}')"
   ]
  },
  {
   "cell_type": "code",
   "execution_count": 2,
   "metadata": {
    "execution": {
     "iopub.execute_input": "2021-02-18T10:30:25.068590Z",
     "iopub.status.busy": "2021-02-18T10:30:25.068371Z",
     "iopub.status.idle": "2021-02-18T10:30:25.075007Z",
     "shell.execute_reply": "2021-02-18T10:30:25.074403Z",
     "shell.execute_reply.started": "2021-02-18T10:30:25.068565Z"
    }
   },
   "outputs": [
    {
     "data": {
      "text/plain": [
       "[]"
      ]
     },
     "execution_count": 2,
     "metadata": {},
     "output_type": "execute_result"
    }
   ],
   "source": [
    "# REload if restart because of python multiprocessing bug : https://github.com/jupyter/jupyter_client/issues/541\n",
    "import glob\n",
    "baseline_fn = glob.glob(f'{generated_dir}/*novacc*.csv')\n",
    "\n",
    "scenarios_baseline = {}\n",
    "for fn in baseline_fn:\n",
    "    scenarios_baseline[fn.split('-')[0][-1]] = pd.read_csv(fn, index_col= 'date', parse_dates=True)\n",
    "    md = pd.read_csv(fn, index_col= 'date', parse_dates=True)\n",
    "baseline_fn"
   ]
  },
  {
   "cell_type": "code",
   "execution_count": null,
   "metadata": {},
   "outputs": [],
   "source": []
  },
  {
   "cell_type": "code",
   "execution_count": null,
   "metadata": {},
   "outputs": [],
   "source": []
  },
  {
   "cell_type": "code",
   "execution_count": 5,
   "metadata": {
    "execution": {
     "iopub.execute_input": "2021-02-22T09:40:15.237890Z",
     "iopub.status.busy": "2021-02-22T09:40:15.237724Z",
     "iopub.status.idle": "2021-02-22T09:40:15.345110Z",
     "shell.execute_reply": "2021-02-22T09:40:15.344225Z",
     "shell.execute_reply.started": "2021-02-22T09:40:15.237870Z"
    }
   },
   "outputs": [],
   "source": [
    "def build_scenario_proportional(scenario_name, scenario, value_df, method_name):\n",
    "    #index of value df = node_name\n",
    "    maxvaccrate_regional, delivery_national, stockpile_national_constraint, control_initial = build_scenario(setup, scenario)\n",
    "    M = setup.nnodes\n",
    "    N = setup.ndays - 1\n",
    "    control_initial = np.zeros((M, N))\n",
    "    unvac_nd = np.copy(setup.pop_node)\n",
    "    stockpile = 0\n",
    "    for k in range(ndays_ocp-1):\n",
    "        stockpile += delivery_national[k]\n",
    "        for nodename in value_df.sort_values('value', ascending=False).index:\n",
    "            nd = setup.ind2name.index(nodename)\n",
    "            to_allocate = stockpile * value_df.loc[nodename]['value'] / value_df['value'].sum()\n",
    "            to_allocate = min(to_allocate, maxvaccrate_regional[nd, k], unvac_nd[nd], stockpile)\n",
    "            control_initial[nd, k] = to_allocate\n",
    "            stockpile -= to_allocate\n",
    "            unvac_nd[nd] -= to_allocate\n",
    "    p.apply_epicourse(setup, scenario['beta_mult'])\n",
    "    # END Build scenario\n",
    "\n",
    "    results, state_initial, yell, mob = COVIDVaccinationOCP.integrate(N,\n",
    "                                                                      setup=setup,\n",
    "                                                                      parameters=p,\n",
    "                                                                      controls=control_initial,\n",
    "                                                                      save_to=f'{generated_dir}/{scenario_name}-{method_name}-{nnodes}_{ndays}',\n",
    "                                                                      n_rk4_steps=n_int_steps)\n",
    "    results.set_index('date', drop=True, inplace=True)\n",
    "\n",
    "\n",
    "def build_scenario_focused(scenario_name, scenario, value_df, method_name):\n",
    "    # index of value_df is node_name\n",
    "    # Build scenario\n",
    "    maxvaccrate_regional, delivery_national, stockpile_national_constraint, control_initial = build_scenario(setup, scenario)\n",
    "    M = setup.nnodes\n",
    "    N = setup.ndays - 1\n",
    "    control_initial = np.zeros((M, N))\n",
    "    unvac_nd = np.copy(setup.pop_node)\n",
    "    stockpile = 0\n",
    "    for k in range(ndays_ocp-1):\n",
    "        stockpile += delivery_national[k]\n",
    "        for nodename in value_df.index:\n",
    "            nd = setup.ind2name.index(nodename)\n",
    "            to_allocate = maxvaccrate_regional[nd, k]\n",
    "            to_allocate = min(to_allocate, maxvaccrate_regional[nd, k], unvac_nd[nd], stockpile)\n",
    "            control_initial[nd, k] = to_allocate\n",
    "            stockpile -= to_allocate\n",
    "            unvac_nd[nd] -= to_allocate\n",
    "    p.apply_epicourse(setup, scenario['beta_mult'])\n",
    "    # END Build scenario    \n",
    "    results, state_initial, yell, mob = COVIDVaccinationOCP.integrate(N,\n",
    "                                                                      setup=setup,\n",
    "                                                                      parameters=p,\n",
    "                                                                      controls=control_initial,\n",
    "                                                                      save_to=f'{generated_dir}/{scenario_name}-{method_name}-{nnodes}_{ndays}',\n",
    "                                                                      n_rk4_steps=n_int_steps)\n",
    "    results.set_index('date', drop=True, inplace=True)\n",
    "\n",
    "\n",
    "def generate_all_alternatives(scenario_name, scenario):\n",
    "    \n",
    "    nv = scenarios_baseline[scenario_name.split('-')[0]]\n",
    "    \n",
    "    pop_node_df = pd.DataFrame(setup.pop_node, index=setup.ind2name, columns=['value'])\n",
    "    \n",
    "    incid = nv[nv['comp'].isin(['yell'])].groupby('place').sum()\n",
    "    incidpop = incid/pop_node_df\n",
    "    incid.sort_values('value', ascending=False, inplace=True)\n",
    "    incidpop.sort_values('value', ascending=False, inplace=True)\n",
    "    \n",
    "    suscep = nv[nv['comp'].isin(['S'])].loc[str(setup.start_date)]\n",
    "    suscep.set_index('place', inplace=True)\n",
    "    susceppop = suscep/pop_node_df\n",
    "    suscep.sort_values('value', ascending=False, inplace=True)\n",
    "    susceppop.sort_values('value', ascending=False, inplace=True)\n",
    "    \n",
    "    pop_node_df.sort_values('value', ascending=False, inplace=True)\n",
    "\n",
    "    # BY INCIDENCE\n",
    "    build_scenario_focused(scenario_name=scenario_name, scenario=scenario, value_df=incid, method_name='finc');\n",
    "    build_scenario_proportional(scenario_name=scenario_name, scenario=scenario, value_df=incid, method_name='pinc');\n",
    "    \n",
    "    # BY susceptibilty\n",
    "    build_scenario_focused(scenario_name=scenario_name, scenario=scenario, value_df=suscep, method_name='fsus');\n",
    "    build_scenario_proportional(scenario_name=scenario_name, scenario=scenario, value_df=suscep, method_name='psus');\n",
    "    \n",
    "    # same but perpop\n",
    "    build_scenario_focused(scenario_name=scenario_name, scenario=scenario, value_df=incidpop, method_name='fincpp');\n",
    "    build_scenario_proportional(scenario_name=scenario_name, scenario=scenario, value_df=incidpop, method_name='pincpp');\n",
    "    build_scenario_focused(scenario_name=scenario_name, scenario=scenario, value_df=susceppop, method_name='fsuspp');\n",
    "    build_scenario_proportional(scenario_name=scenario_name, scenario=scenario, value_df=susceppop, method_name='psuspp');\n",
    "    \n",
    "    # BY POPULATION \n",
    "    build_scenario_proportional(scenario_name=scenario_name, scenario=scenario, value_df=pop_node_df, method_name='ppop');\n",
    "    build_scenario_focused(scenario_name=scenario_name, scenario=scenario, value_df=pop_node_df, method_name='fpop');\n",
    "\n",
    "    #TODO: Centrality based and R0 based\n",
    "    return True"
   ]
  },
  {
   "cell_type": "code",
   "execution_count": 65,
   "metadata": {
    "execution": {
     "iopub.execute_input": "2021-02-18T10:29:05.690823Z",
     "iopub.status.busy": "2021-02-18T10:29:05.690632Z",
     "iopub.status.idle": "2021-02-18T10:29:05.693333Z",
     "shell.execute_reply": "2021-02-18T10:29:05.692768Z",
     "shell.execute_reply.started": "2021-02-18T10:29:05.690802Z"
    }
   },
   "outputs": [],
   "source": [
    "#generate_all_alternatives(scenario_name, scenario)"
   ]
  },
  {
   "cell_type": "code",
   "execution_count": null,
   "metadata": {},
   "outputs": [],
   "source": []
  },
  {
   "cell_type": "code",
   "execution_count": 6,
   "metadata": {
    "execution": {
     "iopub.execute_input": "2021-02-22T09:40:15.347282Z",
     "iopub.status.busy": "2021-02-22T09:40:15.347054Z",
     "iopub.status.idle": "2021-02-22T09:40:15.350496Z",
     "shell.execute_reply": "2021-02-22T09:40:15.349756Z",
     "shell.execute_reply.started": "2021-02-22T09:40:15.347259Z"
    }
   },
   "outputs": [
    {
     "name": "stdout",
     "output_type": "stream",
     "text": [
      "ok\n"
     ]
    }
   ],
   "source": [
    "print('ok')"
   ]
  },
  {
   "cell_type": "code",
   "execution_count": 7,
   "metadata": {
    "execution": {
     "iopub.execute_input": "2021-02-22T09:40:15.352555Z",
     "iopub.status.busy": "2021-02-22T09:40:15.352372Z",
     "iopub.status.idle": "2021-02-22T10:03:03.382283Z",
     "shell.execute_reply": "2021-02-22T10:03:03.380759Z",
     "shell.execute_reply.started": "2021-02-22T09:40:15.352534Z"
    },
    "scrolled": true
   },
   "outputs": [
    {
     "name": "stdout",
     "output_type": "stream",
     "text": [
      "===> Integrating for model_output/2021-02-19/U-r15-t1000000-id8-finc-107_90===> Integrating for model_output/2021-02-19/U-r15-t479700-id6-finc-107_90\n",
      "\n"
     ]
    },
    {
     "name": "stderr",
     "output_type": "stream",
     "text": [
      "  0%|          | 0/89 [00:00<?, ?it/s]"
     ]
    },
    {
     "name": "stdout",
     "output_type": "stream",
     "text": [
      "===> Integrating for model_output/2021-02-19/U-r3-t479700-id0-finc-107_90===> Integrating for model_output/2021-02-19/L-r15-t2000000-id13-finc-107_90===> Integrating for model_output/2021-02-19/L-r15-t125000-id3-finc-107_90"
     ]
    },
    {
     "name": "stderr",
     "output_type": "stream",
     "text": [
      "  0%|          | 0/89 [00:00<?, ?it/s]"
     ]
    },
    {
     "name": "stdout",
     "output_type": "stream",
     "text": [
      "\n",
      "===> Integrating for model_output/2021-02-19/U-r15-t250000-id4-finc-107_90\n"
     ]
    },
    {
     "name": "stderr",
     "output_type": "stream",
     "text": [
      "  0%|          | 0/89 [00:00<?, ?it/s]"
     ]
    },
    {
     "name": "stdout",
     "output_type": "stream",
     "text": [
      "\n",
      "\n",
      "===> Integrating for model_output/2021-02-19/L-r15-t250000-id5-finc-107_90"
     ]
    },
    {
     "name": "stderr",
     "output_type": "stream",
     "text": [
      "  0%|          | 0/89 [00:00<?, ?it/s]"
     ]
    },
    {
     "name": "stdout",
     "output_type": "stream",
     "text": [
      "===> Integrating for model_output/2021-02-19/L-r15-t1000000-id9-finc-107_90\n",
      "===> Integrating for model_output/2021-02-19/U-r15-t125000-id2-finc-107_90"
     ]
    },
    {
     "name": "stderr",
     "output_type": "stream",
     "text": [
      "  0%|          | 0/89 [00:00<?, ?it/s]"
     ]
    },
    {
     "name": "stdout",
     "output_type": "stream",
     "text": [
      "\n",
      "===> Integrating for model_output/2021-02-19/L-r15-t479700-id7-finc-107_90\n"
     ]
    },
    {
     "name": "stderr",
     "output_type": "stream",
     "text": [
      "  0%|          | 0/89 [00:00<?, ?it/s]"
     ]
    },
    {
     "name": "stdout",
     "output_type": "stream",
     "text": [
      "\n",
      "===> Integrating for model_output/2021-02-19/L-r3-t479700-id1-finc-107_90"
     ]
    },
    {
     "name": "stderr",
     "output_type": "stream",
     "text": [
      "  0%|          | 0/89 [00:00<?, ?it/s]"
     ]
    },
    {
     "name": "stdout",
     "output_type": "stream",
     "text": [
      "\n"
     ]
    },
    {
     "name": "stderr",
     "output_type": "stream",
     "text": [
      "  0%|          | 0/89 [00:00<?, ?it/s]"
     ]
    },
    {
     "name": "stdout",
     "output_type": "stream",
     "text": [
      "===> Integrating for model_output/2021-02-19/L-r150-t479700-id15-finc-107_90"
     ]
    },
    {
     "name": "stderr",
     "output_type": "stream",
     "text": [
      "  0%|          | 0/89 [00:00<?, ?it/s]"
     ]
    },
    {
     "name": "stdout",
     "output_type": "stream",
     "text": [
      "===> Integrating for model_output/2021-02-19/U-r150-t479700-id14-finc-107_90\n"
     ]
    },
    {
     "name": "stderr",
     "output_type": "stream",
     "text": [
      "  0%|          | 0/89 [00:00<?, ?it/s]"
     ]
    },
    {
     "name": "stdout",
     "output_type": "stream",
     "text": [
      "\n",
      "===> Integrating for model_output/2021-02-19/U-r15-t1500000-id10-finc-107_90"
     ]
    },
    {
     "name": "stderr",
     "output_type": "stream",
     "text": [
      "  0%|          | 0/89 [00:00<?, ?it/s]"
     ]
    },
    {
     "name": "stdout",
     "output_type": "stream",
     "text": [
      "\n",
      "===> Integrating for model_output/2021-02-19/U-r15-t2000000-id12-finc-107_90"
     ]
    },
    {
     "name": "stderr",
     "output_type": "stream",
     "text": [
      "  0%|          | 0/89 [00:00<?, ?it/s]"
     ]
    },
    {
     "name": "stdout",
     "output_type": "stream",
     "text": [
      "\n",
      "===> Integrating for model_output/2021-02-19/L-r15-t1500000-id11-finc-107_90"
     ]
    },
    {
     "name": "stderr",
     "output_type": "stream",
     "text": [
      "  0%|          | 0/89 [00:00<?, ?it/s]"
     ]
    },
    {
     "name": "stdout",
     "output_type": "stream",
     "text": [
      "\n"
     ]
    },
    {
     "name": "stderr",
     "output_type": "stream",
     "text": [
      "100%|██████████| 89/89 [01:09<00:00,  1.28it/s]\n",
      "100%|██████████| 89/89 [01:09<00:00,  1.27it/s]\n",
      "100%|██████████| 89/89 [01:09<00:00,  1.27it/s]\n",
      "100%|██████████| 89/89 [01:10<00:00,  1.27it/s]\n",
      "100%|██████████| 89/89 [01:10<00:00,  1.27it/s]\n",
      "100%|██████████| 89/89 [01:10<00:00,  1.27it/s]\n",
      "100%|██████████| 89/89 [01:10<00:00,  1.27it/s]\n",
      "100%|██████████| 89/89 [01:10<00:00,  1.27it/s]\n",
      "100%|██████████| 89/89 [01:10<00:00,  1.27it/s]\n",
      "100%|██████████| 89/89 [01:10<00:00,  1.27it/s]\n",
      "100%|██████████| 89/89 [01:10<00:00,  1.27it/s]\n",
      "100%|██████████| 89/89 [01:10<00:00,  1.26it/s]\n",
      "100%|██████████| 89/89 [01:10<00:00,  1.26it/s]\n",
      "100%|██████████| 89/89 [01:10<00:00,  1.26it/s]\n",
      "100%|██████████| 89/89 [01:10<00:00,  1.26it/s]\n",
      "100%|██████████| 89/89 [01:10<00:00,  1.26it/s]\n"
     ]
    },
    {
     "name": "stdout",
     "output_type": "stream",
     "text": [
      "===> Integrating for model_output/2021-02-19/L-r15-t125000-id3-pinc-107_90\n"
     ]
    },
    {
     "name": "stderr",
     "output_type": "stream",
     "text": [
      "  0%|          | 0/89 [00:00<?, ?it/s]"
     ]
    },
    {
     "name": "stdout",
     "output_type": "stream",
     "text": [
      "===> Integrating for model_output/2021-02-19/L-r15-t1500000-id11-pinc-107_90\n"
     ]
    },
    {
     "name": "stderr",
     "output_type": "stream",
     "text": [
      "  0%|          | 0/89 [00:00<?, ?it/s]"
     ]
    },
    {
     "name": "stdout",
     "output_type": "stream",
     "text": [
      "===> Integrating for model_output/2021-02-19/L-r15-t479700-id7-pinc-107_90\n",
      "===> Integrating for model_output/2021-02-19/U-r15-t1000000-id8-pinc-107_90\n"
     ]
    },
    {
     "name": "stderr",
     "output_type": "stream",
     "text": [
      "  0%|          | 0/89 [00:00<?, ?it/s]"
     ]
    },
    {
     "name": "stdout",
     "output_type": "stream",
     "text": [
      "===> Integrating for model_output/2021-02-19/U-r15-t1500000-id10-pinc-107_90\n"
     ]
    },
    {
     "name": "stderr",
     "output_type": "stream",
     "text": [
      "  0%|          | 0/89 [00:00<?, ?it/s]"
     ]
    },
    {
     "name": "stdout",
     "output_type": "stream",
     "text": [
      "===> Integrating for model_output/2021-02-19/U-r15-t250000-id4-pinc-107_90\n"
     ]
    },
    {
     "name": "stderr",
     "output_type": "stream",
     "text": [
      "  1%|          | 1/89 [00:00<01:24,  1.05it/s]"
     ]
    },
    {
     "name": "stdout",
     "output_type": "stream",
     "text": [
      "===> Integrating for model_output/2021-02-19/L-r15-t250000-id5-pinc-107_90\n"
     ]
    },
    {
     "name": "stderr",
     "output_type": "stream",
     "text": [
      "  0%|          | 0/89 [00:00<?, ?it/s]"
     ]
    },
    {
     "name": "stdout",
     "output_type": "stream",
     "text": [
      "===> Integrating for model_output/2021-02-19/U-r150-t479700-id14-pinc-107_90\n"
     ]
    },
    {
     "name": "stderr",
     "output_type": "stream",
     "text": [
      "  0%|          | 0/89 [00:00<?, ?it/s]"
     ]
    },
    {
     "name": "stdout",
     "output_type": "stream",
     "text": [
      "===> Integrating for model_output/2021-02-19/U-r15-t125000-id2-pinc-107_90\n"
     ]
    },
    {
     "name": "stderr",
     "output_type": "stream",
     "text": [
      "  0%|          | 0/89 [00:00<?, ?it/s]"
     ]
    },
    {
     "name": "stdout",
     "output_type": "stream",
     "text": [
      "===> Integrating for model_output/2021-02-19/L-r150-t479700-id15-pinc-107_90\n"
     ]
    },
    {
     "name": "stderr",
     "output_type": "stream",
     "text": [
      "  0%|          | 0/89 [00:00<?, ?it/s]"
     ]
    },
    {
     "name": "stdout",
     "output_type": "stream",
     "text": [
      "===> Integrating for model_output/2021-02-19/L-r3-t479700-id1-pinc-107_90\n"
     ]
    },
    {
     "name": "stderr",
     "output_type": "stream",
     "text": [
      "  0%|          | 0/89 [00:00<?, ?it/s]"
     ]
    },
    {
     "name": "stdout",
     "output_type": "stream",
     "text": [
      "===> Integrating for model_output/2021-02-19/U-r15-t479700-id6-pinc-107_90\n"
     ]
    },
    {
     "name": "stderr",
     "output_type": "stream",
     "text": [
      "  1%|          | 1/89 [00:00<01:20,  1.10it/s]"
     ]
    },
    {
     "name": "stdout",
     "output_type": "stream",
     "text": [
      "===> Integrating for model_output/2021-02-19/U-r15-t2000000-id12-pinc-107_90\n"
     ]
    },
    {
     "name": "stderr",
     "output_type": "stream",
     "text": [
      "  0%|          | 0/89 [00:00<?, ?it/s]"
     ]
    },
    {
     "name": "stdout",
     "output_type": "stream",
     "text": [
      "===> Integrating for model_output/2021-02-19/L-r15-t1000000-id9-pinc-107_90===> Integrating for model_output/2021-02-19/L-r15-t2000000-id13-pinc-107_90\n",
      "\n"
     ]
    },
    {
     "name": "stderr",
     "output_type": "stream",
     "text": [
      "  0%|          | 0/89 [00:00<?, ?it/s]"
     ]
    },
    {
     "name": "stdout",
     "output_type": "stream",
     "text": [
      "===> Integrating for model_output/2021-02-19/U-r3-t479700-id0-pinc-107_90\n"
     ]
    },
    {
     "name": "stderr",
     "output_type": "stream",
     "text": [
      "100%|██████████| 89/89 [01:21<00:00,  1.09it/s]\n",
      "100%|██████████| 89/89 [01:21<00:00,  1.10it/s]\n",
      "100%|██████████| 89/89 [01:20<00:00,  1.10it/s]\n",
      "100%|██████████| 89/89 [01:20<00:00,  1.10it/s]\n",
      "100%|██████████| 89/89 [01:20<00:00,  1.10it/s]\n",
      "100%|██████████| 89/89 [01:21<00:00,  1.10it/s]\n",
      "100%|██████████| 89/89 [01:21<00:00,  1.10it/s]\n",
      "100%|██████████| 89/89 [01:21<00:00,  1.09it/s]\n",
      "100%|██████████| 89/89 [01:20<00:00,  1.10it/s]\n",
      "100%|██████████| 89/89 [01:21<00:00,  1.10it/s]\n",
      "100%|██████████| 89/89 [01:21<00:00,  1.10it/s]\n",
      "100%|██████████| 89/89 [01:21<00:00,  1.09it/s]\n",
      "100%|██████████| 89/89 [01:21<00:00,  1.09it/s]\n",
      "100%|██████████| 89/89 [01:21<00:00,  1.09it/s]\n",
      "100%|██████████| 89/89 [01:21<00:00,  1.09it/s]\n",
      "100%|██████████| 89/89 [01:21<00:00,  1.09it/s]\n"
     ]
    },
    {
     "name": "stdout",
     "output_type": "stream",
     "text": [
      "===> Integrating for model_output/2021-02-19/L-r15-t125000-id3-fsus-107_90\n"
     ]
    },
    {
     "name": "stderr",
     "output_type": "stream",
     "text": [
      "  0%|          | 0/89 [00:00<?, ?it/s]"
     ]
    },
    {
     "name": "stdout",
     "output_type": "stream",
     "text": [
      "===> Integrating for model_output/2021-02-19/L-r15-t1500000-id11-fsus-107_90\n"
     ]
    },
    {
     "name": "stderr",
     "output_type": "stream",
     "text": [
      "  1%|          | 1/89 [00:00<01:10,  1.25it/s]"
     ]
    },
    {
     "name": "stdout",
     "output_type": "stream",
     "text": [
      "===> Integrating for model_output/2021-02-19/L-r15-t250000-id5-fsus-107_90\n"
     ]
    },
    {
     "name": "stderr",
     "output_type": "stream",
     "text": [
      "  0%|          | 0/89 [00:00<?, ?it/s]"
     ]
    },
    {
     "name": "stdout",
     "output_type": "stream",
     "text": [
      "===> Integrating for model_output/2021-02-19/U-r15-t1500000-id10-fsus-107_90\n"
     ]
    },
    {
     "name": "stderr",
     "output_type": "stream",
     "text": [
      "  0%|          | 0/89 [00:00<?, ?it/s]"
     ]
    },
    {
     "name": "stdout",
     "output_type": "stream",
     "text": [
      "===> Integrating for model_output/2021-02-19/U-r15-t250000-id4-fsus-107_90\n"
     ]
    },
    {
     "name": "stderr",
     "output_type": "stream",
     "text": [
      "  0%|          | 0/89 [00:00<?, ?it/s]"
     ]
    },
    {
     "name": "stdout",
     "output_type": "stream",
     "text": [
      "===> Integrating for model_output/2021-02-19/L-r15-t479700-id7-fsus-107_90\n"
     ]
    },
    {
     "name": "stderr",
     "output_type": "stream",
     "text": [
      "  0%|          | 0/89 [00:00<?, ?it/s]"
     ]
    },
    {
     "name": "stdout",
     "output_type": "stream",
     "text": [
      "===> Integrating for model_output/2021-02-19/U-r150-t479700-id14-fsus-107_90\n"
     ]
    },
    {
     "name": "stderr",
     "output_type": "stream",
     "text": [
      "  0%|          | 0/89 [00:00<?, ?it/s]"
     ]
    },
    {
     "name": "stdout",
     "output_type": "stream",
     "text": [
      "===> Integrating for model_output/2021-02-19/U-r15-t1000000-id8-fsus-107_90\n"
     ]
    },
    {
     "name": "stderr",
     "output_type": "stream",
     "text": [
      "  0%|          | 0/89 [00:00<?, ?it/s]"
     ]
    },
    {
     "name": "stdout",
     "output_type": "stream",
     "text": [
      "===> Integrating for model_output/2021-02-19/U-r15-t479700-id6-fsus-107_90===> Integrating for model_output/2021-02-19/L-r150-t479700-id15-fsus-107_90\n",
      "\n"
     ]
    },
    {
     "name": "stderr",
     "output_type": "stream",
     "text": [
      "  2%|▏         | 2/89 [00:01<01:11,  1.22it/s]"
     ]
    },
    {
     "name": "stdout",
     "output_type": "stream",
     "text": [
      "===> Integrating for model_output/2021-02-19/L-r3-t479700-id1-fsus-107_90\n"
     ]
    },
    {
     "name": "stderr",
     "output_type": "stream",
     "text": [
      "  0%|          | 0/89 [00:00<?, ?it/s]"
     ]
    },
    {
     "name": "stdout",
     "output_type": "stream",
     "text": [
      "===> Integrating for model_output/2021-02-19/U-r15-t125000-id2-fsus-107_90\n"
     ]
    },
    {
     "name": "stderr",
     "output_type": "stream",
     "text": [
      "  1%|          | 1/89 [00:00<01:17,  1.14it/s]"
     ]
    },
    {
     "name": "stdout",
     "output_type": "stream",
     "text": [
      "===> Integrating for model_output/2021-02-19/L-r15-t1000000-id9-fsus-107_90\n"
     ]
    },
    {
     "name": "stderr",
     "output_type": "stream",
     "text": [
      "  0%|          | 0/89 [00:00<?, ?it/s]"
     ]
    },
    {
     "name": "stdout",
     "output_type": "stream",
     "text": [
      "===> Integrating for model_output/2021-02-19/L-r15-t2000000-id13-fsus-107_90"
     ]
    },
    {
     "name": "stderr",
     "output_type": "stream",
     "text": [
      "  1%|          | 1/89 [00:00<01:15,  1.17it/s]"
     ]
    },
    {
     "name": "stdout",
     "output_type": "stream",
     "text": [
      "\n"
     ]
    },
    {
     "name": "stderr",
     "output_type": "stream",
     "text": [
      "  1%|          | 1/89 [00:00<01:15,  1.17it/s]"
     ]
    },
    {
     "name": "stdout",
     "output_type": "stream",
     "text": [
      "===> Integrating for model_output/2021-02-19/U-r15-t2000000-id12-fsus-107_90\n"
     ]
    },
    {
     "name": "stderr",
     "output_type": "stream",
     "text": [
      "  1%|          | 1/89 [00:00<01:17,  1.13it/s]"
     ]
    },
    {
     "name": "stdout",
     "output_type": "stream",
     "text": [
      "===> Integrating for model_output/2021-02-19/U-r3-t479700-id0-fsus-107_90\n"
     ]
    },
    {
     "name": "stderr",
     "output_type": "stream",
     "text": [
      "100%|██████████| 89/89 [01:21<00:00,  1.09it/s]\n",
      "100%|██████████| 89/89 [01:21<00:00,  1.09it/s]\n",
      "100%|██████████| 89/89 [01:21<00:00,  1.09it/s]\n",
      "100%|██████████| 89/89 [01:21<00:00,  1.09it/s]\n",
      "100%|██████████| 89/89 [01:21<00:00,  1.09it/s]\n",
      "100%|██████████| 89/89 [01:22<00:00,  1.08it/s]\n",
      "100%|██████████| 89/89 [01:21<00:00,  1.09it/s]\n",
      "100%|██████████| 89/89 [01:21<00:00,  1.09it/s]\n",
      "100%|██████████| 89/89 [01:21<00:00,  1.09it/s]\n",
      "100%|██████████| 89/89 [01:21<00:00,  1.09it/s]\n",
      "100%|██████████| 89/89 [01:21<00:00,  1.09it/s]\n",
      "100%|██████████| 89/89 [01:21<00:00,  1.09it/s]\n",
      "100%|██████████| 89/89 [01:22<00:00,  1.08it/s]\n",
      "100%|██████████| 89/89 [01:22<00:00,  1.08it/s]\n",
      "100%|██████████| 89/89 [01:22<00:00,  1.08it/s]\n",
      "100%|██████████| 89/89 [01:22<00:00,  1.07it/s]\n"
     ]
    },
    {
     "name": "stdout",
     "output_type": "stream",
     "text": [
      "===> Integrating for model_output/2021-02-19/L-r15-t125000-id3-psus-107_90\n"
     ]
    },
    {
     "name": "stderr",
     "output_type": "stream",
     "text": [
      "  0%|          | 0/89 [00:00<?, ?it/s]"
     ]
    },
    {
     "name": "stdout",
     "output_type": "stream",
     "text": [
      "===> Integrating for model_output/2021-02-19/L-r15-t1500000-id11-psus-107_90\n"
     ]
    },
    {
     "name": "stderr",
     "output_type": "stream",
     "text": [
      "  1%|          | 1/89 [00:00<01:12,  1.21it/s]"
     ]
    },
    {
     "name": "stdout",
     "output_type": "stream",
     "text": [
      "===> Integrating for model_output/2021-02-19/U-r15-t1500000-id10-psus-107_90\n"
     ]
    },
    {
     "name": "stderr",
     "output_type": "stream",
     "text": [
      "  0%|          | 0/89 [00:00<?, ?it/s]"
     ]
    },
    {
     "name": "stdout",
     "output_type": "stream",
     "text": [
      "===> Integrating for model_output/2021-02-19/L-r15-t479700-id7-psus-107_90\n"
     ]
    },
    {
     "name": "stderr",
     "output_type": "stream",
     "text": [
      "  0%|          | 0/89 [00:00<?, ?it/s]"
     ]
    },
    {
     "name": "stdout",
     "output_type": "stream",
     "text": [
      "===> Integrating for model_output/2021-02-19/U-r15-t250000-id4-psus-107_90\n"
     ]
    },
    {
     "name": "stderr",
     "output_type": "stream",
     "text": [
      "  1%|          | 1/89 [00:00<01:10,  1.25it/s]"
     ]
    },
    {
     "name": "stdout",
     "output_type": "stream",
     "text": [
      "===> Integrating for model_output/2021-02-19/U-r15-t479700-id6-psus-107_90\n",
      "===> Integrating for model_output/2021-02-19/L-r15-t250000-id5-psus-107_90\n"
     ]
    },
    {
     "name": "stderr",
     "output_type": "stream",
     "text": [
      "  1%|          | 1/89 [00:00<01:11,  1.23it/s]"
     ]
    },
    {
     "name": "stdout",
     "output_type": "stream",
     "text": [
      "===> Integrating for model_output/2021-02-19/U-r15-t1000000-id8-psus-107_90\n"
     ]
    },
    {
     "name": "stderr",
     "output_type": "stream",
     "text": [
      "  0%|          | 0/89 [00:00<?, ?it/s]"
     ]
    },
    {
     "name": "stdout",
     "output_type": "stream",
     "text": [
      "===> Integrating for model_output/2021-02-19/L-r150-t479700-id15-psus-107_90\n"
     ]
    },
    {
     "name": "stderr",
     "output_type": "stream",
     "text": [
      "  0%|          | 0/89 [00:00<?, ?it/s]"
     ]
    },
    {
     "name": "stdout",
     "output_type": "stream",
     "text": [
      "===> Integrating for model_output/2021-02-19/U-r15-t125000-id2-psus-107_90\n"
     ]
    },
    {
     "name": "stderr",
     "output_type": "stream",
     "text": [
      "  1%|          | 1/89 [00:00<01:10,  1.24it/s]"
     ]
    },
    {
     "name": "stdout",
     "output_type": "stream",
     "text": [
      "===> Integrating for model_output/2021-02-19/U-r150-t479700-id14-psus-107_90\n"
     ]
    },
    {
     "name": "stderr",
     "output_type": "stream",
     "text": [
      "  0%|          | 0/89 [00:00<?, ?it/s]"
     ]
    },
    {
     "name": "stdout",
     "output_type": "stream",
     "text": [
      "===> Integrating for model_output/2021-02-19/L-r15-t2000000-id13-psus-107_90\n",
      "===> Integrating for model_output/2021-02-19/L-r15-t1000000-id9-psus-107_90"
     ]
    },
    {
     "name": "stderr",
     "output_type": "stream",
     "text": [
      "  0%|          | 0/89 [00:00<?, ?it/s]"
     ]
    },
    {
     "name": "stdout",
     "output_type": "stream",
     "text": [
      "\n"
     ]
    },
    {
     "name": "stderr",
     "output_type": "stream",
     "text": [
      "  2%|▏         | 2/89 [00:01<01:10,  1.23it/s]"
     ]
    },
    {
     "name": "stdout",
     "output_type": "stream",
     "text": [
      "===> Integrating for model_output/2021-02-19/L-r3-t479700-id1-psus-107_90\n"
     ]
    },
    {
     "name": "stderr",
     "output_type": "stream",
     "text": [
      "  2%|▏         | 2/89 [00:01<01:12,  1.20it/s]"
     ]
    },
    {
     "name": "stdout",
     "output_type": "stream",
     "text": [
      "===> Integrating for model_output/2021-02-19/U-r15-t2000000-id12-psus-107_90\n"
     ]
    },
    {
     "name": "stderr",
     "output_type": "stream",
     "text": [
      "  1%|          | 1/89 [00:00<01:15,  1.17it/s]"
     ]
    },
    {
     "name": "stdout",
     "output_type": "stream",
     "text": [
      "===> Integrating for model_output/2021-02-19/U-r3-t479700-id0-psus-107_90\n"
     ]
    },
    {
     "name": "stderr",
     "output_type": "stream",
     "text": [
      "100%|██████████| 89/89 [01:25<00:00,  1.04it/s]\n",
      "100%|██████████| 89/89 [01:25<00:00,  1.04it/s]\n",
      "100%|██████████| 89/89 [01:25<00:00,  1.05it/s]\n",
      "100%|██████████| 89/89 [01:25<00:00,  1.04it/s]\n",
      "100%|██████████| 89/89 [01:25<00:00,  1.04it/s]\n",
      "100%|██████████| 89/89 [01:25<00:00,  1.04it/s]\n",
      "100%|██████████| 89/89 [01:25<00:00,  1.04it/s]\n",
      "100%|██████████| 89/89 [01:25<00:00,  1.04it/s]\n",
      "100%|██████████| 89/89 [01:25<00:00,  1.04it/s]\n",
      "100%|██████████| 89/89 [01:25<00:00,  1.04it/s]\n",
      "100%|██████████| 89/89 [01:25<00:00,  1.04it/s]\n",
      "100%|██████████| 89/89 [01:26<00:00,  1.03it/s]\n",
      "100%|██████████| 89/89 [01:26<00:00,  1.03it/s]\n",
      "100%|██████████| 89/89 [01:26<00:00,  1.03it/s]\n",
      "100%|██████████| 89/89 [01:26<00:00,  1.03it/s]\n",
      "100%|██████████| 89/89 [01:26<00:00,  1.03it/s]\n"
     ]
    },
    {
     "name": "stdout",
     "output_type": "stream",
     "text": [
      "===> Integrating for model_output/2021-02-19/L-r15-t125000-id3-fincpp-107_90\n"
     ]
    },
    {
     "name": "stderr",
     "output_type": "stream",
     "text": [
      "  0%|          | 0/89 [00:00<?, ?it/s]"
     ]
    },
    {
     "name": "stdout",
     "output_type": "stream",
     "text": [
      "===> Integrating for model_output/2021-02-19/L-r15-t1500000-id11-fincpp-107_90\n"
     ]
    },
    {
     "name": "stderr",
     "output_type": "stream",
     "text": [
      "  1%|          | 1/89 [00:00<01:15,  1.17it/s]"
     ]
    },
    {
     "name": "stdout",
     "output_type": "stream",
     "text": [
      "===> Integrating for model_output/2021-02-19/U-r15-t250000-id4-fincpp-107_90\n"
     ]
    },
    {
     "name": "stderr",
     "output_type": "stream",
     "text": [
      "  2%|▏         | 2/89 [00:01<01:14,  1.16it/s]"
     ]
    },
    {
     "name": "stdout",
     "output_type": "stream",
     "text": [
      "===> Integrating for model_output/2021-02-19/L-r15-t479700-id7-fincpp-107_90\n"
     ]
    },
    {
     "name": "stderr",
     "output_type": "stream",
     "text": [
      "  0%|          | 0/89 [00:00<?, ?it/s]"
     ]
    },
    {
     "name": "stdout",
     "output_type": "stream",
     "text": [
      "===> Integrating for model_output/2021-02-19/U-r15-t1500000-id10-fincpp-107_90===> Integrating for model_output/2021-02-19/U-r15-t479700-id6-fincpp-107_90\n",
      "\n"
     ]
    },
    {
     "name": "stderr",
     "output_type": "stream",
     "text": [
      "  2%|▏         | 2/89 [00:01<01:15,  1.15it/s]"
     ]
    },
    {
     "name": "stdout",
     "output_type": "stream",
     "text": [
      "===> Integrating for model_output/2021-02-19/L-r15-t250000-id5-fincpp-107_90\n"
     ]
    },
    {
     "name": "stderr",
     "output_type": "stream",
     "text": [
      "  0%|          | 0/89 [00:00<?, ?it/s]"
     ]
    },
    {
     "name": "stdout",
     "output_type": "stream",
     "text": [
      "===> Integrating for model_output/2021-02-19/U-r15-t1000000-id8-fincpp-107_90\n"
     ]
    },
    {
     "name": "stderr",
     "output_type": "stream",
     "text": [
      "  1%|          | 1/89 [00:00<01:17,  1.14it/s]"
     ]
    },
    {
     "name": "stdout",
     "output_type": "stream",
     "text": [
      "===> Integrating for model_output/2021-02-19/U-r15-t125000-id2-fincpp-107_90\n"
     ]
    },
    {
     "name": "stderr",
     "output_type": "stream",
     "text": [
      "  2%|▏         | 2/89 [00:01<01:15,  1.16it/s]"
     ]
    },
    {
     "name": "stdout",
     "output_type": "stream",
     "text": [
      "===> Integrating for model_output/2021-02-19/L-r15-t1000000-id9-fincpp-107_90\n"
     ]
    },
    {
     "name": "stderr",
     "output_type": "stream",
     "text": [
      "  1%|          | 1/89 [00:00<01:19,  1.11it/s]"
     ]
    },
    {
     "name": "stdout",
     "output_type": "stream",
     "text": [
      "===> Integrating for model_output/2021-02-19/L-r3-t479700-id1-fincpp-107_90\n"
     ]
    },
    {
     "name": "stderr",
     "output_type": "stream",
     "text": [
      "  0%|          | 0/89 [00:00<?, ?it/s]"
     ]
    },
    {
     "name": "stdout",
     "output_type": "stream",
     "text": [
      "===> Integrating for model_output/2021-02-19/U-r15-t2000000-id12-fincpp-107_90\n"
     ]
    },
    {
     "name": "stderr",
     "output_type": "stream",
     "text": [
      "  0%|          | 0/89 [00:00<?, ?it/s]"
     ]
    },
    {
     "name": "stdout",
     "output_type": "stream",
     "text": [
      "===> Integrating for model_output/2021-02-19/L-r15-t2000000-id13-fincpp-107_90\n"
     ]
    },
    {
     "name": "stderr",
     "output_type": "stream",
     "text": [
      "  0%|          | 0/89 [00:00<?, ?it/s]"
     ]
    },
    {
     "name": "stdout",
     "output_type": "stream",
     "text": [
      "===> Integrating for model_output/2021-02-19/U-r150-t479700-id14-fincpp-107_90\n"
     ]
    },
    {
     "name": "stderr",
     "output_type": "stream",
     "text": [
      "  1%|          | 1/89 [00:00<01:17,  1.14it/s]"
     ]
    },
    {
     "name": "stdout",
     "output_type": "stream",
     "text": [
      "===> Integrating for model_output/2021-02-19/L-r150-t479700-id15-fincpp-107_90\n"
     ]
    },
    {
     "name": "stderr",
     "output_type": "stream",
     "text": [
      "  2%|▏         | 2/89 [00:01<01:18,  1.11it/s]"
     ]
    },
    {
     "name": "stdout",
     "output_type": "stream",
     "text": [
      "===> Integrating for model_output/2021-02-19/U-r3-t479700-id0-fincpp-107_90\n"
     ]
    },
    {
     "name": "stderr",
     "output_type": "stream",
     "text": [
      "100%|██████████| 89/89 [01:28<00:00,  1.01it/s]\n",
      "100%|██████████| 89/89 [01:28<00:00,  1.00it/s]\n",
      "100%|██████████| 89/89 [01:28<00:00,  1.01it/s]\n",
      "100%|██████████| 89/89 [01:28<00:00,  1.01it/s]\n",
      "100%|██████████| 89/89 [01:28<00:00,  1.01it/s]\n",
      "100%|██████████| 89/89 [01:27<00:00,  1.01it/s]\n",
      "100%|██████████| 89/89 [01:28<00:00,  1.01it/s]\n",
      "100%|██████████| 89/89 [01:28<00:00,  1.00it/s]\n",
      "100%|██████████| 89/89 [01:27<00:00,  1.01it/s]\n",
      "100%|██████████| 89/89 [01:28<00:00,  1.01it/s]\n",
      "100%|██████████| 89/89 [01:28<00:00,  1.01it/s]\n",
      "100%|██████████| 89/89 [01:28<00:00,  1.01it/s]\n",
      "100%|██████████| 89/89 [01:28<00:00,  1.01it/s]\n",
      "100%|██████████| 89/89 [01:28<00:00,  1.00it/s]\n",
      "100%|██████████| 89/89 [01:28<00:00,  1.00it/s]\n",
      "100%|██████████| 89/89 [01:28<00:00,  1.01it/s]\n"
     ]
    },
    {
     "name": "stdout",
     "output_type": "stream",
     "text": [
      "===> Integrating for model_output/2021-02-19/L-r15-t1500000-id11-pincpp-107_90\n"
     ]
    },
    {
     "name": "stderr",
     "output_type": "stream",
     "text": [
      "  1%|          | 1/89 [00:00<01:14,  1.18it/s]"
     ]
    },
    {
     "name": "stdout",
     "output_type": "stream",
     "text": [
      "===> Integrating for model_output/2021-02-19/L-r15-t125000-id3-pincpp-107_90\n"
     ]
    },
    {
     "name": "stderr",
     "output_type": "stream",
     "text": [
      "  0%|          | 0/89 [00:00<?, ?it/s]"
     ]
    },
    {
     "name": "stdout",
     "output_type": "stream",
     "text": [
      "===> Integrating for model_output/2021-02-19/U-r15-t250000-id4-pincpp-107_90\n"
     ]
    },
    {
     "name": "stderr",
     "output_type": "stream",
     "text": [
      "  2%|▏         | 2/89 [00:01<01:19,  1.10it/s]"
     ]
    },
    {
     "name": "stdout",
     "output_type": "stream",
     "text": [
      "===> Integrating for model_output/2021-02-19/U-r15-t1500000-id10-pincpp-107_90\n"
     ]
    },
    {
     "name": "stderr",
     "output_type": "stream",
     "text": [
      "  0%|          | 0/89 [00:00<?, ?it/s]"
     ]
    },
    {
     "name": "stdout",
     "output_type": "stream",
     "text": [
      "===> Integrating for model_output/2021-02-19/L-r15-t479700-id7-pincpp-107_90\n"
     ]
    },
    {
     "name": "stderr",
     "output_type": "stream",
     "text": [
      "  0%|          | 0/89 [00:00<?, ?it/s]"
     ]
    },
    {
     "name": "stdout",
     "output_type": "stream",
     "text": [
      "===> Integrating for model_output/2021-02-19/U-r15-t1000000-id8-pincpp-107_90\n"
     ]
    },
    {
     "name": "stderr",
     "output_type": "stream",
     "text": [
      "  0%|          | 0/89 [00:00<?, ?it/s]"
     ]
    },
    {
     "name": "stdout",
     "output_type": "stream",
     "text": [
      "===> Integrating for model_output/2021-02-19/L-r15-t250000-id5-pincpp-107_90\n"
     ]
    },
    {
     "name": "stderr",
     "output_type": "stream",
     "text": [
      "  2%|▏         | 2/89 [00:01<01:23,  1.04it/s]"
     ]
    },
    {
     "name": "stdout",
     "output_type": "stream",
     "text": [
      "===> Integrating for model_output/2021-02-19/U-r15-t479700-id6-pincpp-107_90\n"
     ]
    },
    {
     "name": "stderr",
     "output_type": "stream",
     "text": [
      "  3%|▎         | 3/89 [00:02<01:21,  1.05it/s]"
     ]
    },
    {
     "name": "stdout",
     "output_type": "stream",
     "text": [
      "===> Integrating for model_output/2021-02-19/U-r15-t125000-id2-pincpp-107_90\n"
     ]
    },
    {
     "name": "stderr",
     "output_type": "stream",
     "text": [
      "  1%|          | 1/89 [00:01<01:30,  1.03s/it]"
     ]
    },
    {
     "name": "stdout",
     "output_type": "stream",
     "text": [
      "===> Integrating for model_output/2021-02-19/L-r15-t1000000-id9-pincpp-107_90\n"
     ]
    },
    {
     "name": "stderr",
     "output_type": "stream",
     "text": [
      "  3%|▎         | 3/89 [00:02<01:24,  1.02it/s]"
     ]
    },
    {
     "name": "stdout",
     "output_type": "stream",
     "text": [
      "===> Integrating for model_output/2021-02-19/U-r150-t479700-id14-pincpp-107_90\n"
     ]
    },
    {
     "name": "stderr",
     "output_type": "stream",
     "text": [
      "  1%|          | 1/89 [00:00<01:27,  1.01it/s]"
     ]
    },
    {
     "name": "stdout",
     "output_type": "stream",
     "text": [
      "===> Integrating for model_output/2021-02-19/U-r15-t2000000-id12-pincpp-107_90\n"
     ]
    },
    {
     "name": "stderr",
     "output_type": "stream",
     "text": [
      "  0%|          | 0/89 [00:00<?, ?it/s].02s/it]"
     ]
    },
    {
     "name": "stdout",
     "output_type": "stream",
     "text": [
      "===> Integrating for model_output/2021-02-19/L-r150-t479700-id15-pincpp-107_90\n"
     ]
    },
    {
     "name": "stderr",
     "output_type": "stream",
     "text": [
      "  0%|          | 0/89 [00:00<?, ?it/s]"
     ]
    },
    {
     "name": "stdout",
     "output_type": "stream",
     "text": [
      "===> Integrating for model_output/2021-02-19/L-r3-t479700-id1-pincpp-107_90\n"
     ]
    },
    {
     "name": "stderr",
     "output_type": "stream",
     "text": [
      "  0%|          | 0/89 [00:00<?, ?it/s]"
     ]
    },
    {
     "name": "stdout",
     "output_type": "stream",
     "text": [
      "===> Integrating for model_output/2021-02-19/L-r15-t2000000-id13-pincpp-107_90\n"
     ]
    },
    {
     "name": "stderr",
     "output_type": "stream",
     "text": [
      "  3%|▎         | 3/89 [00:03<01:26,  1.01s/it]"
     ]
    },
    {
     "name": "stdout",
     "output_type": "stream",
     "text": [
      "===> Integrating for model_output/2021-02-19/U-r3-t479700-id0-pincpp-107_90\n"
     ]
    },
    {
     "name": "stderr",
     "output_type": "stream",
     "text": [
      "100%|██████████| 89/89 [01:37<00:00,  1.10s/it]\n",
      "100%|██████████| 89/89 [01:37<00:00,  1.09s/it]\n",
      "100%|██████████| 89/89 [01:38<00:00,  1.10s/it]\n",
      "100%|██████████| 89/89 [01:37<00:00,  1.10s/it]\n",
      "100%|██████████| 89/89 [01:37<00:00,  1.09s/it]\n",
      "100%|██████████| 89/89 [01:37<00:00,  1.09s/it]\n",
      "100%|██████████| 89/89 [01:37<00:00,  1.10s/it]\n",
      "100%|██████████| 89/89 [01:37<00:00,  1.10s/it]\n",
      "100%|██████████| 89/89 [01:37<00:00,  1.10s/it]\n",
      "100%|██████████| 89/89 [01:37<00:00,  1.09s/it]\n",
      "100%|██████████| 89/89 [01:37<00:00,  1.10s/it]\n",
      "100%|██████████| 89/89 [01:37<00:00,  1.10s/it]\n",
      "100%|██████████| 89/89 [01:37<00:00,  1.10s/it]\n",
      "100%|██████████| 89/89 [01:37<00:00,  1.10s/it]\n",
      "100%|██████████| 89/89 [01:38<00:00,  1.11s/it]\n",
      "100%|██████████| 89/89 [01:38<00:00,  1.10s/it]\n"
     ]
    },
    {
     "name": "stdout",
     "output_type": "stream",
     "text": [
      "===> Integrating for model_output/2021-02-19/L-r15-t1500000-id11-fsuspp-107_90\n"
     ]
    },
    {
     "name": "stderr",
     "output_type": "stream",
     "text": [
      "  1%|          | 1/89 [00:00<01:12,  1.21it/s]"
     ]
    },
    {
     "name": "stdout",
     "output_type": "stream",
     "text": [
      "===> Integrating for model_output/2021-02-19/U-r15-t250000-id4-fsuspp-107_90\n"
     ]
    },
    {
     "name": "stderr",
     "output_type": "stream",
     "text": [
      "  2%|▏         | 2/89 [00:01<01:10,  1.23it/s]"
     ]
    },
    {
     "name": "stdout",
     "output_type": "stream",
     "text": [
      "===> Integrating for model_output/2021-02-19/L-r15-t125000-id3-fsuspp-107_90\n"
     ]
    },
    {
     "name": "stderr",
     "output_type": "stream",
     "text": [
      "  1%|          | 1/89 [00:00<01:09,  1.27it/s]"
     ]
    },
    {
     "name": "stdout",
     "output_type": "stream",
     "text": [
      "===> Integrating for model_output/2021-02-19/U-r15-t1500000-id10-fsuspp-107_90\n"
     ]
    },
    {
     "name": "stderr",
     "output_type": "stream",
     "text": [
      "  2%|▏         | 2/89 [00:01<01:07,  1.29it/s]"
     ]
    },
    {
     "name": "stdout",
     "output_type": "stream",
     "text": [
      "===> Integrating for model_output/2021-02-19/U-r15-t479700-id6-fsuspp-107_90\n"
     ]
    },
    {
     "name": "stderr",
     "output_type": "stream",
     "text": [
      "  1%|          | 1/89 [00:00<01:09,  1.27it/s]"
     ]
    },
    {
     "name": "stdout",
     "output_type": "stream",
     "text": [
      "===> Integrating for model_output/2021-02-19/L-r15-t250000-id5-fsuspp-107_90\n"
     ]
    },
    {
     "name": "stderr",
     "output_type": "stream",
     "text": [
      "  0%|          | 0/89 [00:00<?, ?it/s]"
     ]
    },
    {
     "name": "stdout",
     "output_type": "stream",
     "text": [
      "===> Integrating for model_output/2021-02-19/U-r15-t125000-id2-fsuspp-107_90===> Integrating for model_output/2021-02-19/L-r15-t479700-id7-fsuspp-107_90\n",
      "\n"
     ]
    },
    {
     "name": "stderr",
     "output_type": "stream",
     "text": [
      "  6%|▌         | 5/89 [00:03<01:06,  1.27it/s]"
     ]
    },
    {
     "name": "stdout",
     "output_type": "stream",
     "text": [
      "===> Integrating for model_output/2021-02-19/U-r15-t1000000-id8-fsuspp-107_90\n"
     ]
    },
    {
     "name": "stderr",
     "output_type": "stream",
     "text": [
      "  3%|▎         | 3/89 [00:02<01:07,  1.27it/s]"
     ]
    },
    {
     "name": "stdout",
     "output_type": "stream",
     "text": [
      "===> Integrating for model_output/2021-02-19/L-r15-t1000000-id9-fsuspp-107_90\n"
     ]
    },
    {
     "name": "stderr",
     "output_type": "stream",
     "text": [
      "  1%|          | 1/89 [00:00<01:11,  1.23it/s]"
     ]
    },
    {
     "name": "stdout",
     "output_type": "stream",
     "text": [
      "===> Integrating for model_output/2021-02-19/U-r150-t479700-id14-fsuspp-107_90\n"
     ]
    },
    {
     "name": "stderr",
     "output_type": "stream",
     "text": [
      "  1%|          | 1/89 [00:00<01:12,  1.21it/s]"
     ]
    },
    {
     "name": "stdout",
     "output_type": "stream",
     "text": [
      "===> Integrating for model_output/2021-02-19/U-r15-t2000000-id12-fsuspp-107_90\n"
     ]
    },
    {
     "name": "stderr",
     "output_type": "stream",
     "text": [
      "  2%|▏         | 2/89 [00:01<01:10,  1.23it/s]"
     ]
    },
    {
     "name": "stdout",
     "output_type": "stream",
     "text": [
      "===> Integrating for model_output/2021-02-19/L-r3-t479700-id1-fsuspp-107_90\n"
     ]
    },
    {
     "name": "stderr",
     "output_type": "stream",
     "text": [
      "  6%|▌         | 5/89 [00:04<01:08,  1.23it/s]"
     ]
    },
    {
     "name": "stdout",
     "output_type": "stream",
     "text": [
      "===> Integrating for model_output/2021-02-19/L-r15-t2000000-id13-fsuspp-107_90\n"
     ]
    },
    {
     "name": "stderr",
     "output_type": "stream",
     "text": [
      "  2%|▏         | 2/89 [00:01<01:11,  1.21it/s]"
     ]
    },
    {
     "name": "stdout",
     "output_type": "stream",
     "text": [
      "===> Integrating for model_output/2021-02-19/L-r150-t479700-id15-fsuspp-107_90\n"
     ]
    },
    {
     "name": "stderr",
     "output_type": "stream",
     "text": [
      "  3%|▎         | 3/89 [00:02<01:09,  1.23it/s]"
     ]
    },
    {
     "name": "stdout",
     "output_type": "stream",
     "text": [
      "===> Integrating for model_output/2021-02-19/U-r3-t479700-id0-fsuspp-107_90\n"
     ]
    },
    {
     "name": "stderr",
     "output_type": "stream",
     "text": [
      "100%|██████████| 89/89 [01:16<00:00,  1.16it/s]\n",
      "100%|██████████| 89/89 [01:16<00:00,  1.17it/s]\n",
      "100%|██████████| 89/89 [01:17<00:00,  1.15it/s]\n",
      "100%|██████████| 89/89 [01:17<00:00,  1.16it/s]\n",
      "100%|██████████| 89/89 [01:16<00:00,  1.16it/s]\n",
      "100%|██████████| 89/89 [01:16<00:00,  1.16it/s]\n",
      "100%|██████████| 89/89 [01:17<00:00,  1.15it/s]\n",
      "100%|██████████| 89/89 [01:17<00:00,  1.15it/s]\n",
      "100%|██████████| 89/89 [01:17<00:00,  1.15it/s]\n",
      "100%|██████████| 89/89 [01:17<00:00,  1.15it/s]\n",
      "100%|██████████| 89/89 [01:16<00:00,  1.16it/s]\n",
      "100%|██████████| 89/89 [01:17<00:00,  1.15it/s]\n",
      "100%|██████████| 89/89 [01:17<00:00,  1.15it/s]\n",
      "100%|██████████| 89/89 [01:17<00:00,  1.15it/s]\n",
      "100%|██████████| 89/89 [01:17<00:00,  1.15it/s]\n",
      "100%|██████████| 89/89 [01:17<00:00,  1.15it/s]\n"
     ]
    },
    {
     "name": "stdout",
     "output_type": "stream",
     "text": [
      "===> Integrating for model_output/2021-02-19/L-r15-t1500000-id11-psuspp-107_90\n"
     ]
    },
    {
     "name": "stderr",
     "output_type": "stream",
     "text": [
      "  2%|▏         | 2/89 [00:01<01:09,  1.25it/s]"
     ]
    },
    {
     "name": "stdout",
     "output_type": "stream",
     "text": [
      "===> Integrating for model_output/2021-02-19/U-r15-t250000-id4-psuspp-107_90\n"
     ]
    },
    {
     "name": "stderr",
     "output_type": "stream",
     "text": [
      "  2%|▏         | 2/89 [00:01<01:08,  1.27it/s]"
     ]
    },
    {
     "name": "stdout",
     "output_type": "stream",
     "text": [
      "===> Integrating for model_output/2021-02-19/L-r15-t125000-id3-psuspp-107_90\n"
     ]
    },
    {
     "name": "stderr",
     "output_type": "stream",
     "text": [
      "  7%|▋         | 6/89 [00:04<01:06,  1.26it/s]"
     ]
    },
    {
     "name": "stdout",
     "output_type": "stream",
     "text": [
      "===> Integrating for model_output/2021-02-19/U-r15-t1500000-id10-psuspp-107_90\n"
     ]
    },
    {
     "name": "stderr",
     "output_type": "stream",
     "text": [
      "  2%|▏         | 2/89 [00:01<01:08,  1.26it/s]"
     ]
    },
    {
     "name": "stdout",
     "output_type": "stream",
     "text": [
      "===> Integrating for model_output/2021-02-19/U-r15-t479700-id6-psuspp-107_90\n"
     ]
    },
    {
     "name": "stderr",
     "output_type": "stream",
     "text": [
      "  0%|          | 0/89 [00:00<?, ?it/s]"
     ]
    },
    {
     "name": "stdout",
     "output_type": "stream",
     "text": [
      "===> Integrating for model_output/2021-02-19/L-r15-t250000-id5-psuspp-107_90\n"
     ]
    },
    {
     "name": "stderr",
     "output_type": "stream",
     "text": [
      "  1%|          | 1/89 [00:00<01:08,  1.29it/s]"
     ]
    },
    {
     "name": "stdout",
     "output_type": "stream",
     "text": [
      "===> Integrating for model_output/2021-02-19/L-r15-t479700-id7-psuspp-107_90\n"
     ]
    },
    {
     "name": "stderr",
     "output_type": "stream",
     "text": [
      "  1%|          | 1/89 [00:00<01:10,  1.25it/s]"
     ]
    },
    {
     "name": "stdout",
     "output_type": "stream",
     "text": [
      "===> Integrating for model_output/2021-02-19/U-r15-t125000-id2-psuspp-107_90\n"
     ]
    },
    {
     "name": "stderr",
     "output_type": "stream",
     "text": [
      "  9%|▉         | 8/89 [00:06<01:04,  1.25it/s]"
     ]
    },
    {
     "name": "stdout",
     "output_type": "stream",
     "text": [
      "===> Integrating for model_output/2021-02-19/U-r15-t1000000-id8-psuspp-107_90\n"
     ]
    },
    {
     "name": "stderr",
     "output_type": "stream",
     "text": [
      "  4%|▍         | 4/89 [00:03<01:07,  1.26it/s]"
     ]
    },
    {
     "name": "stdout",
     "output_type": "stream",
     "text": [
      "===> Integrating for model_output/2021-02-19/L-r15-t1000000-id9-psuspp-107_90\n"
     ]
    },
    {
     "name": "stderr",
     "output_type": "stream",
     "text": [
      "  2%|▏         | 2/89 [00:01<01:09,  1.25it/s]"
     ]
    },
    {
     "name": "stdout",
     "output_type": "stream",
     "text": [
      "===> Integrating for model_output/2021-02-19/U-r15-t2000000-id12-psuspp-107_90\n"
     ]
    },
    {
     "name": "stderr",
     "output_type": "stream",
     "text": [
      "  1%|          | 1/89 [00:00<01:10,  1.24it/s]"
     ]
    },
    {
     "name": "stdout",
     "output_type": "stream",
     "text": [
      "===> Integrating for model_output/2021-02-19/U-r150-t479700-id14-psuspp-107_90\n"
     ]
    },
    {
     "name": "stderr",
     "output_type": "stream",
     "text": [
      "  3%|▎         | 3/89 [00:02<01:09,  1.24it/s]"
     ]
    },
    {
     "name": "stdout",
     "output_type": "stream",
     "text": [
      "===> Integrating for model_output/2021-02-19/L-r3-t479700-id1-psuspp-107_90\n"
     ]
    },
    {
     "name": "stderr",
     "output_type": "stream",
     "text": [
      "  0%|          | 0/89 [00:00<?, ?it/s]"
     ]
    },
    {
     "name": "stdout",
     "output_type": "stream",
     "text": [
      "===> Integrating for model_output/2021-02-19/L-r150-t479700-id15-psuspp-107_90\n"
     ]
    },
    {
     "name": "stderr",
     "output_type": "stream",
     "text": [
      "  2%|▏         | 2/89 [00:01<01:10,  1.23it/s]"
     ]
    },
    {
     "name": "stdout",
     "output_type": "stream",
     "text": [
      "===> Integrating for model_output/2021-02-19/L-r15-t2000000-id13-psuspp-107_90\n"
     ]
    },
    {
     "name": "stderr",
     "output_type": "stream",
     "text": [
      "  4%|▍         | 4/89 [00:03<01:08,  1.24it/s]]"
     ]
    },
    {
     "name": "stdout",
     "output_type": "stream",
     "text": [
      "===> Integrating for model_output/2021-02-19/U-r3-t479700-id0-psuspp-107_90\n"
     ]
    },
    {
     "name": "stderr",
     "output_type": "stream",
     "text": [
      "100%|██████████| 89/89 [01:16<00:00,  1.17it/s]\n",
      "100%|██████████| 89/89 [01:16<00:00,  1.17it/s]\n",
      "100%|██████████| 89/89 [01:16<00:00,  1.16it/s]\n",
      "100%|██████████| 89/89 [01:16<00:00,  1.17it/s]\n",
      "100%|██████████| 89/89 [01:16<00:00,  1.16it/s]\n",
      "100%|██████████| 89/89 [01:16<00:00,  1.16it/s]\n",
      "100%|██████████| 89/89 [01:16<00:00,  1.17it/s]\n",
      "100%|██████████| 89/89 [01:16<00:00,  1.16it/s]\n",
      "100%|██████████| 89/89 [01:16<00:00,  1.16it/s]\n",
      "100%|██████████| 89/89 [01:16<00:00,  1.16it/s]\n",
      "100%|██████████| 89/89 [01:16<00:00,  1.16it/s]\n",
      "100%|██████████| 89/89 [01:16<00:00,  1.16it/s]\n",
      "100%|██████████| 89/89 [01:16<00:00,  1.17it/s]\n",
      "100%|██████████| 89/89 [01:16<00:00,  1.16it/s]\n",
      "100%|██████████| 89/89 [01:16<00:00,  1.16it/s]\n",
      "100%|██████████| 89/89 [01:16<00:00,  1.16it/s]\n"
     ]
    },
    {
     "name": "stdout",
     "output_type": "stream",
     "text": [
      "===> Integrating for model_output/2021-02-19/L-r15-t1500000-id11-ppop-107_90\n"
     ]
    },
    {
     "name": "stderr",
     "output_type": "stream",
     "text": [
      "  3%|▎         | 3/89 [00:02<01:02,  1.38it/s]"
     ]
    },
    {
     "name": "stdout",
     "output_type": "stream",
     "text": [
      "===> Integrating for model_output/2021-02-19/U-r15-t250000-id4-ppop-107_90\n"
     ]
    },
    {
     "name": "stderr",
     "output_type": "stream",
     "text": [
      "  4%|▍         | 4/89 [00:03<01:04,  1.31it/s]"
     ]
    },
    {
     "name": "stdout",
     "output_type": "stream",
     "text": [
      "===> Integrating for model_output/2021-02-19/L-r15-t125000-id3-ppop-107_90\n"
     ]
    },
    {
     "name": "stderr",
     "output_type": "stream",
     "text": [
      "  7%|▋         | 6/89 [00:04<01:04,  1.28it/s]"
     ]
    },
    {
     "name": "stdout",
     "output_type": "stream",
     "text": [
      "===> Integrating for model_output/2021-02-19/U-r15-t1500000-id10-ppop-107_90\n"
     ]
    },
    {
     "name": "stderr",
     "output_type": "stream",
     "text": [
      " 11%|█         | 10/89 [00:07<01:01,  1.29it/s]"
     ]
    },
    {
     "name": "stdout",
     "output_type": "stream",
     "text": [
      "===> Integrating for model_output/2021-02-19/U-r15-t479700-id6-ppop-107_90\n"
     ]
    },
    {
     "name": "stderr",
     "output_type": "stream",
     "text": [
      "  0%|          | 0/89 [00:00<?, ?it/s]"
     ]
    },
    {
     "name": "stdout",
     "output_type": "stream",
     "text": [
      "===> Integrating for model_output/2021-02-19/L-r15-t250000-id5-ppop-107_90\n"
     ]
    },
    {
     "name": "stderr",
     "output_type": "stream",
     "text": [
      " 12%|█▏        | 11/89 [00:08<01:01,  1.28it/s]"
     ]
    },
    {
     "name": "stdout",
     "output_type": "stream",
     "text": [
      "===> Integrating for model_output/2021-02-19/U-r15-t125000-id2-ppop-107_90\n"
     ]
    },
    {
     "name": "stderr",
     "output_type": "stream",
     "text": [
      "  2%|▏         | 2/89 [00:01<01:08,  1.26it/s]"
     ]
    },
    {
     "name": "stdout",
     "output_type": "stream",
     "text": [
      "===> Integrating for model_output/2021-02-19/L-r15-t479700-id7-ppop-107_90\n"
     ]
    },
    {
     "name": "stderr",
     "output_type": "stream",
     "text": [
      "  2%|▏         | 2/89 [00:01<01:08,  1.27it/s]]"
     ]
    },
    {
     "name": "stdout",
     "output_type": "stream",
     "text": [
      "===> Integrating for model_output/2021-02-19/U-r15-t1000000-id8-ppop-107_90\n",
      "===> Integrating for model_output/2021-02-19/L-r15-t1000000-id9-ppop-107_90"
     ]
    },
    {
     "name": "stderr",
     "output_type": "stream",
     "text": [
      "  0%|          | 0/89 [00:00<?, ?it/s]"
     ]
    },
    {
     "name": "stdout",
     "output_type": "stream",
     "text": [
      "\n"
     ]
    },
    {
     "name": "stderr",
     "output_type": "stream",
     "text": [
      "  1%|          | 1/89 [00:00<01:11,  1.22it/s]"
     ]
    },
    {
     "name": "stdout",
     "output_type": "stream",
     "text": [
      "===> Integrating for model_output/2021-02-19/U-r15-t2000000-id12-ppop-107_90\n"
     ]
    },
    {
     "name": "stderr",
     "output_type": "stream",
     "text": [
      "  0%|          | 0/89 [00:00<?, ?it/s]"
     ]
    },
    {
     "name": "stdout",
     "output_type": "stream",
     "text": [
      "===> Integrating for model_output/2021-02-19/U-r150-t479700-id14-ppop-107_90\n"
     ]
    },
    {
     "name": "stderr",
     "output_type": "stream",
     "text": [
      "  3%|▎         | 3/89 [00:02<01:08,  1.25it/s]]"
     ]
    },
    {
     "name": "stdout",
     "output_type": "stream",
     "text": [
      "===> Integrating for model_output/2021-02-19/L-r150-t479700-id15-ppop-107_90\n"
     ]
    },
    {
     "name": "stderr",
     "output_type": "stream",
     "text": [
      "  0%|          | 0/89 [00:00<?, ?it/s]"
     ]
    },
    {
     "name": "stdout",
     "output_type": "stream",
     "text": [
      "===> Integrating for model_output/2021-02-19/L-r3-t479700-id1-ppop-107_90\n"
     ]
    },
    {
     "name": "stderr",
     "output_type": "stream",
     "text": [
      "  1%|          | 1/89 [00:00<01:19,  1.10it/s]]"
     ]
    },
    {
     "name": "stdout",
     "output_type": "stream",
     "text": [
      "===> Integrating for model_output/2021-02-19/L-r15-t2000000-id13-ppop-107_90\n"
     ]
    },
    {
     "name": "stderr",
     "output_type": "stream",
     "text": [
      "  4%|▍         | 4/89 [00:03<01:11,  1.19it/s]]"
     ]
    },
    {
     "name": "stdout",
     "output_type": "stream",
     "text": [
      "===> Integrating for model_output/2021-02-19/U-r3-t479700-id0-ppop-107_90\n"
     ]
    },
    {
     "name": "stderr",
     "output_type": "stream",
     "text": [
      "100%|██████████| 89/89 [01:17<00:00,  1.15it/s]\n",
      "100%|██████████| 89/89 [01:17<00:00,  1.14it/s]\n",
      "100%|██████████| 89/89 [01:18<00:00,  1.14it/s]\n",
      "100%|██████████| 89/89 [01:18<00:00,  1.13it/s]\n",
      "100%|██████████| 89/89 [01:18<00:00,  1.14it/s]\n",
      "100%|██████████| 89/89 [01:18<00:00,  1.14it/s]\n",
      "100%|██████████| 89/89 [01:18<00:00,  1.13it/s]\n",
      "100%|██████████| 89/89 [01:18<00:00,  1.13it/s]\n",
      "100%|██████████| 89/89 [01:18<00:00,  1.14it/s]\n",
      "100%|██████████| 89/89 [01:18<00:00,  1.13it/s]\n",
      "100%|██████████| 89/89 [01:18<00:00,  1.13it/s]\n",
      "100%|██████████| 89/89 [01:18<00:00,  1.13it/s]\n",
      "100%|██████████| 89/89 [01:18<00:00,  1.13it/s]\n",
      "100%|██████████| 89/89 [01:18<00:00,  1.13it/s]\n",
      "100%|██████████| 89/89 [01:18<00:00,  1.13it/s]\n",
      "100%|██████████| 89/89 [01:18<00:00,  1.13it/s]\n"
     ]
    },
    {
     "name": "stdout",
     "output_type": "stream",
     "text": [
      "===> Integrating for model_output/2021-02-19/L-r15-t1500000-id11-fpop-107_90\n"
     ]
    },
    {
     "name": "stderr",
     "output_type": "stream",
     "text": [
      "  6%|▌         | 5/89 [00:03<01:03,  1.32it/s]"
     ]
    },
    {
     "name": "stdout",
     "output_type": "stream",
     "text": [
      "===> Integrating for model_output/2021-02-19/U-r15-t250000-id4-fpop-107_90\n"
     ]
    },
    {
     "name": "stderr",
     "output_type": "stream",
     "text": [
      " 13%|█▎        | 12/89 [00:09<01:05,  1.18it/s]"
     ]
    },
    {
     "name": "stdout",
     "output_type": "stream",
     "text": [
      "===> Integrating for model_output/2021-02-19/L-r15-t125000-id3-fpop-107_90"
     ]
    },
    {
     "name": "stderr",
     "output_type": "stream",
     "text": [
      "  8%|▊         | 7/89 [00:05<01:08,  1.20it/s]"
     ]
    },
    {
     "name": "stdout",
     "output_type": "stream",
     "text": [
      "\n"
     ]
    },
    {
     "name": "stderr",
     "output_type": "stream",
     "text": [
      " 17%|█▋        | 15/89 [00:12<01:03,  1.17it/s]"
     ]
    },
    {
     "name": "stdout",
     "output_type": "stream",
     "text": [
      "===> Integrating for model_output/2021-02-19/U-r15-t1500000-id10-fpop-107_90\n"
     ]
    },
    {
     "name": "stderr",
     "output_type": "stream",
     "text": [
      "  0%|          | 0/89 [00:00<?, ?it/s]"
     ]
    },
    {
     "name": "stdout",
     "output_type": "stream",
     "text": [
      "===> Integrating for model_output/2021-02-19/L-r15-t250000-id5-fpop-107_90\n"
     ]
    },
    {
     "name": "stderr",
     "output_type": "stream",
     "text": [
      " 11%|█         | 10/89 [00:08<01:09,  1.13it/s]"
     ]
    },
    {
     "name": "stdout",
     "output_type": "stream",
     "text": [
      "===> Integrating for model_output/2021-02-19/U-r15-t479700-id6-fpop-107_90\n"
     ]
    },
    {
     "name": "stderr",
     "output_type": "stream",
     "text": [
      "  1%|          | 1/89 [00:00<01:22,  1.07it/s]]"
     ]
    },
    {
     "name": "stdout",
     "output_type": "stream",
     "text": [
      "===> Integrating for model_output/2021-02-19/U-r15-t125000-id2-fpop-107_90\n"
     ]
    },
    {
     "name": "stderr",
     "output_type": "stream",
     "text": [
      " 13%|█▎        | 12/89 [00:10<01:10,  1.09it/s]"
     ]
    },
    {
     "name": "stdout",
     "output_type": "stream",
     "text": [
      "===> Integrating for model_output/2021-02-19/L-r15-t479700-id7-fpop-107_90\n"
     ]
    },
    {
     "name": "stderr",
     "output_type": "stream",
     "text": [
      "  2%|▏         | 2/89 [00:01<01:22,  1.05it/s]"
     ]
    },
    {
     "name": "stdout",
     "output_type": "stream",
     "text": [
      "===> Integrating for model_output/2021-02-19/U-r15-t1000000-id8-fpop-107_90\n"
     ]
    },
    {
     "name": "stderr",
     "output_type": "stream",
     "text": [
      "  1%|          | 1/89 [00:00<01:25,  1.03it/s]"
     ]
    },
    {
     "name": "stdout",
     "output_type": "stream",
     "text": [
      "===> Integrating for model_output/2021-02-19/L-r15-t1000000-id9-fpop-107_90\n"
     ]
    },
    {
     "name": "stderr",
     "output_type": "stream",
     "text": [
      " 15%|█▍        | 13/89 [00:11<01:09,  1.09it/s]"
     ]
    },
    {
     "name": "stdout",
     "output_type": "stream",
     "text": [
      "===> Integrating for model_output/2021-02-19/U-r15-t2000000-id12-fpop-107_90\n",
      "===> Integrating for model_output/2021-02-19/U-r150-t479700-id14-fpop-107_90"
     ]
    },
    {
     "name": "stderr",
     "output_type": "stream",
     "text": [
      "  0%|          | 0/89 [00:00<?, ?it/s]"
     ]
    },
    {
     "name": "stdout",
     "output_type": "stream",
     "text": [
      "\n"
     ]
    },
    {
     "name": "stderr",
     "output_type": "stream",
     "text": [
      "  1%|          | 1/89 [00:00<01:16,  1.15it/s]"
     ]
    },
    {
     "name": "stdout",
     "output_type": "stream",
     "text": [
      "===> Integrating for model_output/2021-02-19/L-r3-t479700-id1-fpop-107_90\n"
     ]
    },
    {
     "name": "stderr",
     "output_type": "stream",
     "text": [
      "  0%|          | 0/89 [00:00<?, ?it/s]"
     ]
    },
    {
     "name": "stdout",
     "output_type": "stream",
     "text": [
      "===> Integrating for model_output/2021-02-19/L-r150-t479700-id15-fpop-107_90\n"
     ]
    },
    {
     "name": "stderr",
     "output_type": "stream",
     "text": [
      "  4%|▍         | 4/89 [00:03<01:19,  1.07it/s]]"
     ]
    },
    {
     "name": "stdout",
     "output_type": "stream",
     "text": [
      "===> Integrating for model_output/2021-02-19/L-r15-t2000000-id13-fpop-107_90\n"
     ]
    },
    {
     "name": "stderr",
     "output_type": "stream",
     "text": [
      "  8%|▊         | 7/89 [00:06<01:14,  1.10it/s]"
     ]
    },
    {
     "name": "stdout",
     "output_type": "stream",
     "text": [
      "===> Integrating for model_output/2021-02-19/U-r3-t479700-id0-fpop-107_90"
     ]
    },
    {
     "name": "stderr",
     "output_type": "stream",
     "text": [
      " 16%|█▌        | 14/89 [00:12<01:08,  1.09it/s]"
     ]
    },
    {
     "name": "stdout",
     "output_type": "stream",
     "text": [
      "\n"
     ]
    },
    {
     "name": "stderr",
     "output_type": "stream",
     "text": [
      "100%|██████████| 89/89 [01:29<00:00,  1.01s/it]\n",
      "100%|██████████| 89/89 [01:29<00:00,  1.01s/it]\n",
      "100%|██████████| 89/89 [01:29<00:00,  1.01s/it]\n",
      "100%|██████████| 89/89 [01:29<00:00,  1.01s/it]\n",
      "100%|██████████| 89/89 [01:29<00:00,  1.01s/it]\n",
      "100%|██████████| 89/89 [01:30<00:00,  1.02s/it]\n",
      "100%|██████████| 89/89 [01:29<00:00,  1.01s/it]\n",
      "100%|██████████| 89/89 [01:29<00:00,  1.00s/it]\n",
      "100%|██████████| 89/89 [01:28<00:00,  1.00it/s]\n",
      "100%|██████████| 89/89 [01:29<00:00,  1.01s/it]\n",
      "100%|██████████| 89/89 [01:29<00:00,  1.01s/it]\n",
      "100%|██████████| 89/89 [01:29<00:00,  1.01s/it]\n",
      "100%|██████████| 89/89 [01:29<00:00,  1.01s/it]\n",
      "100%|██████████| 89/89 [01:29<00:00,  1.01s/it]\n",
      "100%|██████████| 89/89 [01:30<00:00,  1.02s/it]\n",
      "100%|██████████| 89/89 [01:30<00:00,  1.01s/it]\n"
     ]
    }
   ],
   "source": [
    "# Generate alternatives:\n",
    "import multiprocessing as mp\n",
    "pool = mp.Pool(mp.cpu_count())\n",
    "    \n",
    "all_sims = pool.starmap(generate_all_alternatives, [(scenario_name, scenario) for scenario_name, scenario in scenarios.items()])"
   ]
  },
  {
   "cell_type": "markdown",
   "metadata": {
    "execution": {
     "iopub.execute_input": "2021-02-01T17:53:52.320543Z",
     "iopub.status.busy": "2021-02-01T17:53:52.320317Z",
     "iopub.status.idle": "2021-02-01T17:53:52.323514Z",
     "shell.execute_reply": "2021-02-01T17:53:52.322898Z",
     "shell.execute_reply.started": "2021-02-01T17:53:52.320517Z"
    }
   },
   "source": [
    "# Generate the averted cases for all posterior draws"
   ]
  },
  {
   "cell_type": "code",
   "execution_count": 8,
   "metadata": {
    "execution": {
     "iopub.execute_input": "2021-02-22T10:03:03.384648Z",
     "iopub.status.busy": "2021-02-22T10:03:03.384209Z",
     "iopub.status.idle": "2021-02-22T10:03:12.903673Z",
     "shell.execute_reply": "2021-02-22T10:03:12.902924Z",
     "shell.execute_reply.started": "2021-02-22T10:03:03.384612Z"
    }
   },
   "outputs": [],
   "source": [
    "import matlab.engine\n",
    "\n",
    "eng = matlab.engine.start_matlab()\n",
    "eng.cd('matlab/check-strats/', nargout=0)\n",
    "\n",
    "eng.workspace['timesV'] = matlab.double(np.arange(738167, 738167+ndays).tolist()) # THIS IS FOR JANUARY 11th"
   ]
  },
  {
   "cell_type": "code",
   "execution_count": null,
   "metadata": {},
   "outputs": [],
   "source": []
  },
  {
   "cell_type": "code",
   "execution_count": 11,
   "metadata": {
    "execution": {
     "iopub.execute_input": "2021-02-22T10:07:05.830625Z",
     "iopub.status.busy": "2021-02-22T10:07:05.830431Z",
     "iopub.status.idle": "2021-02-22T11:19:36.551507Z",
     "shell.execute_reply": "2021-02-22T11:19:36.550577Z",
     "shell.execute_reply.started": "2021-02-22T10:07:05.830603Z"
    },
    "scrolled": true
   },
   "outputs": [
    {
     "name": "stdout",
     "output_type": "stream",
     "text": [
      "Doing model_output/2021-02-19/U-r3-t479700-id0-opi-107_90.csv\n",
      "Doing model_output/2021-02-19/L-r3-t479700-id1-opi-107_90.csv\n",
      "Doing model_output/2021-02-19/U-r15-t125000-id2-opi-107_90.csv\n",
      "Doing model_output/2021-02-19/L-r15-t125000-id3-opi-107_90.csv\n",
      "Doing model_output/2021-02-19/U-r15-t250000-id4-opi-107_90.csv\n",
      "Doing model_output/2021-02-19/L-r15-t250000-id5-opi-107_90.csv\n",
      "Doing model_output/2021-02-19/U-r15-t479700-id6-opi-107_90.csv\n",
      "Doing model_output/2021-02-19/L-r15-t479700-id7-opi-107_90.csv\n",
      "Doing model_output/2021-02-19/U-r15-t1000000-id8-opi-107_90.csv\n",
      "Doing model_output/2021-02-19/L-r15-t1000000-id9-opi-107_90.csv\n",
      "Doing model_output/2021-02-19/U-r15-t1500000-id10-opi-107_90.csv\n",
      "Doing model_output/2021-02-19/L-r15-t1500000-id11-opi-107_90.csv\n",
      "Doing model_output/2021-02-19/U-r15-t2000000-id12-opi-107_90.csv\n",
      "Doing model_output/2021-02-19/L-r15-t2000000-id13-opi-107_90.csv\n",
      "Doing model_output/2021-02-19/U-r150-t479700-id14-opi-107_90.csv\n",
      "Doing model_output/2021-02-19/L-r150-t479700-id15-opi-107_90.csv\n",
      "Doing model_output/2021-02-19/U-r3-t479700-id0-finc-107_90.csv\n",
      "Doing model_output/2021-02-19/L-r3-t479700-id1-finc-107_90.csv\n",
      "Doing model_output/2021-02-19/U-r15-t125000-id2-finc-107_90.csv\n",
      "Doing model_output/2021-02-19/L-r15-t125000-id3-finc-107_90.csv\n",
      "Doing model_output/2021-02-19/U-r15-t250000-id4-finc-107_90.csv\n",
      "Doing model_output/2021-02-19/L-r15-t250000-id5-finc-107_90.csv\n",
      "Doing model_output/2021-02-19/U-r15-t479700-id6-finc-107_90.csv\n",
      "Doing model_output/2021-02-19/L-r15-t479700-id7-finc-107_90.csv\n",
      "Doing model_output/2021-02-19/U-r15-t1000000-id8-finc-107_90.csv\n",
      "Doing model_output/2021-02-19/L-r15-t1000000-id9-finc-107_90.csv\n",
      "Doing model_output/2021-02-19/U-r15-t1500000-id10-finc-107_90.csv\n",
      "Doing model_output/2021-02-19/L-r15-t1500000-id11-finc-107_90.csv\n",
      "Doing model_output/2021-02-19/U-r15-t2000000-id12-finc-107_90.csv\n",
      "Doing model_output/2021-02-19/L-r15-t2000000-id13-finc-107_90.csv\n",
      "Doing model_output/2021-02-19/U-r150-t479700-id14-finc-107_90.csv\n",
      "Doing model_output/2021-02-19/L-r150-t479700-id15-finc-107_90.csv\n",
      "Doing model_output/2021-02-19/U-r3-t479700-id0-pinc-107_90.csv\n",
      "Doing model_output/2021-02-19/L-r3-t479700-id1-pinc-107_90.csv\n",
      "Doing model_output/2021-02-19/U-r15-t125000-id2-pinc-107_90.csv\n",
      "Doing model_output/2021-02-19/L-r15-t125000-id3-pinc-107_90.csv\n",
      "Doing model_output/2021-02-19/U-r15-t250000-id4-pinc-107_90.csv\n",
      "Doing model_output/2021-02-19/L-r15-t250000-id5-pinc-107_90.csv\n",
      "Doing model_output/2021-02-19/U-r15-t479700-id6-pinc-107_90.csv\n",
      "Doing model_output/2021-02-19/L-r15-t479700-id7-pinc-107_90.csv\n",
      "Doing model_output/2021-02-19/U-r15-t1000000-id8-pinc-107_90.csv\n",
      "Doing model_output/2021-02-19/L-r15-t1000000-id9-pinc-107_90.csv\n",
      "Doing model_output/2021-02-19/U-r15-t1500000-id10-pinc-107_90.csv\n",
      "Doing model_output/2021-02-19/L-r15-t1500000-id11-pinc-107_90.csv\n",
      "Doing model_output/2021-02-19/U-r15-t2000000-id12-pinc-107_90.csv\n",
      "Doing model_output/2021-02-19/L-r15-t2000000-id13-pinc-107_90.csv\n",
      "Doing model_output/2021-02-19/U-r150-t479700-id14-pinc-107_90.csv\n",
      "Doing model_output/2021-02-19/L-r150-t479700-id15-pinc-107_90.csv\n",
      "Doing model_output/2021-02-19/U-r3-t479700-id0-fsus-107_90.csv\n",
      "Doing model_output/2021-02-19/L-r3-t479700-id1-fsus-107_90.csv\n",
      "Doing model_output/2021-02-19/U-r15-t125000-id2-fsus-107_90.csv\n",
      "Doing model_output/2021-02-19/L-r15-t125000-id3-fsus-107_90.csv\n",
      "Doing model_output/2021-02-19/U-r15-t250000-id4-fsus-107_90.csv\n",
      "Doing model_output/2021-02-19/L-r15-t250000-id5-fsus-107_90.csv\n",
      "Doing model_output/2021-02-19/U-r15-t479700-id6-fsus-107_90.csv\n",
      "Doing model_output/2021-02-19/L-r15-t479700-id7-fsus-107_90.csv\n",
      "Doing model_output/2021-02-19/U-r15-t1000000-id8-fsus-107_90.csv\n",
      "Doing model_output/2021-02-19/L-r15-t1000000-id9-fsus-107_90.csv\n",
      "Doing model_output/2021-02-19/U-r15-t1500000-id10-fsus-107_90.csv\n",
      "Doing model_output/2021-02-19/L-r15-t1500000-id11-fsus-107_90.csv\n",
      "Doing model_output/2021-02-19/U-r15-t2000000-id12-fsus-107_90.csv\n",
      "Doing model_output/2021-02-19/L-r15-t2000000-id13-fsus-107_90.csv\n",
      "Doing model_output/2021-02-19/U-r150-t479700-id14-fsus-107_90.csv\n",
      "Doing model_output/2021-02-19/L-r150-t479700-id15-fsus-107_90.csv\n",
      "Doing model_output/2021-02-19/U-r3-t479700-id0-psus-107_90.csv\n",
      "Doing model_output/2021-02-19/L-r3-t479700-id1-psus-107_90.csv\n",
      "Doing model_output/2021-02-19/U-r15-t125000-id2-psus-107_90.csv\n",
      "Doing model_output/2021-02-19/L-r15-t125000-id3-psus-107_90.csv\n",
      "Doing model_output/2021-02-19/U-r15-t250000-id4-psus-107_90.csv\n",
      "Doing model_output/2021-02-19/L-r15-t250000-id5-psus-107_90.csv\n",
      "Doing model_output/2021-02-19/U-r15-t479700-id6-psus-107_90.csv\n",
      "Doing model_output/2021-02-19/L-r15-t479700-id7-psus-107_90.csv\n",
      "Doing model_output/2021-02-19/U-r15-t1000000-id8-psus-107_90.csv\n",
      "Doing model_output/2021-02-19/L-r15-t1000000-id9-psus-107_90.csv\n",
      "Doing model_output/2021-02-19/U-r15-t1500000-id10-psus-107_90.csv\n",
      "Doing model_output/2021-02-19/L-r15-t1500000-id11-psus-107_90.csv\n",
      "Doing model_output/2021-02-19/U-r15-t2000000-id12-psus-107_90.csv\n",
      "Doing model_output/2021-02-19/L-r15-t2000000-id13-psus-107_90.csv\n",
      "Doing model_output/2021-02-19/U-r150-t479700-id14-psus-107_90.csv\n",
      "Doing model_output/2021-02-19/L-r150-t479700-id15-psus-107_90.csv\n",
      "Doing model_output/2021-02-19/U-r3-t479700-id0-fincpp-107_90.csv\n",
      "Doing model_output/2021-02-19/L-r3-t479700-id1-fincpp-107_90.csv\n",
      "Doing model_output/2021-02-19/U-r15-t125000-id2-fincpp-107_90.csv\n",
      "Doing model_output/2021-02-19/L-r15-t125000-id3-fincpp-107_90.csv\n",
      "Doing model_output/2021-02-19/U-r15-t250000-id4-fincpp-107_90.csv\n",
      "Doing model_output/2021-02-19/L-r15-t250000-id5-fincpp-107_90.csv\n",
      "Doing model_output/2021-02-19/U-r15-t479700-id6-fincpp-107_90.csv\n",
      "Doing model_output/2021-02-19/L-r15-t479700-id7-fincpp-107_90.csv\n",
      "Doing model_output/2021-02-19/U-r15-t1000000-id8-fincpp-107_90.csv\n",
      "Doing model_output/2021-02-19/L-r15-t1000000-id9-fincpp-107_90.csv\n",
      "Doing model_output/2021-02-19/U-r15-t1500000-id10-fincpp-107_90.csv\n",
      "Doing model_output/2021-02-19/L-r15-t1500000-id11-fincpp-107_90.csv\n",
      "Doing model_output/2021-02-19/U-r15-t2000000-id12-fincpp-107_90.csv\n",
      "Doing model_output/2021-02-19/L-r15-t2000000-id13-fincpp-107_90.csv\n",
      "Doing model_output/2021-02-19/U-r150-t479700-id14-fincpp-107_90.csv\n",
      "Doing model_output/2021-02-19/L-r150-t479700-id15-fincpp-107_90.csv\n",
      "Doing model_output/2021-02-19/U-r3-t479700-id0-pincpp-107_90.csv\n",
      "Doing model_output/2021-02-19/L-r3-t479700-id1-pincpp-107_90.csv\n",
      "Doing model_output/2021-02-19/U-r15-t125000-id2-pincpp-107_90.csv\n",
      "Doing model_output/2021-02-19/L-r15-t125000-id3-pincpp-107_90.csv\n",
      "Doing model_output/2021-02-19/U-r15-t250000-id4-pincpp-107_90.csv\n",
      "Doing model_output/2021-02-19/L-r15-t250000-id5-pincpp-107_90.csv\n",
      "Doing model_output/2021-02-19/U-r15-t479700-id6-pincpp-107_90.csv\n",
      "Doing model_output/2021-02-19/L-r15-t479700-id7-pincpp-107_90.csv\n",
      "Doing model_output/2021-02-19/U-r15-t1000000-id8-pincpp-107_90.csv\n",
      "Doing model_output/2021-02-19/L-r15-t1000000-id9-pincpp-107_90.csv\n",
      "Doing model_output/2021-02-19/U-r15-t1500000-id10-pincpp-107_90.csv\n",
      "Doing model_output/2021-02-19/L-r15-t1500000-id11-pincpp-107_90.csv\n",
      "Doing model_output/2021-02-19/U-r15-t2000000-id12-pincpp-107_90.csv\n",
      "Doing model_output/2021-02-19/L-r15-t2000000-id13-pincpp-107_90.csv\n",
      "Doing model_output/2021-02-19/U-r150-t479700-id14-pincpp-107_90.csv\n",
      "Doing model_output/2021-02-19/L-r150-t479700-id15-pincpp-107_90.csv\n",
      "Doing model_output/2021-02-19/U-r3-t479700-id0-fsuspp-107_90.csv\n",
      "Doing model_output/2021-02-19/L-r3-t479700-id1-fsuspp-107_90.csv\n",
      "Doing model_output/2021-02-19/U-r15-t125000-id2-fsuspp-107_90.csv\n",
      "Doing model_output/2021-02-19/L-r15-t125000-id3-fsuspp-107_90.csv\n",
      "Doing model_output/2021-02-19/U-r15-t250000-id4-fsuspp-107_90.csv\n",
      "Doing model_output/2021-02-19/L-r15-t250000-id5-fsuspp-107_90.csv\n",
      "Doing model_output/2021-02-19/U-r15-t479700-id6-fsuspp-107_90.csv\n",
      "Doing model_output/2021-02-19/L-r15-t479700-id7-fsuspp-107_90.csv\n",
      "Doing model_output/2021-02-19/U-r15-t1000000-id8-fsuspp-107_90.csv\n",
      "Doing model_output/2021-02-19/L-r15-t1000000-id9-fsuspp-107_90.csv\n",
      "Doing model_output/2021-02-19/U-r15-t1500000-id10-fsuspp-107_90.csv\n",
      "Doing model_output/2021-02-19/L-r15-t1500000-id11-fsuspp-107_90.csv\n",
      "Doing model_output/2021-02-19/U-r15-t2000000-id12-fsuspp-107_90.csv\n",
      "Doing model_output/2021-02-19/L-r15-t2000000-id13-fsuspp-107_90.csv\n",
      "Doing model_output/2021-02-19/U-r150-t479700-id14-fsuspp-107_90.csv\n",
      "Doing model_output/2021-02-19/L-r150-t479700-id15-fsuspp-107_90.csv\n",
      "Doing model_output/2021-02-19/U-r3-t479700-id0-psuspp-107_90.csv\n",
      "Doing model_output/2021-02-19/L-r3-t479700-id1-psuspp-107_90.csv\n",
      "Doing model_output/2021-02-19/U-r15-t125000-id2-psuspp-107_90.csv\n",
      "Doing model_output/2021-02-19/L-r15-t125000-id3-psuspp-107_90.csv\n",
      "Doing model_output/2021-02-19/U-r15-t250000-id4-psuspp-107_90.csv\n",
      "Doing model_output/2021-02-19/L-r15-t250000-id5-psuspp-107_90.csv\n",
      "Doing model_output/2021-02-19/U-r15-t479700-id6-psuspp-107_90.csv\n",
      "Doing model_output/2021-02-19/L-r15-t479700-id7-psuspp-107_90.csv\n",
      "Doing model_output/2021-02-19/U-r15-t1000000-id8-psuspp-107_90.csv\n",
      "Doing model_output/2021-02-19/L-r15-t1000000-id9-psuspp-107_90.csv\n",
      "Doing model_output/2021-02-19/U-r15-t1500000-id10-psuspp-107_90.csv\n",
      "Doing model_output/2021-02-19/L-r15-t1500000-id11-psuspp-107_90.csv\n",
      "Doing model_output/2021-02-19/U-r15-t2000000-id12-psuspp-107_90.csv\n",
      "Doing model_output/2021-02-19/L-r15-t2000000-id13-psuspp-107_90.csv\n",
      "Doing model_output/2021-02-19/U-r150-t479700-id14-psuspp-107_90.csv\n",
      "Doing model_output/2021-02-19/L-r150-t479700-id15-psuspp-107_90.csv\n",
      "Doing model_output/2021-02-19/U-r3-t479700-id0-ppop-107_90.csv\n",
      "Doing model_output/2021-02-19/L-r3-t479700-id1-ppop-107_90.csv\n",
      "Doing model_output/2021-02-19/U-r15-t125000-id2-ppop-107_90.csv\n",
      "Doing model_output/2021-02-19/L-r15-t125000-id3-ppop-107_90.csv\n",
      "Doing model_output/2021-02-19/U-r15-t250000-id4-ppop-107_90.csv\n",
      "Doing model_output/2021-02-19/L-r15-t250000-id5-ppop-107_90.csv\n",
      "Doing model_output/2021-02-19/U-r15-t479700-id6-ppop-107_90.csv\n",
      "Doing model_output/2021-02-19/L-r15-t479700-id7-ppop-107_90.csv\n",
      "Doing model_output/2021-02-19/U-r15-t1000000-id8-ppop-107_90.csv\n",
      "Doing model_output/2021-02-19/L-r15-t1000000-id9-ppop-107_90.csv\n",
      "Doing model_output/2021-02-19/U-r15-t1500000-id10-ppop-107_90.csv\n",
      "Doing model_output/2021-02-19/L-r15-t1500000-id11-ppop-107_90.csv\n",
      "Doing model_output/2021-02-19/U-r15-t2000000-id12-ppop-107_90.csv\n",
      "Doing model_output/2021-02-19/L-r15-t2000000-id13-ppop-107_90.csv\n",
      "Doing model_output/2021-02-19/U-r150-t479700-id14-ppop-107_90.csv\n",
      "Doing model_output/2021-02-19/L-r150-t479700-id15-ppop-107_90.csv\n",
      "Doing model_output/2021-02-19/U-r3-t479700-id0-fpop-107_90.csv\n",
      "Doing model_output/2021-02-19/L-r3-t479700-id1-fpop-107_90.csv\n",
      "Doing model_output/2021-02-19/U-r15-t125000-id2-fpop-107_90.csv\n",
      "Doing model_output/2021-02-19/L-r15-t125000-id3-fpop-107_90.csv\n",
      "Doing model_output/2021-02-19/U-r15-t250000-id4-fpop-107_90.csv\n",
      "Doing model_output/2021-02-19/L-r15-t250000-id5-fpop-107_90.csv\n",
      "Doing model_output/2021-02-19/U-r15-t479700-id6-fpop-107_90.csv\n",
      "Doing model_output/2021-02-19/L-r15-t479700-id7-fpop-107_90.csv\n",
      "Doing model_output/2021-02-19/U-r15-t1000000-id8-fpop-107_90.csv\n",
      "Doing model_output/2021-02-19/L-r15-t1000000-id9-fpop-107_90.csv\n",
      "Doing model_output/2021-02-19/U-r15-t1500000-id10-fpop-107_90.csv\n",
      "Doing model_output/2021-02-19/L-r15-t1500000-id11-fpop-107_90.csv\n",
      "Doing model_output/2021-02-19/U-r15-t2000000-id12-fpop-107_90.csv\n",
      "Doing model_output/2021-02-19/L-r15-t2000000-id13-fpop-107_90.csv\n",
      "Doing model_output/2021-02-19/U-r150-t479700-id14-fpop-107_90.csv\n",
      "Doing model_output/2021-02-19/L-r150-t479700-id15-fpop-107_90.csv\n"
     ]
    }
   ],
   "source": [
    "scn_results = pd.DataFrame(columns=['newdoseperweek', 'method', 'infected'])\n",
    "methods = ['opi', 'finc', 'pinc', 'fsus', 'psus','fincpp', 'pincpp', 'fsuspp', 'psuspp', 'ppop', 'fpop'] # 'opt'\n",
    "\n",
    "for met in methods:\n",
    "    for scenario_name, scenario in scenarios.items():\n",
    "        filename = f'{generated_dir}/{scenario_name}-{met}-{nnodes}_{ndays}.csv'\n",
    "        if os.path.isfile(filename):\n",
    "            print(f'Doing {filename}')\n",
    "            maxvaccrate_regional, stockpile_national, stockpile_national_constraint, control_initial = build_scenario(setup, scenario)\n",
    "            p.apply_epicourse(setup, scenario['beta_mult'])\n",
    "            \n",
    "            md = pd.read_csv(filename, index_col= 'date', parse_dates=True)\n",
    "            \n",
    "            dosesV = md[md['comp'] == 'vacc'].pivot(columns='placeID', values='value').to_numpy()\n",
    "\n",
    "            eng.workspace['Vdoses'] = matlab.double(dosesV.tolist())\n",
    "            eng.workspace['beta_ratio'] = matlab.double(scenario['beta_mult'][0].tolist())\n",
    "            eng.run('main_script.m', nargout=0)\n",
    "            ens_exposed = np.array(eng.eval('ens_exposed_preprocess')).flatten()\n",
    "        \n",
    "            scn_results = pd.concat([scn_results, pd.DataFrame.from_dict({'newdoseperweek':[int(scenario_name.split('-')[2][1:])]*len(ens_exposed),\n",
    "                                                                           'method': [met]*len(ens_exposed),\n",
    "                                                                           'infected':ens_exposed.tolist(),\n",
    "                                                                           'post_sample':np.arange(len(ens_exposed)),\n",
    "                                                                           'doses': [dosesV.sum()]*len(ens_exposed),\n",
    "                                                                           'scenario-beta': [scenario_name.split('-')[0]]*len(ens_exposed),\n",
    "                                                                           'scenario-rate': [scenario_name.split('-')[1]]*len(ens_exposed),\n",
    "                                                                           'scenario-tot': [scenario_name.split('-')[2]]*len(ens_exposed),\n",
    "                                                                           'scenario': [scenario_name]*len(ens_exposed)\n",
    "                                                                         })])\n",
    "        else:\n",
    "            print(f'not found {scenario_name}')"
   ]
  },
  {
   "cell_type": "code",
   "execution_count": 12,
   "metadata": {
    "execution": {
     "iopub.execute_input": "2021-02-22T11:19:57.304300Z",
     "iopub.status.busy": "2021-02-22T11:19:57.304067Z",
     "iopub.status.idle": "2021-02-22T11:20:38.832123Z",
     "shell.execute_reply": "2021-02-22T11:20:38.831098Z",
     "shell.execute_reply.started": "2021-02-22T11:19:57.304273Z"
    }
   },
   "outputs": [
    {
     "name": "stdout",
     "output_type": "stream",
     "text": [
      "U-r3-t479700-id0\n",
      "L-r3-t479700-id1\n"
     ]
    }
   ],
   "source": [
    "scenarios_baseline = {}\n",
    "for scenario_name, scenario in scenarios.items():\n",
    "    if scenario_name.split('-')[0] not in scenarios_baseline:\n",
    "        print(scenario_name)\n",
    "\n",
    "        maxvaccrate_regional, stockpile_national, stockpile_national_constraint, control_initial = build_scenario(setup, scenario)\n",
    "        \n",
    "        p.apply_epicourse(setup, scenario['beta_mult'])\n",
    "\n",
    "        dosesV = np.zeros_like(dosesV)\n",
    "\n",
    "        eng.workspace['Vdoses'] = matlab.double(dosesV.tolist())\n",
    "        eng.workspace['beta_ratio'] = matlab.double(scenario['beta_mult'][0].tolist())\n",
    "        eng.run('main_script.m', nargout=0)\n",
    "        ens_exposed = np.array(eng.eval('ens_exposed_preprocess')).flatten()\n",
    "        \n",
    "        scenarios_baseline[scenario_name.split('-')[0]] = ens_exposed\n",
    "        "
   ]
  },
  {
   "cell_type": "code",
   "execution_count": 13,
   "metadata": {
    "execution": {
     "iopub.execute_input": "2021-02-22T11:20:38.834165Z",
     "iopub.status.busy": "2021-02-22T11:20:38.833845Z",
     "iopub.status.idle": "2021-02-22T11:20:38.861282Z",
     "shell.execute_reply": "2021-02-22T11:20:38.860471Z",
     "shell.execute_reply.started": "2021-02-22T11:20:38.834075Z"
    }
   },
   "outputs": [
    {
     "data": {
      "text/html": [
       "<div>\n",
       "<style scoped>\n",
       "    .dataframe tbody tr th:only-of-type {\n",
       "        vertical-align: middle;\n",
       "    }\n",
       "\n",
       "    .dataframe tbody tr th {\n",
       "        vertical-align: top;\n",
       "    }\n",
       "\n",
       "    .dataframe thead th {\n",
       "        text-align: right;\n",
       "    }\n",
       "</style>\n",
       "<table border=\"1\" class=\"dataframe\">\n",
       "  <thead>\n",
       "    <tr style=\"text-align: right;\">\n",
       "      <th></th>\n",
       "      <th>newdoseperweek</th>\n",
       "      <th>method</th>\n",
       "      <th>infected</th>\n",
       "      <th>post_sample</th>\n",
       "      <th>doses</th>\n",
       "      <th>scenario-beta</th>\n",
       "      <th>scenario-rate</th>\n",
       "      <th>scenario-tot</th>\n",
       "      <th>scenario</th>\n",
       "    </tr>\n",
       "  </thead>\n",
       "  <tbody>\n",
       "    <tr>\n",
       "      <th>0</th>\n",
       "      <td>479700</td>\n",
       "      <td>opi</td>\n",
       "      <td>2.698752e+08</td>\n",
       "      <td>0.0</td>\n",
       "      <td>6.318990e+06</td>\n",
       "      <td>U</td>\n",
       "      <td>r3</td>\n",
       "      <td>t479700</td>\n",
       "      <td>U-r3-t479700-id0</td>\n",
       "    </tr>\n",
       "    <tr>\n",
       "      <th>1</th>\n",
       "      <td>479700</td>\n",
       "      <td>opi</td>\n",
       "      <td>2.622298e+08</td>\n",
       "      <td>1.0</td>\n",
       "      <td>6.318990e+06</td>\n",
       "      <td>U</td>\n",
       "      <td>r3</td>\n",
       "      <td>t479700</td>\n",
       "      <td>U-r3-t479700-id0</td>\n",
       "    </tr>\n",
       "    <tr>\n",
       "      <th>2</th>\n",
       "      <td>479700</td>\n",
       "      <td>opi</td>\n",
       "      <td>2.501296e+08</td>\n",
       "      <td>2.0</td>\n",
       "      <td>6.318990e+06</td>\n",
       "      <td>U</td>\n",
       "      <td>r3</td>\n",
       "      <td>t479700</td>\n",
       "      <td>U-r3-t479700-id0</td>\n",
       "    </tr>\n",
       "    <tr>\n",
       "      <th>3</th>\n",
       "      <td>479700</td>\n",
       "      <td>opi</td>\n",
       "      <td>2.545047e+08</td>\n",
       "      <td>3.0</td>\n",
       "      <td>6.318990e+06</td>\n",
       "      <td>U</td>\n",
       "      <td>r3</td>\n",
       "      <td>t479700</td>\n",
       "      <td>U-r3-t479700-id0</td>\n",
       "    </tr>\n",
       "    <tr>\n",
       "      <th>4</th>\n",
       "      <td>479700</td>\n",
       "      <td>opi</td>\n",
       "      <td>2.422173e+08</td>\n",
       "      <td>4.0</td>\n",
       "      <td>6.318990e+06</td>\n",
       "      <td>U</td>\n",
       "      <td>r3</td>\n",
       "      <td>t479700</td>\n",
       "      <td>U-r3-t479700-id0</td>\n",
       "    </tr>\n",
       "    <tr>\n",
       "      <th>...</th>\n",
       "      <td>...</td>\n",
       "      <td>...</td>\n",
       "      <td>...</td>\n",
       "      <td>...</td>\n",
       "      <td>...</td>\n",
       "      <td>...</td>\n",
       "      <td>...</td>\n",
       "      <td>...</td>\n",
       "      <td>...</td>\n",
       "    </tr>\n",
       "    <tr>\n",
       "      <th>97</th>\n",
       "      <td>479700</td>\n",
       "      <td>fpop</td>\n",
       "      <td>8.559696e+07</td>\n",
       "      <td>97.0</td>\n",
       "      <td>6.236100e+06</td>\n",
       "      <td>L</td>\n",
       "      <td>r150</td>\n",
       "      <td>t479700</td>\n",
       "      <td>L-r150-t479700-id15</td>\n",
       "    </tr>\n",
       "    <tr>\n",
       "      <th>98</th>\n",
       "      <td>479700</td>\n",
       "      <td>fpop</td>\n",
       "      <td>8.998865e+07</td>\n",
       "      <td>98.0</td>\n",
       "      <td>6.236100e+06</td>\n",
       "      <td>L</td>\n",
       "      <td>r150</td>\n",
       "      <td>t479700</td>\n",
       "      <td>L-r150-t479700-id15</td>\n",
       "    </tr>\n",
       "    <tr>\n",
       "      <th>99</th>\n",
       "      <td>479700</td>\n",
       "      <td>fpop</td>\n",
       "      <td>9.195135e+07</td>\n",
       "      <td>99.0</td>\n",
       "      <td>6.236100e+06</td>\n",
       "      <td>L</td>\n",
       "      <td>r150</td>\n",
       "      <td>t479700</td>\n",
       "      <td>L-r150-t479700-id15</td>\n",
       "    </tr>\n",
       "    <tr>\n",
       "      <th>100</th>\n",
       "      <td>479700</td>\n",
       "      <td>fpop</td>\n",
       "      <td>8.636084e+07</td>\n",
       "      <td>100.0</td>\n",
       "      <td>6.236100e+06</td>\n",
       "      <td>L</td>\n",
       "      <td>r150</td>\n",
       "      <td>t479700</td>\n",
       "      <td>L-r150-t479700-id15</td>\n",
       "    </tr>\n",
       "    <tr>\n",
       "      <th>101</th>\n",
       "      <td>479700</td>\n",
       "      <td>fpop</td>\n",
       "      <td>8.633934e+07</td>\n",
       "      <td>101.0</td>\n",
       "      <td>6.236100e+06</td>\n",
       "      <td>L</td>\n",
       "      <td>r150</td>\n",
       "      <td>t479700</td>\n",
       "      <td>L-r150-t479700-id15</td>\n",
       "    </tr>\n",
       "  </tbody>\n",
       "</table>\n",
       "<p>17952 rows × 9 columns</p>\n",
       "</div>"
      ],
      "text/plain": [
       "    newdoseperweek method      infected  post_sample         doses  \\\n",
       "0           479700    opi  2.698752e+08          0.0  6.318990e+06   \n",
       "1           479700    opi  2.622298e+08          1.0  6.318990e+06   \n",
       "2           479700    opi  2.501296e+08          2.0  6.318990e+06   \n",
       "3           479700    opi  2.545047e+08          3.0  6.318990e+06   \n",
       "4           479700    opi  2.422173e+08          4.0  6.318990e+06   \n",
       "..             ...    ...           ...          ...           ...   \n",
       "97          479700   fpop  8.559696e+07         97.0  6.236100e+06   \n",
       "98          479700   fpop  8.998865e+07         98.0  6.236100e+06   \n",
       "99          479700   fpop  9.195135e+07         99.0  6.236100e+06   \n",
       "100         479700   fpop  8.636084e+07        100.0  6.236100e+06   \n",
       "101         479700   fpop  8.633934e+07        101.0  6.236100e+06   \n",
       "\n",
       "    scenario-beta scenario-rate scenario-tot             scenario  \n",
       "0               U            r3      t479700     U-r3-t479700-id0  \n",
       "1               U            r3      t479700     U-r3-t479700-id0  \n",
       "2               U            r3      t479700     U-r3-t479700-id0  \n",
       "3               U            r3      t479700     U-r3-t479700-id0  \n",
       "4               U            r3      t479700     U-r3-t479700-id0  \n",
       "..            ...           ...          ...                  ...  \n",
       "97              L          r150      t479700  L-r150-t479700-id15  \n",
       "98              L          r150      t479700  L-r150-t479700-id15  \n",
       "99              L          r150      t479700  L-r150-t479700-id15  \n",
       "100             L          r150      t479700  L-r150-t479700-id15  \n",
       "101             L          r150      t479700  L-r150-t479700-id15  \n",
       "\n",
       "[17952 rows x 9 columns]"
      ]
     },
     "execution_count": 13,
     "metadata": {},
     "output_type": "execute_result"
    }
   ],
   "source": [
    "scn_results"
   ]
  },
  {
   "cell_type": "code",
   "execution_count": 14,
   "metadata": {
    "execution": {
     "iopub.execute_input": "2021-02-22T11:20:43.244723Z",
     "iopub.status.busy": "2021-02-22T11:20:43.244485Z",
     "iopub.status.idle": "2021-02-22T11:20:43.252005Z",
     "shell.execute_reply": "2021-02-22T11:20:43.251285Z",
     "shell.execute_reply.started": "2021-02-22T11:20:43.244695Z"
    }
   },
   "outputs": [],
   "source": [
    "nbtileU = int(len(scn_results.loc[scn_results['scenario-beta'] == 'U', 'scenario-tot'])/len(scenarios_baseline['U']))\n",
    "nbtileL = int(len(scn_results.loc[scn_results['scenario-beta'] == 'L', 'scenario-tot'])/len(scenarios_baseline['L']))"
   ]
  },
  {
   "cell_type": "code",
   "execution_count": 15,
   "metadata": {
    "execution": {
     "iopub.execute_input": "2021-02-22T11:20:44.498485Z",
     "iopub.status.busy": "2021-02-22T11:20:44.498221Z",
     "iopub.status.idle": "2021-02-22T11:20:44.509281Z",
     "shell.execute_reply": "2021-02-22T11:20:44.508545Z",
     "shell.execute_reply.started": "2021-02-22T11:20:44.498456Z"
    }
   },
   "outputs": [],
   "source": [
    "scn_results['bl'] = 0\n",
    "\n",
    "scn_results.loc[scn_results['scenario-beta'] == 'U', 'bl'] = np.tile(scenarios_baseline['U'],nbtileU)\n",
    "scn_results.loc[scn_results['scenario-beta'] == 'L', 'bl'] = np.tile(scenarios_baseline['L'],nbtileL)"
   ]
  },
  {
   "cell_type": "code",
   "execution_count": 16,
   "metadata": {
    "execution": {
     "iopub.execute_input": "2021-02-22T11:20:46.227401Z",
     "iopub.status.busy": "2021-02-22T11:20:46.227194Z",
     "iopub.status.idle": "2021-02-22T11:20:46.231828Z",
     "shell.execute_reply": "2021-02-22T11:20:46.231232Z",
     "shell.execute_reply.started": "2021-02-22T11:20:46.227378Z"
    }
   },
   "outputs": [],
   "source": [
    "scn_results['averted'] = scn_results['bl'] - scn_results['infected']\n",
    "scn_results['avertedpervacc'] = scn_results['averted']/scn_results['doses']"
   ]
  },
  {
   "cell_type": "code",
   "execution_count": 17,
   "metadata": {
    "execution": {
     "iopub.execute_input": "2021-02-22T11:20:47.918320Z",
     "iopub.status.busy": "2021-02-22T11:20:47.918086Z",
     "iopub.status.idle": "2021-02-22T11:20:48.127829Z",
     "shell.execute_reply": "2021-02-22T11:20:48.127209Z",
     "shell.execute_reply.started": "2021-02-22T11:20:47.918293Z"
    }
   },
   "outputs": [],
   "source": [
    "scn_results.to_csv(f'{generated_dir}/all_summary.csv')"
   ]
  },
  {
   "cell_type": "code",
   "execution_count": 26,
   "metadata": {
    "execution": {
     "iopub.execute_input": "2021-02-18T16:27:54.418459Z",
     "iopub.status.busy": "2021-02-18T16:27:54.418228Z",
     "iopub.status.idle": "2021-02-18T16:27:54.423592Z",
     "shell.execute_reply": "2021-02-18T16:27:54.422775Z",
     "shell.execute_reply.started": "2021-02-18T16:27:54.418432Z"
    }
   },
   "outputs": [],
   "source": [
    "scenarios_specs = {\n",
    "'vaccpermonthM': [1.5, 15, 150],  # ax.set_ylim(0.05, 0.4)\n",
    "# 'vacctotalM': [2, 5, 10, 15, 20],\n",
    "'newdoseperweek': [125000, 250000, 479700, 1e6, 1.5e6, 2e6],\n",
    "'epicourse': ['U', 'L']  # 'U'\n",
    "}\n",
    "\n",
    "import itertools\n",
    "# Compute all permutatios\n",
    "keys, values = zip(*scenarios_specs.items())\n",
    "permuted_specs = [dict(zip(keys, v)) for v in itertools.product(*values)]"
   ]
  },
  {
   "cell_type": "code",
   "execution_count": 27,
   "metadata": {
    "execution": {
     "iopub.execute_input": "2021-02-18T16:27:57.970843Z",
     "iopub.status.busy": "2021-02-18T16:27:57.970676Z",
     "iopub.status.idle": "2021-02-18T16:27:57.980921Z",
     "shell.execute_reply": "2021-02-18T16:27:57.980233Z",
     "shell.execute_reply.started": "2021-02-18T16:27:57.970825Z"
    }
   },
   "outputs": [
    {
     "data": {
      "text/html": [
       "<div>\n",
       "<style scoped>\n",
       "    .dataframe tbody tr th:only-of-type {\n",
       "        vertical-align: middle;\n",
       "    }\n",
       "\n",
       "    .dataframe tbody tr th {\n",
       "        vertical-align: top;\n",
       "    }\n",
       "\n",
       "    .dataframe thead th {\n",
       "        text-align: right;\n",
       "    }\n",
       "</style>\n",
       "<table border=\"1\" class=\"dataframe\">\n",
       "  <thead>\n",
       "    <tr style=\"text-align: right;\">\n",
       "      <th></th>\n",
       "      <th>vaccpermonthM</th>\n",
       "      <th>newdoseperweek</th>\n",
       "      <th>epicourse</th>\n",
       "    </tr>\n",
       "  </thead>\n",
       "  <tbody>\n",
       "    <tr>\n",
       "      <th>0</th>\n",
       "      <td>1.5</td>\n",
       "      <td>479700.0</td>\n",
       "      <td>U</td>\n",
       "    </tr>\n",
       "    <tr>\n",
       "      <th>1</th>\n",
       "      <td>1.5</td>\n",
       "      <td>479700.0</td>\n",
       "      <td>L</td>\n",
       "    </tr>\n",
       "    <tr>\n",
       "      <th>2</th>\n",
       "      <td>15.0</td>\n",
       "      <td>125000.0</td>\n",
       "      <td>U</td>\n",
       "    </tr>\n",
       "    <tr>\n",
       "      <th>3</th>\n",
       "      <td>15.0</td>\n",
       "      <td>125000.0</td>\n",
       "      <td>L</td>\n",
       "    </tr>\n",
       "    <tr>\n",
       "      <th>4</th>\n",
       "      <td>15.0</td>\n",
       "      <td>250000.0</td>\n",
       "      <td>U</td>\n",
       "    </tr>\n",
       "    <tr>\n",
       "      <th>5</th>\n",
       "      <td>15.0</td>\n",
       "      <td>250000.0</td>\n",
       "      <td>L</td>\n",
       "    </tr>\n",
       "    <tr>\n",
       "      <th>6</th>\n",
       "      <td>15.0</td>\n",
       "      <td>479700.0</td>\n",
       "      <td>U</td>\n",
       "    </tr>\n",
       "    <tr>\n",
       "      <th>7</th>\n",
       "      <td>15.0</td>\n",
       "      <td>479700.0</td>\n",
       "      <td>L</td>\n",
       "    </tr>\n",
       "    <tr>\n",
       "      <th>8</th>\n",
       "      <td>15.0</td>\n",
       "      <td>1000000.0</td>\n",
       "      <td>U</td>\n",
       "    </tr>\n",
       "    <tr>\n",
       "      <th>9</th>\n",
       "      <td>15.0</td>\n",
       "      <td>1000000.0</td>\n",
       "      <td>L</td>\n",
       "    </tr>\n",
       "    <tr>\n",
       "      <th>10</th>\n",
       "      <td>15.0</td>\n",
       "      <td>1500000.0</td>\n",
       "      <td>U</td>\n",
       "    </tr>\n",
       "    <tr>\n",
       "      <th>11</th>\n",
       "      <td>15.0</td>\n",
       "      <td>1500000.0</td>\n",
       "      <td>L</td>\n",
       "    </tr>\n",
       "    <tr>\n",
       "      <th>12</th>\n",
       "      <td>15.0</td>\n",
       "      <td>2000000.0</td>\n",
       "      <td>U</td>\n",
       "    </tr>\n",
       "    <tr>\n",
       "      <th>13</th>\n",
       "      <td>15.0</td>\n",
       "      <td>2000000.0</td>\n",
       "      <td>L</td>\n",
       "    </tr>\n",
       "    <tr>\n",
       "      <th>14</th>\n",
       "      <td>150.0</td>\n",
       "      <td>479700.0</td>\n",
       "      <td>U</td>\n",
       "    </tr>\n",
       "    <tr>\n",
       "      <th>15</th>\n",
       "      <td>150.0</td>\n",
       "      <td>479700.0</td>\n",
       "      <td>L</td>\n",
       "    </tr>\n",
       "  </tbody>\n",
       "</table>\n",
       "</div>"
      ],
      "text/plain": [
       "    vaccpermonthM  newdoseperweek epicourse\n",
       "0             1.5        479700.0         U\n",
       "1             1.5        479700.0         L\n",
       "2            15.0        125000.0         U\n",
       "3            15.0        125000.0         L\n",
       "4            15.0        250000.0         U\n",
       "5            15.0        250000.0         L\n",
       "6            15.0        479700.0         U\n",
       "7            15.0        479700.0         L\n",
       "8            15.0       1000000.0         U\n",
       "9            15.0       1000000.0         L\n",
       "10           15.0       1500000.0         U\n",
       "11           15.0       1500000.0         L\n",
       "12           15.0       2000000.0         U\n",
       "13           15.0       2000000.0         L\n",
       "14          150.0        479700.0         U\n",
       "15          150.0        479700.0         L"
      ]
     },
     "execution_count": 27,
     "metadata": {},
     "output_type": "execute_result"
    }
   ],
   "source": [
    "specs = pd.DataFrame.from_dict(permuted_specs)\n",
    "specs = specs[((specs['vaccpermonthM'] == 15.0) | (specs['newdoseperweek'] == 479700.0))].reset_index(drop = True)\n",
    "specs"
   ]
  },
  {
   "cell_type": "code",
   "execution_count": 19,
   "metadata": {
    "execution": {
     "iopub.execute_input": "2021-02-12T17:34:28.232288Z",
     "iopub.status.busy": "2021-02-12T17:34:28.232067Z",
     "iopub.status.idle": "2021-02-12T17:34:28.238757Z",
     "shell.execute_reply": "2021-02-12T17:34:28.238066Z",
     "shell.execute_reply.started": "2021-02-12T17:34:28.232263Z"
    }
   },
   "outputs": [],
   "source": [
    "specs.to_csv('scenarios_specs_2021-02-12.csv')"
   ]
  }
 ],
 "metadata": {
  "kernelspec": {
   "display_name": "Python (ocp-covid)",
   "language": "python",
   "name": "ocp-covid"
  },
  "language_info": {
   "codemirror_mode": {
    "name": "ipython",
    "version": 3
   },
   "file_extension": ".py",
   "mimetype": "text/x-python",
   "name": "python",
   "nbconvert_exporter": "python",
   "pygments_lexer": "ipython3",
   "version": "3.7.9"
  }
 },
 "nbformat": 4,
 "nbformat_minor": 4
}
