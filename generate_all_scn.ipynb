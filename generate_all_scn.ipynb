{
 "cells": [
  {
   "cell_type": "markdown",
   "metadata": {
    "execution": {
     "iopub.execute_input": "2020-12-22T17:15:12.988706Z",
     "iopub.status.busy": "2020-12-22T17:15:12.988298Z",
     "iopub.status.idle": "2020-12-22T17:15:13.230048Z",
     "shell.execute_reply": "2020-12-22T17:15:13.228271Z",
     "shell.execute_reply.started": "2020-12-22T17:15:12.988665Z"
    }
   },
   "source": [
    "ens_exposed[0]# Comparison of scenarios\n",
    "\n",
    "1. re"
   ]
  },
  {
   "cell_type": "code",
   "execution_count": 3,
   "metadata": {
    "execution": {
     "iopub.execute_input": "2021-02-01T19:14:28.432918Z",
     "iopub.status.busy": "2021-02-01T19:14:28.432627Z",
     "iopub.status.idle": "2021-02-01T19:14:31.013494Z",
     "shell.execute_reply": "2021-02-01T19:14:31.013004Z",
     "shell.execute_reply.started": "2021-02-01T19:14:28.432883Z"
    }
   },
   "outputs": [
    {
     "name": "stdout",
     "output_type": "stream",
     "text": [
      "Loaded Italy Setup with 107 nodes.\n",
      "Loaded Italy Setup with 107 nodes.\n"
     ]
    },
    {
     "data": {
      "text/plain": [
       "dict_keys(['U-r15-t125000-id0', 'L-r15-t125000-id1', 'U-r300-t125000-id2', 'L-r300-t125000-id3', 'U-r15-t250000-id4', 'L-r15-t250000-id5', 'U-r300-t250000-id6', 'L-r300-t250000-id7', 'U-r15-t479700-id8', 'L-r15-t479700-id9', 'U-r300-t479700-id10', 'L-r300-t479700-id11', 'U-r15-t1000000-id12', 'L-r15-t1000000-id13', 'U-r300-t1000000-id14', 'L-r300-t1000000-id15'])"
      ]
     },
     "execution_count": 3,
     "metadata": {},
     "output_type": "execute_result"
    }
   ],
   "source": [
    "import copy\n",
    "import matplotlib as mpl\n",
    "import matplotlib.pyplot as plt\n",
    "import numpy as np\n",
    "import pandas as pd\n",
    "import networkx\n",
    "from ItalySetup import ItalySetup\n",
    "from covidOCP import COVIDVaccinationOCP, COVIDParametersOCP\n",
    "from main import pick_scenario, build_scenario\n",
    "import seaborn as sns\n",
    "import datetime\n",
    "import pickle\n",
    "import os\n",
    "\n",
    "nx = 9\n",
    "states_names = ['S', 'E', 'P', 'I', 'A', 'Q', 'H', 'R', 'V']\n",
    "when = 'future'\n",
    "file_prefix = f'week'\n",
    "outdir = 'helvetios-runs/2021-01-30-107_30/'\n",
    "\n",
    "generated_dir = 'model_output/scenarios_new_30'\n",
    "\n",
    "n_int_steps = 6\n",
    "nnodes = 107  # nodes\n",
    "ndays_ocp = 30\n",
    "ndays = 30\n",
    "\n",
    "setup = ItalySetup(nnodes, ndays, when)\n",
    "setup_ocp = ItalySetup(nnodes, ndays_ocp, when)\n",
    "M = setup.nnodes\n",
    "N = len(setup.model_days) - 1\n",
    "\n",
    "with open(f'italy-data/parameters_{nnodes}_{when}.pkl', 'rb') as inp:\n",
    "    p = pickle.load(inp)\n",
    "    \n",
    "os.makedirs(f'{generated_dir}', exist_ok=True)\n",
    "\n",
    "scenarios = {pick_scenario(setup, i)['name']:pick_scenario(setup, i) for i in np.arange(16)}\n",
    "scenarios.keys()"
   ]
  },
  {
   "cell_type": "code",
   "execution_count": 2,
   "metadata": {
    "execution": {
     "iopub.execute_input": "2021-02-01T17:50:47.672032Z",
     "iopub.status.busy": "2021-02-01T17:50:47.671808Z",
     "iopub.status.idle": "2021-02-01T17:50:47.675103Z",
     "shell.execute_reply": "2021-02-01T17:50:47.674516Z",
     "shell.execute_reply.started": "2021-02-01T17:50:47.672006Z"
    }
   },
   "outputs": [],
   "source": [
    "# Choose a subset of scenarios:\n",
    "#pick = 'L-r15'\n",
    "#scenarios = {k:v for (k,v) in scenarios.items() if pick in k}\n",
    "#print(len(scenarios))"
   ]
  },
  {
   "cell_type": "code",
   "execution_count": 20,
   "metadata": {
    "execution": {
     "iopub.execute_input": "2021-02-01T18:11:31.231292Z",
     "iopub.status.busy": "2021-02-01T18:11:31.231052Z",
     "iopub.status.idle": "2021-02-01T18:15:45.054598Z",
     "shell.execute_reply": "2021-02-01T18:15:45.054002Z",
     "shell.execute_reply.started": "2021-02-01T18:11:31.231266Z"
    },
    "scrolled": true
   },
   "outputs": [
    {
     "name": "stdout",
     "output_type": "stream",
     "text": [
      "YES helvetios-runs/2021-01-30-107_30/week-U-r15-t125000-id0-opt-107_30.csv\n"
     ]
    },
    {
     "name": "stderr",
     "output_type": "stream",
     "text": [
      "  7%|▋         | 2/29 [00:00<00:01, 19.32it/s]"
     ]
    },
    {
     "name": "stdout",
     "output_type": "stream",
     "text": [
      "===> Integrating for model_output/scenarios_new_30/U-r15-t125000-id0-opi-107_30\n"
     ]
    },
    {
     "name": "stderr",
     "output_type": "stream",
     "text": [
      "100%|██████████| 29/29 [00:01<00:00, 21.32it/s]\n",
      " 10%|█         | 3/29 [00:00<00:01, 21.53it/s]"
     ]
    },
    {
     "name": "stdout",
     "output_type": "stream",
     "text": [
      "--> DONE U-r15-t125000-id0\n",
      "===> Integrating for model_output/scenarios_new_30/U-r15-t125000-id0-novacc-107_30\n"
     ]
    },
    {
     "name": "stderr",
     "output_type": "stream",
     "text": [
      "100%|██████████| 29/29 [00:01<00:00, 20.51it/s]\n"
     ]
    },
    {
     "name": "stdout",
     "output_type": "stream",
     "text": [
      "YES helvetios-runs/2021-01-30-107_30/week-L-r15-t125000-id1-opt-107_30.csv\n"
     ]
    },
    {
     "name": "stderr",
     "output_type": "stream",
     "text": [
      " 10%|█         | 3/29 [00:00<00:01, 20.77it/s]"
     ]
    },
    {
     "name": "stdout",
     "output_type": "stream",
     "text": [
      "===> Integrating for model_output/scenarios_new_30/L-r15-t125000-id1-opi-107_30\n"
     ]
    },
    {
     "name": "stderr",
     "output_type": "stream",
     "text": [
      "100%|██████████| 29/29 [00:01<00:00, 21.26it/s]\n",
      " 10%|█         | 3/29 [00:00<00:01, 20.98it/s]"
     ]
    },
    {
     "name": "stdout",
     "output_type": "stream",
     "text": [
      "--> DONE L-r15-t125000-id1\n",
      "===> Integrating for model_output/scenarios_new_30/L-r15-t125000-id1-novacc-107_30\n"
     ]
    },
    {
     "name": "stderr",
     "output_type": "stream",
     "text": [
      "100%|██████████| 29/29 [00:01<00:00, 20.76it/s]\n"
     ]
    },
    {
     "name": "stdout",
     "output_type": "stream",
     "text": [
      "YES helvetios-runs/2021-01-30-107_30/week-U-r300-t125000-id2-opt-107_30.csv\n"
     ]
    },
    {
     "name": "stderr",
     "output_type": "stream",
     "text": [
      " 10%|█         | 3/29 [00:00<00:01, 20.36it/s]"
     ]
    },
    {
     "name": "stdout",
     "output_type": "stream",
     "text": [
      "===> Integrating for model_output/scenarios_new_30/U-r300-t125000-id2-opi-107_30\n"
     ]
    },
    {
     "name": "stderr",
     "output_type": "stream",
     "text": [
      "100%|██████████| 29/29 [00:01<00:00, 20.80it/s]\n"
     ]
    },
    {
     "name": "stdout",
     "output_type": "stream",
     "text": [
      "--> DONE U-r300-t125000-id2\n",
      "YES helvetios-runs/2021-01-30-107_30/week-L-r300-t125000-id3-opt-107_30.csv\n"
     ]
    },
    {
     "name": "stderr",
     "output_type": "stream",
     "text": [
      " 10%|█         | 3/29 [00:00<00:01, 21.95it/s]"
     ]
    },
    {
     "name": "stdout",
     "output_type": "stream",
     "text": [
      "===> Integrating for model_output/scenarios_new_30/L-r300-t125000-id3-opi-107_30\n"
     ]
    },
    {
     "name": "stderr",
     "output_type": "stream",
     "text": [
      "100%|██████████| 29/29 [00:01<00:00, 21.15it/s]\n"
     ]
    },
    {
     "name": "stdout",
     "output_type": "stream",
     "text": [
      "--> DONE L-r300-t125000-id3\n",
      "YES helvetios-runs/2021-01-30-107_30/week-U-r15-t250000-id4-opt-107_30.csv\n"
     ]
    },
    {
     "name": "stderr",
     "output_type": "stream",
     "text": [
      " 10%|█         | 3/29 [00:00<00:01, 19.99it/s]"
     ]
    },
    {
     "name": "stdout",
     "output_type": "stream",
     "text": [
      "===> Integrating for model_output/scenarios_new_30/U-r15-t250000-id4-opi-107_30\n"
     ]
    },
    {
     "name": "stderr",
     "output_type": "stream",
     "text": [
      "100%|██████████| 29/29 [00:01<00:00, 19.69it/s]\n"
     ]
    },
    {
     "name": "stdout",
     "output_type": "stream",
     "text": [
      "--> DONE U-r15-t250000-id4\n",
      "YES helvetios-runs/2021-01-30-107_30/week-L-r15-t250000-id5-opt-107_30.csv\n"
     ]
    },
    {
     "name": "stderr",
     "output_type": "stream",
     "text": [
      " 10%|█         | 3/29 [00:00<00:01, 21.42it/s]"
     ]
    },
    {
     "name": "stdout",
     "output_type": "stream",
     "text": [
      "===> Integrating for model_output/scenarios_new_30/L-r15-t250000-id5-opi-107_30\n"
     ]
    },
    {
     "name": "stderr",
     "output_type": "stream",
     "text": [
      "100%|██████████| 29/29 [00:01<00:00, 20.98it/s]\n"
     ]
    },
    {
     "name": "stdout",
     "output_type": "stream",
     "text": [
      "--> DONE L-r15-t250000-id5\n",
      "YES helvetios-runs/2021-01-30-107_30/week-U-r300-t250000-id6-opt-107_30.csv\n"
     ]
    },
    {
     "name": "stderr",
     "output_type": "stream",
     "text": [
      " 10%|█         | 3/29 [00:00<00:01, 22.78it/s]"
     ]
    },
    {
     "name": "stdout",
     "output_type": "stream",
     "text": [
      "===> Integrating for model_output/scenarios_new_30/U-r300-t250000-id6-opi-107_30\n"
     ]
    },
    {
     "name": "stderr",
     "output_type": "stream",
     "text": [
      "100%|██████████| 29/29 [00:01<00:00, 22.11it/s]\n"
     ]
    },
    {
     "name": "stdout",
     "output_type": "stream",
     "text": [
      "--> DONE U-r300-t250000-id6\n",
      "YES helvetios-runs/2021-01-30-107_30/week-L-r300-t250000-id7-opt-107_30.csv\n"
     ]
    },
    {
     "name": "stderr",
     "output_type": "stream",
     "text": [
      "  7%|▋         | 2/29 [00:00<00:01, 18.57it/s]"
     ]
    },
    {
     "name": "stdout",
     "output_type": "stream",
     "text": [
      "===> Integrating for model_output/scenarios_new_30/L-r300-t250000-id7-opi-107_30\n"
     ]
    },
    {
     "name": "stderr",
     "output_type": "stream",
     "text": [
      "100%|██████████| 29/29 [00:01<00:00, 19.96it/s]\n"
     ]
    },
    {
     "name": "stdout",
     "output_type": "stream",
     "text": [
      "--> DONE L-r300-t250000-id7\n",
      "YES helvetios-runs/2021-01-30-107_30/week-U-r15-t479700-id8-opt-107_30.csv\n"
     ]
    },
    {
     "name": "stderr",
     "output_type": "stream",
     "text": [
      " 10%|█         | 3/29 [00:00<00:01, 21.55it/s]"
     ]
    },
    {
     "name": "stdout",
     "output_type": "stream",
     "text": [
      "===> Integrating for model_output/scenarios_new_30/U-r15-t479700-id8-opi-107_30\n"
     ]
    },
    {
     "name": "stderr",
     "output_type": "stream",
     "text": [
      "100%|██████████| 29/29 [00:01<00:00, 22.15it/s]\n"
     ]
    },
    {
     "name": "stdout",
     "output_type": "stream",
     "text": [
      "--> DONE U-r15-t479700-id8\n",
      "YES helvetios-runs/2021-01-30-107_30/week-L-r15-t479700-id9-opt-107_30.csv\n"
     ]
    },
    {
     "name": "stderr",
     "output_type": "stream",
     "text": [
      " 10%|█         | 3/29 [00:00<00:01, 20.44it/s]"
     ]
    },
    {
     "name": "stdout",
     "output_type": "stream",
     "text": [
      "===> Integrating for model_output/scenarios_new_30/L-r15-t479700-id9-opi-107_30\n"
     ]
    },
    {
     "name": "stderr",
     "output_type": "stream",
     "text": [
      "100%|██████████| 29/29 [00:01<00:00, 21.47it/s]\n"
     ]
    },
    {
     "name": "stdout",
     "output_type": "stream",
     "text": [
      "--> DONE L-r15-t479700-id9\n",
      "YES helvetios-runs/2021-01-30-107_30/week-U-r300-t479700-id10-opt-107_30.csv\n"
     ]
    },
    {
     "name": "stderr",
     "output_type": "stream",
     "text": [
      " 10%|█         | 3/29 [00:00<00:01, 21.94it/s]"
     ]
    },
    {
     "name": "stdout",
     "output_type": "stream",
     "text": [
      "===> Integrating for model_output/scenarios_new_30/U-r300-t479700-id10-opi-107_30\n"
     ]
    },
    {
     "name": "stderr",
     "output_type": "stream",
     "text": [
      "100%|██████████| 29/29 [00:01<00:00, 22.28it/s]\n"
     ]
    },
    {
     "name": "stdout",
     "output_type": "stream",
     "text": [
      "--> DONE U-r300-t479700-id10\n",
      "YES helvetios-runs/2021-01-30-107_30/week-L-r300-t479700-id11-opt-107_30.csv\n"
     ]
    },
    {
     "name": "stderr",
     "output_type": "stream",
     "text": [
      " 10%|█         | 3/29 [00:00<00:01, 22.72it/s]"
     ]
    },
    {
     "name": "stdout",
     "output_type": "stream",
     "text": [
      "===> Integrating for model_output/scenarios_new_30/L-r300-t479700-id11-opi-107_30\n"
     ]
    },
    {
     "name": "stderr",
     "output_type": "stream",
     "text": [
      "100%|██████████| 29/29 [00:01<00:00, 22.67it/s]\n"
     ]
    },
    {
     "name": "stdout",
     "output_type": "stream",
     "text": [
      "--> DONE L-r300-t479700-id11\n",
      "YES helvetios-runs/2021-01-30-107_30/week-U-r15-t1000000-id12-opt-107_30.csv\n"
     ]
    },
    {
     "name": "stderr",
     "output_type": "stream",
     "text": [
      " 10%|█         | 3/29 [00:00<00:01, 22.87it/s]"
     ]
    },
    {
     "name": "stdout",
     "output_type": "stream",
     "text": [
      "===> Integrating for model_output/scenarios_new_30/U-r15-t1000000-id12-opi-107_30\n"
     ]
    },
    {
     "name": "stderr",
     "output_type": "stream",
     "text": [
      "100%|██████████| 29/29 [00:01<00:00, 22.18it/s]\n"
     ]
    },
    {
     "name": "stdout",
     "output_type": "stream",
     "text": [
      "--> DONE U-r15-t1000000-id12\n",
      "YES helvetios-runs/2021-01-30-107_30/week-L-r15-t1000000-id13-opt-107_30.csv\n"
     ]
    },
    {
     "name": "stderr",
     "output_type": "stream",
     "text": [
      " 10%|█         | 3/29 [00:00<00:01, 23.12it/s]"
     ]
    },
    {
     "name": "stdout",
     "output_type": "stream",
     "text": [
      "===> Integrating for model_output/scenarios_new_30/L-r15-t1000000-id13-opi-107_30\n"
     ]
    },
    {
     "name": "stderr",
     "output_type": "stream",
     "text": [
      "100%|██████████| 29/29 [00:01<00:00, 22.34it/s]\n"
     ]
    },
    {
     "name": "stdout",
     "output_type": "stream",
     "text": [
      "--> DONE L-r15-t1000000-id13\n",
      "YES helvetios-runs/2021-01-30-107_30/week-U-r300-t1000000-id14-opt-107_30.csv\n"
     ]
    },
    {
     "name": "stderr",
     "output_type": "stream",
     "text": [
      " 10%|█         | 3/29 [00:00<00:01, 23.16it/s]"
     ]
    },
    {
     "name": "stdout",
     "output_type": "stream",
     "text": [
      "===> Integrating for model_output/scenarios_new_30/U-r300-t1000000-id14-opi-107_30\n"
     ]
    },
    {
     "name": "stderr",
     "output_type": "stream",
     "text": [
      "100%|██████████| 29/29 [00:01<00:00, 22.80it/s]\n"
     ]
    },
    {
     "name": "stdout",
     "output_type": "stream",
     "text": [
      "--> DONE U-r300-t1000000-id14\n",
      "YES helvetios-runs/2021-01-30-107_30/week-L-r300-t1000000-id15-opt-107_30.csv\n"
     ]
    },
    {
     "name": "stderr",
     "output_type": "stream",
     "text": [
      " 10%|█         | 3/29 [00:00<00:01, 23.30it/s]"
     ]
    },
    {
     "name": "stdout",
     "output_type": "stream",
     "text": [
      "===> Integrating for model_output/scenarios_new_30/L-r300-t1000000-id15-opi-107_30\n"
     ]
    },
    {
     "name": "stderr",
     "output_type": "stream",
     "text": [
      "100%|██████████| 29/29 [00:01<00:00, 22.73it/s]\n"
     ]
    },
    {
     "name": "stdout",
     "output_type": "stream",
     "text": [
      "--> DONE L-r300-t1000000-id15\n"
     ]
    }
   ],
   "source": [
    "scenarios_opt = {}\n",
    "scenarios_baseline = {}\n",
    "## Re-integrate vacc\n",
    "for scenario_name, scenario in scenarios.items():\n",
    "    fname = f\"{outdir}{file_prefix}-{scenario_name}-opt-{nnodes}_{ndays_ocp}.csv\"  # '-'.join(scenario_name.split('-')[:-1])\n",
    "    try:\n",
    "        md = pd.read_csv(fname, index_col= 'date', parse_dates=True)\n",
    "        print(f'YES {fname}')\n",
    "    \n",
    "        # Build scenario\n",
    "        maxvaccrate_regional, delivery_national, stockpile_national_constraint, control_initial = build_scenario(setup, scenario)\n",
    "        M = setup.nnodes\n",
    "        N = setup.ndays - 1\n",
    "        control_initial = np.zeros((M, N))\n",
    "        unvac_nd = np.copy(setup.pop_node)\n",
    "        stockpile = 0\n",
    "        for k in range(ndays_ocp - 1):\n",
    "            stockpile += delivery_national[k]\n",
    "            for nodename in md.place.unique():\n",
    "                nd = setup.ind2name.index(nodename)\n",
    "                to_allocate = md[(md['place'] == nodename) & (md['comp'] == 'vacc')].iloc[k]['value']\n",
    "                to_allocate = min(to_allocate, maxvaccrate_regional[nd, k], unvac_nd[nd], stockpile)\n",
    "                control_initial[nd, k] = to_allocate\n",
    "                stockpile -= to_allocate\n",
    "                unvac_nd[nd] -= to_allocate\n",
    "        p.apply_epicourse(setup, scenario['beta_mult'])\n",
    "        # END Build scenario\n",
    "\n",
    "        results, state_initial, yell, mob = COVIDVaccinationOCP.integrate(N,\n",
    "                                                                          setup=setup,\n",
    "                                                                          parameters=p,\n",
    "                                                                          controls=control_initial,\n",
    "                                                                          save_to=f'{generated_dir}/{scenario_name}-opi-{nnodes}_{ndays}',\n",
    "                                                                          n_rk4_steps=n_int_steps)\n",
    "        results.set_index('date', drop=True, inplace=True)\n",
    "        scenarios_opt[scenario_name] = scenario\n",
    "        print(f'--> DONE {scenario_name}')\n",
    "\n",
    "        if scenario_name.split('-')[0] not in scenarios_baseline:\n",
    "            control_initial = np.zeros((M, N))\n",
    "            # Generate NO vaccination scenarios\n",
    "            results, state_initial, yell, mob = COVIDVaccinationOCP.integrate(N,\n",
    "                                                                      setup=setup,\n",
    "                                                                      parameters=p,\n",
    "                                                                      controls=control_initial,\n",
    "                                                                      save_to=f'{generated_dir}/{scenario_name}-novacc-{nnodes}_{ndays}',\n",
    "                                                                      n_rk4_steps=n_int_steps)\n",
    "            scenarios_baseline[scenario_name.split('-')[0]] = pd.read_csv(f'{generated_dir}/{scenario_name}-novacc-{nnodes}_{ndays}.csv', \n",
    "                                                                         index_col= 'date', parse_dates=True)\n",
    "\n",
    "\n",
    "    except FileNotFoundError:\n",
    "        print(f'NOT {fname}')"
   ]
  },
  {
   "cell_type": "code",
   "execution_count": null,
   "metadata": {},
   "outputs": [],
   "source": []
  },
  {
   "cell_type": "code",
   "execution_count": 21,
   "metadata": {
    "execution": {
     "iopub.execute_input": "2021-02-01T18:15:45.056412Z",
     "iopub.status.busy": "2021-02-01T18:15:45.056168Z",
     "iopub.status.idle": "2021-02-01T18:16:52.558908Z",
     "shell.execute_reply": "2021-02-01T18:16:52.557232Z",
     "shell.execute_reply.started": "2021-02-01T18:15:45.056380Z"
    },
    "scrolled": true
   },
   "outputs": [
    {
     "name": "stdout",
     "output_type": "stream",
     "text": [
      "===> Integrating for model_output/scenarios_new_30/L-r15-t125000-id1-inc-107_30\n"
     ]
    },
    {
     "name": "stderr",
     "output_type": "stream",
     "text": [
      "  0%|          | 0/29 [00:00<?, ?it/s]"
     ]
    },
    {
     "name": "stdout",
     "output_type": "stream",
     "text": [
      "===> Integrating for model_output/scenarios_new_30/U-r300-t125000-id2-inc-107_30\n",
      "===> Integrating for model_output/scenarios_new_30/U-r300-t250000-id6-inc-107_30===> Integrating for model_output/scenarios_new_30/L-r300-t1000000-id15-inc-107_30"
     ]
    },
    {
     "name": "stderr",
     "output_type": "stream",
     "text": [
      "  0%|          | 0/29 [00:00<?, ?it/s]"
     ]
    },
    {
     "name": "stdout",
     "output_type": "stream",
     "text": [
      "\n",
      "\n",
      "===> Integrating for model_output/scenarios_new_30/U-r15-t250000-id4-inc-107_30===> Integrating for model_output/scenarios_new_30/L-r300-t125000-id3-inc-107_30"
     ]
    },
    {
     "name": "stderr",
     "output_type": "stream",
     "text": [
      "  0%|          | 0/29 [00:00<?, ?it/s]"
     ]
    },
    {
     "name": "stdout",
     "output_type": "stream",
     "text": [
      "===> Integrating for model_output/scenarios_new_30/L-r15-t1000000-id13-inc-107_30\n",
      "===> Integrating for model_output/scenarios_new_30/U-r15-t1000000-id12-inc-107_30\n"
     ]
    },
    {
     "name": "stderr",
     "output_type": "stream",
     "text": [
      "  0%|          | 0/29 [00:00<?, ?it/s]"
     ]
    },
    {
     "name": "stdout",
     "output_type": "stream",
     "text": [
      "\n",
      "\n",
      "===> Integrating for model_output/scenarios_new_30/U-r15-t125000-id0-inc-107_30===> Integrating for model_output/scenarios_new_30/U-r300-t479700-id10-inc-107_30"
     ]
    },
    {
     "name": "stderr",
     "output_type": "stream",
     "text": [
      "  0%|          | 0/29 [00:00<?, ?it/s]"
     ]
    },
    {
     "name": "stdout",
     "output_type": "stream",
     "text": [
      "\n",
      "===> Integrating for model_output/scenarios_new_30/U-r300-t1000000-id14-inc-107_30\n",
      "\n"
     ]
    },
    {
     "name": "stderr",
     "output_type": "stream",
     "text": [
      "  0%|          | 0/29 [00:00<?, ?it/s]"
     ]
    },
    {
     "name": "stdout",
     "output_type": "stream",
     "text": [
      "===> Integrating for model_output/scenarios_new_30/L-r300-t250000-id7-inc-107_30===> Integrating for model_output/scenarios_new_30/L-r300-t479700-id11-inc-107_30"
     ]
    },
    {
     "name": "stderr",
     "output_type": "stream",
     "text": [
      "  0%|          | 0/29 [00:00<?, ?it/s]"
     ]
    },
    {
     "name": "stdout",
     "output_type": "stream",
     "text": [
      "\n",
      "\n"
     ]
    },
    {
     "name": "stderr",
     "output_type": "stream",
     "text": [
      "  0%|          | 0/29 [00:00<?, ?it/s]"
     ]
    },
    {
     "name": "stdout",
     "output_type": "stream",
     "text": [
      "===> Integrating for model_output/scenarios_new_30/L-r15-t479700-id9-inc-107_30===> Integrating for model_output/scenarios_new_30/U-r15-t479700-id8-inc-107_30"
     ]
    },
    {
     "name": "stderr",
     "output_type": "stream",
     "text": [
      "  0%|          | 0/29 [00:00<?, ?it/s]"
     ]
    },
    {
     "name": "stdout",
     "output_type": "stream",
     "text": [
      "\n",
      "\n"
     ]
    },
    {
     "name": "stderr",
     "output_type": "stream",
     "text": [
      "  0%|          | 0/29 [00:00<?, ?it/s]"
     ]
    },
    {
     "name": "stdout",
     "output_type": "stream",
     "text": [
      "===> Integrating for model_output/scenarios_new_30/L-r15-t250000-id5-inc-107_30\n"
     ]
    },
    {
     "name": "stderr",
     "output_type": "stream",
     "text": [
      "100%|██████████| 29/29 [00:03<00:00,  9.19it/s]\n",
      "100%|██████████| 29/29 [00:03<00:00,  9.16it/s]\n",
      "100%|██████████| 29/29 [00:03<00:00,  9.13it/s]\n",
      "100%|██████████| 29/29 [00:03<00:00,  9.14it/s]\n",
      "100%|██████████| 29/29 [00:03<00:00,  9.06it/s]\n",
      "100%|██████████| 29/29 [00:03<00:00,  9.09it/s]\n",
      "100%|██████████| 29/29 [00:03<00:00,  9.06it/s]\n",
      "100%|██████████| 29/29 [00:03<00:00,  9.01it/s]\n",
      "100%|██████████| 29/29 [00:03<00:00,  9.05it/s]\n",
      "100%|██████████| 29/29 [00:03<00:00,  9.01it/s]\n",
      "100%|██████████| 29/29 [00:03<00:00,  9.01it/s]\n",
      "100%|██████████| 29/29 [00:03<00:00,  9.02it/s]\n",
      "100%|██████████| 29/29 [00:03<00:00,  9.00it/s]\n",
      "100%|██████████| 29/29 [00:03<00:00,  8.94it/s]\n",
      "100%|██████████| 29/29 [00:03<00:00,  8.95it/s]\n",
      "100%|██████████| 29/29 [00:03<00:00,  9.16it/s]\n"
     ]
    },
    {
     "name": "stdout",
     "output_type": "stream",
     "text": [
      "===> Integrating for model_output/scenarios_new_30/L-r300-t1000000-id15-sus-107_30\n"
     ]
    },
    {
     "name": "stderr",
     "output_type": "stream",
     "text": [
      "  0%|          | 0/29 [00:00<?, ?it/s]"
     ]
    },
    {
     "name": "stdout",
     "output_type": "stream",
     "text": [
      "===> Integrating for model_output/scenarios_new_30/U-r300-t250000-id6-sus-107_30\n"
     ]
    },
    {
     "name": "stderr",
     "output_type": "stream",
     "text": [
      "  0%|          | 0/29 [00:00<?, ?it/s]"
     ]
    },
    {
     "name": "stdout",
     "output_type": "stream",
     "text": [
      "===> Integrating for model_output/scenarios_new_30/U-r15-t250000-id4-sus-107_30\n",
      "===> Integrating for model_output/scenarios_new_30/L-r15-t1000000-id13-sus-107_30\n"
     ]
    },
    {
     "name": "stderr",
     "output_type": "stream",
     "text": [
      "  0%|          | 0/29 [00:00<?, ?it/s]"
     ]
    },
    {
     "name": "stdout",
     "output_type": "stream",
     "text": [
      "===> Integrating for model_output/scenarios_new_30/U-r300-t125000-id2-sus-107_30\n"
     ]
    },
    {
     "name": "stderr",
     "output_type": "stream",
     "text": [
      "  3%|▎         | 1/29 [00:00<00:03,  9.01it/s]"
     ]
    },
    {
     "name": "stdout",
     "output_type": "stream",
     "text": [
      "===> Integrating for model_output/scenarios_new_30/L-r15-t125000-id1-sus-107_30\n"
     ]
    },
    {
     "name": "stderr",
     "output_type": "stream",
     "text": [
      "  0%|          | 0/29 [00:00<?, ?it/s]"
     ]
    },
    {
     "name": "stdout",
     "output_type": "stream",
     "text": [
      "===> Integrating for model_output/scenarios_new_30/L-r300-t125000-id3-sus-107_30\n"
     ]
    },
    {
     "name": "stderr",
     "output_type": "stream",
     "text": [
      "  0%|          | 0/29 [00:00<?, ?it/s]"
     ]
    },
    {
     "name": "stdout",
     "output_type": "stream",
     "text": [
      "===> Integrating for model_output/scenarios_new_30/U-r300-t1000000-id14-sus-107_30\n"
     ]
    },
    {
     "name": "stderr",
     "output_type": "stream",
     "text": [
      "  0%|          | 0/29 [00:00<?, ?it/s]"
     ]
    },
    {
     "name": "stdout",
     "output_type": "stream",
     "text": [
      "===> Integrating for model_output/scenarios_new_30/U-r15-t479700-id8-sus-107_30\n"
     ]
    },
    {
     "name": "stderr",
     "output_type": "stream",
     "text": [
      "  0%|          | 0/29 [00:00<?, ?it/s]"
     ]
    },
    {
     "name": "stdout",
     "output_type": "stream",
     "text": [
      "===> Integrating for model_output/scenarios_new_30/U-r15-t1000000-id12-sus-107_30===> Integrating for model_output/scenarios_new_30/L-r300-t250000-id7-sus-107_30\n",
      "\n"
     ]
    },
    {
     "name": "stderr",
     "output_type": "stream",
     "text": [
      "  3%|▎         | 1/29 [00:00<00:03,  7.95it/s]"
     ]
    },
    {
     "name": "stdout",
     "output_type": "stream",
     "text": [
      "===> Integrating for model_output/scenarios_new_30/U-r15-t125000-id0-sus-107_30"
     ]
    },
    {
     "name": "stderr",
     "output_type": "stream",
     "text": [
      "  3%|▎         | 1/29 [00:00<00:02,  9.35it/s]"
     ]
    },
    {
     "name": "stdout",
     "output_type": "stream",
     "text": [
      "\n"
     ]
    },
    {
     "name": "stderr",
     "output_type": "stream",
     "text": [
      "  0%|          | 0/29 [00:00<?, ?it/s]"
     ]
    },
    {
     "name": "stdout",
     "output_type": "stream",
     "text": [
      "===> Integrating for model_output/scenarios_new_30/U-r300-t479700-id10-sus-107_30\n"
     ]
    },
    {
     "name": "stderr",
     "output_type": "stream",
     "text": [
      "  0%|          | 0/29 [00:00<?, ?it/s]"
     ]
    },
    {
     "name": "stdout",
     "output_type": "stream",
     "text": [
      "===> Integrating for model_output/scenarios_new_30/L-r300-t479700-id11-sus-107_30\n"
     ]
    },
    {
     "name": "stderr",
     "output_type": "stream",
     "text": [
      "  3%|▎         | 1/29 [00:00<00:03,  7.49it/s]"
     ]
    },
    {
     "name": "stdout",
     "output_type": "stream",
     "text": [
      "===> Integrating for model_output/scenarios_new_30/L-r15-t479700-id9-sus-107_30\n"
     ]
    },
    {
     "name": "stderr",
     "output_type": "stream",
     "text": [
      "  7%|▋         | 2/29 [00:00<00:03,  8.55it/s]"
     ]
    },
    {
     "name": "stdout",
     "output_type": "stream",
     "text": [
      "===> Integrating for model_output/scenarios_new_30/L-r15-t250000-id5-sus-107_30\n"
     ]
    },
    {
     "name": "stderr",
     "output_type": "stream",
     "text": [
      "100%|██████████| 29/29 [00:03<00:00,  7.78it/s]\n",
      "100%|██████████| 29/29 [00:03<00:00,  7.79it/s]\n",
      "100%|██████████| 29/29 [00:03<00:00,  7.71it/s]\n",
      "100%|██████████| 29/29 [00:03<00:00,  7.71it/s]\n",
      "100%|██████████| 29/29 [00:03<00:00,  7.71it/s]\n",
      "100%|██████████| 29/29 [00:03<00:00,  7.78it/s]\n",
      "100%|██████████| 29/29 [00:03<00:00,  7.74it/s]\n",
      "100%|██████████| 29/29 [00:03<00:00,  7.76it/s]\n",
      "100%|██████████| 29/29 [00:03<00:00,  7.75it/s]\n",
      "100%|██████████| 29/29 [00:03<00:00,  7.75it/s]\n",
      "100%|██████████| 29/29 [00:03<00:00,  7.75it/s]\n",
      "100%|██████████| 29/29 [00:03<00:00,  7.70it/s]\n",
      "100%|██████████| 29/29 [00:03<00:00,  7.71it/s]\n",
      "100%|██████████| 29/29 [00:03<00:00,  7.71it/s]\n",
      "100%|██████████| 29/29 [00:03<00:00,  7.76it/s]\n",
      "100%|██████████| 29/29 [00:03<00:00,  7.69it/s]\n"
     ]
    },
    {
     "name": "stdout",
     "output_type": "stream",
     "text": [
      "===> Integrating for model_output/scenarios_new_30/L-r300-t1000000-id15-pop-107_30\n"
     ]
    },
    {
     "name": "stderr",
     "output_type": "stream",
     "text": [
      "  0%|          | 0/29 [00:00<?, ?it/s]"
     ]
    },
    {
     "name": "stdout",
     "output_type": "stream",
     "text": [
      "===> Integrating for model_output/scenarios_new_30/U-r300-t125000-id2-pop-107_30\n"
     ]
    },
    {
     "name": "stderr",
     "output_type": "stream",
     "text": [
      "  0%|          | 0/29 [00:00<?, ?it/s]"
     ]
    },
    {
     "name": "stdout",
     "output_type": "stream",
     "text": [
      "===> Integrating for model_output/scenarios_new_30/U-r15-t250000-id4-pop-107_30\n"
     ]
    },
    {
     "name": "stderr",
     "output_type": "stream",
     "text": [
      "  0%|          | 0/29 [00:00<?, ?it/s]"
     ]
    },
    {
     "name": "stdout",
     "output_type": "stream",
     "text": [
      "===> Integrating for model_output/scenarios_new_30/U-r300-t250000-id6-pop-107_30\n"
     ]
    },
    {
     "name": "stderr",
     "output_type": "stream",
     "text": [
      "  0%|          | 0/29 [00:00<?, ?it/s]"
     ]
    },
    {
     "name": "stdout",
     "output_type": "stream",
     "text": [
      "===> Integrating for model_output/scenarios_new_30/L-r15-t1000000-id13-pop-107_30\n"
     ]
    },
    {
     "name": "stderr",
     "output_type": "stream",
     "text": [
      "  3%|▎         | 1/29 [00:00<00:03,  7.54it/s]"
     ]
    },
    {
     "name": "stdout",
     "output_type": "stream",
     "text": [
      "===> Integrating for model_output/scenarios_new_30/L-r15-t125000-id1-pop-107_30\n"
     ]
    },
    {
     "name": "stderr",
     "output_type": "stream",
     "text": [
      "  0%|          | 0/29 [00:00<?, ?it/s]"
     ]
    },
    {
     "name": "stdout",
     "output_type": "stream",
     "text": [
      "===> Integrating for model_output/scenarios_new_30/L-r300-t125000-id3-pop-107_30\n"
     ]
    },
    {
     "name": "stderr",
     "output_type": "stream",
     "text": [
      "  0%|          | 0/29 [00:00<?, ?it/s]"
     ]
    },
    {
     "name": "stdout",
     "output_type": "stream",
     "text": [
      "===> Integrating for model_output/scenarios_new_30/U-r300-t1000000-id14-pop-107_30\n"
     ]
    },
    {
     "name": "stderr",
     "output_type": "stream",
     "text": [
      "  3%|▎         | 1/29 [00:00<00:03,  7.27it/s]"
     ]
    },
    {
     "name": "stdout",
     "output_type": "stream",
     "text": [
      "===> Integrating for model_output/scenarios_new_30/U-r15-t1000000-id12-pop-107_30\n",
      "===> Integrating for model_output/scenarios_new_30/L-r300-t250000-id7-pop-107_30\n"
     ]
    },
    {
     "name": "stderr",
     "output_type": "stream",
     "text": [
      "  3%|▎         | 1/29 [00:00<00:03,  7.31it/s]"
     ]
    },
    {
     "name": "stdout",
     "output_type": "stream",
     "text": [
      "===> Integrating for model_output/scenarios_new_30/U-r15-t479700-id8-pop-107_30\n"
     ]
    },
    {
     "name": "stderr",
     "output_type": "stream",
     "text": [
      "  0%|          | 0/29 [00:00<?, ?it/s].40it/s]"
     ]
    },
    {
     "name": "stdout",
     "output_type": "stream",
     "text": [
      "===> Integrating for model_output/scenarios_new_30/L-r300-t479700-id11-pop-107_30"
     ]
    },
    {
     "name": "stderr",
     "output_type": "stream",
     "text": [
      "  7%|▋         | 2/29 [00:00<00:03,  7.36it/s]"
     ]
    },
    {
     "name": "stdout",
     "output_type": "stream",
     "text": [
      "\n"
     ]
    },
    {
     "name": "stderr",
     "output_type": "stream",
     "text": [
      "  0%|          | 0/29 [00:00<?, ?it/s]"
     ]
    },
    {
     "name": "stdout",
     "output_type": "stream",
     "text": [
      "===> Integrating for model_output/scenarios_new_30/U-r15-t125000-id0-pop-107_30\n",
      "===> Integrating for model_output/scenarios_new_30/L-r15-t250000-id5-pop-107_30"
     ]
    },
    {
     "name": "stderr",
     "output_type": "stream",
     "text": [
      "  3%|▎         | 1/29 [00:00<00:03,  7.36it/s]"
     ]
    },
    {
     "name": "stdout",
     "output_type": "stream",
     "text": [
      "\n"
     ]
    },
    {
     "name": "stderr",
     "output_type": "stream",
     "text": [
      "  0%|          | 0/29 [00:00<?, ?it/s]"
     ]
    },
    {
     "name": "stdout",
     "output_type": "stream",
     "text": [
      "===> Integrating for model_output/scenarios_new_30/L-r15-t479700-id9-pop-107_30\n"
     ]
    },
    {
     "name": "stderr",
     "output_type": "stream",
     "text": [
      "  0%|          | 0/29 [00:00<?, ?it/s]"
     ]
    },
    {
     "name": "stdout",
     "output_type": "stream",
     "text": [
      "===> Integrating for model_output/scenarios_new_30/U-r300-t479700-id10-pop-107_30\n"
     ]
    },
    {
     "name": "stderr",
     "output_type": "stream",
     "text": [
      "100%|██████████| 29/29 [00:04<00:00,  6.67it/s]\n",
      "100%|██████████| 29/29 [00:04<00:00,  6.66it/s]\n",
      "100%|██████████| 29/29 [00:04<00:00,  6.62it/s]\n",
      "100%|██████████| 29/29 [00:04<00:00,  6.57it/s]\n",
      "100%|██████████| 29/29 [00:04<00:00,  6.59it/s]\n",
      "100%|██████████| 29/29 [00:04<00:00,  6.60it/s]\n",
      "100%|██████████| 29/29 [00:04<00:00,  6.62it/s]\n",
      "100%|██████████| 29/29 [00:04<00:00,  6.56it/s]\n",
      "100%|██████████| 29/29 [00:04<00:00,  6.60it/s]\n",
      "100%|██████████| 29/29 [00:04<00:00,  6.65it/s]\n",
      "100%|██████████| 29/29 [00:04<00:00,  6.58it/s]\n",
      "100%|██████████| 29/29 [00:04<00:00,  6.59it/s]\n",
      "100%|██████████| 29/29 [00:04<00:00,  6.59it/s]\n",
      "100%|██████████| 29/29 [00:04<00:00,  6.60it/s]\n",
      "100%|██████████| 29/29 [00:04<00:00,  6.56it/s]\n",
      "100%|██████████| 29/29 [00:04<00:00,  6.52it/s]\n"
     ]
    }
   ],
   "source": [
    "# Generate alternatives:\n",
    "import multiprocessing as mp\n",
    "pool = mp.Pool(mp.cpu_count())\n",
    "\n",
    "def generate_all_alternatives(scenario_name, scenario):\n",
    "    # BY INCIDENCE: \n",
    "    nv = scenarios_baseline[scenario_name.split('-')[0]]\n",
    "    incid = nv[nv['comp'].isin(['yell'])].groupby('placeID').sum()\n",
    "    incid.sort_values('value', ascending=False)\n",
    "    \n",
    "    # Build scenario\n",
    "    maxvaccrate_regional, delivery_national, stockpile_national_constraint, control_initial = build_scenario(setup, scenario)\n",
    "    M = setup.nnodes\n",
    "    N = setup.ndays - 1\n",
    "    control_initial = np.zeros((M, N))\n",
    "    unvac_nd = np.copy(setup.pop_node)\n",
    "    stockpile = 0\n",
    "    for k in range(ndays_ocp -1):\n",
    "        stockpile += delivery_national[k]\n",
    "        for nodename in md.place.unique():\n",
    "            nd = setup.ind2name.index(nodename)\n",
    "            to_allocate = stockpile * incid.loc[nd]['value'] / incid['value'].sum()\n",
    "            to_allocate = min(to_allocate, maxvaccrate_regional[nd, k], unvac_nd[nd], stockpile)\n",
    "            control_initial[nd, k] = to_allocate\n",
    "            stockpile -= to_allocate\n",
    "            unvac_nd[nd] -= to_allocate\n",
    "    p.apply_epicourse(setup, scenario['beta_mult'])\n",
    "    # END Build scenario\n",
    "\n",
    "    results, state_initial, yell, mob = COVIDVaccinationOCP.integrate(N,\n",
    "                                                                      setup=setup,\n",
    "                                                                      parameters=p,\n",
    "                                                                      controls=control_initial,\n",
    "                                                                      save_to=f'{generated_dir}/{scenario_name}-inc-{nnodes}_{ndays}',\n",
    "                                                                      n_rk4_steps=n_int_steps)\n",
    "    results.set_index('date', drop=True, inplace=True)\n",
    "\n",
    "    # BY Suceptibility: \n",
    "    nv = scenarios_baseline[scenario_name.split('-')[0]]\n",
    "    incid = nv[nv['comp'].isin(['S'])].loc[str(setup.start_date)]\n",
    "    incid.set_index('placeID', inplace=True)\n",
    "    \n",
    "    # Build scenario\n",
    "    maxvaccrate_regional, delivery_national, stockpile_national_constraint, control_initial = build_scenario(setup, scenario)\n",
    "    M = setup.nnodes\n",
    "    N = setup.ndays - 1\n",
    "    control_initial = np.zeros((M, N))\n",
    "    unvac_nd = np.copy(setup.pop_node)\n",
    "    stockpile = 0\n",
    "    for k in range(ndays_ocp -1):\n",
    "        stockpile += delivery_national[k]\n",
    "        for nodename in md.place.unique():\n",
    "            nd = setup.ind2name.index(nodename)\n",
    "            to_allocate = stockpile * incid.loc[nd]['value'] / incid['value'].sum()\n",
    "            to_allocate = min(to_allocate, maxvaccrate_regional[nd, k], unvac_nd[nd], stockpile)\n",
    "            control_initial[nd, k] = to_allocate\n",
    "            stockpile -= to_allocate\n",
    "            unvac_nd[nd] -= to_allocate\n",
    "    p.apply_epicourse(setup, scenario['beta_mult'])\n",
    "    # END Build scenario\n",
    "\n",
    "    results, state_initial, yell, mob = COVIDVaccinationOCP.integrate(N,\n",
    "                                                                      setup=setup,\n",
    "                                                                      parameters=p,\n",
    "                                                                      controls=control_initial,\n",
    "                                                                      save_to=f'{generated_dir}/{scenario_name}-sus-{nnodes}_{ndays}',\n",
    "                                                                      n_rk4_steps=n_int_steps)\n",
    "    results.set_index('date', drop=True, inplace=True)\n",
    "    \n",
    "    \n",
    "    # BY POPULATION \n",
    "    # Build scenario\n",
    "    maxvaccrate_regional, delivery_national, stockpile_national_constraint, control_initial = build_scenario(setup, scenario)\n",
    "    M = setup.nnodes\n",
    "    N = setup.ndays - 1\n",
    "    control_initial = np.zeros((M, N))\n",
    "    unvac_nd = np.copy(setup.pop_node)\n",
    "    stockpile = 0\n",
    "    for k in range(ndays_ocp -1):\n",
    "        stockpile += delivery_national[k]\n",
    "        for nodename in md.place.unique():\n",
    "            pop_nd = setup.pop_node[nd]\n",
    "            nd = setup.ind2name.index(nodename)\n",
    "            to_allocate = stockpile * pop_nd / setup.pop_node.sum()\n",
    "            to_allocate = min(to_allocate, maxvaccrate_regional[nd, k], unvac_nd[nd], stockpile)\n",
    "            control_initial[nd, k] = to_allocate\n",
    "            stockpile -= to_allocate\n",
    "            unvac_nd[nd] -= to_allocate\n",
    "    p.apply_epicourse(setup, scenario['beta_mult'])\n",
    "    # END Build scenario\n",
    "\n",
    "    results, state_initial, yell, mob = COVIDVaccinationOCP.integrate(N,\n",
    "                                                                      setup=setup,\n",
    "                                                                      parameters=p,\n",
    "                                                                      controls=control_initial,\n",
    "                                                                      save_to=f'{generated_dir}/{scenario_name}-pop-{nnodes}_{ndays}',\n",
    "                                                                      n_rk4_steps=n_int_steps)\n",
    "    results.set_index('date', drop=True, inplace=True)\n",
    "\n",
    "    #TODO: Centrality based and R0 based\n",
    "    return True\n",
    "    \n",
    "all_sims = pool.starmap(generate_all_alternatives, [(scenario_name, scenario) for scenario_name, scenario in scenarios_opt.items()])"
   ]
  },
  {
   "cell_type": "markdown",
   "metadata": {
    "execution": {
     "iopub.execute_input": "2021-02-01T17:53:52.320543Z",
     "iopub.status.busy": "2021-02-01T17:53:52.320317Z",
     "iopub.status.idle": "2021-02-01T17:53:52.323514Z",
     "shell.execute_reply": "2021-02-01T17:53:52.322898Z",
     "shell.execute_reply.started": "2021-02-01T17:53:52.320517Z"
    }
   },
   "source": [
    "# Generate the averted cases for all posterior draws"
   ]
  },
  {
   "cell_type": "code",
   "execution_count": 25,
   "metadata": {
    "execution": {
     "iopub.execute_input": "2021-02-01T19:21:42.511554Z",
     "iopub.status.busy": "2021-02-01T19:21:42.511326Z",
     "iopub.status.idle": "2021-02-01T19:21:44.528865Z",
     "shell.execute_reply": "2021-02-01T19:21:44.527998Z",
     "shell.execute_reply.started": "2021-02-01T19:21:42.511529Z"
    }
   },
   "outputs": [],
   "source": [
    "import matlab.engine\n",
    "\n",
    "eng = matlab.engine.start_matlab()\n",
    "eng.cd('check-strats/', nargout=0)\n",
    "\n",
    "eng.workspace['timesV'] = matlab.double(np.arange(738157, 738157+ndays).tolist()) # THIS IS FOR JANUARY 1st"
   ]
  },
  {
   "cell_type": "code",
   "execution_count": 21,
   "metadata": {
    "execution": {
     "iopub.execute_input": "2021-02-01T19:20:11.793926Z",
     "iopub.status.busy": "2021-02-01T19:20:11.793697Z",
     "iopub.status.idle": "2021-02-01T19:20:11.805008Z",
     "shell.execute_reply": "2021-02-01T19:20:11.804392Z",
     "shell.execute_reply.started": "2021-02-01T19:20:11.793896Z"
    }
   },
   "outputs": [
    {
     "data": {
      "text/plain": [
       "dict_keys(['U-r15-t125000-id0', 'L-r15-t125000-id1', 'U-r300-t125000-id2', 'L-r300-t125000-id3', 'U-r15-t250000-id4', 'L-r15-t250000-id5', 'U-r300-t250000-id6', 'L-r300-t250000-id7', 'U-r15-t479700-id8', 'L-r15-t479700-id9', 'U-r300-t479700-id10', 'L-r300-t479700-id11', 'U-r15-t1000000-id12', 'L-r15-t1000000-id13', 'U-r300-t1000000-id14', 'L-r300-t1000000-id15'])"
      ]
     },
     "execution_count": 21,
     "metadata": {},
     "output_type": "execute_result"
    }
   ],
   "source": [
    "scenarios = {pick_scenario(setup, i)['name']:pick_scenario(setup, i) for i in np.arange(16)}\n",
    "scenarios.keys()"
   ]
  },
  {
   "cell_type": "code",
   "execution_count": 9,
   "metadata": {
    "execution": {
     "iopub.execute_input": "2021-02-01T19:16:12.419408Z",
     "iopub.status.busy": "2021-02-01T19:16:12.419179Z",
     "iopub.status.idle": "2021-02-01T19:16:12.425483Z",
     "shell.execute_reply": "2021-02-01T19:16:12.424956Z",
     "shell.execute_reply.started": "2021-02-01T19:16:12.419382Z"
    }
   },
   "outputs": [
    {
     "data": {
      "text/plain": [
       "array([738157., 738158., 738159., 738160., 738161., 738162., 738163.,\n",
       "       738164., 738165., 738166., 738167., 738168., 738169., 738170.,\n",
       "       738171., 738172., 738173., 738174., 738175., 738176., 738177.,\n",
       "       738178., 738179., 738180., 738181., 738182., 738183., 738184.,\n",
       "       738185., 738186., 738187., 738188., 738189., 738190., 738191.,\n",
       "       738192., 738193., 738194., 738195., 738196., 738197., 738198.,\n",
       "       738199., 738200., 738201., 738202., 738203., 738204., 738205.,\n",
       "       738206., 738207., 738208., 738209., 738210., 738211., 738212.,\n",
       "       738213., 738214., 738215., 738216., 738217., 738218., 738219.,\n",
       "       738220., 738221., 738222., 738223., 738224., 738225., 738226.,\n",
       "       738227., 738228., 738229., 738230., 738231., 738232., 738233.,\n",
       "       738234., 738235., 738236., 738237., 738238., 738239., 738240.,\n",
       "       738241., 738242., 738243., 738244., 738245., 738246., 738247.,\n",
       "       738248., 738249., 738250., 738251., 738252., 738253., 738254.,\n",
       "       738255., 738256., 738257., 738258., 738259., 738260., 738261.,\n",
       "       738262., 738263., 738264., 738265., 738266., 738267., 738268.,\n",
       "       738269., 738270., 738271., 738272., 738273., 738274., 738275.,\n",
       "       738276., 738277., 738278., 738279., 738280., 738281., 738282.,\n",
       "       738283., 738284., 738285., 738286., 738287., 738288., 738289.,\n",
       "       738290., 738291., 738292., 738293., 738294., 738295., 738296.,\n",
       "       738297., 738298., 738299., 738300., 738301., 738302., 738303.,\n",
       "       738304., 738305., 738306., 738307., 738308., 738309., 738310.,\n",
       "       738311., 738312., 738313., 738314., 738315., 738316., 738317.,\n",
       "       738318., 738319., 738320., 738321., 738322., 738323., 738324.,\n",
       "       738325., 738326., 738327., 738328., 738329., 738330., 738331.,\n",
       "       738332., 738333., 738334., 738335.])"
      ]
     },
     "execution_count": 9,
     "metadata": {},
     "output_type": "execute_result"
    }
   ],
   "source": [
    "np.array(eng.eval('timesV')).flatten()"
   ]
  },
  {
   "cell_type": "code",
   "execution_count": 24,
   "metadata": {
    "execution": {
     "iopub.execute_input": "2021-02-01T19:20:50.827406Z",
     "iopub.status.busy": "2021-02-01T19:20:50.827178Z",
     "iopub.status.idle": "2021-02-01T19:20:50.831265Z",
     "shell.execute_reply": "2021-02-01T19:20:50.830652Z",
     "shell.execute_reply.started": "2021-02-01T19:20:50.827380Z"
    }
   },
   "outputs": [
    {
     "data": {
      "text/plain": [
       "30"
      ]
     },
     "execution_count": 24,
     "metadata": {},
     "output_type": "execute_result"
    }
   ],
   "source": [
    "len(dosesV.tolist())"
   ]
  },
  {
   "cell_type": "code",
   "execution_count": null,
   "metadata": {
    "execution": {
     "iopub.execute_input": "2021-02-01T19:26:11.745863Z",
     "iopub.status.busy": "2021-02-01T19:26:11.745596Z"
    }
   },
   "outputs": [
    {
     "name": "stdout",
     "output_type": "stream",
     "text": [
      "Doing model_output/scenarios_new_30/U-r15-t125000-id0-opi-107_30.csv\n",
      "Doing model_output/scenarios_new_30/L-r15-t125000-id1-opi-107_30.csv\n",
      "Doing model_output/scenarios_new_30/U-r300-t125000-id2-opi-107_30.csv\n",
      "Doing model_output/scenarios_new_30/L-r300-t125000-id3-opi-107_30.csv\n",
      "Doing model_output/scenarios_new_30/U-r15-t250000-id4-opi-107_30.csv\n"
     ]
    }
   ],
   "source": [
    "scn_results = pd.DataFrame(columns=['newdoseperweek', 'method', 'infected'])\n",
    "methods = ['opi','inc', 'pop', 'sus'] # 'opt'\n",
    "\n",
    "for met in methods:\n",
    "    for scenario_name, scenario in scenarios.items():\n",
    "        filename = f'{generated_dir}/{scenario_name}-{met}-{nnodes}_{ndays}.csv'\n",
    "        if os.path.isfile(filename):\n",
    "            print(f'Doing {filename}')\n",
    "            maxvaccrate_regional, stockpile_national, stockpile_national_constraint, control_initial = build_scenario(setup, scenario)\n",
    "            p.apply_epicourse(setup, scenario['beta_mult'])\n",
    "            \n",
    "            md = pd.read_csv(filename, index_col= 'date', parse_dates=True)\n",
    "            \n",
    "            dosesV = md[md['comp'] == 'vacc'].pivot(columns='placeID', values='value').to_numpy()\n",
    "\n",
    "            \n",
    "            eng.workspace['Vdoses'] = matlab.double(dosesV.tolist())\n",
    "            eng.workspace['beta_ratio'] = matlab.double(scenario['beta_mult'][0].tolist())\n",
    "            eng.run('main_script.m', nargout=0)\n",
    "            ens_exposed = np.array(eng.eval('ens_exposed_preprocess')).flatten()\n",
    "        \n",
    "            scn_results = pd.concat([scn_results, pd.DataFrame.from_dict({'newdoseperweek':[int(scenario_name.split('-')[2][1:])]*len(ens_exposed),\n",
    "                                                                           'method': [met]*len(ens_exposed),\n",
    "                                                                           'infected':ens_exposed.tolist(),\n",
    "                                                                           'post_sample':np.arange(len(ens_exposed)),\n",
    "                                                                           'doses': [dosesV.sum()]*len(ens_exposed),\n",
    "                                                                           'scenario-beta': [scenario_name.split('-')[0]]*len(ens_exposed),\n",
    "                                                                           'scenario-rate': [scenario_name.split('-')[1]]*len(ens_exposed),\n",
    "                                                                           'scenario-tot': [scenario_name.split('-')[2]]*len(ens_exposed),\n",
    "                                                                           'scenario': [scenario_name]*len(ens_exposed)\n",
    "                                                                         })])\n",
    "        else:\n",
    "            print(f'not found {scenario_name}')"
   ]
  },
  {
   "cell_type": "code",
   "execution_count": null,
   "metadata": {
    "execution": {
     "iopub.status.busy": "2021-02-01T18:17:17.468240Z",
     "iopub.status.idle": "2021-02-01T18:17:17.468811Z"
    }
   },
   "outputs": [],
   "source": [
    "scenarios_baseline = {}\n",
    "for scenario_name, scenario in scenarios.items():\n",
    "    if scenario_name.split('-')[0] not in scenarios_baseline:\n",
    "        print(scenario_name)\n",
    "\n",
    "        maxvaccrate_regional, stockpile_national, stockpile_national_constraint, control_initial = build_scenario(setup, scenario)\n",
    "        \n",
    "        p.apply_epicourse(setup, scenario['beta_mult'])\n",
    "\n",
    "\n",
    "        dosesV = np.zeros_like(dosesV)\n",
    "\n",
    "\n",
    "        eng.workspace['Vdoses'] = matlab.double(dosesV.tolist())\n",
    "        eng.workspace['beta_ratio'] = matlab.double(scenario['beta_mult'][0].tolist())\n",
    "        eng.run('main_script.m', nargout=0)\n",
    "        ens_exposed = np.array(eng.eval('ens_exposed_preprocess')).flatten()\n",
    "        \n",
    "        scenarios_baseline[scenario_name.split('-')[0]] = ens_exposed\n",
    "        "
   ]
  },
  {
   "cell_type": "code",
   "execution_count": null,
   "metadata": {
    "execution": {
     "iopub.status.busy": "2021-02-01T18:17:17.470857Z",
     "iopub.status.idle": "2021-02-01T18:17:17.471343Z"
    }
   },
   "outputs": [],
   "source": [
    "scn_results['bl'] = 0\n",
    "scn_results.loc[scn_results['scenario-beta'] == 'U', 'bl'] = np.tile(scenarios_baseline['U'],60)\n",
    "scn_results.loc[scn_results['scenario-beta'] == 'L', 'bl'] = np.tile(scenarios_baseline['L'],60)"
   ]
  },
  {
   "cell_type": "code",
   "execution_count": null,
   "metadata": {
    "execution": {
     "iopub.status.busy": "2021-02-01T18:17:17.472633Z",
     "iopub.status.idle": "2021-02-01T18:17:17.473188Z"
    }
   },
   "outputs": [],
   "source": [
    "scn_results['averted'] = scn_results['bl'] - scn_results['infected']\n",
    "scn_results['avertedpervacc'] = scn_results['averted']/scn_results['doses']"
   ]
  },
  {
   "cell_type": "code",
   "execution_count": null,
   "metadata": {
    "execution": {
     "iopub.status.busy": "2021-02-01T18:17:17.474747Z",
     "iopub.status.idle": "2021-02-01T18:17:17.475239Z"
    }
   },
   "outputs": [],
   "source": [
    "scn_results.to_csv('{generated_dir}/all_summary.csv')"
   ]
  },
  {
   "cell_type": "code",
   "execution_count": null,
   "metadata": {},
   "outputs": [],
   "source": []
  }
 ],
 "metadata": {
  "kernelspec": {
   "display_name": "Python (ocp-covid)",
   "language": "python",
   "name": "ocp-covid"
  },
  "language_info": {
   "codemirror_mode": {
    "name": "ipython",
    "version": 3
   },
   "file_extension": ".py",
   "mimetype": "text/x-python",
   "name": "python",
   "nbconvert_exporter": "python",
   "pygments_lexer": "ipython3",
   "version": "3.7.9"
  }
 },
 "nbformat": 4,
 "nbformat_minor": 4
}
