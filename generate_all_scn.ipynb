{
 "cells": [
  {
   "cell_type": "code",
   "execution_count": 1,
   "metadata": {
    "execution": {
     "iopub.execute_input": "2021-02-02T17:55:29.795067Z",
     "iopub.status.busy": "2021-02-02T17:55:29.794796Z",
     "iopub.status.idle": "2021-02-02T17:55:30.976279Z",
     "shell.execute_reply": "2021-02-02T17:55:30.975761Z",
     "shell.execute_reply.started": "2021-02-02T17:55:29.794995Z"
    }
   },
   "outputs": [
    {
     "name": "stdout",
     "output_type": "stream",
     "text": [
      "Loaded Italy Setup with 107 nodes.\n",
      "Loaded Italy Setup with 107 nodes.\n"
     ]
    },
    {
     "data": {
      "text/plain": [
       "dict_keys(['U-r15-t125000-id0', 'L-r15-t125000-id1', 'U-r150-t125000-id2', 'L-r150-t125000-id3', 'U-r15-t250000-id4', 'L-r15-t250000-id5', 'U-r150-t250000-id6', 'L-r150-t250000-id7', 'U-r15-t479700-id8', 'L-r15-t479700-id9', 'U-r150-t479700-id10', 'L-r150-t479700-id11', 'U-r15-t1000000-id12', 'L-r15-t1000000-id13', 'U-r150-t1000000-id14', 'L-r150-t1000000-id15'])"
      ]
     },
     "execution_count": 1,
     "metadata": {},
     "output_type": "execute_result"
    }
   ],
   "source": [
    "import copy\n",
    "import matplotlib as mpl\n",
    "import matplotlib.pyplot as plt\n",
    "import numpy as np\n",
    "import pandas as pd\n",
    "import networkx\n",
    "from ItalySetup import ItalySetup\n",
    "from covidOCP import COVIDVaccinationOCP, COVIDParametersOCP\n",
    "from main import pick_scenario, build_scenario\n",
    "import seaborn as sns\n",
    "import datetime\n",
    "import pickle\n",
    "import os\n",
    "\n",
    "nx = 9\n",
    "states_names = ['S', 'E', 'P', 'I', 'A', 'Q', 'H', 'R', 'V']\n",
    "when = 'future'\n",
    "file_prefix = f'week'\n",
    "outdir = 'helvetios-runs/2021-02-02-107_30/'\n",
    "\n",
    "generated_dir = 'model_output/scenarios_102_30'\n",
    "\n",
    "n_int_steps = 6\n",
    "nnodes = 107  # nodes\n",
    "ndays_ocp = 30\n",
    "ndays = 30\n",
    "\n",
    "setup = ItalySetup(nnodes, ndays, when)\n",
    "setup_ocp = ItalySetup(nnodes, ndays_ocp, when)\n",
    "M = setup.nnodes\n",
    "N = len(setup.model_days) - 1\n",
    "\n",
    "with open(f'italy-data/parameters_{nnodes}_{when}.pkl', 'rb') as inp:\n",
    "    p = pickle.load(inp)\n",
    "    \n",
    "os.makedirs(f'{generated_dir}', exist_ok=True)\n",
    "\n",
    "scenarios = {pick_scenario(setup, i)['name']:pick_scenario(setup, i) for i in np.arange(16)}\n",
    "scenarios.keys()"
   ]
  },
  {
   "cell_type": "code",
   "execution_count": 2,
   "metadata": {
    "execution": {
     "iopub.execute_input": "2021-02-01T17:50:47.672032Z",
     "iopub.status.busy": "2021-02-01T17:50:47.671808Z",
     "iopub.status.idle": "2021-02-01T17:50:47.675103Z",
     "shell.execute_reply": "2021-02-01T17:50:47.674516Z",
     "shell.execute_reply.started": "2021-02-01T17:50:47.672006Z"
    }
   },
   "outputs": [],
   "source": [
    "# Choose a subset of scenarios:\n",
    "#pick = 'L-r15'\n",
    "#scenarios = {k:v for (k,v) in scenarios.items() if pick in k}\n",
    "#print(len(scenarios))"
   ]
  },
  {
   "cell_type": "code",
   "execution_count": 4,
   "metadata": {
    "execution": {
     "iopub.execute_input": "2021-02-02T17:56:16.606067Z",
     "iopub.status.busy": "2021-02-02T17:56:16.605804Z",
     "iopub.status.idle": "2021-02-02T18:00:23.080473Z",
     "shell.execute_reply": "2021-02-02T18:00:23.079534Z",
     "shell.execute_reply.started": "2021-02-02T17:56:16.606038Z"
    },
    "scrolled": true
   },
   "outputs": [
    {
     "name": "stdout",
     "output_type": "stream",
     "text": [
      "YES helvetios-runs/2021-02-02-107_30/week-U-r15-t125000-id0-opt-107_30.csv\n"
     ]
    },
    {
     "name": "stderr",
     "output_type": "stream",
     "text": [
      " 10%|█         | 3/29 [00:00<00:01, 20.62it/s]"
     ]
    },
    {
     "name": "stdout",
     "output_type": "stream",
     "text": [
      "===> Integrating for model_output/scenarios_102_30/U-r15-t125000-id0-opi-107_30\n"
     ]
    },
    {
     "name": "stderr",
     "output_type": "stream",
     "text": [
      "100%|██████████| 29/29 [00:01<00:00, 20.69it/s]\n",
      "  7%|▋         | 2/29 [00:00<00:01, 18.59it/s]"
     ]
    },
    {
     "name": "stdout",
     "output_type": "stream",
     "text": [
      "--> DONE U-r15-t125000-id0\n",
      "===> Integrating for model_output/scenarios_102_30/U-r15-t125000-id0-novacc-107_30\n"
     ]
    },
    {
     "name": "stderr",
     "output_type": "stream",
     "text": [
      "100%|██████████| 29/29 [00:01<00:00, 20.04it/s]\n"
     ]
    },
    {
     "name": "stdout",
     "output_type": "stream",
     "text": [
      "YES helvetios-runs/2021-02-02-107_30/week-L-r15-t125000-id1-opt-107_30.csv\n"
     ]
    },
    {
     "name": "stderr",
     "output_type": "stream",
     "text": [
      " 10%|█         | 3/29 [00:00<00:01, 20.07it/s]"
     ]
    },
    {
     "name": "stdout",
     "output_type": "stream",
     "text": [
      "===> Integrating for model_output/scenarios_102_30/L-r15-t125000-id1-opi-107_30\n"
     ]
    },
    {
     "name": "stderr",
     "output_type": "stream",
     "text": [
      "100%|██████████| 29/29 [00:01<00:00, 20.56it/s]\n",
      " 10%|█         | 3/29 [00:00<00:01, 20.73it/s]"
     ]
    },
    {
     "name": "stdout",
     "output_type": "stream",
     "text": [
      "--> DONE L-r15-t125000-id1\n",
      "===> Integrating for model_output/scenarios_102_30/L-r15-t125000-id1-novacc-107_30\n"
     ]
    },
    {
     "name": "stderr",
     "output_type": "stream",
     "text": [
      "100%|██████████| 29/29 [00:01<00:00, 20.33it/s]\n"
     ]
    },
    {
     "name": "stdout",
     "output_type": "stream",
     "text": [
      "YES helvetios-runs/2021-02-02-107_30/week-U-r150-t125000-id2-opt-107_30.csv\n"
     ]
    },
    {
     "name": "stderr",
     "output_type": "stream",
     "text": [
      " 10%|█         | 3/29 [00:00<00:01, 21.88it/s]"
     ]
    },
    {
     "name": "stdout",
     "output_type": "stream",
     "text": [
      "===> Integrating for model_output/scenarios_102_30/U-r150-t125000-id2-opi-107_30\n"
     ]
    },
    {
     "name": "stderr",
     "output_type": "stream",
     "text": [
      "100%|██████████| 29/29 [00:01<00:00, 20.24it/s]\n"
     ]
    },
    {
     "name": "stdout",
     "output_type": "stream",
     "text": [
      "--> DONE U-r150-t125000-id2\n",
      "YES helvetios-runs/2021-02-02-107_30/week-L-r150-t125000-id3-opt-107_30.csv\n"
     ]
    },
    {
     "name": "stderr",
     "output_type": "stream",
     "text": [
      "  7%|▋         | 2/29 [00:00<00:01, 19.74it/s]"
     ]
    },
    {
     "name": "stdout",
     "output_type": "stream",
     "text": [
      "===> Integrating for model_output/scenarios_102_30/L-r150-t125000-id3-opi-107_30\n"
     ]
    },
    {
     "name": "stderr",
     "output_type": "stream",
     "text": [
      "100%|██████████| 29/29 [00:01<00:00, 19.66it/s]\n"
     ]
    },
    {
     "name": "stdout",
     "output_type": "stream",
     "text": [
      "--> DONE L-r150-t125000-id3\n",
      "YES helvetios-runs/2021-02-02-107_30/week-U-r15-t250000-id4-opt-107_30.csv\n"
     ]
    },
    {
     "name": "stderr",
     "output_type": "stream",
     "text": [
      " 10%|█         | 3/29 [00:00<00:01, 20.90it/s]"
     ]
    },
    {
     "name": "stdout",
     "output_type": "stream",
     "text": [
      "===> Integrating for model_output/scenarios_102_30/U-r15-t250000-id4-opi-107_30\n"
     ]
    },
    {
     "name": "stderr",
     "output_type": "stream",
     "text": [
      "100%|██████████| 29/29 [00:01<00:00, 21.30it/s]\n"
     ]
    },
    {
     "name": "stdout",
     "output_type": "stream",
     "text": [
      "--> DONE U-r15-t250000-id4\n",
      "YES helvetios-runs/2021-02-02-107_30/week-L-r15-t250000-id5-opt-107_30.csv\n"
     ]
    },
    {
     "name": "stderr",
     "output_type": "stream",
     "text": [
      " 10%|█         | 3/29 [00:00<00:01, 22.64it/s]"
     ]
    },
    {
     "name": "stdout",
     "output_type": "stream",
     "text": [
      "===> Integrating for model_output/scenarios_102_30/L-r15-t250000-id5-opi-107_30\n"
     ]
    },
    {
     "name": "stderr",
     "output_type": "stream",
     "text": [
      "100%|██████████| 29/29 [00:01<00:00, 20.65it/s]\n"
     ]
    },
    {
     "name": "stdout",
     "output_type": "stream",
     "text": [
      "--> DONE L-r15-t250000-id5\n",
      "YES helvetios-runs/2021-02-02-107_30/week-U-r150-t250000-id6-opt-107_30.csv\n"
     ]
    },
    {
     "name": "stderr",
     "output_type": "stream",
     "text": [
      " 10%|█         | 3/29 [00:00<00:01, 22.32it/s]"
     ]
    },
    {
     "name": "stdout",
     "output_type": "stream",
     "text": [
      "===> Integrating for model_output/scenarios_102_30/U-r150-t250000-id6-opi-107_30\n"
     ]
    },
    {
     "name": "stderr",
     "output_type": "stream",
     "text": [
      "100%|██████████| 29/29 [00:01<00:00, 21.60it/s]\n"
     ]
    },
    {
     "name": "stdout",
     "output_type": "stream",
     "text": [
      "--> DONE U-r150-t250000-id6\n",
      "YES helvetios-runs/2021-02-02-107_30/week-L-r150-t250000-id7-opt-107_30.csv\n"
     ]
    },
    {
     "name": "stderr",
     "output_type": "stream",
     "text": [
      " 10%|█         | 3/29 [00:00<00:01, 20.27it/s]"
     ]
    },
    {
     "name": "stdout",
     "output_type": "stream",
     "text": [
      "===> Integrating for model_output/scenarios_102_30/L-r150-t250000-id7-opi-107_30\n"
     ]
    },
    {
     "name": "stderr",
     "output_type": "stream",
     "text": [
      "100%|██████████| 29/29 [00:01<00:00, 21.94it/s]\n"
     ]
    },
    {
     "name": "stdout",
     "output_type": "stream",
     "text": [
      "--> DONE L-r150-t250000-id7\n",
      "YES helvetios-runs/2021-02-02-107_30/week-U-r15-t479700-id8-opt-107_30.csv\n"
     ]
    },
    {
     "name": "stderr",
     "output_type": "stream",
     "text": [
      " 10%|█         | 3/29 [00:00<00:01, 19.96it/s]"
     ]
    },
    {
     "name": "stdout",
     "output_type": "stream",
     "text": [
      "===> Integrating for model_output/scenarios_102_30/U-r15-t479700-id8-opi-107_30\n"
     ]
    },
    {
     "name": "stderr",
     "output_type": "stream",
     "text": [
      "100%|██████████| 29/29 [00:01<00:00, 20.52it/s]\n"
     ]
    },
    {
     "name": "stdout",
     "output_type": "stream",
     "text": [
      "--> DONE U-r15-t479700-id8\n",
      "YES helvetios-runs/2021-02-02-107_30/week-L-r15-t479700-id9-opt-107_30.csv\n"
     ]
    },
    {
     "name": "stderr",
     "output_type": "stream",
     "text": [
      " 10%|█         | 3/29 [00:00<00:01, 20.31it/s]"
     ]
    },
    {
     "name": "stdout",
     "output_type": "stream",
     "text": [
      "===> Integrating for model_output/scenarios_102_30/L-r15-t479700-id9-opi-107_30\n"
     ]
    },
    {
     "name": "stderr",
     "output_type": "stream",
     "text": [
      "100%|██████████| 29/29 [00:01<00:00, 21.31it/s]\n"
     ]
    },
    {
     "name": "stdout",
     "output_type": "stream",
     "text": [
      "--> DONE L-r15-t479700-id9\n",
      "YES helvetios-runs/2021-02-02-107_30/week-U-r150-t479700-id10-opt-107_30.csv\n"
     ]
    },
    {
     "name": "stderr",
     "output_type": "stream",
     "text": [
      " 10%|█         | 3/29 [00:00<00:01, 20.52it/s]"
     ]
    },
    {
     "name": "stdout",
     "output_type": "stream",
     "text": [
      "===> Integrating for model_output/scenarios_102_30/U-r150-t479700-id10-opi-107_30\n"
     ]
    },
    {
     "name": "stderr",
     "output_type": "stream",
     "text": [
      "100%|██████████| 29/29 [00:01<00:00, 21.19it/s]\n"
     ]
    },
    {
     "name": "stdout",
     "output_type": "stream",
     "text": [
      "--> DONE U-r150-t479700-id10\n",
      "YES helvetios-runs/2021-02-02-107_30/week-L-r150-t479700-id11-opt-107_30.csv\n"
     ]
    },
    {
     "name": "stderr",
     "output_type": "stream",
     "text": [
      "  7%|▋         | 2/29 [00:00<00:01, 19.89it/s]"
     ]
    },
    {
     "name": "stdout",
     "output_type": "stream",
     "text": [
      "===> Integrating for model_output/scenarios_102_30/L-r150-t479700-id11-opi-107_30\n"
     ]
    },
    {
     "name": "stderr",
     "output_type": "stream",
     "text": [
      "100%|██████████| 29/29 [00:01<00:00, 21.82it/s]\n"
     ]
    },
    {
     "name": "stdout",
     "output_type": "stream",
     "text": [
      "--> DONE L-r150-t479700-id11\n",
      "YES helvetios-runs/2021-02-02-107_30/week-U-r15-t1000000-id12-opt-107_30.csv\n"
     ]
    },
    {
     "name": "stderr",
     "output_type": "stream",
     "text": [
      "  7%|▋         | 2/29 [00:00<00:01, 19.79it/s]"
     ]
    },
    {
     "name": "stdout",
     "output_type": "stream",
     "text": [
      "===> Integrating for model_output/scenarios_102_30/U-r15-t1000000-id12-opi-107_30\n"
     ]
    },
    {
     "name": "stderr",
     "output_type": "stream",
     "text": [
      "100%|██████████| 29/29 [00:01<00:00, 20.23it/s]\n"
     ]
    },
    {
     "name": "stdout",
     "output_type": "stream",
     "text": [
      "--> DONE U-r15-t1000000-id12\n",
      "YES helvetios-runs/2021-02-02-107_30/week-L-r15-t1000000-id13-opt-107_30.csv\n"
     ]
    },
    {
     "name": "stderr",
     "output_type": "stream",
     "text": [
      " 10%|█         | 3/29 [00:00<00:01, 20.65it/s]"
     ]
    },
    {
     "name": "stdout",
     "output_type": "stream",
     "text": [
      "===> Integrating for model_output/scenarios_102_30/L-r15-t1000000-id13-opi-107_30\n"
     ]
    },
    {
     "name": "stderr",
     "output_type": "stream",
     "text": [
      "100%|██████████| 29/29 [00:01<00:00, 21.31it/s]\n"
     ]
    },
    {
     "name": "stdout",
     "output_type": "stream",
     "text": [
      "--> DONE L-r15-t1000000-id13\n",
      "YES helvetios-runs/2021-02-02-107_30/week-U-r150-t1000000-id14-opt-107_30.csv\n"
     ]
    },
    {
     "name": "stderr",
     "output_type": "stream",
     "text": [
      "  7%|▋         | 2/29 [00:00<00:01, 18.86it/s]"
     ]
    },
    {
     "name": "stdout",
     "output_type": "stream",
     "text": [
      "===> Integrating for model_output/scenarios_102_30/U-r150-t1000000-id14-opi-107_30\n"
     ]
    },
    {
     "name": "stderr",
     "output_type": "stream",
     "text": [
      "100%|██████████| 29/29 [00:01<00:00, 21.60it/s]\n"
     ]
    },
    {
     "name": "stdout",
     "output_type": "stream",
     "text": [
      "--> DONE U-r150-t1000000-id14\n",
      "NOT helvetios-runs/2021-02-02-107_30/week-L-r150-t1000000-id15-opt-107_30.csv\n"
     ]
    }
   ],
   "source": [
    "scenarios_opt = {}\n",
    "scenarios_baseline = {}\n",
    "## Re-integrate vacc\n",
    "for scenario_name, scenario in scenarios.items():\n",
    "    fname = f\"{outdir}{file_prefix}-{scenario_name}-opt-{nnodes}_{ndays_ocp}.csv\"  # '-'.join(scenario_name.split('-')[:-1])\n",
    "    try:\n",
    "        md = pd.read_csv(fname, index_col= 'date', parse_dates=True)\n",
    "        print(f'YES {fname}')\n",
    "    \n",
    "        # Build scenario\n",
    "        maxvaccrate_regional, delivery_national, stockpile_national_constraint, control_initial = build_scenario(setup, scenario)\n",
    "        M = setup.nnodes\n",
    "        N = setup.ndays - 1\n",
    "        control_initial = np.zeros((M, N))\n",
    "        unvac_nd = np.copy(setup.pop_node)\n",
    "        stockpile = 0\n",
    "        for k in range(ndays_ocp - 1):\n",
    "            stockpile += delivery_national[k]\n",
    "            for nodename in md.place.unique():\n",
    "                nd = setup.ind2name.index(nodename)\n",
    "                to_allocate = md[(md['place'] == nodename) & (md['comp'] == 'vacc')].iloc[k]['value']\n",
    "                to_allocate = min(to_allocate, maxvaccrate_regional[nd, k], unvac_nd[nd], stockpile)\n",
    "                control_initial[nd, k] = to_allocate\n",
    "                stockpile -= to_allocate\n",
    "                unvac_nd[nd] -= to_allocate\n",
    "        p.apply_epicourse(setup, scenario['beta_mult'])\n",
    "        # END Build scenario\n",
    "\n",
    "        results, state_initial, yell, mob = COVIDVaccinationOCP.integrate(N,\n",
    "                                                                          setup=setup,\n",
    "                                                                          parameters=p,\n",
    "                                                                          controls=control_initial,\n",
    "                                                                          save_to=f'{generated_dir}/{scenario_name}-opi-{nnodes}_{ndays}',\n",
    "                                                                          n_rk4_steps=n_int_steps)\n",
    "        results.set_index('date', drop=True, inplace=True)\n",
    "        scenarios_opt[scenario_name] = scenario\n",
    "        print(f'--> DONE {scenario_name}')\n",
    "\n",
    "        if scenario_name.split('-')[0] not in scenarios_baseline:\n",
    "            control_initial = np.zeros((M, N))\n",
    "            # Generate NO vaccination scenarios\n",
    "            results, state_initial, yell, mob = COVIDVaccinationOCP.integrate(N,\n",
    "                                                                      setup=setup,\n",
    "                                                                      parameters=p,\n",
    "                                                                      controls=control_initial,\n",
    "                                                                      save_to=f'{generated_dir}/{scenario_name}-novacc-{nnodes}_{ndays}',\n",
    "                                                                      n_rk4_steps=n_int_steps)\n",
    "            scenarios_baseline[scenario_name.split('-')[0]] = pd.read_csv(f'{generated_dir}/{scenario_name}-novacc-{nnodes}_{ndays}.csv', \n",
    "                                                                         index_col= 'date', parse_dates=True)\n",
    "\n",
    "\n",
    "    except FileNotFoundError:\n",
    "        print(f'NOT {fname}')"
   ]
  },
  {
   "cell_type": "code",
   "execution_count": null,
   "metadata": {},
   "outputs": [],
   "source": []
  },
  {
   "cell_type": "code",
   "execution_count": 5,
   "metadata": {
    "execution": {
     "iopub.execute_input": "2021-02-02T18:00:23.082304Z",
     "iopub.status.busy": "2021-02-02T18:00:23.082115Z",
     "iopub.status.idle": "2021-02-02T18:01:25.024984Z",
     "shell.execute_reply": "2021-02-02T18:01:25.023252Z",
     "shell.execute_reply.started": "2021-02-02T18:00:23.082286Z"
    },
    "scrolled": true
   },
   "outputs": [
    {
     "name": "stdout",
     "output_type": "stream",
     "text": [
      "===> Integrating for model_output/scenarios_102_30/L-r150-t479700-id11-inc-107_30===> Integrating for model_output/scenarios_102_30/U-r150-t250000-id6-inc-107_30===> Integrating for model_output/scenarios_102_30/U-r15-t250000-id4-inc-107_30\n",
      "\n",
      "\n",
      "===> Integrating for model_output/scenarios_102_30/U-r150-t1000000-id14-inc-107_30===> Integrating for model_output/scenarios_102_30/L-r150-t250000-id7-inc-107_30\n"
     ]
    },
    {
     "name": "stderr",
     "output_type": "stream",
     "text": [
      "  0%|          | 0/29 [00:00<?, ?it/s]"
     ]
    },
    {
     "name": "stdout",
     "output_type": "stream",
     "text": [
      "===> Integrating for model_output/scenarios_102_30/U-r15-t479700-id8-inc-107_30\n"
     ]
    },
    {
     "name": "stderr",
     "output_type": "stream",
     "text": [
      "  0%|          | 0/29 [00:00<?, ?it/s]"
     ]
    },
    {
     "name": "stdout",
     "output_type": "stream",
     "text": [
      "\n",
      "===> Integrating for model_output/scenarios_102_30/U-r150-t479700-id10-inc-107_30"
     ]
    },
    {
     "name": "stderr",
     "output_type": "stream",
     "text": [
      "  0%|          | 0/29 [00:00<?, ?it/s]"
     ]
    },
    {
     "name": "stdout",
     "output_type": "stream",
     "text": [
      "===> Integrating for model_output/scenarios_102_30/U-r150-t125000-id2-inc-107_30\n",
      "\n"
     ]
    },
    {
     "name": "stderr",
     "output_type": "stream",
     "text": [
      "  0%|          | 0/29 [00:00<?, ?it/s]"
     ]
    },
    {
     "name": "stdout",
     "output_type": "stream",
     "text": [
      "===> Integrating for model_output/scenarios_102_30/L-r150-t125000-id3-inc-107_30"
     ]
    },
    {
     "name": "stderr",
     "output_type": "stream",
     "text": [
      "  0%|          | 0/29 [00:00<?, ?it/s]"
     ]
    },
    {
     "name": "stdout",
     "output_type": "stream",
     "text": [
      "===> Integrating for model_output/scenarios_102_30/L-r15-t479700-id9-inc-107_30===> Integrating for model_output/scenarios_102_30/L-r15-t1000000-id13-inc-107_30\n",
      "\n"
     ]
    },
    {
     "name": "stderr",
     "output_type": "stream",
     "text": [
      "  0%|          | 0/29 [00:00<?, ?it/s]"
     ]
    },
    {
     "name": "stdout",
     "output_type": "stream",
     "text": [
      "\n",
      "===> Integrating for model_output/scenarios_102_30/L-r15-t250000-id5-inc-107_30"
     ]
    },
    {
     "name": "stderr",
     "output_type": "stream",
     "text": [
      "  0%|          | 0/29 [00:00<?, ?it/s]"
     ]
    },
    {
     "name": "stdout",
     "output_type": "stream",
     "text": [
      "\n"
     ]
    },
    {
     "name": "stderr",
     "output_type": "stream",
     "text": [
      "  0%|          | 0/29 [00:00<?, ?it/s]"
     ]
    },
    {
     "name": "stdout",
     "output_type": "stream",
     "text": [
      "===> Integrating for model_output/scenarios_102_30/U-r15-t1000000-id12-inc-107_30===> Integrating for model_output/scenarios_102_30/U-r15-t125000-id0-inc-107_30"
     ]
    },
    {
     "name": "stderr",
     "output_type": "stream",
     "text": [
      "  0%|          | 0/29 [00:00<?, ?it/s]"
     ]
    },
    {
     "name": "stdout",
     "output_type": "stream",
     "text": [
      "\n",
      "\n"
     ]
    },
    {
     "name": "stderr",
     "output_type": "stream",
     "text": [
      "  0%|          | 0/29 [00:00<?, ?it/s]"
     ]
    },
    {
     "name": "stdout",
     "output_type": "stream",
     "text": [
      "===> Integrating for model_output/scenarios_102_30/L-r15-t125000-id1-inc-107_30"
     ]
    },
    {
     "name": "stderr",
     "output_type": "stream",
     "text": [
      "  0%|          | 0/29 [00:00<?, ?it/s]"
     ]
    },
    {
     "name": "stdout",
     "output_type": "stream",
     "text": [
      "\n"
     ]
    },
    {
     "name": "stderr",
     "output_type": "stream",
     "text": [
      "100%|██████████| 29/29 [00:02<00:00,  9.84it/s]\n",
      "100%|██████████| 29/29 [00:02<00:00,  9.79it/s]\n",
      "100%|██████████| 29/29 [00:02<00:00,  9.80it/s]\n",
      "100%|██████████| 29/29 [00:02<00:00,  9.78it/s]\n",
      "100%|██████████| 29/29 [00:02<00:00,  9.69it/s]\n",
      "100%|██████████| 29/29 [00:03<00:00,  9.62it/s]\n",
      "100%|██████████| 29/29 [00:03<00:00,  9.65it/s]\n",
      "100%|██████████| 29/29 [00:03<00:00,  9.63it/s]\n",
      "100%|██████████| 29/29 [00:03<00:00,  9.60it/s]\n",
      "100%|██████████| 29/29 [00:03<00:00,  9.58it/s]\n",
      "100%|██████████| 29/29 [00:03<00:00,  9.50it/s]\n",
      "100%|██████████| 29/29 [00:03<00:00,  9.54it/s]\n",
      "100%|██████████| 29/29 [00:03<00:00,  9.48it/s]\n",
      "100%|██████████| 29/29 [00:03<00:00,  9.52it/s]\n",
      "100%|██████████| 29/29 [00:03<00:00,  9.49it/s]\n"
     ]
    },
    {
     "name": "stdout",
     "output_type": "stream",
     "text": [
      "===> Integrating for model_output/scenarios_102_30/U-r150-t479700-id10-sus-107_30\n"
     ]
    },
    {
     "name": "stderr",
     "output_type": "stream",
     "text": [
      "  0%|          | 0/29 [00:00<?, ?it/s]"
     ]
    },
    {
     "name": "stdout",
     "output_type": "stream",
     "text": [
      "===> Integrating for model_output/scenarios_102_30/U-r150-t125000-id2-sus-107_30\n"
     ]
    },
    {
     "name": "stderr",
     "output_type": "stream",
     "text": [
      "  0%|          | 0/29 [00:00<?, ?it/s]"
     ]
    },
    {
     "name": "stdout",
     "output_type": "stream",
     "text": [
      "===> Integrating for model_output/scenarios_102_30/L-r150-t479700-id11-sus-107_30\n"
     ]
    },
    {
     "name": "stderr",
     "output_type": "stream",
     "text": [
      "  0%|          | 0/29 [00:00<?, ?it/s]"
     ]
    },
    {
     "name": "stdout",
     "output_type": "stream",
     "text": [
      "===> Integrating for model_output/scenarios_102_30/L-r150-t250000-id7-sus-107_30\n",
      "===> Integrating for model_output/scenarios_102_30/U-r15-t479700-id8-sus-107_30\n"
     ]
    },
    {
     "name": "stderr",
     "output_type": "stream",
     "text": [
      "  0%|          | 0/29 [00:00<?, ?it/s]"
     ]
    },
    {
     "name": "stdout",
     "output_type": "stream",
     "text": [
      "===> Integrating for model_output/scenarios_102_30/U-r15-t250000-id4-sus-107_30\n"
     ]
    },
    {
     "name": "stderr",
     "output_type": "stream",
     "text": [
      "  0%|          | 0/29 [00:00<?, ?it/s]"
     ]
    },
    {
     "name": "stdout",
     "output_type": "stream",
     "text": [
      "===> Integrating for model_output/scenarios_102_30/L-r15-t479700-id9-sus-107_30\n"
     ]
    },
    {
     "name": "stderr",
     "output_type": "stream",
     "text": [
      "  0%|          | 0/29 [00:00<?, ?it/s]"
     ]
    },
    {
     "name": "stdout",
     "output_type": "stream",
     "text": [
      "===> Integrating for model_output/scenarios_102_30/U-r150-t1000000-id14-sus-107_30\n",
      "===> Integrating for model_output/scenarios_102_30/L-r15-t125000-id1-sus-107_30\n"
     ]
    },
    {
     "name": "stderr",
     "output_type": "stream",
     "text": [
      "  0%|          | 0/29 [00:00<?, ?it/s]"
     ]
    },
    {
     "name": "stdout",
     "output_type": "stream",
     "text": [
      "===> Integrating for model_output/scenarios_102_30/L-r150-t125000-id3-sus-107_30"
     ]
    },
    {
     "name": "stderr",
     "output_type": "stream",
     "text": [
      "  0%|          | 0/29 [00:00<?, ?it/s]"
     ]
    },
    {
     "name": "stdout",
     "output_type": "stream",
     "text": [
      "\n"
     ]
    },
    {
     "name": "stderr",
     "output_type": "stream",
     "text": [
      "  3%|▎         | 1/29 [00:00<00:03,  8.43it/s]"
     ]
    },
    {
     "name": "stdout",
     "output_type": "stream",
     "text": [
      "===> Integrating for model_output/scenarios_102_30/L-r15-t1000000-id13-sus-107_30\n"
     ]
    },
    {
     "name": "stderr",
     "output_type": "stream",
     "text": [
      "  0%|          | 0/29 [00:00<?, ?it/s]"
     ]
    },
    {
     "name": "stdout",
     "output_type": "stream",
     "text": [
      "===> Integrating for model_output/scenarios_102_30/U-r150-t250000-id6-sus-107_30\n"
     ]
    },
    {
     "name": "stderr",
     "output_type": "stream",
     "text": [
      "  0%|          | 0/29 [00:00<?, ?it/s]"
     ]
    },
    {
     "name": "stdout",
     "output_type": "stream",
     "text": [
      "===> Integrating for model_output/scenarios_102_30/U-r15-t1000000-id12-sus-107_30\n"
     ]
    },
    {
     "name": "stderr",
     "output_type": "stream",
     "text": [
      "  3%|▎         | 1/29 [00:00<00:03,  8.58it/s]"
     ]
    },
    {
     "name": "stdout",
     "output_type": "stream",
     "text": [
      "===> Integrating for model_output/scenarios_102_30/U-r15-t125000-id0-sus-107_30\n"
     ]
    },
    {
     "name": "stderr",
     "output_type": "stream",
     "text": [
      "  3%|▎         | 1/29 [00:00<00:03,  8.88it/s]"
     ]
    },
    {
     "name": "stdout",
     "output_type": "stream",
     "text": [
      "===> Integrating for model_output/scenarios_102_30/L-r15-t250000-id5-sus-107_30"
     ]
    },
    {
     "name": "stderr",
     "output_type": "stream",
     "text": [
      "  3%|▎         | 1/29 [00:00<00:03,  8.92it/s]"
     ]
    },
    {
     "name": "stdout",
     "output_type": "stream",
     "text": [
      "\n"
     ]
    },
    {
     "name": "stderr",
     "output_type": "stream",
     "text": [
      "100%|██████████| 29/29 [00:03<00:00,  8.25it/s]\n",
      "100%|██████████| 29/29 [00:03<00:00,  8.29it/s]\n",
      "100%|██████████| 29/29 [00:03<00:00,  8.36it/s]\n",
      "100%|██████████| 29/29 [00:03<00:00,  8.28it/s]\n",
      "100%|██████████| 29/29 [00:03<00:00,  8.35it/s]\n",
      "100%|██████████| 29/29 [00:03<00:00,  8.23it/s]\n",
      "100%|██████████| 29/29 [00:03<00:00,  8.26it/s]\n",
      "100%|██████████| 29/29 [00:03<00:00,  8.15it/s]\n",
      "100%|██████████| 29/29 [00:03<00:00,  8.27it/s]\n",
      "100%|██████████| 29/29 [00:03<00:00,  8.21it/s]\n",
      "100%|██████████| 29/29 [00:03<00:00,  8.31it/s]\n",
      "100%|██████████| 29/29 [00:03<00:00,  8.20it/s]\n",
      "100%|██████████| 29/29 [00:03<00:00,  8.23it/s]\n",
      "100%|██████████| 29/29 [00:03<00:00,  7.97it/s]\n",
      "100%|██████████| 29/29 [00:03<00:00,  8.17it/s]\n"
     ]
    },
    {
     "name": "stdout",
     "output_type": "stream",
     "text": [
      "===> Integrating for model_output/scenarios_102_30/U-r150-t479700-id10-pop-107_30\n"
     ]
    },
    {
     "name": "stderr",
     "output_type": "stream",
     "text": [
      "  0%|          | 0/29 [00:00<?, ?it/s]"
     ]
    },
    {
     "name": "stdout",
     "output_type": "stream",
     "text": [
      "===> Integrating for model_output/scenarios_102_30/U-r15-t1000000-id12-pop-107_30\n"
     ]
    },
    {
     "name": "stderr",
     "output_type": "stream",
     "text": [
      "  0%|          | 0/29 [00:00<?, ?it/s]"
     ]
    },
    {
     "name": "stdout",
     "output_type": "stream",
     "text": [
      "===> Integrating for model_output/scenarios_102_30/L-r15-t479700-id9-pop-107_30\n"
     ]
    },
    {
     "name": "stderr",
     "output_type": "stream",
     "text": [
      "  0%|          | 0/29 [00:00<?, ?it/s]"
     ]
    },
    {
     "name": "stdout",
     "output_type": "stream",
     "text": [
      "===> Integrating for model_output/scenarios_102_30/U-r15-t250000-id4-pop-107_30\n"
     ]
    },
    {
     "name": "stderr",
     "output_type": "stream",
     "text": [
      "  0%|          | 0/29 [00:00<?, ?it/s]"
     ]
    },
    {
     "name": "stdout",
     "output_type": "stream",
     "text": [
      "===> Integrating for model_output/scenarios_102_30/L-r150-t125000-id3-pop-107_30\n",
      "===> Integrating for model_output/scenarios_102_30/U-r150-t125000-id2-pop-107_30"
     ]
    },
    {
     "name": "stderr",
     "output_type": "stream",
     "text": [
      "  0%|          | 0/29 [00:00<?, ?it/s]"
     ]
    },
    {
     "name": "stdout",
     "output_type": "stream",
     "text": [
      "\n",
      "===> Integrating for model_output/scenarios_102_30/U-r15-t479700-id8-pop-107_30"
     ]
    },
    {
     "name": "stderr",
     "output_type": "stream",
     "text": [
      "  3%|▎         | 1/29 [00:00<00:03,  8.21it/s]"
     ]
    },
    {
     "name": "stdout",
     "output_type": "stream",
     "text": [
      "\n"
     ]
    },
    {
     "name": "stderr",
     "output_type": "stream",
     "text": [
      "  0%|          | 0/29 [00:00<?, ?it/s]"
     ]
    },
    {
     "name": "stdout",
     "output_type": "stream",
     "text": [
      "===> Integrating for model_output/scenarios_102_30/L-r150-t479700-id11-pop-107_30\n"
     ]
    },
    {
     "name": "stderr",
     "output_type": "stream",
     "text": [
      "  0%|          | 0/29 [00:00<?, ?it/s]"
     ]
    },
    {
     "name": "stdout",
     "output_type": "stream",
     "text": [
      "===> Integrating for model_output/scenarios_102_30/L-r150-t250000-id7-pop-107_30"
     ]
    },
    {
     "name": "stderr",
     "output_type": "stream",
     "text": [
      "  0%|          | 0/29 [00:00<?, ?it/s]"
     ]
    },
    {
     "name": "stdout",
     "output_type": "stream",
     "text": [
      "\n",
      "===> Integrating for model_output/scenarios_102_30/L-r15-t1000000-id13-pop-107_30\n"
     ]
    },
    {
     "name": "stderr",
     "output_type": "stream",
     "text": [
      "  3%|▎         | 1/29 [00:00<00:03,  8.76it/s]"
     ]
    },
    {
     "name": "stdout",
     "output_type": "stream",
     "text": [
      "===> Integrating for model_output/scenarios_102_30/U-r15-t125000-id0-pop-107_30\n"
     ]
    },
    {
     "name": "stderr",
     "output_type": "stream",
     "text": [
      "  3%|▎         | 1/29 [00:00<00:03,  8.84it/s]"
     ]
    },
    {
     "name": "stdout",
     "output_type": "stream",
     "text": [
      "===> Integrating for model_output/scenarios_102_30/L-r15-t125000-id1-pop-107_30\n"
     ]
    },
    {
     "name": "stderr",
     "output_type": "stream",
     "text": [
      "  3%|▎         | 1/29 [00:00<00:03,  8.92it/s]"
     ]
    },
    {
     "name": "stdout",
     "output_type": "stream",
     "text": [
      "===> Integrating for model_output/scenarios_102_30/L-r15-t250000-id5-pop-107_30"
     ]
    },
    {
     "name": "stderr",
     "output_type": "stream",
     "text": [
      "  3%|▎         | 1/29 [00:00<00:03,  8.80it/s]"
     ]
    },
    {
     "name": "stdout",
     "output_type": "stream",
     "text": [
      "\n"
     ]
    },
    {
     "name": "stderr",
     "output_type": "stream",
     "text": [
      "  3%|▎         | 1/29 [00:00<00:03,  8.86it/s]"
     ]
    },
    {
     "name": "stdout",
     "output_type": "stream",
     "text": [
      "===> Integrating for model_output/scenarios_102_30/U-r150-t1000000-id14-pop-107_30\n"
     ]
    },
    {
     "name": "stderr",
     "output_type": "stream",
     "text": [
      "  7%|▋         | 2/29 [00:00<00:03,  8.57it/s]"
     ]
    },
    {
     "name": "stdout",
     "output_type": "stream",
     "text": [
      "===> Integrating for model_output/scenarios_102_30/U-r150-t250000-id6-pop-107_30\n"
     ]
    },
    {
     "name": "stderr",
     "output_type": "stream",
     "text": [
      "100%|██████████| 29/29 [00:03<00:00,  8.14it/s]\n",
      "100%|██████████| 29/29 [00:03<00:00,  8.30it/s]\n",
      "100%|██████████| 29/29 [00:03<00:00,  8.20it/s]\n",
      "100%|██████████| 29/29 [00:03<00:00,  8.19it/s]\n",
      "100%|██████████| 29/29 [00:03<00:00,  8.20it/s]\n",
      "100%|██████████| 29/29 [00:03<00:00,  8.15it/s]\n",
      "100%|██████████| 29/29 [00:03<00:00,  8.16it/s]\n",
      "100%|██████████| 29/29 [00:03<00:00,  8.18it/s]\n",
      "100%|██████████| 29/29 [00:03<00:00,  8.18it/s]\n",
      "100%|██████████| 29/29 [00:03<00:00,  8.13it/s]\n",
      "100%|██████████| 29/29 [00:03<00:00,  8.16it/s]\n",
      "100%|██████████| 29/29 [00:03<00:00,  8.18it/s]\n",
      "100%|██████████| 29/29 [00:03<00:00,  8.13it/s]\n",
      "100%|██████████| 29/29 [00:03<00:00,  8.18it/s]\n",
      "100%|██████████| 29/29 [00:03<00:00,  8.22it/s]\n"
     ]
    }
   ],
   "source": [
    "# Generate alternatives:\n",
    "import multiprocessing as mp\n",
    "pool = mp.Pool(mp.cpu_count())\n",
    "\n",
    "def generate_all_alternatives(scenario_name, scenario):\n",
    "    # BY INCIDENCE: \n",
    "    nv = scenarios_baseline[scenario_name.split('-')[0]]\n",
    "    incid = nv[nv['comp'].isin(['yell'])].groupby('placeID').sum()\n",
    "    incid.sort_values('value', ascending=False)\n",
    "    \n",
    "    # Build scenario\n",
    "    maxvaccrate_regional, delivery_national, stockpile_national_constraint, control_initial = build_scenario(setup, scenario)\n",
    "    M = setup.nnodes\n",
    "    N = setup.ndays - 1\n",
    "    control_initial = np.zeros((M, N))\n",
    "    unvac_nd = np.copy(setup.pop_node)\n",
    "    stockpile = 0\n",
    "    for k in range(ndays_ocp-1):\n",
    "        stockpile += delivery_national[k]\n",
    "        for nodename in md.place.unique():\n",
    "            nd = setup.ind2name.index(nodename)\n",
    "            to_allocate = stockpile * incid.loc[nd]['value'] / incid['value'].sum()\n",
    "            to_allocate = min(to_allocate, maxvaccrate_regional[nd, k], unvac_nd[nd], stockpile)\n",
    "            control_initial[nd, k] = to_allocate\n",
    "            stockpile -= to_allocate\n",
    "            unvac_nd[nd] -= to_allocate\n",
    "    p.apply_epicourse(setup, scenario['beta_mult'])\n",
    "    # END Build scenario\n",
    "\n",
    "    results, state_initial, yell, mob = COVIDVaccinationOCP.integrate(N,\n",
    "                                                                      setup=setup,\n",
    "                                                                      parameters=p,\n",
    "                                                                      controls=control_initial,\n",
    "                                                                      save_to=f'{generated_dir}/{scenario_name}-inc-{nnodes}_{ndays}',\n",
    "                                                                      n_rk4_steps=n_int_steps)\n",
    "    results.set_index('date', drop=True, inplace=True)\n",
    "\n",
    "    # BY Suceptibility: \n",
    "    nv = scenarios_baseline[scenario_name.split('-')[0]]\n",
    "    incid = nv[nv['comp'].isin(['S'])].loc[str(setup.start_date)]\n",
    "    incid.set_index('placeID', inplace=True)\n",
    "    \n",
    "    # Build scenario\n",
    "    maxvaccrate_regional, delivery_national, stockpile_national_constraint, control_initial = build_scenario(setup, scenario)\n",
    "    M = setup.nnodes\n",
    "    N = setup.ndays - 1\n",
    "    control_initial = np.zeros((M, N))\n",
    "    unvac_nd = np.copy(setup.pop_node)\n",
    "    stockpile = 0\n",
    "    for k in range(ndays_ocp -1):\n",
    "        stockpile += delivery_national[k]\n",
    "        for nodename in md.place.unique():\n",
    "            nd = setup.ind2name.index(nodename)\n",
    "            to_allocate = stockpile * incid.loc[nd]['value'] / incid['value'].sum()\n",
    "            to_allocate = min(to_allocate, maxvaccrate_regional[nd, k], unvac_nd[nd], stockpile)\n",
    "            control_initial[nd, k] = to_allocate\n",
    "            stockpile -= to_allocate\n",
    "            unvac_nd[nd] -= to_allocate\n",
    "    p.apply_epicourse(setup, scenario['beta_mult'])\n",
    "    # END Build scenario\n",
    "\n",
    "    results, state_initial, yell, mob = COVIDVaccinationOCP.integrate(N,\n",
    "                                                                      setup=setup,\n",
    "                                                                      parameters=p,\n",
    "                                                                      controls=control_initial,\n",
    "                                                                      save_to=f'{generated_dir}/{scenario_name}-sus-{nnodes}_{ndays}',\n",
    "                                                                      n_rk4_steps=n_int_steps)\n",
    "    results.set_index('date', drop=True, inplace=True)\n",
    "    \n",
    "    \n",
    "    # BY POPULATION \n",
    "    # Build scenario\n",
    "    maxvaccrate_regional, delivery_national, stockpile_national_constraint, control_initial = build_scenario(setup, scenario)\n",
    "    M = setup.nnodes\n",
    "    N = setup.ndays - 1\n",
    "    control_initial = np.zeros((M, N))\n",
    "    unvac_nd = np.copy(setup.pop_node)\n",
    "    stockpile = 0\n",
    "    for k in range(ndays_ocp -1):\n",
    "        stockpile += delivery_national[k]\n",
    "        for nodename in md.place.unique():\n",
    "            pop_nd = setup.pop_node[nd]\n",
    "            nd = setup.ind2name.index(nodename)\n",
    "            to_allocate = stockpile * pop_nd / setup.pop_node.sum()\n",
    "            to_allocate = min(to_allocate, maxvaccrate_regional[nd, k], unvac_nd[nd], stockpile)\n",
    "            control_initial[nd, k] = to_allocate\n",
    "            stockpile -= to_allocate\n",
    "            unvac_nd[nd] -= to_allocate\n",
    "    p.apply_epicourse(setup, scenario['beta_mult'])\n",
    "    # END Build scenario\n",
    "\n",
    "    results, state_initial, yell, mob = COVIDVaccinationOCP.integrate(N,\n",
    "                                                                      setup=setup,\n",
    "                                                                      parameters=p,\n",
    "                                                                      controls=control_initial,\n",
    "                                                                      save_to=f'{generated_dir}/{scenario_name}-pop-{nnodes}_{ndays}',\n",
    "                                                                      n_rk4_steps=n_int_steps)\n",
    "    results.set_index('date', drop=True, inplace=True)\n",
    "\n",
    "    #TODO: Centrality based and R0 based\n",
    "    return True\n",
    "    \n",
    "all_sims = pool.starmap(generate_all_alternatives, [(scenario_name, scenario) for scenario_name, scenario in scenarios_opt.items()])"
   ]
  },
  {
   "cell_type": "markdown",
   "metadata": {
    "execution": {
     "iopub.execute_input": "2021-02-01T17:53:52.320543Z",
     "iopub.status.busy": "2021-02-01T17:53:52.320317Z",
     "iopub.status.idle": "2021-02-01T17:53:52.323514Z",
     "shell.execute_reply": "2021-02-01T17:53:52.322898Z",
     "shell.execute_reply.started": "2021-02-01T17:53:52.320517Z"
    }
   },
   "source": [
    "# Generate the averted cases for all posterior draws"
   ]
  },
  {
   "cell_type": "code",
   "execution_count": 6,
   "metadata": {
    "execution": {
     "iopub.execute_input": "2021-02-02T18:01:25.029192Z",
     "iopub.status.busy": "2021-02-02T18:01:25.028844Z",
     "iopub.status.idle": "2021-02-02T18:01:34.918805Z",
     "shell.execute_reply": "2021-02-02T18:01:34.918036Z",
     "shell.execute_reply.started": "2021-02-02T18:01:25.029151Z"
    }
   },
   "outputs": [],
   "source": [
    "import matlab.engine\n",
    "\n",
    "eng = matlab.engine.start_matlab()\n",
    "eng.cd('check-strats/', nargout=0)\n",
    "\n",
    "eng.workspace['timesV'] = matlab.double(np.arange(738160, 738160+ndays).tolist()) # THIS IS FOR JANUARY 4st"
   ]
  },
  {
   "cell_type": "code",
   "execution_count": 7,
   "metadata": {
    "execution": {
     "iopub.execute_input": "2021-02-02T18:01:34.921003Z",
     "iopub.status.busy": "2021-02-02T18:01:34.920794Z",
     "iopub.status.idle": "2021-02-02T18:01:34.933962Z",
     "shell.execute_reply": "2021-02-02T18:01:34.933390Z",
     "shell.execute_reply.started": "2021-02-02T18:01:34.920978Z"
    }
   },
   "outputs": [
    {
     "data": {
      "text/plain": [
       "dict_keys(['U-r15-t125000-id0', 'L-r15-t125000-id1', 'U-r150-t125000-id2', 'L-r150-t125000-id3', 'U-r15-t250000-id4', 'L-r15-t250000-id5', 'U-r150-t250000-id6', 'L-r150-t250000-id7', 'U-r15-t479700-id8', 'L-r15-t479700-id9', 'U-r150-t479700-id10', 'L-r150-t479700-id11', 'U-r15-t1000000-id12', 'L-r15-t1000000-id13', 'U-r150-t1000000-id14', 'L-r150-t1000000-id15'])"
      ]
     },
     "execution_count": 7,
     "metadata": {},
     "output_type": "execute_result"
    }
   ],
   "source": [
    "scenarios = {pick_scenario(setup, i)['name']:pick_scenario(setup, i) for i in np.arange(16)}\n",
    "scenarios.keys()"
   ]
  },
  {
   "cell_type": "code",
   "execution_count": 8,
   "metadata": {
    "execution": {
     "iopub.execute_input": "2021-02-02T18:01:34.935206Z",
     "iopub.status.busy": "2021-02-02T18:01:34.935025Z",
     "iopub.status.idle": "2021-02-02T18:09:09.252891Z",
     "shell.execute_reply": "2021-02-02T18:09:09.252168Z",
     "shell.execute_reply.started": "2021-02-02T18:01:34.935184Z"
    },
    "scrolled": true
   },
   "outputs": [
    {
     "name": "stdout",
     "output_type": "stream",
     "text": [
      "Doing model_output/scenarios_102_30/U-r15-t125000-id0-opi-107_30.csv\n",
      "Doing model_output/scenarios_102_30/L-r15-t125000-id1-opi-107_30.csv\n",
      "Doing model_output/scenarios_102_30/U-r150-t125000-id2-opi-107_30.csv\n",
      "Doing model_output/scenarios_102_30/L-r150-t125000-id3-opi-107_30.csv\n",
      "Doing model_output/scenarios_102_30/U-r15-t250000-id4-opi-107_30.csv\n",
      "Doing model_output/scenarios_102_30/L-r15-t250000-id5-opi-107_30.csv\n",
      "Doing model_output/scenarios_102_30/U-r150-t250000-id6-opi-107_30.csv\n",
      "Doing model_output/scenarios_102_30/L-r150-t250000-id7-opi-107_30.csv\n",
      "Doing model_output/scenarios_102_30/U-r15-t479700-id8-opi-107_30.csv\n",
      "Doing model_output/scenarios_102_30/L-r15-t479700-id9-opi-107_30.csv\n",
      "Doing model_output/scenarios_102_30/U-r150-t479700-id10-opi-107_30.csv\n",
      "Doing model_output/scenarios_102_30/L-r150-t479700-id11-opi-107_30.csv\n",
      "Doing model_output/scenarios_102_30/U-r15-t1000000-id12-opi-107_30.csv\n",
      "Doing model_output/scenarios_102_30/L-r15-t1000000-id13-opi-107_30.csv\n",
      "Doing model_output/scenarios_102_30/U-r150-t1000000-id14-opi-107_30.csv\n",
      "not found L-r150-t1000000-id15\n",
      "Doing model_output/scenarios_102_30/U-r15-t125000-id0-inc-107_30.csv\n",
      "Doing model_output/scenarios_102_30/L-r15-t125000-id1-inc-107_30.csv\n",
      "Doing model_output/scenarios_102_30/U-r150-t125000-id2-inc-107_30.csv\n",
      "Doing model_output/scenarios_102_30/L-r150-t125000-id3-inc-107_30.csv\n",
      "Doing model_output/scenarios_102_30/U-r15-t250000-id4-inc-107_30.csv\n",
      "Doing model_output/scenarios_102_30/L-r15-t250000-id5-inc-107_30.csv\n",
      "Doing model_output/scenarios_102_30/U-r150-t250000-id6-inc-107_30.csv\n",
      "Doing model_output/scenarios_102_30/L-r150-t250000-id7-inc-107_30.csv\n",
      "Doing model_output/scenarios_102_30/U-r15-t479700-id8-inc-107_30.csv\n",
      "Doing model_output/scenarios_102_30/L-r15-t479700-id9-inc-107_30.csv\n",
      "Doing model_output/scenarios_102_30/U-r150-t479700-id10-inc-107_30.csv\n",
      "Doing model_output/scenarios_102_30/L-r150-t479700-id11-inc-107_30.csv\n",
      "Doing model_output/scenarios_102_30/U-r15-t1000000-id12-inc-107_30.csv\n",
      "Doing model_output/scenarios_102_30/L-r15-t1000000-id13-inc-107_30.csv\n",
      "Doing model_output/scenarios_102_30/U-r150-t1000000-id14-inc-107_30.csv\n",
      "not found L-r150-t1000000-id15\n",
      "Doing model_output/scenarios_102_30/U-r15-t125000-id0-pop-107_30.csv\n",
      "Doing model_output/scenarios_102_30/L-r15-t125000-id1-pop-107_30.csv\n",
      "Doing model_output/scenarios_102_30/U-r150-t125000-id2-pop-107_30.csv\n",
      "Doing model_output/scenarios_102_30/L-r150-t125000-id3-pop-107_30.csv\n",
      "Doing model_output/scenarios_102_30/U-r15-t250000-id4-pop-107_30.csv\n",
      "Doing model_output/scenarios_102_30/L-r15-t250000-id5-pop-107_30.csv\n",
      "Doing model_output/scenarios_102_30/U-r150-t250000-id6-pop-107_30.csv\n",
      "Doing model_output/scenarios_102_30/L-r150-t250000-id7-pop-107_30.csv\n",
      "Doing model_output/scenarios_102_30/U-r15-t479700-id8-pop-107_30.csv\n",
      "Doing model_output/scenarios_102_30/L-r15-t479700-id9-pop-107_30.csv\n",
      "Doing model_output/scenarios_102_30/U-r150-t479700-id10-pop-107_30.csv\n",
      "Doing model_output/scenarios_102_30/L-r150-t479700-id11-pop-107_30.csv\n",
      "Doing model_output/scenarios_102_30/U-r15-t1000000-id12-pop-107_30.csv\n",
      "Doing model_output/scenarios_102_30/L-r15-t1000000-id13-pop-107_30.csv\n",
      "Doing model_output/scenarios_102_30/U-r150-t1000000-id14-pop-107_30.csv\n",
      "not found L-r150-t1000000-id15\n",
      "Doing model_output/scenarios_102_30/U-r15-t125000-id0-sus-107_30.csv\n",
      "Doing model_output/scenarios_102_30/L-r15-t125000-id1-sus-107_30.csv\n",
      "Doing model_output/scenarios_102_30/U-r150-t125000-id2-sus-107_30.csv\n",
      "Doing model_output/scenarios_102_30/L-r150-t125000-id3-sus-107_30.csv\n",
      "Doing model_output/scenarios_102_30/U-r15-t250000-id4-sus-107_30.csv\n",
      "Doing model_output/scenarios_102_30/L-r15-t250000-id5-sus-107_30.csv\n",
      "Doing model_output/scenarios_102_30/U-r150-t250000-id6-sus-107_30.csv\n",
      "Doing model_output/scenarios_102_30/L-r150-t250000-id7-sus-107_30.csv\n",
      "Doing model_output/scenarios_102_30/U-r15-t479700-id8-sus-107_30.csv\n",
      "Doing model_output/scenarios_102_30/L-r15-t479700-id9-sus-107_30.csv\n",
      "Doing model_output/scenarios_102_30/U-r150-t479700-id10-sus-107_30.csv\n",
      "Doing model_output/scenarios_102_30/L-r150-t479700-id11-sus-107_30.csv\n",
      "Doing model_output/scenarios_102_30/U-r15-t1000000-id12-sus-107_30.csv\n",
      "Doing model_output/scenarios_102_30/L-r15-t1000000-id13-sus-107_30.csv\n",
      "Doing model_output/scenarios_102_30/U-r150-t1000000-id14-sus-107_30.csv\n",
      "not found L-r150-t1000000-id15\n"
     ]
    }
   ],
   "source": [
    "scn_results = pd.DataFrame(columns=['newdoseperweek', 'method', 'infected'])\n",
    "methods = ['opi','inc', 'pop', 'sus'] # 'opt'\n",
    "\n",
    "for met in methods:\n",
    "    for scenario_name, scenario in scenarios.items():\n",
    "        filename = f'{generated_dir}/{scenario_name}-{met}-{nnodes}_{ndays}.csv'\n",
    "        if os.path.isfile(filename):\n",
    "            print(f'Doing {filename}')\n",
    "            maxvaccrate_regional, stockpile_national, stockpile_national_constraint, control_initial = build_scenario(setup, scenario)\n",
    "            p.apply_epicourse(setup, scenario['beta_mult'])\n",
    "            \n",
    "            md = pd.read_csv(filename, index_col= 'date', parse_dates=True)\n",
    "            \n",
    "            dosesV = md[md['comp'] == 'vacc'].pivot(columns='placeID', values='value').to_numpy()\n",
    "\n",
    "            \n",
    "            eng.workspace['Vdoses'] = matlab.double(dosesV.tolist())\n",
    "            eng.workspace['beta_ratio'] = matlab.double(scenario['beta_mult'][0].tolist())\n",
    "            eng.run('main_script.m', nargout=0)\n",
    "            ens_exposed = np.array(eng.eval('ens_exposed_preprocess')).flatten()\n",
    "        \n",
    "            scn_results = pd.concat([scn_results, pd.DataFrame.from_dict({'newdoseperweek':[int(scenario_name.split('-')[2][1:])]*len(ens_exposed),\n",
    "                                                                           'method': [met]*len(ens_exposed),\n",
    "                                                                           'infected':ens_exposed.tolist(),\n",
    "                                                                           'post_sample':np.arange(len(ens_exposed)),\n",
    "                                                                           'doses': [dosesV.sum()]*len(ens_exposed),\n",
    "                                                                           'scenario-beta': [scenario_name.split('-')[0]]*len(ens_exposed),\n",
    "                                                                           'scenario-rate': [scenario_name.split('-')[1]]*len(ens_exposed),\n",
    "                                                                           'scenario-tot': [scenario_name.split('-')[2]]*len(ens_exposed),\n",
    "                                                                           'scenario': [scenario_name]*len(ens_exposed)\n",
    "                                                                         })])\n",
    "        else:\n",
    "            print(f'not found {scenario_name}')"
   ]
  },
  {
   "cell_type": "code",
   "execution_count": 9,
   "metadata": {
    "execution": {
     "iopub.execute_input": "2021-02-02T18:09:09.254343Z",
     "iopub.status.busy": "2021-02-02T18:09:09.254135Z",
     "iopub.status.idle": "2021-02-02T18:09:23.290976Z",
     "shell.execute_reply": "2021-02-02T18:09:23.290177Z",
     "shell.execute_reply.started": "2021-02-02T18:09:09.254316Z"
    }
   },
   "outputs": [
    {
     "name": "stdout",
     "output_type": "stream",
     "text": [
      "U-r15-t125000-id0\n",
      "L-r15-t125000-id1\n"
     ]
    }
   ],
   "source": [
    "scenarios_baseline = {}\n",
    "for scenario_name, scenario in scenarios.items():\n",
    "    if scenario_name.split('-')[0] not in scenarios_baseline:\n",
    "        print(scenario_name)\n",
    "\n",
    "        maxvaccrate_regional, stockpile_national, stockpile_national_constraint, control_initial = build_scenario(setup, scenario)\n",
    "        \n",
    "        p.apply_epicourse(setup, scenario['beta_mult'])\n",
    "\n",
    "\n",
    "        dosesV = np.zeros_like(dosesV)\n",
    "\n",
    "\n",
    "        eng.workspace['Vdoses'] = matlab.double(dosesV.tolist())\n",
    "        eng.workspace['beta_ratio'] = matlab.double(scenario['beta_mult'][0].tolist())\n",
    "        eng.run('main_script.m', nargout=0)\n",
    "        ens_exposed = np.array(eng.eval('ens_exposed_preprocess')).flatten()\n",
    "        \n",
    "        scenarios_baseline[scenario_name.split('-')[0]] = ens_exposed\n",
    "        "
   ]
  },
  {
   "cell_type": "code",
   "execution_count": 15,
   "metadata": {
    "execution": {
     "iopub.execute_input": "2021-02-02T19:00:45.849110Z",
     "iopub.status.busy": "2021-02-02T19:00:45.848938Z",
     "iopub.status.idle": "2021-02-02T19:00:45.866324Z",
     "shell.execute_reply": "2021-02-02T19:00:45.864358Z",
     "shell.execute_reply.started": "2021-02-02T19:00:45.849091Z"
    }
   },
   "outputs": [
    {
     "data": {
      "text/html": [
       "<div>\n",
       "<style scoped>\n",
       "    .dataframe tbody tr th:only-of-type {\n",
       "        vertical-align: middle;\n",
       "    }\n",
       "\n",
       "    .dataframe tbody tr th {\n",
       "        vertical-align: top;\n",
       "    }\n",
       "\n",
       "    .dataframe thead th {\n",
       "        text-align: right;\n",
       "    }\n",
       "</style>\n",
       "<table border=\"1\" class=\"dataframe\">\n",
       "  <thead>\n",
       "    <tr style=\"text-align: right;\">\n",
       "      <th></th>\n",
       "      <th>newdoseperweek</th>\n",
       "      <th>method</th>\n",
       "      <th>infected</th>\n",
       "      <th>post_sample</th>\n",
       "      <th>doses</th>\n",
       "      <th>scenario-beta</th>\n",
       "      <th>scenario-rate</th>\n",
       "      <th>scenario-tot</th>\n",
       "      <th>scenario</th>\n",
       "      <th>bl</th>\n",
       "    </tr>\n",
       "  </thead>\n",
       "  <tbody>\n",
       "    <tr>\n",
       "      <th>0</th>\n",
       "      <td>125000</td>\n",
       "      <td>opi</td>\n",
       "      <td>1.522608e+07</td>\n",
       "      <td>0.0</td>\n",
       "      <td>7.500000e+05</td>\n",
       "      <td>U</td>\n",
       "      <td>r15</td>\n",
       "      <td>t125000</td>\n",
       "      <td>U-r15-t125000-id0</td>\n",
       "      <td>1.525564e+07</td>\n",
       "    </tr>\n",
       "    <tr>\n",
       "      <th>1</th>\n",
       "      <td>125000</td>\n",
       "      <td>opi</td>\n",
       "      <td>1.997468e+07</td>\n",
       "      <td>1.0</td>\n",
       "      <td>7.500000e+05</td>\n",
       "      <td>U</td>\n",
       "      <td>r15</td>\n",
       "      <td>t125000</td>\n",
       "      <td>U-r15-t125000-id0</td>\n",
       "      <td>2.000723e+07</td>\n",
       "    </tr>\n",
       "    <tr>\n",
       "      <th>2</th>\n",
       "      <td>125000</td>\n",
       "      <td>opi</td>\n",
       "      <td>7.028417e+06</td>\n",
       "      <td>2.0</td>\n",
       "      <td>7.500000e+05</td>\n",
       "      <td>U</td>\n",
       "      <td>r15</td>\n",
       "      <td>t125000</td>\n",
       "      <td>U-r15-t125000-id0</td>\n",
       "      <td>7.035700e+06</td>\n",
       "    </tr>\n",
       "    <tr>\n",
       "      <th>3</th>\n",
       "      <td>125000</td>\n",
       "      <td>opi</td>\n",
       "      <td>1.902724e+07</td>\n",
       "      <td>3.0</td>\n",
       "      <td>7.500000e+05</td>\n",
       "      <td>U</td>\n",
       "      <td>r15</td>\n",
       "      <td>t125000</td>\n",
       "      <td>U-r15-t125000-id0</td>\n",
       "      <td>1.907182e+07</td>\n",
       "    </tr>\n",
       "    <tr>\n",
       "      <th>4</th>\n",
       "      <td>125000</td>\n",
       "      <td>opi</td>\n",
       "      <td>1.060526e+07</td>\n",
       "      <td>4.0</td>\n",
       "      <td>7.500000e+05</td>\n",
       "      <td>U</td>\n",
       "      <td>r15</td>\n",
       "      <td>t125000</td>\n",
       "      <td>U-r15-t125000-id0</td>\n",
       "      <td>1.061230e+07</td>\n",
       "    </tr>\n",
       "    <tr>\n",
       "      <th>...</th>\n",
       "      <td>...</td>\n",
       "      <td>...</td>\n",
       "      <td>...</td>\n",
       "      <td>...</td>\n",
       "      <td>...</td>\n",
       "      <td>...</td>\n",
       "      <td>...</td>\n",
       "      <td>...</td>\n",
       "      <td>...</td>\n",
       "      <td>...</td>\n",
       "    </tr>\n",
       "    <tr>\n",
       "      <th>97</th>\n",
       "      <td>1000000</td>\n",
       "      <td>sus</td>\n",
       "      <td>1.690926e+07</td>\n",
       "      <td>97.0</td>\n",
       "      <td>5.272115e+06</td>\n",
       "      <td>U</td>\n",
       "      <td>r150</td>\n",
       "      <td>t1000000</td>\n",
       "      <td>U-r150-t1000000-id14</td>\n",
       "      <td>1.703483e+07</td>\n",
       "    </tr>\n",
       "    <tr>\n",
       "      <th>98</th>\n",
       "      <td>1000000</td>\n",
       "      <td>sus</td>\n",
       "      <td>1.557491e+07</td>\n",
       "      <td>98.0</td>\n",
       "      <td>5.272115e+06</td>\n",
       "      <td>U</td>\n",
       "      <td>r150</td>\n",
       "      <td>t1000000</td>\n",
       "      <td>U-r150-t1000000-id14</td>\n",
       "      <td>1.566753e+07</td>\n",
       "    </tr>\n",
       "    <tr>\n",
       "      <th>99</th>\n",
       "      <td>1000000</td>\n",
       "      <td>sus</td>\n",
       "      <td>1.641005e+07</td>\n",
       "      <td>99.0</td>\n",
       "      <td>5.272115e+06</td>\n",
       "      <td>U</td>\n",
       "      <td>r150</td>\n",
       "      <td>t1000000</td>\n",
       "      <td>U-r150-t1000000-id14</td>\n",
       "      <td>1.650474e+07</td>\n",
       "    </tr>\n",
       "    <tr>\n",
       "      <th>100</th>\n",
       "      <td>1000000</td>\n",
       "      <td>sus</td>\n",
       "      <td>1.420878e+07</td>\n",
       "      <td>100.0</td>\n",
       "      <td>5.272115e+06</td>\n",
       "      <td>U</td>\n",
       "      <td>r150</td>\n",
       "      <td>t1000000</td>\n",
       "      <td>U-r150-t1000000-id14</td>\n",
       "      <td>1.428348e+07</td>\n",
       "    </tr>\n",
       "    <tr>\n",
       "      <th>101</th>\n",
       "      <td>1000000</td>\n",
       "      <td>sus</td>\n",
       "      <td>1.448032e+07</td>\n",
       "      <td>101.0</td>\n",
       "      <td>5.272115e+06</td>\n",
       "      <td>U</td>\n",
       "      <td>r150</td>\n",
       "      <td>t1000000</td>\n",
       "      <td>U-r150-t1000000-id14</td>\n",
       "      <td>1.455742e+07</td>\n",
       "    </tr>\n",
       "  </tbody>\n",
       "</table>\n",
       "<p>6120 rows × 10 columns</p>\n",
       "</div>"
      ],
      "text/plain": [
       "    newdoseperweek method      infected  post_sample         doses  \\\n",
       "0           125000    opi  1.522608e+07          0.0  7.500000e+05   \n",
       "1           125000    opi  1.997468e+07          1.0  7.500000e+05   \n",
       "2           125000    opi  7.028417e+06          2.0  7.500000e+05   \n",
       "3           125000    opi  1.902724e+07          3.0  7.500000e+05   \n",
       "4           125000    opi  1.060526e+07          4.0  7.500000e+05   \n",
       "..             ...    ...           ...          ...           ...   \n",
       "97         1000000    sus  1.690926e+07         97.0  5.272115e+06   \n",
       "98         1000000    sus  1.557491e+07         98.0  5.272115e+06   \n",
       "99         1000000    sus  1.641005e+07         99.0  5.272115e+06   \n",
       "100        1000000    sus  1.420878e+07        100.0  5.272115e+06   \n",
       "101        1000000    sus  1.448032e+07        101.0  5.272115e+06   \n",
       "\n",
       "    scenario-beta scenario-rate scenario-tot              scenario  \\\n",
       "0               U           r15      t125000     U-r15-t125000-id0   \n",
       "1               U           r15      t125000     U-r15-t125000-id0   \n",
       "2               U           r15      t125000     U-r15-t125000-id0   \n",
       "3               U           r15      t125000     U-r15-t125000-id0   \n",
       "4               U           r15      t125000     U-r15-t125000-id0   \n",
       "..            ...           ...          ...                   ...   \n",
       "97              U          r150     t1000000  U-r150-t1000000-id14   \n",
       "98              U          r150     t1000000  U-r150-t1000000-id14   \n",
       "99              U          r150     t1000000  U-r150-t1000000-id14   \n",
       "100             U          r150     t1000000  U-r150-t1000000-id14   \n",
       "101             U          r150     t1000000  U-r150-t1000000-id14   \n",
       "\n",
       "               bl  \n",
       "0    1.525564e+07  \n",
       "1    2.000723e+07  \n",
       "2    7.035700e+06  \n",
       "3    1.907182e+07  \n",
       "4    1.061230e+07  \n",
       "..            ...  \n",
       "97   1.703483e+07  \n",
       "98   1.566753e+07  \n",
       "99   1.650474e+07  \n",
       "100  1.428348e+07  \n",
       "101  1.455742e+07  \n",
       "\n",
       "[6120 rows x 10 columns]"
      ]
     },
     "execution_count": 15,
     "metadata": {},
     "output_type": "execute_result"
    }
   ],
   "source": [
    "scn_results"
   ]
  },
  {
   "cell_type": "code",
   "execution_count": 17,
   "metadata": {
    "execution": {
     "iopub.execute_input": "2021-02-02T19:01:25.700287Z",
     "iopub.status.busy": "2021-02-02T19:01:25.700091Z",
     "iopub.status.idle": "2021-02-02T19:01:25.705079Z",
     "shell.execute_reply": "2021-02-02T19:01:25.704404Z",
     "shell.execute_reply.started": "2021-02-02T19:01:25.700264Z"
    }
   },
   "outputs": [],
   "source": [
    "nbtileU = int(len(scn_results.loc[scn_results['scenario-beta'] == 'U', 'scenario-tot'])/len(scenarios_baseline['U']))\n",
    "nbtileL = int(len(scn_results.loc[scn_results['scenario-beta'] == 'L', 'scenario-tot'])/len(scenarios_baseline['L']))"
   ]
  },
  {
   "cell_type": "code",
   "execution_count": 18,
   "metadata": {
    "execution": {
     "iopub.execute_input": "2021-02-02T19:01:26.750002Z",
     "iopub.status.busy": "2021-02-02T19:01:26.749762Z",
     "iopub.status.idle": "2021-02-02T19:01:26.756629Z",
     "shell.execute_reply": "2021-02-02T19:01:26.755943Z",
     "shell.execute_reply.started": "2021-02-02T19:01:26.749975Z"
    }
   },
   "outputs": [],
   "source": [
    "scn_results['bl'] = 0\n",
    "\n",
    "scn_results.loc[scn_results['scenario-beta'] == 'U', 'bl'] = np.tile(scenarios_baseline['U'],nbtileU)\n",
    "scn_results.loc[scn_results['scenario-beta'] == 'L', 'bl'] = np.tile(scenarios_baseline['L'],nbtileL)"
   ]
  },
  {
   "cell_type": "code",
   "execution_count": 19,
   "metadata": {
    "execution": {
     "iopub.execute_input": "2021-02-02T19:01:28.440613Z",
     "iopub.status.busy": "2021-02-02T19:01:28.440388Z",
     "iopub.status.idle": "2021-02-02T19:01:28.445780Z",
     "shell.execute_reply": "2021-02-02T19:01:28.445120Z",
     "shell.execute_reply.started": "2021-02-02T19:01:28.440587Z"
    }
   },
   "outputs": [],
   "source": [
    "scn_results['averted'] = scn_results['bl'] - scn_results['infected']\n",
    "scn_results['avertedpervacc'] = scn_results['averted']/scn_results['doses']"
   ]
  },
  {
   "cell_type": "code",
   "execution_count": 20,
   "metadata": {
    "execution": {
     "iopub.execute_input": "2021-02-02T19:01:30.328927Z",
     "iopub.status.busy": "2021-02-02T19:01:30.328680Z",
     "iopub.status.idle": "2021-02-02T19:01:30.395980Z",
     "shell.execute_reply": "2021-02-02T19:01:30.395393Z",
     "shell.execute_reply.started": "2021-02-02T19:01:30.328905Z"
    }
   },
   "outputs": [],
   "source": [
    "scn_results.to_csv(f'{generated_dir}/all_summary.csv')"
   ]
  },
  {
   "cell_type": "code",
   "execution_count": null,
   "metadata": {},
   "outputs": [],
   "source": []
  }
 ],
 "metadata": {
  "kernelspec": {
   "display_name": "Python (ocp-covid)",
   "language": "python",
   "name": "ocp-covid"
  },
  "language_info": {
   "codemirror_mode": {
    "name": "ipython",
    "version": 3
   },
   "file_extension": ".py",
   "mimetype": "text/x-python",
   "name": "python",
   "nbconvert_exporter": "python",
   "pygments_lexer": "ipython3",
   "version": "3.7.9"
  }
 },
 "nbformat": 4,
 "nbformat_minor": 4
}
