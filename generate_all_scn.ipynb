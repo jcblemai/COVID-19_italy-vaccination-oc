{
 "cells": [
  {
   "cell_type": "code",
   "execution_count": 3,
   "metadata": {
    "execution": {
     "iopub.execute_input": "2021-02-18T10:31:03.380228Z",
     "iopub.status.busy": "2021-02-18T10:31:03.379990Z",
     "iopub.status.idle": "2021-02-18T10:31:03.678372Z",
     "shell.execute_reply": "2021-02-18T10:31:03.677597Z",
     "shell.execute_reply.started": "2021-02-18T10:31:03.380204Z"
    }
   },
   "outputs": [
    {
     "name": "stdout",
     "output_type": "stream",
     "text": [
      "Loaded Italy Setup with 107 nodes.\n",
      "Loaded Italy Setup with 107 nodes.\n"
     ]
    },
    {
     "data": {
      "text/plain": [
       "dict_keys(['U-r3-t479700-id0', 'L-r3-t479700-id1', 'U-r15-t125000-id2', 'L-r15-t125000-id3', 'U-r15-t250000-id4', 'L-r15-t250000-id5', 'U-r15-t479700-id6', 'L-r15-t479700-id7', 'U-r15-t1000000-id8', 'L-r15-t1000000-id9', 'U-r150-t479700-id10', 'L-r150-t479700-id11'])"
      ]
     },
     "execution_count": 3,
     "metadata": {},
     "output_type": "execute_result"
    }
   ],
   "source": [
    "import copy\n",
    "import matplotlib as mpl\n",
    "import matplotlib.pyplot as plt\n",
    "import numpy as np\n",
    "import pandas as pd\n",
    "import networkx\n",
    "from ItalySetup import ItalySetup\n",
    "from covidOCP import COVIDVaccinationOCP, COVIDParametersOCP\n",
    "from main import pick_scenario, build_scenario\n",
    "import seaborn as sns\n",
    "import datetime\n",
    "import pickle\n",
    "import os\n",
    "\n",
    "nx = 9\n",
    "states_names = ['S', 'E', 'P', 'I', 'A', 'Q', 'H', 'R', 'V']\n",
    "when = 'future'\n",
    "file_prefix = f'week'\n",
    "outdir = 'helvetios-runs/2021-02-15-107_90/'\n",
    "\n",
    "generated_dir = 'model_output/scenarios_102_90'\n",
    "\n",
    "n_int_steps = 6\n",
    "nnodes = 107  # nodes\n",
    "ndays_ocp = 90\n",
    "ndays = 90\n",
    "\n",
    "setup = ItalySetup(nnodes, ndays, when)\n",
    "setup_ocp = ItalySetup(nnodes, ndays_ocp, when)\n",
    "M = setup.nnodes\n",
    "N = len(setup.model_days) - 1\n",
    "\n",
    "with open(f'italy-data/parameters_{nnodes}_{when}.pkl', 'rb') as inp:\n",
    "    p = pickle.load(inp)\n",
    "    \n",
    "os.makedirs(f'{generated_dir}', exist_ok=True)\n",
    "\n",
    "scenarios = {pick_scenario(setup, i)['name']:pick_scenario(setup, i) for i in np.arange(12)}\n",
    "scenarios.keys()"
   ]
  },
  {
   "cell_type": "code",
   "execution_count": 3,
   "metadata": {
    "execution": {
     "iopub.execute_input": "2021-02-07T10:16:43.952921Z",
     "iopub.status.busy": "2021-02-07T10:16:43.952692Z",
     "iopub.status.idle": "2021-02-07T10:16:43.956933Z",
     "shell.execute_reply": "2021-02-07T10:16:43.956312Z",
     "shell.execute_reply.started": "2021-02-07T10:16:43.952894Z"
    }
   },
   "outputs": [
    {
     "name": "stdout",
     "output_type": "stream",
     "text": [
      "8\n"
     ]
    }
   ],
   "source": [
    "# Choose a subset of scenarios:\n",
    "pick = 'r15-'\n",
    "scenarios = {k:v for (k,v) in scenarios.items() if pick in k}\n",
    "print(len(scenarios))"
   ]
  },
  {
   "cell_type": "code",
   "execution_count": 4,
   "metadata": {
    "execution": {
     "iopub.execute_input": "2021-02-18T10:31:05.832751Z",
     "iopub.status.busy": "2021-02-18T10:31:05.832523Z",
     "iopub.status.idle": "2021-02-18T10:50:16.818129Z",
     "shell.execute_reply": "2021-02-18T10:50:16.817571Z",
     "shell.execute_reply.started": "2021-02-18T10:31:05.832726Z"
    }
   },
   "outputs": [
    {
     "name": "stdout",
     "output_type": "stream",
     "text": [
      "YES helvetios-runs/2021-02-15-107_90/week-U-r3-t479700-id0-opt-107_90.csv\n"
     ]
    },
    {
     "name": "stderr",
     "output_type": "stream",
     "text": [
      "  0%|          | 0/89 [00:00<?, ?it/s]"
     ]
    },
    {
     "name": "stdout",
     "output_type": "stream",
     "text": [
      "===> Integrating for model_output/scenarios_102_90/U-r3-t479700-id0-opi-107_90\n"
     ]
    },
    {
     "name": "stderr",
     "output_type": "stream",
     "text": [
      "100%|██████████| 89/89 [00:04<00:00, 19.15it/s]\n",
      "  2%|▏         | 2/89 [00:00<00:05, 16.22it/s]"
     ]
    },
    {
     "name": "stdout",
     "output_type": "stream",
     "text": [
      "--> DONE U-r3-t479700-id0\n",
      "===> Integrating for model_output/scenarios_102_90/U-r3-t479700-id0-novacc-107_90\n"
     ]
    },
    {
     "name": "stderr",
     "output_type": "stream",
     "text": [
      "100%|██████████| 89/89 [00:04<00:00, 20.23it/s]\n"
     ]
    },
    {
     "name": "stdout",
     "output_type": "stream",
     "text": [
      "YES helvetios-runs/2021-02-15-107_90/week-L-r3-t479700-id1-opt-107_90.csv\n"
     ]
    },
    {
     "name": "stderr",
     "output_type": "stream",
     "text": [
      "  3%|▎         | 3/89 [00:00<00:03, 22.47it/s]"
     ]
    },
    {
     "name": "stdout",
     "output_type": "stream",
     "text": [
      "===> Integrating for model_output/scenarios_102_90/L-r3-t479700-id1-opi-107_90\n"
     ]
    },
    {
     "name": "stderr",
     "output_type": "stream",
     "text": [
      "100%|██████████| 89/89 [00:03<00:00, 22.70it/s]\n",
      "  3%|▎         | 3/89 [00:00<00:03, 21.73it/s]"
     ]
    },
    {
     "name": "stdout",
     "output_type": "stream",
     "text": [
      "--> DONE L-r3-t479700-id1\n",
      "===> Integrating for model_output/scenarios_102_90/L-r3-t479700-id1-novacc-107_90\n"
     ]
    },
    {
     "name": "stderr",
     "output_type": "stream",
     "text": [
      "100%|██████████| 89/89 [00:04<00:00, 22.19it/s]\n"
     ]
    },
    {
     "name": "stdout",
     "output_type": "stream",
     "text": [
      "YES helvetios-runs/2021-02-15-107_90/week-U-r15-t125000-id2-opt-107_90.csv\n"
     ]
    },
    {
     "name": "stderr",
     "output_type": "stream",
     "text": [
      "  3%|▎         | 3/89 [00:00<00:03, 22.62it/s]"
     ]
    },
    {
     "name": "stdout",
     "output_type": "stream",
     "text": [
      "===> Integrating for model_output/scenarios_102_90/U-r15-t125000-id2-opi-107_90\n"
     ]
    },
    {
     "name": "stderr",
     "output_type": "stream",
     "text": [
      "100%|██████████| 89/89 [00:03<00:00, 22.80it/s]\n"
     ]
    },
    {
     "name": "stdout",
     "output_type": "stream",
     "text": [
      "--> DONE U-r15-t125000-id2\n",
      "YES helvetios-runs/2021-02-15-107_90/week-L-r15-t125000-id3-opt-107_90.csv\n"
     ]
    },
    {
     "name": "stderr",
     "output_type": "stream",
     "text": [
      "  3%|▎         | 3/89 [00:00<00:03, 23.76it/s]"
     ]
    },
    {
     "name": "stdout",
     "output_type": "stream",
     "text": [
      "===> Integrating for model_output/scenarios_102_90/L-r15-t125000-id3-opi-107_90\n"
     ]
    },
    {
     "name": "stderr",
     "output_type": "stream",
     "text": [
      "100%|██████████| 89/89 [00:04<00:00, 22.20it/s]\n"
     ]
    },
    {
     "name": "stdout",
     "output_type": "stream",
     "text": [
      "--> DONE L-r15-t125000-id3\n",
      "YES helvetios-runs/2021-02-15-107_90/week-U-r15-t250000-id4-opt-107_90.csv\n"
     ]
    },
    {
     "name": "stderr",
     "output_type": "stream",
     "text": [
      "  3%|▎         | 3/89 [00:00<00:03, 22.74it/s]"
     ]
    },
    {
     "name": "stdout",
     "output_type": "stream",
     "text": [
      "===> Integrating for model_output/scenarios_102_90/U-r15-t250000-id4-opi-107_90\n"
     ]
    },
    {
     "name": "stderr",
     "output_type": "stream",
     "text": [
      "100%|██████████| 89/89 [00:03<00:00, 22.64it/s]\n"
     ]
    },
    {
     "name": "stdout",
     "output_type": "stream",
     "text": [
      "--> DONE U-r15-t250000-id4\n",
      "YES helvetios-runs/2021-02-15-107_90/week-L-r15-t250000-id5-opt-107_90.csv\n"
     ]
    },
    {
     "name": "stderr",
     "output_type": "stream",
     "text": [
      "  3%|▎         | 3/89 [00:00<00:03, 22.96it/s]"
     ]
    },
    {
     "name": "stdout",
     "output_type": "stream",
     "text": [
      "===> Integrating for model_output/scenarios_102_90/L-r15-t250000-id5-opi-107_90\n"
     ]
    },
    {
     "name": "stderr",
     "output_type": "stream",
     "text": [
      "100%|██████████| 89/89 [00:04<00:00, 21.60it/s]\n"
     ]
    },
    {
     "name": "stdout",
     "output_type": "stream",
     "text": [
      "--> DONE L-r15-t250000-id5\n",
      "YES helvetios-runs/2021-02-15-107_90/week-U-r15-t479700-id6-opt-107_90.csv\n"
     ]
    },
    {
     "name": "stderr",
     "output_type": "stream",
     "text": [
      "  3%|▎         | 3/89 [00:00<00:03, 23.01it/s]"
     ]
    },
    {
     "name": "stdout",
     "output_type": "stream",
     "text": [
      "===> Integrating for model_output/scenarios_102_90/U-r15-t479700-id6-opi-107_90\n"
     ]
    },
    {
     "name": "stderr",
     "output_type": "stream",
     "text": [
      "100%|██████████| 89/89 [00:04<00:00, 22.04it/s]\n"
     ]
    },
    {
     "name": "stdout",
     "output_type": "stream",
     "text": [
      "--> DONE U-r15-t479700-id6\n",
      "YES helvetios-runs/2021-02-15-107_90/week-L-r15-t479700-id7-opt-107_90.csv\n"
     ]
    },
    {
     "name": "stderr",
     "output_type": "stream",
     "text": [
      "  3%|▎         | 3/89 [00:00<00:04, 21.34it/s]"
     ]
    },
    {
     "name": "stdout",
     "output_type": "stream",
     "text": [
      "===> Integrating for model_output/scenarios_102_90/L-r15-t479700-id7-opi-107_90\n"
     ]
    },
    {
     "name": "stderr",
     "output_type": "stream",
     "text": [
      "100%|██████████| 89/89 [00:04<00:00, 21.80it/s]\n"
     ]
    },
    {
     "name": "stdout",
     "output_type": "stream",
     "text": [
      "--> DONE L-r15-t479700-id7\n",
      "YES helvetios-runs/2021-02-15-107_90/week-U-r15-t1000000-id8-opt-107_90.csv\n"
     ]
    },
    {
     "name": "stderr",
     "output_type": "stream",
     "text": [
      "  3%|▎         | 3/89 [00:00<00:03, 22.19it/s]"
     ]
    },
    {
     "name": "stdout",
     "output_type": "stream",
     "text": [
      "===> Integrating for model_output/scenarios_102_90/U-r15-t1000000-id8-opi-107_90\n"
     ]
    },
    {
     "name": "stderr",
     "output_type": "stream",
     "text": [
      "100%|██████████| 89/89 [00:04<00:00, 21.57it/s]\n"
     ]
    },
    {
     "name": "stdout",
     "output_type": "stream",
     "text": [
      "--> DONE U-r15-t1000000-id8\n",
      "YES helvetios-runs/2021-02-15-107_90/week-L-r15-t1000000-id9-opt-107_90.csv\n"
     ]
    },
    {
     "name": "stderr",
     "output_type": "stream",
     "text": [
      "  3%|▎         | 3/89 [00:00<00:03, 22.23it/s]"
     ]
    },
    {
     "name": "stdout",
     "output_type": "stream",
     "text": [
      "===> Integrating for model_output/scenarios_102_90/L-r15-t1000000-id9-opi-107_90\n"
     ]
    },
    {
     "name": "stderr",
     "output_type": "stream",
     "text": [
      "100%|██████████| 89/89 [00:03<00:00, 22.48it/s]\n"
     ]
    },
    {
     "name": "stdout",
     "output_type": "stream",
     "text": [
      "--> DONE L-r15-t1000000-id9\n",
      "YES helvetios-runs/2021-02-15-107_90/week-U-r150-t479700-id10-opt-107_90.csv\n"
     ]
    },
    {
     "name": "stderr",
     "output_type": "stream",
     "text": [
      "  2%|▏         | 2/89 [00:00<00:04, 18.63it/s]"
     ]
    },
    {
     "name": "stdout",
     "output_type": "stream",
     "text": [
      "===> Integrating for model_output/scenarios_102_90/U-r150-t479700-id10-opi-107_90\n"
     ]
    },
    {
     "name": "stderr",
     "output_type": "stream",
     "text": [
      "100%|██████████| 89/89 [00:04<00:00, 20.70it/s]\n"
     ]
    },
    {
     "name": "stdout",
     "output_type": "stream",
     "text": [
      "--> DONE U-r150-t479700-id10\n",
      "YES helvetios-runs/2021-02-15-107_90/week-L-r150-t479700-id11-opt-107_90.csv\n"
     ]
    },
    {
     "name": "stderr",
     "output_type": "stream",
     "text": [
      "  3%|▎         | 3/89 [00:00<00:03, 21.70it/s]"
     ]
    },
    {
     "name": "stdout",
     "output_type": "stream",
     "text": [
      "===> Integrating for model_output/scenarios_102_90/L-r150-t479700-id11-opi-107_90\n"
     ]
    },
    {
     "name": "stderr",
     "output_type": "stream",
     "text": [
      "100%|██████████| 89/89 [00:04<00:00, 21.59it/s]\n"
     ]
    },
    {
     "name": "stdout",
     "output_type": "stream",
     "text": [
      "--> DONE L-r150-t479700-id11\n"
     ]
    }
   ],
   "source": [
    "scenarios_opt = {}\n",
    "scenarios_baseline = {}\n",
    "## Re-integrate vacc\n",
    "for scenario_name, scenario in scenarios.items():\n",
    "    fname = f\"{outdir}{file_prefix}-{scenario_name}-opt-{nnodes}_{ndays_ocp}.csv\"  # '-'.join(scenario_name.split('-')[:-1])\n",
    "    try:\n",
    "        md = pd.read_csv(fname, index_col= 'date', parse_dates=True)\n",
    "        print(f'YES {fname}')\n",
    "    \n",
    "        # Build scenario\n",
    "        maxvaccrate_regional, delivery_national, stockpile_national_constraint, control_initial = build_scenario(setup, scenario)\n",
    "        M = setup.nnodes\n",
    "        N = setup.ndays - 1\n",
    "        control_initial = np.zeros((M, N))\n",
    "        unvac_nd = np.copy(setup.pop_node)\n",
    "        stockpile = 0\n",
    "        for k in range(ndays_ocp - 1):\n",
    "            stockpile += delivery_national[k]\n",
    "            for nodename in md.place.unique():\n",
    "                nd = setup.ind2name.index(nodename)\n",
    "                to_allocate = md[(md['place'] == nodename) & (md['comp'] == 'vacc')].iloc[k]['value']\n",
    "                to_allocate = min(to_allocate, maxvaccrate_regional[nd, k], unvac_nd[nd], stockpile)\n",
    "                control_initial[nd, k] = to_allocate\n",
    "                stockpile -= to_allocate\n",
    "                unvac_nd[nd] -= to_allocate\n",
    "        p.apply_epicourse(setup, scenario['beta_mult'])\n",
    "        # END Build scenario\n",
    "\n",
    "        results, state_initial, yell, mob = COVIDVaccinationOCP.integrate(N,\n",
    "                                                                          setup=setup,\n",
    "                                                                          parameters=p,\n",
    "                                                                          controls=control_initial,\n",
    "                                                                          save_to=f'{generated_dir}/{scenario_name}-opi-{nnodes}_{ndays}',\n",
    "                                                                          n_rk4_steps=n_int_steps)\n",
    "        results.set_index('date', drop=True, inplace=True)\n",
    "        scenarios_opt[scenario_name] = scenario\n",
    "        print(f'--> DONE {scenario_name}')\n",
    "\n",
    "        if scenario_name.split('-')[0] not in scenarios_baseline:\n",
    "            control_initial = np.zeros((M, N))\n",
    "            # Generate NO vaccination scenarios\n",
    "            results, state_initial, yell, mob = COVIDVaccinationOCP.integrate(N,\n",
    "                                                                      setup=setup,\n",
    "                                                                      parameters=p,\n",
    "                                                                      controls=control_initial,\n",
    "                                                                      save_to=f'{generated_dir}/{scenario_name}-novacc-{nnodes}_{ndays}',\n",
    "                                                                      n_rk4_steps=n_int_steps)\n",
    "            scenarios_baseline[scenario_name.split('-')[0]] = pd.read_csv(f'{generated_dir}/{scenario_name}-novacc-{nnodes}_{ndays}.csv', \n",
    "                                                                         index_col= 'date', parse_dates=True)\n",
    "\n",
    "\n",
    "    except FileNotFoundError:\n",
    "        print(f'NOT {fname}')"
   ]
  },
  {
   "cell_type": "code",
   "execution_count": 2,
   "metadata": {
    "execution": {
     "iopub.execute_input": "2021-02-18T10:30:25.068590Z",
     "iopub.status.busy": "2021-02-18T10:30:25.068371Z",
     "iopub.status.idle": "2021-02-18T10:30:25.075007Z",
     "shell.execute_reply": "2021-02-18T10:30:25.074403Z",
     "shell.execute_reply.started": "2021-02-18T10:30:25.068565Z"
    }
   },
   "outputs": [
    {
     "data": {
      "text/plain": [
       "[]"
      ]
     },
     "execution_count": 2,
     "metadata": {},
     "output_type": "execute_result"
    }
   ],
   "source": [
    "# REload if restart because of python multiprocessing bug : https://github.com/jupyter/jupyter_client/issues/541\n",
    "import glob\n",
    "baseline_fn = glob.glob(f'{generated_dir}/*novacc*.csv')\n",
    "\n",
    "scenarios_baseline = {}\n",
    "for fn in baseline_fn:\n",
    "    scenarios_baseline[fn.split('-')[0][-1]] = pd.read_csv(fn, index_col= 'date', parse_dates=True)\n",
    "    md = pd.read_csv(fn, index_col= 'date', parse_dates=True)\n",
    "baseline_fn"
   ]
  },
  {
   "cell_type": "code",
   "execution_count": null,
   "metadata": {},
   "outputs": [],
   "source": []
  },
  {
   "cell_type": "code",
   "execution_count": null,
   "metadata": {},
   "outputs": [],
   "source": []
  },
  {
   "cell_type": "code",
   "execution_count": 5,
   "metadata": {
    "execution": {
     "iopub.execute_input": "2021-02-18T10:50:16.819533Z",
     "iopub.status.busy": "2021-02-18T10:50:16.819360Z",
     "iopub.status.idle": "2021-02-18T10:50:16.928844Z",
     "shell.execute_reply": "2021-02-18T10:50:16.928272Z",
     "shell.execute_reply.started": "2021-02-18T10:50:16.819511Z"
    }
   },
   "outputs": [],
   "source": [
    "def build_scenario_proportional(scenario_name, scenario, value_df, method_name):\n",
    "    #index of value df = node_name\n",
    "    maxvaccrate_regional, delivery_national, stockpile_national_constraint, control_initial = build_scenario(setup, scenario)\n",
    "    M = setup.nnodes\n",
    "    N = setup.ndays - 1\n",
    "    control_initial = np.zeros((M, N))\n",
    "    unvac_nd = np.copy(setup.pop_node)\n",
    "    stockpile = 0\n",
    "    for k in range(ndays_ocp-1):\n",
    "        stockpile += delivery_national[k]\n",
    "        for nodename in value_df.sort_values('value', ascending=False).index:\n",
    "            nd = setup.ind2name.index(nodename)\n",
    "            to_allocate = stockpile * value_df.loc[nodename]['value'] / value_df['value'].sum()\n",
    "            to_allocate = min(to_allocate, maxvaccrate_regional[nd, k], unvac_nd[nd], stockpile)\n",
    "            control_initial[nd, k] = to_allocate\n",
    "            stockpile -= to_allocate\n",
    "            unvac_nd[nd] -= to_allocate\n",
    "    p.apply_epicourse(setup, scenario['beta_mult'])\n",
    "    # END Build scenario\n",
    "\n",
    "    results, state_initial, yell, mob = COVIDVaccinationOCP.integrate(N,\n",
    "                                                                      setup=setup,\n",
    "                                                                      parameters=p,\n",
    "                                                                      controls=control_initial,\n",
    "                                                                      save_to=f'{generated_dir}/{scenario_name}-{method_name}-{nnodes}_{ndays}',\n",
    "                                                                      n_rk4_steps=n_int_steps)\n",
    "    results.set_index('date', drop=True, inplace=True)\n",
    "\n",
    "\n",
    "def build_scenario_focused(scenario_name, scenario, value_df, method_name):\n",
    "    # index of value_df is node_name\n",
    "    # Build scenario\n",
    "    maxvaccrate_regional, delivery_national, stockpile_national_constraint, control_initial = build_scenario(setup, scenario)\n",
    "    M = setup.nnodes\n",
    "    N = setup.ndays - 1\n",
    "    control_initial = np.zeros((M, N))\n",
    "    unvac_nd = np.copy(setup.pop_node)\n",
    "    stockpile = 0\n",
    "    for k in range(ndays_ocp-1):\n",
    "        stockpile += delivery_national[k]\n",
    "        for nodename in value_df.index:\n",
    "            nd = setup.ind2name.index(nodename)\n",
    "            to_allocate = maxvaccrate_regional[nd, k]\n",
    "            to_allocate = min(to_allocate, maxvaccrate_regional[nd, k], unvac_nd[nd], stockpile)\n",
    "            control_initial[nd, k] = to_allocate\n",
    "            stockpile -= to_allocate\n",
    "            unvac_nd[nd] -= to_allocate\n",
    "    p.apply_epicourse(setup, scenario['beta_mult'])\n",
    "    # END Build scenario    \n",
    "    results, state_initial, yell, mob = COVIDVaccinationOCP.integrate(N,\n",
    "                                                                      setup=setup,\n",
    "                                                                      parameters=p,\n",
    "                                                                      controls=control_initial,\n",
    "                                                                      save_to=f'{generated_dir}/{scenario_name}-{method_name}-{nnodes}_{ndays}',\n",
    "                                                                      n_rk4_steps=n_int_steps)\n",
    "    results.set_index('date', drop=True, inplace=True)\n",
    "\n",
    "\n",
    "def generate_all_alternatives(scenario_name, scenario):\n",
    "    \n",
    "    nv = scenarios_baseline[scenario_name.split('-')[0]]\n",
    "    \n",
    "    pop_node_df = pd.DataFrame(setup.pop_node, index=setup.ind2name, columns=['value'])\n",
    "    \n",
    "    incid = nv[nv['comp'].isin(['yell'])].groupby('place').sum()\n",
    "    incidpop = incid/pop_node_df\n",
    "    incid.sort_values('value', ascending=False, inplace=True)\n",
    "    incidpop.sort_values('value', ascending=False, inplace=True)\n",
    "    \n",
    "    suscep = nv[nv['comp'].isin(['S'])].loc[str(setup.start_date)]\n",
    "    suscep.set_index('place', inplace=True)\n",
    "    susceppop = suscep/pop_node_df\n",
    "    suscep.sort_values('value', ascending=False, inplace=True)\n",
    "    susceppop.sort_values('value', ascending=False, inplace=True)\n",
    "    \n",
    "    pop_node_df.sort_values('value', ascending=False, inplace=True)\n",
    "\n",
    "    # BY INCIDENCE\n",
    "    build_scenario_focused(scenario_name=scenario_name, scenario=scenario, value_df=incid, method_name='finc');\n",
    "    build_scenario_proportional(scenario_name=scenario_name, scenario=scenario, value_df=incid, method_name='pinc');\n",
    "    \n",
    "    # BY susceptibilty\n",
    "    build_scenario_focused(scenario_name=scenario_name, scenario=scenario, value_df=suscep, method_name='fsus');\n",
    "    build_scenario_proportional(scenario_name=scenario_name, scenario=scenario, value_df=suscep, method_name='psus');\n",
    "    \n",
    "    # same but perpop\n",
    "    build_scenario_focused(scenario_name=scenario_name, scenario=scenario, value_df=incidpop, method_name='fincpp');\n",
    "    build_scenario_proportional(scenario_name=scenario_name, scenario=scenario, value_df=incidpop, method_name='pincpp');\n",
    "    build_scenario_focused(scenario_name=scenario_name, scenario=scenario, value_df=susceppop, method_name='fsuspp');\n",
    "    build_scenario_proportional(scenario_name=scenario_name, scenario=scenario, value_df=susceppop, method_name='psuspp');\n",
    "    \n",
    "    # BY POPULATION \n",
    "    build_scenario_proportional(scenario_name=scenario_name, scenario=scenario, value_df=pop_node_df, method_name='ppop');\n",
    "    build_scenario_focused(scenario_name=scenario_name, scenario=scenario, value_df=pop_node_df, method_name='fpop');\n",
    "\n",
    "    #TODO: Centrality based and R0 based\n",
    "    return True"
   ]
  },
  {
   "cell_type": "code",
   "execution_count": 65,
   "metadata": {
    "execution": {
     "iopub.execute_input": "2021-02-18T10:29:05.690823Z",
     "iopub.status.busy": "2021-02-18T10:29:05.690632Z",
     "iopub.status.idle": "2021-02-18T10:29:05.693333Z",
     "shell.execute_reply": "2021-02-18T10:29:05.692768Z",
     "shell.execute_reply.started": "2021-02-18T10:29:05.690802Z"
    }
   },
   "outputs": [],
   "source": [
    "#generate_all_alternatives(scenario_name, scenario)"
   ]
  },
  {
   "cell_type": "code",
   "execution_count": 18,
   "metadata": {
    "execution": {
     "iopub.execute_input": "2021-02-18T12:22:31.792461Z",
     "iopub.status.busy": "2021-02-18T12:22:31.792262Z",
     "iopub.status.idle": "2021-02-18T12:22:31.796252Z",
     "shell.execute_reply": "2021-02-18T12:22:31.795732Z",
     "shell.execute_reply.started": "2021-02-18T12:22:31.792439Z"
    }
   },
   "outputs": [
    {
     "data": {
      "text/plain": [
       "array([[  0.        , 397.9886372 , 385.42385358, ...,  23.77772113,\n",
       "         23.88731124,  24.07570478],\n",
       "       [  0.        ,  28.86047913,  28.12156192, ...,   1.76312231,\n",
       "          1.76918936,   1.78105444],\n",
       "       [  0.        ,  63.72500859,  62.01234498, ...,   3.84178699,\n",
       "          3.85783501,   3.88668594],\n",
       "       ...,\n",
       "       [  0.        ,  30.68340789,  29.71703902, ...,   1.88835255,\n",
       "          1.89605218,   1.91002442],\n",
       "       [  0.        ,  53.09754515,  51.96368203, ...,   3.89699522,\n",
       "          3.91044442,   3.93669455],\n",
       "       [  0.        ,  34.41985939,  33.13311058, ...,   2.64392649,\n",
       "          2.67211388,   2.70996868]])"
      ]
     },
     "execution_count": 18,
     "metadata": {},
     "output_type": "execute_result"
    }
   ],
   "source": []
  },
  {
   "cell_type": "code",
   "execution_count": 6,
   "metadata": {
    "execution": {
     "iopub.execute_input": "2021-02-18T10:50:16.930665Z",
     "iopub.status.busy": "2021-02-18T10:50:16.930496Z",
     "iopub.status.idle": "2021-02-18T10:50:16.933494Z",
     "shell.execute_reply": "2021-02-18T10:50:16.933043Z",
     "shell.execute_reply.started": "2021-02-18T10:50:16.930645Z"
    }
   },
   "outputs": [
    {
     "name": "stdout",
     "output_type": "stream",
     "text": [
      "ok\n"
     ]
    }
   ],
   "source": [
    "print('ok')"
   ]
  },
  {
   "cell_type": "code",
   "execution_count": 7,
   "metadata": {
    "execution": {
     "iopub.execute_input": "2021-02-18T10:50:16.934692Z",
     "iopub.status.busy": "2021-02-18T10:50:16.934547Z",
     "iopub.status.idle": "2021-02-18T10:59:16.026101Z",
     "shell.execute_reply": "2021-02-18T10:59:16.024710Z",
     "shell.execute_reply.started": "2021-02-18T10:50:16.934672Z"
    },
    "scrolled": true
   },
   "outputs": [
    {
     "name": "stdout",
     "output_type": "stream",
     "text": [
      "===> Integrating for model_output/scenarios_102_90/U-r3-t479700-id0-finc-107_90\n"
     ]
    },
    {
     "name": "stderr",
     "output_type": "stream",
     "text": [
      "  0%|          | 0/89 [00:00<?, ?it/s]"
     ]
    },
    {
     "name": "stdout",
     "output_type": "stream",
     "text": [
      "===> Integrating for model_output/scenarios_102_90/U-r15-t125000-id2-finc-107_90\n"
     ]
    },
    {
     "name": "stderr",
     "output_type": "stream",
     "text": [
      "  0%|          | 0/89 [00:00<?, ?it/s]"
     ]
    },
    {
     "name": "stdout",
     "output_type": "stream",
     "text": [
      "===> Integrating for model_output/scenarios_102_90/L-r15-t1000000-id9-finc-107_90\n"
     ]
    },
    {
     "name": "stderr",
     "output_type": "stream",
     "text": [
      "  0%|          | 0/89 [00:00<?, ?it/s]"
     ]
    },
    {
     "name": "stdout",
     "output_type": "stream",
     "text": [
      "===> Integrating for model_output/scenarios_102_90/L-r150-t479700-id11-finc-107_90===> Integrating for model_output/scenarios_102_90/U-r15-t250000-id4-finc-107_90===> Integrating for model_output/scenarios_102_90/L-r15-t125000-id3-finc-107_90\n",
      "\n",
      "\n"
     ]
    },
    {
     "name": "stderr",
     "output_type": "stream",
     "text": [
      "  0%|          | 0/89 [00:00<?, ?it/s]"
     ]
    },
    {
     "name": "stdout",
     "output_type": "stream",
     "text": [
      "===> Integrating for model_output/scenarios_102_90/L-r3-t479700-id1-finc-107_90===> Integrating for model_output/scenarios_102_90/L-r15-t479700-id7-finc-107_90"
     ]
    },
    {
     "name": "stderr",
     "output_type": "stream",
     "text": [
      "  0%|          | 0/89 [00:00<?, ?it/s]"
     ]
    },
    {
     "name": "stdout",
     "output_type": "stream",
     "text": [
      "\n",
      "\n"
     ]
    },
    {
     "name": "stderr",
     "output_type": "stream",
     "text": [
      "  0%|          | 0/89 [00:00<?, ?it/s]"
     ]
    },
    {
     "name": "stdout",
     "output_type": "stream",
     "text": [
      "===> Integrating for model_output/scenarios_102_90/U-r150-t479700-id10-finc-107_90"
     ]
    },
    {
     "name": "stderr",
     "output_type": "stream",
     "text": [
      "  0%|          | 0/89 [00:00<?, ?it/s]"
     ]
    },
    {
     "name": "stdout",
     "output_type": "stream",
     "text": [
      "===> Integrating for model_output/scenarios_102_90/L-r15-t250000-id5-finc-107_90\n",
      "\n"
     ]
    },
    {
     "name": "stderr",
     "output_type": "stream",
     "text": [
      "  0%|          | 0/89 [00:00<?, ?it/s]"
     ]
    },
    {
     "name": "stdout",
     "output_type": "stream",
     "text": [
      "===> Integrating for model_output/scenarios_102_90/U-r15-t479700-id6-finc-107_90"
     ]
    },
    {
     "name": "stderr",
     "output_type": "stream",
     "text": [
      "  0%|          | 0/89 [00:00<?, ?it/s]"
     ]
    },
    {
     "name": "stdout",
     "output_type": "stream",
     "text": [
      "\n"
     ]
    },
    {
     "name": "stderr",
     "output_type": "stream",
     "text": [
      "  0%|          | 0/89 [00:00<?, ?it/s]"
     ]
    },
    {
     "name": "stdout",
     "output_type": "stream",
     "text": [
      "===> Integrating for model_output/scenarios_102_90/U-r15-t1000000-id8-finc-107_90\n"
     ]
    },
    {
     "name": "stderr",
     "output_type": "stream",
     "text": [
      "100%|██████████| 89/89 [00:07<00:00, 11.70it/s]\n",
      "100%|██████████| 89/89 [00:07<00:00, 11.65it/s]\n",
      "100%|██████████| 89/89 [00:07<00:00, 11.65it/s]\n",
      "100%|██████████| 89/89 [00:07<00:00, 11.64it/s]\n",
      "100%|██████████| 89/89 [00:07<00:00, 11.60it/s]\n",
      "100%|██████████| 89/89 [00:07<00:00, 11.60it/s]\n",
      "100%|██████████| 89/89 [00:07<00:00, 11.55it/s]\n",
      "100%|██████████| 89/89 [00:07<00:00, 11.53it/s]\n",
      "100%|██████████| 89/89 [00:07<00:00, 11.55it/s]\n",
      "100%|██████████| 89/89 [00:07<00:00, 11.48it/s]\n",
      "100%|██████████| 89/89 [00:07<00:00, 11.45it/s]\n",
      "100%|██████████| 89/89 [00:07<00:00, 11.43it/s]\n"
     ]
    },
    {
     "name": "stdout",
     "output_type": "stream",
     "text": [
      "===> Integrating for model_output/scenarios_102_90/U-r3-t479700-id0-pinc-107_90\n"
     ]
    },
    {
     "name": "stderr",
     "output_type": "stream",
     "text": [
      "  0%|          | 0/89 [00:00<?, ?it/s]"
     ]
    },
    {
     "name": "stdout",
     "output_type": "stream",
     "text": [
      "===> Integrating for model_output/scenarios_102_90/L-r15-t479700-id7-pinc-107_90\n"
     ]
    },
    {
     "name": "stderr",
     "output_type": "stream",
     "text": [
      "  0%|          | 0/89 [00:00<?, ?it/s]"
     ]
    },
    {
     "name": "stdout",
     "output_type": "stream",
     "text": [
      "===> Integrating for model_output/scenarios_102_90/L-r3-t479700-id1-pinc-107_90\n"
     ]
    },
    {
     "name": "stderr",
     "output_type": "stream",
     "text": [
      "  0%|          | 0/89 [00:00<?, ?it/s]"
     ]
    },
    {
     "name": "stdout",
     "output_type": "stream",
     "text": [
      "===> Integrating for model_output/scenarios_102_90/U-r15-t125000-id2-pinc-107_90\n"
     ]
    },
    {
     "name": "stderr",
     "output_type": "stream",
     "text": [
      "  1%|          | 1/89 [00:00<00:09,  9.69it/s]"
     ]
    },
    {
     "name": "stdout",
     "output_type": "stream",
     "text": [
      "===> Integrating for model_output/scenarios_102_90/L-r150-t479700-id11-pinc-107_90\n"
     ]
    },
    {
     "name": "stderr",
     "output_type": "stream",
     "text": [
      "  0%|          | 0/89 [00:00<?, ?it/s]"
     ]
    },
    {
     "name": "stdout",
     "output_type": "stream",
     "text": [
      "===> Integrating for model_output/scenarios_102_90/U-r15-t479700-id6-pinc-107_90\n"
     ]
    },
    {
     "name": "stderr",
     "output_type": "stream",
     "text": [
      "  1%|          | 1/89 [00:00<00:09,  9.77it/s]"
     ]
    },
    {
     "name": "stdout",
     "output_type": "stream",
     "text": [
      "===> Integrating for model_output/scenarios_102_90/L-r15-t1000000-id9-pinc-107_90\n"
     ]
    },
    {
     "name": "stderr",
     "output_type": "stream",
     "text": [
      "  0%|          | 0/89 [00:00<?, ?it/s].64it/s]"
     ]
    },
    {
     "name": "stdout",
     "output_type": "stream",
     "text": [
      "===> Integrating for model_output/scenarios_102_90/L-r15-t250000-id5-pinc-107_90\n"
     ]
    },
    {
     "name": "stderr",
     "output_type": "stream",
     "text": [
      "  0%|          | 0/89 [00:00<?, ?it/s]"
     ]
    },
    {
     "name": "stdout",
     "output_type": "stream",
     "text": [
      "===> Integrating for model_output/scenarios_102_90/U-r150-t479700-id10-pinc-107_90\n"
     ]
    },
    {
     "name": "stderr",
     "output_type": "stream",
     "text": [
      "  1%|          | 1/89 [00:00<00:09,  9.55it/s]"
     ]
    },
    {
     "name": "stdout",
     "output_type": "stream",
     "text": [
      "===> Integrating for model_output/scenarios_102_90/U-r15-t250000-id4-pinc-107_90\n"
     ]
    },
    {
     "name": "stderr",
     "output_type": "stream",
     "text": [
      "  0%|          | 0/89 [00:00<?, ?it/s]"
     ]
    },
    {
     "name": "stdout",
     "output_type": "stream",
     "text": [
      "===> Integrating for model_output/scenarios_102_90/U-r15-t1000000-id8-pinc-107_90\n"
     ]
    },
    {
     "name": "stderr",
     "output_type": "stream",
     "text": [
      "  1%|          | 1/89 [00:00<00:08,  9.94it/s]"
     ]
    },
    {
     "name": "stdout",
     "output_type": "stream",
     "text": [
      "===> Integrating for model_output/scenarios_102_90/L-r15-t125000-id3-pinc-107_90\n"
     ]
    },
    {
     "name": "stderr",
     "output_type": "stream",
     "text": [
      "100%|██████████| 89/89 [00:08<00:00,  9.98it/s]\n",
      "100%|██████████| 89/89 [00:08<00:00, 10.00it/s]\n",
      "100%|██████████| 89/89 [00:08<00:00, 10.01it/s]\n",
      "100%|██████████| 89/89 [00:09<00:00,  9.89it/s]\n",
      "100%|██████████| 89/89 [00:08<00:00, 10.04it/s]\n",
      "100%|██████████| 89/89 [00:08<00:00, 10.11it/s]\n",
      "100%|██████████| 89/89 [00:08<00:00, 10.05it/s]\n",
      "100%|██████████| 89/89 [00:08<00:00, 10.04it/s]\n",
      "100%|██████████| 89/89 [00:08<00:00, 10.00it/s]\n",
      "100%|██████████| 89/89 [00:09<00:00,  9.84it/s]\n",
      "100%|██████████| 89/89 [00:09<00:00,  9.86it/s]\n",
      "100%|██████████| 89/89 [00:08<00:00,  9.92it/s]\n"
     ]
    },
    {
     "name": "stdout",
     "output_type": "stream",
     "text": [
      "===> Integrating for model_output/scenarios_102_90/U-r3-t479700-id0-fsus-107_90\n"
     ]
    },
    {
     "name": "stderr",
     "output_type": "stream",
     "text": [
      "  2%|▏         | 2/89 [00:00<00:08, 10.53it/s]"
     ]
    },
    {
     "name": "stdout",
     "output_type": "stream",
     "text": [
      "===> Integrating for model_output/scenarios_102_90/L-r3-t479700-id1-fsus-107_90\n"
     ]
    },
    {
     "name": "stderr",
     "output_type": "stream",
     "text": [
      "  3%|▎         | 3/89 [00:00<00:08, 10.08it/s]"
     ]
    },
    {
     "name": "stdout",
     "output_type": "stream",
     "text": [
      "===> Integrating for model_output/scenarios_102_90/U-r15-t125000-id2-fsus-107_90\n"
     ]
    },
    {
     "name": "stderr",
     "output_type": "stream",
     "text": [
      "  0%|          | 0/89 [00:00<?, ?it/s]"
     ]
    },
    {
     "name": "stdout",
     "output_type": "stream",
     "text": [
      "===> Integrating for model_output/scenarios_102_90/U-r15-t479700-id6-fsus-107_90\n"
     ]
    },
    {
     "name": "stderr",
     "output_type": "stream",
     "text": [
      "  0%|          | 0/89 [00:00<?, ?it/s]"
     ]
    },
    {
     "name": "stdout",
     "output_type": "stream",
     "text": [
      "===> Integrating for model_output/scenarios_102_90/L-r15-t479700-id7-fsus-107_90\n"
     ]
    },
    {
     "name": "stderr",
     "output_type": "stream",
     "text": [
      "  1%|          | 1/89 [00:00<00:10,  8.77it/s]"
     ]
    },
    {
     "name": "stdout",
     "output_type": "stream",
     "text": [
      "===> Integrating for model_output/scenarios_102_90/U-r150-t479700-id10-fsus-107_90\n"
     ]
    },
    {
     "name": "stderr",
     "output_type": "stream",
     "text": [
      "  2%|▏         | 2/89 [00:00<00:09,  8.92it/s]"
     ]
    },
    {
     "name": "stdout",
     "output_type": "stream",
     "text": [
      "===> Integrating for model_output/scenarios_102_90/L-r15-t250000-id5-fsus-107_90\n"
     ]
    },
    {
     "name": "stderr",
     "output_type": "stream",
     "text": [
      "  2%|▏         | 2/89 [00:00<00:09,  9.28it/s]"
     ]
    },
    {
     "name": "stdout",
     "output_type": "stream",
     "text": [
      "===> Integrating for model_output/scenarios_102_90/U-r15-t1000000-id8-fsus-107_90\n"
     ]
    },
    {
     "name": "stderr",
     "output_type": "stream",
     "text": [
      "  7%|▋         | 6/89 [00:00<00:08,  9.35it/s]"
     ]
    },
    {
     "name": "stdout",
     "output_type": "stream",
     "text": [
      "===> Integrating for model_output/scenarios_102_90/U-r15-t250000-id4-fsus-107_90\n"
     ]
    },
    {
     "name": "stderr",
     "output_type": "stream",
     "text": [
      "  1%|          | 1/89 [00:00<00:09,  9.67it/s]"
     ]
    },
    {
     "name": "stdout",
     "output_type": "stream",
     "text": [
      "===> Integrating for model_output/scenarios_102_90/L-r15-t125000-id3-fsus-107_90\n"
     ]
    },
    {
     "name": "stderr",
     "output_type": "stream",
     "text": [
      "  3%|▎         | 3/89 [00:00<00:09,  9.33it/s]"
     ]
    },
    {
     "name": "stdout",
     "output_type": "stream",
     "text": [
      "===> Integrating for model_output/scenarios_102_90/L-r15-t1000000-id9-fsus-107_90\n"
     ]
    },
    {
     "name": "stderr",
     "output_type": "stream",
     "text": [
      "  4%|▍         | 4/89 [00:00<00:09,  9.20it/s]"
     ]
    },
    {
     "name": "stdout",
     "output_type": "stream",
     "text": [
      "===> Integrating for model_output/scenarios_102_90/L-r150-t479700-id11-fsus-107_90\n"
     ]
    },
    {
     "name": "stderr",
     "output_type": "stream",
     "text": [
      "100%|██████████| 89/89 [00:09<00:00,  8.99it/s]\n",
      "100%|██████████| 89/89 [00:09<00:00,  8.97it/s]\n",
      "100%|██████████| 89/89 [00:09<00:00,  8.99it/s]\n",
      "100%|██████████| 89/89 [00:09<00:00,  8.92it/s]\n",
      "100%|██████████| 89/89 [00:09<00:00,  8.91it/s]\n",
      "100%|██████████| 89/89 [00:09<00:00,  9.02it/s]\n",
      "100%|██████████| 89/89 [00:10<00:00,  8.88it/s]\n",
      "100%|██████████| 89/89 [00:09<00:00,  8.91it/s]\n",
      "100%|██████████| 89/89 [00:09<00:00,  8.97it/s]\n",
      "100%|██████████| 89/89 [00:09<00:00,  8.93it/s]\n",
      "100%|██████████| 89/89 [00:09<00:00,  8.92it/s]\n",
      "100%|██████████| 89/89 [00:10<00:00,  8.87it/s]\n"
     ]
    },
    {
     "name": "stdout",
     "output_type": "stream",
     "text": [
      "===> Integrating for model_output/scenarios_102_90/U-r3-t479700-id0-psus-107_90\n"
     ]
    },
    {
     "name": "stderr",
     "output_type": "stream",
     "text": [
      "  7%|▋         | 6/89 [00:00<00:08, 10.07it/s]"
     ]
    },
    {
     "name": "stdout",
     "output_type": "stream",
     "text": [
      "===> Integrating for model_output/scenarios_102_90/L-r3-t479700-id1-psus-107_90\n"
     ]
    },
    {
     "name": "stderr",
     "output_type": "stream",
     "text": [
      "  0%|          | 0/89 [00:00<?, ?it/s]"
     ]
    },
    {
     "name": "stdout",
     "output_type": "stream",
     "text": [
      "===> Integrating for model_output/scenarios_102_90/U-r15-t125000-id2-psus-107_90\n"
     ]
    },
    {
     "name": "stderr",
     "output_type": "stream",
     "text": [
      "  0%|          | 0/89 [00:00<?, ?it/s]"
     ]
    },
    {
     "name": "stdout",
     "output_type": "stream",
     "text": [
      "===> Integrating for model_output/scenarios_102_90/L-r15-t479700-id7-psus-107_90\n",
      "===> Integrating for model_output/scenarios_102_90/L-r15-t250000-id5-psus-107_90"
     ]
    },
    {
     "name": "stderr",
     "output_type": "stream",
     "text": [
      "  0%|          | 0/89 [00:00<?, ?it/s]"
     ]
    },
    {
     "name": "stdout",
     "output_type": "stream",
     "text": [
      "\n"
     ]
    },
    {
     "name": "stderr",
     "output_type": "stream",
     "text": [
      "  8%|▊         | 7/89 [00:00<00:08,  9.84it/s]"
     ]
    },
    {
     "name": "stdout",
     "output_type": "stream",
     "text": [
      "===> Integrating for model_output/scenarios_102_90/U-r15-t479700-id6-psus-107_90\n"
     ]
    },
    {
     "name": "stderr",
     "output_type": "stream",
     "text": [
      "  1%|          | 1/89 [00:00<00:09,  9.56it/s]"
     ]
    },
    {
     "name": "stdout",
     "output_type": "stream",
     "text": [
      "===> Integrating for model_output/scenarios_102_90/U-r150-t479700-id10-psus-107_90\n"
     ]
    },
    {
     "name": "stderr",
     "output_type": "stream",
     "text": [
      "  1%|          | 1/89 [00:00<00:09,  9.26it/s]"
     ]
    },
    {
     "name": "stdout",
     "output_type": "stream",
     "text": [
      "===> Integrating for model_output/scenarios_102_90/U-r15-t1000000-id8-psus-107_90\n"
     ]
    },
    {
     "name": "stderr",
     "output_type": "stream",
     "text": [
      "  2%|▏         | 2/89 [00:00<00:09,  9.37it/s]"
     ]
    },
    {
     "name": "stdout",
     "output_type": "stream",
     "text": [
      "===> Integrating for model_output/scenarios_102_90/U-r15-t250000-id4-psus-107_90\n"
     ]
    },
    {
     "name": "stderr",
     "output_type": "stream",
     "text": [
      "  4%|▍         | 4/89 [00:00<00:09,  8.94it/s]]"
     ]
    },
    {
     "name": "stdout",
     "output_type": "stream",
     "text": [
      "===> Integrating for model_output/scenarios_102_90/L-r15-t125000-id3-psus-107_90\n"
     ]
    },
    {
     "name": "stderr",
     "output_type": "stream",
     "text": [
      "  4%|▍         | 4/89 [00:00<00:09,  9.03it/s]]"
     ]
    },
    {
     "name": "stdout",
     "output_type": "stream",
     "text": [
      "===> Integrating for model_output/scenarios_102_90/L-r15-t1000000-id9-psus-107_90\n"
     ]
    },
    {
     "name": "stderr",
     "output_type": "stream",
     "text": [
      "  6%|▌         | 5/89 [00:00<00:09,  9.20it/s]"
     ]
    },
    {
     "name": "stdout",
     "output_type": "stream",
     "text": [
      "===> Integrating for model_output/scenarios_102_90/L-r150-t479700-id11-psus-107_90\n"
     ]
    },
    {
     "name": "stderr",
     "output_type": "stream",
     "text": [
      "100%|██████████| 89/89 [00:09<00:00,  9.05it/s]\n",
      "100%|██████████| 89/89 [00:09<00:00,  8.95it/s]\n",
      "100%|██████████| 89/89 [00:09<00:00,  8.91it/s]\n",
      "100%|██████████| 89/89 [00:09<00:00,  8.90it/s]\n",
      "100%|██████████| 89/89 [00:10<00:00,  8.80it/s]\n",
      "100%|██████████| 89/89 [00:09<00:00,  8.92it/s]\n",
      "100%|██████████| 89/89 [00:10<00:00,  8.82it/s]\n",
      "100%|██████████| 89/89 [00:09<00:00,  8.93it/s]\n",
      "100%|██████████| 89/89 [00:10<00:00,  8.88it/s]\n",
      "100%|██████████| 89/89 [00:09<00:00,  8.95it/s]\n",
      "100%|██████████| 89/89 [00:09<00:00,  8.95it/s]\n",
      "100%|██████████| 89/89 [00:10<00:00,  8.84it/s]\n"
     ]
    },
    {
     "name": "stdout",
     "output_type": "stream",
     "text": [
      "===> Integrating for model_output/scenarios_102_90/U-r3-t479700-id0-fincpp-107_90\n"
     ]
    },
    {
     "name": "stderr",
     "output_type": "stream",
     "text": [
      " 10%|█         | 9/89 [00:00<00:08,  9.54it/s]"
     ]
    },
    {
     "name": "stdout",
     "output_type": "stream",
     "text": [
      "===> Integrating for model_output/scenarios_102_90/U-r15-t125000-id2-fincpp-107_90\n"
     ]
    },
    {
     "name": "stderr",
     "output_type": "stream",
     "text": [
      "  2%|▏         | 2/89 [00:00<00:08, 10.21it/s]]"
     ]
    },
    {
     "name": "stdout",
     "output_type": "stream",
     "text": [
      "===> Integrating for model_output/scenarios_102_90/L-r15-t250000-id5-fincpp-107_90\n"
     ]
    },
    {
     "name": "stderr",
     "output_type": "stream",
     "text": [
      "  0%|          | 0/89 [00:00<?, ?it/s]"
     ]
    },
    {
     "name": "stdout",
     "output_type": "stream",
     "text": [
      "===> Integrating for model_output/scenarios_102_90/U-r15-t479700-id6-fincpp-107_90\n"
     ]
    },
    {
     "name": "stderr",
     "output_type": "stream",
     "text": [
      "  0%|          | 0/89 [00:00<?, ?it/s]"
     ]
    },
    {
     "name": "stdout",
     "output_type": "stream",
     "text": [
      "===> Integrating for model_output/scenarios_102_90/L-r15-t479700-id7-fincpp-107_90\n"
     ]
    },
    {
     "name": "stderr",
     "output_type": "stream",
     "text": [
      " 15%|█▍        | 13/89 [00:01<00:07,  9.72it/s]"
     ]
    },
    {
     "name": "stdout",
     "output_type": "stream",
     "text": [
      "===> Integrating for model_output/scenarios_102_90/L-r3-t479700-id1-fincpp-107_90\n",
      "===> Integrating for model_output/scenarios_102_90/U-r150-t479700-id10-fincpp-107_90\n"
     ]
    },
    {
     "name": "stderr",
     "output_type": "stream",
     "text": [
      " 16%|█▌        | 14/89 [00:01<00:07,  9.52it/s]"
     ]
    },
    {
     "name": "stdout",
     "output_type": "stream",
     "text": [
      "===> Integrating for model_output/scenarios_102_90/U-r15-t1000000-id8-fincpp-107_90\n"
     ]
    },
    {
     "name": "stderr",
     "output_type": "stream",
     "text": [
      "  2%|▏         | 2/89 [00:00<00:10,  8.69it/s]"
     ]
    },
    {
     "name": "stdout",
     "output_type": "stream",
     "text": [
      "===> Integrating for model_output/scenarios_102_90/U-r15-t250000-id4-fincpp-107_90\n"
     ]
    },
    {
     "name": "stderr",
     "output_type": "stream",
     "text": [
      "  2%|▏         | 2/89 [00:00<00:09,  9.14it/s]]"
     ]
    },
    {
     "name": "stdout",
     "output_type": "stream",
     "text": [
      "===> Integrating for model_output/scenarios_102_90/L-r150-t479700-id11-fincpp-107_90\n"
     ]
    },
    {
     "name": "stderr",
     "output_type": "stream",
     "text": [
      "  1%|          | 1/89 [00:00<00:10,  8.42it/s]"
     ]
    },
    {
     "name": "stdout",
     "output_type": "stream",
     "text": [
      "===> Integrating for model_output/scenarios_102_90/L-r15-t125000-id3-fincpp-107_90\n"
     ]
    },
    {
     "name": "stderr",
     "output_type": "stream",
     "text": [
      "  3%|▎         | 3/89 [00:00<00:09,  8.69it/s]]"
     ]
    },
    {
     "name": "stdout",
     "output_type": "stream",
     "text": [
      "===> Integrating for model_output/scenarios_102_90/L-r15-t1000000-id9-fincpp-107_90\n"
     ]
    },
    {
     "name": "stderr",
     "output_type": "stream",
     "text": [
      "100%|██████████| 89/89 [00:11<00:00,  7.94it/s]\n",
      "100%|██████████| 89/89 [00:11<00:00,  7.70it/s]\n",
      "100%|██████████| 89/89 [00:11<00:00,  7.70it/s]\n",
      "100%|██████████| 89/89 [00:11<00:00,  7.66it/s]\n",
      "100%|██████████| 89/89 [00:11<00:00,  7.67it/s]\n",
      "100%|██████████| 89/89 [00:11<00:00,  7.65it/s]\n",
      "100%|██████████| 89/89 [00:11<00:00,  7.60it/s]\n",
      "100%|██████████| 89/89 [00:11<00:00,  7.61it/s]\n",
      "100%|██████████| 89/89 [00:11<00:00,  7.56it/s]\n",
      "100%|██████████| 89/89 [00:11<00:00,  7.65it/s]\n",
      "100%|██████████| 89/89 [00:11<00:00,  7.57it/s]\n",
      "100%|██████████| 89/89 [00:11<00:00,  7.58it/s]\n"
     ]
    },
    {
     "name": "stdout",
     "output_type": "stream",
     "text": [
      "===> Integrating for model_output/scenarios_102_90/U-r3-t479700-id0-pincpp-107_90\n"
     ]
    },
    {
     "name": "stderr",
     "output_type": "stream",
     "text": [
      " 17%|█▋        | 15/89 [00:01<00:08,  8.68it/s]"
     ]
    },
    {
     "name": "stdout",
     "output_type": "stream",
     "text": [
      "===> Integrating for model_output/scenarios_102_90/U-r15-t125000-id2-pincpp-107_90\n"
     ]
    },
    {
     "name": "stderr",
     "output_type": "stream",
     "text": [
      "  2%|▏         | 2/89 [00:00<00:10,  8.67it/s]]"
     ]
    },
    {
     "name": "stdout",
     "output_type": "stream",
     "text": [
      "===> Integrating for model_output/scenarios_102_90/L-r15-t250000-id5-pincpp-107_90\n"
     ]
    },
    {
     "name": "stderr",
     "output_type": "stream",
     "text": [
      "  4%|▍         | 4/89 [00:00<00:09,  8.74it/s]]"
     ]
    },
    {
     "name": "stdout",
     "output_type": "stream",
     "text": [
      "===> Integrating for model_output/scenarios_102_90/U-r15-t479700-id6-pincpp-107_90\n"
     ]
    },
    {
     "name": "stderr",
     "output_type": "stream",
     "text": [
      "  0%|          | 0/89 [00:00<?, ?it/s]"
     ]
    },
    {
     "name": "stdout",
     "output_type": "stream",
     "text": [
      "===> Integrating for model_output/scenarios_102_90/L-r3-t479700-id1-pincpp-107_90\n"
     ]
    },
    {
     "name": "stderr",
     "output_type": "stream",
     "text": [
      "  6%|▌         | 5/89 [00:00<00:09,  8.76it/s]]"
     ]
    },
    {
     "name": "stdout",
     "output_type": "stream",
     "text": [
      "===> Integrating for model_output/scenarios_102_90/U-r150-t479700-id10-pincpp-107_90\n"
     ]
    },
    {
     "name": "stderr",
     "output_type": "stream",
     "text": [
      "  0%|          | 0/89 [00:00<?, ?it/s]"
     ]
    },
    {
     "name": "stdout",
     "output_type": "stream",
     "text": [
      "===> Integrating for model_output/scenarios_102_90/L-r15-t479700-id7-pincpp-107_90\n"
     ]
    },
    {
     "name": "stderr",
     "output_type": "stream",
     "text": [
      "  3%|▎         | 3/89 [00:00<00:09,  8.98it/s]]"
     ]
    },
    {
     "name": "stdout",
     "output_type": "stream",
     "text": [
      "===> Integrating for model_output/scenarios_102_90/U-r15-t250000-id4-pincpp-107_90\n"
     ]
    },
    {
     "name": "stderr",
     "output_type": "stream",
     "text": [
      "  1%|          | 1/89 [00:00<00:10,  8.64it/s]"
     ]
    },
    {
     "name": "stdout",
     "output_type": "stream",
     "text": [
      "===> Integrating for model_output/scenarios_102_90/L-r150-t479700-id11-pincpp-107_90\n"
     ]
    },
    {
     "name": "stderr",
     "output_type": "stream",
     "text": [
      "  1%|          | 1/89 [00:00<00:09,  9.17it/s]]"
     ]
    },
    {
     "name": "stdout",
     "output_type": "stream",
     "text": [
      "===> Integrating for model_output/scenarios_102_90/U-r15-t1000000-id8-pincpp-107_90\n"
     ]
    },
    {
     "name": "stderr",
     "output_type": "stream",
     "text": [
      "  3%|▎         | 3/89 [00:00<00:10,  8.57it/s]]"
     ]
    },
    {
     "name": "stdout",
     "output_type": "stream",
     "text": [
      "===> Integrating for model_output/scenarios_102_90/L-r15-t1000000-id9-pincpp-107_90\n"
     ]
    },
    {
     "name": "stderr",
     "output_type": "stream",
     "text": [
      "  2%|▏         | 2/89 [00:00<00:09,  8.86it/s]"
     ]
    },
    {
     "name": "stdout",
     "output_type": "stream",
     "text": [
      "===> Integrating for model_output/scenarios_102_90/L-r15-t125000-id3-pincpp-107_90\n"
     ]
    },
    {
     "name": "stderr",
     "output_type": "stream",
     "text": [
      "100%|██████████| 89/89 [00:10<00:00,  8.61it/s]\n",
      "100%|██████████| 89/89 [00:10<00:00,  8.38it/s]\n",
      "100%|██████████| 89/89 [00:10<00:00,  8.30it/s]\n",
      "100%|██████████| 89/89 [00:10<00:00,  8.29it/s]\n",
      "100%|██████████| 89/89 [00:10<00:00,  8.31it/s]\n",
      "100%|██████████| 89/89 [00:10<00:00,  8.44it/s]\n",
      "100%|██████████| 89/89 [00:10<00:00,  8.30it/s]\n",
      "100%|██████████| 89/89 [00:10<00:00,  8.36it/s]\n",
      "100%|██████████| 89/89 [00:10<00:00,  8.27it/s]\n",
      "100%|██████████| 89/89 [00:10<00:00,  8.22it/s]\n",
      "100%|██████████| 89/89 [00:10<00:00,  8.29it/s]\n",
      "100%|██████████| 89/89 [00:10<00:00,  8.23it/s]\n"
     ]
    },
    {
     "name": "stdout",
     "output_type": "stream",
     "text": [
      "===> Integrating for model_output/scenarios_102_90/U-r3-t479700-id0-fsuspp-107_90\n"
     ]
    },
    {
     "name": "stderr",
     "output_type": "stream",
     "text": [
      " 25%|██▍       | 22/89 [00:02<00:08,  7.77it/s]"
     ]
    },
    {
     "name": "stdout",
     "output_type": "stream",
     "text": [
      "===> Integrating for model_output/scenarios_102_90/U-r15-t125000-id2-fsuspp-107_90\n"
     ]
    },
    {
     "name": "stderr",
     "output_type": "stream",
     "text": [
      " 31%|███▏      | 28/89 [00:03<00:07,  7.77it/s]"
     ]
    },
    {
     "name": "stdout",
     "output_type": "stream",
     "text": [
      "===> Integrating for model_output/scenarios_102_90/L-r15-t250000-id5-fsuspp-107_90\n"
     ]
    },
    {
     "name": "stderr",
     "output_type": "stream",
     "text": [
      "  1%|          | 1/89 [00:00<00:10,  8.07it/s]]"
     ]
    },
    {
     "name": "stdout",
     "output_type": "stream",
     "text": [
      "===> Integrating for model_output/scenarios_102_90/U-r15-t479700-id6-fsuspp-107_90\n"
     ]
    },
    {
     "name": "stderr",
     "output_type": "stream",
     "text": [
      "  8%|▊         | 7/89 [00:00<00:11,  7.39it/s]]"
     ]
    },
    {
     "name": "stdout",
     "output_type": "stream",
     "text": [
      "===> Integrating for model_output/scenarios_102_90/L-r3-t479700-id1-fsuspp-107_90\n"
     ]
    },
    {
     "name": "stderr",
     "output_type": "stream",
     "text": [
      "  0%|          | 0/89 [00:00<?, ?it/s]"
     ]
    },
    {
     "name": "stdout",
     "output_type": "stream",
     "text": [
      "===> Integrating for model_output/scenarios_102_90/L-r150-t479700-id11-fsuspp-107_90\n",
      "===> Integrating for model_output/scenarios_102_90/L-r15-t479700-id7-fsuspp-107_90\n"
     ]
    },
    {
     "name": "stderr",
     "output_type": "stream",
     "text": [
      "  0%|          | 0/89 [00:00<?, ?it/s].40it/s]"
     ]
    },
    {
     "name": "stdout",
     "output_type": "stream",
     "text": [
      "===> Integrating for model_output/scenarios_102_90/U-r15-t250000-id4-fsuspp-107_90\n",
      "===> Integrating for model_output/scenarios_102_90/U-r150-t479700-id10-fsuspp-107_90"
     ]
    },
    {
     "name": "stderr",
     "output_type": "stream",
     "text": [
      "  0%|          | 0/89 [00:00<?, ?it/s]"
     ]
    },
    {
     "name": "stdout",
     "output_type": "stream",
     "text": [
      "\n"
     ]
    },
    {
     "name": "stderr",
     "output_type": "stream",
     "text": [
      "  3%|▎         | 3/89 [00:00<00:13,  6.49it/s]]"
     ]
    },
    {
     "name": "stdout",
     "output_type": "stream",
     "text": [
      "===> Integrating for model_output/scenarios_102_90/U-r15-t1000000-id8-fsuspp-107_90\n"
     ]
    },
    {
     "name": "stderr",
     "output_type": "stream",
     "text": [
      "  6%|▌         | 5/89 [00:00<00:12,  6.89it/s]]"
     ]
    },
    {
     "name": "stdout",
     "output_type": "stream",
     "text": [
      "===> Integrating for model_output/scenarios_102_90/L-r15-t125000-id3-fsuspp-107_90"
     ]
    },
    {
     "name": "stderr",
     "output_type": "stream",
     "text": [
      "  3%|▎         | 3/89 [00:00<00:12,  7.02it/s]"
     ]
    },
    {
     "name": "stdout",
     "output_type": "stream",
     "text": [
      "\n"
     ]
    },
    {
     "name": "stderr",
     "output_type": "stream",
     "text": [
      "  0%|          | 0/89 [00:00<?, ?it/s]"
     ]
    },
    {
     "name": "stdout",
     "output_type": "stream",
     "text": [
      "===> Integrating for model_output/scenarios_102_90/L-r15-t1000000-id9-fsuspp-107_90\n"
     ]
    },
    {
     "name": "stderr",
     "output_type": "stream",
     "text": [
      "100%|██████████| 89/89 [00:11<00:00,  7.42it/s]\n",
      "100%|██████████| 89/89 [00:12<00:00,  7.31it/s]\n",
      "100%|██████████| 89/89 [00:12<00:00,  7.38it/s]\n",
      "100%|██████████| 89/89 [00:11<00:00,  7.43it/s]\n",
      "100%|██████████| 89/89 [00:11<00:00,  7.43it/s]\n",
      "100%|██████████| 89/89 [00:12<00:00,  7.41it/s]\n",
      "100%|██████████| 89/89 [00:12<00:00,  7.33it/s]\n",
      "100%|██████████| 89/89 [00:12<00:00,  7.37it/s]\n",
      "100%|██████████| 89/89 [00:12<00:00,  7.39it/s]\n",
      "100%|██████████| 89/89 [00:11<00:00,  7.46it/s]\n",
      "100%|██████████| 89/89 [00:12<00:00,  7.37it/s]\n",
      "100%|██████████| 89/89 [00:11<00:00,  7.44it/s]\n"
     ]
    },
    {
     "name": "stdout",
     "output_type": "stream",
     "text": [
      "===> Integrating for model_output/scenarios_102_90/U-r3-t479700-id0-psuspp-107_90\n"
     ]
    },
    {
     "name": "stderr",
     "output_type": "stream",
     "text": [
      " 39%|███▉      | 35/89 [00:04<00:06,  8.30it/s]"
     ]
    },
    {
     "name": "stdout",
     "output_type": "stream",
     "text": [
      "===> Integrating for model_output/scenarios_102_90/U-r15-t125000-id2-psuspp-107_90"
     ]
    },
    {
     "name": "stderr",
     "output_type": "stream",
     "text": [
      " 40%|████      | 36/89 [00:04<00:06,  8.51it/s]"
     ]
    },
    {
     "name": "stdout",
     "output_type": "stream",
     "text": [
      "\n"
     ]
    },
    {
     "name": "stderr",
     "output_type": "stream",
     "text": [
      "  8%|▊         | 7/89 [00:00<00:10,  8.02it/s]]"
     ]
    },
    {
     "name": "stdout",
     "output_type": "stream",
     "text": [
      "===> Integrating for model_output/scenarios_102_90/L-r15-t250000-id5-psuspp-107_90\n"
     ]
    },
    {
     "name": "stderr",
     "output_type": "stream",
     "text": [
      " 51%|█████     | 45/89 [00:05<00:05,  7.84it/s]"
     ]
    },
    {
     "name": "stdout",
     "output_type": "stream",
     "text": [
      "===> Integrating for model_output/scenarios_102_90/L-r150-t479700-id11-psuspp-107_90\n"
     ]
    },
    {
     "name": "stderr",
     "output_type": "stream",
     "text": [
      "  2%|▏         | 2/89 [00:00<00:10,  8.48it/s]"
     ]
    },
    {
     "name": "stdout",
     "output_type": "stream",
     "text": [
      "===> Integrating for model_output/scenarios_102_90/U-r15-t250000-id4-psuspp-107_90\n"
     ]
    },
    {
     "name": "stderr",
     "output_type": "stream",
     "text": [
      "  0%|          | 0/89 [00:00<?, ?it/s]"
     ]
    },
    {
     "name": "stdout",
     "output_type": "stream",
     "text": [
      "===> Integrating for model_output/scenarios_102_90/L-r3-t479700-id1-psuspp-107_90\n"
     ]
    },
    {
     "name": "stderr",
     "output_type": "stream",
     "text": [
      "  0%|          | 0/89 [00:00<?, ?it/s]"
     ]
    },
    {
     "name": "stdout",
     "output_type": "stream",
     "text": [
      "===> Integrating for model_output/scenarios_102_90/U-r150-t479700-id10-psuspp-107_90\n",
      "===> Integrating for model_output/scenarios_102_90/U-r15-t479700-id6-psuspp-107_90"
     ]
    },
    {
     "name": "stderr",
     "output_type": "stream",
     "text": [
      "  0%|          | 0/89 [00:00<?, ?it/s]"
     ]
    },
    {
     "name": "stdout",
     "output_type": "stream",
     "text": [
      "\n"
     ]
    },
    {
     "name": "stderr",
     "output_type": "stream",
     "text": [
      "  1%|          | 1/89 [00:00<00:10,  8.32it/s]]"
     ]
    },
    {
     "name": "stdout",
     "output_type": "stream",
     "text": [
      "===> Integrating for model_output/scenarios_102_90/L-r15-t479700-id7-psuspp-107_90"
     ]
    },
    {
     "name": "stderr",
     "output_type": "stream",
     "text": [
      "  3%|▎         | 3/89 [00:00<00:10,  8.12it/s]"
     ]
    },
    {
     "name": "stdout",
     "output_type": "stream",
     "text": [
      "\n"
     ]
    },
    {
     "name": "stderr",
     "output_type": "stream",
     "text": [
      "  3%|▎         | 3/89 [00:00<00:10,  8.04it/s]]"
     ]
    },
    {
     "name": "stdout",
     "output_type": "stream",
     "text": [
      "===> Integrating for model_output/scenarios_102_90/L-r15-t125000-id3-psuspp-107_90\n"
     ]
    },
    {
     "name": "stderr",
     "output_type": "stream",
     "text": [
      "  3%|▎         | 3/89 [00:00<00:10,  7.83it/s]"
     ]
    },
    {
     "name": "stdout",
     "output_type": "stream",
     "text": [
      "===> Integrating for model_output/scenarios_102_90/U-r15-t1000000-id8-psuspp-107_90\n"
     ]
    },
    {
     "name": "stderr",
     "output_type": "stream",
     "text": [
      "  7%|▋         | 6/89 [00:00<00:10,  8.03it/s]]"
     ]
    },
    {
     "name": "stdout",
     "output_type": "stream",
     "text": [
      "===> Integrating for model_output/scenarios_102_90/L-r15-t1000000-id9-psuspp-107_90"
     ]
    },
    {
     "name": "stderr",
     "output_type": "stream",
     "text": [
      "  3%|▎         | 3/89 [00:00<00:11,  7.77it/s]"
     ]
    },
    {
     "name": "stdout",
     "output_type": "stream",
     "text": [
      "\n"
     ]
    },
    {
     "name": "stderr",
     "output_type": "stream",
     "text": [
      "100%|██████████| 89/89 [00:11<00:00,  7.95it/s]\n",
      "100%|██████████| 89/89 [00:12<00:00,  7.37it/s]\n",
      "100%|██████████| 89/89 [00:12<00:00,  7.26it/s]\n",
      "100%|██████████| 89/89 [00:12<00:00,  7.32it/s]\n",
      "100%|██████████| 89/89 [00:12<00:00,  7.30it/s]\n",
      "100%|██████████| 89/89 [00:12<00:00,  7.28it/s]\n",
      "100%|██████████| 89/89 [00:12<00:00,  7.23it/s]\n",
      "100%|██████████| 89/89 [00:12<00:00,  7.22it/s]\n",
      "100%|██████████| 89/89 [00:12<00:00,  7.16it/s]\n",
      "100%|██████████| 89/89 [00:12<00:00,  7.24it/s]\n",
      "100%|██████████| 89/89 [00:12<00:00,  7.25it/s]\n",
      "100%|██████████| 89/89 [00:12<00:00,  7.19it/s]\n"
     ]
    },
    {
     "name": "stdout",
     "output_type": "stream",
     "text": [
      "===> Integrating for model_output/scenarios_102_90/U-r3-t479700-id0-ppop-107_90\n"
     ]
    },
    {
     "name": "stderr",
     "output_type": "stream",
     "text": [
      " 55%|█████▌    | 49/89 [00:05<00:04,  8.58it/s]"
     ]
    },
    {
     "name": "stdout",
     "output_type": "stream",
     "text": [
      "===> Integrating for model_output/scenarios_102_90/U-r15-t125000-id2-ppop-107_90\n"
     ]
    },
    {
     "name": "stderr",
     "output_type": "stream",
     "text": [
      " 66%|██████▋   | 59/89 [00:07<00:03,  8.74it/s]"
     ]
    },
    {
     "name": "stdout",
     "output_type": "stream",
     "text": [
      "===> Integrating for model_output/scenarios_102_90/L-r150-t479700-id11-ppop-107_90===> Integrating for model_output/scenarios_102_90/L-r15-t250000-id5-ppop-107_90\n",
      "\n"
     ]
    },
    {
     "name": "stderr",
     "output_type": "stream",
     "text": [
      " 11%|█         | 10/89 [00:01<00:09,  8.58it/s]"
     ]
    },
    {
     "name": "stdout",
     "output_type": "stream",
     "text": [
      "===> Integrating for model_output/scenarios_102_90/U-r150-t479700-id10-ppop-107_90\n"
     ]
    },
    {
     "name": "stderr",
     "output_type": "stream",
     "text": [
      "  1%|          | 1/89 [00:00<00:10,  8.24it/s]]"
     ]
    },
    {
     "name": "stdout",
     "output_type": "stream",
     "text": [
      "===> Integrating for model_output/scenarios_102_90/U-r15-t479700-id6-ppop-107_90"
     ]
    },
    {
     "name": "stderr",
     "output_type": "stream",
     "text": [
      " 69%|██████▊   | 61/89 [00:07<00:03,  8.42it/s]"
     ]
    },
    {
     "name": "stdout",
     "output_type": "stream",
     "text": [
      "\n"
     ]
    },
    {
     "name": "stderr",
     "output_type": "stream",
     "text": [
      " 13%|█▎        | 12/89 [00:01<00:09,  8.31it/s]"
     ]
    },
    {
     "name": "stdout",
     "output_type": "stream",
     "text": [
      "===> Integrating for model_output/scenarios_102_90/L-r3-t479700-id1-ppop-107_90\n"
     ]
    },
    {
     "name": "stderr",
     "output_type": "stream",
     "text": [
      "  1%|          | 1/89 [00:00<00:10,  8.53it/s]]"
     ]
    },
    {
     "name": "stdout",
     "output_type": "stream",
     "text": [
      "===> Integrating for model_output/scenarios_102_90/U-r15-t250000-id4-ppop-107_90\n"
     ]
    },
    {
     "name": "stderr",
     "output_type": "stream",
     "text": [
      "  4%|▍         | 4/89 [00:00<00:10,  8.14it/s]]"
     ]
    },
    {
     "name": "stdout",
     "output_type": "stream",
     "text": [
      "===> Integrating for model_output/scenarios_102_90/L-r15-t479700-id7-ppop-107_90\n"
     ]
    },
    {
     "name": "stderr",
     "output_type": "stream",
     "text": [
      "  2%|▏         | 2/89 [00:00<00:10,  7.95it/s]]"
     ]
    },
    {
     "name": "stdout",
     "output_type": "stream",
     "text": [
      "===> Integrating for model_output/scenarios_102_90/L-r15-t125000-id3-ppop-107_90\n"
     ]
    },
    {
     "name": "stderr",
     "output_type": "stream",
     "text": [
      "  2%|▏         | 2/89 [00:00<00:10,  8.46it/s]]"
     ]
    },
    {
     "name": "stdout",
     "output_type": "stream",
     "text": [
      "===> Integrating for model_output/scenarios_102_90/U-r15-t1000000-id8-ppop-107_90\n"
     ]
    },
    {
     "name": "stderr",
     "output_type": "stream",
     "text": [
      "  1%|          | 1/89 [00:00<00:10,  8.18it/s]]"
     ]
    },
    {
     "name": "stdout",
     "output_type": "stream",
     "text": [
      "===> Integrating for model_output/scenarios_102_90/L-r15-t1000000-id9-ppop-107_90\n"
     ]
    },
    {
     "name": "stderr",
     "output_type": "stream",
     "text": [
      "100%|██████████| 89/89 [00:10<00:00,  8.09it/s]\n",
      "100%|██████████| 89/89 [00:11<00:00,  7.73it/s]\n",
      "100%|██████████| 89/89 [00:11<00:00,  7.76it/s]\n",
      "100%|██████████| 89/89 [00:11<00:00,  7.70it/s]\n",
      "100%|██████████| 89/89 [00:11<00:00,  7.58it/s]\n",
      "100%|██████████| 89/89 [00:11<00:00,  7.64it/s]\n",
      "100%|██████████| 89/89 [00:11<00:00,  7.66it/s]\n",
      "100%|██████████| 89/89 [00:11<00:00,  7.62it/s]\n",
      "100%|██████████| 89/89 [00:11<00:00,  7.69it/s]\n",
      "100%|██████████| 89/89 [00:11<00:00,  7.73it/s]\n",
      "100%|██████████| 89/89 [00:11<00:00,  7.58it/s]\n",
      "100%|██████████| 89/89 [00:11<00:00,  7.64it/s]\n"
     ]
    },
    {
     "name": "stdout",
     "output_type": "stream",
     "text": [
      "===> Integrating for model_output/scenarios_102_90/U-r3-t479700-id0-fpop-107_90\n"
     ]
    },
    {
     "name": "stderr",
     "output_type": "stream",
     "text": [
      " 79%|███████▊  | 70/89 [00:08<00:02,  8.75it/s]"
     ]
    },
    {
     "name": "stdout",
     "output_type": "stream",
     "text": [
      "===> Integrating for model_output/scenarios_102_90/U-r15-t125000-id2-fpop-107_90\n"
     ]
    },
    {
     "name": "stderr",
     "output_type": "stream",
     "text": [
      " 91%|█████████ | 81/89 [00:09<00:00,  8.39it/s]"
     ]
    },
    {
     "name": "stdout",
     "output_type": "stream",
     "text": [
      "===> Integrating for model_output/scenarios_102_90/U-r150-t479700-id10-fpop-107_90\n"
     ]
    },
    {
     "name": "stderr",
     "output_type": "stream",
     "text": [
      "  1%|          | 1/89 [00:00<00:10,  8.41it/s]]"
     ]
    },
    {
     "name": "stdout",
     "output_type": "stream",
     "text": [
      "===> Integrating for model_output/scenarios_102_90/L-r150-t479700-id11-fpop-107_90\n"
     ]
    },
    {
     "name": "stderr",
     "output_type": "stream",
     "text": [
      "  1%|          | 1/89 [00:00<00:10,  8.17it/s]]"
     ]
    },
    {
     "name": "stdout",
     "output_type": "stream",
     "text": [
      "===> Integrating for model_output/scenarios_102_90/L-r15-t250000-id5-fpop-107_90\n"
     ]
    },
    {
     "name": "stderr",
     "output_type": "stream",
     "text": [
      "  0%|          | 0/89 [00:00<?, ?it/s]8.47it/s]"
     ]
    },
    {
     "name": "stdout",
     "output_type": "stream",
     "text": [
      "===> Integrating for model_output/scenarios_102_90/U-r15-t479700-id6-fpop-107_90\n"
     ]
    },
    {
     "name": "stderr",
     "output_type": "stream",
     "text": [
      "  3%|▎         | 3/89 [00:00<00:10,  8.21it/s]]"
     ]
    },
    {
     "name": "stdout",
     "output_type": "stream",
     "text": [
      "===> Integrating for model_output/scenarios_102_90/L-r3-t479700-id1-fpop-107_90\n"
     ]
    },
    {
     "name": "stderr",
     "output_type": "stream",
     "text": [
      "  3%|▎         | 3/89 [00:00<00:10,  7.93it/s]]"
     ]
    },
    {
     "name": "stdout",
     "output_type": "stream",
     "text": [
      "===> Integrating for model_output/scenarios_102_90/U-r15-t1000000-id8-fpop-107_90\n"
     ]
    },
    {
     "name": "stderr",
     "output_type": "stream",
     "text": [
      "  0%|          | 0/89 [00:00<?, ?it/s]"
     ]
    },
    {
     "name": "stdout",
     "output_type": "stream",
     "text": [
      "===> Integrating for model_output/scenarios_102_90/L-r15-t479700-id7-fpop-107_90\n"
     ]
    },
    {
     "name": "stderr",
     "output_type": "stream",
     "text": [
      "  4%|▍         | 4/89 [00:00<00:11,  7.72it/s]]"
     ]
    },
    {
     "name": "stdout",
     "output_type": "stream",
     "text": [
      "===> Integrating for model_output/scenarios_102_90/U-r15-t250000-id4-fpop-107_90\n"
     ]
    },
    {
     "name": "stderr",
     "output_type": "stream",
     "text": [
      "  6%|▌         | 5/89 [00:00<00:10,  7.66it/s]]"
     ]
    },
    {
     "name": "stdout",
     "output_type": "stream",
     "text": [
      "===> Integrating for model_output/scenarios_102_90/L-r15-t125000-id3-fpop-107_90\n"
     ]
    },
    {
     "name": "stderr",
     "output_type": "stream",
     "text": [
      "  8%|▊         | 7/89 [00:00<00:10,  7.71it/s]]"
     ]
    },
    {
     "name": "stdout",
     "output_type": "stream",
     "text": [
      "===> Integrating for model_output/scenarios_102_90/L-r15-t1000000-id9-fpop-107_90\n"
     ]
    },
    {
     "name": "stderr",
     "output_type": "stream",
     "text": [
      "100%|██████████| 89/89 [00:10<00:00,  8.38it/s]\n",
      "100%|██████████| 89/89 [00:11<00:00,  8.01it/s]\n",
      "100%|██████████| 89/89 [00:11<00:00,  7.92it/s]\n",
      "100%|██████████| 89/89 [00:11<00:00,  7.83it/s]\n",
      "100%|██████████| 89/89 [00:11<00:00,  7.94it/s]\n",
      "100%|██████████| 89/89 [00:11<00:00,  7.86it/s]\n",
      "100%|██████████| 89/89 [00:11<00:00,  7.87it/s]\n",
      "100%|██████████| 89/89 [00:11<00:00,  7.89it/s]\n",
      "100%|██████████| 89/89 [00:11<00:00,  7.89it/s]\n",
      "100%|██████████| 89/89 [00:11<00:00,  7.76it/s]\n",
      "100%|██████████| 89/89 [00:11<00:00,  7.81it/s]\n",
      "100%|██████████| 89/89 [00:11<00:00,  7.87it/s]\n"
     ]
    }
   ],
   "source": [
    "# Generate alternatives:\n",
    "import multiprocessing as mp\n",
    "pool = mp.Pool(mp.cpu_count())\n",
    "    \n",
    "all_sims = pool.starmap(generate_all_alternatives, [(scenario_name, scenario) for scenario_name, scenario in scenarios.items()])"
   ]
  },
  {
   "cell_type": "markdown",
   "metadata": {
    "execution": {
     "iopub.execute_input": "2021-02-01T17:53:52.320543Z",
     "iopub.status.busy": "2021-02-01T17:53:52.320317Z",
     "iopub.status.idle": "2021-02-01T17:53:52.323514Z",
     "shell.execute_reply": "2021-02-01T17:53:52.322898Z",
     "shell.execute_reply.started": "2021-02-01T17:53:52.320517Z"
    }
   },
   "source": [
    "# Generate the averted cases for all posterior draws"
   ]
  },
  {
   "cell_type": "code",
   "execution_count": 9,
   "metadata": {
    "execution": {
     "iopub.execute_input": "2021-02-18T10:59:40.725120Z",
     "iopub.status.busy": "2021-02-18T10:59:40.724883Z",
     "iopub.status.idle": "2021-02-18T10:59:42.867661Z",
     "shell.execute_reply": "2021-02-18T10:59:42.866784Z",
     "shell.execute_reply.started": "2021-02-18T10:59:40.725092Z"
    }
   },
   "outputs": [],
   "source": [
    "import matlab.engine\n",
    "\n",
    "eng = matlab.engine.start_matlab()\n",
    "eng.cd('matlab/check-strats/', nargout=0)\n",
    "\n",
    "eng.workspace['timesV'] = matlab.double(np.arange(738167, 738167+ndays).tolist()) # THIS IS FOR JANUARY 11th"
   ]
  },
  {
   "cell_type": "code",
   "execution_count": null,
   "metadata": {},
   "outputs": [],
   "source": []
  },
  {
   "cell_type": "code",
   "execution_count": 11,
   "metadata": {
    "execution": {
     "iopub.execute_input": "2021-02-18T11:02:41.414097Z",
     "iopub.status.busy": "2021-02-18T11:02:41.413872Z",
     "iopub.status.idle": "2021-02-18T11:55:53.618853Z",
     "shell.execute_reply": "2021-02-18T11:55:53.617950Z",
     "shell.execute_reply.started": "2021-02-18T11:02:41.414072Z"
    },
    "scrolled": true
   },
   "outputs": [
    {
     "name": "stdout",
     "output_type": "stream",
     "text": [
      "Doing model_output/scenarios_102_90/U-r3-t479700-id0-opi-107_90.csv\n",
      "Doing model_output/scenarios_102_90/L-r3-t479700-id1-opi-107_90.csv\n",
      "Doing model_output/scenarios_102_90/U-r15-t125000-id2-opi-107_90.csv\n",
      "Doing model_output/scenarios_102_90/L-r15-t125000-id3-opi-107_90.csv\n",
      "Doing model_output/scenarios_102_90/U-r15-t250000-id4-opi-107_90.csv\n",
      "Doing model_output/scenarios_102_90/L-r15-t250000-id5-opi-107_90.csv\n",
      "Doing model_output/scenarios_102_90/U-r15-t479700-id6-opi-107_90.csv\n",
      "Doing model_output/scenarios_102_90/L-r15-t479700-id7-opi-107_90.csv\n",
      "Doing model_output/scenarios_102_90/U-r15-t1000000-id8-opi-107_90.csv\n",
      "Doing model_output/scenarios_102_90/L-r15-t1000000-id9-opi-107_90.csv\n",
      "Doing model_output/scenarios_102_90/U-r150-t479700-id10-opi-107_90.csv\n",
      "Doing model_output/scenarios_102_90/L-r150-t479700-id11-opi-107_90.csv\n",
      "Doing model_output/scenarios_102_90/U-r3-t479700-id0-finc-107_90.csv\n",
      "Doing model_output/scenarios_102_90/L-r3-t479700-id1-finc-107_90.csv\n",
      "Doing model_output/scenarios_102_90/U-r15-t125000-id2-finc-107_90.csv\n",
      "Doing model_output/scenarios_102_90/L-r15-t125000-id3-finc-107_90.csv\n",
      "Doing model_output/scenarios_102_90/U-r15-t250000-id4-finc-107_90.csv\n",
      "Doing model_output/scenarios_102_90/L-r15-t250000-id5-finc-107_90.csv\n",
      "Doing model_output/scenarios_102_90/U-r15-t479700-id6-finc-107_90.csv\n",
      "Doing model_output/scenarios_102_90/L-r15-t479700-id7-finc-107_90.csv\n",
      "Doing model_output/scenarios_102_90/U-r15-t1000000-id8-finc-107_90.csv\n",
      "Doing model_output/scenarios_102_90/L-r15-t1000000-id9-finc-107_90.csv\n",
      "Doing model_output/scenarios_102_90/U-r150-t479700-id10-finc-107_90.csv\n",
      "Doing model_output/scenarios_102_90/L-r150-t479700-id11-finc-107_90.csv\n",
      "Doing model_output/scenarios_102_90/U-r3-t479700-id0-pinc-107_90.csv\n",
      "Doing model_output/scenarios_102_90/L-r3-t479700-id1-pinc-107_90.csv\n",
      "Doing model_output/scenarios_102_90/U-r15-t125000-id2-pinc-107_90.csv\n",
      "Doing model_output/scenarios_102_90/L-r15-t125000-id3-pinc-107_90.csv\n",
      "Doing model_output/scenarios_102_90/U-r15-t250000-id4-pinc-107_90.csv\n",
      "Doing model_output/scenarios_102_90/L-r15-t250000-id5-pinc-107_90.csv\n",
      "Doing model_output/scenarios_102_90/U-r15-t479700-id6-pinc-107_90.csv\n",
      "Doing model_output/scenarios_102_90/L-r15-t479700-id7-pinc-107_90.csv\n",
      "Doing model_output/scenarios_102_90/U-r15-t1000000-id8-pinc-107_90.csv\n",
      "Doing model_output/scenarios_102_90/L-r15-t1000000-id9-pinc-107_90.csv\n",
      "Doing model_output/scenarios_102_90/U-r150-t479700-id10-pinc-107_90.csv\n",
      "Doing model_output/scenarios_102_90/L-r150-t479700-id11-pinc-107_90.csv\n",
      "Doing model_output/scenarios_102_90/U-r3-t479700-id0-fsus-107_90.csv\n",
      "Doing model_output/scenarios_102_90/L-r3-t479700-id1-fsus-107_90.csv\n",
      "Doing model_output/scenarios_102_90/U-r15-t125000-id2-fsus-107_90.csv\n",
      "Doing model_output/scenarios_102_90/L-r15-t125000-id3-fsus-107_90.csv\n",
      "Doing model_output/scenarios_102_90/U-r15-t250000-id4-fsus-107_90.csv\n",
      "Doing model_output/scenarios_102_90/L-r15-t250000-id5-fsus-107_90.csv\n",
      "Doing model_output/scenarios_102_90/U-r15-t479700-id6-fsus-107_90.csv\n",
      "Doing model_output/scenarios_102_90/L-r15-t479700-id7-fsus-107_90.csv\n",
      "Doing model_output/scenarios_102_90/U-r15-t1000000-id8-fsus-107_90.csv\n",
      "Doing model_output/scenarios_102_90/L-r15-t1000000-id9-fsus-107_90.csv\n",
      "Doing model_output/scenarios_102_90/U-r150-t479700-id10-fsus-107_90.csv\n",
      "Doing model_output/scenarios_102_90/L-r150-t479700-id11-fsus-107_90.csv\n",
      "Doing model_output/scenarios_102_90/U-r3-t479700-id0-psus-107_90.csv\n",
      "Doing model_output/scenarios_102_90/L-r3-t479700-id1-psus-107_90.csv\n",
      "Doing model_output/scenarios_102_90/U-r15-t125000-id2-psus-107_90.csv\n",
      "Doing model_output/scenarios_102_90/L-r15-t125000-id3-psus-107_90.csv\n",
      "Doing model_output/scenarios_102_90/U-r15-t250000-id4-psus-107_90.csv\n",
      "Doing model_output/scenarios_102_90/L-r15-t250000-id5-psus-107_90.csv\n",
      "Doing model_output/scenarios_102_90/U-r15-t479700-id6-psus-107_90.csv\n",
      "Doing model_output/scenarios_102_90/L-r15-t479700-id7-psus-107_90.csv\n",
      "Doing model_output/scenarios_102_90/U-r15-t1000000-id8-psus-107_90.csv\n",
      "Doing model_output/scenarios_102_90/L-r15-t1000000-id9-psus-107_90.csv\n",
      "Doing model_output/scenarios_102_90/U-r150-t479700-id10-psus-107_90.csv\n",
      "Doing model_output/scenarios_102_90/L-r150-t479700-id11-psus-107_90.csv\n",
      "Doing model_output/scenarios_102_90/U-r3-t479700-id0-fincpp-107_90.csv\n",
      "Doing model_output/scenarios_102_90/L-r3-t479700-id1-fincpp-107_90.csv\n",
      "Doing model_output/scenarios_102_90/U-r15-t125000-id2-fincpp-107_90.csv\n",
      "Doing model_output/scenarios_102_90/L-r15-t125000-id3-fincpp-107_90.csv\n",
      "Doing model_output/scenarios_102_90/U-r15-t250000-id4-fincpp-107_90.csv\n",
      "Doing model_output/scenarios_102_90/L-r15-t250000-id5-fincpp-107_90.csv\n",
      "Doing model_output/scenarios_102_90/U-r15-t479700-id6-fincpp-107_90.csv\n",
      "Doing model_output/scenarios_102_90/L-r15-t479700-id7-fincpp-107_90.csv\n",
      "Doing model_output/scenarios_102_90/U-r15-t1000000-id8-fincpp-107_90.csv\n",
      "Doing model_output/scenarios_102_90/L-r15-t1000000-id9-fincpp-107_90.csv\n",
      "Doing model_output/scenarios_102_90/U-r150-t479700-id10-fincpp-107_90.csv\n",
      "Doing model_output/scenarios_102_90/L-r150-t479700-id11-fincpp-107_90.csv\n",
      "Doing model_output/scenarios_102_90/U-r3-t479700-id0-pincpp-107_90.csv\n",
      "Doing model_output/scenarios_102_90/L-r3-t479700-id1-pincpp-107_90.csv\n",
      "Doing model_output/scenarios_102_90/U-r15-t125000-id2-pincpp-107_90.csv\n",
      "Doing model_output/scenarios_102_90/L-r15-t125000-id3-pincpp-107_90.csv\n",
      "Doing model_output/scenarios_102_90/U-r15-t250000-id4-pincpp-107_90.csv\n",
      "Doing model_output/scenarios_102_90/L-r15-t250000-id5-pincpp-107_90.csv\n",
      "Doing model_output/scenarios_102_90/U-r15-t479700-id6-pincpp-107_90.csv\n",
      "Doing model_output/scenarios_102_90/L-r15-t479700-id7-pincpp-107_90.csv\n",
      "Doing model_output/scenarios_102_90/U-r15-t1000000-id8-pincpp-107_90.csv\n",
      "Doing model_output/scenarios_102_90/L-r15-t1000000-id9-pincpp-107_90.csv\n",
      "Doing model_output/scenarios_102_90/U-r150-t479700-id10-pincpp-107_90.csv\n",
      "Doing model_output/scenarios_102_90/L-r150-t479700-id11-pincpp-107_90.csv\n",
      "Doing model_output/scenarios_102_90/U-r3-t479700-id0-fsuspp-107_90.csv\n",
      "Doing model_output/scenarios_102_90/L-r3-t479700-id1-fsuspp-107_90.csv\n",
      "Doing model_output/scenarios_102_90/U-r15-t125000-id2-fsuspp-107_90.csv\n",
      "Doing model_output/scenarios_102_90/L-r15-t125000-id3-fsuspp-107_90.csv\n",
      "Doing model_output/scenarios_102_90/U-r15-t250000-id4-fsuspp-107_90.csv\n",
      "Doing model_output/scenarios_102_90/L-r15-t250000-id5-fsuspp-107_90.csv\n",
      "Doing model_output/scenarios_102_90/U-r15-t479700-id6-fsuspp-107_90.csv\n",
      "Doing model_output/scenarios_102_90/L-r15-t479700-id7-fsuspp-107_90.csv\n",
      "Doing model_output/scenarios_102_90/U-r15-t1000000-id8-fsuspp-107_90.csv\n",
      "Doing model_output/scenarios_102_90/L-r15-t1000000-id9-fsuspp-107_90.csv\n",
      "Doing model_output/scenarios_102_90/U-r150-t479700-id10-fsuspp-107_90.csv\n",
      "Doing model_output/scenarios_102_90/L-r150-t479700-id11-fsuspp-107_90.csv\n",
      "Doing model_output/scenarios_102_90/U-r3-t479700-id0-psuspp-107_90.csv\n",
      "Doing model_output/scenarios_102_90/L-r3-t479700-id1-psuspp-107_90.csv\n",
      "Doing model_output/scenarios_102_90/U-r15-t125000-id2-psuspp-107_90.csv\n",
      "Doing model_output/scenarios_102_90/L-r15-t125000-id3-psuspp-107_90.csv\n",
      "Doing model_output/scenarios_102_90/U-r15-t250000-id4-psuspp-107_90.csv\n",
      "Doing model_output/scenarios_102_90/L-r15-t250000-id5-psuspp-107_90.csv\n",
      "Doing model_output/scenarios_102_90/U-r15-t479700-id6-psuspp-107_90.csv\n",
      "Doing model_output/scenarios_102_90/L-r15-t479700-id7-psuspp-107_90.csv\n",
      "Doing model_output/scenarios_102_90/U-r15-t1000000-id8-psuspp-107_90.csv\n",
      "Doing model_output/scenarios_102_90/L-r15-t1000000-id9-psuspp-107_90.csv\n",
      "Doing model_output/scenarios_102_90/U-r150-t479700-id10-psuspp-107_90.csv\n",
      "Doing model_output/scenarios_102_90/L-r150-t479700-id11-psuspp-107_90.csv\n",
      "Doing model_output/scenarios_102_90/U-r3-t479700-id0-ppop-107_90.csv\n",
      "Doing model_output/scenarios_102_90/L-r3-t479700-id1-ppop-107_90.csv\n",
      "Doing model_output/scenarios_102_90/U-r15-t125000-id2-ppop-107_90.csv\n",
      "Doing model_output/scenarios_102_90/L-r15-t125000-id3-ppop-107_90.csv\n",
      "Doing model_output/scenarios_102_90/U-r15-t250000-id4-ppop-107_90.csv\n",
      "Doing model_output/scenarios_102_90/L-r15-t250000-id5-ppop-107_90.csv\n",
      "Doing model_output/scenarios_102_90/U-r15-t479700-id6-ppop-107_90.csv\n",
      "Doing model_output/scenarios_102_90/L-r15-t479700-id7-ppop-107_90.csv\n",
      "Doing model_output/scenarios_102_90/U-r15-t1000000-id8-ppop-107_90.csv\n",
      "Doing model_output/scenarios_102_90/L-r15-t1000000-id9-ppop-107_90.csv\n",
      "Doing model_output/scenarios_102_90/U-r150-t479700-id10-ppop-107_90.csv\n",
      "Doing model_output/scenarios_102_90/L-r150-t479700-id11-ppop-107_90.csv\n",
      "Doing model_output/scenarios_102_90/U-r3-t479700-id0-fpop-107_90.csv\n",
      "Doing model_output/scenarios_102_90/L-r3-t479700-id1-fpop-107_90.csv\n",
      "Doing model_output/scenarios_102_90/U-r15-t125000-id2-fpop-107_90.csv\n",
      "Doing model_output/scenarios_102_90/L-r15-t125000-id3-fpop-107_90.csv\n",
      "Doing model_output/scenarios_102_90/U-r15-t250000-id4-fpop-107_90.csv\n",
      "Doing model_output/scenarios_102_90/L-r15-t250000-id5-fpop-107_90.csv\n",
      "Doing model_output/scenarios_102_90/U-r15-t479700-id6-fpop-107_90.csv\n",
      "Doing model_output/scenarios_102_90/L-r15-t479700-id7-fpop-107_90.csv\n",
      "Doing model_output/scenarios_102_90/U-r15-t1000000-id8-fpop-107_90.csv\n",
      "Doing model_output/scenarios_102_90/L-r15-t1000000-id9-fpop-107_90.csv\n",
      "Doing model_output/scenarios_102_90/U-r150-t479700-id10-fpop-107_90.csv\n",
      "Doing model_output/scenarios_102_90/L-r150-t479700-id11-fpop-107_90.csv\n"
     ]
    }
   ],
   "source": [
    "scn_results = pd.DataFrame(columns=['newdoseperweek', 'method', 'infected'])\n",
    "methods = ['opi', 'finc', 'pinc', 'fsus', 'psus','fincpp', 'pincpp', 'fsuspp', 'psuspp', 'ppop', 'fpop'] # 'opt'\n",
    "\n",
    "for met in methods:\n",
    "    for scenario_name, scenario in scenarios.items():\n",
    "        filename = f'{generated_dir}/{scenario_name}-{met}-{nnodes}_{ndays}.csv'\n",
    "        if os.path.isfile(filename):\n",
    "            print(f'Doing {filename}')\n",
    "            maxvaccrate_regional, stockpile_national, stockpile_national_constraint, control_initial = build_scenario(setup, scenario)\n",
    "            p.apply_epicourse(setup, scenario['beta_mult'])\n",
    "            \n",
    "            md = pd.read_csv(filename, index_col= 'date', parse_dates=True)\n",
    "            \n",
    "            dosesV = md[md['comp'] == 'vacc'].pivot(columns='placeID', values='value').to_numpy()\n",
    "\n",
    "            eng.workspace['Vdoses'] = matlab.double(dosesV.tolist())\n",
    "            eng.workspace['beta_ratio'] = matlab.double(scenario['beta_mult'][0].tolist())\n",
    "            eng.run('main_script.m', nargout=0)\n",
    "            ens_exposed = np.array(eng.eval('ens_exposed_preprocess')).flatten()\n",
    "        \n",
    "            scn_results = pd.concat([scn_results, pd.DataFrame.from_dict({'newdoseperweek':[int(scenario_name.split('-')[2][1:])]*len(ens_exposed),\n",
    "                                                                           'method': [met]*len(ens_exposed),\n",
    "                                                                           'infected':ens_exposed.tolist(),\n",
    "                                                                           'post_sample':np.arange(len(ens_exposed)),\n",
    "                                                                           'doses': [dosesV.sum()]*len(ens_exposed),\n",
    "                                                                           'scenario-beta': [scenario_name.split('-')[0]]*len(ens_exposed),\n",
    "                                                                           'scenario-rate': [scenario_name.split('-')[1]]*len(ens_exposed),\n",
    "                                                                           'scenario-tot': [scenario_name.split('-')[2]]*len(ens_exposed),\n",
    "                                                                           'scenario': [scenario_name]*len(ens_exposed)\n",
    "                                                                         })])\n",
    "        else:\n",
    "            print(f'not found {scenario_name}')"
   ]
  },
  {
   "cell_type": "code",
   "execution_count": 12,
   "metadata": {
    "execution": {
     "iopub.execute_input": "2021-02-18T11:55:53.620751Z",
     "iopub.status.busy": "2021-02-18T11:55:53.620506Z",
     "iopub.status.idle": "2021-02-18T11:56:44.409996Z",
     "shell.execute_reply": "2021-02-18T11:56:44.409154Z",
     "shell.execute_reply.started": "2021-02-18T11:55:53.620721Z"
    }
   },
   "outputs": [
    {
     "name": "stdout",
     "output_type": "stream",
     "text": [
      "U-r3-t479700-id0\n",
      "L-r3-t479700-id1\n"
     ]
    }
   ],
   "source": [
    "scenarios_baseline = {}\n",
    "for scenario_name, scenario in scenarios.items():\n",
    "    if scenario_name.split('-')[0] not in scenarios_baseline:\n",
    "        print(scenario_name)\n",
    "\n",
    "        maxvaccrate_regional, stockpile_national, stockpile_national_constraint, control_initial = build_scenario(setup, scenario)\n",
    "        \n",
    "        p.apply_epicourse(setup, scenario['beta_mult'])\n",
    "\n",
    "        dosesV = np.zeros_like(dosesV)\n",
    "\n",
    "        eng.workspace['Vdoses'] = matlab.double(dosesV.tolist())\n",
    "        eng.workspace['beta_ratio'] = matlab.double(scenario['beta_mult'][0].tolist())\n",
    "        eng.run('main_script.m', nargout=0)\n",
    "        ens_exposed = np.array(eng.eval('ens_exposed_preprocess')).flatten()\n",
    "        \n",
    "        scenarios_baseline[scenario_name.split('-')[0]] = ens_exposed\n",
    "        "
   ]
  },
  {
   "cell_type": "code",
   "execution_count": 13,
   "metadata": {
    "execution": {
     "iopub.execute_input": "2021-02-18T11:56:44.412416Z",
     "iopub.status.busy": "2021-02-18T11:56:44.412162Z",
     "iopub.status.idle": "2021-02-18T11:56:44.442156Z",
     "shell.execute_reply": "2021-02-18T11:56:44.441368Z",
     "shell.execute_reply.started": "2021-02-18T11:56:44.412385Z"
    }
   },
   "outputs": [
    {
     "data": {
      "text/html": [
       "<div>\n",
       "<style scoped>\n",
       "    .dataframe tbody tr th:only-of-type {\n",
       "        vertical-align: middle;\n",
       "    }\n",
       "\n",
       "    .dataframe tbody tr th {\n",
       "        vertical-align: top;\n",
       "    }\n",
       "\n",
       "    .dataframe thead th {\n",
       "        text-align: right;\n",
       "    }\n",
       "</style>\n",
       "<table border=\"1\" class=\"dataframe\">\n",
       "  <thead>\n",
       "    <tr style=\"text-align: right;\">\n",
       "      <th></th>\n",
       "      <th>newdoseperweek</th>\n",
       "      <th>method</th>\n",
       "      <th>infected</th>\n",
       "      <th>post_sample</th>\n",
       "      <th>doses</th>\n",
       "      <th>scenario-beta</th>\n",
       "      <th>scenario-rate</th>\n",
       "      <th>scenario-tot</th>\n",
       "      <th>scenario</th>\n",
       "    </tr>\n",
       "  </thead>\n",
       "  <tbody>\n",
       "    <tr>\n",
       "      <th>0</th>\n",
       "      <td>479700</td>\n",
       "      <td>opi</td>\n",
       "      <td>3.006920e+08</td>\n",
       "      <td>0.0</td>\n",
       "      <td>6.318088e+06</td>\n",
       "      <td>U</td>\n",
       "      <td>r3</td>\n",
       "      <td>t479700</td>\n",
       "      <td>U-r3-t479700-id0</td>\n",
       "    </tr>\n",
       "    <tr>\n",
       "      <th>1</th>\n",
       "      <td>479700</td>\n",
       "      <td>opi</td>\n",
       "      <td>2.924840e+08</td>\n",
       "      <td>1.0</td>\n",
       "      <td>6.318088e+06</td>\n",
       "      <td>U</td>\n",
       "      <td>r3</td>\n",
       "      <td>t479700</td>\n",
       "      <td>U-r3-t479700-id0</td>\n",
       "    </tr>\n",
       "    <tr>\n",
       "      <th>2</th>\n",
       "      <td>479700</td>\n",
       "      <td>opi</td>\n",
       "      <td>2.792843e+08</td>\n",
       "      <td>2.0</td>\n",
       "      <td>6.318088e+06</td>\n",
       "      <td>U</td>\n",
       "      <td>r3</td>\n",
       "      <td>t479700</td>\n",
       "      <td>U-r3-t479700-id0</td>\n",
       "    </tr>\n",
       "    <tr>\n",
       "      <th>3</th>\n",
       "      <td>479700</td>\n",
       "      <td>opi</td>\n",
       "      <td>2.840928e+08</td>\n",
       "      <td>3.0</td>\n",
       "      <td>6.318088e+06</td>\n",
       "      <td>U</td>\n",
       "      <td>r3</td>\n",
       "      <td>t479700</td>\n",
       "      <td>U-r3-t479700-id0</td>\n",
       "    </tr>\n",
       "    <tr>\n",
       "      <th>4</th>\n",
       "      <td>479700</td>\n",
       "      <td>opi</td>\n",
       "      <td>2.704770e+08</td>\n",
       "      <td>4.0</td>\n",
       "      <td>6.318088e+06</td>\n",
       "      <td>U</td>\n",
       "      <td>r3</td>\n",
       "      <td>t479700</td>\n",
       "      <td>U-r3-t479700-id0</td>\n",
       "    </tr>\n",
       "    <tr>\n",
       "      <th>...</th>\n",
       "      <td>...</td>\n",
       "      <td>...</td>\n",
       "      <td>...</td>\n",
       "      <td>...</td>\n",
       "      <td>...</td>\n",
       "      <td>...</td>\n",
       "      <td>...</td>\n",
       "      <td>...</td>\n",
       "      <td>...</td>\n",
       "    </tr>\n",
       "    <tr>\n",
       "      <th>97</th>\n",
       "      <td>479700</td>\n",
       "      <td>fpop</td>\n",
       "      <td>9.864285e+07</td>\n",
       "      <td>97.0</td>\n",
       "      <td>6.236100e+06</td>\n",
       "      <td>L</td>\n",
       "      <td>r150</td>\n",
       "      <td>t479700</td>\n",
       "      <td>L-r150-t479700-id11</td>\n",
       "    </tr>\n",
       "    <tr>\n",
       "      <th>98</th>\n",
       "      <td>479700</td>\n",
       "      <td>fpop</td>\n",
       "      <td>1.036543e+08</td>\n",
       "      <td>98.0</td>\n",
       "      <td>6.236100e+06</td>\n",
       "      <td>L</td>\n",
       "      <td>r150</td>\n",
       "      <td>t479700</td>\n",
       "      <td>L-r150-t479700-id11</td>\n",
       "    </tr>\n",
       "    <tr>\n",
       "      <th>99</th>\n",
       "      <td>479700</td>\n",
       "      <td>fpop</td>\n",
       "      <td>1.058738e+08</td>\n",
       "      <td>99.0</td>\n",
       "      <td>6.236100e+06</td>\n",
       "      <td>L</td>\n",
       "      <td>r150</td>\n",
       "      <td>t479700</td>\n",
       "      <td>L-r150-t479700-id11</td>\n",
       "    </tr>\n",
       "    <tr>\n",
       "      <th>100</th>\n",
       "      <td>479700</td>\n",
       "      <td>fpop</td>\n",
       "      <td>9.955109e+07</td>\n",
       "      <td>100.0</td>\n",
       "      <td>6.236100e+06</td>\n",
       "      <td>L</td>\n",
       "      <td>r150</td>\n",
       "      <td>t479700</td>\n",
       "      <td>L-r150-t479700-id11</td>\n",
       "    </tr>\n",
       "    <tr>\n",
       "      <th>101</th>\n",
       "      <td>479700</td>\n",
       "      <td>fpop</td>\n",
       "      <td>9.953006e+07</td>\n",
       "      <td>101.0</td>\n",
       "      <td>6.236100e+06</td>\n",
       "      <td>L</td>\n",
       "      <td>r150</td>\n",
       "      <td>t479700</td>\n",
       "      <td>L-r150-t479700-id11</td>\n",
       "    </tr>\n",
       "  </tbody>\n",
       "</table>\n",
       "<p>13464 rows × 9 columns</p>\n",
       "</div>"
      ],
      "text/plain": [
       "    newdoseperweek method      infected  post_sample         doses  \\\n",
       "0           479700    opi  3.006920e+08          0.0  6.318088e+06   \n",
       "1           479700    opi  2.924840e+08          1.0  6.318088e+06   \n",
       "2           479700    opi  2.792843e+08          2.0  6.318088e+06   \n",
       "3           479700    opi  2.840928e+08          3.0  6.318088e+06   \n",
       "4           479700    opi  2.704770e+08          4.0  6.318088e+06   \n",
       "..             ...    ...           ...          ...           ...   \n",
       "97          479700   fpop  9.864285e+07         97.0  6.236100e+06   \n",
       "98          479700   fpop  1.036543e+08         98.0  6.236100e+06   \n",
       "99          479700   fpop  1.058738e+08         99.0  6.236100e+06   \n",
       "100         479700   fpop  9.955109e+07        100.0  6.236100e+06   \n",
       "101         479700   fpop  9.953006e+07        101.0  6.236100e+06   \n",
       "\n",
       "    scenario-beta scenario-rate scenario-tot             scenario  \n",
       "0               U            r3      t479700     U-r3-t479700-id0  \n",
       "1               U            r3      t479700     U-r3-t479700-id0  \n",
       "2               U            r3      t479700     U-r3-t479700-id0  \n",
       "3               U            r3      t479700     U-r3-t479700-id0  \n",
       "4               U            r3      t479700     U-r3-t479700-id0  \n",
       "..            ...           ...          ...                  ...  \n",
       "97              L          r150      t479700  L-r150-t479700-id11  \n",
       "98              L          r150      t479700  L-r150-t479700-id11  \n",
       "99              L          r150      t479700  L-r150-t479700-id11  \n",
       "100             L          r150      t479700  L-r150-t479700-id11  \n",
       "101             L          r150      t479700  L-r150-t479700-id11  \n",
       "\n",
       "[13464 rows x 9 columns]"
      ]
     },
     "execution_count": 13,
     "metadata": {},
     "output_type": "execute_result"
    }
   ],
   "source": [
    "scn_results"
   ]
  },
  {
   "cell_type": "code",
   "execution_count": 14,
   "metadata": {
    "execution": {
     "iopub.execute_input": "2021-02-18T11:56:44.444407Z",
     "iopub.status.busy": "2021-02-18T11:56:44.444159Z",
     "iopub.status.idle": "2021-02-18T11:56:44.452461Z",
     "shell.execute_reply": "2021-02-18T11:56:44.451581Z",
     "shell.execute_reply.started": "2021-02-18T11:56:44.444376Z"
    }
   },
   "outputs": [],
   "source": [
    "nbtileU = int(len(scn_results.loc[scn_results['scenario-beta'] == 'U', 'scenario-tot'])/len(scenarios_baseline['U']))\n",
    "nbtileL = int(len(scn_results.loc[scn_results['scenario-beta'] == 'L', 'scenario-tot'])/len(scenarios_baseline['L']))"
   ]
  },
  {
   "cell_type": "code",
   "execution_count": 15,
   "metadata": {
    "execution": {
     "iopub.execute_input": "2021-02-18T11:56:44.453940Z",
     "iopub.status.busy": "2021-02-18T11:56:44.453609Z",
     "iopub.status.idle": "2021-02-18T11:56:44.466670Z",
     "shell.execute_reply": "2021-02-18T11:56:44.465873Z",
     "shell.execute_reply.started": "2021-02-18T11:56:44.453908Z"
    }
   },
   "outputs": [],
   "source": [
    "scn_results['bl'] = 0\n",
    "\n",
    "scn_results.loc[scn_results['scenario-beta'] == 'U', 'bl'] = np.tile(scenarios_baseline['U'],nbtileU)\n",
    "scn_results.loc[scn_results['scenario-beta'] == 'L', 'bl'] = np.tile(scenarios_baseline['L'],nbtileL)"
   ]
  },
  {
   "cell_type": "code",
   "execution_count": 16,
   "metadata": {
    "execution": {
     "iopub.execute_input": "2021-02-18T11:56:44.468264Z",
     "iopub.status.busy": "2021-02-18T11:56:44.467953Z",
     "iopub.status.idle": "2021-02-18T11:56:44.474545Z",
     "shell.execute_reply": "2021-02-18T11:56:44.473734Z",
     "shell.execute_reply.started": "2021-02-18T11:56:44.468232Z"
    }
   },
   "outputs": [],
   "source": [
    "scn_results['averted'] = scn_results['bl'] - scn_results['infected']\n",
    "scn_results['avertedpervacc'] = scn_results['averted']/scn_results['doses']"
   ]
  },
  {
   "cell_type": "code",
   "execution_count": 17,
   "metadata": {
    "execution": {
     "iopub.execute_input": "2021-02-18T11:56:44.476090Z",
     "iopub.status.busy": "2021-02-18T11:56:44.475796Z",
     "iopub.status.idle": "2021-02-18T11:56:44.683934Z",
     "shell.execute_reply": "2021-02-18T11:56:44.683131Z",
     "shell.execute_reply.started": "2021-02-18T11:56:44.476041Z"
    }
   },
   "outputs": [],
   "source": [
    "scn_results.to_csv(f'{generated_dir}/all_summary.csv')"
   ]
  },
  {
   "cell_type": "code",
   "execution_count": 24,
   "metadata": {
    "execution": {
     "iopub.execute_input": "2021-02-18T16:25:06.381635Z",
     "iopub.status.busy": "2021-02-18T16:25:06.381405Z",
     "iopub.status.idle": "2021-02-18T16:25:06.386974Z",
     "shell.execute_reply": "2021-02-18T16:25:06.386116Z",
     "shell.execute_reply.started": "2021-02-18T16:25:06.381609Z"
    }
   },
   "outputs": [],
   "source": [
    "scenarios_specs = {\n",
    "'vaccpermonthM': [1.5, 15, 150],  # ax.set_ylim(0.05, 0.4)\n",
    "# 'vacctotalM': [2, 5, 10, 15, 20],\n",
    "'newdoseperweek': [125000, 250000, 479700, 1e6, 2e6],\n",
    "'epicourse': ['U', 'L']  # 'U'\n",
    "}\n",
    "\n",
    "import itertools\n",
    "# Compute all permutatios\n",
    "keys, values = zip(*scenarios_specs.items())\n",
    "permuted_specs = [dict(zip(keys, v)) for v in itertools.product(*values)]"
   ]
  },
  {
   "cell_type": "code",
   "execution_count": 25,
   "metadata": {
    "execution": {
     "iopub.execute_input": "2021-02-18T16:25:08.069279Z",
     "iopub.status.busy": "2021-02-18T16:25:08.069112Z",
     "iopub.status.idle": "2021-02-18T16:25:08.078236Z",
     "shell.execute_reply": "2021-02-18T16:25:08.077658Z",
     "shell.execute_reply.started": "2021-02-18T16:25:08.069261Z"
    }
   },
   "outputs": [
    {
     "data": {
      "text/html": [
       "<div>\n",
       "<style scoped>\n",
       "    .dataframe tbody tr th:only-of-type {\n",
       "        vertical-align: middle;\n",
       "    }\n",
       "\n",
       "    .dataframe tbody tr th {\n",
       "        vertical-align: top;\n",
       "    }\n",
       "\n",
       "    .dataframe thead th {\n",
       "        text-align: right;\n",
       "    }\n",
       "</style>\n",
       "<table border=\"1\" class=\"dataframe\">\n",
       "  <thead>\n",
       "    <tr style=\"text-align: right;\">\n",
       "      <th></th>\n",
       "      <th>vaccpermonthM</th>\n",
       "      <th>newdoseperweek</th>\n",
       "      <th>epicourse</th>\n",
       "    </tr>\n",
       "  </thead>\n",
       "  <tbody>\n",
       "    <tr>\n",
       "      <th>0</th>\n",
       "      <td>1.5</td>\n",
       "      <td>479700.0</td>\n",
       "      <td>U</td>\n",
       "    </tr>\n",
       "    <tr>\n",
       "      <th>1</th>\n",
       "      <td>1.5</td>\n",
       "      <td>479700.0</td>\n",
       "      <td>L</td>\n",
       "    </tr>\n",
       "    <tr>\n",
       "      <th>2</th>\n",
       "      <td>15.0</td>\n",
       "      <td>125000.0</td>\n",
       "      <td>U</td>\n",
       "    </tr>\n",
       "    <tr>\n",
       "      <th>3</th>\n",
       "      <td>15.0</td>\n",
       "      <td>125000.0</td>\n",
       "      <td>L</td>\n",
       "    </tr>\n",
       "    <tr>\n",
       "      <th>4</th>\n",
       "      <td>15.0</td>\n",
       "      <td>250000.0</td>\n",
       "      <td>U</td>\n",
       "    </tr>\n",
       "    <tr>\n",
       "      <th>5</th>\n",
       "      <td>15.0</td>\n",
       "      <td>250000.0</td>\n",
       "      <td>L</td>\n",
       "    </tr>\n",
       "    <tr>\n",
       "      <th>6</th>\n",
       "      <td>15.0</td>\n",
       "      <td>479700.0</td>\n",
       "      <td>U</td>\n",
       "    </tr>\n",
       "    <tr>\n",
       "      <th>7</th>\n",
       "      <td>15.0</td>\n",
       "      <td>479700.0</td>\n",
       "      <td>L</td>\n",
       "    </tr>\n",
       "    <tr>\n",
       "      <th>8</th>\n",
       "      <td>15.0</td>\n",
       "      <td>1000000.0</td>\n",
       "      <td>U</td>\n",
       "    </tr>\n",
       "    <tr>\n",
       "      <th>9</th>\n",
       "      <td>15.0</td>\n",
       "      <td>1000000.0</td>\n",
       "      <td>L</td>\n",
       "    </tr>\n",
       "    <tr>\n",
       "      <th>10</th>\n",
       "      <td>15.0</td>\n",
       "      <td>2000000.0</td>\n",
       "      <td>U</td>\n",
       "    </tr>\n",
       "    <tr>\n",
       "      <th>11</th>\n",
       "      <td>15.0</td>\n",
       "      <td>2000000.0</td>\n",
       "      <td>L</td>\n",
       "    </tr>\n",
       "    <tr>\n",
       "      <th>12</th>\n",
       "      <td>150.0</td>\n",
       "      <td>479700.0</td>\n",
       "      <td>U</td>\n",
       "    </tr>\n",
       "    <tr>\n",
       "      <th>13</th>\n",
       "      <td>150.0</td>\n",
       "      <td>479700.0</td>\n",
       "      <td>L</td>\n",
       "    </tr>\n",
       "  </tbody>\n",
       "</table>\n",
       "</div>"
      ],
      "text/plain": [
       "    vaccpermonthM  newdoseperweek epicourse\n",
       "0             1.5        479700.0         U\n",
       "1             1.5        479700.0         L\n",
       "2            15.0        125000.0         U\n",
       "3            15.0        125000.0         L\n",
       "4            15.0        250000.0         U\n",
       "5            15.0        250000.0         L\n",
       "6            15.0        479700.0         U\n",
       "7            15.0        479700.0         L\n",
       "8            15.0       1000000.0         U\n",
       "9            15.0       1000000.0         L\n",
       "10           15.0       2000000.0         U\n",
       "11           15.0       2000000.0         L\n",
       "12          150.0        479700.0         U\n",
       "13          150.0        479700.0         L"
      ]
     },
     "execution_count": 25,
     "metadata": {},
     "output_type": "execute_result"
    }
   ],
   "source": [
    "specs = pd.DataFrame.from_dict(permuted_specs)\n",
    "specs = specs[((specs['vaccpermonthM'] == 15.0) | (specs['newdoseperweek'] == 479700.0))].reset_index(drop = True)\n",
    "specs"
   ]
  },
  {
   "cell_type": "code",
   "execution_count": 19,
   "metadata": {
    "execution": {
     "iopub.execute_input": "2021-02-12T17:34:28.232288Z",
     "iopub.status.busy": "2021-02-12T17:34:28.232067Z",
     "iopub.status.idle": "2021-02-12T17:34:28.238757Z",
     "shell.execute_reply": "2021-02-12T17:34:28.238066Z",
     "shell.execute_reply.started": "2021-02-12T17:34:28.232263Z"
    }
   },
   "outputs": [],
   "source": [
    "specs.to_csv('scenarios_specs_2021-02-12.csv')"
   ]
  }
 ],
 "metadata": {
  "kernelspec": {
   "display_name": "Python (ocp-covid)",
   "language": "python",
   "name": "ocp-covid"
  },
  "language_info": {
   "codemirror_mode": {
    "name": "ipython",
    "version": 3
   },
   "file_extension": ".py",
   "mimetype": "text/x-python",
   "name": "python",
   "nbconvert_exporter": "python",
   "pygments_lexer": "ipython3",
   "version": "3.7.9"
  }
 },
 "nbformat": 4,
 "nbformat_minor": 4
}
