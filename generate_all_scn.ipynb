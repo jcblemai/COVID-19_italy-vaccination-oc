{
 "cells": [
  {
   "cell_type": "code",
   "execution_count": 1,
   "metadata": {
    "execution": {
     "iopub.execute_input": "2021-02-12T16:38:32.152423Z",
     "iopub.status.busy": "2021-02-12T16:38:32.152097Z",
     "iopub.status.idle": "2021-02-12T16:38:33.268323Z",
     "shell.execute_reply": "2021-02-12T16:38:33.267812Z",
     "shell.execute_reply.started": "2021-02-12T16:38:32.152362Z"
    }
   },
   "outputs": [
    {
     "name": "stdout",
     "output_type": "stream",
     "text": [
      "Loaded Italy Setup with 107 nodes.\n",
      "Loaded Italy Setup with 107 nodes.\n"
     ]
    },
    {
     "data": {
      "text/plain": [
       "dict_keys(['U-r1-t125000-id0', 'L-r1-t125000-id1', 'U-r1-t250000-id2', 'L-r1-t250000-id3', 'U-r1-t479700-id4', 'L-r1-t479700-id5', 'U-r1-t1000000-id6', 'L-r1-t1000000-id7', 'U-r15-t125000-id8', 'L-r15-t125000-id9', 'U-r15-t250000-id10', 'L-r15-t250000-id11', 'U-r15-t479700-id12', 'L-r15-t479700-id13', 'U-r15-t1000000-id14', 'L-r15-t1000000-id15'])"
      ]
     },
     "execution_count": 1,
     "metadata": {},
     "output_type": "execute_result"
    }
   ],
   "source": [
    "import copy\n",
    "import matplotlib as mpl\n",
    "import matplotlib.pyplot as plt\n",
    "import numpy as np\n",
    "import pandas as pd\n",
    "import networkx\n",
    "from ItalySetup import ItalySetup\n",
    "from covidOCP import COVIDVaccinationOCP, COVIDParametersOCP\n",
    "from main import pick_scenario, build_scenario\n",
    "import seaborn as sns\n",
    "import datetime\n",
    "import pickle\n",
    "import os\n",
    "\n",
    "nx = 9\n",
    "states_names = ['S', 'E', 'P', 'I', 'A', 'Q', 'H', 'R', 'V']\n",
    "when = 'future'\n",
    "file_prefix = f'week'\n",
    "outdir = 'helvetios-runs/2021-02-02-107_90/'\n",
    "\n",
    "generated_dir = 'model_output/scenarios_102_90'\n",
    "\n",
    "n_int_steps = 6\n",
    "nnodes = 107  # nodes\n",
    "ndays_ocp = 90\n",
    "ndays = 90\n",
    "\n",
    "setup = ItalySetup(nnodes, ndays, when)\n",
    "setup_ocp = ItalySetup(nnodes, ndays_ocp, when)\n",
    "M = setup.nnodes\n",
    "N = len(setup.model_days) - 1\n",
    "\n",
    "with open(f'italy-data/parameters_{nnodes}_{when}.pkl', 'rb') as inp:\n",
    "    p = pickle.load(inp)\n",
    "    \n",
    "os.makedirs(f'{generated_dir}', exist_ok=True)\n",
    "\n",
    "scenarios = {pick_scenario(setup, i)['name']:pick_scenario(setup, i) for i in np.arange(16)}\n",
    "scenarios.keys()"
   ]
  },
  {
   "cell_type": "code",
   "execution_count": 3,
   "metadata": {
    "execution": {
     "iopub.execute_input": "2021-02-07T10:16:43.952921Z",
     "iopub.status.busy": "2021-02-07T10:16:43.952692Z",
     "iopub.status.idle": "2021-02-07T10:16:43.956933Z",
     "shell.execute_reply": "2021-02-07T10:16:43.956312Z",
     "shell.execute_reply.started": "2021-02-07T10:16:43.952894Z"
    }
   },
   "outputs": [
    {
     "name": "stdout",
     "output_type": "stream",
     "text": [
      "8\n"
     ]
    }
   ],
   "source": [
    "# Choose a subset of scenarios:\n",
    "pick = 'r15-'\n",
    "scenarios = {k:v for (k,v) in scenarios.items() if pick in k}\n",
    "print(len(scenarios))"
   ]
  },
  {
   "cell_type": "code",
   "execution_count": 3,
   "metadata": {
    "execution": {
     "iopub.execute_input": "2021-02-07T09:58:32.011064Z",
     "iopub.status.busy": "2021-02-07T09:58:32.010870Z",
     "iopub.status.idle": "2021-02-07T10:12:16.298173Z",
     "shell.execute_reply": "2021-02-07T10:12:16.297600Z",
     "shell.execute_reply.started": "2021-02-07T09:58:32.011042Z"
    }
   },
   "outputs": [
    {
     "name": "stdout",
     "output_type": "stream",
     "text": [
      "YES helvetios-runs/2021-02-02-107_90/week-U-r15-t125000-id0-opt-107_90.csv\n"
     ]
    },
    {
     "name": "stderr",
     "output_type": "stream",
     "text": [
      "  0%|          | 0/89 [00:00<?, ?it/s]"
     ]
    },
    {
     "name": "stdout",
     "output_type": "stream",
     "text": [
      "===> Integrating for model_output/scenarios_102_90/U-r15-t125000-id0-opi-107_90\n"
     ]
    },
    {
     "name": "stderr",
     "output_type": "stream",
     "text": [
      "100%|██████████| 89/89 [00:04<00:00, 18.79it/s]\n",
      "  2%|▏         | 2/89 [00:00<00:04, 19.20it/s]"
     ]
    },
    {
     "name": "stdout",
     "output_type": "stream",
     "text": [
      "--> DONE U-r15-t125000-id0\n",
      "===> Integrating for model_output/scenarios_102_90/U-r15-t125000-id0-novacc-107_90\n"
     ]
    },
    {
     "name": "stderr",
     "output_type": "stream",
     "text": [
      "100%|██████████| 89/89 [00:05<00:00, 17.54it/s]\n"
     ]
    },
    {
     "name": "stdout",
     "output_type": "stream",
     "text": [
      "YES helvetios-runs/2021-02-02-107_90/week-L-r15-t125000-id1-opt-107_90.csv\n"
     ]
    },
    {
     "name": "stderr",
     "output_type": "stream",
     "text": [
      "  3%|▎         | 3/89 [00:00<00:04, 21.29it/s]"
     ]
    },
    {
     "name": "stdout",
     "output_type": "stream",
     "text": [
      "===> Integrating for model_output/scenarios_102_90/L-r15-t125000-id1-opi-107_90\n"
     ]
    },
    {
     "name": "stderr",
     "output_type": "stream",
     "text": [
      "100%|██████████| 89/89 [00:04<00:00, 19.74it/s]\n",
      "  2%|▏         | 2/89 [00:00<00:04, 19.71it/s]"
     ]
    },
    {
     "name": "stdout",
     "output_type": "stream",
     "text": [
      "--> DONE L-r15-t125000-id1\n",
      "===> Integrating for model_output/scenarios_102_90/L-r15-t125000-id1-novacc-107_90\n"
     ]
    },
    {
     "name": "stderr",
     "output_type": "stream",
     "text": [
      "100%|██████████| 89/89 [00:04<00:00, 19.04it/s]\n"
     ]
    },
    {
     "name": "stdout",
     "output_type": "stream",
     "text": [
      "YES helvetios-runs/2021-02-02-107_90/week-U-r15-t250000-id4-opt-107_90.csv\n"
     ]
    },
    {
     "name": "stderr",
     "output_type": "stream",
     "text": [
      "  4%|▍         | 4/89 [00:00<00:04, 19.90it/s]"
     ]
    },
    {
     "name": "stdout",
     "output_type": "stream",
     "text": [
      "===> Integrating for model_output/scenarios_102_90/U-r15-t250000-id4-opi-107_90\n"
     ]
    },
    {
     "name": "stderr",
     "output_type": "stream",
     "text": [
      "100%|██████████| 89/89 [00:04<00:00, 20.19it/s]\n"
     ]
    },
    {
     "name": "stdout",
     "output_type": "stream",
     "text": [
      "--> DONE U-r15-t250000-id4\n",
      "YES helvetios-runs/2021-02-02-107_90/week-L-r15-t250000-id5-opt-107_90.csv\n"
     ]
    },
    {
     "name": "stderr",
     "output_type": "stream",
     "text": [
      "  3%|▎         | 3/89 [00:00<00:04, 20.59it/s]"
     ]
    },
    {
     "name": "stdout",
     "output_type": "stream",
     "text": [
      "===> Integrating for model_output/scenarios_102_90/L-r15-t250000-id5-opi-107_90\n"
     ]
    },
    {
     "name": "stderr",
     "output_type": "stream",
     "text": [
      "100%|██████████| 89/89 [00:04<00:00, 21.50it/s]\n"
     ]
    },
    {
     "name": "stdout",
     "output_type": "stream",
     "text": [
      "--> DONE L-r15-t250000-id5\n",
      "YES helvetios-runs/2021-02-02-107_90/week-U-r15-t479700-id8-opt-107_90.csv\n"
     ]
    },
    {
     "name": "stderr",
     "output_type": "stream",
     "text": [
      "  2%|▏         | 2/89 [00:00<00:04, 19.94it/s]"
     ]
    },
    {
     "name": "stdout",
     "output_type": "stream",
     "text": [
      "===> Integrating for model_output/scenarios_102_90/U-r15-t479700-id8-opi-107_90\n"
     ]
    },
    {
     "name": "stderr",
     "output_type": "stream",
     "text": [
      "100%|██████████| 89/89 [00:04<00:00, 19.84it/s]\n"
     ]
    },
    {
     "name": "stdout",
     "output_type": "stream",
     "text": [
      "--> DONE U-r15-t479700-id8\n",
      "YES helvetios-runs/2021-02-02-107_90/week-L-r15-t479700-id9-opt-107_90.csv\n"
     ]
    },
    {
     "name": "stderr",
     "output_type": "stream",
     "text": [
      "  3%|▎         | 3/89 [00:00<00:03, 21.56it/s]"
     ]
    },
    {
     "name": "stdout",
     "output_type": "stream",
     "text": [
      "===> Integrating for model_output/scenarios_102_90/L-r15-t479700-id9-opi-107_90\n"
     ]
    },
    {
     "name": "stderr",
     "output_type": "stream",
     "text": [
      "100%|██████████| 89/89 [00:04<00:00, 20.96it/s]\n"
     ]
    },
    {
     "name": "stdout",
     "output_type": "stream",
     "text": [
      "--> DONE L-r15-t479700-id9\n",
      "YES helvetios-runs/2021-02-02-107_90/week-U-r15-t1000000-id12-opt-107_90.csv\n"
     ]
    },
    {
     "name": "stderr",
     "output_type": "stream",
     "text": [
      "  3%|▎         | 3/89 [00:00<00:04, 20.60it/s]"
     ]
    },
    {
     "name": "stdout",
     "output_type": "stream",
     "text": [
      "===> Integrating for model_output/scenarios_102_90/U-r15-t1000000-id12-opi-107_90\n"
     ]
    },
    {
     "name": "stderr",
     "output_type": "stream",
     "text": [
      "100%|██████████| 89/89 [00:04<00:00, 20.69it/s]\n"
     ]
    },
    {
     "name": "stdout",
     "output_type": "stream",
     "text": [
      "--> DONE U-r15-t1000000-id12\n",
      "YES helvetios-runs/2021-02-02-107_90/week-L-r15-t1000000-id13-opt-107_90.csv\n"
     ]
    },
    {
     "name": "stderr",
     "output_type": "stream",
     "text": [
      "  3%|▎         | 3/89 [00:00<00:04, 20.97it/s]"
     ]
    },
    {
     "name": "stdout",
     "output_type": "stream",
     "text": [
      "===> Integrating for model_output/scenarios_102_90/L-r15-t1000000-id13-opi-107_90\n"
     ]
    },
    {
     "name": "stderr",
     "output_type": "stream",
     "text": [
      "100%|██████████| 89/89 [00:04<00:00, 21.17it/s]\n"
     ]
    },
    {
     "name": "stdout",
     "output_type": "stream",
     "text": [
      "--> DONE L-r15-t1000000-id13\n"
     ]
    }
   ],
   "source": [
    "scenarios_opt = {}\n",
    "scenarios_baseline = {}\n",
    "## Re-integrate vacc\n",
    "for scenario_name, scenario in scenarios.items():\n",
    "    fname = f\"{outdir}{file_prefix}-{scenario_name}-opt-{nnodes}_{ndays_ocp}.csv\"  # '-'.join(scenario_name.split('-')[:-1])\n",
    "    try:\n",
    "        md = pd.read_csv(fname, index_col= 'date', parse_dates=True)\n",
    "        print(f'YES {fname}')\n",
    "    \n",
    "        # Build scenario\n",
    "        maxvaccrate_regional, delivery_national, stockpile_national_constraint, control_initial = build_scenario(setup, scenario)\n",
    "        M = setup.nnodes\n",
    "        N = setup.ndays - 1\n",
    "        control_initial = np.zeros((M, N))\n",
    "        unvac_nd = np.copy(setup.pop_node)\n",
    "        stockpile = 0\n",
    "        for k in range(ndays_ocp - 1):\n",
    "            stockpile += delivery_national[k]\n",
    "            for nodename in md.place.unique():\n",
    "                nd = setup.ind2name.index(nodename)\n",
    "                to_allocate = md[(md['place'] == nodename) & (md['comp'] == 'vacc')].iloc[k]['value']\n",
    "                to_allocate = min(to_allocate, maxvaccrate_regional[nd, k], unvac_nd[nd], stockpile)\n",
    "                control_initial[nd, k] = to_allocate\n",
    "                stockpile -= to_allocate\n",
    "                unvac_nd[nd] -= to_allocate\n",
    "        p.apply_epicourse(setup, scenario['beta_mult'])\n",
    "        # END Build scenario\n",
    "\n",
    "        results, state_initial, yell, mob = COVIDVaccinationOCP.integrate(N,\n",
    "                                                                          setup=setup,\n",
    "                                                                          parameters=p,\n",
    "                                                                          controls=control_initial,\n",
    "                                                                          save_to=f'{generated_dir}/{scenario_name}-opi-{nnodes}_{ndays}',\n",
    "                                                                          n_rk4_steps=n_int_steps)\n",
    "        results.set_index('date', drop=True, inplace=True)\n",
    "        scenarios_opt[scenario_name] = scenario\n",
    "        print(f'--> DONE {scenario_name}')\n",
    "\n",
    "        if scenario_name.split('-')[0] not in scenarios_baseline:\n",
    "            control_initial = np.zeros((M, N))\n",
    "            # Generate NO vaccination scenarios\n",
    "            results, state_initial, yell, mob = COVIDVaccinationOCP.integrate(N,\n",
    "                                                                      setup=setup,\n",
    "                                                                      parameters=p,\n",
    "                                                                      controls=control_initial,\n",
    "                                                                      save_to=f'{generated_dir}/{scenario_name}-novacc-{nnodes}_{ndays}',\n",
    "                                                                      n_rk4_steps=n_int_steps)\n",
    "            scenarios_baseline[scenario_name.split('-')[0]] = pd.read_csv(f'{generated_dir}/{scenario_name}-novacc-{nnodes}_{ndays}.csv', \n",
    "                                                                         index_col= 'date', parse_dates=True)\n",
    "\n",
    "\n",
    "    except FileNotFoundError:\n",
    "        print(f'NOT {fname}')"
   ]
  },
  {
   "cell_type": "code",
   "execution_count": 24,
   "metadata": {
    "execution": {
     "iopub.execute_input": "2021-02-09T09:53:58.456402Z",
     "iopub.status.busy": "2021-02-09T09:53:58.456146Z",
     "iopub.status.idle": "2021-02-09T09:53:58.738712Z",
     "shell.execute_reply": "2021-02-09T09:53:58.738123Z",
     "shell.execute_reply.started": "2021-02-09T09:53:58.456368Z"
    }
   },
   "outputs": [
    {
     "data": {
      "text/plain": [
       "['model_output/scenarios_102_90/L-r15-t125000-id1-novacc-107_90.csv',\n",
       " 'model_output/scenarios_102_90/U-r15-t125000-id0-novacc-107_90.csv']"
      ]
     },
     "execution_count": 24,
     "metadata": {},
     "output_type": "execute_result"
    }
   ],
   "source": [
    "# REload if restart because of python multiprocessing bug : https://github.com/jupyter/jupyter_client/issues/541\n",
    "import glob\n",
    "baseline_fn = glob.glob(f'{generated_dir}/*novacc*.csv')\n",
    "\n",
    "scenarios_baseline = {}\n",
    "for fn in baseline_fn:\n",
    "    scenarios_baseline[fn.split('-')[0][-1]] = pd.read_csv(fn, index_col= 'date', parse_dates=True)\n",
    "    md = pd.read_csv(fn, index_col= 'date', parse_dates=True)\n",
    "baseline_fn"
   ]
  },
  {
   "cell_type": "code",
   "execution_count": 14,
   "metadata": {
    "execution": {
     "iopub.execute_input": "2021-02-07T10:22:17.614084Z",
     "iopub.status.busy": "2021-02-07T10:22:17.613851Z",
     "iopub.status.idle": "2021-02-07T10:24:05.661341Z",
     "shell.execute_reply": "2021-02-07T10:24:05.659995Z",
     "shell.execute_reply.started": "2021-02-07T10:22:17.614058Z"
    },
    "scrolled": true
   },
   "outputs": [
    {
     "name": "stdout",
     "output_type": "stream",
     "text": [
      "===> Integrating for model_output/scenarios_102_90/L-r15-t125000-id1-inc-107_90===> Integrating for model_output/scenarios_102_90/U-r15-t1000000-id12-inc-107_90\n",
      "\n"
     ]
    },
    {
     "name": "stderr",
     "output_type": "stream",
     "text": [
      "  0%|          | 0/89 [00:00<?, ?it/s]"
     ]
    },
    {
     "name": "stdout",
     "output_type": "stream",
     "text": [
      "===> Integrating for model_output/scenarios_102_90/L-r15-t250000-id5-inc-107_90\n",
      "===> Integrating for model_output/scenarios_102_90/L-r15-t479700-id9-inc-107_90\n"
     ]
    },
    {
     "name": "stderr",
     "output_type": "stream",
     "text": [
      "  0%|          | 0/89 [00:00<?, ?it/s]"
     ]
    },
    {
     "name": "stdout",
     "output_type": "stream",
     "text": [
      "===> Integrating for model_output/scenarios_102_90/U-r15-t479700-id8-inc-107_90===> Integrating for model_output/scenarios_102_90/U-r15-t125000-id0-inc-107_90\n",
      "\n"
     ]
    },
    {
     "name": "stderr",
     "output_type": "stream",
     "text": [
      "  0%|          | 0/89 [00:00<?, ?it/s]"
     ]
    },
    {
     "name": "stdout",
     "output_type": "stream",
     "text": [
      "===> Integrating for model_output/scenarios_102_90/U-r15-t250000-id4-inc-107_90"
     ]
    },
    {
     "name": "stderr",
     "output_type": "stream",
     "text": [
      "  0%|          | 0/89 [00:00<?, ?it/s]"
     ]
    },
    {
     "name": "stdout",
     "output_type": "stream",
     "text": [
      "===> Integrating for model_output/scenarios_102_90/L-r15-t1000000-id13-inc-107_90\n",
      "\n"
     ]
    },
    {
     "name": "stderr",
     "output_type": "stream",
     "text": [
      "100%|██████████| 89/89 [00:05<00:00, 16.94it/s]\n",
      "100%|██████████| 89/89 [00:05<00:00, 16.84it/s]\n",
      "100%|██████████| 89/89 [00:05<00:00, 16.81it/s]\n",
      "100%|██████████| 89/89 [00:05<00:00, 16.85it/s]\n",
      "100%|██████████| 89/89 [00:05<00:00, 16.89it/s]\n",
      "100%|██████████| 89/89 [00:05<00:00, 16.86it/s]\n",
      "100%|██████████| 89/89 [00:05<00:00, 16.77it/s]\n",
      "100%|██████████| 89/89 [00:05<00:00, 16.72it/s]\n"
     ]
    },
    {
     "name": "stdout",
     "output_type": "stream",
     "text": [
      "===> Integrating for model_output/scenarios_102_90/U-r15-t1000000-id12-sus-107_90\n"
     ]
    },
    {
     "name": "stderr",
     "output_type": "stream",
     "text": [
      "  0%|          | 0/89 [00:00<?, ?it/s]"
     ]
    },
    {
     "name": "stdout",
     "output_type": "stream",
     "text": [
      "===> Integrating for model_output/scenarios_102_90/L-r15-t479700-id9-sus-107_90\n"
     ]
    },
    {
     "name": "stderr",
     "output_type": "stream",
     "text": [
      "  0%|          | 0/89 [00:00<?, ?it/s]"
     ]
    },
    {
     "name": "stdout",
     "output_type": "stream",
     "text": [
      "===> Integrating for model_output/scenarios_102_90/L-r15-t125000-id1-sus-107_90\n"
     ]
    },
    {
     "name": "stderr",
     "output_type": "stream",
     "text": [
      "  2%|▏         | 2/89 [00:00<00:06, 12.98it/s]"
     ]
    },
    {
     "name": "stdout",
     "output_type": "stream",
     "text": [
      "===> Integrating for model_output/scenarios_102_90/U-r15-t125000-id0-sus-107_90\n"
     ]
    },
    {
     "name": "stderr",
     "output_type": "stream",
     "text": [
      "  0%|          | 0/89 [00:00<?, ?it/s]"
     ]
    },
    {
     "name": "stdout",
     "output_type": "stream",
     "text": [
      "===> Integrating for model_output/scenarios_102_90/U-r15-t479700-id8-sus-107_90\n",
      "===> Integrating for model_output/scenarios_102_90/U-r15-t250000-id4-sus-107_90\n"
     ]
    },
    {
     "name": "stderr",
     "output_type": "stream",
     "text": [
      "  0%|          | 0/89 [00:00<?, ?it/s]"
     ]
    },
    {
     "name": "stdout",
     "output_type": "stream",
     "text": [
      "===> Integrating for model_output/scenarios_102_90/L-r15-t1000000-id13-sus-107_90\n",
      "===> Integrating for model_output/scenarios_102_90/L-r15-t250000-id5-sus-107_90\n"
     ]
    },
    {
     "name": "stderr",
     "output_type": "stream",
     "text": [
      "100%|██████████| 89/89 [00:06<00:00, 14.17it/s]\n",
      "100%|██████████| 89/89 [00:06<00:00, 14.31it/s]\n",
      "100%|██████████| 89/89 [00:06<00:00, 14.08it/s]\n",
      "100%|██████████| 89/89 [00:06<00:00, 14.22it/s]\n",
      "100%|██████████| 89/89 [00:06<00:00, 14.28it/s]\n",
      "100%|██████████| 89/89 [00:06<00:00, 14.25it/s]\n",
      "\n",
      "100%|██████████| 89/89 [00:06<00:00, 14.06it/s]\n"
     ]
    },
    {
     "name": "stdout",
     "output_type": "stream",
     "text": [
      "===> Integrating for model_output/scenarios_102_90/U-r15-t1000000-id12-pop-107_90\n"
     ]
    },
    {
     "name": "stderr",
     "output_type": "stream",
     "text": [
      "  2%|▏         | 2/89 [00:00<00:07, 11.06it/s]"
     ]
    },
    {
     "name": "stdout",
     "output_type": "stream",
     "text": [
      "===> Integrating for model_output/scenarios_102_90/L-r15-t125000-id1-pop-107_90\n"
     ]
    },
    {
     "name": "stderr",
     "output_type": "stream",
     "text": [
      "  0%|          | 0/89 [00:00<?, ?it/s]"
     ]
    },
    {
     "name": "stdout",
     "output_type": "stream",
     "text": [
      "===> Integrating for model_output/scenarios_102_90/L-r15-t479700-id9-pop-107_90\n",
      "===> Integrating for model_output/scenarios_102_90/L-r15-t250000-id5-pop-107_90"
     ]
    },
    {
     "name": "stderr",
     "output_type": "stream",
     "text": [
      "  0%|          | 0/89 [00:00<?, ?it/s]"
     ]
    },
    {
     "name": "stdout",
     "output_type": "stream",
     "text": [
      "\n"
     ]
    },
    {
     "name": "stderr",
     "output_type": "stream",
     "text": [
      "  3%|▎         | 3/89 [00:00<00:08,  9.79it/s]"
     ]
    },
    {
     "name": "stdout",
     "output_type": "stream",
     "text": [
      "===> Integrating for model_output/scenarios_102_90/U-r15-t125000-id0-pop-107_90\n"
     ]
    },
    {
     "name": "stderr",
     "output_type": "stream",
     "text": [
      "  1%|          | 1/89 [00:00<00:11,  7.88it/s]"
     ]
    },
    {
     "name": "stdout",
     "output_type": "stream",
     "text": [
      "===> Integrating for model_output/scenarios_102_90/L-r15-t1000000-id13-pop-107_90\n"
     ]
    },
    {
     "name": "stderr",
     "output_type": "stream",
     "text": [
      "  0%|          | 0/89 [00:00<?, ?it/s]"
     ]
    },
    {
     "name": "stdout",
     "output_type": "stream",
     "text": [
      "===> Integrating for model_output/scenarios_102_90/U-r15-t479700-id8-pop-107_90\n"
     ]
    },
    {
     "name": "stderr",
     "output_type": "stream",
     "text": [
      "  1%|          | 1/89 [00:00<00:11,  7.94it/s]"
     ]
    },
    {
     "name": "stdout",
     "output_type": "stream",
     "text": [
      "===> Integrating for model_output/scenarios_102_90/U-r15-t250000-id4-pop-107_90\n"
     ]
    },
    {
     "name": "stderr",
     "output_type": "stream",
     "text": [
      "100%|██████████| 89/89 [00:07<00:00, 11.39it/s]\n",
      "100%|██████████| 89/89 [00:07<00:00, 11.47it/s]\n",
      "100%|██████████| 89/89 [00:07<00:00, 11.55it/s]\n",
      "100%|██████████| 89/89 [00:07<00:00, 11.44it/s]\n",
      "100%|██████████| 89/89 [00:07<00:00, 11.60it/s]\n",
      "100%|██████████| 89/89 [00:07<00:00, 11.50it/s]\n",
      "100%|██████████| 89/89 [00:07<00:00, 11.44it/s]\n",
      "100%|██████████| 89/89 [00:07<00:00, 11.48it/s]\n"
     ]
    }
   ],
   "source": [
    "# Generate alternatives:\n",
    "import multiprocessing as mp\n",
    "pool = mp.Pool(mp.cpu_count())\n",
    "\n",
    "\n",
    "def generate_all_alternatives(scenario_name, scenario):\n",
    "    # BY INCIDENCE: \n",
    "    nv = scenarios_baseline[scenario_name.split('-')[0]]\n",
    "    incid = nv[nv['comp'].isin(['yell'])].groupby('placeID').sum()\n",
    "    incid.sort_values('value', ascending=False)\n",
    "    \n",
    "    # Build scenario\n",
    "    maxvaccrate_regional, delivery_national, stockpile_national_constraint, control_initial = build_scenario(setup, scenario)\n",
    "    M = setup.nnodes\n",
    "    N = setup.ndays - 1\n",
    "    control_initial = np.zeros((M, N))\n",
    "    unvac_nd = np.copy(setup.pop_node)\n",
    "    stockpile = 0\n",
    "    for k in range(ndays_ocp-1):\n",
    "        stockpile += delivery_national[k]\n",
    "        for nodename in md.place.unique():\n",
    "            nd = setup.ind2name.index(nodename)\n",
    "            to_allocate = stockpile * incid.loc[nd]['value'] / incid['value'].sum()\n",
    "            to_allocate = min(to_allocate, maxvaccrate_regional[nd, k], unvac_nd[nd], stockpile)\n",
    "            control_initial[nd, k] = to_allocate\n",
    "            stockpile -= to_allocate\n",
    "            unvac_nd[nd] -= to_allocate\n",
    "    p.apply_epicourse(setup, scenario['beta_mult'])\n",
    "    # END Build scenario\n",
    "\n",
    "    results, state_initial, yell, mob = COVIDVaccinationOCP.integrate(N,\n",
    "                                                                      setup=setup,\n",
    "                                                                      parameters=p,\n",
    "                                                                      controls=control_initial,\n",
    "                                                                      save_to=f'{generated_dir}/{scenario_name}-inc-{nnodes}_{ndays}',\n",
    "                                                                      n_rk4_steps=n_int_steps)\n",
    "    results.set_index('date', drop=True, inplace=True)\n",
    "\n",
    "    # BY Suceptibility: \n",
    "    nv = scenarios_baseline[scenario_name.split('-')[0]]\n",
    "    incid = nv[nv['comp'].isin(['S'])].loc[str(setup.start_date)]\n",
    "    incid.set_index('placeID', inplace=True)\n",
    "    \n",
    "    # Build scenario\n",
    "    maxvaccrate_regional, delivery_national, stockpile_national_constraint, control_initial = build_scenario(setup, scenario)\n",
    "    M = setup.nnodes\n",
    "    N = setup.ndays - 1\n",
    "    control_initial = np.zeros((M, N))\n",
    "    unvac_nd = np.copy(setup.pop_node)\n",
    "    stockpile = 0\n",
    "    for k in range(ndays_ocp -1):\n",
    "        stockpile += delivery_national[k]\n",
    "        for nodename in md.place.unique():\n",
    "            nd = setup.ind2name.index(nodename)\n",
    "            to_allocate = stockpile * incid.loc[nd]['value'] / incid['value'].sum()\n",
    "            to_allocate = min(to_allocate, maxvaccrate_regional[nd, k], unvac_nd[nd], stockpile)\n",
    "            control_initial[nd, k] = to_allocate\n",
    "            stockpile -= to_allocate\n",
    "            unvac_nd[nd] -= to_allocate\n",
    "    p.apply_epicourse(setup, scenario['beta_mult'])\n",
    "    # END Build scenario\n",
    "\n",
    "    results, state_initial, yell, mob = COVIDVaccinationOCP.integrate(N,\n",
    "                                                                      setup=setup,\n",
    "                                                                      parameters=p,\n",
    "                                                                      controls=control_initial,\n",
    "                                                                      save_to=f'{generated_dir}/{scenario_name}-sus-{nnodes}_{ndays}',\n",
    "                                                                      n_rk4_steps=n_int_steps)\n",
    "    results.set_index('date', drop=True, inplace=True)\n",
    "    \n",
    "    \n",
    "    # BY POPULATION \n",
    "    # Build scenario\n",
    "    maxvaccrate_regional, delivery_national, stockpile_national_constraint, control_initial = build_scenario(setup, scenario)\n",
    "    M = setup.nnodes\n",
    "    N = setup.ndays - 1\n",
    "    control_initial = np.zeros((M, N))\n",
    "    unvac_nd = np.copy(setup.pop_node)\n",
    "    stockpile = 0\n",
    "    for k in range(ndays_ocp -1):\n",
    "        stockpile += delivery_national[k]\n",
    "        for nodename in md.place.unique():\n",
    "            pop_nd = setup.pop_node[nd]\n",
    "            nd = setup.ind2name.index(nodename)\n",
    "            to_allocate = stockpile * pop_nd / setup.pop_node.sum()\n",
    "            to_allocate = min(to_allocate, maxvaccrate_regional[nd, k], unvac_nd[nd], stockpile)\n",
    "            control_initial[nd, k] = to_allocate\n",
    "            stockpile -= to_allocate\n",
    "            unvac_nd[nd] -= to_allocate\n",
    "    p.apply_epicourse(setup, scenario['beta_mult'])\n",
    "    # END Build scenario\n",
    "\n",
    "    results, state_initial, yell, mob = COVIDVaccinationOCP.integrate(N,\n",
    "                                                                      setup=setup,\n",
    "                                                                      parameters=p,\n",
    "                                                                      controls=control_initial,\n",
    "                                                                      save_to=f'{generated_dir}/{scenario_name}-pop-{nnodes}_{ndays}',\n",
    "                                                                      n_rk4_steps=n_int_steps)\n",
    "    results.set_index('date', drop=True, inplace=True)\n",
    "\n",
    "    #TODO: Centrality based and R0 based\n",
    "    return True\n",
    "    \n",
    "all_sims = pool.starmap(generate_all_alternatives, [(scenario_name, scenario) for scenario_name, scenario in scenarios.items()])"
   ]
  },
  {
   "cell_type": "markdown",
   "metadata": {
    "execution": {
     "iopub.execute_input": "2021-02-01T17:53:52.320543Z",
     "iopub.status.busy": "2021-02-01T17:53:52.320317Z",
     "iopub.status.idle": "2021-02-01T17:53:52.323514Z",
     "shell.execute_reply": "2021-02-01T17:53:52.322898Z",
     "shell.execute_reply.started": "2021-02-01T17:53:52.320517Z"
    }
   },
   "source": [
    "# Generate the averted cases for all posterior draws"
   ]
  },
  {
   "cell_type": "code",
   "execution_count": 15,
   "metadata": {
    "execution": {
     "iopub.execute_input": "2021-02-07T10:24:05.664291Z",
     "iopub.status.busy": "2021-02-07T10:24:05.663996Z",
     "iopub.status.idle": "2021-02-07T10:24:26.585467Z",
     "shell.execute_reply": "2021-02-07T10:24:26.584787Z",
     "shell.execute_reply.started": "2021-02-07T10:24:05.664258Z"
    }
   },
   "outputs": [],
   "source": [
    "import matlab.engine\n",
    "\n",
    "eng = matlab.engine.start_matlab()\n",
    "eng.cd('check-strats/', nargout=0)\n",
    "\n",
    "eng.workspace['timesV'] = matlab.double(np.arange(738167, 738160+ndays).tolist()) # THIS IS FOR JANUARY 11th"
   ]
  },
  {
   "cell_type": "code",
   "execution_count": null,
   "metadata": {},
   "outputs": [],
   "source": []
  },
  {
   "cell_type": "code",
   "execution_count": 16,
   "metadata": {
    "execution": {
     "iopub.execute_input": "2021-02-07T10:24:26.587604Z",
     "iopub.status.busy": "2021-02-07T10:24:26.587411Z",
     "iopub.status.idle": "2021-02-07T10:37:34.111438Z",
     "shell.execute_reply": "2021-02-07T10:37:34.110647Z",
     "shell.execute_reply.started": "2021-02-07T10:24:26.587580Z"
    },
    "scrolled": true
   },
   "outputs": [
    {
     "name": "stdout",
     "output_type": "stream",
     "text": [
      "Doing model_output/scenarios_102_90/U-r15-t125000-id0-opi-107_90.csv\n",
      "Doing model_output/scenarios_102_90/L-r15-t125000-id1-opi-107_90.csv\n",
      "Doing model_output/scenarios_102_90/U-r15-t250000-id4-opi-107_90.csv\n",
      "Doing model_output/scenarios_102_90/L-r15-t250000-id5-opi-107_90.csv\n",
      "Doing model_output/scenarios_102_90/U-r15-t479700-id8-opi-107_90.csv\n",
      "Doing model_output/scenarios_102_90/L-r15-t479700-id9-opi-107_90.csv\n",
      "Doing model_output/scenarios_102_90/U-r15-t1000000-id12-opi-107_90.csv\n",
      "Doing model_output/scenarios_102_90/L-r15-t1000000-id13-opi-107_90.csv\n",
      "Doing model_output/scenarios_102_90/U-r15-t125000-id0-inc-107_90.csv\n",
      "Doing model_output/scenarios_102_90/L-r15-t125000-id1-inc-107_90.csv\n",
      "Doing model_output/scenarios_102_90/U-r15-t250000-id4-inc-107_90.csv\n",
      "Doing model_output/scenarios_102_90/L-r15-t250000-id5-inc-107_90.csv\n",
      "Doing model_output/scenarios_102_90/U-r15-t479700-id8-inc-107_90.csv\n",
      "Doing model_output/scenarios_102_90/L-r15-t479700-id9-inc-107_90.csv\n",
      "Doing model_output/scenarios_102_90/U-r15-t1000000-id12-inc-107_90.csv\n",
      "Doing model_output/scenarios_102_90/L-r15-t1000000-id13-inc-107_90.csv\n",
      "Doing model_output/scenarios_102_90/U-r15-t125000-id0-pop-107_90.csv\n",
      "Doing model_output/scenarios_102_90/L-r15-t125000-id1-pop-107_90.csv\n",
      "Doing model_output/scenarios_102_90/U-r15-t250000-id4-pop-107_90.csv\n",
      "Doing model_output/scenarios_102_90/L-r15-t250000-id5-pop-107_90.csv\n",
      "Doing model_output/scenarios_102_90/U-r15-t479700-id8-pop-107_90.csv\n",
      "Doing model_output/scenarios_102_90/L-r15-t479700-id9-pop-107_90.csv\n",
      "Doing model_output/scenarios_102_90/U-r15-t1000000-id12-pop-107_90.csv\n",
      "Doing model_output/scenarios_102_90/L-r15-t1000000-id13-pop-107_90.csv\n",
      "Doing model_output/scenarios_102_90/U-r15-t125000-id0-sus-107_90.csv\n",
      "Doing model_output/scenarios_102_90/L-r15-t125000-id1-sus-107_90.csv\n",
      "Doing model_output/scenarios_102_90/U-r15-t250000-id4-sus-107_90.csv\n",
      "Doing model_output/scenarios_102_90/L-r15-t250000-id5-sus-107_90.csv\n",
      "Doing model_output/scenarios_102_90/U-r15-t479700-id8-sus-107_90.csv\n",
      "Doing model_output/scenarios_102_90/L-r15-t479700-id9-sus-107_90.csv\n",
      "Doing model_output/scenarios_102_90/U-r15-t1000000-id12-sus-107_90.csv\n",
      "Doing model_output/scenarios_102_90/L-r15-t1000000-id13-sus-107_90.csv\n"
     ]
    }
   ],
   "source": [
    "scn_results = pd.DataFrame(columns=['newdoseperweek', 'method', 'infected'])\n",
    "methods = ['opi','inc', 'pop', 'sus'] # 'opt'\n",
    "\n",
    "for met in methods:\n",
    "    for scenario_name, scenario in scenarios.items():\n",
    "        filename = f'{generated_dir}/{scenario_name}-{met}-{nnodes}_{ndays}.csv'\n",
    "        if os.path.isfile(filename):\n",
    "            print(f'Doing {filename}')\n",
    "            maxvaccrate_regional, stockpile_national, stockpile_national_constraint, control_initial = build_scenario(setup, scenario)\n",
    "            p.apply_epicourse(setup, scenario['beta_mult'])\n",
    "            \n",
    "            md = pd.read_csv(filename, index_col= 'date', parse_dates=True)\n",
    "            \n",
    "            dosesV = md[md['comp'] == 'vacc'].pivot(columns='placeID', values='value').to_numpy()\n",
    "\n",
    "            \n",
    "            eng.workspace['Vdoses'] = matlab.double(dosesV.tolist())\n",
    "            eng.workspace['beta_ratio'] = matlab.double(scenario['beta_mult'][0].tolist())\n",
    "            eng.run('main_script.m', nargout=0)\n",
    "            ens_exposed = np.array(eng.eval('ens_exposed_preprocess')).flatten()\n",
    "        \n",
    "            scn_results = pd.concat([scn_results, pd.DataFrame.from_dict({'newdoseperweek':[int(scenario_name.split('-')[2][1:])]*len(ens_exposed),\n",
    "                                                                           'method': [met]*len(ens_exposed),\n",
    "                                                                           'infected':ens_exposed.tolist(),\n",
    "                                                                           'post_sample':np.arange(len(ens_exposed)),\n",
    "                                                                           'doses': [dosesV.sum()]*len(ens_exposed),\n",
    "                                                                           'scenario-beta': [scenario_name.split('-')[0]]*len(ens_exposed),\n",
    "                                                                           'scenario-rate': [scenario_name.split('-')[1]]*len(ens_exposed),\n",
    "                                                                           'scenario-tot': [scenario_name.split('-')[2]]*len(ens_exposed),\n",
    "                                                                           'scenario': [scenario_name]*len(ens_exposed)\n",
    "                                                                         })])\n",
    "        else:\n",
    "            print(f'not found {scenario_name}')"
   ]
  },
  {
   "cell_type": "code",
   "execution_count": 17,
   "metadata": {
    "execution": {
     "iopub.execute_input": "2021-02-07T10:37:34.114239Z",
     "iopub.status.busy": "2021-02-07T10:37:34.113932Z",
     "iopub.status.idle": "2021-02-07T10:38:24.541562Z",
     "shell.execute_reply": "2021-02-07T10:38:24.540737Z",
     "shell.execute_reply.started": "2021-02-07T10:37:34.114205Z"
    }
   },
   "outputs": [
    {
     "name": "stdout",
     "output_type": "stream",
     "text": [
      "U-r15-t125000-id0\n",
      "L-r15-t125000-id1\n"
     ]
    }
   ],
   "source": [
    "scenarios_baseline = {}\n",
    "for scenario_name, scenario in scenarios.items():\n",
    "    if scenario_name.split('-')[0] not in scenarios_baseline:\n",
    "        print(scenario_name)\n",
    "\n",
    "        maxvaccrate_regional, stockpile_national, stockpile_national_constraint, control_initial = build_scenario(setup, scenario)\n",
    "        \n",
    "        p.apply_epicourse(setup, scenario['beta_mult'])\n",
    "\n",
    "\n",
    "        dosesV = np.zeros_like(dosesV)\n",
    "\n",
    "\n",
    "        eng.workspace['Vdoses'] = matlab.double(dosesV.tolist())\n",
    "        eng.workspace['beta_ratio'] = matlab.double(scenario['beta_mult'][0].tolist())\n",
    "        eng.run('main_script.m', nargout=0)\n",
    "        ens_exposed = np.array(eng.eval('ens_exposed_preprocess')).flatten()\n",
    "        \n",
    "        scenarios_baseline[scenario_name.split('-')[0]] = ens_exposed\n",
    "        "
   ]
  },
  {
   "cell_type": "code",
   "execution_count": 23,
   "metadata": {
    "execution": {
     "iopub.execute_input": "2021-02-07T10:39:24.611530Z",
     "iopub.status.busy": "2021-02-07T10:39:24.611148Z",
     "iopub.status.idle": "2021-02-07T10:39:24.631198Z",
     "shell.execute_reply": "2021-02-07T10:39:24.630709Z",
     "shell.execute_reply.started": "2021-02-07T10:39:24.611508Z"
    }
   },
   "outputs": [
    {
     "data": {
      "text/html": [
       "<div>\n",
       "<style scoped>\n",
       "    .dataframe tbody tr th:only-of-type {\n",
       "        vertical-align: middle;\n",
       "    }\n",
       "\n",
       "    .dataframe tbody tr th {\n",
       "        vertical-align: top;\n",
       "    }\n",
       "\n",
       "    .dataframe thead th {\n",
       "        text-align: right;\n",
       "    }\n",
       "</style>\n",
       "<table border=\"1\" class=\"dataframe\">\n",
       "  <thead>\n",
       "    <tr style=\"text-align: right;\">\n",
       "      <th></th>\n",
       "      <th>newdoseperweek</th>\n",
       "      <th>method</th>\n",
       "      <th>infected</th>\n",
       "      <th>post_sample</th>\n",
       "      <th>doses</th>\n",
       "      <th>scenario-beta</th>\n",
       "      <th>scenario-rate</th>\n",
       "      <th>scenario-tot</th>\n",
       "      <th>scenario</th>\n",
       "      <th>bl</th>\n",
       "      <th>averted</th>\n",
       "      <th>avertedpervacc</th>\n",
       "    </tr>\n",
       "  </thead>\n",
       "  <tbody>\n",
       "    <tr>\n",
       "      <th>0</th>\n",
       "      <td>125000</td>\n",
       "      <td>opi</td>\n",
       "      <td>1.149170e+08</td>\n",
       "      <td>0.0</td>\n",
       "      <td>1.629663e+06</td>\n",
       "      <td>U</td>\n",
       "      <td>r15</td>\n",
       "      <td>t125000</td>\n",
       "      <td>U-r15-t125000-id0</td>\n",
       "      <td>1.168417e+08</td>\n",
       "      <td>1.924678e+06</td>\n",
       "      <td>1.181029</td>\n",
       "    </tr>\n",
       "    <tr>\n",
       "      <th>1</th>\n",
       "      <td>125000</td>\n",
       "      <td>opi</td>\n",
       "      <td>1.585646e+08</td>\n",
       "      <td>1.0</td>\n",
       "      <td>1.629663e+06</td>\n",
       "      <td>U</td>\n",
       "      <td>r15</td>\n",
       "      <td>t125000</td>\n",
       "      <td>U-r15-t125000-id0</td>\n",
       "      <td>1.602782e+08</td>\n",
       "      <td>1.713631e+06</td>\n",
       "      <td>1.051525</td>\n",
       "    </tr>\n",
       "    <tr>\n",
       "      <th>2</th>\n",
       "      <td>125000</td>\n",
       "      <td>opi</td>\n",
       "      <td>5.315905e+07</td>\n",
       "      <td>2.0</td>\n",
       "      <td>1.629663e+06</td>\n",
       "      <td>U</td>\n",
       "      <td>r15</td>\n",
       "      <td>t125000</td>\n",
       "      <td>U-r15-t125000-id0</td>\n",
       "      <td>5.366247e+07</td>\n",
       "      <td>5.034211e+05</td>\n",
       "      <td>0.308911</td>\n",
       "    </tr>\n",
       "    <tr>\n",
       "      <th>3</th>\n",
       "      <td>125000</td>\n",
       "      <td>opi</td>\n",
       "      <td>1.597302e+08</td>\n",
       "      <td>3.0</td>\n",
       "      <td>1.629663e+06</td>\n",
       "      <td>U</td>\n",
       "      <td>r15</td>\n",
       "      <td>t125000</td>\n",
       "      <td>U-r15-t125000-id0</td>\n",
       "      <td>1.630720e+08</td>\n",
       "      <td>3.341819e+06</td>\n",
       "      <td>2.050620</td>\n",
       "    </tr>\n",
       "    <tr>\n",
       "      <th>4</th>\n",
       "      <td>125000</td>\n",
       "      <td>opi</td>\n",
       "      <td>9.898532e+07</td>\n",
       "      <td>4.0</td>\n",
       "      <td>1.629663e+06</td>\n",
       "      <td>U</td>\n",
       "      <td>r15</td>\n",
       "      <td>t125000</td>\n",
       "      <td>U-r15-t125000-id0</td>\n",
       "      <td>9.935567e+07</td>\n",
       "      <td>3.703520e+05</td>\n",
       "      <td>0.227257</td>\n",
       "    </tr>\n",
       "    <tr>\n",
       "      <th>...</th>\n",
       "      <td>...</td>\n",
       "      <td>...</td>\n",
       "      <td>...</td>\n",
       "      <td>...</td>\n",
       "      <td>...</td>\n",
       "      <td>...</td>\n",
       "      <td>...</td>\n",
       "      <td>...</td>\n",
       "      <td>...</td>\n",
       "      <td>...</td>\n",
       "      <td>...</td>\n",
       "      <td>...</td>\n",
       "    </tr>\n",
       "    <tr>\n",
       "      <th>97</th>\n",
       "      <td>1000000</td>\n",
       "      <td>sus</td>\n",
       "      <td>3.632644e+07</td>\n",
       "      <td>97.0</td>\n",
       "      <td>1.300658e+07</td>\n",
       "      <td>L</td>\n",
       "      <td>r15</td>\n",
       "      <td>t1000000</td>\n",
       "      <td>L-r15-t1000000-id13</td>\n",
       "      <td>3.705820e+07</td>\n",
       "      <td>7.317600e+05</td>\n",
       "      <td>0.056261</td>\n",
       "    </tr>\n",
       "    <tr>\n",
       "      <th>98</th>\n",
       "      <td>1000000</td>\n",
       "      <td>sus</td>\n",
       "      <td>3.258646e+07</td>\n",
       "      <td>98.0</td>\n",
       "      <td>1.300658e+07</td>\n",
       "      <td>L</td>\n",
       "      <td>r15</td>\n",
       "      <td>t1000000</td>\n",
       "      <td>L-r15-t1000000-id13</td>\n",
       "      <td>3.304409e+07</td>\n",
       "      <td>4.576227e+05</td>\n",
       "      <td>0.035184</td>\n",
       "    </tr>\n",
       "    <tr>\n",
       "      <th>99</th>\n",
       "      <td>1000000</td>\n",
       "      <td>sus</td>\n",
       "      <td>3.652961e+07</td>\n",
       "      <td>99.0</td>\n",
       "      <td>1.300658e+07</td>\n",
       "      <td>L</td>\n",
       "      <td>r15</td>\n",
       "      <td>t1000000</td>\n",
       "      <td>L-r15-t1000000-id13</td>\n",
       "      <td>3.710113e+07</td>\n",
       "      <td>5.715172e+05</td>\n",
       "      <td>0.043941</td>\n",
       "    </tr>\n",
       "    <tr>\n",
       "      <th>100</th>\n",
       "      <td>1000000</td>\n",
       "      <td>sus</td>\n",
       "      <td>2.963616e+07</td>\n",
       "      <td>100.0</td>\n",
       "      <td>1.300658e+07</td>\n",
       "      <td>L</td>\n",
       "      <td>r15</td>\n",
       "      <td>t1000000</td>\n",
       "      <td>L-r15-t1000000-id13</td>\n",
       "      <td>3.000549e+07</td>\n",
       "      <td>3.693269e+05</td>\n",
       "      <td>0.028395</td>\n",
       "    </tr>\n",
       "    <tr>\n",
       "      <th>101</th>\n",
       "      <td>1000000</td>\n",
       "      <td>sus</td>\n",
       "      <td>3.032046e+07</td>\n",
       "      <td>101.0</td>\n",
       "      <td>1.300658e+07</td>\n",
       "      <td>L</td>\n",
       "      <td>r15</td>\n",
       "      <td>t1000000</td>\n",
       "      <td>L-r15-t1000000-id13</td>\n",
       "      <td>3.070764e+07</td>\n",
       "      <td>3.871781e+05</td>\n",
       "      <td>0.029768</td>\n",
       "    </tr>\n",
       "  </tbody>\n",
       "</table>\n",
       "<p>3264 rows × 12 columns</p>\n",
       "</div>"
      ],
      "text/plain": [
       "    newdoseperweek method      infected  post_sample         doses  \\\n",
       "0           125000    opi  1.149170e+08          0.0  1.629663e+06   \n",
       "1           125000    opi  1.585646e+08          1.0  1.629663e+06   \n",
       "2           125000    opi  5.315905e+07          2.0  1.629663e+06   \n",
       "3           125000    opi  1.597302e+08          3.0  1.629663e+06   \n",
       "4           125000    opi  9.898532e+07          4.0  1.629663e+06   \n",
       "..             ...    ...           ...          ...           ...   \n",
       "97         1000000    sus  3.632644e+07         97.0  1.300658e+07   \n",
       "98         1000000    sus  3.258646e+07         98.0  1.300658e+07   \n",
       "99         1000000    sus  3.652961e+07         99.0  1.300658e+07   \n",
       "100        1000000    sus  2.963616e+07        100.0  1.300658e+07   \n",
       "101        1000000    sus  3.032046e+07        101.0  1.300658e+07   \n",
       "\n",
       "    scenario-beta scenario-rate scenario-tot             scenario  \\\n",
       "0               U           r15      t125000    U-r15-t125000-id0   \n",
       "1               U           r15      t125000    U-r15-t125000-id0   \n",
       "2               U           r15      t125000    U-r15-t125000-id0   \n",
       "3               U           r15      t125000    U-r15-t125000-id0   \n",
       "4               U           r15      t125000    U-r15-t125000-id0   \n",
       "..            ...           ...          ...                  ...   \n",
       "97              L           r15     t1000000  L-r15-t1000000-id13   \n",
       "98              L           r15     t1000000  L-r15-t1000000-id13   \n",
       "99              L           r15     t1000000  L-r15-t1000000-id13   \n",
       "100             L           r15     t1000000  L-r15-t1000000-id13   \n",
       "101             L           r15     t1000000  L-r15-t1000000-id13   \n",
       "\n",
       "               bl       averted  avertedpervacc  \n",
       "0    1.168417e+08  1.924678e+06        1.181029  \n",
       "1    1.602782e+08  1.713631e+06        1.051525  \n",
       "2    5.366247e+07  5.034211e+05        0.308911  \n",
       "3    1.630720e+08  3.341819e+06        2.050620  \n",
       "4    9.935567e+07  3.703520e+05        0.227257  \n",
       "..            ...           ...             ...  \n",
       "97   3.705820e+07  7.317600e+05        0.056261  \n",
       "98   3.304409e+07  4.576227e+05        0.035184  \n",
       "99   3.710113e+07  5.715172e+05        0.043941  \n",
       "100  3.000549e+07  3.693269e+05        0.028395  \n",
       "101  3.070764e+07  3.871781e+05        0.029768  \n",
       "\n",
       "[3264 rows x 12 columns]"
      ]
     },
     "execution_count": 23,
     "metadata": {},
     "output_type": "execute_result"
    }
   ],
   "source": [
    "scn_results"
   ]
  },
  {
   "cell_type": "code",
   "execution_count": 19,
   "metadata": {
    "execution": {
     "iopub.execute_input": "2021-02-07T10:38:24.571015Z",
     "iopub.status.busy": "2021-02-07T10:38:24.570788Z",
     "iopub.status.idle": "2021-02-07T10:38:24.576808Z",
     "shell.execute_reply": "2021-02-07T10:38:24.576084Z",
     "shell.execute_reply.started": "2021-02-07T10:38:24.570987Z"
    }
   },
   "outputs": [],
   "source": [
    "nbtileU = int(len(scn_results.loc[scn_results['scenario-beta'] == 'U', 'scenario-tot'])/len(scenarios_baseline['U']))\n",
    "nbtileL = int(len(scn_results.loc[scn_results['scenario-beta'] == 'L', 'scenario-tot'])/len(scenarios_baseline['L']))"
   ]
  },
  {
   "cell_type": "code",
   "execution_count": 20,
   "metadata": {
    "execution": {
     "iopub.execute_input": "2021-02-07T10:38:24.578257Z",
     "iopub.status.busy": "2021-02-07T10:38:24.578020Z",
     "iopub.status.idle": "2021-02-07T10:38:24.587086Z",
     "shell.execute_reply": "2021-02-07T10:38:24.586405Z",
     "shell.execute_reply.started": "2021-02-07T10:38:24.578229Z"
    }
   },
   "outputs": [],
   "source": [
    "scn_results['bl'] = 0\n",
    "\n",
    "scn_results.loc[scn_results['scenario-beta'] == 'U', 'bl'] = np.tile(scenarios_baseline['U'],nbtileU)\n",
    "scn_results.loc[scn_results['scenario-beta'] == 'L', 'bl'] = np.tile(scenarios_baseline['L'],nbtileL)"
   ]
  },
  {
   "cell_type": "code",
   "execution_count": 21,
   "metadata": {
    "execution": {
     "iopub.execute_input": "2021-02-07T10:38:24.589909Z",
     "iopub.status.busy": "2021-02-07T10:38:24.589649Z",
     "iopub.status.idle": "2021-02-07T10:38:24.595196Z",
     "shell.execute_reply": "2021-02-07T10:38:24.594488Z",
     "shell.execute_reply.started": "2021-02-07T10:38:24.589874Z"
    }
   },
   "outputs": [],
   "source": [
    "scn_results['averted'] = scn_results['bl'] - scn_results['infected']\n",
    "scn_results['avertedpervacc'] = scn_results['averted']/scn_results['doses']"
   ]
  },
  {
   "cell_type": "code",
   "execution_count": 22,
   "metadata": {
    "execution": {
     "iopub.execute_input": "2021-02-07T10:38:24.596780Z",
     "iopub.status.busy": "2021-02-07T10:38:24.596558Z",
     "iopub.status.idle": "2021-02-07T10:38:24.647754Z",
     "shell.execute_reply": "2021-02-07T10:38:24.646781Z",
     "shell.execute_reply.started": "2021-02-07T10:38:24.596753Z"
    }
   },
   "outputs": [],
   "source": [
    "scn_results.to_csv(f'{generated_dir}/all_summary.csv')"
   ]
  },
  {
   "cell_type": "code",
   "execution_count": 4,
   "metadata": {
    "execution": {
     "iopub.execute_input": "2021-02-12T16:39:54.943545Z",
     "iopub.status.busy": "2021-02-12T16:39:54.943349Z",
     "iopub.status.idle": "2021-02-12T16:39:54.947888Z",
     "shell.execute_reply": "2021-02-12T16:39:54.947279Z",
     "shell.execute_reply.started": "2021-02-12T16:39:54.943523Z"
    }
   },
   "outputs": [],
   "source": [
    "scenarios_specs = {\n",
    "'vaccpermonthM': [1.5, 15, 150],  # ax.set_ylim(0.05, 0.4)\n",
    "# 'vacctotalM': [2, 5, 10, 15, 20],\n",
    "'newdoseperweek': [125000, 250000, 479700, 1e6],\n",
    "'epicourse': ['U', 'L']  # 'U'\n",
    "}\n",
    "\n",
    "import itertools\n",
    "# Compute all permutatios\n",
    "keys, values = zip(*scenarios_specs.items())\n",
    "permuted_specs = [dict(zip(keys, v)) for v in itertools.product(*values)]"
   ]
  },
  {
   "cell_type": "code",
   "execution_count": 15,
   "metadata": {
    "execution": {
     "iopub.execute_input": "2021-02-12T16:51:10.255505Z",
     "iopub.status.busy": "2021-02-12T16:51:10.255335Z",
     "iopub.status.idle": "2021-02-12T16:51:10.264931Z",
     "shell.execute_reply": "2021-02-12T16:51:10.264124Z",
     "shell.execute_reply.started": "2021-02-12T16:51:10.255486Z"
    }
   },
   "outputs": [
    {
     "data": {
      "text/html": [
       "<div>\n",
       "<style scoped>\n",
       "    .dataframe tbody tr th:only-of-type {\n",
       "        vertical-align: middle;\n",
       "    }\n",
       "\n",
       "    .dataframe tbody tr th {\n",
       "        vertical-align: top;\n",
       "    }\n",
       "\n",
       "    .dataframe thead th {\n",
       "        text-align: right;\n",
       "    }\n",
       "</style>\n",
       "<table border=\"1\" class=\"dataframe\">\n",
       "  <thead>\n",
       "    <tr style=\"text-align: right;\">\n",
       "      <th></th>\n",
       "      <th>vaccpermonthM</th>\n",
       "      <th>newdoseperweek</th>\n",
       "      <th>epicourse</th>\n",
       "    </tr>\n",
       "  </thead>\n",
       "  <tbody>\n",
       "    <tr>\n",
       "      <th>0</th>\n",
       "      <td>1.5</td>\n",
       "      <td>479700.0</td>\n",
       "      <td>U</td>\n",
       "    </tr>\n",
       "    <tr>\n",
       "      <th>1</th>\n",
       "      <td>1.5</td>\n",
       "      <td>479700.0</td>\n",
       "      <td>L</td>\n",
       "    </tr>\n",
       "    <tr>\n",
       "      <th>2</th>\n",
       "      <td>15.0</td>\n",
       "      <td>125000.0</td>\n",
       "      <td>U</td>\n",
       "    </tr>\n",
       "    <tr>\n",
       "      <th>3</th>\n",
       "      <td>15.0</td>\n",
       "      <td>125000.0</td>\n",
       "      <td>L</td>\n",
       "    </tr>\n",
       "    <tr>\n",
       "      <th>4</th>\n",
       "      <td>15.0</td>\n",
       "      <td>250000.0</td>\n",
       "      <td>U</td>\n",
       "    </tr>\n",
       "    <tr>\n",
       "      <th>5</th>\n",
       "      <td>15.0</td>\n",
       "      <td>250000.0</td>\n",
       "      <td>L</td>\n",
       "    </tr>\n",
       "    <tr>\n",
       "      <th>6</th>\n",
       "      <td>15.0</td>\n",
       "      <td>479700.0</td>\n",
       "      <td>U</td>\n",
       "    </tr>\n",
       "    <tr>\n",
       "      <th>7</th>\n",
       "      <td>15.0</td>\n",
       "      <td>479700.0</td>\n",
       "      <td>L</td>\n",
       "    </tr>\n",
       "    <tr>\n",
       "      <th>8</th>\n",
       "      <td>15.0</td>\n",
       "      <td>1000000.0</td>\n",
       "      <td>U</td>\n",
       "    </tr>\n",
       "    <tr>\n",
       "      <th>9</th>\n",
       "      <td>15.0</td>\n",
       "      <td>1000000.0</td>\n",
       "      <td>L</td>\n",
       "    </tr>\n",
       "    <tr>\n",
       "      <th>10</th>\n",
       "      <td>150.0</td>\n",
       "      <td>479700.0</td>\n",
       "      <td>U</td>\n",
       "    </tr>\n",
       "    <tr>\n",
       "      <th>11</th>\n",
       "      <td>150.0</td>\n",
       "      <td>479700.0</td>\n",
       "      <td>L</td>\n",
       "    </tr>\n",
       "  </tbody>\n",
       "</table>\n",
       "</div>"
      ],
      "text/plain": [
       "    vaccpermonthM  newdoseperweek epicourse\n",
       "0             1.5        479700.0         U\n",
       "1             1.5        479700.0         L\n",
       "2            15.0        125000.0         U\n",
       "3            15.0        125000.0         L\n",
       "4            15.0        250000.0         U\n",
       "5            15.0        250000.0         L\n",
       "6            15.0        479700.0         U\n",
       "7            15.0        479700.0         L\n",
       "8            15.0       1000000.0         U\n",
       "9            15.0       1000000.0         L\n",
       "10          150.0        479700.0         U\n",
       "11          150.0        479700.0         L"
      ]
     },
     "execution_count": 15,
     "metadata": {},
     "output_type": "execute_result"
    }
   ],
   "source": [
    "specs = pd.DataFrame.from_dict(permuted_specs)\n",
    "specs = specs[((specs['vaccpermonthM'] == 15.0) | (specs['newdoseperweek'] == 479700.0))].reset_index(drop = True)"
   ]
  },
  {
   "cell_type": "code",
   "execution_count": 19,
   "metadata": {
    "execution": {
     "iopub.execute_input": "2021-02-12T17:34:28.232288Z",
     "iopub.status.busy": "2021-02-12T17:34:28.232067Z",
     "iopub.status.idle": "2021-02-12T17:34:28.238757Z",
     "shell.execute_reply": "2021-02-12T17:34:28.238066Z",
     "shell.execute_reply.started": "2021-02-12T17:34:28.232263Z"
    }
   },
   "outputs": [],
   "source": [
    "specs.to_csv('scenarios_specs_2021-02-12.csv')"
   ]
  }
 ],
 "metadata": {
  "kernelspec": {
   "display_name": "Python (ocp-covid)",
   "language": "python",
   "name": "ocp-covid"
  },
  "language_info": {
   "codemirror_mode": {
    "name": "ipython",
    "version": 3
   },
   "file_extension": ".py",
   "mimetype": "text/x-python",
   "name": "python",
   "nbconvert_exporter": "python",
   "pygments_lexer": "ipython3",
   "version": "3.7.9"
  }
 },
 "nbformat": 4,
 "nbformat_minor": 4
}
